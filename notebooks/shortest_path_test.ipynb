{
 "cells": [
  {
   "cell_type": "code",
   "execution_count": 46,
   "id": "27465091-dc22-4edd-a05b-c1a679789a57",
   "metadata": {},
   "outputs": [],
   "source": [
    "import importlib\n",
    "\n",
    "import torch\n",
    "import numpy as np\n",
    "import matplotlib.pyplot as plt\n",
    "\n",
    "import decision_learning.data.shortest_path_grid\n",
    "importlib.reload(decision_learning.data.shortest_path_grid)\n",
    "from decision_learning.data.shortest_path import piecewise_linear"
   ]
  },
  {
   "cell_type": "markdown",
   "id": "00546497-a12e-4a11-8234-ae58cb7b97e7",
   "metadata": {},
   "source": [
    "### Testing Piecewise Linear Function"
   ]
  },
  {
   "cell_type": "code",
   "execution_count": 2,
   "id": "d305ece6-f64b-469a-8189-a1650282b9db",
   "metadata": {},
   "outputs": [
    {
     "name": "stderr",
     "output_type": "stream",
     "text": [
      "2024-09-30 17:48:38,877 - decision_learning.data.shortest_path - DEBUG - chg_pt: 0.55\n",
      "2024-09-30 17:48:38,878 - decision_learning.data.shortest_path - DEBUG - chg_pt: 0.0\n"
     ]
    },
    {
     "data": {
      "text/plain": [
       "<matplotlib.collections.PathCollection at 0x7f4c36256210>"
      ]
     },
     "execution_count": 2,
     "metadata": {},
     "output_type": "execute_result"
    },
    {
     "data": {
      "image/png": "[encoded data removed]",
      "text/plain": [
       "<Figure size 640x480 with 1 Axes>"
      ]
     },
     "metadata": {},
     "output_type": "display_data"
    }
   ],
   "source": [
    "rnd = np.random.RandomState(1)\n",
    "x = rnd.uniform(low=0, \n",
    "            high=2, \n",
    "            size=1000)\n",
    "y_red = piecewise_linear(x,\n",
    "                    slope0=4, \n",
    "                    int0=0,\n",
    "                    slope1=0, \n",
    "                    int1=2.2)\n",
    "y_blue = piecewise_linear(x,\n",
    "                    slope0=0, \n",
    "                    int0=2.2,\n",
    "                    slope1=0, \n",
    "                    int1=2.2)\n",
    "plt.scatter(x, y_red)\n",
    "plt.scatter(x, y_blue)"
   ]
  },
  {
   "cell_type": "code",
   "execution_count": 3,
   "id": "8abcbb4b-2339-4080-bfbe-07a1db5cacd0",
   "metadata": {},
   "outputs": [],
   "source": [
    "# Assume list1 and list2 are your lists of arrays\n",
    "list1 = np.array([1, 2, 3]) \n",
    "list2 = np.array([4, 5, 6])\n",
    "\n",
    "# Concatenate the lists\n",
    "combined = np.concatenate((list1,list2))\n",
    "\n",
    "# # Create an array of all possible indices\n",
    "# all_indices = np.arange(max(combined) + 1)\n",
    "\n",
    "# # Find the indices not in the combined list\n",
    "# not_in_combined = np.setdiff1d(all_indices, combined)"
   ]
  },
  {
   "cell_type": "markdown",
   "id": "f323e2c4-35f8-4eb7-99dd-8b65dbabe58f",
   "metadata": {},
   "source": [
    "# Generate Data"
   ]
  },
  {
   "cell_type": "code",
   "execution_count": 5,
   "id": "d35609b6-2eb4-47df-8647-e637f3719533",
   "metadata": {},
   "outputs": [],
   "source": [
    "importlib.reload(decision_learning.data.shortest_path)\n",
    "from decision_learning.data.shortest_path import add_noise, genDataPlant, shortest_path_synthetic_sym_no_noise, shortest_path_synthetic_plant_path"
   ]
  },
  {
   "cell_type": "code",
   "execution_count": 6,
   "id": "670c0fb9-82ec-43a7-8a40-300c1de3ae46",
   "metadata": {},
   "outputs": [],
   "source": [
    "indices_arr = torch.randperm(100000)\n",
    "indices_arr_test = torch.randperm(100000)\n",
    "\n",
    "sim = 0\n",
    "n_arr = [200, 400, 800, 1600]\n",
    "ep_arr = ['unif', 'normal']\n",
    "trials = 100\n",
    "\n",
    "exp_arr = []\n",
    "for n in n_arr:\n",
    "    for ep in ep_arr:\n",
    "        for t in range(trials):\n",
    "            exp_arr.append([n, ep, t])\n",
    "\n",
    "exp = exp_arr[sim]\n",
    "ep_type = exp[1]\n",
    "trial = exp[2]\n",
    "\n",
    "# generate data\n",
    "grid = (5, 5)  # grid size\n",
    "num_data = exp[0]  # number of training data\n",
    "num_feat = 5  # size of feature\n",
    "deg = 6  # polynomial degree\n",
    "e = .4  # noise width\n",
    "\n"
   ]
  },
  {
   "cell_type": "code",
   "execution_count": 35,
   "id": "f2f89e12-120c-44e2-9578-67299153e866",
   "metadata": {},
   "outputs": [],
   "source": [
    "importlib.reload(decision_learning.data.shortest_path)\n",
    "from decision_learning.data.shortest_path import add_noise, genData, genDataPlant, shortest_path_synthetic_sym_no_noise, shortest_path_synthetic_plant_path"
   ]
  },
  {
   "cell_type": "code",
   "execution_count": 25,
   "id": "43cac67e-32c9-4a93-a3fd-1946f7f78afc",
   "metadata": {},
   "outputs": [],
   "source": [
    "planted_good_pwl_params = {'slope0':0, \n",
    "                    'int0':2,\n",
    "                    'slope1':0, \n",
    "                    'int1':2}\n",
    "planted_bad_pwl_params = {'slope0':4, \n",
    "                    'int0':0,\n",
    "                    'slope1':0, \n",
    "                    'int1':2.2}"
   ]
  },
  {
   "cell_type": "code",
   "execution_count": 26,
   "id": "b2d2b284-e0da-413b-a8e1-4dd23d6c5c6b",
   "metadata": {},
   "outputs": [
    {
     "name": "stderr",
     "output_type": "stream",
     "text": [
      "2024-10-01 13:22:39,745 - decision_learning.data.shortest_path - DEBUG - good_bad_edges: [ 1  4  9 16 24 31 36 39  0  3  8 15 23 30 35 38], remain_edges: [ 2  5  6  7 10 11 12 13 14 17 18 19 20 21 22 25 26 27 28 29 32 33 34 37]\n",
      "2024-10-01 13:22:39,746 - decision_learning.data.shortest_path - DEBUG - chg_pt: 0.0\n",
      "2024-10-01 13:22:39,746 - decision_learning.data.shortest_path - DEBUG - chg_pt: 0.55\n"
     ]
    }
   ],
   "source": [
    "data = shortest_path_synthetic_sym_no_noise(num_data=num_data+200,\n",
    "        num_features=num_feat, \n",
    "        grid=grid, \n",
    "        deg=deg, \n",
    "        seed=indices_arr[trial])\n",
    "\n",
    "\n",
    "data_plant = shortest_path_synthetic_plant_path(planted_good_pwl_params=planted_good_pwl_params,\n",
    "                                   planted_bad_pwl_params=planted_bad_pwl_params,\n",
    "                                   seed=indices_arr[trial],\n",
    "                                   **data)\n",
    "data_noise = add_noise(c=data_plant['c_plant'],\n",
    "          noise_type=ep_type,\n",
    "          noise_width=e,\n",
    "          seed=indices_arr[trial])"
   ]
  },
  {
   "cell_type": "markdown",
   "id": "626ec459-2a6f-45b0-ad4f-1da2ffc663b3",
   "metadata": {},
   "source": [
    "One genData Function"
   ]
  },
  {
   "cell_type": "code",
   "execution_count": 36,
   "id": "b7c66e02-6f27-4d7b-b3fc-5bc3ee1bdce2",
   "metadata": {},
   "outputs": [],
   "source": [
    "final_data = genData(num_data=num_data+200,\n",
    "        num_features=num_feat, \n",
    "        grid=grid, \n",
    "        deg=deg, \n",
    "        noise_type=ep_type,\n",
    "        noise_width=e,\n",
    "        seed=indices_arr[trial],     \n",
    "        plant_edges=False,\n",
    "        planted_good_pwl_params=planted_good_pwl_params,\n",
    "        planted_bad_pwl_params=planted_bad_pwl_params)"
   ]
  },
  {
   "cell_type": "code",
   "execution_count": 54,
   "id": "e38f4015-fa7b-4b9a-b8c0-dfa891921c86",
   "metadata": {},
   "outputs": [
    {
     "data": {
      "text/plain": [
       "(400, 40)"
      ]
     },
     "execution_count": 54,
     "metadata": {},
     "output_type": "execute_result"
    }
   ],
   "source": [
    "final_data['cost'].shape"
   ]
  },
  {
   "cell_type": "code",
   "execution_count": 48,
   "id": "68ada215-6859-4f7b-bbbb-7b201ce626cd",
   "metadata": {},
   "outputs": [],
   "source": [
    "import decision_learning.modeling.models\n",
    "importlib.reload(decision_learning.modeling.models)\n",
    "from decision_learning.modeling.models import LinearRegression"
   ]
  },
  {
   "cell_type": "code",
   "execution_count": 56,
   "id": "96e851ce-de37-4b23-a6dc-73c6b51f2dd4",
   "metadata": {},
   "outputs": [],
   "source": [
    "lr_mod = LinearRegression(input_dim=final_data['feat'].shape[1],\n",
    "                 output_dim=final_data['cost'].shape[1])"
   ]
  },
  {
   "cell_type": "code",
   "execution_count": 61,
   "id": "29bba872-fadd-4a87-85a3-e6f4f9641dfd",
   "metadata": {},
   "outputs": [
    {
     "data": {
      "text/plain": [
       "tensor([[ 2.0115,  0.7579,  1.3459, -0.8859, -1.3974],\n",
       "        [ 0.5499, -2.2782, -0.6105,  0.5189,  1.9282],\n",
       "        [-0.0867,  0.4362,  0.5707, -0.9414,  1.8028],\n",
       "        ...,\n",
       "        [-0.6134, -0.7305, -0.0533, -0.9726,  0.5547],\n",
       "        [-0.3720, -1.0784,  1.3394,  1.2146, -0.4467],\n",
       "        [ 0.5275,  0.5807,  1.2051, -0.2589, -0.0513]])"
      ]
     },
     "execution_count": 61,
     "metadata": {},
     "output_type": "execute_result"
    }
   ],
   "source": []
  },
  {
   "cell_type": "code",
   "execution_count": 62,
   "id": "b1ecaaf9-3d36-438a-ae03-5a5615b39e1f",
   "metadata": {},
   "outputs": [],
   "source": [
    "c_pred = lr_mod(torch.tensor(final_data['feat'], dtype=torch.float))"
   ]
  },
  {
   "cell_type": "code",
   "execution_count": 64,
   "id": "84a93808-214f-411c-9d71-772b35aa9795",
   "metadata": {},
   "outputs": [
    {
     "data": {
      "text/plain": [
       "torch.Size([400, 40])"
      ]
     },
     "execution_count": 64,
     "metadata": {},
     "output_type": "execute_result"
    }
   ],
   "source": [
    "c_pred.shape"
   ]
  }
 ],
 "metadata": {
  "kernelspec": {
   "display_name": "Python (pyepo_dsl)",
   "language": "python",
   "name": "pyepo_dsl"
  },
  "language_info": {
   "codemirror_mode": {
    "name": "ipython",
    "version": 3
   },
   "file_extension": ".py",
   "mimetype": "text/x-python",
   "name": "python",
   "nbconvert_exporter": "python",
   "pygments_lexer": "ipython3",
   "version": "3.11.7"
  }
 },
 "nbformat": 4,
 "nbformat_minor": 5
}
