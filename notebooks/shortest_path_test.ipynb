{
 "cells": [
  {
   "cell_type": "code",
   "execution_count": 1,
   "id": "27465091-dc22-4edd-a05b-c1a679789a57",
   "metadata": {},
   "outputs": [],
   "source": [
    "import importlib\n",
    "\n",
    "import torch\n",
    "import numpy as np\n",
    "import matplotlib.pyplot as plt\n",
    "\n",
    "import decision_learning.data.shortest_path_grid\n",
    "importlib.reload(decision_learning.data.shortest_path_grid)\n",
    "from decision_learning.data.shortest_path_grid import piecewise_linear"
   ]
  },
  {
   "cell_type": "markdown",
   "id": "00546497-a12e-4a11-8234-ae58cb7b97e7",
   "metadata": {},
   "source": [
    "### Testing Piecewise Linear Function"
   ]
  },
  {
   "cell_type": "code",
   "execution_count": 2,
   "id": "d305ece6-f64b-469a-8189-a1650282b9db",
   "metadata": {},
   "outputs": [
    {
     "name": "stderr",
     "output_type": "stream",
     "text": [
      "2024-10-30 08:49:39,155 - decision_learning.data.shortest_path_grid - DEBUG - chg_pt: 0.55\n",
      "2024-10-30 08:49:39,158 - decision_learning.data.shortest_path_grid - DEBUG - chg_pt: 0.0\n"
     ]
    },
    {
     "data": {
      "text/plain": [
       "<matplotlib.collections.PathCollection at 0x7f9ecd70f390>"
      ]
     },
     "execution_count": 2,
     "metadata": {},
     "output_type": "execute_result"
    },
    {
     "data": {
      "image/png": "[encoded data removed]",
      "text/plain": [
       "<Figure size 640x480 with 1 Axes>"
      ]
     },
     "metadata": {},
     "output_type": "display_data"
    }
   ],
   "source": [
    "rnd = np.random.RandomState(1)\n",
    "x = rnd.uniform(low=0, \n",
    "            high=2, \n",
    "            size=1000)\n",
    "y_red = piecewise_linear(x,\n",
    "                    slope0=4, \n",
    "                    int0=0,\n",
    "                    slope1=0, \n",
    "                    int1=2.2)\n",
    "y_blue = piecewise_linear(x,\n",
    "                    slope0=0, \n",
    "                    int0=2.2,\n",
    "                    slope1=0, \n",
    "                    int1=2.2)\n",
    "plt.scatter(x, y_red)\n",
    "plt.scatter(x, y_blue)"
   ]
  },
  {
   "cell_type": "code",
   "execution_count": 3,
   "id": "8abcbb4b-2339-4080-bfbe-07a1db5cacd0",
   "metadata": {},
   "outputs": [],
   "source": [
    "# Assume list1 and list2 are your lists of arrays\n",
    "list1 = np.array([1, 2, 3]) \n",
    "list2 = np.array([4, 5, 6])\n",
    "\n",
    "# Concatenate the lists\n",
    "combined = np.concatenate((list1,list2))\n",
    "\n",
    "# # Create an array of all possible indices\n",
    "# all_indices = np.arange(max(combined) + 1)\n",
    "\n",
    "# # Find the indices not in the combined list\n",
    "# not_in_combined = np.setdiff1d(all_indices, combined)"
   ]
  },
  {
   "cell_type": "markdown",
   "id": "f323e2c4-35f8-4eb7-99dd-8b65dbabe58f",
   "metadata": {},
   "source": [
    "# Generate Data"
   ]
  },
  {
   "cell_type": "code",
   "execution_count": 4,
   "id": "d35609b6-2eb4-47df-8647-e637f3719533",
   "metadata": {},
   "outputs": [],
   "source": [
    "importlib.reload(decision_learning.data.shortest_path_grid)\n",
    "from decision_learning.data.shortest_path_grid import add_noise, genDataPlant, shortest_path_synthetic_sym_no_noise, shortest_path_synthetic_plant_path"
   ]
  },
  {
   "cell_type": "code",
   "execution_count": 5,
   "id": "670c0fb9-82ec-43a7-8a40-300c1de3ae46",
   "metadata": {},
   "outputs": [],
   "source": [
    "indices_arr = torch.randperm(100000)\n",
    "indices_arr_test = torch.randperm(100000)\n",
    "\n",
    "sim = 0\n",
    "n_arr = [200, 400, 800, 1600]\n",
    "ep_arr = ['unif', 'normal']\n",
    "trials = 100\n",
    "\n",
    "exp_arr = []\n",
    "for n in n_arr:\n",
    "    for ep in ep_arr:\n",
    "        for t in range(trials):\n",
    "            exp_arr.append([n, ep, t])\n",
    "\n",
    "exp = exp_arr[sim]\n",
    "ep_type = exp[1]\n",
    "trial = exp[2]\n",
    "\n",
    "# generate data\n",
    "grid = (5, 5)  # grid size\n",
    "num_data = exp[0]  # number of training data\n",
    "num_feat = 5  # size of feature\n",
    "deg = 6  # polynomial degree\n",
    "e = .4  # noise width\n",
    "\n"
   ]
  },
  {
   "cell_type": "code",
   "execution_count": 6,
   "id": "f2f89e12-120c-44e2-9578-67299153e866",
   "metadata": {},
   "outputs": [],
   "source": [
    "importlib.reload(decision_learning.data.shortest_path_grid)\n",
    "from decision_learning.data.shortest_path_grid import add_noise, genData, genDataPlant, shortest_path_synthetic_sym_no_noise, shortest_path_synthetic_plant_path"
   ]
  },
  {
   "cell_type": "code",
   "execution_count": 7,
   "id": "43cac67e-32c9-4a93-a3fd-1946f7f78afc",
   "metadata": {},
   "outputs": [],
   "source": [
    "planted_good_pwl_params = {'slope0':0, \n",
    "                    'int0':2,\n",
    "                    'slope1':0, \n",
    "                    'int1':2}\n",
    "planted_bad_pwl_params = {'slope0':4, \n",
    "                    'int0':0,\n",
    "                    'slope1':0, \n",
    "                    'int1':2.2}"
   ]
  },
  {
   "cell_type": "code",
   "execution_count": 8,
   "id": "b2d2b284-e0da-413b-a8e1-4dd23d6c5c6b",
   "metadata": {},
   "outputs": [
    {
     "name": "stderr",
     "output_type": "stream",
     "text": [
      "2024-10-30 08:49:40,945 - decision_learning.data.shortest_path_grid - DEBUG - good_bad_edges: [ 1  4  9 16 24 31 36 39  0  3  8 15 23 30 35 38], remain_edges: [ 2  5  6  7 10 11 12 13 14 17 18 19 20 21 22 25 26 27 28 29 32 33 34 37]\n",
      "2024-10-30 08:49:40,946 - decision_learning.data.shortest_path_grid - DEBUG - chg_pt: 0.0\n",
      "2024-10-30 08:49:40,947 - decision_learning.data.shortest_path_grid - DEBUG - chg_pt: 0.55\n"
     ]
    }
   ],
   "source": [
    "data = shortest_path_synthetic_sym_no_noise(num_data=num_data+200,\n",
    "        num_features=num_feat, \n",
    "        grid=grid, \n",
    "        deg=deg, \n",
    "        seed=indices_arr[trial])\n",
    "\n",
    "\n",
    "data_plant = shortest_path_synthetic_plant_path(planted_good_pwl_params=planted_good_pwl_params,\n",
    "                                   planted_bad_pwl_params=planted_bad_pwl_params,\n",
    "                                   seed=indices_arr[trial],\n",
    "                                   **data)\n",
    "data_noise = add_noise(c=data_plant['c_plant'],\n",
    "          noise_type=ep_type,\n",
    "          noise_width=e,\n",
    "          seed=indices_arr[trial])"
   ]
  },
  {
   "cell_type": "markdown",
   "id": "626ec459-2a6f-45b0-ad4f-1da2ffc663b3",
   "metadata": {},
   "source": [
    "One genData Function"
   ]
  },
  {
   "cell_type": "code",
   "execution_count": 9,
   "id": "b7c66e02-6f27-4d7b-b3fc-5bc3ee1bdce2",
   "metadata": {},
   "outputs": [],
   "source": [
    "final_data = genData(num_data=num_data+200,\n",
    "        num_features=num_feat, \n",
    "        grid=grid, \n",
    "        deg=deg, \n",
    "        noise_type=ep_type,\n",
    "        noise_width=e,\n",
    "        seed=indices_arr[trial],     \n",
    "        plant_edges=False,\n",
    "        planted_good_pwl_params=planted_good_pwl_params,\n",
    "        planted_bad_pwl_params=planted_bad_pwl_params)"
   ]
  },
  {
   "cell_type": "code",
   "execution_count": 10,
   "id": "e38f4015-fa7b-4b9a-b8c0-dfa891921c86",
   "metadata": {},
   "outputs": [
    {
     "data": {
      "text/plain": [
       "(400, 40)"
      ]
     },
     "execution_count": 10,
     "metadata": {},
     "output_type": "execute_result"
    }
   ],
   "source": [
    "final_data['cost'].shape"
   ]
  },
  {
   "cell_type": "code",
   "execution_count": 11,
   "id": "68ada215-6859-4f7b-bbbb-7b201ce626cd",
   "metadata": {},
   "outputs": [],
   "source": [
    "import decision_learning.modeling.models\n",
    "importlib.reload(decision_learning.modeling.models)\n",
    "from decision_learning.modeling.models import LinearRegression"
   ]
  },
  {
   "cell_type": "code",
   "execution_count": 12,
   "id": "96e851ce-de37-4b23-a6dc-73c6b51f2dd4",
   "metadata": {},
   "outputs": [],
   "source": [
    "lr_mod = LinearRegression(input_dim=final_data['feat'].shape[1],\n",
    "                 output_dim=final_data['cost'].shape[1])"
   ]
  },
  {
   "cell_type": "code",
   "execution_count": 13,
   "id": "b1ecaaf9-3d36-438a-ae03-5a5615b39e1f",
   "metadata": {},
   "outputs": [],
   "source": [
    "c_pred = lr_mod(torch.tensor(final_data['feat'], dtype=torch.float))"
   ]
  },
  {
   "cell_type": "code",
   "execution_count": 14,
   "id": "84a93808-214f-411c-9d71-772b35aa9795",
   "metadata": {},
   "outputs": [
    {
     "data": {
      "text/plain": [
       "tensor([[ 4.5614e-01, -8.1670e-04, -1.6145e-01,  ..., -5.1179e-01,\n",
       "          1.1820e-01, -4.9448e-01],\n",
       "        [-1.0494e-01,  7.3423e-01,  3.3650e-01,  ...,  5.0490e-01,\n",
       "          9.1026e-01,  7.2220e-01],\n",
       "        [ 6.7327e-01,  6.6797e-01, -1.9701e-01,  ..., -1.4250e+00,\n",
       "         -3.4055e-01, -5.9946e-02],\n",
       "        ...,\n",
       "        [ 1.0182e+00, -1.0435e+00,  4.9286e-01,  ..., -1.3806e+00,\n",
       "         -5.8206e-01, -1.1913e+00],\n",
       "        [ 8.4221e-01, -1.9684e-01, -3.5824e-01,  ..., -5.4777e-01,\n",
       "         -4.4760e-01, -9.9908e-01],\n",
       "        [ 1.3897e+00,  3.9766e-01,  3.0643e-01,  ..., -4.8733e-01,\n",
       "         -1.0998e+00, -2.9522e-01]], grad_fn=<AddmmBackward0>)"
      ]
     },
     "execution_count": 14,
     "metadata": {},
     "output_type": "execute_result"
    }
   ],
   "source": [
    "c_pred"
   ]
  },
  {
   "cell_type": "markdown",
   "id": "4178fb57-45b4-4204-a1d5-5e7d4363a927",
   "metadata": {},
   "source": [
    "# Initial Solution using optimization Solver"
   ]
  },
  {
   "cell_type": "code",
   "execution_count": 15,
   "id": "5119ebd3-9b04-467e-a831-ebf61b4b98ed",
   "metadata": {},
   "outputs": [
    {
     "name": "stdout",
     "output_type": "stream",
     "text": [
      "Auto-Sklearn cannot be imported.\n"
     ]
    }
   ],
   "source": [
    "from pyepo.model.opt import optModel\n",
    "from pyepo import EPO\n",
    "\n",
    "def shortest_path_solver(costs, size, sens = 1e-4):\n",
    "    # Forward Pass\n",
    "    starting_ind = 0\n",
    "    starting_ind_c = 0\n",
    "    samples = costs.shape[0]\n",
    "    V_arr = torch.zeros(samples, size ** 2)\n",
    "    for i in range(0, 2 * (size - 1)):\n",
    "        num_nodes = min(i + 1, 9 - i)\n",
    "        num_nodes_next = min(i + 2, 9 - i - 1)\n",
    "        num_arcs = 2 * (max(num_nodes, num_nodes_next) - 1)\n",
    "        V_1 = V_arr[:, starting_ind:starting_ind + num_nodes]\n",
    "        layer_costs = costs[:, starting_ind_c:starting_ind_c + num_arcs]\n",
    "        l_costs = layer_costs[:, 0::2]\n",
    "        r_costs = layer_costs[:, 1::2]\n",
    "        next_V_val_l = torch.ones(samples, num_nodes_next) * float('inf')\n",
    "        next_V_val_r = torch.ones(samples, num_nodes_next) * float('inf')\n",
    "        if num_nodes_next > num_nodes:\n",
    "            next_V_val_l[:, :num_nodes_next - 1] = V_1 + l_costs\n",
    "            next_V_val_r[:, 1:num_nodes_next] = V_1 + r_costs\n",
    "        else:\n",
    "            next_V_val_l = V_1[:, :num_nodes_next] + l_costs\n",
    "            next_V_val_r = V_1[:, 1:num_nodes_next + 1] + r_costs\n",
    "        next_V_val = torch.minimum(next_V_val_l, next_V_val_r)\n",
    "        V_arr[:, starting_ind + num_nodes:starting_ind + num_nodes + num_nodes_next] = next_V_val\n",
    "\n",
    "        starting_ind += num_nodes\n",
    "        starting_ind_c += num_arcs\n",
    "\n",
    "    # Backward Pass\n",
    "    starting_ind = size ** 2\n",
    "    starting_ind_c = costs.shape[1]\n",
    "    prev_act = torch.ones(samples, 1)\n",
    "    sol = torch.zeros(costs.shape)\n",
    "    for i in range(2 * (size - 1), 0, -1):\n",
    "        num_nodes = min(i + 1, 9 - i)\n",
    "        num_nodes_next = min(i, 9 - i + 1)\n",
    "        V_1 = V_arr[:, starting_ind - num_nodes:starting_ind]\n",
    "        V_2 = V_arr[:, starting_ind - num_nodes - num_nodes_next:starting_ind - num_nodes]\n",
    "\n",
    "        num_arcs = 2 * (max(num_nodes, num_nodes_next) - 1)\n",
    "        layer_costs = costs[:, starting_ind_c - num_arcs: starting_ind_c]\n",
    "\n",
    "        if num_nodes < num_nodes_next:\n",
    "            l_cs_res = ((V_2[:, :num_nodes_next - 1] - V_1 + layer_costs[:, ::2]) < sens) * prev_act\n",
    "            r_cs_res = ((V_2[:, 1:num_nodes_next] - V_1 + layer_costs[:, 1::2]) < sens) * prev_act\n",
    "            prev_act = torch.zeros(V_2.shape)\n",
    "            prev_act[:, :num_nodes_next - 1] += l_cs_res\n",
    "            prev_act[:, 1:num_nodes_next] += r_cs_res\n",
    "        else:\n",
    "            l_cs_res = ((V_2 - V_1[:, :num_nodes - 1] + layer_costs[:, ::2]) < sens) * prev_act[:, :num_nodes - 1]\n",
    "            r_cs_res = ((V_2 - V_1[:, 1:num_nodes] + layer_costs[:, 1::2]) < sens) * prev_act[:, 1:num_nodes]\n",
    "            prev_act = torch.zeros(V_2.shape)\n",
    "            prev_act += l_cs_res\n",
    "            prev_act += r_cs_res\n",
    "        cs = torch.zeros(layer_costs.shape)\n",
    "        cs[:, ::2] = l_cs_res\n",
    "        cs[:, 1::2] = r_cs_res\n",
    "        sol[:, starting_ind_c - num_arcs: starting_ind_c] = cs\n",
    "\n",
    "        starting_ind = starting_ind - num_nodes\n",
    "        starting_ind_c = starting_ind_c - num_arcs\n",
    "    # Dimension (samples, num edges)\n",
    "    obj = torch.sum(sol * costs, axis=1)\n",
    "    # Dimension (samples, 1)\n",
    "    return sol, obj.reshape(-1,1)\n",
    "\n",
    "# optimization model\n",
    "class optGenModel(optModel):\n",
    "    \"\"\"\n",
    "    This is an abstract class for Pyomo-based optimization model\n",
    "\n",
    "    Attributes:\n",
    "        _model (PyOmo model): Pyomo model\n",
    "        solver (str): optimization solver in the background\n",
    "    \"\"\"\n",
    "\n",
    "    def __init__(self):\n",
    "        \"\"\"\n",
    "        Args:\n",
    "            solver (str): optimization solver in the background\n",
    "        \"\"\"\n",
    "        super().__init__()\n",
    "        # init obj\n",
    "        if self._model.modelSense == EPO.MINIMIZE:\n",
    "            self.modelSense = EPO.MINIMIZE\n",
    "        if self._model.modelSense == EPO.MAXIMIZE:\n",
    "            self.modelSense = EPO.MAXIMIZE\n",
    "\n",
    "    def __repr__(self):\n",
    "        return \"optGenModel \" + self.__class__.__name__\n",
    "\n",
    "    def setObj(self, c):\n",
    "        \"\"\"\n",
    "        A method to set objective function\n",
    "\n",
    "        Args:\n",
    "            c (np.ndarray / list): cost of objective function\n",
    "        \"\"\"\n",
    "        self._model.costvec = c\n",
    "\n",
    "    def copy(self):\n",
    "        \"\"\"\n",
    "        A method to copy model\n",
    "\n",
    "        Returns:\n",
    "            optModel: new copied model\n",
    "        \"\"\"\n",
    "        new_model = copy(self)\n",
    "        return new_model\n",
    "\n",
    "    def addConstr(self):\n",
    "        new_model = self.copy()\n",
    "        # add constraint\n",
    "        return new_model\n",
    "\n",
    "class modelclass():\n",
    "    def __init__(self, size):\n",
    "        self.size = size\n",
    "        self.costvec = None\n",
    "        self.modelSense = EPO.MINIMIZE\n",
    "        self.x = np.ones(2 * size * (size - 1))\n",
    "class shortestPathModel(optGenModel):\n",
    "\n",
    "    def __init__(self):\n",
    "        self.grid = (5,5)\n",
    "        super().__init__()\n",
    "\n",
    "    def _getModel(self):\n",
    "        \"\"\"\n",
    "        A method to build Gurobi model\n",
    "\n",
    "        Returns:\n",
    "            tuple: optimization model and variables\n",
    "        \"\"\"\n",
    "        m = modelclass(self.grid[0])\n",
    "        x = m.x\n",
    "        # sense\n",
    "        m.modelSense = EPO.MINIMIZE\n",
    "        return m, x\n",
    "\n",
    "    def solve(self):\n",
    "        sol, obj = shortest_path_solver(self._model.costvec.reshape(-1,len(self.x)), self._model.size)\n",
    "        return sol, obj"
   ]
  },
  {
   "cell_type": "markdown",
   "id": "cf039593-afa6-4433-a39e-6e4ae00b4854",
   "metadata": {},
   "source": [
    "checking functionality of just `shortest_path_solver` vs `shortestPathModel`"
   ]
  },
  {
   "cell_type": "code",
   "execution_count": 16,
   "id": "2f157f39-17cc-4873-8d55-1ffbce65edd7",
   "metadata": {},
   "outputs": [
    {
     "data": {
      "text/plain": [
       "(True, True)"
      ]
     },
     "execution_count": 16,
     "metadata": {},
     "output_type": "execute_result"
    }
   ],
   "source": [
    "optmodel = shortestPathModel()\n",
    "optmodel.setObj(c_pred)\n",
    "ptb_sols, ptb_obj = optmodel.solve()\n",
    "sol, obj = shortest_path_solver(costs=c_pred, size=5)\n",
    "\n",
    "torch.all(ptb_sols == sol).item(), torch.all(ptb_obj == obj).item()"
   ]
  },
  {
   "cell_type": "markdown",
   "id": "68eee2ac-1b83-4c54-8ae8-539c1bbc0f57",
   "metadata": {},
   "source": [
    "# Create Dataset Object"
   ]
  },
  {
   "cell_type": "code",
   "execution_count": 52,
   "id": "e5b62b4b-de57-4b22-bb43-4c4f685be26b",
   "metadata": {},
   "outputs": [],
   "source": [
    "from torch.utils.data import DataLoader\n",
    "from tqdm import tqdm\n",
    "\n",
    "import decision_learning.modeling.loss\n",
    "importlib.reload(decision_learning.modeling.loss)\n",
    "from decision_learning.modeling.loss import SPODataset, SPOPlus"
   ]
  },
  {
   "cell_type": "code",
   "execution_count": 18,
   "id": "4f1b91b6-a2cb-405f-95fe-21be3c4903d7",
   "metadata": {},
   "outputs": [
    {
     "name": "stderr",
     "output_type": "stream",
     "text": [
      "/home1/yongpeng/decision-focused-learning/src/decision_learning/modeling/loss.py:57: UserWarning: To copy construct from a tensor, it is recommended to use sourceTensor.clone().detach() or sourceTensor.clone().detach().requires_grad_(True), rather than torch.tensor(sourceTensor).\n",
      "  self.true_sol = torch.tensor(true_sol, dtype=torch.float32) #if not isinstance(true_sol, torch.Tensor) else true_sol\n",
      "/home1/yongpeng/decision-focused-learning/src/decision_learning/modeling/loss.py:58: UserWarning: To copy construct from a tensor, it is recommended to use sourceTensor.clone().detach() or sourceTensor.clone().detach().requires_grad_(True), rather than torch.tensor(sourceTensor).\n",
      "  self.true_obj = torch.tensor(true_obj, dtype=torch.float32) #if not isinstance(true_obj, torch.Tensor) else true_obj\n"
     ]
    }
   ],
   "source": [
    "# get initial \n",
    "final_data = genData(num_data=num_data+200,\n",
    "        num_features=num_feat, \n",
    "        grid=grid, \n",
    "        deg=deg, \n",
    "        noise_type=ep_type,\n",
    "        noise_width=e,\n",
    "        seed=indices_arr[trial],     \n",
    "        plant_edges=False,\n",
    "        planted_good_pwl_params=planted_good_pwl_params,\n",
    "        planted_bad_pwl_params=planted_bad_pwl_params)\n",
    "\n",
    "sol, obj = shortest_path_solver(costs=final_data['cost'], size=5)\n",
    "\n",
    "dataset = SPODataset(X=final_data['feat'],\n",
    "           true_cost=final_data['cost'],\n",
    "           true_sol=sol,\n",
    "           true_obj=obj)\n",
    "dataloader = DataLoader(dataset, \n",
    "                        batch_size=len(dataset), \n",
    "                        shuffle=True,\n",
    "                       collate_fn=dataset.collate_fn)"
   ]
  },
  {
   "cell_type": "markdown",
   "id": "e7a3467a-52a0-4845-b03a-19fd05ccc448",
   "metadata": {},
   "source": [
    "Iterate over dataloader example"
   ]
  },
  {
   "cell_type": "code",
   "execution_count": 19,
   "id": "c0164f8d-bd68-4645-a2bd-1a80adf0e567",
   "metadata": {},
   "outputs": [
    {
     "name": "stderr",
     "output_type": "stream",
     "text": [
      "100%|██████████| 1/1 [00:00<00:00, 128.51it/s]"
     ]
    },
    {
     "name": "stdout",
     "output_type": "stream",
     "text": [
      "Batch 0, batch keys dict_keys(['X', 'true_cost', 'true_sol', 'true_obj'])\n"
     ]
    },
    {
     "name": "stderr",
     "output_type": "stream",
     "text": [
      "\n"
     ]
    }
   ],
   "source": [
    "# Iterate over batches with tqdm progress bar\n",
    "for batch_idx, batch in enumerate(tqdm(dataloader)):\n",
    "    # Training/evaluation code here\n",
    "    # For example, passing inputs to a model\n",
    "    print(f\"Batch {batch_idx}, batch keys {batch.keys()}\")"
   ]
  },
  {
   "cell_type": "markdown",
   "id": "88a05db1-1b91-4f8a-99b4-ccfc686b6ee7",
   "metadata": {},
   "source": [
    "# Instantiate Loss Function"
   ]
  },
  {
   "cell_type": "markdown",
   "id": "951d4083-e733-4d75-bdda-51edec99152b",
   "metadata": {},
   "source": [
    "## Verify Loss is Same"
   ]
  },
  {
   "cell_type": "markdown",
   "id": "8747d3e4-2f4a-4f94-9810-64d71a4fe533",
   "metadata": {},
   "source": [
    "One training loop example"
   ]
  },
  {
   "cell_type": "code",
   "execution_count": 20,
   "id": "1aa706ad-b867-4257-90e2-325239d802c0",
   "metadata": {},
   "outputs": [],
   "source": [
    "import inspect\n",
    "\n",
    "def filter_kwargs(func, kwargs):\n",
    "    signature = inspect.signature(func)\n",
    "    valid_args = {key: value for key, value in kwargs.items() if key in signature.parameters}\n",
    "    return valid_args"
   ]
  },
  {
   "cell_type": "code",
   "execution_count": 44,
   "id": "d0daf825-22b8-47e9-a498-0443fb726fe3",
   "metadata": {},
   "outputs": [],
   "source": [
    "from functools import partial\n",
    "\n",
    "lr_mod = LinearRegression(input_dim=final_data['feat'].shape[1],\n",
    "                 output_dim=final_data['cost'].shape[1])\n",
    "# set adam optimizer\n",
    "optimizer = torch.optim.Adam(lr_mod.parameters(), lr=0.1)"
   ]
  },
  {
   "cell_type": "markdown",
   "id": "d62d173b-56c4-4570-b635-2cc4ae8311a9",
   "metadata": {},
   "source": [
    "Double Check Loss Function is Implemented correctly"
   ]
  },
  {
   "cell_type": "code",
   "execution_count": 45,
   "id": "0ecb0426-6d11-4ea3-a030-6f5eef07f2ac",
   "metadata": {},
   "outputs": [],
   "source": [
    "cp = lr_mod(batch['X'])"
   ]
  },
  {
   "cell_type": "markdown",
   "id": "25c09172-f043-4699-a734-de1cddec38fb",
   "metadata": {},
   "source": [
    "Original Function"
   ]
  },
  {
   "cell_type": "code",
   "execution_count": 46,
   "id": "714e1240-f1b8-49c1-a8e9-52f4ad65d3ce",
   "metadata": {},
   "outputs": [
    {
     "name": "stdout",
     "output_type": "stream",
     "text": [
      "Num of cores: 1\n"
     ]
    }
   ],
   "source": [
    "from decision_learning.modeling.loss import SPOPlus2_O\n",
    "optmodel = shortestPathModel()\n",
    "orig_loss_fn = SPOPlus2_O(optmodel=optmodel)\n",
    "orig_loss = orig_loss_fn(pred_cost=cp, \n",
    "                         true_cost=batch['true_cost'], \n",
    "                         true_sol=batch['true_sol'], \n",
    "                         true_obj=batch['true_obj'])"
   ]
  },
  {
   "cell_type": "code",
   "execution_count": 53,
   "id": "58368dad-d353-4301-8284-ca1881390a28",
   "metadata": {},
   "outputs": [],
   "source": [
    "loss_fn = SPOPlus(optmodel=partial(shortest_path_solver,size=5))\n",
    "\n",
    "new_batch = filter_kwargs(loss_fn.forward, batch)\n",
    "loss2 = loss_fn(pred_cost=cp, **new_batch)"
   ]
  },
  {
   "cell_type": "markdown",
   "id": "0628afab-e9bb-4d16-9e66-7d26cb3c57bc",
   "metadata": {},
   "source": [
    "Check Original Implementation and New have same loss"
   ]
  },
  {
   "cell_type": "code",
   "execution_count": 54,
   "id": "d75f681c-6bc4-43f1-85ca-e93bdd4becfd",
   "metadata": {},
   "outputs": [
    {
     "data": {
      "text/plain": [
       "(tensor(12.0687, grad_fn=<MeanBackward0>),\n",
       " tensor(12.0687, grad_fn=<MeanBackward0>))"
      ]
     },
     "execution_count": 54,
     "metadata": {},
     "output_type": "execute_result"
    }
   ],
   "source": [
    "print(orig_loss, loss2)\n",
    "orig_loss == loss2"
   ]
  },
  {
   "cell_type": "markdown",
   "id": "35215476-4894-4949-b508-0f76816a2994",
   "metadata": {},
   "source": [
    "Check Original and New have same gradients"
   ]
  },
  {
   "cell_type": "markdown",
   "id": "433cc0e8-0f72-4dbd-81bc-e09e6a721de9",
   "metadata": {},
   "source": [
    "# Train Loop\n",
    "1. Get current batch (requires a dataset object and dataloader)\n",
    "2. Get Predictions\n",
    "3. Get necessary components for loss function like current predicted cost solutions\n",
    "4. Calculate loss function and back propogate"
   ]
  },
  {
   "cell_type": "code",
   "execution_count": 68,
   "id": "3135f56b-446f-456f-af5a-c16f336d9da9",
   "metadata": {},
   "outputs": [],
   "source": [
    "lr_mod_o = LinearRegression(input_dim=final_data['feat'].shape[1],\n",
    "                 output_dim=final_data['cost'].shape[1])"
   ]
  },
  {
   "cell_type": "markdown",
   "id": "f408ddbb-5135-4868-84cf-cb8b8b3d8716",
   "metadata": {},
   "source": [
    "New Function"
   ]
  },
  {
   "cell_type": "code",
   "execution_count": 70,
   "id": "61400555-3a25-4130-b41e-cb1cc6c03053",
   "metadata": {},
   "outputs": [],
   "source": [
    "from functools import partial\n",
    "import copy\n",
    "\n",
    "# Assuming `model` is the original model you want to copy\n",
    "lr_mod = copy.deepcopy(lr_mod_o)\n",
    "\n",
    "# set adam optimizer\n",
    "optimizer = torch.optim.Adam(lr_mod.parameters(), lr=0.1)\n",
    "\n",
    "# loss functions\n",
    "loss_fn = SPOPlus(optmodel=partial(shortest_path_solver,size=5))"
   ]
  },
  {
   "cell_type": "code",
   "execution_count": 71,
   "id": "1bdce795-4469-4349-ad07-e311b6d58c17",
   "metadata": {},
   "outputs": [
    {
     "name": "stderr",
     "output_type": "stream",
     "text": [
      "100%|██████████| 1/1 [00:00<00:00, 72.62it/s]\n"
     ]
    },
    {
     "name": "stdout",
     "output_type": "stream",
     "text": [
      "9.763208389282227\n"
     ]
    },
    {
     "name": "stderr",
     "output_type": "stream",
     "text": [
      "100%|██████████| 1/1 [00:00<00:00, 70.74it/s]\n"
     ]
    },
    {
     "name": "stdout",
     "output_type": "stream",
     "text": [
      "5.725973129272461\n"
     ]
    },
    {
     "name": "stderr",
     "output_type": "stream",
     "text": [
      "100%|██████████| 1/1 [00:00<00:00, 80.34it/s]\n"
     ]
    },
    {
     "name": "stdout",
     "output_type": "stream",
     "text": [
      "3.5588157176971436\n"
     ]
    },
    {
     "name": "stderr",
     "output_type": "stream",
     "text": [
      "100%|██████████| 1/1 [00:00<00:00, 80.70it/s]\n"
     ]
    },
    {
     "name": "stdout",
     "output_type": "stream",
     "text": [
      "2.555410623550415\n"
     ]
    },
    {
     "name": "stderr",
     "output_type": "stream",
     "text": [
      "100%|██████████| 1/1 [00:00<00:00, 80.31it/s]\n"
     ]
    },
    {
     "name": "stdout",
     "output_type": "stream",
     "text": [
      "2.0469818115234375\n"
     ]
    },
    {
     "name": "stderr",
     "output_type": "stream",
     "text": [
      "100%|██████████| 1/1 [00:00<00:00, 78.33it/s]\n"
     ]
    },
    {
     "name": "stdout",
     "output_type": "stream",
     "text": [
      "1.9466477632522583\n"
     ]
    },
    {
     "name": "stderr",
     "output_type": "stream",
     "text": [
      "100%|██████████| 1/1 [00:00<00:00, 80.01it/s]\n"
     ]
    },
    {
     "name": "stdout",
     "output_type": "stream",
     "text": [
      "1.9816168546676636\n"
     ]
    },
    {
     "name": "stderr",
     "output_type": "stream",
     "text": [
      "100%|██████████| 1/1 [00:00<00:00, 84.16it/s]\n"
     ]
    },
    {
     "name": "stdout",
     "output_type": "stream",
     "text": [
      "1.952664852142334\n"
     ]
    },
    {
     "name": "stderr",
     "output_type": "stream",
     "text": [
      "100%|██████████| 1/1 [00:00<00:00, 83.34it/s]\n"
     ]
    },
    {
     "name": "stdout",
     "output_type": "stream",
     "text": [
      "1.866245985031128\n"
     ]
    },
    {
     "name": "stderr",
     "output_type": "stream",
     "text": [
      "100%|██████████| 1/1 [00:00<00:00, 83.29it/s]"
     ]
    },
    {
     "name": "stdout",
     "output_type": "stream",
     "text": [
      "1.7920613288879395\n"
     ]
    },
    {
     "name": "stderr",
     "output_type": "stream",
     "text": [
      "\n"
     ]
    }
   ],
   "source": [
    "num_epochs = 10\n",
    "use_gpu = False\n",
    "\n",
    "for epoch in range(num_epochs):\n",
    "    epoch_loss = []\n",
    "    for batch_idx, batch in enumerate(tqdm(dataloader)):\n",
    "            \n",
    "        if use_gpu == True:\n",
    "            for k in batch.keys():\n",
    "                batch[k] = batch[k].cuda()\n",
    "        \n",
    "        # forward pass - prediction\n",
    "        cp = lr_mod(batch['X'])\n",
    "        # optimization get solutions with current predicted costs\n",
    "        #sol, obj = shortest_path_solver(costs=cp, size=5)\n",
    "\n",
    "        # add predicted components to batch\n",
    "        #batch['pred_cost'] = cp\n",
    "        # batch['opt_prob_sol'] = sol\n",
    "        # batch['opt_prob_obj'] = obj\n",
    "        \n",
    "        # Get the function's signature\n",
    "        batch = filter_kwargs(loss_fn.forward, batch)\n",
    "\n",
    "        # loss\n",
    "        #loss = loss_fn(cp.., **batch, pred_cost = pred_cost,...)\n",
    "        loss = loss_fn(cp, **batch)\n",
    "        \n",
    "        # backward pass\n",
    "        optimizer.zero_grad()\n",
    "        loss.backward()\n",
    "        optimizer.step()\n",
    "        epoch_loss.append(loss.item())\n",
    "\n",
    "        # TODO: - add in regret calc for validation calc\n",
    "    \n",
    "    print(np.mean(epoch_loss))"
   ]
  },
  {
   "cell_type": "markdown",
   "id": "7b801552-e7ef-45cf-9ab2-69ce272a4ffa",
   "metadata": {},
   "source": [
    "orig loss function"
   ]
  },
  {
   "cell_type": "code",
   "execution_count": 72,
   "id": "705bd441-c848-4841-a163-1aa39c744b89",
   "metadata": {},
   "outputs": [
    {
     "name": "stdout",
     "output_type": "stream",
     "text": [
      "Num of cores: 1\n"
     ]
    }
   ],
   "source": [
    "from functools import partial\n",
    "\n",
    "lr_mod = copy.deepcopy(lr_mod_o)\n",
    "# set adam optimizer\n",
    "optimizer = torch.optim.Adam(lr_mod.parameters(), lr=0.1)\n",
    "\n",
    "# loss functions\n",
    "optmodel = shortestPathModel()\n",
    "orig_loss_fn = SPOPlus2_O(optmodel=optmodel)"
   ]
  },
  {
   "cell_type": "code",
   "execution_count": 73,
   "id": "f45f9bcc-7b50-49a8-94bd-d735a99b8a39",
   "metadata": {},
   "outputs": [
    {
     "name": "stderr",
     "output_type": "stream",
     "text": [
      "100%|██████████| 1/1 [00:00<00:00, 76.54it/s]\n"
     ]
    },
    {
     "name": "stdout",
     "output_type": "stream",
     "text": [
      "9.763208389282227\n"
     ]
    },
    {
     "name": "stderr",
     "output_type": "stream",
     "text": [
      "100%|██████████| 1/1 [00:00<00:00, 81.73it/s]\n"
     ]
    },
    {
     "name": "stdout",
     "output_type": "stream",
     "text": [
      "5.725973129272461\n"
     ]
    },
    {
     "name": "stderr",
     "output_type": "stream",
     "text": [
      "100%|██████████| 1/1 [00:00<00:00, 83.42it/s]\n"
     ]
    },
    {
     "name": "stdout",
     "output_type": "stream",
     "text": [
      "3.5588159561157227\n"
     ]
    },
    {
     "name": "stderr",
     "output_type": "stream",
     "text": [
      "100%|██████████| 1/1 [00:00<00:00, 83.22it/s]\n"
     ]
    },
    {
     "name": "stdout",
     "output_type": "stream",
     "text": [
      "2.555410385131836\n"
     ]
    },
    {
     "name": "stderr",
     "output_type": "stream",
     "text": [
      "100%|██████████| 1/1 [00:00<00:00, 83.38it/s]\n"
     ]
    },
    {
     "name": "stdout",
     "output_type": "stream",
     "text": [
      "2.0469818115234375\n"
     ]
    },
    {
     "name": "stderr",
     "output_type": "stream",
     "text": [
      "100%|██████████| 1/1 [00:00<00:00, 82.47it/s]\n"
     ]
    },
    {
     "name": "stdout",
     "output_type": "stream",
     "text": [
      "1.9466477632522583\n"
     ]
    },
    {
     "name": "stderr",
     "output_type": "stream",
     "text": [
      "100%|██████████| 1/1 [00:00<00:00, 81.87it/s]\n"
     ]
    },
    {
     "name": "stdout",
     "output_type": "stream",
     "text": [
      "1.9816166162490845\n"
     ]
    },
    {
     "name": "stderr",
     "output_type": "stream",
     "text": [
      "100%|██████████| 1/1 [00:00<00:00, 83.10it/s]\n"
     ]
    },
    {
     "name": "stdout",
     "output_type": "stream",
     "text": [
      "1.9526646137237549\n"
     ]
    },
    {
     "name": "stderr",
     "output_type": "stream",
     "text": [
      "100%|██████████| 1/1 [00:00<00:00, 82.97it/s]\n"
     ]
    },
    {
     "name": "stdout",
     "output_type": "stream",
     "text": [
      "1.866245985031128\n"
     ]
    },
    {
     "name": "stderr",
     "output_type": "stream",
     "text": [
      "100%|██████████| 1/1 [00:00<00:00, 82.79it/s]"
     ]
    },
    {
     "name": "stdout",
     "output_type": "stream",
     "text": [
      "1.7920615673065186\n"
     ]
    },
    {
     "name": "stderr",
     "output_type": "stream",
     "text": [
      "\n"
     ]
    }
   ],
   "source": [
    "num_epochs = 10\n",
    "use_gpu = False\n",
    "\n",
    "for epoch in range(num_epochs):\n",
    "    epoch_loss = []\n",
    "    for batch_idx, batch in enumerate(tqdm(dataloader)):\n",
    "            \n",
    "        if use_gpu == True:\n",
    "            for k in batch.keys():\n",
    "                batch[k] = batch[k].cuda()\n",
    "        \n",
    "        # forward pass - prediction\n",
    "        cp = lr_mod(batch['X'])\n",
    "        # optimization get solutions with current predicted costs\n",
    "        #sol, obj = shortest_path_solver(costs=cp, size=5)\n",
    "\n",
    "        # add predicted components to batch\n",
    "        #batch['pred_cost'] = cp\n",
    "        # batch['opt_prob_sol'] = sol\n",
    "        # batch['opt_prob_obj'] = obj\n",
    "        \n",
    "        # Get the function's signature\n",
    "        batch = filter_kwargs(orig_loss_fn.forward, batch)\n",
    "\n",
    "        # loss\n",
    "        #loss = loss_fn(cp.., **batch, pred_cost = pred_cost,...)\n",
    "        loss = orig_loss_fn(cp, **batch)\n",
    "        \n",
    "        # backward pass\n",
    "        optimizer.zero_grad()\n",
    "        loss.backward()\n",
    "        optimizer.step()\n",
    "        epoch_loss.append(loss.item())\n",
    "\n",
    "        # TODO: - add in regret calc for validation calc\n",
    "    \n",
    "    print(np.mean(epoch_loss))"
   ]
  },
  {
   "cell_type": "markdown",
   "id": "c2079619-1b11-47f5-bb6c-47df457c34a5",
   "metadata": {},
   "source": [
    "## Conclusion - yes the new function is the same as the original function"
   ]
  }
 ],
 "metadata": {
  "kernelspec": {
   "display_name": "Python (pyepo_dsl)",
   "language": "python",
   "name": "pyepo_dsl"
  },
  "language_info": {
   "codemirror_mode": {
    "name": "ipython",
    "version": 3
   },
   "file_extension": ".py",
   "mimetype": "text/x-python",
   "name": "python",
   "nbconvert_exporter": "python",
   "pygments_lexer": "ipython3",
   "version": "3.11.7"
  }
 },
 "nbformat": 4,
 "nbformat_minor": 5
}
