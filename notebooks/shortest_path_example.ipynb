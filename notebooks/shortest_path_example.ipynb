{
 "cells": [
  {
   "cell_type": "code",
   "execution_count": 318,
   "id": "51f68c4c-2c49-4d5c-aaaf-8a86c324b316",
   "metadata": {},
   "outputs": [],
   "source": [
    "import importlib\n",
    "from functools import partial\n",
    "\n",
    "from torch import nn\n",
    "import torch\n",
    "from torch.utils.data import DataLoader\n",
    "from tqdm import tqdm\n",
    "import numpy as np\n",
    "import matplotlib.pyplot as plt\n",
    "from sklearn.model_selection import train_test_split\n",
    "import pandas as pd\n",
    "import copy\n",
    "\n",
    "\n",
    "from decision_learning.data.shortest_path_grid import genData\n",
    "from decision_learning.modeling.loss import SPOPlus\n",
    "from decision_learning.modeling.models import LinearRegression\n",
    "from decision_learning.modeling.val_metrics import decision_regret\n",
    "from decision_learning.modeling.train import train, calc_test_regret, init_loss_data_pretraining, filter_kwargs"
   ]
  },
  {
   "cell_type": "code",
   "execution_count": 23,
   "id": "33685ccc-6c29-4fe3-8b05-3f17149d32e4",
   "metadata": {},
   "outputs": [
    {
     "data": {
      "text/plain": [
       "<module 'decision_learning.modeling.train' from '/home1/yongpeng/decision-focused-learning/src/decision_learning/modeling/train.py'>"
      ]
     },
     "execution_count": 23,
     "metadata": {},
     "output_type": "execute_result"
    }
   ],
   "source": [
    "# Only for on the fly reloading of changing modules\n",
    "# import decision_learning.data.shortest_path_grid\n",
    "# importlib.reload(decision_learning.data.shortest_path_grid)\n",
    "# import decision_learning.modeling.val_metrics\n",
    "# importlib.reload(decision_learning.modeling.val_metrics)\n",
    "\n",
    "# import decision_learning.modeling.models\n",
    "# importlib.reload(decision_learning.modeling.models)\n",
    "# from decision_learning.modeling.models import LinearRegression\n",
    "# import decision_learning.modeling.loss\n",
    "# importlib.reload(decision_learning.modeling.loss)\n",
    "# from decision_learning.modeling.loss import SPOPlus\n",
    "# import decision_learning.modeling.train\n",
    "# importlib.reload(decision_learning.modeling.train)\n",
    "# from decision_learning.modeling.train import train, calc_test_regret"
   ]
  },
  {
   "cell_type": "markdown",
   "id": "76c7e204-4c35-43c4-ac67-5d2410501c62",
   "metadata": {},
   "source": [
    "# Optimization Solver"
   ]
  },
  {
   "cell_type": "code",
   "execution_count": 105,
   "id": "96846d76-e16b-498a-9d35-90454258f045",
   "metadata": {},
   "outputs": [],
   "source": [
    "def shortest_path_solver(costs, size, sens = 1e-4):\n",
    "    # Forward Pass\n",
    "    starting_ind = 0\n",
    "    starting_ind_c = 0\n",
    "    samples = costs.shape[0]\n",
    "    V_arr = torch.zeros(samples, size ** 2)\n",
    "    for i in range(0, 2 * (size - 1)):\n",
    "        num_nodes = min(i + 1, 9 - i)\n",
    "        num_nodes_next = min(i + 2, 9 - i - 1)\n",
    "        num_arcs = 2 * (max(num_nodes, num_nodes_next) - 1)\n",
    "        V_1 = V_arr[:, starting_ind:starting_ind + num_nodes]\n",
    "        layer_costs = costs[:, starting_ind_c:starting_ind_c + num_arcs]\n",
    "        l_costs = layer_costs[:, 0::2]\n",
    "        r_costs = layer_costs[:, 1::2]\n",
    "        next_V_val_l = torch.ones(samples, num_nodes_next) * float('inf')\n",
    "        next_V_val_r = torch.ones(samples, num_nodes_next) * float('inf')\n",
    "        if num_nodes_next > num_nodes:\n",
    "            next_V_val_l[:, :num_nodes_next - 1] = V_1 + l_costs\n",
    "            next_V_val_r[:, 1:num_nodes_next] = V_1 + r_costs\n",
    "        else:\n",
    "            next_V_val_l = V_1[:, :num_nodes_next] + l_costs\n",
    "            next_V_val_r = V_1[:, 1:num_nodes_next + 1] + r_costs\n",
    "        next_V_val = torch.minimum(next_V_val_l, next_V_val_r)\n",
    "        V_arr[:, starting_ind + num_nodes:starting_ind + num_nodes + num_nodes_next] = next_V_val\n",
    "\n",
    "        starting_ind += num_nodes\n",
    "        starting_ind_c += num_arcs\n",
    "\n",
    "    # Backward Pass\n",
    "    starting_ind = size ** 2\n",
    "    starting_ind_c = costs.shape[1]\n",
    "    prev_act = torch.ones(samples, 1)\n",
    "    sol = torch.zeros(costs.shape)\n",
    "    for i in range(2 * (size - 1), 0, -1):\n",
    "        num_nodes = min(i + 1, 9 - i)\n",
    "        num_nodes_next = min(i, 9 - i + 1)\n",
    "        V_1 = V_arr[:, starting_ind - num_nodes:starting_ind]\n",
    "        V_2 = V_arr[:, starting_ind - num_nodes - num_nodes_next:starting_ind - num_nodes]\n",
    "\n",
    "        num_arcs = 2 * (max(num_nodes, num_nodes_next) - 1)\n",
    "        layer_costs = costs[:, starting_ind_c - num_arcs: starting_ind_c]\n",
    "\n",
    "        if num_nodes < num_nodes_next:\n",
    "            l_cs_res = ((V_2[:, :num_nodes_next - 1] - V_1 + layer_costs[:, ::2]) < sens) * prev_act\n",
    "            r_cs_res = ((V_2[:, 1:num_nodes_next] - V_1 + layer_costs[:, 1::2]) < sens) * prev_act\n",
    "            prev_act = torch.zeros(V_2.shape)\n",
    "            prev_act[:, :num_nodes_next - 1] += l_cs_res\n",
    "            prev_act[:, 1:num_nodes_next] += r_cs_res\n",
    "        else:\n",
    "            l_cs_res = ((V_2 - V_1[:, :num_nodes - 1] + layer_costs[:, ::2]) < sens) * prev_act[:, :num_nodes - 1]\n",
    "            r_cs_res = ((V_2 - V_1[:, 1:num_nodes] + layer_costs[:, 1::2]) < sens) * prev_act[:, 1:num_nodes]\n",
    "            prev_act = torch.zeros(V_2.shape)\n",
    "            prev_act += l_cs_res\n",
    "            prev_act += r_cs_res\n",
    "        cs = torch.zeros(layer_costs.shape)\n",
    "        cs[:, ::2] = l_cs_res\n",
    "        cs[:, 1::2] = r_cs_res\n",
    "        sol[:, starting_ind_c - num_arcs: starting_ind_c] = cs\n",
    "\n",
    "        starting_ind = starting_ind - num_nodes\n",
    "        starting_ind_c = starting_ind_c - num_arcs\n",
    "    # Dimension (samples, num edges)\n",
    "    obj = torch.sum(sol * costs, axis=1)\n",
    "    # Dimension (samples, 1)\n",
    "    return sol.to(torch.float32), obj.reshape(-1,1).to(torch.float32)"
   ]
  },
  {
   "cell_type": "markdown",
   "id": "de5241a8-76e5-43e7-b449-e06edebf18e5",
   "metadata": {},
   "source": [
    "# Verify Previous Results"
   ]
  },
  {
   "cell_type": "markdown",
   "id": "8173e85c-f7e9-4ce3-a4a1-00d28c0e4c3d",
   "metadata": {},
   "source": [
    "# Compare Input Data"
   ]
  },
  {
   "cell_type": "markdown",
   "id": "4dee476f-52ef-420b-89b0-9327028bc100",
   "metadata": {},
   "source": [
    "### Shared Inputs to both old and new data"
   ]
  },
  {
   "cell_type": "code",
   "execution_count": 41,
   "id": "d0eaa134-ec8b-4fec-8d69-f0904e386412",
   "metadata": {},
   "outputs": [
    {
     "name": "stdout",
     "output_type": "stream",
     "text": [
      "200 unif 0\n"
     ]
    }
   ],
   "source": [
    "torch.manual_seed(105)\n",
    "indices_arr = torch.randperm(100000)\n",
    "indices_arr_test = torch.randperm(100000)\n",
    "\n",
    "sim = 0\n",
    "n_arr = [200, 400, 800, 1600]\n",
    "ep_arr = ['unif', 'normal']\n",
    "trials = 100\n",
    "\n",
    "exp_arr = []\n",
    "for n in n_arr:\n",
    "    for ep in ep_arr:\n",
    "        for t in range(trials):\n",
    "            exp_arr.append([n, ep, t])\n",
    "\n",
    "# setup\n",
    "exp = exp_arr[0]\n",
    "ep_type = exp[1]\n",
    "trial = exp[2]\n",
    "\n",
    "# generate data\n",
    "grid = (5, 5)  # grid size\n",
    "num_data = exp[0]  # number of training data\n",
    "num_feat = 5  # size of feature\n",
    "deg = 6  # polynomial degree\n",
    "e = .3  # noise width\n",
    "\n",
    "print(num_data, ep_type, trial)"
   ]
  },
  {
   "cell_type": "markdown",
   "id": "367ec7e8-efbc-49e1-8d8f-b1f3ce16f1d3",
   "metadata": {},
   "source": [
    "### New Input Data"
   ]
  },
  {
   "cell_type": "code",
   "execution_count": 87,
   "id": "5de0e669-be35-4a6c-8062-a340eb2e7e0f",
   "metadata": {},
   "outputs": [],
   "source": [
    "import decision_learning.data.shortest_path_grid\n",
    "importlib.reload(decision_learning.data.shortest_path_grid)\n",
    "from decision_learning.data.shortest_path_grid import genData"
   ]
  },
  {
   "cell_type": "code",
   "execution_count": 88,
   "id": "6f7778a9-6f09-4214-9dab-751370da5dc7",
   "metadata": {},
   "outputs": [],
   "source": [
    "# path planting for shortest path example\n",
    "planted_good_pwl_params = {'slope0':0, \n",
    "                    'int0':2,\n",
    "                    'slope1':0, \n",
    "                    'int1':2}\n",
    "planted_bad_pwl_params = {'slope0':4, \n",
    "                    'int0':0,\n",
    "                    'slope1':0, \n",
    "                    'int1':2.2}\n",
    "\n",
    "plant_edge = True"
   ]
  },
  {
   "cell_type": "code",
   "execution_count": 432,
   "id": "1d1ef73d-f20b-4432-bac1-b17413158f10",
   "metadata": {
    "scrolled": true
   },
   "outputs": [
    {
     "name": "stderr",
     "output_type": "stream",
     "text": [
      "2024-11-13 16:23:53,068 - decision_learning.data.shortest_path_grid - DEBUG - good_bad_edges: [ 1  4  9 16 24 31 36 39  0  3  8 15 23 30 35 38], remain_edges: [ 2  5  6  7 10 11 12 13 14 17 18 19 20 21 22 25 26 27 28 29 32 33 34 37]\n",
      "2024-11-13 16:23:53,068 - decision_learning.data.shortest_path_grid - DEBUG - good_bad_edges: [ 1  4  9 16 24 31 36 39  0  3  8 15 23 30 35 38], remain_edges: [ 2  5  6  7 10 11 12 13 14 17 18 19 20 21 22 25 26 27 28 29 32 33 34 37]\n",
      "2024-11-13 16:23:53,069 - decision_learning.data.shortest_path_grid - DEBUG - chg_pt: 0.0\n",
      "2024-11-13 16:23:53,069 - decision_learning.data.shortest_path_grid - DEBUG - chg_pt: 0.0\n",
      "2024-11-13 16:23:53,069 - decision_learning.data.shortest_path_grid - DEBUG - chg_pt: 0.55\n",
      "2024-11-13 16:23:53,069 - decision_learning.data.shortest_path_grid - DEBUG - chg_pt: 0.55\n",
      "2024-11-13 16:23:53,096 - decision_learning.data.shortest_path_grid - DEBUG - good_bad_edges: [ 1  4  9 16 24 31 36 39  0  3  8 15 23 30 35 38], remain_edges: [ 2  5  6  7 10 11 12 13 14 17 18 19 20 21 22 25 26 27 28 29 32 33 34 37]\n",
      "2024-11-13 16:23:53,096 - decision_learning.data.shortest_path_grid - DEBUG - good_bad_edges: [ 1  4  9 16 24 31 36 39  0  3  8 15 23 30 35 38], remain_edges: [ 2  5  6  7 10 11 12 13 14 17 18 19 20 21 22 25 26 27 28 29 32 33 34 37]\n",
      "2024-11-13 16:23:53,097 - decision_learning.data.shortest_path_grid - DEBUG - chg_pt: 0.0\n",
      "2024-11-13 16:23:53,097 - decision_learning.data.shortest_path_grid - DEBUG - chg_pt: 0.0\n",
      "2024-11-13 16:23:53,098 - decision_learning.data.shortest_path_grid - DEBUG - chg_pt: 0.55\n",
      "2024-11-13 16:23:53,098 - decision_learning.data.shortest_path_grid - DEBUG - chg_pt: 0.55\n"
     ]
    }
   ],
   "source": [
    "generated_data = genData(num_data=num_data+200,\n",
    "        num_features=num_feat, \n",
    "        grid=grid, \n",
    "        deg=deg, \n",
    "        noise_type=ep_type,\n",
    "        noise_width=e,\n",
    "        seed=indices_arr[trial],     \n",
    "        plant_edges=plant_edge,\n",
    "        planted_good_pwl_params=planted_good_pwl_params,\n",
    "        planted_bad_pwl_params=planted_bad_pwl_params)\n",
    "sol, obj = shortest_path_solver(costs=generated_data['cost'], size=5)\n",
    "final_data = {'X':generated_data['feat'],\n",
    "              'true_cost':generated_data['cost'],\n",
    "              'true_sol':sol,\n",
    "              'true_obj':obj}\n",
    "\n",
    "# Splitting each input in the same way\n",
    "train_dict = {}\n",
    "val_dict = {}\n",
    "\n",
    "for key, value in final_data.items():\n",
    "    train_data, val_data = train_test_split(value, test_size=200, random_state=42)\n",
    "    train_dict[key] = train_data\n",
    "    val_dict[key] = val_data\n",
    "    \n",
    "# test data\n",
    "generated_data_test = genData(num_data=10000,\n",
    "        num_features=num_feat, \n",
    "        grid=grid, \n",
    "        deg=deg, \n",
    "        noise_type=ep_type,\n",
    "        noise_width=e,\n",
    "        seed=indices_arr_test[trial],     \n",
    "        plant_edges=plant_edge,\n",
    "        planted_good_pwl_params=planted_good_pwl_params,\n",
    "        planted_bad_pwl_params=planted_bad_pwl_params)\n",
    "sol_test, obj_test = shortest_path_solver(costs=generated_data_test['cost_true'], size=5)\n",
    "final_data_test = {'X':generated_data_test['feat'],\n",
    "              'true_cost':generated_data_test['cost_true'],\n",
    "              'true_sol':sol_test,\n",
    "              'true_obj':obj_test}"
   ]
  },
  {
   "cell_type": "code",
   "execution_count": 431,
   "id": "dd4b8af1-e211-4300-8df2-ef5e11d48bf6",
   "metadata": {},
   "outputs": [
    {
     "data": {
      "text/plain": [
       "dict_keys(['feat', 'cost_noplant', 'cost_true', 'cost', 'epsilon'])"
      ]
     },
     "execution_count": 431,
     "metadata": {},
     "output_type": "execute_result"
    }
   ],
   "source": [
    "generated_data_test.keys()"
   ]
  },
  {
   "cell_type": "markdown",
   "id": "aad444ea-f70b-4282-ba49-292ad058f816",
   "metadata": {},
   "source": [
    "### Old Input Data"
   ]
  },
  {
   "cell_type": "code",
   "execution_count": 234,
   "id": "f7dc196c-f900-4531-999a-a289a0e605e4",
   "metadata": {},
   "outputs": [],
   "source": [
    "import sys\n",
    "sys.path.append('/home1/yongpeng/decision-focused-learning/experiments/shortest_path_grid_exp/')\n",
    "import sp_grid_mike_neurips\n",
    "importlib.reload(sp_grid_mike_neurips)\n",
    "import sp_grid_mike_neurips"
   ]
  },
  {
   "cell_type": "code",
   "execution_count": 131,
   "id": "00f7a2c3-3067-4fca-bb20-8577e79a4004",
   "metadata": {
    "scrolled": true
   },
   "outputs": [],
   "source": [
    "feat, cost_true, cost, eps = sp_grid_mike_neurips.genData(num_data + 200, \n",
    "                                                     num_feat, \n",
    "                                                     grid, \n",
    "                                                     ep_type, \n",
    "                                                     deg, \n",
    "                                                     e, \n",
    "                                                     seed=indices_arr[trial])\n",
    "x_train, x_val, c_train, c_val = train_test_split(feat, cost, test_size=200, random_state=42)\n",
    "x_test, c_test, c_hat_test, eps_test = sp_grid_mike_neurips.genData(10000, \n",
    "                                                          num_feat, \n",
    "                                                          grid, \n",
    "                                                          ep_type, \n",
    "                                                          deg, \n",
    "                                                          e, \n",
    "                                                          seed=indices_arr_test[trial])\n",
    "\n",
    "# train\n",
    "sol_tr, obj_tr = shortest_path_solver(costs=c_train, size=5)\n",
    "train_dict_old = {'X':x_train[:,:-1],\n",
    "              'true_cost':c_train,\n",
    "              'true_sol':sol_tr,\n",
    "              'true_obj':obj_tr}\n",
    "# val\n",
    "sol_v, obj_v = shortest_path_solver(costs=c_val, size=5)\n",
    "val_dict_old = {'X':x_val[:,:-1],\n",
    "              'true_cost':c_val,\n",
    "              'true_sol':sol_v,\n",
    "              'true_obj':obj_v}\n",
    "\n",
    "# test\n",
    "sol_te, obj_te = shortest_path_solver(costs=c_hat_test, size=5)\n",
    "final_data_te = {'X':x_test[:,:-1],\n",
    "              'true_cost':c_hat_test,\n",
    "              'true_sol':sol_te,\n",
    "              'true_obj':obj_te}"
   ]
  },
  {
   "cell_type": "markdown",
   "id": "09cbeed5-e358-45c3-b2de-7d4728908441",
   "metadata": {},
   "source": [
    "### Compare the old and new data inputs"
   ]
  },
  {
   "cell_type": "markdown",
   "id": "c82d6f2b-ebec-468c-a452-b20d2fedb5fd",
   "metadata": {},
   "source": [
    "#### Costs before noise"
   ]
  },
  {
   "cell_type": "code",
   "execution_count": 93,
   "id": "3e9ff289-a782-4b88-abaa-46df6d9ede97",
   "metadata": {},
   "outputs": [
    {
     "data": {
      "text/plain": [
       "tensor(True)"
      ]
     },
     "execution_count": 93,
     "metadata": {},
     "output_type": "execute_result"
    }
   ],
   "source": [
    "(torch.tensor(generated_data['cost_true'], dtype=torch.float32) == cost_true).all()"
   ]
  },
  {
   "cell_type": "markdown",
   "id": "961a34e2-2bb9-4168-a64e-7dbc19a309b7",
   "metadata": {},
   "source": [
    "#### Costs After Noise"
   ]
  },
  {
   "cell_type": "code",
   "execution_count": 94,
   "id": "0439275c-6de3-445e-8c43-b9f300cc9284",
   "metadata": {},
   "outputs": [
    {
     "data": {
      "text/plain": [
       "tensor(True)"
      ]
     },
     "execution_count": 94,
     "metadata": {},
     "output_type": "execute_result"
    }
   ],
   "source": [
    "(torch.tensor(generated_data['cost'], dtype=torch.float32) == cost).all()"
   ]
  },
  {
   "cell_type": "markdown",
   "id": "6b3d8986-3c4e-4686-adcd-6d9b2c5ee5c6",
   "metadata": {},
   "source": [
    "#### Training Data"
   ]
  },
  {
   "cell_type": "code",
   "execution_count": 113,
   "id": "1a14647f-7037-4a54-82cc-a5e6ddbe3274",
   "metadata": {},
   "outputs": [
    {
     "name": "stdout",
     "output_type": "stream",
     "text": [
      "X\n",
      "True\n",
      "true_cost\n",
      "True\n",
      "true_sol\n",
      "True\n",
      "true_obj\n",
      "True\n"
     ]
    },
    {
     "name": "stderr",
     "output_type": "stream",
     "text": [
      "/tmp/SLURM_27423203/ipykernel_37376/1802200100.py:3: UserWarning: To copy construct from a tensor, it is recommended to use sourceTensor.clone().detach() or sourceTensor.clone().detach().requires_grad_(True), rather than torch.tensor(sourceTensor).\n",
      "  print(torch.allclose(torch.tensor(train_dict[k], dtype=torch.float32),\n"
     ]
    }
   ],
   "source": [
    "for k in train_dict.keys():\n",
    "    print(k)\n",
    "    print(torch.allclose(torch.tensor(train_dict[k], dtype=torch.float32),\n",
    "                   train_dict_old[k]))\n",
    "                   "
   ]
  },
  {
   "cell_type": "markdown",
   "id": "e5b86954-dfe7-44df-8095-ccf7f4bc8d2d",
   "metadata": {},
   "source": [
    "#### Validation Data"
   ]
  },
  {
   "cell_type": "code",
   "execution_count": 116,
   "id": "4d15bee1-eb19-4ca5-a94f-16e869577a25",
   "metadata": {},
   "outputs": [
    {
     "name": "stdout",
     "output_type": "stream",
     "text": [
      "X\n",
      "True\n",
      "true_cost\n",
      "True\n",
      "true_sol\n",
      "True\n",
      "true_obj\n",
      "True\n"
     ]
    },
    {
     "name": "stderr",
     "output_type": "stream",
     "text": [
      "/tmp/SLURM_27423203/ipykernel_37376/2673537216.py:3: UserWarning: To copy construct from a tensor, it is recommended to use sourceTensor.clone().detach() or sourceTensor.clone().detach().requires_grad_(True), rather than torch.tensor(sourceTensor).\n",
      "  print(torch.allclose(torch.tensor(val_dict[k], dtype=torch.float32),\n"
     ]
    }
   ],
   "source": [
    "for k in val_dict.keys():\n",
    "    print(k)\n",
    "    print(torch.allclose(torch.tensor(val_dict[k], dtype=torch.float32),\n",
    "                   val_dict_old[k]))"
   ]
  },
  {
   "cell_type": "markdown",
   "id": "5a9d2016-762b-4dc3-b898-ac4b6246a255",
   "metadata": {},
   "source": [
    "#### Test Data"
   ]
  },
  {
   "cell_type": "code",
   "execution_count": 132,
   "id": "a86c7d68-24eb-49d7-a46e-f0a910990ef2",
   "metadata": {},
   "outputs": [
    {
     "name": "stdout",
     "output_type": "stream",
     "text": [
      "X\n",
      "True\n",
      "true_cost\n",
      "True\n",
      "true_sol\n",
      "True\n",
      "true_obj\n",
      "True\n"
     ]
    },
    {
     "name": "stderr",
     "output_type": "stream",
     "text": [
      "/tmp/SLURM_27423203/ipykernel_37376/4035419391.py:3: UserWarning: To copy construct from a tensor, it is recommended to use sourceTensor.clone().detach() or sourceTensor.clone().detach().requires_grad_(True), rather than torch.tensor(sourceTensor).\n",
      "  print(torch.allclose(torch.tensor(final_data_test[k], dtype=torch.float32),\n"
     ]
    }
   ],
   "source": [
    "for k in final_data_test.keys():\n",
    "    print(k)\n",
    "    print(torch.allclose(torch.tensor(final_data_test[k], dtype=torch.float32),\n",
    "                   final_data_te[k]))"
   ]
  },
  {
   "cell_type": "markdown",
   "id": "e404b83a-3f9f-4d07-8687-478b69b62465",
   "metadata": {},
   "source": [
    "# Data All the Same!"
   ]
  },
  {
   "cell_type": "markdown",
   "id": "ffe5a212-5193-4d9f-bd1a-9ae9d1bc2192",
   "metadata": {},
   "source": [
    "# Loss Function Difference?"
   ]
  },
  {
   "cell_type": "code",
   "execution_count": 291,
   "id": "b073ee4a-996d-4939-8bde-0370a962d855",
   "metadata": {},
   "outputs": [],
   "source": [
    "predmodel = LinearRegression(input_dim=feat.shape[1],\n",
    "                 output_dim=train_dict['true_cost'].shape[1])\n",
    "optimizer = torch.optim.Adam(pred_model.parameters(), lr=0.01)"
   ]
  },
  {
   "cell_type": "markdown",
   "id": "f3670732-98ce-4ae9-956f-bb7f6871dedb",
   "metadata": {},
   "source": [
    "#### Loss Calc"
   ]
  },
  {
   "cell_type": "markdown",
   "id": "0e8bd812-0f44-44f7-b365-0d99400d1475",
   "metadata": {},
   "source": [
    "New Loss Function"
   ]
  },
  {
   "cell_type": "code",
   "execution_count": 292,
   "id": "9164e350-c691-460f-8a17-f28d4229f301",
   "metadata": {},
   "outputs": [],
   "source": [
    "new_loss_fn = SPOPlus(optmodel=optmodel)"
   ]
  },
  {
   "cell_type": "code",
   "execution_count": 293,
   "id": "e2bf7c83-3eb0-4f2e-a1a7-0e8414b4387a",
   "metadata": {},
   "outputs": [
    {
     "data": {
      "text/plain": [
       "tensor(10.9612, grad_fn=<MeanBackward0>)"
      ]
     },
     "execution_count": 293,
     "metadata": {},
     "output_type": "execute_result"
    }
   ],
   "source": [
    "cp = predmodel(train_dict_old['X'])\n",
    "new_loss = new_loss_fn(cp,\n",
    "            true_cost=train_dict_old['true_cost'],\n",
    "            true_sol=train_dict_old['true_sol'], \n",
    "            true_obj=train_dict_old['true_obj'])\n",
    "new_loss"
   ]
  },
  {
   "cell_type": "markdown",
   "id": "c9d3ead8-c001-4a28-8989-5df3b6c489d0",
   "metadata": {},
   "source": [
    "Gradient"
   ]
  },
  {
   "cell_type": "code",
   "execution_count": 294,
   "id": "78aaf24a-290b-4a26-83c6-ce0d8a5a071c",
   "metadata": {},
   "outputs": [],
   "source": [
    "new_loss.backward()"
   ]
  },
  {
   "cell_type": "code",
   "execution_count": 295,
   "id": "83391a4f-9009-4305-ad35-829811564215",
   "metadata": {},
   "outputs": [
    {
     "name": "stdout",
     "output_type": "stream",
     "text": [
      "Gradients of the model's parameters:\n",
      "linear.weight gradient:\n",
      "tensor([-0.1378,  0.3801, -0.2576,  0.1089,  0.1560, -1.0474, -0.5900])\n",
      "linear.bias gradient:\n",
      "-0.5899999737739563\n"
     ]
    }
   ],
   "source": [
    "# Check gradients\n",
    "\n",
    "print(\"Gradients of the model's parameters:\")\n",
    "for name, param in predmodel.named_parameters():\n",
    "    print(f\"{name} gradient:\\n{param.grad[0]}\")"
   ]
  },
  {
   "cell_type": "code",
   "execution_count": 297,
   "id": "4c1d7c0f-bf5d-4acf-95f5-0f1d88c1daf2",
   "metadata": {},
   "outputs": [],
   "source": [
    "# Reset gradients\n",
    "for param in predmodel.parameters():\n",
    "    if param.grad is not None:\n",
    "        param.grad.zero_()"
   ]
  },
  {
   "cell_type": "markdown",
   "id": "c3c29c8c-72aa-418c-b8ea-29fe814a29cf",
   "metadata": {},
   "source": [
    "Old Loss"
   ]
  },
  {
   "cell_type": "code",
   "execution_count": 334,
   "id": "b53bfceb-ec2f-4d3a-ad09-9e4648952aca",
   "metadata": {},
   "outputs": [],
   "source": [
    "import sp_grid_mike_neurips\n",
    "importlib.reload(sp_grid_mike_neurips)\n",
    "from sp_grid_mike_neurips import SPOPlus2, regret_func, trainModel, regret_func"
   ]
  },
  {
   "cell_type": "code",
   "execution_count": 299,
   "id": "6ce85df4-07db-4116-a07c-be10b0fc7731",
   "metadata": {},
   "outputs": [
    {
     "name": "stdout",
     "output_type": "stream",
     "text": [
      "Num of cores: 1\n"
     ]
    },
    {
     "data": {
      "text/plain": [
       "tensor(10.9612, grad_fn=<MeanBackward0>)"
      ]
     },
     "execution_count": 299,
     "metadata": {},
     "output_type": "execute_result"
    }
   ],
   "source": [
    "optmodel_old = sp_grid_mike_neurips.shortestPathModel()\n",
    "old_loss_fn = SPOPlus2(optmodel_old)\n",
    "\n",
    "cp = predmodel(train_dict_old['X'])\n",
    "old_loss = old_loss_fn(cp,\n",
    "            true_cost=train_dict_old['true_cost'],\n",
    "            true_sol=train_dict_old['true_sol'], \n",
    "            true_obj=train_dict_old['true_obj'])\n",
    "old_loss"
   ]
  },
  {
   "cell_type": "code",
   "execution_count": 300,
   "id": "13b526db-2ccd-49a2-894d-3b77e98f0051",
   "metadata": {},
   "outputs": [],
   "source": [
    "old_loss.backward()"
   ]
  },
  {
   "cell_type": "code",
   "execution_count": 301,
   "id": "795cced7-0330-463f-9700-4c16fc8fe10f",
   "metadata": {},
   "outputs": [
    {
     "name": "stdout",
     "output_type": "stream",
     "text": [
      "Gradients of the model's parameters:\n",
      "linear.weight gradient:\n",
      "tensor([-0.1378,  0.3801, -0.2576,  0.1089,  0.1560, -1.0474, -0.5900])\n",
      "linear.bias gradient:\n",
      "-0.5899999737739563\n"
     ]
    }
   ],
   "source": [
    "# Check gradients\n",
    "print(\"Gradients of the model's parameters:\")\n",
    "for name, param in predmodel.named_parameters():\n",
    "    print(f\"{name} gradient:\\n{param.grad[0]}\")"
   ]
  },
  {
   "cell_type": "code",
   "execution_count": 286,
   "id": "2d258f18-d12e-4338-9b8a-5787ad62e4bf",
   "metadata": {},
   "outputs": [],
   "source": [
    "# Reset gradients\n",
    "for param in predmodel.parameters():\n",
    "    if param.grad is not None:\n",
    "        param.grad.zero_()"
   ]
  },
  {
   "cell_type": "markdown",
   "id": "0a8b7a57-a501-4151-8373-76542d4f44ab",
   "metadata": {},
   "source": [
    "Gradients also the same"
   ]
  },
  {
   "cell_type": "code",
   "execution_count": 313,
   "id": "9407f105-e92c-41a1-9342-522396c5b9ad",
   "metadata": {},
   "outputs": [],
   "source": [
    "predmodel = LinearRegression(input_dim=train_dict['X'].shape[1],\n",
    "                 output_dim=train_dict['true_cost'].shape[1])"
   ]
  },
  {
   "cell_type": "markdown",
   "id": "26c70269-8665-4379-85a2-85a8d4d7d558",
   "metadata": {},
   "source": [
    "Baby New Training Loop"
   ]
  },
  {
   "cell_type": "code",
   "execution_count": 433,
   "id": "479663e5-7062-4798-9863-c41844b9d031",
   "metadata": {},
   "outputs": [],
   "source": [
    "new_model = LinearRegression(input_dim=train_dict['X'].shape[1],\n",
    "                 output_dim=train_dict['true_cost'].shape[1])\n",
    "new_model.linear = copy.deepcopy(predmodel.linear)\n",
    "\n",
    "optmodel = partial(shortest_path_solver,size=5)\n",
    "loss_fn = SPOPlus(optmodel=optmodel)\n",
    "\n",
    "preset_params = {'optmodel': optmodel, 'minimize': True}\n",
    "val_metric = partial(decision_regret, **preset_params)\n",
    "\n",
    "optimizer = torch.optim.Adam(new_model.parameters(), lr=0.01)\n",
    "train_dataset, train_loader = init_loss_data_pretraining(train_dict, {'batch_size':200, 'shuffle':True})  # training data        \n",
    "val_dataset, val_loader = init_loss_data_pretraining(val_dict, {'batch_size':200, 'shuffle':True})  # validation data\n",
    "    "
   ]
  },
  {
   "cell_type": "code",
   "execution_count": 434,
   "id": "917687dc-79f3-437e-8953-5503db70942d",
   "metadata": {
    "scrolled": true
   },
   "outputs": [
    {
     "name": "stderr",
     "output_type": "stream",
     "text": [
      "100%|██████████| 1/1 [00:00<00:00, 250.26it/s]\n"
     ]
    },
    {
     "name": "stdout",
     "output_type": "stream",
     "text": [
      "tensor([-0.3795,  0.1344, -0.3751, -0.3201, -0.0209,  0.3107],\n",
      "       grad_fn=<SelectBackward0>)\n"
     ]
    },
    {
     "name": "stderr",
     "output_type": "stream",
     "text": [
      "100%|██████████| 1/1 [00:00<00:00, 665.02it/s]\n"
     ]
    },
    {
     "name": "stdout",
     "output_type": "stream",
     "text": [
      "epoch: 0, train_loss: 17.493484497070312, val_metric: 0.5201238330848681\n"
     ]
    },
    {
     "name": "stderr",
     "output_type": "stream",
     "text": [
      "100%|██████████| 1/1 [00:00<00:00, 328.01it/s]\n"
     ]
    },
    {
     "name": "stdout",
     "output_type": "stream",
     "text": [
      "tensor([-0.3714,  0.1244, -0.3651, -0.3298, -0.0309,  0.3202],\n",
      "       grad_fn=<SelectBackward0>)\n"
     ]
    },
    {
     "name": "stderr",
     "output_type": "stream",
     "text": [
      "100%|██████████| 1/1 [00:00<00:00, 212.00it/s]\n"
     ]
    },
    {
     "name": "stdout",
     "output_type": "stream",
     "text": [
      "epoch: 1, train_loss: 16.7802677154541, val_metric: 0.4958449865293985\n"
     ]
    },
    {
     "name": "stderr",
     "output_type": "stream",
     "text": [
      "100%|██████████| 1/1 [00:00<00:00, 327.88it/s]\n"
     ]
    },
    {
     "name": "stdout",
     "output_type": "stream",
     "text": [
      "tensor([-0.3660,  0.1144, -0.3551, -0.3358, -0.0407,  0.3299],\n",
      "       grad_fn=<SelectBackward0>)\n"
     ]
    },
    {
     "name": "stderr",
     "output_type": "stream",
     "text": [
      "100%|██████████| 1/1 [00:00<00:00, 697.08it/s]\n"
     ]
    },
    {
     "name": "stdout",
     "output_type": "stream",
     "text": [
      "epoch: 2, train_loss: 16.084394454956055, val_metric: 0.504316426469192\n"
     ]
    },
    {
     "name": "stderr",
     "output_type": "stream",
     "text": [
      "100%|██████████| 1/1 [00:00<00:00, 333.52it/s]\n"
     ]
    },
    {
     "name": "stdout",
     "output_type": "stream",
     "text": [
      "tensor([-0.3653,  0.1044, -0.3451, -0.3390, -0.0503,  0.3397],\n",
      "       grad_fn=<SelectBackward0>)\n"
     ]
    },
    {
     "name": "stderr",
     "output_type": "stream",
     "text": [
      "100%|██████████| 1/1 [00:00<00:00, 543.94it/s]\n"
     ]
    },
    {
     "name": "stdout",
     "output_type": "stream",
     "text": [
      "epoch: 3, train_loss: 15.414484977722168, val_metric: 0.44975737804717386\n"
     ]
    },
    {
     "name": "stderr",
     "output_type": "stream",
     "text": [
      "100%|██████████| 1/1 [00:00<00:00, 172.73it/s]\n"
     ]
    },
    {
     "name": "stdout",
     "output_type": "stream",
     "text": [
      "tensor([-0.3689,  0.0945, -0.3351, -0.3377, -0.0599,  0.3494],\n",
      "       grad_fn=<SelectBackward0>)\n"
     ]
    },
    {
     "name": "stderr",
     "output_type": "stream",
     "text": [
      "100%|██████████| 1/1 [00:00<00:00, 690.31it/s]\n"
     ]
    },
    {
     "name": "stdout",
     "output_type": "stream",
     "text": [
      "epoch: 4, train_loss: 14.766685485839844, val_metric: 0.4425716603939225\n"
     ]
    },
    {
     "name": "stderr",
     "output_type": "stream",
     "text": [
      "100%|██████████| 1/1 [00:00<00:00, 333.01it/s]\n"
     ]
    },
    {
     "name": "stdout",
     "output_type": "stream",
     "text": [
      "tensor([-0.3657,  0.0845, -0.3251, -0.3331, -0.0693,  0.3591],\n",
      "       grad_fn=<SelectBackward0>)\n"
     ]
    },
    {
     "name": "stderr",
     "output_type": "stream",
     "text": [
      "100%|██████████| 1/1 [00:00<00:00, 697.08it/s]\n"
     ]
    },
    {
     "name": "stdout",
     "output_type": "stream",
     "text": [
      "epoch: 5, train_loss: 14.13941764831543, val_metric: 0.4411389452555182\n"
     ]
    },
    {
     "name": "stderr",
     "output_type": "stream",
     "text": [
      "100%|██████████| 1/1 [00:00<00:00, 332.72it/s]\n"
     ]
    },
    {
     "name": "stdout",
     "output_type": "stream",
     "text": [
      "tensor([-0.3603,  0.0746, -0.3152, -0.3279, -0.0785,  0.3688],\n",
      "       grad_fn=<SelectBackward0>)\n"
     ]
    },
    {
     "name": "stderr",
     "output_type": "stream",
     "text": [
      "100%|██████████| 1/1 [00:00<00:00, 693.96it/s]\n"
     ]
    },
    {
     "name": "stdout",
     "output_type": "stream",
     "text": [
      "epoch: 6, train_loss: 13.531818389892578, val_metric: 0.4276200219730913\n"
     ]
    },
    {
     "name": "stderr",
     "output_type": "stream",
     "text": [
      "100%|██████████| 1/1 [00:00<00:00, 332.62it/s]\n"
     ]
    },
    {
     "name": "stdout",
     "output_type": "stream",
     "text": [
      "tensor([-0.3534,  0.0647, -0.3054, -0.3217, -0.0872,  0.3785],\n",
      "       grad_fn=<SelectBackward0>)\n"
     ]
    },
    {
     "name": "stderr",
     "output_type": "stream",
     "text": [
      "100%|██████████| 1/1 [00:00<00:00, 675.96it/s]\n"
     ]
    },
    {
     "name": "stdout",
     "output_type": "stream",
     "text": [
      "epoch: 7, train_loss: 12.951427459716797, val_metric: 0.40223044905155625\n"
     ]
    },
    {
     "name": "stderr",
     "output_type": "stream",
     "text": [
      "100%|██████████| 1/1 [00:00<00:00, 332.35it/s]\n"
     ]
    },
    {
     "name": "stdout",
     "output_type": "stream",
     "text": [
      "tensor([-0.3456,  0.0549, -0.2956, -0.3145, -0.0955,  0.3877],\n",
      "       grad_fn=<SelectBackward0>)\n"
     ]
    },
    {
     "name": "stderr",
     "output_type": "stream",
     "text": [
      "100%|██████████| 1/1 [00:00<00:00, 681.78it/s]\n"
     ]
    },
    {
     "name": "stdout",
     "output_type": "stream",
     "text": [
      "epoch: 8, train_loss: 12.397736549377441, val_metric: 0.39758152101106065\n"
     ]
    },
    {
     "name": "stderr",
     "output_type": "stream",
     "text": [
      "100%|██████████| 1/1 [00:00<00:00, 332.70it/s]\n"
     ]
    },
    {
     "name": "stdout",
     "output_type": "stream",
     "text": [
      "tensor([-0.3371,  0.0452, -0.2859, -0.3077, -0.1031,  0.3970],\n",
      "       grad_fn=<SelectBackward0>)\n"
     ]
    },
    {
     "name": "stderr",
     "output_type": "stream",
     "text": [
      "100%|██████████| 1/1 [00:00<00:00, 650.18it/s]\n"
     ]
    },
    {
     "name": "stdout",
     "output_type": "stream",
     "text": [
      "epoch: 9, train_loss: 11.860346794128418, val_metric: 0.3653961336275114\n"
     ]
    },
    {
     "name": "stderr",
     "output_type": "stream",
     "text": [
      "100%|██████████| 1/1 [00:00<00:00, 337.60it/s]\n"
     ]
    },
    {
     "name": "stdout",
     "output_type": "stream",
     "text": [
      "tensor([-0.3281,  0.0356, -0.2763, -0.3022, -0.1101,  0.4065],\n",
      "       grad_fn=<SelectBackward0>)\n"
     ]
    },
    {
     "name": "stderr",
     "output_type": "stream",
     "text": [
      "100%|██████████| 1/1 [00:00<00:00, 566.57it/s]\n"
     ]
    },
    {
     "name": "stdout",
     "output_type": "stream",
     "text": [
      "epoch: 10, train_loss: 11.4478120803833, val_metric: 0.3371268497945089\n"
     ]
    },
    {
     "name": "stderr",
     "output_type": "stream",
     "text": [
      "100%|██████████| 1/1 [00:00<00:00, 329.17it/s]\n"
     ]
    },
    {
     "name": "stdout",
     "output_type": "stream",
     "text": [
      "tensor([-0.3190,  0.0261, -0.2670, -0.3014, -0.1164,  0.4163],\n",
      "       grad_fn=<SelectBackward0>)\n"
     ]
    },
    {
     "name": "stderr",
     "output_type": "stream",
     "text": [
      "100%|██████████| 1/1 [00:00<00:00, 721.41it/s]\n"
     ]
    },
    {
     "name": "stdout",
     "output_type": "stream",
     "text": [
      "epoch: 11, train_loss: 10.870155334472656, val_metric: 0.33167383364094655\n"
     ]
    },
    {
     "name": "stderr",
     "output_type": "stream",
     "text": [
      "100%|██████████| 1/1 [00:00<00:00, 337.08it/s]\n"
     ]
    },
    {
     "name": "stdout",
     "output_type": "stream",
     "text": [
      "tensor([-0.3103,  0.0167, -0.2578, -0.3032, -0.1221,  0.4263],\n",
      "       grad_fn=<SelectBackward0>)\n"
     ]
    },
    {
     "name": "stderr",
     "output_type": "stream",
     "text": [
      "100%|██████████| 1/1 [00:00<00:00, 722.16it/s]\n"
     ]
    },
    {
     "name": "stdout",
     "output_type": "stream",
     "text": [
      "epoch: 12, train_loss: 10.404491424560547, val_metric: 0.27706080255924936\n"
     ]
    },
    {
     "name": "stderr",
     "output_type": "stream",
     "text": [
      "100%|██████████| 1/1 [00:00<00:00, 338.96it/s]\n"
     ]
    },
    {
     "name": "stdout",
     "output_type": "stream",
     "text": [
      "tensor([-0.3025,  0.0073, -0.2489, -0.3078, -0.1270,  0.4365],\n",
      "       grad_fn=<SelectBackward0>)\n"
     ]
    },
    {
     "name": "stderr",
     "output_type": "stream",
     "text": [
      "100%|██████████| 1/1 [00:00<00:00, 712.83it/s]\n"
     ]
    },
    {
     "name": "stdout",
     "output_type": "stream",
     "text": [
      "epoch: 13, train_loss: 9.957537651062012, val_metric: 0.2579039126235752\n"
     ]
    },
    {
     "name": "stderr",
     "output_type": "stream",
     "text": [
      "100%|██████████| 1/1 [00:00<00:00, 338.41it/s]\n"
     ]
    },
    {
     "name": "stdout",
     "output_type": "stream",
     "text": [
      "tensor([-0.2953, -0.0020, -0.2405, -0.3136, -0.1315,  0.4469],\n",
      "       grad_fn=<SelectBackward0>)\n"
     ]
    },
    {
     "name": "stderr",
     "output_type": "stream",
     "text": [
      "100%|██████████| 1/1 [00:00<00:00, 724.15it/s]\n"
     ]
    },
    {
     "name": "stdout",
     "output_type": "stream",
     "text": [
      "epoch: 14, train_loss: 9.53393840789795, val_metric: 0.2534060941651285\n"
     ]
    },
    {
     "name": "stderr",
     "output_type": "stream",
     "text": [
      "100%|██████████| 1/1 [00:00<00:00, 339.56it/s]\n"
     ]
    },
    {
     "name": "stdout",
     "output_type": "stream",
     "text": [
      "tensor([-0.2895, -0.0110, -0.2322, -0.3204, -0.1355,  0.4575],\n",
      "       grad_fn=<SelectBackward0>)\n"
     ]
    },
    {
     "name": "stderr",
     "output_type": "stream",
     "text": [
      "100%|██████████| 1/1 [00:00<00:00, 711.02it/s]\n"
     ]
    },
    {
     "name": "stdout",
     "output_type": "stream",
     "text": [
      "epoch: 15, train_loss: 9.12744426727295, val_metric: 0.2366724697741817\n"
     ]
    },
    {
     "name": "stderr",
     "output_type": "stream",
     "text": [
      "100%|██████████| 1/1 [00:00<00:00, 338.11it/s]\n"
     ]
    },
    {
     "name": "stdout",
     "output_type": "stream",
     "text": [
      "tensor([-0.2854, -0.0197, -0.2242, -0.3272, -0.1389,  0.4683],\n",
      "       grad_fn=<SelectBackward0>)\n"
     ]
    },
    {
     "name": "stderr",
     "output_type": "stream",
     "text": [
      "100%|██████████| 1/1 [00:00<00:00, 713.80it/s]\n"
     ]
    },
    {
     "name": "stdout",
     "output_type": "stream",
     "text": [
      "epoch: 16, train_loss: 8.753935813903809, val_metric: 0.2286809894057537\n"
     ]
    },
    {
     "name": "stderr",
     "output_type": "stream",
     "text": [
      "100%|██████████| 1/1 [00:00<00:00, 337.71it/s]\n"
     ]
    },
    {
     "name": "stdout",
     "output_type": "stream",
     "text": [
      "tensor([-0.2832, -0.0281, -0.2166, -0.3344, -0.1418,  0.4787],\n",
      "       grad_fn=<SelectBackward0>)\n"
     ]
    },
    {
     "name": "stderr",
     "output_type": "stream",
     "text": [
      "100%|██████████| 1/1 [00:00<00:00, 717.34it/s]\n"
     ]
    },
    {
     "name": "stdout",
     "output_type": "stream",
     "text": [
      "epoch: 17, train_loss: 8.40645980834961, val_metric: 0.21928030810354687\n"
     ]
    },
    {
     "name": "stderr",
     "output_type": "stream",
     "text": [
      "100%|██████████| 1/1 [00:00<00:00, 339.37it/s]\n"
     ]
    },
    {
     "name": "stdout",
     "output_type": "stream",
     "text": [
      "tensor([-0.2829, -0.0361, -0.2093, -0.3420, -0.1442,  0.4890],\n",
      "       grad_fn=<SelectBackward0>)\n"
     ]
    },
    {
     "name": "stderr",
     "output_type": "stream",
     "text": [
      "100%|██████████| 1/1 [00:00<00:00, 728.18it/s]\n"
     ]
    },
    {
     "name": "stdout",
     "output_type": "stream",
     "text": [
      "epoch: 18, train_loss: 8.08495807647705, val_metric: 0.19484784006286368\n"
     ]
    },
    {
     "name": "stderr",
     "output_type": "stream",
     "text": [
      "100%|██████████| 1/1 [00:00<00:00, 339.84it/s]\n"
     ]
    },
    {
     "name": "stdout",
     "output_type": "stream",
     "text": [
      "tensor([-0.2843, -0.0439, -0.2025, -0.3488, -0.1457,  0.4991],\n",
      "       grad_fn=<SelectBackward0>)\n"
     ]
    },
    {
     "name": "stderr",
     "output_type": "stream",
     "text": [
      "100%|██████████| 1/1 [00:00<00:00, 711.02it/s]\n"
     ]
    },
    {
     "name": "stdout",
     "output_type": "stream",
     "text": [
      "epoch: 19, train_loss: 7.781777858734131, val_metric: 0.20823235326761463\n"
     ]
    },
    {
     "name": "stderr",
     "output_type": "stream",
     "text": [
      "100%|██████████| 1/1 [00:00<00:00, 339.78it/s]\n"
     ]
    },
    {
     "name": "stdout",
     "output_type": "stream",
     "text": [
      "tensor([-0.2878, -0.0514, -0.1961, -0.3539, -0.1462,  0.5092],\n",
      "       grad_fn=<SelectBackward0>)\n"
     ]
    },
    {
     "name": "stderr",
     "output_type": "stream",
     "text": [
      "100%|██████████| 1/1 [00:00<00:00, 718.08it/s]\n"
     ]
    },
    {
     "name": "stdout",
     "output_type": "stream",
     "text": [
      "epoch: 20, train_loss: 7.506954193115234, val_metric: 0.2231086345935038\n"
     ]
    },
    {
     "name": "stderr",
     "output_type": "stream",
     "text": [
      "100%|██████████| 1/1 [00:00<00:00, 338.96it/s]\n"
     ]
    },
    {
     "name": "stdout",
     "output_type": "stream",
     "text": [
      "tensor([-0.2927, -0.0583, -0.1902, -0.3565, -0.1460,  0.5193],\n",
      "       grad_fn=<SelectBackward0>)\n"
     ]
    },
    {
     "name": "stderr",
     "output_type": "stream",
     "text": [
      "100%|██████████| 1/1 [00:00<00:00, 712.23it/s]\n"
     ]
    },
    {
     "name": "stdout",
     "output_type": "stream",
     "text": [
      "epoch: 21, train_loss: 7.251377582550049, val_metric: 0.22077258790866308\n"
     ]
    },
    {
     "name": "stderr",
     "output_type": "stream",
     "text": [
      "100%|██████████| 1/1 [00:00<00:00, 338.80it/s]\n"
     ]
    },
    {
     "name": "stdout",
     "output_type": "stream",
     "text": [
      "tensor([-0.2989, -0.0648, -0.1847, -0.3571, -0.1452,  0.5293],\n",
      "       grad_fn=<SelectBackward0>)\n"
     ]
    },
    {
     "name": "stderr",
     "output_type": "stream",
     "text": [
      "100%|██████████| 1/1 [00:00<00:00, 712.47it/s]\n"
     ]
    },
    {
     "name": "stdout",
     "output_type": "stream",
     "text": [
      "epoch: 22, train_loss: 7.011843204498291, val_metric: 0.20793755352119786\n"
     ]
    },
    {
     "name": "stderr",
     "output_type": "stream",
     "text": [
      "100%|██████████| 1/1 [00:00<00:00, 339.29it/s]\n"
     ]
    },
    {
     "name": "stdout",
     "output_type": "stream",
     "text": [
      "tensor([-0.3063, -0.0710, -0.1796, -0.3569, -0.1439,  0.5385],\n",
      "       grad_fn=<SelectBackward0>)\n"
     ]
    },
    {
     "name": "stderr",
     "output_type": "stream",
     "text": [
      "100%|██████████| 1/1 [00:00<00:00, 716.24it/s]\n"
     ]
    },
    {
     "name": "stdout",
     "output_type": "stream",
     "text": [
      "epoch: 23, train_loss: 6.787109851837158, val_metric: 0.218781183641369\n"
     ]
    },
    {
     "name": "stderr",
     "output_type": "stream",
     "text": [
      "100%|██████████| 1/1 [00:00<00:00, 331.93it/s]\n"
     ]
    },
    {
     "name": "stdout",
     "output_type": "stream",
     "text": [
      "tensor([-0.3146, -0.0768, -0.1750, -0.3557, -0.1420,  0.5473],\n",
      "       grad_fn=<SelectBackward0>)\n"
     ]
    },
    {
     "name": "stderr",
     "output_type": "stream",
     "text": [
      "100%|██████████| 1/1 [00:00<00:00, 717.83it/s]\n"
     ]
    },
    {
     "name": "stdout",
     "output_type": "stream",
     "text": [
      "epoch: 24, train_loss: 6.573312759399414, val_metric: 0.2110014939231084\n"
     ]
    },
    {
     "name": "stderr",
     "output_type": "stream",
     "text": [
      "100%|██████████| 1/1 [00:00<00:00, 337.46it/s]\n"
     ]
    },
    {
     "name": "stdout",
     "output_type": "stream",
     "text": [
      "tensor([-0.3235, -0.0822, -0.1709, -0.3537, -0.1395,  0.5555],\n",
      "       grad_fn=<SelectBackward0>)\n"
     ]
    },
    {
     "name": "stderr",
     "output_type": "stream",
     "text": [
      "100%|██████████| 1/1 [00:00<00:00, 701.51it/s]\n"
     ]
    },
    {
     "name": "stdout",
     "output_type": "stream",
     "text": [
      "epoch: 25, train_loss: 6.380495071411133, val_metric: 0.21757519102194467\n"
     ]
    },
    {
     "name": "stderr",
     "output_type": "stream",
     "text": [
      "100%|██████████| 1/1 [00:00<00:00, 339.54it/s]\n"
     ]
    },
    {
     "name": "stdout",
     "output_type": "stream",
     "text": [
      "tensor([-0.3329, -0.0872, -0.1676, -0.3508, -0.1367,  0.5628],\n",
      "       grad_fn=<SelectBackward0>)\n"
     ]
    },
    {
     "name": "stderr",
     "output_type": "stream",
     "text": [
      "100%|██████████| 1/1 [00:00<00:00, 713.44it/s]\n"
     ]
    },
    {
     "name": "stdout",
     "output_type": "stream",
     "text": [
      "epoch: 26, train_loss: 6.205470561981201, val_metric: 0.2320772918097389\n"
     ]
    },
    {
     "name": "stderr",
     "output_type": "stream",
     "text": [
      "100%|██████████| 1/1 [00:00<00:00, 334.10it/s]\n"
     ]
    },
    {
     "name": "stdout",
     "output_type": "stream",
     "text": [
      "tensor([-0.3419, -0.0918, -0.1649, -0.3470, -0.1336,  0.5685],\n",
      "       grad_fn=<SelectBackward0>)\n"
     ]
    },
    {
     "name": "stderr",
     "output_type": "stream",
     "text": [
      "100%|██████████| 1/1 [00:00<00:00, 713.92it/s]\n"
     ]
    },
    {
     "name": "stdout",
     "output_type": "stream",
     "text": [
      "epoch: 27, train_loss: 6.049722194671631, val_metric: 0.22663125316496746\n"
     ]
    },
    {
     "name": "stderr",
     "output_type": "stream",
     "text": [
      "100%|██████████| 1/1 [00:00<00:00, 331.75it/s]\n"
     ]
    },
    {
     "name": "stdout",
     "output_type": "stream",
     "text": [
      "tensor([-0.3500, -0.0958, -0.1628, -0.3423, -0.1304,  0.5732],\n",
      "       grad_fn=<SelectBackward0>)\n"
     ]
    },
    {
     "name": "stderr",
     "output_type": "stream",
     "text": [
      "100%|██████████| 1/1 [00:00<00:00, 716.00it/s]\n"
     ]
    },
    {
     "name": "stdout",
     "output_type": "stream",
     "text": [
      "epoch: 28, train_loss: 5.910831928253174, val_metric: 0.22604909634817755\n"
     ]
    },
    {
     "name": "stderr",
     "output_type": "stream",
     "text": [
      "100%|██████████| 1/1 [00:00<00:00, 333.46it/s]\n"
     ]
    },
    {
     "name": "stdout",
     "output_type": "stream",
     "text": [
      "tensor([-0.3570, -0.0994, -0.1613, -0.3380, -0.1268,  0.5767],\n",
      "       grad_fn=<SelectBackward0>)\n"
     ]
    },
    {
     "name": "stderr",
     "output_type": "stream",
     "text": [
      "100%|██████████| 1/1 [00:00<00:00, 705.04it/s]\n"
     ]
    },
    {
     "name": "stdout",
     "output_type": "stream",
     "text": [
      "epoch: 29, train_loss: 5.795680999755859, val_metric: 0.21721808212202487\n"
     ]
    },
    {
     "name": "stderr",
     "output_type": "stream",
     "text": [
      "100%|██████████| 1/1 [00:00<00:00, 319.57it/s]\n"
     ]
    },
    {
     "name": "stdout",
     "output_type": "stream",
     "text": [
      "tensor([-0.3630, -0.1025, -0.1604, -0.3334, -0.1230,  0.5790],\n",
      "       grad_fn=<SelectBackward0>)\n"
     ]
    },
    {
     "name": "stderr",
     "output_type": "stream",
     "text": [
      "100%|██████████| 1/1 [00:00<00:00, 699.87it/s]\n"
     ]
    },
    {
     "name": "stdout",
     "output_type": "stream",
     "text": [
      "epoch: 30, train_loss: 5.688831329345703, val_metric: 0.23594827413677105\n"
     ]
    },
    {
     "name": "stderr",
     "output_type": "stream",
     "text": [
      "100%|██████████| 1/1 [00:00<00:00, 330.29it/s]\n"
     ]
    },
    {
     "name": "stdout",
     "output_type": "stream",
     "text": [
      "tensor([-0.3674, -0.1051, -0.1600, -0.3288, -0.1191,  0.5804],\n",
      "       grad_fn=<SelectBackward0>)\n"
     ]
    },
    {
     "name": "stderr",
     "output_type": "stream",
     "text": [
      "100%|██████████| 1/1 [00:00<00:00, 704.69it/s]\n"
     ]
    },
    {
     "name": "stdout",
     "output_type": "stream",
     "text": [
      "epoch: 31, train_loss: 5.5939812660217285, val_metric: 0.23386451091144772\n"
     ]
    },
    {
     "name": "stderr",
     "output_type": "stream",
     "text": [
      "100%|██████████| 1/1 [00:00<00:00, 330.36it/s]\n"
     ]
    },
    {
     "name": "stdout",
     "output_type": "stream",
     "text": [
      "tensor([-0.3712, -0.1072, -0.1601, -0.3246, -0.1155,  0.5818],\n",
      "       grad_fn=<SelectBackward0>)\n"
     ]
    },
    {
     "name": "stderr",
     "output_type": "stream",
     "text": [
      "100%|██████████| 1/1 [00:00<00:00, 708.26it/s]\n"
     ]
    },
    {
     "name": "stdout",
     "output_type": "stream",
     "text": [
      "epoch: 32, train_loss: 5.511480808258057, val_metric: 0.23358308472354686\n"
     ]
    },
    {
     "name": "stderr",
     "output_type": "stream",
     "text": [
      "100%|██████████| 1/1 [00:00<00:00, 334.39it/s]\n"
     ]
    },
    {
     "name": "stdout",
     "output_type": "stream",
     "text": [
      "tensor([-0.3750, -0.1088, -0.1604, -0.3213, -0.1123,  0.5835],\n",
      "       grad_fn=<SelectBackward0>)\n"
     ]
    },
    {
     "name": "stderr",
     "output_type": "stream",
     "text": [
      "100%|██████████| 1/1 [00:00<00:00, 692.82it/s]\n"
     ]
    },
    {
     "name": "stdout",
     "output_type": "stream",
     "text": [
      "epoch: 33, train_loss: 5.441272735595703, val_metric: 0.24619886252643844\n"
     ]
    },
    {
     "name": "stderr",
     "output_type": "stream",
     "text": [
      "100%|██████████| 1/1 [00:00<00:00, 335.30it/s]\n"
     ]
    },
    {
     "name": "stdout",
     "output_type": "stream",
     "text": [
      "tensor([-0.3787, -0.1102, -0.1608, -0.3193, -0.1095,  0.5858],\n",
      "       grad_fn=<SelectBackward0>)\n"
     ]
    },
    {
     "name": "stderr",
     "output_type": "stream",
     "text": [
      "100%|██████████| 1/1 [00:00<00:00, 709.94it/s]"
     ]
    },
    {
     "name": "stdout",
     "output_type": "stream",
     "text": [
      "epoch: 34, train_loss: 5.375828266143799, val_metric: 0.23094849369590487"
     ]
    },
    {
     "name": "stderr",
     "output_type": "stream",
     "text": [
      "\n"
     ]
    },
    {
     "name": "stdout",
     "output_type": "stream",
     "text": [
      "\n"
     ]
    },
    {
     "name": "stderr",
     "output_type": "stream",
     "text": [
      "100%|██████████| 1/1 [00:00<00:00, 338.77it/s]\n"
     ]
    },
    {
     "name": "stdout",
     "output_type": "stream",
     "text": [
      "tensor([-0.3821, -0.1113, -0.1613, -0.3190, -0.1069,  0.5887],\n",
      "       grad_fn=<SelectBackward0>)\n"
     ]
    },
    {
     "name": "stderr",
     "output_type": "stream",
     "text": [
      "100%|██████████| 1/1 [00:00<00:00, 722.04it/s]\n"
     ]
    },
    {
     "name": "stdout",
     "output_type": "stream",
     "text": [
      "epoch: 35, train_loss: 5.315378189086914, val_metric: 0.22687560552282585\n"
     ]
    },
    {
     "name": "stderr",
     "output_type": "stream",
     "text": [
      "100%|██████████| 1/1 [00:00<00:00, 341.69it/s]\n"
     ]
    },
    {
     "name": "stdout",
     "output_type": "stream",
     "text": [
      "tensor([-0.3855, -0.1122, -0.1618, -0.3195, -0.1043,  0.5924],\n",
      "       grad_fn=<SelectBackward0>)\n"
     ]
    },
    {
     "name": "stderr",
     "output_type": "stream",
     "text": [
      "100%|██████████| 1/1 [00:00<00:00, 719.19it/s]"
     ]
    },
    {
     "name": "stdout",
     "output_type": "stream",
     "text": [
      "epoch: 36, train_loss: 5.257638931274414, val_metric: 0.2266222056619019"
     ]
    },
    {
     "name": "stderr",
     "output_type": "stream",
     "text": [
      "\n"
     ]
    },
    {
     "name": "stdout",
     "output_type": "stream",
     "text": [
      "\n"
     ]
    },
    {
     "name": "stderr",
     "output_type": "stream",
     "text": [
      "100%|██████████| 1/1 [00:00<00:00, 338.28it/s]"
     ]
    },
    {
     "name": "stdout",
     "output_type": "stream",
     "text": [
      "tensor([-0.3878, -0.1129, -0.1622, -0.3208, -0.1018,  0.5974],\n",
      "       grad_fn=<SelectBackward0>)"
     ]
    },
    {
     "name": "stderr",
     "output_type": "stream",
     "text": [
      "\n"
     ]
    },
    {
     "name": "stdout",
     "output_type": "stream",
     "text": [
      "\n"
     ]
    },
    {
     "name": "stderr",
     "output_type": "stream",
     "text": [
      "100%|██████████| 1/1 [00:00<00:00, 696.15it/s]\n"
     ]
    },
    {
     "name": "stdout",
     "output_type": "stream",
     "text": [
      "epoch: 37, train_loss: 5.319481372833252, val_metric: 0.2290633103707714\n"
     ]
    },
    {
     "name": "stderr",
     "output_type": "stream",
     "text": [
      "100%|██████████| 1/1 [00:00<00:00, 337.65it/s]\n"
     ]
    },
    {
     "name": "stdout",
     "output_type": "stream",
     "text": [
      "tensor([-0.3886, -0.1136, -0.1623, -0.3199, -0.0995,  0.6034],\n",
      "       grad_fn=<SelectBackward0>)\n"
     ]
    },
    {
     "name": "stderr",
     "output_type": "stream",
     "text": [
      "100%|██████████| 1/1 [00:00<00:00, 702.09it/s]\n"
     ]
    },
    {
     "name": "stdout",
     "output_type": "stream",
     "text": [
      "epoch: 38, train_loss: 5.158652305603027, val_metric: 0.22498581704189036\n"
     ]
    },
    {
     "name": "stderr",
     "output_type": "stream",
     "text": [
      "100%|██████████| 1/1 [00:00<00:00, 337.62it/s]\n"
     ]
    },
    {
     "name": "stdout",
     "output_type": "stream",
     "text": [
      "tensor([-0.3879, -0.1143, -0.1622, -0.3173, -0.0975,  0.6104],\n",
      "       grad_fn=<SelectBackward0>)\n"
     ]
    },
    {
     "name": "stderr",
     "output_type": "stream",
     "text": [
      "100%|██████████| 1/1 [00:00<00:00, 689.40it/s]\n"
     ]
    },
    {
     "name": "stdout",
     "output_type": "stream",
     "text": [
      "epoch: 39, train_loss: 5.114628791809082, val_metric: 0.23095500603744307\n"
     ]
    },
    {
     "name": "stderr",
     "output_type": "stream",
     "text": [
      "100%|██████████| 1/1 [00:00<00:00, 338.63it/s]\n"
     ]
    },
    {
     "name": "stdout",
     "output_type": "stream",
     "text": [
      "tensor([-0.3858, -0.1150, -0.1617, -0.3130, -0.0957,  0.6184],\n",
      "       grad_fn=<SelectBackward0>)\n"
     ]
    },
    {
     "name": "stderr",
     "output_type": "stream",
     "text": [
      "100%|██████████| 1/1 [00:00<00:00, 697.89it/s]\n"
     ]
    },
    {
     "name": "stdout",
     "output_type": "stream",
     "text": [
      "epoch: 40, train_loss: 5.162067890167236, val_metric: 0.21809392228382504\n"
     ]
    },
    {
     "name": "stderr",
     "output_type": "stream",
     "text": [
      "100%|██████████| 1/1 [00:00<00:00, 332.38it/s]\n"
     ]
    },
    {
     "name": "stdout",
     "output_type": "stream",
     "text": [
      "tensor([-0.3831, -0.1155, -0.1615, -0.3089, -0.0941,  0.6268],\n",
      "       grad_fn=<SelectBackward0>)\n"
     ]
    },
    {
     "name": "stderr",
     "output_type": "stream",
     "text": [
      "100%|██████████| 1/1 [00:00<00:00, 703.62it/s]\n"
     ]
    },
    {
     "name": "stdout",
     "output_type": "stream",
     "text": [
      "epoch: 41, train_loss: 5.0354905128479, val_metric: 0.2200976302249538\n"
     ]
    },
    {
     "name": "stderr",
     "output_type": "stream",
     "text": [
      "100%|██████████| 1/1 [00:00<00:00, 333.44it/s]\n"
     ]
    },
    {
     "name": "stdout",
     "output_type": "stream",
     "text": [
      "tensor([-0.3807, -0.1160, -0.1615, -0.3066, -0.0930,  0.6354],\n",
      "       grad_fn=<SelectBackward0>)\n"
     ]
    },
    {
     "name": "stderr",
     "output_type": "stream",
     "text": [
      "100%|██████████| 1/1 [00:00<00:00, 712.47it/s]\n"
     ]
    },
    {
     "name": "stdout",
     "output_type": "stream",
     "text": [
      "epoch: 42, train_loss: 4.998876094818115, val_metric: 0.22841149475788536\n"
     ]
    },
    {
     "name": "stderr",
     "output_type": "stream",
     "text": [
      "100%|██████████| 1/1 [00:00<00:00, 332.38it/s]\n"
     ]
    },
    {
     "name": "stdout",
     "output_type": "stream",
     "text": [
      "tensor([-0.3787, -0.1163, -0.1617, -0.3058, -0.0925,  0.6437],\n",
      "       grad_fn=<SelectBackward0>)\n"
     ]
    },
    {
     "name": "stderr",
     "output_type": "stream",
     "text": [
      "100%|██████████| 1/1 [00:00<00:00, 706.71it/s]\n"
     ]
    },
    {
     "name": "stdout",
     "output_type": "stream",
     "text": [
      "epoch: 43, train_loss: 4.966946601867676, val_metric: 0.23590978154660777\n"
     ]
    },
    {
     "name": "stderr",
     "output_type": "stream",
     "text": [
      "100%|██████████| 1/1 [00:00<00:00, 332.67it/s]\n"
     ]
    },
    {
     "name": "stdout",
     "output_type": "stream",
     "text": [
      "tensor([-0.3770, -0.1165, -0.1622, -0.3063, -0.0923,  0.6519],\n",
      "       grad_fn=<SelectBackward0>)\n"
     ]
    },
    {
     "name": "stderr",
     "output_type": "stream",
     "text": [
      "100%|██████████| 1/1 [00:00<00:00, 711.99it/s]\n"
     ]
    },
    {
     "name": "stdout",
     "output_type": "stream",
     "text": [
      "epoch: 44, train_loss: 4.935837268829346, val_metric: 0.23088267252964376\n"
     ]
    },
    {
     "name": "stderr",
     "output_type": "stream",
     "text": [
      "100%|██████████| 1/1 [00:00<00:00, 334.79it/s]\n"
     ]
    },
    {
     "name": "stdout",
     "output_type": "stream",
     "text": [
      "tensor([-0.3759, -0.1166, -0.1628, -0.3072, -0.0929,  0.6599],\n",
      "       grad_fn=<SelectBackward0>)\n"
     ]
    },
    {
     "name": "stderr",
     "output_type": "stream",
     "text": [
      "100%|██████████| 1/1 [00:00<00:00, 703.86it/s]\n"
     ]
    },
    {
     "name": "stdout",
     "output_type": "stream",
     "text": [
      "epoch: 45, train_loss: 4.9069318771362305, val_metric: 0.23649975317324354\n"
     ]
    },
    {
     "name": "stderr",
     "output_type": "stream",
     "text": [
      "100%|██████████| 1/1 [00:00<00:00, 329.25it/s]\n"
     ]
    },
    {
     "name": "stdout",
     "output_type": "stream",
     "text": [
      "tensor([-0.3755, -0.1166, -0.1636, -0.3082, -0.0939,  0.6678],\n",
      "       grad_fn=<SelectBackward0>)\n"
     ]
    },
    {
     "name": "stderr",
     "output_type": "stream",
     "text": [
      "100%|██████████| 1/1 [00:00<00:00, 701.51it/s]\n"
     ]
    },
    {
     "name": "stdout",
     "output_type": "stream",
     "text": [
      "epoch: 46, train_loss: 4.880943775177002, val_metric: 0.24094731031003286\n"
     ]
    },
    {
     "name": "stderr",
     "output_type": "stream",
     "text": [
      "100%|██████████| 1/1 [00:00<00:00, 331.23it/s]\n"
     ]
    },
    {
     "name": "stdout",
     "output_type": "stream",
     "text": [
      "tensor([-0.3756, -0.1168, -0.1641, -0.3077, -0.0951,  0.6758],\n",
      "       grad_fn=<SelectBackward0>)\n"
     ]
    },
    {
     "name": "stderr",
     "output_type": "stream",
     "text": [
      "100%|██████████| 1/1 [00:00<00:00, 699.17it/s]\n"
     ]
    },
    {
     "name": "stdout",
     "output_type": "stream",
     "text": [
      "epoch: 47, train_loss: 4.855621814727783, val_metric: 0.22431144081724697\n"
     ]
    },
    {
     "name": "stderr",
     "output_type": "stream",
     "text": [
      "100%|██████████| 1/1 [00:00<00:00, 331.54it/s]\n"
     ]
    },
    {
     "name": "stdout",
     "output_type": "stream",
     "text": [
      "tensor([-0.3762, -0.1169, -0.1641, -0.3054, -0.0965,  0.6840],\n",
      "       grad_fn=<SelectBackward0>)\n"
     ]
    },
    {
     "name": "stderr",
     "output_type": "stream",
     "text": [
      "100%|██████████| 1/1 [00:00<00:00, 698.35it/s]\n"
     ]
    },
    {
     "name": "stdout",
     "output_type": "stream",
     "text": [
      "epoch: 48, train_loss: 4.830745220184326, val_metric: 0.2308353882784039\n"
     ]
    },
    {
     "name": "stderr",
     "output_type": "stream",
     "text": [
      "100%|██████████| 1/1 [00:00<00:00, 331.30it/s]\n"
     ]
    },
    {
     "name": "stdout",
     "output_type": "stream",
     "text": [
      "tensor([-0.3769, -0.1171, -0.1641, -0.3032, -0.0984,  0.6919],\n",
      "       grad_fn=<SelectBackward0>)\n"
     ]
    },
    {
     "name": "stderr",
     "output_type": "stream",
     "text": [
      "100%|██████████| 1/1 [00:00<00:00, 706.59it/s]\n"
     ]
    },
    {
     "name": "stdout",
     "output_type": "stream",
     "text": [
      "epoch: 49, train_loss: 4.805846214294434, val_metric: 0.23409504780190005\n"
     ]
    },
    {
     "name": "stderr",
     "output_type": "stream",
     "text": [
      "100%|██████████| 1/1 [00:00<00:00, 330.44it/s]\n"
     ]
    },
    {
     "name": "stdout",
     "output_type": "stream",
     "text": [
      "tensor([-0.3774, -0.1170, -0.1641, -0.3017, -0.1008,  0.6996],\n",
      "       grad_fn=<SelectBackward0>)\n"
     ]
    },
    {
     "name": "stderr",
     "output_type": "stream",
     "text": [
      "100%|██████████| 1/1 [00:00<00:00, 701.15it/s]\n"
     ]
    },
    {
     "name": "stdout",
     "output_type": "stream",
     "text": [
      "epoch: 50, train_loss: 4.780776023864746, val_metric: 0.24259777023943946\n"
     ]
    },
    {
     "name": "stderr",
     "output_type": "stream",
     "text": [
      "100%|██████████| 1/1 [00:00<00:00, 328.94it/s]\n"
     ]
    },
    {
     "name": "stdout",
     "output_type": "stream",
     "text": [
      "tensor([-0.3778, -0.1169, -0.1640, -0.3008, -0.1038,  0.7068],\n",
      "       grad_fn=<SelectBackward0>)\n"
     ]
    },
    {
     "name": "stderr",
     "output_type": "stream",
     "text": [
      "100%|██████████| 1/1 [00:00<00:00, 696.61it/s]\n"
     ]
    },
    {
     "name": "stdout",
     "output_type": "stream",
     "text": [
      "epoch: 51, train_loss: 4.75584077835083, val_metric: 0.2455132059959164\n"
     ]
    },
    {
     "name": "stderr",
     "output_type": "stream",
     "text": [
      "100%|██████████| 1/1 [00:00<00:00, 330.96it/s]\n"
     ]
    },
    {
     "name": "stdout",
     "output_type": "stream",
     "text": [
      "tensor([-0.3781, -0.1167, -0.1640, -0.3004, -0.1073,  0.7136],\n",
      "       grad_fn=<SelectBackward0>)\n"
     ]
    },
    {
     "name": "stderr",
     "output_type": "stream",
     "text": [
      "100%|██████████| 1/1 [00:00<00:00, 701.39it/s]\n"
     ]
    },
    {
     "name": "stdout",
     "output_type": "stream",
     "text": [
      "epoch: 52, train_loss: 4.7312116622924805, val_metric: 0.2310489930808569\n"
     ]
    },
    {
     "name": "stderr",
     "output_type": "stream",
     "text": [
      "100%|██████████| 1/1 [00:00<00:00, 331.25it/s]\n"
     ]
    },
    {
     "name": "stdout",
     "output_type": "stream",
     "text": [
      "tensor([-0.3789, -0.1165, -0.1638, -0.3002, -0.1110,  0.7198],\n",
      "       grad_fn=<SelectBackward0>)\n"
     ]
    },
    {
     "name": "stderr",
     "output_type": "stream",
     "text": [
      "100%|██████████| 1/1 [00:00<00:00, 699.52it/s]\n"
     ]
    },
    {
     "name": "stdout",
     "output_type": "stream",
     "text": [
      "epoch: 53, train_loss: 4.706007480621338, val_metric: 0.24378359785845802\n"
     ]
    },
    {
     "name": "stderr",
     "output_type": "stream",
     "text": [
      "100%|██████████| 1/1 [00:00<00:00, 330.60it/s]\n"
     ]
    },
    {
     "name": "stdout",
     "output_type": "stream",
     "text": [
      "tensor([-0.3797, -0.1163, -0.1636, -0.3011, -0.1149,  0.7257],\n",
      "       grad_fn=<SelectBackward0>)\n"
     ]
    },
    {
     "name": "stderr",
     "output_type": "stream",
     "text": [
      "100%|██████████| 1/1 [00:00<00:00, 703.62it/s]\n"
     ]
    },
    {
     "name": "stdout",
     "output_type": "stream",
     "text": [
      "epoch: 54, train_loss: 4.681149482727051, val_metric: 0.24765923185801747\n"
     ]
    },
    {
     "name": "stderr",
     "output_type": "stream",
     "text": [
      "100%|██████████| 1/1 [00:00<00:00, 331.43it/s]\n"
     ]
    },
    {
     "name": "stdout",
     "output_type": "stream",
     "text": [
      "tensor([-0.3805, -0.1160, -0.1633, -0.3027, -0.1184,  0.7311],\n",
      "       grad_fn=<SelectBackward0>)\n"
     ]
    },
    {
     "name": "stderr",
     "output_type": "stream",
     "text": [
      "100%|██████████| 1/1 [00:00<00:00, 703.03it/s]\n"
     ]
    },
    {
     "name": "stdout",
     "output_type": "stream",
     "text": [
      "epoch: 55, train_loss: 4.658987045288086, val_metric: 0.24909543575081722\n"
     ]
    },
    {
     "name": "stderr",
     "output_type": "stream",
     "text": [
      "100%|██████████| 1/1 [00:00<00:00, 332.17it/s]\n"
     ]
    },
    {
     "name": "stdout",
     "output_type": "stream",
     "text": [
      "tensor([-0.3818, -0.1157, -0.1630, -0.3052, -0.1214,  0.7362],\n",
      "       grad_fn=<SelectBackward0>)\n"
     ]
    },
    {
     "name": "stderr",
     "output_type": "stream",
     "text": [
      "100%|██████████| 1/1 [00:00<00:00, 702.56it/s]\n"
     ]
    },
    {
     "name": "stdout",
     "output_type": "stream",
     "text": [
      "epoch: 56, train_loss: 4.6378068923950195, val_metric: 0.24672889735256012\n"
     ]
    },
    {
     "name": "stderr",
     "output_type": "stream",
     "text": [
      "100%|██████████| 1/1 [00:00<00:00, 330.39it/s]\n"
     ]
    },
    {
     "name": "stdout",
     "output_type": "stream",
     "text": [
      "tensor([-0.3831, -0.1155, -0.1625, -0.3089, -0.1235,  0.7409],\n",
      "       grad_fn=<SelectBackward0>)\n"
     ]
    },
    {
     "name": "stderr",
     "output_type": "stream",
     "text": [
      "100%|██████████| 1/1 [00:00<00:00, 685.46it/s]\n"
     ]
    },
    {
     "name": "stdout",
     "output_type": "stream",
     "text": [
      "epoch: 57, train_loss: 4.619064807891846, val_metric: 0.24787783720843728\n"
     ]
    },
    {
     "name": "stderr",
     "output_type": "stream",
     "text": [
      "100%|██████████| 1/1 [00:00<00:00,  7.29it/s]\n"
     ]
    },
    {
     "name": "stdout",
     "output_type": "stream",
     "text": [
      "tensor([-0.3840, -0.1153, -0.1613, -0.3117, -0.1249,  0.7458],\n",
      "       grad_fn=<SelectBackward0>)\n"
     ]
    },
    {
     "name": "stderr",
     "output_type": "stream",
     "text": [
      "100%|██████████| 1/1 [00:00<00:00, 617.81it/s]\n"
     ]
    },
    {
     "name": "stdout",
     "output_type": "stream",
     "text": [
      "epoch: 58, train_loss: 4.601837635040283, val_metric: 0.23873888226097825\n"
     ]
    },
    {
     "name": "stderr",
     "output_type": "stream",
     "text": [
      "100%|██████████| 1/1 [00:00<00:00, 316.50it/s]\n"
     ]
    },
    {
     "name": "stdout",
     "output_type": "stream",
     "text": [
      "tensor([-0.3844, -0.1151, -0.1598, -0.3133, -0.1254,  0.7514],\n",
      "       grad_fn=<SelectBackward0>)\n"
     ]
    },
    {
     "name": "stderr",
     "output_type": "stream",
     "text": [
      "100%|██████████| 1/1 [00:00<00:00, 670.02it/s]\n"
     ]
    },
    {
     "name": "stdout",
     "output_type": "stream",
     "text": [
      "epoch: 59, train_loss: 4.586855411529541, val_metric: 0.2511411250365047\n"
     ]
    },
    {
     "name": "stderr",
     "output_type": "stream",
     "text": [
      "100%|██████████| 1/1 [00:00<00:00, 325.11it/s]\n"
     ]
    },
    {
     "name": "stdout",
     "output_type": "stream",
     "text": [
      "tensor([-0.3848, -0.1150, -0.1584, -0.3150, -0.1254,  0.7570],\n",
      "       grad_fn=<SelectBackward0>)\n"
     ]
    },
    {
     "name": "stderr",
     "output_type": "stream",
     "text": [
      "100%|██████████| 1/1 [00:00<00:00, 688.15it/s]\n"
     ]
    },
    {
     "name": "stdout",
     "output_type": "stream",
     "text": [
      "epoch: 60, train_loss: 4.571585178375244, val_metric: 0.2104731104407339\n"
     ]
    },
    {
     "name": "stderr",
     "output_type": "stream",
     "text": [
      "100%|██████████| 1/1 [00:00<00:00, 334.45it/s]\n"
     ]
    },
    {
     "name": "stdout",
     "output_type": "stream",
     "text": [
      "tensor([-0.3844, -0.1149, -0.1572, -0.3167, -0.1248,  0.7626],\n",
      "       grad_fn=<SelectBackward0>)\n"
     ]
    },
    {
     "name": "stderr",
     "output_type": "stream",
     "text": [
      "100%|██████████| 1/1 [00:00<00:00, 661.46it/s]\n"
     ]
    },
    {
     "name": "stdout",
     "output_type": "stream",
     "text": [
      "epoch: 61, train_loss: 4.556169033050537, val_metric: 0.22707211542874106\n"
     ]
    },
    {
     "name": "stderr",
     "output_type": "stream",
     "text": [
      "100%|██████████| 1/1 [00:00<00:00, 331.41it/s]\n"
     ]
    },
    {
     "name": "stdout",
     "output_type": "stream",
     "text": [
      "tensor([-0.3836, -0.1149, -0.1563, -0.3182, -0.1238,  0.7681],\n",
      "       grad_fn=<SelectBackward0>)\n"
     ]
    },
    {
     "name": "stderr",
     "output_type": "stream",
     "text": [
      "100%|██████████| 1/1 [00:00<00:00, 674.22it/s]\n"
     ]
    },
    {
     "name": "stdout",
     "output_type": "stream",
     "text": [
      "epoch: 62, train_loss: 4.540851593017578, val_metric: 0.2250647559246784\n"
     ]
    },
    {
     "name": "stderr",
     "output_type": "stream",
     "text": [
      "100%|██████████| 1/1 [00:00<00:00, 332.25it/s]\n"
     ]
    },
    {
     "name": "stdout",
     "output_type": "stream",
     "text": [
      "tensor([-0.3821, -0.1149, -0.1558, -0.3198, -0.1226,  0.7737],\n",
      "       grad_fn=<SelectBackward0>)\n"
     ]
    },
    {
     "name": "stderr",
     "output_type": "stream",
     "text": [
      "100%|██████████| 1/1 [00:00<00:00, 686.92it/s]\n"
     ]
    },
    {
     "name": "stdout",
     "output_type": "stream",
     "text": [
      "epoch: 63, train_loss: 4.525737762451172, val_metric: 0.22658380610518913\n"
     ]
    },
    {
     "name": "stderr",
     "output_type": "stream",
     "text": [
      "100%|██████████| 1/1 [00:00<00:00, 332.14it/s]\n"
     ]
    },
    {
     "name": "stdout",
     "output_type": "stream",
     "text": [
      "tensor([-0.3804, -0.1150, -0.1556, -0.3211, -0.1210,  0.7794],\n",
      "       grad_fn=<SelectBackward0>)\n"
     ]
    },
    {
     "name": "stderr",
     "output_type": "stream",
     "text": [
      "100%|██████████| 1/1 [00:00<00:00, 678.47it/s]\n"
     ]
    },
    {
     "name": "stdout",
     "output_type": "stream",
     "text": [
      "epoch: 64, train_loss: 4.510251045227051, val_metric: 0.226804202349532\n"
     ]
    },
    {
     "name": "stderr",
     "output_type": "stream",
     "text": [
      "100%|██████████| 1/1 [00:00<00:00, 327.94it/s]\n"
     ]
    },
    {
     "name": "stdout",
     "output_type": "stream",
     "text": [
      "tensor([-0.3787, -0.1151, -0.1558, -0.3219, -0.1192,  0.7851],\n",
      "       grad_fn=<SelectBackward0>)\n"
     ]
    },
    {
     "name": "stderr",
     "output_type": "stream",
     "text": [
      "100%|██████████| 1/1 [00:00<00:00, 700.10it/s]\n"
     ]
    },
    {
     "name": "stdout",
     "output_type": "stream",
     "text": [
      "epoch: 65, train_loss: 4.495913028717041, val_metric: 0.23643325751446598\n"
     ]
    },
    {
     "name": "stderr",
     "output_type": "stream",
     "text": [
      "100%|██████████| 1/1 [00:00<00:00, 330.60it/s]\n"
     ]
    },
    {
     "name": "stdout",
     "output_type": "stream",
     "text": [
      "tensor([-0.3770, -0.1152, -0.1564, -0.3223, -0.1172,  0.7909],\n",
      "       grad_fn=<SelectBackward0>)\n"
     ]
    },
    {
     "name": "stderr",
     "output_type": "stream",
     "text": [
      "100%|██████████| 1/1 [00:00<00:00, 699.98it/s]\n"
     ]
    },
    {
     "name": "stdout",
     "output_type": "stream",
     "text": [
      "epoch: 66, train_loss: 4.482025146484375, val_metric: 0.21950868196627402\n"
     ]
    },
    {
     "name": "stderr",
     "output_type": "stream",
     "text": [
      "100%|██████████| 1/1 [00:00<00:00, 334.79it/s]\n"
     ]
    },
    {
     "name": "stdout",
     "output_type": "stream",
     "text": [
      "tensor([-0.3753, -0.1151, -0.1570, -0.3233, -0.1155,  0.7968],\n",
      "       grad_fn=<SelectBackward0>)\n"
     ]
    },
    {
     "name": "stderr",
     "output_type": "stream",
     "text": [
      "100%|██████████| 1/1 [00:00<00:00, 625.18it/s]\n"
     ]
    },
    {
     "name": "stdout",
     "output_type": "stream",
     "text": [
      "epoch: 67, train_loss: 4.469078063964844, val_metric: 0.23724278808438967\n"
     ]
    },
    {
     "name": "stderr",
     "output_type": "stream",
     "text": [
      "100%|██████████| 1/1 [00:00<00:00, 330.49it/s]\n"
     ]
    },
    {
     "name": "stdout",
     "output_type": "stream",
     "text": [
      "tensor([-0.3733, -0.1149, -0.1577, -0.3251, -0.1142,  0.8026],\n",
      "       grad_fn=<SelectBackward0>)\n"
     ]
    },
    {
     "name": "stderr",
     "output_type": "stream",
     "text": [
      "100%|██████████| 1/1 [00:00<00:00, 698.35it/s]\n"
     ]
    },
    {
     "name": "stdout",
     "output_type": "stream",
     "text": [
      "epoch: 68, train_loss: 4.45615816116333, val_metric: 0.21319415280229553\n"
     ]
    },
    {
     "name": "stderr",
     "output_type": "stream",
     "text": [
      "100%|██████████| 1/1 [00:00<00:00, 329.66it/s]\n"
     ]
    },
    {
     "name": "stdout",
     "output_type": "stream",
     "text": [
      "tensor([-0.3711, -0.1145, -0.1584, -0.3271, -0.1135,  0.8082],\n",
      "       grad_fn=<SelectBackward0>)\n"
     ]
    },
    {
     "name": "stderr",
     "output_type": "stream",
     "text": [
      "100%|██████████| 1/1 [00:00<00:00, 675.63it/s]\n"
     ]
    },
    {
     "name": "stdout",
     "output_type": "stream",
     "text": [
      "epoch: 69, train_loss: 4.443439483642578, val_metric: 0.2215703264887301\n"
     ]
    },
    {
     "name": "stderr",
     "output_type": "stream",
     "text": [
      "100%|██████████| 1/1 [00:00<00:00, 326.99it/s]\n"
     ]
    },
    {
     "name": "stdout",
     "output_type": "stream",
     "text": [
      "tensor([-0.3686, -0.1139, -0.1592, -0.3292, -0.1134,  0.8137],\n",
      "       grad_fn=<SelectBackward0>)\n"
     ]
    },
    {
     "name": "stderr",
     "output_type": "stream",
     "text": [
      "100%|██████████| 1/1 [00:00<00:00, 746.18it/s]\n"
     ]
    },
    {
     "name": "stdout",
     "output_type": "stream",
     "text": [
      "epoch: 70, train_loss: 4.430868148803711, val_metric: 0.22846991976482808\n"
     ]
    },
    {
     "name": "stderr",
     "output_type": "stream",
     "text": [
      "100%|██████████| 1/1 [00:00<00:00, 345.38it/s]\n"
     ]
    },
    {
     "name": "stdout",
     "output_type": "stream",
     "text": [
      "tensor([-0.3662, -0.1131, -0.1599, -0.3310, -0.1139,  0.8189],\n",
      "       grad_fn=<SelectBackward0>)\n"
     ]
    },
    {
     "name": "stderr",
     "output_type": "stream",
     "text": [
      "100%|██████████| 1/1 [00:00<00:00, 747.51it/s]\n"
     ]
    },
    {
     "name": "stdout",
     "output_type": "stream",
     "text": [
      "epoch: 71, train_loss: 4.418442249298096, val_metric: 0.22632952242648502\n"
     ]
    },
    {
     "name": "stderr",
     "output_type": "stream",
     "text": [
      "100%|██████████| 1/1 [00:00<00:00, 296.90it/s]\n"
     ]
    },
    {
     "name": "stdout",
     "output_type": "stream",
     "text": [
      "tensor([-0.3651, -0.1121, -0.1607, -0.3319, -0.1148,  0.8238],\n",
      "       grad_fn=<SelectBackward0>)\n"
     ]
    },
    {
     "name": "stderr",
     "output_type": "stream",
     "text": [
      "100%|██████████| 1/1 [00:00<00:00, 554.95it/s]\n"
     ]
    },
    {
     "name": "stdout",
     "output_type": "stream",
     "text": [
      "epoch: 72, train_loss: 4.407078266143799, val_metric: 0.21793062531975466\n"
     ]
    },
    {
     "name": "stderr",
     "output_type": "stream",
     "text": [
      "100%|██████████| 1/1 [00:00<00:00, 340.94it/s]\n"
     ]
    },
    {
     "name": "stdout",
     "output_type": "stream",
     "text": [
      "tensor([-0.3650, -0.1110, -0.1615, -0.3315, -0.1160,  0.8284],\n",
      "       grad_fn=<SelectBackward0>)\n"
     ]
    },
    {
     "name": "stderr",
     "output_type": "stream",
     "text": [
      "100%|██████████| 1/1 [00:00<00:00, 708.86it/s]\n"
     ]
    },
    {
     "name": "stdout",
     "output_type": "stream",
     "text": [
      "epoch: 73, train_loss: 4.396327018737793, val_metric: 0.21226193436946464\n"
     ]
    },
    {
     "name": "stderr",
     "output_type": "stream",
     "text": [
      "100%|██████████| 1/1 [00:00<00:00, 337.16it/s]\n"
     ]
    },
    {
     "name": "stdout",
     "output_type": "stream",
     "text": [
      "tensor([-0.3663, -0.1098, -0.1623, -0.3293, -0.1172,  0.8329],\n",
      "       grad_fn=<SelectBackward0>)\n"
     ]
    },
    {
     "name": "stderr",
     "output_type": "stream",
     "text": [
      "100%|██████████| 1/1 [00:00<00:00, 722.41it/s]\n"
     ]
    },
    {
     "name": "stdout",
     "output_type": "stream",
     "text": [
      "epoch: 74, train_loss: 4.385149955749512, val_metric: 0.21553243228994937\n"
     ]
    },
    {
     "name": "stderr",
     "output_type": "stream",
     "text": [
      "100%|██████████| 1/1 [00:00<00:00, 337.19it/s]\n"
     ]
    },
    {
     "name": "stdout",
     "output_type": "stream",
     "text": [
      "tensor([-0.3685, -0.1085, -0.1629, -0.3271, -0.1183,  0.8369],\n",
      "       grad_fn=<SelectBackward0>)\n"
     ]
    },
    {
     "name": "stderr",
     "output_type": "stream",
     "text": [
      "100%|██████████| 1/1 [00:00<00:00, 723.65it/s]\n"
     ]
    },
    {
     "name": "stdout",
     "output_type": "stream",
     "text": [
      "epoch: 75, train_loss: 4.374324321746826, val_metric: 0.21207328579012052\n"
     ]
    },
    {
     "name": "stderr",
     "output_type": "stream",
     "text": [
      "100%|██████████| 1/1 [00:00<00:00, 334.05it/s]\n"
     ]
    },
    {
     "name": "stdout",
     "output_type": "stream",
     "text": [
      "tensor([-0.3702, -0.1072, -0.1634, -0.3273, -0.1198,  0.8412],\n",
      "       grad_fn=<SelectBackward0>)\n"
     ]
    },
    {
     "name": "stderr",
     "output_type": "stream",
     "text": [
      "100%|██████████| 1/1 [00:00<00:00, 669.80it/s]\n"
     ]
    },
    {
     "name": "stdout",
     "output_type": "stream",
     "text": [
      "epoch: 76, train_loss: 4.435861587524414, val_metric: 0.2449051626215121\n"
     ]
    },
    {
     "name": "stderr",
     "output_type": "stream",
     "text": [
      "100%|██████████| 1/1 [00:00<00:00, 328.24it/s]\n"
     ]
    },
    {
     "name": "stdout",
     "output_type": "stream",
     "text": [
      "tensor([-0.3715, -0.1060, -0.1636, -0.3289, -0.1211,  0.8453],\n",
      "       grad_fn=<SelectBackward0>)\n"
     ]
    },
    {
     "name": "stderr",
     "output_type": "stream",
     "text": [
      "100%|██████████| 1/1 [00:00<00:00, 715.51it/s]\n"
     ]
    },
    {
     "name": "stdout",
     "output_type": "stream",
     "text": [
      "epoch: 77, train_loss: 4.3557047843933105, val_metric: 0.2156160926203526\n"
     ]
    },
    {
     "name": "stderr",
     "output_type": "stream",
     "text": [
      "100%|██████████| 1/1 [00:00<00:00, 336.00it/s]\n"
     ]
    },
    {
     "name": "stdout",
     "output_type": "stream",
     "text": [
      "tensor([-0.3726, -0.1051, -0.1635, -0.3317, -0.1220,  0.8493],\n",
      "       grad_fn=<SelectBackward0>)\n"
     ]
    },
    {
     "name": "stderr",
     "output_type": "stream",
     "text": [
      "100%|██████████| 1/1 [00:00<00:00, 716.12it/s]\n"
     ]
    },
    {
     "name": "stdout",
     "output_type": "stream",
     "text": [
      "epoch: 78, train_loss: 4.346749782562256, val_metric: 0.23049497888285705\n"
     ]
    },
    {
     "name": "stderr",
     "output_type": "stream",
     "text": [
      "100%|██████████| 1/1 [00:00<00:00, 336.41it/s]\n"
     ]
    },
    {
     "name": "stdout",
     "output_type": "stream",
     "text": [
      "tensor([-0.3733, -0.1041, -0.1630, -0.3346, -0.1226,  0.8537],\n",
      "       grad_fn=<SelectBackward0>)\n"
     ]
    },
    {
     "name": "stderr",
     "output_type": "stream",
     "text": [
      "100%|██████████| 1/1 [00:00<00:00, 696.84it/s]\n"
     ]
    },
    {
     "name": "stdout",
     "output_type": "stream",
     "text": [
      "epoch: 79, train_loss: 4.337762832641602, val_metric: 0.21344545941058218\n"
     ]
    },
    {
     "name": "stderr",
     "output_type": "stream",
     "text": [
      "100%|██████████| 1/1 [00:00<00:00, 333.70it/s]\n"
     ]
    },
    {
     "name": "stdout",
     "output_type": "stream",
     "text": [
      "tensor([-0.3733, -0.1032, -0.1625, -0.3366, -0.1232,  0.8582],\n",
      "       grad_fn=<SelectBackward0>)\n"
     ]
    },
    {
     "name": "stderr",
     "output_type": "stream",
     "text": [
      "100%|██████████| 1/1 [00:00<00:00, 712.59it/s]\n"
     ]
    },
    {
     "name": "stdout",
     "output_type": "stream",
     "text": [
      "epoch: 80, train_loss: 4.328524112701416, val_metric: 0.20861458119918178\n"
     ]
    },
    {
     "name": "stderr",
     "output_type": "stream",
     "text": [
      "100%|██████████| 1/1 [00:00<00:00, 327.88it/s]\n"
     ]
    },
    {
     "name": "stdout",
     "output_type": "stream",
     "text": [
      "tensor([-0.3727, -0.1021, -0.1619, -0.3377, -0.1238,  0.8629],\n",
      "       grad_fn=<SelectBackward0>)\n"
     ]
    },
    {
     "name": "stderr",
     "output_type": "stream",
     "text": [
      "100%|██████████| 1/1 [00:00<00:00, 715.39it/s]\n"
     ]
    },
    {
     "name": "stdout",
     "output_type": "stream",
     "text": [
      "epoch: 81, train_loss: 4.3193440437316895, val_metric: 0.2261120102191091\n"
     ]
    },
    {
     "name": "stderr",
     "output_type": "stream",
     "text": [
      "100%|██████████| 1/1 [00:00<00:00, 330.60it/s]"
     ]
    },
    {
     "name": "stdout",
     "output_type": "stream",
     "text": [
      "tensor([-0.3725, -0.1012, -0.1612, -0.3378, -0.1243,  0.8676],\n",
      "       grad_fn=<SelectBackward0>)"
     ]
    },
    {
     "name": "stderr",
     "output_type": "stream",
     "text": [
      "\n"
     ]
    },
    {
     "name": "stdout",
     "output_type": "stream",
     "text": [
      "\n"
     ]
    },
    {
     "name": "stderr",
     "output_type": "stream",
     "text": [
      "100%|██████████| 1/1 [00:00<00:00, 715.51it/s]\n"
     ]
    },
    {
     "name": "stdout",
     "output_type": "stream",
     "text": [
      "epoch: 82, train_loss: 4.310288429260254, val_metric: 0.2516409007328364\n"
     ]
    },
    {
     "name": "stderr",
     "output_type": "stream",
     "text": [
      "100%|██████████| 1/1 [00:00<00:00, 329.79it/s]\n"
     ]
    },
    {
     "name": "stdout",
     "output_type": "stream",
     "text": [
      "tensor([-0.3723, -0.1002, -0.1605, -0.3380, -0.1248,  0.8720],\n",
      "       grad_fn=<SelectBackward0>)\n"
     ]
    },
    {
     "name": "stderr",
     "output_type": "stream",
     "text": [
      "100%|██████████| 1/1 [00:00<00:00, 698.70it/s]\n"
     ]
    },
    {
     "name": "stdout",
     "output_type": "stream",
     "text": [
      "epoch: 83, train_loss: 4.301353931427002, val_metric: 0.24144376006050755\n"
     ]
    },
    {
     "name": "stderr",
     "output_type": "stream",
     "text": [
      "100%|██████████| 1/1 [00:00<00:00, 336.57it/s]\n"
     ]
    },
    {
     "name": "stdout",
     "output_type": "stream",
     "text": [
      "tensor([-0.3721, -0.0992, -0.1599, -0.3385, -0.1255,  0.8763],\n",
      "       grad_fn=<SelectBackward0>)\n"
     ]
    },
    {
     "name": "stderr",
     "output_type": "stream",
     "text": [
      "100%|██████████| 1/1 [00:00<00:00, 711.74it/s]\n"
     ]
    },
    {
     "name": "stdout",
     "output_type": "stream",
     "text": [
      "epoch: 84, train_loss: 4.292416095733643, val_metric: 0.20598652577144064\n"
     ]
    },
    {
     "name": "stderr",
     "output_type": "stream",
     "text": [
      "100%|██████████| 1/1 [00:00<00:00, 328.37it/s]\n"
     ]
    },
    {
     "name": "stdout",
     "output_type": "stream",
     "text": [
      "tensor([-0.3725, -0.0982, -0.1592, -0.3389, -0.1261,  0.8805],\n",
      "       grad_fn=<SelectBackward0>)\n"
     ]
    },
    {
     "name": "stderr",
     "output_type": "stream",
     "text": [
      "100%|██████████| 1/1 [00:00<00:00, 702.21it/s]\n"
     ]
    },
    {
     "name": "stdout",
     "output_type": "stream",
     "text": [
      "epoch: 85, train_loss: 4.284042835235596, val_metric: 0.21305136971407046\n"
     ]
    },
    {
     "name": "stderr",
     "output_type": "stream",
     "text": [
      "100%|██████████| 1/1 [00:00<00:00, 333.81it/s]\n"
     ]
    },
    {
     "name": "stdout",
     "output_type": "stream",
     "text": [
      "tensor([-0.3738, -0.0974, -0.1586, -0.3393, -0.1267,  0.8847],\n",
      "       grad_fn=<SelectBackward0>)\n"
     ]
    },
    {
     "name": "stderr",
     "output_type": "stream",
     "text": [
      "100%|██████████| 1/1 [00:00<00:00, 722.41it/s]\n"
     ]
    },
    {
     "name": "stdout",
     "output_type": "stream",
     "text": [
      "epoch: 86, train_loss: 4.3080925941467285, val_metric: 0.23077517237753817\n"
     ]
    },
    {
     "name": "stderr",
     "output_type": "stream",
     "text": [
      "100%|██████████| 1/1 [00:00<00:00, 332.46it/s]\n"
     ]
    },
    {
     "name": "stdout",
     "output_type": "stream",
     "text": [
      "tensor([-0.3756, -0.0966, -0.1581, -0.3395, -0.1273,  0.8889],\n",
      "       grad_fn=<SelectBackward0>)\n"
     ]
    },
    {
     "name": "stderr",
     "output_type": "stream",
     "text": [
      "100%|██████████| 1/1 [00:00<00:00, 716.00it/s]\n"
     ]
    },
    {
     "name": "stdout",
     "output_type": "stream",
     "text": [
      "epoch: 87, train_loss: 4.2685699462890625, val_metric: 0.21765587428193045\n"
     ]
    },
    {
     "name": "stderr",
     "output_type": "stream",
     "text": [
      "100%|██████████| 1/1 [00:00<00:00, 334.39it/s]\n"
     ]
    },
    {
     "name": "stdout",
     "output_type": "stream",
     "text": [
      "tensor([-0.3772, -0.0959, -0.1576, -0.3394, -0.1277,  0.8931],\n",
      "       grad_fn=<SelectBackward0>)\n"
     ]
    },
    {
     "name": "stderr",
     "output_type": "stream",
     "text": [
      "100%|██████████| 1/1 [00:00<00:00, 741.04it/s]\n"
     ]
    },
    {
     "name": "stdout",
     "output_type": "stream",
     "text": [
      "epoch: 88, train_loss: 4.260875701904297, val_metric: 0.19987634458158585\n"
     ]
    },
    {
     "name": "stderr",
     "output_type": "stream",
     "text": [
      "100%|██████████| 1/1 [00:00<00:00, 292.18it/s]\n"
     ]
    },
    {
     "name": "stdout",
     "output_type": "stream",
     "text": [
      "tensor([-0.3778, -0.0952, -0.1571, -0.3402, -0.1281,  0.8973],\n",
      "       grad_fn=<SelectBackward0>)\n"
     ]
    },
    {
     "name": "stderr",
     "output_type": "stream",
     "text": [
      "100%|██████████| 1/1 [00:00<00:00, 704.21it/s]\n"
     ]
    },
    {
     "name": "stdout",
     "output_type": "stream",
     "text": [
      "epoch: 89, train_loss: 4.253096103668213, val_metric: 0.22336089479465857\n"
     ]
    },
    {
     "name": "stderr",
     "output_type": "stream",
     "text": [
      "100%|██████████| 1/1 [00:00<00:00, 342.36it/s]\n"
     ]
    },
    {
     "name": "stdout",
     "output_type": "stream",
     "text": [
      "tensor([-0.3797, -0.0944, -0.1568, -0.3405, -0.1285,  0.9015],\n",
      "       grad_fn=<SelectBackward0>)\n"
     ]
    },
    {
     "name": "stderr",
     "output_type": "stream",
     "text": [
      "100%|██████████| 1/1 [00:00<00:00, 705.99it/s]\n"
     ]
    },
    {
     "name": "stdout",
     "output_type": "stream",
     "text": [
      "epoch: 90, train_loss: 4.2456536293029785, val_metric: 0.222685378910246\n"
     ]
    },
    {
     "name": "stderr",
     "output_type": "stream",
     "text": [
      "100%|██████████| 1/1 [00:00<00:00, 334.18it/s]\n"
     ]
    },
    {
     "name": "stdout",
     "output_type": "stream",
     "text": [
      "tensor([-0.3817, -0.0934, -0.1567, -0.3412, -0.1288,  0.9052],\n",
      "       grad_fn=<SelectBackward0>)\n"
     ]
    },
    {
     "name": "stderr",
     "output_type": "stream",
     "text": [
      "100%|██████████| 1/1 [00:00<00:00, 704.21it/s]\n"
     ]
    },
    {
     "name": "stdout",
     "output_type": "stream",
     "text": [
      "epoch: 91, train_loss: 4.238111972808838, val_metric: 0.21472132015136638\n"
     ]
    },
    {
     "name": "stderr",
     "output_type": "stream",
     "text": [
      "100%|██████████| 1/1 [00:00<00:00, 334.71it/s]\n"
     ]
    },
    {
     "name": "stdout",
     "output_type": "stream",
     "text": [
      "tensor([-0.3835, -0.0925, -0.1568, -0.3418, -0.1287,  0.9084],\n",
      "       grad_fn=<SelectBackward0>)\n"
     ]
    },
    {
     "name": "stderr",
     "output_type": "stream",
     "text": [
      "100%|██████████| 1/1 [00:00<00:00, 543.66it/s]\n"
     ]
    },
    {
     "name": "stdout",
     "output_type": "stream",
     "text": [
      "epoch: 92, train_loss: 4.231278419494629, val_metric: 0.20921771705906977\n"
     ]
    },
    {
     "name": "stderr",
     "output_type": "stream",
     "text": [
      "100%|██████████| 1/1 [00:00<00:00, 338.77it/s]\n"
     ]
    },
    {
     "name": "stdout",
     "output_type": "stream",
     "text": [
      "tensor([-0.3843, -0.0917, -0.1568, -0.3428, -0.1285,  0.9114],\n",
      "       grad_fn=<SelectBackward0>)\n"
     ]
    },
    {
     "name": "stderr",
     "output_type": "stream",
     "text": [
      "100%|██████████| 1/1 [00:00<00:00, 724.78it/s]\n"
     ]
    },
    {
     "name": "stdout",
     "output_type": "stream",
     "text": [
      "epoch: 93, train_loss: 4.2244062423706055, val_metric: 0.21965923334761964\n"
     ]
    },
    {
     "name": "stderr",
     "output_type": "stream",
     "text": [
      "100%|██████████| 1/1 [00:00<00:00, 333.70it/s]\n"
     ]
    },
    {
     "name": "stdout",
     "output_type": "stream",
     "text": [
      "tensor([-0.3842, -0.0911, -0.1569, -0.3430, -0.1280,  0.9144],\n",
      "       grad_fn=<SelectBackward0>)\n"
     ]
    },
    {
     "name": "stderr",
     "output_type": "stream",
     "text": [
      "100%|██████████| 1/1 [00:00<00:00, 705.64it/s]\n"
     ]
    },
    {
     "name": "stdout",
     "output_type": "stream",
     "text": [
      "epoch: 94, train_loss: 4.217450141906738, val_metric: 0.2379146989225936\n"
     ]
    },
    {
     "name": "stderr",
     "output_type": "stream",
     "text": [
      "100%|██████████| 1/1 [00:00<00:00, 338.03it/s]\n"
     ]
    },
    {
     "name": "stdout",
     "output_type": "stream",
     "text": [
      "tensor([-0.3839, -0.0905, -0.1569, -0.3431, -0.1275,  0.9172],\n",
      "       grad_fn=<SelectBackward0>)\n"
     ]
    },
    {
     "name": "stderr",
     "output_type": "stream",
     "text": [
      "100%|██████████| 1/1 [00:00<00:00, 707.30it/s]\n"
     ]
    },
    {
     "name": "stdout",
     "output_type": "stream",
     "text": [
      "epoch: 95, train_loss: 4.210359573364258, val_metric: 0.21119500350024353\n"
     ]
    },
    {
     "name": "stderr",
     "output_type": "stream",
     "text": [
      "100%|██████████| 1/1 [00:00<00:00, 336.86it/s]\n"
     ]
    },
    {
     "name": "stdout",
     "output_type": "stream",
     "text": [
      "tensor([-0.3839, -0.0901, -0.1570, -0.3426, -0.1266,  0.9198],\n",
      "       grad_fn=<SelectBackward0>)\n"
     ]
    },
    {
     "name": "stderr",
     "output_type": "stream",
     "text": [
      "100%|██████████| 1/1 [00:00<00:00, 723.65it/s]\n"
     ]
    },
    {
     "name": "stdout",
     "output_type": "stream",
     "text": [
      "epoch: 96, train_loss: 4.203843593597412, val_metric: 0.2363306881352393\n"
     ]
    },
    {
     "name": "stderr",
     "output_type": "stream",
     "text": [
      "100%|██████████| 1/1 [00:00<00:00, 336.19it/s]\n"
     ]
    },
    {
     "name": "stdout",
     "output_type": "stream",
     "text": [
      "tensor([-0.3838, -0.0895, -0.1570, -0.3423, -0.1260,  0.9225],\n",
      "       grad_fn=<SelectBackward0>)\n"
     ]
    },
    {
     "name": "stderr",
     "output_type": "stream",
     "text": [
      "100%|██████████| 1/1 [00:00<00:00, 724.28it/s]\n"
     ]
    },
    {
     "name": "stdout",
     "output_type": "stream",
     "text": [
      "epoch: 97, train_loss: 4.197504043579102, val_metric: 0.1993713590120236\n"
     ]
    },
    {
     "name": "stderr",
     "output_type": "stream",
     "text": [
      "100%|██████████| 1/1 [00:00<00:00, 334.79it/s]\n"
     ]
    },
    {
     "name": "stdout",
     "output_type": "stream",
     "text": [
      "tensor([-0.3834, -0.0889, -0.1568, -0.3420, -0.1257,  0.9254],\n",
      "       grad_fn=<SelectBackward0>)\n"
     ]
    },
    {
     "name": "stderr",
     "output_type": "stream",
     "text": [
      "100%|██████████| 1/1 [00:00<00:00, 728.05it/s]\n"
     ]
    },
    {
     "name": "stdout",
     "output_type": "stream",
     "text": [
      "epoch: 98, train_loss: 4.190544605255127, val_metric: 0.2141065085934349\n"
     ]
    },
    {
     "name": "stderr",
     "output_type": "stream",
     "text": [
      "100%|██████████| 1/1 [00:00<00:00, 330.57it/s]\n"
     ]
    },
    {
     "name": "stdout",
     "output_type": "stream",
     "text": [
      "tensor([-0.3828, -0.0885, -0.1566, -0.3408, -0.1249,  0.9281],\n",
      "       grad_fn=<SelectBackward0>)\n"
     ]
    },
    {
     "name": "stderr",
     "output_type": "stream",
     "text": [
      "100%|██████████| 1/1 [00:00<00:00, 705.52it/s]"
     ]
    },
    {
     "name": "stdout",
     "output_type": "stream",
     "text": [
      "epoch: 99, train_loss: 4.183767318725586, val_metric: 0.20329048614971318\n"
     ]
    },
    {
     "name": "stderr",
     "output_type": "stream",
     "text": [
      "\n"
     ]
    }
   ],
   "source": [
    "metrics = []\n",
    "for epoch in range(100):\n",
    "    epoch_losses = []\n",
    "    new_model.train() # beginning of epoch, set model to training mode\n",
    "    for batch_idx, batch in enumerate(tqdm(train_loader)):    \n",
    "                \n",
    "        pred = new_model(batch['X'])\n",
    "        \n",
    "        batch = filter_kwargs(loss_fn.forward, batch) # filter out only valid arguments for the loss function                         \n",
    "        loss = loss_fn(pred, **batch) # we assume the first argument of the loss function is the prediction, while the rest can be passed as kwargs\n",
    "        \n",
    "        # standard backwards pass\n",
    "        optimizer.zero_grad()\n",
    "        loss.backward()\n",
    "        optimizer.step()\n",
    "        epoch_losses.append(loss.item())        \n",
    "    \n",
    "    print(new_model.linear.weight[0])\n",
    "    new_model.eval()\n",
    "    all_preds = []\n",
    "    with torch.no_grad():\n",
    "        for batch_idx, batch in enumerate(tqdm(val_loader)):                    \n",
    "            pred = new_model(batch['X'])                    \n",
    "            all_preds.append(pred)\n",
    "    all_preds = torch.cat(all_preds, dim=0)\n",
    "    \n",
    "    val_data_dict = filter_kwargs(val_metric, val_dict) # filter out only valid arguments for the val metric    \n",
    "    val_loss = val_metric(all_preds, **val_data_dict)\n",
    "\n",
    "    cur_metric = {'epoch': epoch, \n",
    "                    'train_loss': np.mean(epoch_losses), \n",
    "                    'val_metric': val_loss}\n",
    "    metrics.append(cur_metric)\n",
    "    \n",
    "    print(f'epoch: {epoch}, train_loss: {np.mean(epoch_losses)}, val_metric: {val_loss}')\n",
    "metrics = pd.DataFrame(metrics)"
   ]
  },
  {
   "cell_type": "code",
   "execution_count": 356,
   "id": "6d27bc89-29d4-411e-b3df-3526c7c1dfd4",
   "metadata": {},
   "outputs": [
    {
     "data": {
      "text/plain": [
       "[17.493484497070312]"
      ]
     },
     "execution_count": 356,
     "metadata": {},
     "output_type": "execute_result"
    }
   ],
   "source": [
    "epoch_losses"
   ]
  },
  {
   "cell_type": "markdown",
   "id": "2928b4a5-08d0-4eca-b9ac-45f365aa5bd4",
   "metadata": {},
   "source": [
    "Baby Old Training Loop"
   ]
  },
  {
   "cell_type": "code",
   "execution_count": 383,
   "id": "7aee636a-fa74-4451-b14d-468f18490c13",
   "metadata": {},
   "outputs": [
    {
     "name": "stdout",
     "output_type": "stream",
     "text": [
      "tensor([-0.3895,  0.1444, -0.3851, -0.3101, -0.0109,  0.3007],\n",
      "       grad_fn=<SelectBackward0>)\n",
      "Num of cores: 1\n",
      "Optimizing for optDataset...\n"
     ]
    },
    {
     "name": "stderr",
     "output_type": "stream",
     "text": [
      "100%|██████████| 200/200 [00:00<00:00, 1052.83it/s]\n"
     ]
    }
   ],
   "source": [
    "import pyepo\n",
    "\n",
    "feat, cost_true, cost, eps = sp_grid_mike_neurips.genData(num_data + 200, \n",
    "                                                     num_feat, \n",
    "                                                     grid, \n",
    "                                                     ep_type, \n",
    "                                                     deg, \n",
    "                                                     e, \n",
    "                                                     seed=indices_arr[trial])\n",
    "x_train, x_val, c_train, c_val = train_test_split(feat, cost, test_size=200, random_state=42)\n",
    "x_test, c_test, c_hat_test, eps_test = sp_grid_mike_neurips.genData(10000, \n",
    "                                                          num_feat, \n",
    "                                                          grid, \n",
    "                                                          ep_type, \n",
    "                                                          deg, \n",
    "                                                          e, \n",
    "                                                          seed=indices_arr_test[trial])\n",
    "\n",
    "old_model = LinearRegression(input_dim=train_dict['X'].shape[1],\n",
    "                 output_dim=train_dict['true_cost'].shape[1])\n",
    "old_model.linear = copy.deepcopy(predmodel.linear)\n",
    "print(old_model.linear.weight[0])\n",
    "\n",
    "optmodel_old = sp_grid_mike_neurips.shortestPathModel()\n",
    "old_loss_fn = SPOPlus2(optmodel_old)\n",
    "\n",
    "optimizer = torch.optim.Adam(old_model.parameters(), lr=0.01)\n",
    "# build dataset\n",
    "dataset = pyepo.data.dataset.optDataset(optmodel_old, x_train[:,:-1], c_train)\n",
    "loader_train = DataLoader(dataset, batch_size=200, shuffle=True)    "
   ]
  },
  {
   "cell_type": "code",
   "execution_count": 384,
   "id": "ce0eee6f-5668-43bd-b2cf-90b3247fa3e4",
   "metadata": {
    "scrolled": true
   },
   "outputs": [
    {
     "name": "stdout",
     "output_type": "stream",
     "text": [
      "tensor([-0.3795,  0.1344, -0.3751, -0.3201, -0.0209,  0.3107],\n",
      "       grad_fn=<SelectBackward0>)\n",
      "Epoch  1,  Train_Regret: 17.493484497070312, Val_Regret: 53.8790%, Regret: 49.1503%\n",
      "tensor([-0.3714,  0.1244, -0.3651, -0.3298, -0.0309,  0.3202],\n",
      "       grad_fn=<SelectBackward0>)\n",
      "Epoch  2,  Train_Regret: 16.78026580810547, Val_Regret: 51.8425%, Regret: 47.1263%\n",
      "tensor([-0.3660,  0.1144, -0.3551, -0.3358, -0.0407,  0.3299],\n",
      "       grad_fn=<SelectBackward0>)\n",
      "Epoch  3,  Train_Regret: 16.084392547607422, Val_Regret: 49.8255%, Regret: 44.9284%\n",
      "tensor([-0.3653,  0.1044, -0.3451, -0.3390, -0.0503,  0.3397],\n",
      "       grad_fn=<SelectBackward0>)\n",
      "Epoch  4,  Train_Regret: 15.414484977722168, Val_Regret: 45.8209%, Regret: 42.1496%\n",
      "tensor([-0.3689,  0.0945, -0.3351, -0.3377, -0.0599,  0.3494],\n",
      "       grad_fn=<SelectBackward0>)\n",
      "Epoch  5,  Train_Regret: 14.766684532165527, Val_Regret: 43.3121%, Regret: 39.2565%\n",
      "tensor([-0.3657,  0.0845, -0.3251, -0.3331, -0.0693,  0.3591],\n",
      "       grad_fn=<SelectBackward0>)\n",
      "Epoch  6,  Train_Regret: 14.13941764831543, Val_Regret: 41.6984%, Regret: 35.8860%\n",
      "tensor([-0.3603,  0.0746, -0.3152, -0.3279, -0.0785,  0.3688],\n",
      "       grad_fn=<SelectBackward0>)\n",
      "Epoch  7,  Train_Regret: 13.531816482543945, Val_Regret: 38.6361%, Regret: 32.8253%\n",
      "tensor([-0.3534,  0.0647, -0.3054, -0.3217, -0.0872,  0.3785],\n",
      "       grad_fn=<SelectBackward0>)\n",
      "Epoch  8,  Train_Regret: 12.951425552368164, Val_Regret: 36.1382%, Regret: 29.7858%\n",
      "tensor([-0.3456,  0.0549, -0.2956, -0.3145, -0.0955,  0.3877],\n",
      "       grad_fn=<SelectBackward0>)\n",
      "Epoch  9,  Train_Regret: 12.397735595703125, Val_Regret: 34.4077%, Regret: 27.1226%\n",
      "tensor([-0.3371,  0.0452, -0.2859, -0.3077, -0.1031,  0.3970],\n",
      "       grad_fn=<SelectBackward0>)\n",
      "Epoch 10,  Train_Regret: 11.860347747802734, Val_Regret: 32.2267%, Regret: 24.4223%\n",
      "tensor([-0.3281,  0.0356, -0.2763, -0.3022, -0.1101,  0.4065],\n",
      "       grad_fn=<SelectBackward0>)\n",
      "Epoch 11,  Train_Regret: 11.447813987731934, Val_Regret: 31.0045%, Regret: 22.3858%\n",
      "tensor([-0.3190,  0.0261, -0.2670, -0.3014, -0.1164,  0.4163],\n",
      "       grad_fn=<SelectBackward0>)\n",
      "Epoch 12,  Train_Regret: 10.870156288146973, Val_Regret: 28.4821%, Regret: 20.5271%\n",
      "tensor([-0.3103,  0.0167, -0.2578, -0.3032, -0.1221,  0.4263],\n",
      "       grad_fn=<SelectBackward0>)\n",
      "Epoch 13,  Train_Regret: 10.404491424560547, Val_Regret: 25.5066%, Regret: 18.8915%\n",
      "tensor([-0.3025,  0.0073, -0.2489, -0.3078, -0.1270,  0.4365],\n",
      "       grad_fn=<SelectBackward0>)\n",
      "Epoch 14,  Train_Regret: 9.957536697387695, Val_Regret: 24.1600%, Regret: 17.4042%\n",
      "tensor([-0.2953, -0.0020, -0.2405, -0.3136, -0.1315,  0.4469],\n",
      "       grad_fn=<SelectBackward0>)\n",
      "Epoch 15,  Train_Regret: 9.533937454223633, Val_Regret: 23.0982%, Regret: 16.2458%\n",
      "tensor([-0.2895, -0.0110, -0.2322, -0.3204, -0.1355,  0.4575],\n",
      "       grad_fn=<SelectBackward0>)\n",
      "Epoch 16,  Train_Regret: 9.12744426727295, Val_Regret: 22.2228%, Regret: 15.1169%\n",
      "tensor([-0.2854, -0.0197, -0.2242, -0.3272, -0.1389,  0.4683],\n",
      "       grad_fn=<SelectBackward0>)\n",
      "Epoch 17,  Train_Regret: 8.753935813903809, Val_Regret: 21.4980%, Regret: 14.3185%\n",
      "tensor([-0.2832, -0.0281, -0.2166, -0.3344, -0.1418,  0.4787],\n",
      "       grad_fn=<SelectBackward0>)\n",
      "Epoch 18,  Train_Regret: 8.406458854675293, Val_Regret: 20.9017%, Regret: 13.7040%\n",
      "tensor([-0.2829, -0.0361, -0.2093, -0.3420, -0.1442,  0.4890],\n",
      "       grad_fn=<SelectBackward0>)\n",
      "Epoch 19,  Train_Regret: 8.08495807647705, Val_Regret: 20.9197%, Regret: 13.3429%\n",
      "tensor([-0.2843, -0.0439, -0.2025, -0.3488, -0.1457,  0.4991],\n",
      "       grad_fn=<SelectBackward0>)\n",
      "Epoch 20,  Train_Regret: 7.781778335571289, Val_Regret: 20.8599%, Regret: 13.0641%\n",
      "tensor([-0.2878, -0.0514, -0.1961, -0.3539, -0.1462,  0.5092],\n",
      "       grad_fn=<SelectBackward0>)\n",
      "Epoch 21,  Train_Regret: 7.506953716278076, Val_Regret: 20.5941%, Regret: 12.9061%\n",
      "tensor([-0.2927, -0.0583, -0.1902, -0.3565, -0.1460,  0.5193],\n",
      "       grad_fn=<SelectBackward0>)\n",
      "Epoch 22,  Train_Regret: 7.251379013061523, Val_Regret: 20.5347%, Regret: 12.6716%\n",
      "tensor([-0.2989, -0.0648, -0.1847, -0.3571, -0.1452,  0.5293],\n",
      "       grad_fn=<SelectBackward0>)\n",
      "Epoch 23,  Train_Regret: 7.011842727661133, Val_Regret: 19.5900%, Regret: 12.4577%\n",
      "tensor([-0.3063, -0.0710, -0.1796, -0.3569, -0.1439,  0.5385],\n",
      "       grad_fn=<SelectBackward0>)\n",
      "Epoch 24,  Train_Regret: 6.787110805511475, Val_Regret: 19.3216%, Regret: 12.2348%\n",
      "tensor([-0.3146, -0.0768, -0.1750, -0.3557, -0.1420,  0.5473],\n",
      "       grad_fn=<SelectBackward0>)\n",
      "Epoch 25,  Train_Regret: 6.5733137130737305, Val_Regret: 18.9701%, Regret: 11.9572%\n",
      "tensor([-0.3235, -0.0822, -0.1709, -0.3537, -0.1395,  0.5555],\n",
      "       grad_fn=<SelectBackward0>)\n",
      "Epoch 26,  Train_Regret: 6.380494594573975, Val_Regret: 19.0635%, Regret: 11.7077%\n",
      "tensor([-0.3329, -0.0872, -0.1676, -0.3508, -0.1367,  0.5628],\n",
      "       grad_fn=<SelectBackward0>)\n",
      "Epoch 27,  Train_Regret: 6.205470085144043, Val_Regret: 18.0518%, Regret: 11.5149%\n",
      "tensor([-0.3419, -0.0918, -0.1649, -0.3470, -0.1336,  0.5685],\n",
      "       grad_fn=<SelectBackward0>)\n",
      "Epoch 28,  Train_Regret: 6.049722671508789, Val_Regret: 16.9157%, Regret: 11.2994%\n",
      "tensor([-0.3500, -0.0958, -0.1628, -0.3423, -0.1304,  0.5732],\n",
      "       grad_fn=<SelectBackward0>)\n",
      "Epoch 29,  Train_Regret: 5.910832405090332, Val_Regret: 16.5066%, Regret: 11.0256%\n",
      "tensor([-0.3570, -0.0994, -0.1613, -0.3380, -0.1268,  0.5767],\n",
      "       grad_fn=<SelectBackward0>)\n",
      "Epoch 30,  Train_Regret: 5.795680522918701, Val_Regret: 16.2656%, Regret: 10.8758%\n",
      "tensor([-0.3630, -0.1025, -0.1604, -0.3334, -0.1230,  0.5790],\n",
      "       grad_fn=<SelectBackward0>)\n",
      "Epoch 31,  Train_Regret: 5.688831329345703, Val_Regret: 16.1998%, Regret: 10.6093%\n",
      "tensor([-0.3674, -0.1051, -0.1600, -0.3288, -0.1191,  0.5804],\n",
      "       grad_fn=<SelectBackward0>)\n",
      "Epoch 32,  Train_Regret: 5.5939812660217285, Val_Regret: 16.2092%, Regret: 10.3855%\n",
      "tensor([-0.3712, -0.1072, -0.1601, -0.3246, -0.1155,  0.5818],\n",
      "       grad_fn=<SelectBackward0>)\n",
      "Epoch 33,  Train_Regret: 5.511481761932373, Val_Regret: 16.1808%, Regret: 10.1629%\n",
      "tensor([-0.3750, -0.1088, -0.1604, -0.3213, -0.1123,  0.5835],\n",
      "       grad_fn=<SelectBackward0>)\n",
      "Epoch 34,  Train_Regret: 5.441271781921387, Val_Regret: 16.2946%, Regret: 10.0054%\n",
      "tensor([-0.3787, -0.1102, -0.1608, -0.3193, -0.1095,  0.5858],\n",
      "       grad_fn=<SelectBackward0>)\n",
      "Epoch 35,  Train_Regret: 5.375828266143799, Val_Regret: 16.1236%, Regret:  9.8151%\n",
      "tensor([-0.3821, -0.1113, -0.1613, -0.3190, -0.1069,  0.5887],\n",
      "       grad_fn=<SelectBackward0>)\n",
      "Epoch 36,  Train_Regret: 5.315377712249756, Val_Regret: 16.0267%, Regret:  9.6924%\n",
      "tensor([-0.3855, -0.1122, -0.1618, -0.3195, -0.1043,  0.5924],\n",
      "       grad_fn=<SelectBackward0>)\n",
      "Epoch 37,  Train_Regret: 5.257638931274414, Val_Regret: 15.7123%, Regret:  9.6066%\n",
      "tensor([-0.3878, -0.1129, -0.1622, -0.3208, -0.1018,  0.5974],\n",
      "       grad_fn=<SelectBackward0>)\n",
      "Epoch 38,  Train_Regret: 5.3194804191589355, Val_Regret: 15.3946%, Regret:  9.5261%\n",
      "tensor([-0.3886, -0.1136, -0.1623, -0.3199, -0.0995,  0.6034],\n",
      "       grad_fn=<SelectBackward0>)\n",
      "Epoch 39,  Train_Regret: 5.158651828765869, Val_Regret: 15.1796%, Regret:  9.4493%\n",
      "tensor([-0.3879, -0.1143, -0.1622, -0.3173, -0.0975,  0.6104],\n",
      "       grad_fn=<SelectBackward0>)\n",
      "Epoch 40,  Train_Regret: 5.114628314971924, Val_Regret: 15.4400%, Regret:  9.3312%\n",
      "tensor([-0.3858, -0.1150, -0.1617, -0.3130, -0.0957,  0.6184],\n",
      "       grad_fn=<SelectBackward0>)\n",
      "Epoch 41,  Train_Regret: 5.162067890167236, Val_Regret: 15.3254%, Regret:  9.2641%\n",
      "tensor([-0.3831, -0.1155, -0.1615, -0.3089, -0.0941,  0.6268],\n",
      "       grad_fn=<SelectBackward0>)\n",
      "Epoch 42,  Train_Regret: 5.0354905128479, Val_Regret: 15.1540%, Regret:  9.2297%\n",
      "tensor([-0.3807, -0.1160, -0.1615, -0.3066, -0.0930,  0.6354],\n",
      "       grad_fn=<SelectBackward0>)\n",
      "Epoch 43,  Train_Regret: 4.998875617980957, Val_Regret: 15.0000%, Regret:  9.1565%\n",
      "tensor([-0.3787, -0.1163, -0.1617, -0.3058, -0.0925,  0.6437],\n",
      "       grad_fn=<SelectBackward0>)\n",
      "Epoch 44,  Train_Regret: 4.966945648193359, Val_Regret: 15.0217%, Regret:  9.1098%\n",
      "tensor([-0.3770, -0.1165, -0.1622, -0.3063, -0.0923,  0.6519],\n",
      "       grad_fn=<SelectBackward0>)\n",
      "Epoch 45,  Train_Regret: 4.9358367919921875, Val_Regret: 14.9359%, Regret:  9.0519%\n",
      "tensor([-0.3759, -0.1166, -0.1628, -0.3072, -0.0929,  0.6599],\n",
      "       grad_fn=<SelectBackward0>)\n",
      "Epoch 46,  Train_Regret: 4.9069318771362305, Val_Regret: 14.5670%, Regret:  9.0035%\n",
      "tensor([-0.3755, -0.1166, -0.1636, -0.3082, -0.0939,  0.6678],\n",
      "       grad_fn=<SelectBackward0>)\n",
      "Epoch 47,  Train_Regret: 4.880943298339844, Val_Regret: 14.5241%, Regret:  8.9648%\n",
      "tensor([-0.3756, -0.1168, -0.1641, -0.3077, -0.0951,  0.6758],\n",
      "       grad_fn=<SelectBackward0>)\n",
      "Epoch 48,  Train_Regret: 4.855621814727783, Val_Regret: 14.8286%, Regret:  8.9654%\n",
      "tensor([-0.3762, -0.1169, -0.1641, -0.3054, -0.0965,  0.6840],\n",
      "       grad_fn=<SelectBackward0>)\n",
      "Epoch 49,  Train_Regret: 4.830745697021484, Val_Regret: 14.2308%, Regret:  8.8972%\n",
      "tensor([-0.3769, -0.1171, -0.1641, -0.3032, -0.0984,  0.6919],\n",
      "       grad_fn=<SelectBackward0>)\n",
      "Epoch 50,  Train_Regret: 4.805845737457275, Val_Regret: 14.1913%, Regret:  8.8273%\n",
      "tensor([-0.3774, -0.1170, -0.1641, -0.3017, -0.1008,  0.6996],\n",
      "       grad_fn=<SelectBackward0>)\n",
      "Epoch 51,  Train_Regret: 4.780776023864746, Val_Regret: 14.2525%, Regret:  8.8136%\n",
      "tensor([-0.3778, -0.1169, -0.1640, -0.3008, -0.1038,  0.7068],\n",
      "       grad_fn=<SelectBackward0>)\n",
      "Epoch 52,  Train_Regret: 4.755840301513672, Val_Regret: 14.3601%, Regret:  8.8350%\n",
      "tensor([-0.3781, -0.1167, -0.1640, -0.3004, -0.1073,  0.7136],\n",
      "       grad_fn=<SelectBackward0>)\n",
      "Epoch 53,  Train_Regret: 4.731210231781006, Val_Regret: 14.3506%, Regret:  8.8047%\n",
      "tensor([-0.3789, -0.1165, -0.1638, -0.3002, -0.1110,  0.7198],\n",
      "       grad_fn=<SelectBackward0>)\n",
      "Epoch 54,  Train_Regret: 4.706007480621338, Val_Regret: 14.8039%, Regret:  8.7506%\n",
      "tensor([-0.3797, -0.1163, -0.1636, -0.3011, -0.1149,  0.7257],\n",
      "       grad_fn=<SelectBackward0>)\n",
      "Epoch 55,  Train_Regret: 4.681149482727051, Val_Regret: 14.3180%, Regret:  8.7728%\n",
      "tensor([-0.3805, -0.1160, -0.1633, -0.3027, -0.1184,  0.7311],\n",
      "       grad_fn=<SelectBackward0>)\n",
      "Epoch 56,  Train_Regret: 4.658987045288086, Val_Regret: 14.4153%, Regret:  8.7470%\n",
      "tensor([-0.3818, -0.1157, -0.1630, -0.3052, -0.1214,  0.7362],\n",
      "       grad_fn=<SelectBackward0>)\n",
      "Epoch 57,  Train_Regret: 4.637807846069336, Val_Regret: 14.5539%, Regret:  8.8013%\n",
      "tensor([-0.3831, -0.1155, -0.1625, -0.3089, -0.1235,  0.7409],\n",
      "       grad_fn=<SelectBackward0>)\n",
      "Epoch 58,  Train_Regret: 4.619064807891846, Val_Regret: 14.5360%, Regret:  8.7750%\n",
      "tensor([-0.3840, -0.1153, -0.1613, -0.3117, -0.1249,  0.7458],\n",
      "       grad_fn=<SelectBackward0>)\n",
      "Epoch 59,  Train_Regret: 4.601837158203125, Val_Regret: 15.1873%, Regret:  8.7723%\n",
      "tensor([-0.3844, -0.1151, -0.1598, -0.3133, -0.1254,  0.7514],\n",
      "       grad_fn=<SelectBackward0>)\n",
      "Epoch 60,  Train_Regret: 4.586854934692383, Val_Regret: 14.5885%, Regret:  8.7596%\n",
      "tensor([-0.3848, -0.1150, -0.1584, -0.3150, -0.1254,  0.7570],\n",
      "       grad_fn=<SelectBackward0>)\n",
      "Epoch 61,  Train_Regret: 4.571585655212402, Val_Regret: 14.4342%, Regret:  8.6489%\n",
      "tensor([-0.3844, -0.1149, -0.1572, -0.3167, -0.1248,  0.7626],\n",
      "       grad_fn=<SelectBackward0>)\n",
      "Epoch 62,  Train_Regret: 4.556169033050537, Val_Regret: 14.3950%, Regret:  8.5679%\n",
      "tensor([-0.3836, -0.1149, -0.1563, -0.3182, -0.1238,  0.7681],\n",
      "       grad_fn=<SelectBackward0>)\n",
      "Epoch 63,  Train_Regret: 4.540851593017578, Val_Regret: 14.1880%, Regret:  8.4224%\n",
      "tensor([-0.3821, -0.1149, -0.1558, -0.3198, -0.1226,  0.7737],\n",
      "       grad_fn=<SelectBackward0>)\n",
      "Epoch 64,  Train_Regret: 4.525737762451172, Val_Regret: 14.1490%, Regret:  8.2706%\n",
      "tensor([-0.3804, -0.1150, -0.1556, -0.3211, -0.1210,  0.7794],\n",
      "       grad_fn=<SelectBackward0>)\n",
      "Epoch 65,  Train_Regret: 4.510251045227051, Val_Regret: 13.8424%, Regret:  8.0828%\n",
      "tensor([-0.3787, -0.1151, -0.1558, -0.3219, -0.1192,  0.7851],\n",
      "       grad_fn=<SelectBackward0>)\n",
      "Epoch 66,  Train_Regret: 4.495912075042725, Val_Regret: 13.2883%, Regret:  7.9376%\n",
      "tensor([-0.3770, -0.1152, -0.1564, -0.3223, -0.1172,  0.7909],\n",
      "       grad_fn=<SelectBackward0>)\n",
      "Epoch 67,  Train_Regret: 4.482025146484375, Val_Regret: 12.9196%, Regret:  7.7887%\n",
      "tensor([-0.3753, -0.1151, -0.1570, -0.3233, -0.1155,  0.7968],\n",
      "       grad_fn=<SelectBackward0>)\n",
      "Epoch 68,  Train_Regret: 4.4690775871276855, Val_Regret: 12.6202%, Regret:  7.6378%\n",
      "tensor([-0.3733, -0.1149, -0.1577, -0.3251, -0.1142,  0.8026],\n",
      "       grad_fn=<SelectBackward0>)\n",
      "Epoch 69,  Train_Regret: 4.456157684326172, Val_Regret: 12.6455%, Regret:  7.5082%\n",
      "tensor([-0.3711, -0.1145, -0.1584, -0.3271, -0.1135,  0.8082],\n",
      "       grad_fn=<SelectBackward0>)\n",
      "Epoch 70,  Train_Regret: 4.44343900680542, Val_Regret: 12.5460%, Regret:  7.3805%\n",
      "tensor([-0.3686, -0.1139, -0.1592, -0.3292, -0.1134,  0.8137],\n",
      "       grad_fn=<SelectBackward0>)\n",
      "Epoch 71,  Train_Regret: 4.430868148803711, Val_Regret: 12.4003%, Regret:  7.2019%\n",
      "tensor([-0.3662, -0.1131, -0.1599, -0.3310, -0.1139,  0.8189],\n",
      "       grad_fn=<SelectBackward0>)\n",
      "Epoch 72,  Train_Regret: 4.418442249298096, Val_Regret: 12.2014%, Regret:  7.0484%\n",
      "tensor([-0.3651, -0.1121, -0.1607, -0.3319, -0.1148,  0.8238],\n",
      "       grad_fn=<SelectBackward0>)\n",
      "Epoch 73,  Train_Regret: 4.407077789306641, Val_Regret: 11.9860%, Regret:  6.8932%\n",
      "tensor([-0.3650, -0.1110, -0.1615, -0.3315, -0.1160,  0.8284],\n",
      "       grad_fn=<SelectBackward0>)\n",
      "Epoch 74,  Train_Regret: 4.396326541900635, Val_Regret: 11.9479%, Regret:  6.7187%\n",
      "tensor([-0.3663, -0.1098, -0.1623, -0.3293, -0.1172,  0.8329],\n",
      "       grad_fn=<SelectBackward0>)\n",
      "Epoch 75,  Train_Regret: 4.38515043258667, Val_Regret: 11.5557%, Regret:  6.5991%\n",
      "tensor([-0.3685, -0.1085, -0.1629, -0.3271, -0.1183,  0.8369],\n",
      "       grad_fn=<SelectBackward0>)\n",
      "Epoch 76,  Train_Regret: 4.374324321746826, Val_Regret: 11.5477%, Regret:  6.4566%\n",
      "tensor([-0.3702, -0.1072, -0.1634, -0.3273, -0.1198,  0.8412],\n",
      "       grad_fn=<SelectBackward0>)\n",
      "Epoch 77,  Train_Regret: 4.435861587524414, Val_Regret: 11.9594%, Regret:  6.3801%\n",
      "tensor([-0.3715, -0.1060, -0.1636, -0.3289, -0.1211,  0.8453],\n",
      "       grad_fn=<SelectBackward0>)\n",
      "Epoch 78,  Train_Regret: 4.355704307556152, Val_Regret: 11.5339%, Regret:  6.3063%\n",
      "tensor([-0.3726, -0.1051, -0.1635, -0.3317, -0.1220,  0.8493],\n",
      "       grad_fn=<SelectBackward0>)\n",
      "Epoch 79,  Train_Regret: 4.346749782562256, Val_Regret: 11.3686%, Regret:  6.2380%\n",
      "tensor([-0.3733, -0.1041, -0.1630, -0.3346, -0.1226,  0.8537],\n",
      "       grad_fn=<SelectBackward0>)\n",
      "Epoch 80,  Train_Regret: 4.337762355804443, Val_Regret: 11.3275%, Regret:  6.0629%\n",
      "tensor([-0.3733, -0.1032, -0.1625, -0.3366, -0.1232,  0.8582],\n",
      "       grad_fn=<SelectBackward0>)\n",
      "Epoch 81,  Train_Regret: 4.328523635864258, Val_Regret: 11.2860%, Regret:  5.9624%\n",
      "tensor([-0.3727, -0.1021, -0.1619, -0.3377, -0.1238,  0.8629],\n",
      "       grad_fn=<SelectBackward0>)\n",
      "Epoch 82,  Train_Regret: 4.3193440437316895, Val_Regret: 11.1699%, Regret:  5.8684%\n",
      "tensor([-0.3725, -0.1012, -0.1612, -0.3378, -0.1243,  0.8676],\n",
      "       grad_fn=<SelectBackward0>)\n",
      "Epoch 83,  Train_Regret: 4.310287952423096, Val_Regret: 11.4347%, Regret:  5.7504%\n",
      "tensor([-0.3723, -0.1002, -0.1605, -0.3380, -0.1248,  0.8720],\n",
      "       grad_fn=<SelectBackward0>)\n",
      "Epoch 84,  Train_Regret: 4.301353454589844, Val_Regret: 10.8657%, Regret:  5.6619%\n",
      "tensor([-0.3721, -0.0992, -0.1599, -0.3385, -0.1255,  0.8763],\n",
      "       grad_fn=<SelectBackward0>)\n",
      "Epoch 85,  Train_Regret: 4.292415618896484, Val_Regret: 10.3102%, Regret:  5.5636%\n",
      "tensor([-0.3725, -0.0982, -0.1592, -0.3389, -0.1261,  0.8805],\n",
      "       grad_fn=<SelectBackward0>)\n",
      "Epoch 86,  Train_Regret: 4.2840423583984375, Val_Regret:  9.9370%, Regret:  5.4524%\n",
      "tensor([-0.3738, -0.0974, -0.1586, -0.3393, -0.1267,  0.8847],\n",
      "       grad_fn=<SelectBackward0>)\n",
      "Epoch 87,  Train_Regret: 4.30809211730957, Val_Regret:  9.7510%, Regret:  5.3636%\n",
      "tensor([-0.3756, -0.0966, -0.1581, -0.3395, -0.1273,  0.8889],\n",
      "       grad_fn=<SelectBackward0>)\n",
      "Epoch 88,  Train_Regret: 4.268569469451904, Val_Regret:  9.6876%, Regret:  5.2914%\n",
      "tensor([-0.3772, -0.0959, -0.1576, -0.3394, -0.1277,  0.8931],\n",
      "       grad_fn=<SelectBackward0>)\n",
      "Epoch 89,  Train_Regret: 4.260875225067139, Val_Regret:  9.6985%, Regret:  5.2032%\n",
      "tensor([-0.3778, -0.0952, -0.1571, -0.3402, -0.1281,  0.8973],\n",
      "       grad_fn=<SelectBackward0>)\n",
      "Epoch 90,  Train_Regret: 4.253095626831055, Val_Regret:  9.6803%, Regret:  5.1368%\n",
      "tensor([-0.3797, -0.0944, -0.1568, -0.3405, -0.1285,  0.9015],\n",
      "       grad_fn=<SelectBackward0>)\n",
      "Epoch 91,  Train_Regret: 4.2456536293029785, Val_Regret:  9.3790%, Regret:  5.0912%\n",
      "tensor([-0.3817, -0.0934, -0.1567, -0.3412, -0.1288,  0.9052],\n",
      "       grad_fn=<SelectBackward0>)\n",
      "Epoch 92,  Train_Regret: 4.238111972808838, Val_Regret:  9.0603%, Regret:  5.0546%\n",
      "tensor([-0.3835, -0.0925, -0.1568, -0.3418, -0.1287,  0.9084],\n",
      "       grad_fn=<SelectBackward0>)\n",
      "Epoch 93,  Train_Regret: 4.231278419494629, Val_Regret:  9.0347%, Regret:  4.9600%\n",
      "tensor([-0.3843, -0.0917, -0.1568, -0.3428, -0.1285,  0.9114],\n",
      "       grad_fn=<SelectBackward0>)\n",
      "Epoch 94,  Train_Regret: 4.224405288696289, Val_Regret:  8.8137%, Regret:  4.9620%\n",
      "tensor([-0.3842, -0.0911, -0.1569, -0.3430, -0.1280,  0.9144],\n",
      "       grad_fn=<SelectBackward0>)\n",
      "Epoch 95,  Train_Regret: 4.217450141906738, Val_Regret:  8.8107%, Regret:  4.8937%\n",
      "tensor([-0.3839, -0.0905, -0.1569, -0.3431, -0.1275,  0.9172],\n",
      "       grad_fn=<SelectBackward0>)\n",
      "Epoch 96,  Train_Regret: 4.210358619689941, Val_Regret:  8.7942%, Regret:  4.8883%\n",
      "tensor([-0.3839, -0.0901, -0.1570, -0.3426, -0.1266,  0.9198],\n",
      "       grad_fn=<SelectBackward0>)\n",
      "Epoch 97,  Train_Regret: 4.203843593597412, Val_Regret:  8.7221%, Regret:  4.8443%\n",
      "tensor([-0.3838, -0.0895, -0.1570, -0.3423, -0.1260,  0.9225],\n",
      "       grad_fn=<SelectBackward0>)\n",
      "Epoch 98,  Train_Regret: 4.197503566741943, Val_Regret:  8.5592%, Regret:  4.7661%\n",
      "tensor([-0.3834, -0.0889, -0.1568, -0.3420, -0.1257,  0.9254],\n",
      "       grad_fn=<SelectBackward0>)\n",
      "Epoch 99,  Train_Regret: 4.190544605255127, Val_Regret:  8.3649%, Regret:  4.7224%\n",
      "tensor([-0.3828, -0.0885, -0.1566, -0.3408, -0.1249,  0.9281],\n",
      "       grad_fn=<SelectBackward0>)\n",
      "Epoch 100,  Train_Regret: 4.183767318725586, Val_Regret:  8.3663%, Regret:  4.6387%\n"
     ]
    }
   ],
   "source": [
    "# train mode\n",
    "old_model.train()\n",
    "# init log\n",
    "loss_log = [['trial', 'n', 'epoch', 'loss_name', 'regret', 'val_regret']]\n",
    "loss_name = 'SPO+'\n",
    "for epoch in range(100):\n",
    "    \n",
    "    batch_loss = []\n",
    "    for i, data in enumerate(loader_train):\n",
    "        x, c, w, z = data\n",
    "        w = w.reshape(w.shape[0], -1)\n",
    "        z = z.reshape(z.shape[0], -1)\n",
    "        \n",
    "        cp = old_model(x)\n",
    "        loss = old_loss_fn(cp, c, w, z)\n",
    "        \n",
    "\n",
    "        # backward pass\n",
    "        optimizer.zero_grad()\n",
    "        loss.backward()\n",
    "        optimizer.step()\n",
    "        batch_loss.append(loss.item())\n",
    "\n",
    "    print(old_model.linear.weight[0])\n",
    "    train_regret = sum(batch_loss)\n",
    "    regret = regret_func(old_model, torch.FloatTensor(x_test[:,:-1]), torch.FloatTensor(c_test))\n",
    "    val_regret = regret_func(old_model, torch.FloatTensor(x_val[:,:-1]), torch.FloatTensor(c_val))\n",
    "\n",
    "    loss_log.append([trial, num_data, epoch, loss_name, regret, val_regret])\n",
    "\n",
    "    print(\n",
    "        \"Epoch {:2},  Train_Regret: {}, Val_Regret: {:7.4f}%, Regret: {:7.4f}%\".format(epoch + 1, train_regret,\n",
    "                                                                                           val_regret * 100,\n",
    "                                                                                           regret * 100))\n"
   ]
  },
  {
   "cell_type": "code",
   "execution_count": 385,
   "id": "789d2762-ef46-48cb-9cea-705719d97329",
   "metadata": {},
   "outputs": [
    {
     "data": {
      "text/plain": [
       "0.04638737440244818"
      ]
     },
     "execution_count": 385,
     "metadata": {},
     "output_type": "execute_result"
    }
   ],
   "source": [
    "regret"
   ]
  },
  {
   "cell_type": "markdown",
   "id": "66295379-a6ae-4487-b147-df0531186021",
   "metadata": {},
   "source": [
    "### Verify the Regret Calc"
   ]
  },
  {
   "cell_type": "markdown",
   "id": "bab0e0e6-52b4-4d45-84c4-4b830f6be6de",
   "metadata": {},
   "source": [
    "Old Regret"
   ]
  },
  {
   "cell_type": "code",
   "execution_count": 435,
   "id": "5d367206-35c2-4224-9d14-858556b1d5b2",
   "metadata": {},
   "outputs": [
    {
     "data": {
      "text/plain": [
       "(0.08560629393454147, 0.08560629393454147)"
      ]
     },
     "execution_count": 435,
     "metadata": {},
     "output_type": "execute_result"
    }
   ],
   "source": [
    "old_reg_func_old_mod = regret_func(old_model, torch.FloatTensor(x_test[:,:-1]), torch.FloatTensor(c_hat_test))\n",
    "old_reg_func_new_mod = regret_func(new_model, torch.FloatTensor(x_test[:,:-1]), torch.FloatTensor(c_hat_test))\n",
    "\n",
    "old_reg_func_old_mod, old_reg_func_new_mod"
   ]
  },
  {
   "cell_type": "code",
   "execution_count": 427,
   "id": "2f7ae604-9d5a-4734-81cb-2410615c8f76",
   "metadata": {},
   "outputs": [
    {
     "data": {
      "text/plain": [
       "(tensor([[1.3985, 1.7580, 3.2470,  ..., 3.2330, 1.5450, 1.7464],\n",
       "         [2.3881, 1.4507, 2.2957,  ..., 2.9421, 2.2133, 1.5494],\n",
       "         [1.8591, 1.8944, 4.6037,  ..., 2.9546, 2.8156, 2.2623],\n",
       "         ...,\n",
       "         [2.0214, 2.2908, 1.9479,  ..., 2.8776, 1.7721, 1.4501],\n",
       "         [1.7199, 1.8696, 3.1003,  ..., 3.4000, 1.7542, 2.1117],\n",
       "         [2.5083, 2.4716, 2.1675,  ..., 4.1673, 1.6614, 1.6436]]),\n",
       " array([[1.39848442, 1.75802185, 3.24695078, ..., 3.23298268, 1.54500231,\n",
       "         1.7464299 ],\n",
       "        [2.38808872, 1.45070565, 2.29568997, ..., 2.94207769, 2.21333371,\n",
       "         1.54944921],\n",
       "        [1.85908374, 1.89436551, 4.60370222, ..., 2.95460682, 2.81563494,\n",
       "         2.26229281],\n",
       "        ...,\n",
       "        [2.02139322, 2.2907848 , 1.94794872, ..., 2.87761556, 1.77207911,\n",
       "         1.4501351 ],\n",
       "        [1.7198845 , 1.8695826 , 3.10034075, ..., 3.39997981, 1.75416737,\n",
       "         2.11173819],\n",
       "        [2.50827179, 2.47164675, 2.16751198, ..., 4.16734951, 1.66135962,\n",
       "         1.64358464]]))"
      ]
     },
     "execution_count": 427,
     "metadata": {},
     "output_type": "execute_result"
    }
   ],
   "source": [
    "c_hat_test, final_data_test['true_cost']"
   ]
  },
  {
   "cell_type": "code",
   "execution_count": 429,
   "id": "5f67b8cf-07d4-4eac-81d0-8a56831252e5",
   "metadata": {},
   "outputs": [
    {
     "data": {
      "text/plain": [
       "0.08560629393454147"
      ]
     },
     "execution_count": 429,
     "metadata": {},
     "output_type": "execute_result"
    }
   ],
   "source": [
    "x = torch.FloatTensor(x_test[:,:-1])\n",
    "c = torch.FloatTensor(c_hat_test)\n",
    "# evaluate\n",
    "new_model.eval()\n",
    "with torch.no_grad():  # no grad\n",
    "    cp = new_model(x) #.to(\"cpu\").detach().numpy()\n",
    "\n",
    "sol_cp, obj_cp = shortest_path_solver(cp, 5)\n",
    "sol_c, obj_c = shortest_path_solver(c, 5)\n",
    "out_obj_cp = torch.sum(sol_cp * c)\n",
    "out_obj_c = torch.sum(sol_c * c)\n",
    "\n",
    "torch.sum(out_obj_cp - out_obj_c).item()/(torch.sum(abs(out_obj_c)).item() + 1e-7)\n"
   ]
  },
  {
   "cell_type": "markdown",
   "id": "1514f05e-03ae-4c44-be43-34726fea7338",
   "metadata": {},
   "source": [
    "New Regret"
   ]
  },
  {
   "cell_type": "code",
   "execution_count": 404,
   "id": "6039c732-c286-4049-a77c-871177522916",
   "metadata": {},
   "outputs": [
    {
     "data": {
      "text/plain": [
       "False"
      ]
     },
     "execution_count": 404,
     "metadata": {},
     "output_type": "execute_result"
    }
   ],
   "source": [
    "old_cp = old_model(torch.tensor(final_data_test['X'], dtype=torch.float32))\n",
    "new_cp = new_model(torch.tensor(final_data_test['X'], dtype=torch.float32))\n",
    "(new_cp - old_cp).abs().mean()"
   ]
  },
  {
   "cell_type": "code",
   "execution_count": 436,
   "id": "47076243-6b97-4e86-9fee-a1415ec7ec84",
   "metadata": {},
   "outputs": [],
   "source": [
    "new_reg_func_old_mod = decision_regret(pred_cost=old_cp,\n",
    "                true_cost=final_data_test['true_cost'],\n",
    "                true_obj=final_data_test['true_obj'],\n",
    "                optmodel=optmodel,\n",
    "                minimize=True)\n",
    "\n",
    "new_reg_func_new_mod = decision_regret(pred_cost=new_cp,\n",
    "                true_cost=final_data_test['true_cost'],\n",
    "                true_obj=final_data_test['true_obj'],\n",
    "                optmodel=optmodel,\n",
    "                minimize=True)"
   ]
  },
  {
   "cell_type": "code",
   "execution_count": 437,
   "id": "bdfecadf-0698-4252-a56a-2c40e79408f1",
   "metadata": {},
   "outputs": [
    {
     "data": {
      "text/plain": [
       "(0.04638751375241514, 0.04638751375241514)"
      ]
     },
     "execution_count": 437,
     "metadata": {},
     "output_type": "execute_result"
    }
   ],
   "source": [
    "new_reg_func_old_mod, new_reg_func_new_mod"
   ]
  },
  {
   "cell_type": "code",
   "execution_count": 430,
   "id": "8b2d2483-79d9-481b-8a71-6c897001d891",
   "metadata": {},
   "outputs": [
    {
     "data": {
      "text/plain": [
       "dict_keys(['X', 'true_cost', 'true_sol', 'true_obj'])"
      ]
     },
     "execution_count": 430,
     "metadata": {},
     "output_type": "execute_result"
    }
   ],
   "source": [
    "final_data_test.keys()"
   ]
  },
  {
   "cell_type": "code",
   "execution_count": 410,
   "id": "05c209b2-c8d0-435f-9d93-69b213dbf623",
   "metadata": {},
   "outputs": [
    {
     "name": "stderr",
     "output_type": "stream",
     "text": [
      "/tmp/SLURM_27423203/ipykernel_37376/2143074558.py:4: UserWarning: To copy construct from a tensor, it is recommended to use sourceTensor.clone().detach() or sourceTensor.clone().detach().requires_grad_(True), rather than torch.tensor(sourceTensor).\n",
      "  w_hat = torch.tensor(w_hat, dtype=torch.float32)\n",
      "/tmp/SLURM_27423203/ipykernel_37376/2143074558.py:5: UserWarning: To copy construct from a tensor, it is recommended to use sourceTensor.clone().detach() or sourceTensor.clone().detach().requires_grad_(True), rather than torch.tensor(sourceTensor).\n",
      "  z_hat = torch.tensor(z_hat, dtype=torch.float32)\n",
      "/tmp/SLURM_27423203/ipykernel_37376/2143074558.py:7: UserWarning: To copy construct from a tensor, it is recommended to use sourceTensor.clone().detach() or sourceTensor.clone().detach().requires_grad_(True), rather than torch.tensor(sourceTensor).\n",
      "  true_obj = torch.tensor(final_data_test['true_obj'], dtype=torch.float32)\n"
     ]
    },
    {
     "data": {
      "text/plain": [
       "0.08560642662104108"
      ]
     },
     "execution_count": 410,
     "metadata": {},
     "output_type": "execute_result"
    }
   ],
   "source": [
    "w_hat, z_hat = optmodel(new_cp)\n",
    "    \n",
    "# To ensure consistency, convert everything into a pytorch tensor\n",
    "w_hat = torch.tensor(w_hat, dtype=torch.float32)\n",
    "z_hat = torch.tensor(z_hat, dtype=torch.float32)\n",
    "true_cost = torch.tensor(final_data_test['true_cost'], dtype=torch.float32)\n",
    "true_obj = torch.tensor(final_data_test['true_obj'], dtype=torch.float32)\n",
    "\n",
    "# objective value of pred_cost induced solution (w_hat) based on true cost\n",
    "obj_hat = (w_hat * true_cost).sum(axis=1, keepdim=True)\n",
    "    \n",
    "regret = (obj_hat - true_obj).sum()\n",
    "minimize=True\n",
    "if not minimize:\n",
    "    regret = -regret\n",
    "\n",
    "opt_obj_sum = torch.sum(torch.abs(true_obj)).item() + 1e-7\n",
    "regret.item() / opt_obj_sum"
   ]
  },
  {
   "cell_type": "code",
   "execution_count": null,
   "id": "f8aa2dd0-73a7-437d-b39f-9c6cebfe8346",
   "metadata": {},
   "outputs": [],
   "source": []
  },
  {
   "cell_type": "markdown",
   "id": "3799059b-f44f-44d0-b926-6daf5be9fbdb",
   "metadata": {},
   "source": [
    "Given same prediction - same optimal solution?"
   ]
  },
  {
   "cell_type": "code",
   "execution_count": 415,
   "id": "9899ac5c-1f59-4695-b6e9-f863a96d71f9",
   "metadata": {},
   "outputs": [
    {
     "data": {
      "text/plain": [
       "tensor(True)"
      ]
     },
     "execution_count": 415,
     "metadata": {},
     "output_type": "execute_result"
    }
   ],
   "source": [
    "(sol_cp == w_hat).all()"
   ]
  },
  {
   "cell_type": "code",
   "execution_count": 422,
   "id": "eeb46ab1-1b0e-4429-9a6a-b5555c7f0bba",
   "metadata": {},
   "outputs": [
    {
     "data": {
      "text/plain": [
       "tensor(9.5367e-07)"
      ]
     },
     "execution_count": 422,
     "metadata": {},
     "output_type": "execute_result"
    }
   ],
   "source": [
    "(obj_cp - z_hat).abs().max()"
   ]
  },
  {
   "cell_type": "code",
   "execution_count": 424,
   "id": "85d97f25-2c19-4f66-9dc8-e65229cdaab0",
   "metadata": {},
   "outputs": [
    {
     "data": {
      "text/plain": [
       "(tensor([[14.0896],\n",
       "         [14.6872],\n",
       "         [16.2804],\n",
       "         ...,\n",
       "         [15.2295],\n",
       "         [15.1068],\n",
       "         [15.2983]]),\n",
       " tensor([[15.9502],\n",
       "         [16.0000],\n",
       "         [16.0000],\n",
       "         ...,\n",
       "         [16.0000],\n",
       "         [16.0000],\n",
       "         [16.0000]]))"
      ]
     },
     "execution_count": 424,
     "metadata": {},
     "output_type": "execute_result"
    }
   ],
   "source": [
    "true_obj, obj_c"
   ]
  },
  {
   "cell_type": "code",
   "execution_count": null,
   "id": "cf513b6e-6eed-495d-9bc6-c80e5319e80e",
   "metadata": {},
   "outputs": [],
   "source": []
  },
  {
   "cell_type": "code",
   "execution_count": null,
   "id": "c8b5c438-7177-46ab-b808-4a095aa826cb",
   "metadata": {},
   "outputs": [],
   "source": []
  },
  {
   "cell_type": "markdown",
   "id": "9ac8ee5b-e3c6-434c-864b-b8e3ee40460e",
   "metadata": {},
   "source": [
    "# Initialize Data"
   ]
  },
  {
   "cell_type": "markdown",
   "id": "c5f18f9d-5b81-4fac-a215-1b0ec5082514",
   "metadata": {},
   "source": [
    "# Training Loop"
   ]
  },
  {
   "cell_type": "code",
   "execution_count": 202,
   "id": "6892db52-2046-4d2f-813c-035a2b20df78",
   "metadata": {},
   "outputs": [
    {
     "data": {
      "text/plain": [
       "<All keys matched successfully>"
      ]
     },
     "execution_count": 202,
     "metadata": {},
     "output_type": "execute_result"
    }
   ],
   "source": [
    "# Prediction Model\n",
    "pred_model = LinearRegression(input_dim=train_dict['X'].shape[1],\n",
    "                 output_dim=train_dict['true_cost'].shape[1])\n",
    "initial_weights = copy.deepcopy(pred_model.state_dict())\n",
    "\n",
    "model = LinearRegression(input_dim=train_dict_old['X'].shape[1],\n",
    "                 output_dim=train_dict_old['true_cost'].shape[1])\n",
    "model.load_state_dict(copy.deepcopy(initial_weights))\n",
    "\n",
    "model_2 = LinearRegression(input_dim=train_dict_old['X'].shape[1],\n",
    "                 output_dim=train_dict_old['true_cost'].shape[1])\n",
    "model_2.load_state_dict(copy.deepcopy(initial_weights))\n"
   ]
  },
  {
   "cell_type": "code",
   "execution_count": 203,
   "id": "289bedea-9801-4c1e-a394-9b4ea04eedcc",
   "metadata": {},
   "outputs": [
    {
     "data": {
      "text/plain": [
       "tensor([ 0.0941, -0.3390, -0.3272,  0.0868,  0.0219, -0.2847],\n",
       "       grad_fn=<SelectBackward0>)"
      ]
     },
     "execution_count": 203,
     "metadata": {},
     "output_type": "execute_result"
    }
   ],
   "source": [
    "pred_model.linear.weight[0]"
   ]
  },
  {
   "cell_type": "markdown",
   "id": "3d5b0713-2ada-4098-b1a8-8b3823e4d8b8",
   "metadata": {},
   "source": [
    "### New Data"
   ]
  },
  {
   "cell_type": "code",
   "execution_count": 175,
   "id": "0997d609-bc89-4ed4-8a89-ab24b006cdfe",
   "metadata": {
    "scrolled": true
   },
   "outputs": [
    {
     "name": "stderr",
     "output_type": "stream",
     "text": [
      "2024-11-13 13:15:41,508 - decision_learning.data.shortest_path_grid - DEBUG - good_bad_edges: [ 1  4  9 16 24 31 36 39  0  3  8 15 23 30 35 38], remain_edges: [ 2  5  6  7 10 11 12 13 14 17 18 19 20 21 22 25 26 27 28 29 32 33 34 37]\n",
      "2024-11-13 13:15:41,508 - decision_learning.data.shortest_path_grid - DEBUG - good_bad_edges: [ 1  4  9 16 24 31 36 39  0  3  8 15 23 30 35 38], remain_edges: [ 2  5  6  7 10 11 12 13 14 17 18 19 20 21 22 25 26 27 28 29 32 33 34 37]\n",
      "2024-11-13 13:15:41,513 - decision_learning.data.shortest_path_grid - DEBUG - chg_pt: 0.0\n",
      "2024-11-13 13:15:41,513 - decision_learning.data.shortest_path_grid - DEBUG - chg_pt: 0.0\n",
      "2024-11-13 13:15:41,513 - decision_learning.data.shortest_path_grid - DEBUG - chg_pt: 0.55\n",
      "2024-11-13 13:15:41,513 - decision_learning.data.shortest_path_grid - DEBUG - chg_pt: 0.55\n",
      "2024-11-13 13:15:41,538 - decision_learning.data.shortest_path_grid - DEBUG - good_bad_edges: [ 1  4  9 16 24 31 36 39  0  3  8 15 23 30 35 38], remain_edges: [ 2  5  6  7 10 11 12 13 14 17 18 19 20 21 22 25 26 27 28 29 32 33 34 37]\n",
      "2024-11-13 13:15:41,538 - decision_learning.data.shortest_path_grid - DEBUG - good_bad_edges: [ 1  4  9 16 24 31 36 39  0  3  8 15 23 30 35 38], remain_edges: [ 2  5  6  7 10 11 12 13 14 17 18 19 20 21 22 25 26 27 28 29 32 33 34 37]\n",
      "2024-11-13 13:15:41,539 - decision_learning.data.shortest_path_grid - DEBUG - chg_pt: 0.0\n",
      "2024-11-13 13:15:41,539 - decision_learning.data.shortest_path_grid - DEBUG - chg_pt: 0.0\n",
      "2024-11-13 13:15:41,539 - decision_learning.data.shortest_path_grid - DEBUG - chg_pt: 0.55\n",
      "2024-11-13 13:15:41,539 - decision_learning.data.shortest_path_grid - DEBUG - chg_pt: 0.55\n"
     ]
    }
   ],
   "source": [
    "generated_data = genData(num_data=num_data+200,\n",
    "        num_features=num_feat, \n",
    "        grid=grid, \n",
    "        deg=deg, \n",
    "        noise_type=ep_type,\n",
    "        noise_width=e,\n",
    "        seed=indices_arr[trial],     \n",
    "        plant_edges=plant_edge,\n",
    "        planted_good_pwl_params=planted_good_pwl_params,\n",
    "        planted_bad_pwl_params=planted_bad_pwl_params)\n",
    "sol, obj = shortest_path_solver(costs=generated_data['cost'], size=5)\n",
    "final_data = {'X':generated_data['feat'],\n",
    "              'true_cost':generated_data['cost'],\n",
    "              'true_sol':sol,\n",
    "              'true_obj':obj}\n",
    "\n",
    "# Splitting each input in the same way\n",
    "train_dict = {}\n",
    "val_dict = {}\n",
    "\n",
    "for key, value in final_data.items():\n",
    "    train_data, val_data = train_test_split(value, test_size=200, random_state=42)\n",
    "    train_dict[key] = train_data\n",
    "    val_dict[key] = val_data\n",
    "    \n",
    "# test data\n",
    "generated_data_test = genData(num_data=10000,\n",
    "        num_features=num_feat, \n",
    "        grid=grid, \n",
    "        deg=deg, \n",
    "        noise_type=ep_type,\n",
    "        noise_width=e,\n",
    "        seed=indices_arr_test[trial],     \n",
    "        plant_edges=plant_edge,\n",
    "        planted_good_pwl_params=planted_good_pwl_params,\n",
    "        planted_bad_pwl_params=planted_bad_pwl_params)\n",
    "sol_test, obj_test = shortest_path_solver(costs=generated_data_test['cost'], size=5)\n",
    "final_data_test = {'X':generated_data_test['feat'],\n",
    "              'true_cost':generated_data_test['cost'],\n",
    "              'true_sol':sol_test,\n",
    "              'true_obj':obj_test}"
   ]
  },
  {
   "cell_type": "code",
   "execution_count": 204,
   "id": "250e4987-6fc4-4791-8bdf-644cf87c2284",
   "metadata": {
    "scrolled": true
   },
   "outputs": [
    {
     "name": "stdout",
     "output_type": "stream",
     "text": [
      "tensor([ 0.0941, -0.3390, -0.3272,  0.0868,  0.0219, -0.2847],\n",
      "       grad_fn=<SelectBackward0>)\n"
     ]
    },
    {
     "name": "stderr",
     "output_type": "stream",
     "text": [
      "100%|██████████| 1/1 [00:00<00:00, 254.08it/s]\n",
      "100%|██████████| 1/1 [00:00<00:00, 676.17it/s]\n",
      "2024-11-13 13:23:31,393 - decision_learning.modeling.train - INFO - epoch: 0, train_loss: 14.1853666305542, val_metric: 0.2569626234293161\n",
      "2024-11-13 13:23:31,393 - decision_learning.modeling.train - INFO - epoch: 0, train_loss: 14.1853666305542, val_metric: 0.2569626234293161\n",
      "100%|██████████| 1/1 [00:00<00:00, 321.60it/s]\n",
      "100%|██████████| 1/1 [00:00<00:00, 688.38it/s]\n",
      "2024-11-13 13:23:31,401 - decision_learning.modeling.train - INFO - epoch: 1, train_loss: 13.587915420532227, val_metric: 0.2531696263922039\n",
      "2024-11-13 13:23:31,401 - decision_learning.modeling.train - INFO - epoch: 1, train_loss: 13.587915420532227, val_metric: 0.2531696263922039\n",
      "100%|██████████| 1/1 [00:00<00:00, 258.14it/s]\n",
      "100%|██████████| 1/1 [00:00<00:00, 705.87it/s]\n",
      "2024-11-13 13:23:31,410 - decision_learning.modeling.train - INFO - epoch: 2, train_loss: 13.024239540100098, val_metric: 0.2137474692494163\n",
      "2024-11-13 13:23:31,410 - decision_learning.modeling.train - INFO - epoch: 2, train_loss: 13.024239540100098, val_metric: 0.2137474692494163\n",
      "100%|██████████| 1/1 [00:00<00:00, 331.20it/s]\n",
      "100%|██████████| 1/1 [00:00<00:00, 693.16it/s]\n",
      "2024-11-13 13:23:31,418 - decision_learning.modeling.train - INFO - epoch: 3, train_loss: 12.49131965637207, val_metric: 0.21044415377925155\n",
      "2024-11-13 13:23:31,418 - decision_learning.modeling.train - INFO - epoch: 3, train_loss: 12.49131965637207, val_metric: 0.21044415377925155\n",
      "100%|██████████| 1/1 [00:00<00:00, 244.08it/s]\n",
      "100%|██████████| 1/1 [00:00<00:00, 700.10it/s]\n",
      "2024-11-13 13:23:31,427 - decision_learning.modeling.train - INFO - epoch: 4, train_loss: 12.020827293395996, val_metric: 0.2116317025171052\n",
      "2024-11-13 13:23:31,427 - decision_learning.modeling.train - INFO - epoch: 4, train_loss: 12.020827293395996, val_metric: 0.2116317025171052\n",
      "100%|██████████| 1/1 [00:00<00:00, 330.29it/s]\n",
      "100%|██████████| 1/1 [00:00<00:00, 698.70it/s]\n",
      "2024-11-13 13:23:31,435 - decision_learning.modeling.train - INFO - epoch: 5, train_loss: 11.503888130187988, val_metric: 0.20235282526002538\n",
      "2024-11-13 13:23:31,435 - decision_learning.modeling.train - INFO - epoch: 5, train_loss: 11.503888130187988, val_metric: 0.20235282526002538\n",
      "100%|██████████| 1/1 [00:00<00:00, 330.89it/s]\n",
      "100%|██████████| 1/1 [00:00<00:00, 700.45it/s]\n",
      "2024-11-13 13:23:31,442 - decision_learning.modeling.train - INFO - epoch: 6, train_loss: 11.042377471923828, val_metric: 0.20490589572662665\n",
      "2024-11-13 13:23:31,442 - decision_learning.modeling.train - INFO - epoch: 6, train_loss: 11.042377471923828, val_metric: 0.20490589572662665\n",
      "100%|██████████| 1/1 [00:00<00:00, 328.78it/s]\n",
      "100%|██████████| 1/1 [00:00<00:00, 689.29it/s]\n",
      "2024-11-13 13:23:31,450 - decision_learning.modeling.train - INFO - epoch: 7, train_loss: 10.602084159851074, val_metric: 0.18809580946851256\n",
      "2024-11-13 13:23:31,450 - decision_learning.modeling.train - INFO - epoch: 7, train_loss: 10.602084159851074, val_metric: 0.18809580946851256\n",
      "100%|██████████| 1/1 [00:00<00:00, 332.14it/s]\n",
      "100%|██████████| 1/1 [00:00<00:00, 691.10it/s]\n",
      "2024-11-13 13:23:31,458 - decision_learning.modeling.train - INFO - epoch: 8, train_loss: 10.189528465270996, val_metric: 0.20731257805879424\n",
      "2024-11-13 13:23:31,458 - decision_learning.modeling.train - INFO - epoch: 8, train_loss: 10.189528465270996, val_metric: 0.20731257805879424\n",
      "100%|██████████| 1/1 [00:00<00:00, 330.70it/s]\n",
      "100%|██████████| 1/1 [00:00<00:00, 692.13it/s]\n",
      "2024-11-13 13:23:31,466 - decision_learning.modeling.train - INFO - epoch: 9, train_loss: 9.80246639251709, val_metric: 0.22107329527918954\n",
      "2024-11-13 13:23:31,466 - decision_learning.modeling.train - INFO - epoch: 9, train_loss: 9.80246639251709, val_metric: 0.22107329527918954\n",
      "100%|██████████| 1/1 [00:00<00:00, 141.93it/s]\n",
      "100%|██████████| 1/1 [00:00<00:00, 409.00it/s]\n",
      "2024-11-13 13:23:31,480 - decision_learning.modeling.train - INFO - epoch: 10, train_loss: 9.438834190368652, val_metric: 0.1953667341332825\n",
      "2024-11-13 13:23:31,480 - decision_learning.modeling.train - INFO - epoch: 10, train_loss: 9.438834190368652, val_metric: 0.1953667341332825\n",
      "100%|██████████| 1/1 [00:00<00:00, 320.54it/s]\n",
      "100%|██████████| 1/1 [00:00<00:00, 670.02it/s]\n",
      "2024-11-13 13:23:31,488 - decision_learning.modeling.train - INFO - epoch: 11, train_loss: 9.091231346130371, val_metric: 0.20301313017527373\n",
      "2024-11-13 13:23:31,488 - decision_learning.modeling.train - INFO - epoch: 11, train_loss: 9.091231346130371, val_metric: 0.20301313017527373\n",
      "100%|██████████| 1/1 [00:00<00:00, 322.76it/s]\n",
      "100%|██████████| 1/1 [00:00<00:00, 674.87it/s]\n",
      "2024-11-13 13:23:31,496 - decision_learning.modeling.train - INFO - epoch: 12, train_loss: 8.758079528808594, val_metric: 0.20319917381800254\n",
      "2024-11-13 13:23:31,496 - decision_learning.modeling.train - INFO - epoch: 12, train_loss: 8.758079528808594, val_metric: 0.20319917381800254\n",
      "100%|██████████| 1/1 [00:00<00:00, 326.81it/s]\n",
      "100%|██████████| 1/1 [00:00<00:00, 700.80it/s]\n",
      "2024-11-13 13:23:31,504 - decision_learning.modeling.train - INFO - epoch: 13, train_loss: 8.437548637390137, val_metric: 0.22463784867848668\n",
      "2024-11-13 13:23:31,504 - decision_learning.modeling.train - INFO - epoch: 13, train_loss: 8.437548637390137, val_metric: 0.22463784867848668\n",
      "100%|██████████| 1/1 [00:00<00:00, 329.71it/s]\n",
      "100%|██████████| 1/1 [00:00<00:00, 687.25it/s]\n",
      "2024-11-13 13:23:31,512 - decision_learning.modeling.train - INFO - epoch: 14, train_loss: 8.128817558288574, val_metric: 0.24064267227622085\n",
      "2024-11-13 13:23:31,512 - decision_learning.modeling.train - INFO - epoch: 14, train_loss: 8.128817558288574, val_metric: 0.24064267227622085\n",
      "100%|██████████| 1/1 [00:00<00:00, 328.66it/s]\n",
      "100%|██████████| 1/1 [00:00<00:00, 686.92it/s]\n",
      "2024-11-13 13:23:31,519 - decision_learning.modeling.train - INFO - epoch: 15, train_loss: 7.839290142059326, val_metric: 0.21561081297203413\n",
      "2024-11-13 13:23:31,519 - decision_learning.modeling.train - INFO - epoch: 15, train_loss: 7.839290142059326, val_metric: 0.21561081297203413\n",
      "100%|██████████| 1/1 [00:00<00:00, 328.48it/s]\n",
      "100%|██████████| 1/1 [00:00<00:00, 687.70it/s]\n",
      "2024-11-13 13:23:31,527 - decision_learning.modeling.train - INFO - epoch: 16, train_loss: 7.577360153198242, val_metric: 0.21969142292150848\n",
      "2024-11-13 13:23:31,527 - decision_learning.modeling.train - INFO - epoch: 16, train_loss: 7.577360153198242, val_metric: 0.21969142292150848\n",
      "100%|██████████| 1/1 [00:00<00:00, 330.65it/s]\n",
      "100%|██████████| 1/1 [00:00<00:00, 688.61it/s]\n",
      "2024-11-13 13:23:31,535 - decision_learning.modeling.train - INFO - epoch: 17, train_loss: 7.3295440673828125, val_metric: 0.22614829326482194\n",
      "2024-11-13 13:23:31,535 - decision_learning.modeling.train - INFO - epoch: 17, train_loss: 7.3295440673828125, val_metric: 0.22614829326482194\n",
      "100%|██████████| 1/1 [00:00<00:00, 328.09it/s]\n",
      "100%|██████████| 1/1 [00:00<00:00, 699.40it/s]\n",
      "2024-11-13 13:23:31,543 - decision_learning.modeling.train - INFO - epoch: 18, train_loss: 7.095441818237305, val_metric: 0.21922023175285696\n",
      "2024-11-13 13:23:31,543 - decision_learning.modeling.train - INFO - epoch: 18, train_loss: 7.095441818237305, val_metric: 0.21922023175285696\n",
      "100%|██████████| 1/1 [00:00<00:00, 329.46it/s]\n",
      "100%|██████████| 1/1 [00:00<00:00, 707.78it/s]\n",
      "2024-11-13 13:23:31,551 - decision_learning.modeling.train - INFO - epoch: 19, train_loss: 6.869240760803223, val_metric: 0.23314903716002575\n",
      "2024-11-13 13:23:31,551 - decision_learning.modeling.train - INFO - epoch: 19, train_loss: 6.869240760803223, val_metric: 0.23314903716002575\n",
      "100%|██████████| 1/1 [00:00<00:00, 327.96it/s]\n",
      "100%|██████████| 1/1 [00:00<00:00, 685.34it/s]\n",
      "2024-11-13 13:23:31,559 - decision_learning.modeling.train - INFO - epoch: 20, train_loss: 6.652820587158203, val_metric: 0.2380509929276431\n",
      "2024-11-13 13:23:31,559 - decision_learning.modeling.train - INFO - epoch: 20, train_loss: 6.652820587158203, val_metric: 0.2380509929276431\n",
      "100%|██████████| 1/1 [00:00<00:00, 330.26it/s]\n",
      "100%|██████████| 1/1 [00:00<00:00, 693.50it/s]\n",
      "2024-11-13 13:23:31,567 - decision_learning.modeling.train - INFO - epoch: 21, train_loss: 6.44378662109375, val_metric: 0.22968391326099935\n",
      "2024-11-13 13:23:31,567 - decision_learning.modeling.train - INFO - epoch: 21, train_loss: 6.44378662109375, val_metric: 0.22968391326099935\n",
      "100%|██████████| 1/1 [00:00<00:00, 329.79it/s]\n",
      "100%|██████████| 1/1 [00:00<00:00, 683.89it/s]\n",
      "2024-11-13 13:23:31,575 - decision_learning.modeling.train - INFO - epoch: 22, train_loss: 6.253736972808838, val_metric: 0.22186368421666344\n",
      "2024-11-13 13:23:31,575 - decision_learning.modeling.train - INFO - epoch: 22, train_loss: 6.253736972808838, val_metric: 0.22186368421666344\n",
      "100%|██████████| 1/1 [00:00<00:00, 329.61it/s]\n",
      "100%|██████████| 1/1 [00:00<00:00, 699.87it/s]\n",
      "2024-11-13 13:23:31,583 - decision_learning.modeling.train - INFO - epoch: 23, train_loss: 6.082773208618164, val_metric: 0.23603849332543778\n",
      "2024-11-13 13:23:31,583 - decision_learning.modeling.train - INFO - epoch: 23, train_loss: 6.082773208618164, val_metric: 0.23603849332543778\n",
      "100%|██████████| 1/1 [00:00<00:00, 327.30it/s]\n",
      "100%|██████████| 1/1 [00:00<00:00, 683.56it/s]\n",
      "2024-11-13 13:23:31,591 - decision_learning.modeling.train - INFO - epoch: 24, train_loss: 6.054944038391113, val_metric: 0.24190097295321455\n",
      "2024-11-13 13:23:31,591 - decision_learning.modeling.train - INFO - epoch: 24, train_loss: 6.054944038391113, val_metric: 0.24190097295321455\n",
      "100%|██████████| 1/1 [00:00<00:00, 322.12it/s]\n",
      "100%|██████████| 1/1 [00:00<00:00, 670.23it/s]\n",
      "2024-11-13 13:23:31,599 - decision_learning.modeling.train - INFO - epoch: 25, train_loss: 5.806746006011963, val_metric: 0.22917525287014057\n",
      "2024-11-13 13:23:31,599 - decision_learning.modeling.train - INFO - epoch: 25, train_loss: 5.806746006011963, val_metric: 0.22917525287014057\n",
      "100%|██████████| 1/1 [00:00<00:00, 321.53it/s]\n",
      "100%|██████████| 1/1 [00:00<00:00, 698.47it/s]\n",
      "2024-11-13 13:23:31,607 - decision_learning.modeling.train - INFO - epoch: 26, train_loss: 5.702795028686523, val_metric: 0.2459789081909857\n",
      "2024-11-13 13:23:31,607 - decision_learning.modeling.train - INFO - epoch: 26, train_loss: 5.702795028686523, val_metric: 0.2459789081909857\n",
      "100%|██████████| 1/1 [00:00<00:00, 320.15it/s]\n",
      "100%|██████████| 1/1 [00:00<00:00, 677.16it/s]\n",
      "2024-11-13 13:23:31,616 - decision_learning.modeling.train - INFO - epoch: 27, train_loss: 5.617208957672119, val_metric: 0.2590725755709681\n",
      "2024-11-13 13:23:31,616 - decision_learning.modeling.train - INFO - epoch: 27, train_loss: 5.617208957672119, val_metric: 0.2590725755709681\n",
      "100%|██████████| 1/1 [00:00<00:00, 324.36it/s]\n",
      "100%|██████████| 1/1 [00:00<00:00, 687.37it/s]\n",
      "2024-11-13 13:23:31,624 - decision_learning.modeling.train - INFO - epoch: 28, train_loss: 5.541372299194336, val_metric: 0.23058410492847986\n",
      "2024-11-13 13:23:31,624 - decision_learning.modeling.train - INFO - epoch: 28, train_loss: 5.541372299194336, val_metric: 0.23058410492847986\n",
      "100%|██████████| 1/1 [00:00<00:00, 321.13it/s]\n",
      "100%|██████████| 1/1 [00:00<00:00, 690.88it/s]\n",
      "2024-11-13 13:23:31,632 - decision_learning.modeling.train - INFO - epoch: 29, train_loss: 5.475006103515625, val_metric: 0.22391058293720803\n",
      "2024-11-13 13:23:31,632 - decision_learning.modeling.train - INFO - epoch: 29, train_loss: 5.475006103515625, val_metric: 0.22391058293720803\n",
      "100%|██████████| 1/1 [00:00<00:00, 322.14it/s]\n",
      "100%|██████████| 1/1 [00:00<00:00, 697.77it/s]\n",
      "2024-11-13 13:23:31,641 - decision_learning.modeling.train - INFO - epoch: 30, train_loss: 5.416450023651123, val_metric: 0.23324569891514277\n",
      "2024-11-13 13:23:31,641 - decision_learning.modeling.train - INFO - epoch: 30, train_loss: 5.416450023651123, val_metric: 0.23324569891514277\n",
      "100%|██████████| 1/1 [00:00<00:00, 324.61it/s]\n",
      "100%|██████████| 1/1 [00:00<00:00, 672.38it/s]\n",
      "2024-11-13 13:23:31,649 - decision_learning.modeling.train - INFO - epoch: 31, train_loss: 5.357076644897461, val_metric: 0.23546794243160343\n",
      "2024-11-13 13:23:31,649 - decision_learning.modeling.train - INFO - epoch: 31, train_loss: 5.357076644897461, val_metric: 0.23546794243160343\n",
      "100%|██████████| 1/1 [00:00<00:00, 324.13it/s]\n",
      "100%|██████████| 1/1 [00:00<00:00, 675.52it/s]\n",
      "2024-11-13 13:23:31,657 - decision_learning.modeling.train - INFO - epoch: 32, train_loss: 5.311788558959961, val_metric: 0.24796559101066457\n",
      "2024-11-13 13:23:31,657 - decision_learning.modeling.train - INFO - epoch: 32, train_loss: 5.311788558959961, val_metric: 0.24796559101066457\n",
      "100%|██████████| 1/1 [00:00<00:00, 322.24it/s]\n",
      "100%|██████████| 1/1 [00:00<00:00, 670.45it/s]\n",
      "2024-11-13 13:23:31,665 - decision_learning.modeling.train - INFO - epoch: 33, train_loss: 5.241381645202637, val_metric: 0.22087076145735146\n",
      "2024-11-13 13:23:31,665 - decision_learning.modeling.train - INFO - epoch: 33, train_loss: 5.241381645202637, val_metric: 0.22087076145735146\n",
      "100%|██████████| 1/1 [00:00<00:00, 322.14it/s]\n",
      "100%|██████████| 1/1 [00:00<00:00, 684.45it/s]\n",
      "2024-11-13 13:23:31,673 - decision_learning.modeling.train - INFO - epoch: 34, train_loss: 5.184629917144775, val_metric: 0.24505959814941802\n",
      "2024-11-13 13:23:31,673 - decision_learning.modeling.train - INFO - epoch: 34, train_loss: 5.184629917144775, val_metric: 0.24505959814941802\n",
      "100%|██████████| 1/1 [00:00<00:00, 324.34it/s]\n",
      "100%|██████████| 1/1 [00:00<00:00, 679.24it/s]\n",
      "2024-11-13 13:23:31,681 - decision_learning.modeling.train - INFO - epoch: 35, train_loss: 5.128607273101807, val_metric: 0.23890124889054318\n",
      "2024-11-13 13:23:31,681 - decision_learning.modeling.train - INFO - epoch: 35, train_loss: 5.128607273101807, val_metric: 0.23890124889054318\n",
      "100%|██████████| 1/1 [00:00<00:00, 325.44it/s]\n",
      "100%|██████████| 1/1 [00:00<00:00, 676.50it/s]\n",
      "2024-11-13 13:23:31,689 - decision_learning.modeling.train - INFO - epoch: 36, train_loss: 5.074879169464111, val_metric: 0.21451857700426458\n",
      "2024-11-13 13:23:31,689 - decision_learning.modeling.train - INFO - epoch: 36, train_loss: 5.074879169464111, val_metric: 0.21451857700426458\n",
      "100%|██████████| 1/1 [00:00<00:00, 116.61it/s]\n",
      "100%|██████████| 1/1 [00:00<00:00, 677.48it/s]\n",
      "2024-11-13 13:23:31,705 - decision_learning.modeling.train - INFO - epoch: 37, train_loss: 5.023245334625244, val_metric: 0.215323200059672\n",
      "2024-11-13 13:23:31,705 - decision_learning.modeling.train - INFO - epoch: 37, train_loss: 5.023245334625244, val_metric: 0.215323200059672\n",
      "100%|██████████| 1/1 [00:00<00:00, 331.70it/s]\n",
      "100%|██████████| 1/1 [00:00<00:00, 534.31it/s]\n",
      "2024-11-13 13:23:31,717 - decision_learning.modeling.train - INFO - epoch: 38, train_loss: 4.975370407104492, val_metric: 0.20254426484288585\n",
      "2024-11-13 13:23:31,717 - decision_learning.modeling.train - INFO - epoch: 38, train_loss: 4.975370407104492, val_metric: 0.20254426484288585\n",
      "100%|██████████| 1/1 [00:00<00:00, 286.38it/s]\n",
      "100%|██████████| 1/1 [00:00<00:00, 532.95it/s]\n",
      "2024-11-13 13:23:31,728 - decision_learning.modeling.train - INFO - epoch: 39, train_loss: 4.929986000061035, val_metric: 0.23556085959033599\n",
      "2024-11-13 13:23:31,728 - decision_learning.modeling.train - INFO - epoch: 39, train_loss: 4.929986000061035, val_metric: 0.23556085959033599\n",
      "100%|██████████| 1/1 [00:00<00:00, 332.06it/s]\n",
      "100%|██████████| 1/1 [00:00<00:00, 534.85it/s]\n",
      "2024-11-13 13:23:31,739 - decision_learning.modeling.train - INFO - epoch: 40, train_loss: 4.889125347137451, val_metric: 0.20793155286363765\n",
      "2024-11-13 13:23:31,739 - decision_learning.modeling.train - INFO - epoch: 40, train_loss: 4.889125347137451, val_metric: 0.20793155286363765\n",
      "100%|██████████| 1/1 [00:00<00:00, 284.44it/s]\n",
      "100%|██████████| 1/1 [00:00<00:00, 540.50it/s]\n",
      "2024-11-13 13:23:31,750 - decision_learning.modeling.train - INFO - epoch: 41, train_loss: 4.853271007537842, val_metric: 0.23417047467193\n",
      "2024-11-13 13:23:31,750 - decision_learning.modeling.train - INFO - epoch: 41, train_loss: 4.853271007537842, val_metric: 0.23417047467193\n",
      "100%|██████████| 1/1 [00:00<00:00, 329.92it/s]\n",
      "100%|██████████| 1/1 [00:00<00:00, 689.74it/s]\n",
      "2024-11-13 13:23:31,760 - decision_learning.modeling.train - INFO - epoch: 42, train_loss: 4.818455696105957, val_metric: 0.2231707344217431\n",
      "2024-11-13 13:23:31,760 - decision_learning.modeling.train - INFO - epoch: 42, train_loss: 4.818455696105957, val_metric: 0.2231707344217431\n",
      "100%|██████████| 1/1 [00:00<00:00, 323.98it/s]\n",
      "100%|██████████| 1/1 [00:00<00:00, 681.56it/s]\n",
      "2024-11-13 13:23:31,768 - decision_learning.modeling.train - INFO - epoch: 43, train_loss: 4.787487983703613, val_metric: 0.24404248669296416\n",
      "2024-11-13 13:23:31,768 - decision_learning.modeling.train - INFO - epoch: 43, train_loss: 4.787487983703613, val_metric: 0.24404248669296416\n",
      "100%|██████████| 1/1 [00:00<00:00, 328.40it/s]\n",
      "100%|██████████| 1/1 [00:00<00:00, 686.47it/s]\n",
      "2024-11-13 13:23:31,777 - decision_learning.modeling.train - INFO - epoch: 44, train_loss: 4.759593486785889, val_metric: 0.2319456494772167\n",
      "2024-11-13 13:23:31,777 - decision_learning.modeling.train - INFO - epoch: 44, train_loss: 4.759593486785889, val_metric: 0.2319456494772167\n",
      "100%|██████████| 1/1 [00:00<00:00, 324.91it/s]\n",
      "100%|██████████| 1/1 [00:00<00:00, 685.68it/s]\n",
      "2024-11-13 13:23:31,785 - decision_learning.modeling.train - INFO - epoch: 45, train_loss: 4.735397815704346, val_metric: 0.234504092625587\n",
      "2024-11-13 13:23:31,785 - decision_learning.modeling.train - INFO - epoch: 45, train_loss: 4.735397815704346, val_metric: 0.234504092625587\n",
      "100%|██████████| 1/1 [00:00<00:00, 326.13it/s]\n",
      "100%|██████████| 1/1 [00:00<00:00, 703.62it/s]\n",
      "2024-11-13 13:23:31,793 - decision_learning.modeling.train - INFO - epoch: 46, train_loss: 4.714900016784668, val_metric: 0.2373315419962103\n",
      "2024-11-13 13:23:31,793 - decision_learning.modeling.train - INFO - epoch: 46, train_loss: 4.714900016784668, val_metric: 0.2373315419962103\n",
      "100%|██████████| 1/1 [00:00<00:00, 325.85it/s]\n",
      "100%|██████████| 1/1 [00:00<00:00, 688.61it/s]\n",
      "2024-11-13 13:23:31,801 - decision_learning.modeling.train - INFO - epoch: 47, train_loss: 4.696292400360107, val_metric: 0.2154404687240849\n",
      "2024-11-13 13:23:31,801 - decision_learning.modeling.train - INFO - epoch: 47, train_loss: 4.696292400360107, val_metric: 0.2154404687240849\n",
      "100%|██████████| 1/1 [00:00<00:00, 326.35it/s]\n",
      "100%|██████████| 1/1 [00:00<00:00, 696.38it/s]\n",
      "2024-11-13 13:23:31,809 - decision_learning.modeling.train - INFO - epoch: 48, train_loss: 4.679103851318359, val_metric: 0.23850669402677874\n",
      "2024-11-13 13:23:31,809 - decision_learning.modeling.train - INFO - epoch: 48, train_loss: 4.679103851318359, val_metric: 0.23850669402677874\n",
      "100%|██████████| 1/1 [00:00<00:00, 325.49it/s]\n",
      "100%|██████████| 1/1 [00:00<00:00, 693.62it/s]\n",
      "2024-11-13 13:23:31,817 - decision_learning.modeling.train - INFO - epoch: 49, train_loss: 4.661169528961182, val_metric: 0.22511885487617075\n",
      "2024-11-13 13:23:31,817 - decision_learning.modeling.train - INFO - epoch: 49, train_loss: 4.661169528961182, val_metric: 0.22511885487617075\n",
      "100%|██████████| 1/1 [00:00<00:00, 325.97it/s]\n",
      "100%|██████████| 1/1 [00:00<00:00, 694.08it/s]\n",
      "2024-11-13 13:23:31,826 - decision_learning.modeling.train - INFO - epoch: 50, train_loss: 4.642580509185791, val_metric: 0.209530402486354\n",
      "2024-11-13 13:23:31,826 - decision_learning.modeling.train - INFO - epoch: 50, train_loss: 4.642580509185791, val_metric: 0.209530402486354\n",
      "100%|██████████| 1/1 [00:00<00:00, 326.43it/s]\n",
      "100%|██████████| 1/1 [00:00<00:00, 672.70it/s]\n",
      "2024-11-13 13:23:31,834 - decision_learning.modeling.train - INFO - epoch: 51, train_loss: 4.62321138381958, val_metric: 0.21403580317102014\n",
      "2024-11-13 13:23:31,834 - decision_learning.modeling.train - INFO - epoch: 51, train_loss: 4.62321138381958, val_metric: 0.21403580317102014\n",
      "100%|██████████| 1/1 [00:00<00:00, 327.40it/s]\n",
      "100%|██████████| 1/1 [00:00<00:00, 679.57it/s]\n",
      "2024-11-13 13:23:31,842 - decision_learning.modeling.train - INFO - epoch: 52, train_loss: 4.60292911529541, val_metric: 0.23257518357869703\n",
      "2024-11-13 13:23:31,842 - decision_learning.modeling.train - INFO - epoch: 52, train_loss: 4.60292911529541, val_metric: 0.23257518357869703\n",
      "100%|██████████| 1/1 [00:00<00:00, 327.42it/s]\n",
      "100%|██████████| 1/1 [00:00<00:00, 673.68it/s]\n",
      "2024-11-13 13:23:31,850 - decision_learning.modeling.train - INFO - epoch: 53, train_loss: 4.582942962646484, val_metric: 0.21779442434815569\n",
      "2024-11-13 13:23:31,850 - decision_learning.modeling.train - INFO - epoch: 53, train_loss: 4.582942962646484, val_metric: 0.21779442434815569\n",
      "100%|██████████| 1/1 [00:00<00:00, 326.05it/s]\n",
      "100%|██████████| 1/1 [00:00<00:00, 680.45it/s]\n",
      "2024-11-13 13:23:31,858 - decision_learning.modeling.train - INFO - epoch: 54, train_loss: 4.563945770263672, val_metric: 0.23513497571210026\n",
      "2024-11-13 13:23:31,858 - decision_learning.modeling.train - INFO - epoch: 54, train_loss: 4.563945770263672, val_metric: 0.23513497571210026\n",
      "100%|██████████| 1/1 [00:00<00:00, 324.34it/s]\n",
      "100%|██████████| 1/1 [00:00<00:00, 693.73it/s]\n",
      "2024-11-13 13:23:31,867 - decision_learning.modeling.train - INFO - epoch: 55, train_loss: 4.545943260192871, val_metric: 0.2230025299431564\n",
      "2024-11-13 13:23:31,867 - decision_learning.modeling.train - INFO - epoch: 55, train_loss: 4.545943260192871, val_metric: 0.2230025299431564\n",
      "100%|██████████| 1/1 [00:00<00:00, 328.12it/s]\n",
      "100%|██████████| 1/1 [00:00<00:00, 702.80it/s]\n",
      "2024-11-13 13:23:31,875 - decision_learning.modeling.train - INFO - epoch: 56, train_loss: 4.529879093170166, val_metric: 0.21485952134215205\n",
      "2024-11-13 13:23:31,875 - decision_learning.modeling.train - INFO - epoch: 56, train_loss: 4.529879093170166, val_metric: 0.21485952134215205\n",
      "100%|██████████| 1/1 [00:00<00:00, 326.51it/s]\n",
      "100%|██████████| 1/1 [00:00<00:00, 695.46it/s]\n",
      "2024-11-13 13:23:31,883 - decision_learning.modeling.train - INFO - epoch: 57, train_loss: 4.514142990112305, val_metric: 0.23219302542221779\n",
      "2024-11-13 13:23:31,883 - decision_learning.modeling.train - INFO - epoch: 57, train_loss: 4.514142990112305, val_metric: 0.23219302542221779\n",
      "100%|██████████| 1/1 [00:00<00:00, 326.33it/s]\n",
      "100%|██████████| 1/1 [00:00<00:00, 694.08it/s]\n",
      "2024-11-13 13:23:31,891 - decision_learning.modeling.train - INFO - epoch: 58, train_loss: 4.4986677169799805, val_metric: 0.20740733262817507\n",
      "2024-11-13 13:23:31,891 - decision_learning.modeling.train - INFO - epoch: 58, train_loss: 4.4986677169799805, val_metric: 0.20740733262817507\n",
      "100%|██████████| 1/1 [00:00<00:00, 331.46it/s]\n",
      "100%|██████████| 1/1 [00:00<00:00, 696.15it/s]\n",
      "2024-11-13 13:23:31,899 - decision_learning.modeling.train - INFO - epoch: 59, train_loss: 4.484328269958496, val_metric: 0.23580858441077662\n",
      "2024-11-13 13:23:31,899 - decision_learning.modeling.train - INFO - epoch: 59, train_loss: 4.484328269958496, val_metric: 0.23580858441077662\n",
      "100%|██████████| 1/1 [00:00<00:00, 328.27it/s]\n",
      "100%|██████████| 1/1 [00:00<00:00, 706.23it/s]\n",
      "2024-11-13 13:23:31,907 - decision_learning.modeling.train - INFO - epoch: 60, train_loss: 4.470804214477539, val_metric: 0.22287967927171076\n",
      "2024-11-13 13:23:31,907 - decision_learning.modeling.train - INFO - epoch: 60, train_loss: 4.470804214477539, val_metric: 0.22287967927171076\n",
      "100%|██████████| 1/1 [00:00<00:00, 330.42it/s]\n",
      "100%|██████████| 1/1 [00:00<00:00, 689.40it/s]\n",
      "2024-11-13 13:23:31,915 - decision_learning.modeling.train - INFO - epoch: 61, train_loss: 4.458108901977539, val_metric: 0.21244253555533654\n",
      "2024-11-13 13:23:31,915 - decision_learning.modeling.train - INFO - epoch: 61, train_loss: 4.458108901977539, val_metric: 0.21244253555533654\n",
      "100%|██████████| 1/1 [00:00<00:00, 323.56it/s]\n",
      "100%|██████████| 1/1 [00:00<00:00, 695.57it/s]\n",
      "2024-11-13 13:23:31,923 - decision_learning.modeling.train - INFO - epoch: 62, train_loss: 4.444723606109619, val_metric: 0.22445659625846096\n",
      "2024-11-13 13:23:31,923 - decision_learning.modeling.train - INFO - epoch: 62, train_loss: 4.444723606109619, val_metric: 0.22445659625846096\n",
      "100%|██████████| 1/1 [00:00<00:00, 327.40it/s]\n",
      "100%|██████████| 1/1 [00:00<00:00, 690.42it/s]\n",
      "2024-11-13 13:23:31,931 - decision_learning.modeling.train - INFO - epoch: 63, train_loss: 4.431450843811035, val_metric: 0.22515590544785058\n",
      "2024-11-13 13:23:31,931 - decision_learning.modeling.train - INFO - epoch: 63, train_loss: 4.431450843811035, val_metric: 0.22515590544785058\n",
      "100%|██████████| 1/1 [00:00<00:00, 327.37it/s]\n",
      "100%|██████████| 1/1 [00:00<00:00, 671.09it/s]\n",
      "2024-11-13 13:23:31,939 - decision_learning.modeling.train - INFO - epoch: 64, train_loss: 4.4188032150268555, val_metric: 0.21872838715818432\n",
      "2024-11-13 13:23:31,939 - decision_learning.modeling.train - INFO - epoch: 64, train_loss: 4.4188032150268555, val_metric: 0.21872838715818432\n",
      "100%|██████████| 1/1 [00:00<00:00, 327.40it/s]\n",
      "100%|██████████| 1/1 [00:00<00:00, 672.49it/s]\n",
      "2024-11-13 13:23:31,947 - decision_learning.modeling.train - INFO - epoch: 65, train_loss: 4.510867118835449, val_metric: 0.1924106660172797\n",
      "2024-11-13 13:23:31,947 - decision_learning.modeling.train - INFO - epoch: 65, train_loss: 4.510867118835449, val_metric: 0.1924106660172797\n",
      "100%|██████████| 1/1 [00:00<00:00, 325.90it/s]\n",
      "100%|██████████| 1/1 [00:00<00:00, 700.22it/s]\n",
      "2024-11-13 13:23:31,955 - decision_learning.modeling.train - INFO - epoch: 66, train_loss: 4.395684719085693, val_metric: 0.22353842587666248\n",
      "2024-11-13 13:23:31,955 - decision_learning.modeling.train - INFO - epoch: 66, train_loss: 4.395684719085693, val_metric: 0.22353842587666248\n",
      "100%|██████████| 1/1 [00:00<00:00, 325.77it/s]\n",
      "100%|██████████| 1/1 [00:00<00:00, 676.39it/s]\n",
      "2024-11-13 13:23:31,963 - decision_learning.modeling.train - INFO - epoch: 67, train_loss: 4.3855390548706055, val_metric: 0.2174335010767635\n",
      "2024-11-13 13:23:31,963 - decision_learning.modeling.train - INFO - epoch: 67, train_loss: 4.3855390548706055, val_metric: 0.2174335010767635\n",
      "100%|██████████| 1/1 [00:00<00:00, 329.97it/s]\n",
      "100%|██████████| 1/1 [00:00<00:00, 670.98it/s]\n",
      "2024-11-13 13:23:31,971 - decision_learning.modeling.train - INFO - epoch: 68, train_loss: 4.375423431396484, val_metric: 0.2050280486471932\n",
      "2024-11-13 13:23:31,971 - decision_learning.modeling.train - INFO - epoch: 68, train_loss: 4.375423431396484, val_metric: 0.2050280486471932\n",
      "100%|██████████| 1/1 [00:00<00:00, 328.53it/s]\n",
      "100%|██████████| 1/1 [00:00<00:00, 673.13it/s]\n",
      "2024-11-13 13:23:31,979 - decision_learning.modeling.train - INFO - epoch: 69, train_loss: 4.364747524261475, val_metric: 0.20211210120673828\n",
      "2024-11-13 13:23:31,979 - decision_learning.modeling.train - INFO - epoch: 69, train_loss: 4.364747524261475, val_metric: 0.20211210120673828\n",
      "100%|██████████| 1/1 [00:00<00:00, 328.42it/s]\n",
      "100%|██████████| 1/1 [00:00<00:00, 688.04it/s]\n",
      "2024-11-13 13:23:31,987 - decision_learning.modeling.train - INFO - epoch: 70, train_loss: 4.35410737991333, val_metric: 0.21931303261977633\n",
      "2024-11-13 13:23:31,987 - decision_learning.modeling.train - INFO - epoch: 70, train_loss: 4.35410737991333, val_metric: 0.21931303261977633\n",
      "100%|██████████| 1/1 [00:00<00:00, 322.61it/s]\n",
      "100%|██████████| 1/1 [00:00<00:00, 683.11it/s]\n",
      "2024-11-13 13:23:31,995 - decision_learning.modeling.train - INFO - epoch: 71, train_loss: 4.343983173370361, val_metric: 0.2028717891055321\n",
      "2024-11-13 13:23:31,995 - decision_learning.modeling.train - INFO - epoch: 71, train_loss: 4.343983173370361, val_metric: 0.2028717891055321\n",
      "100%|██████████| 1/1 [00:00<00:00, 322.32it/s]\n",
      "100%|██████████| 1/1 [00:00<00:00, 684.11it/s]\n",
      "2024-11-13 13:23:32,004 - decision_learning.modeling.train - INFO - epoch: 72, train_loss: 4.333700656890869, val_metric: 0.20846230869900106\n",
      "2024-11-13 13:23:32,004 - decision_learning.modeling.train - INFO - epoch: 72, train_loss: 4.333700656890869, val_metric: 0.20846230869900106\n",
      "100%|██████████| 1/1 [00:00<00:00, 319.10it/s]\n",
      "100%|██████████| 1/1 [00:00<00:00, 680.12it/s]\n",
      "2024-11-13 13:23:32,012 - decision_learning.modeling.train - INFO - epoch: 73, train_loss: 4.323017597198486, val_metric: 0.2437178929840101\n",
      "2024-11-13 13:23:32,012 - decision_learning.modeling.train - INFO - epoch: 73, train_loss: 4.323017597198486, val_metric: 0.2437178929840101\n",
      "100%|██████████| 1/1 [00:00<00:00, 325.22it/s]\n",
      "100%|██████████| 1/1 [00:00<00:00, 675.30it/s]\n",
      "2024-11-13 13:23:32,020 - decision_learning.modeling.train - INFO - epoch: 74, train_loss: 4.313342571258545, val_metric: 0.2244679230810649\n",
      "2024-11-13 13:23:32,020 - decision_learning.modeling.train - INFO - epoch: 74, train_loss: 4.313342571258545, val_metric: 0.2244679230810649\n",
      "100%|██████████| 1/1 [00:00<00:00, 324.66it/s]\n",
      "100%|██████████| 1/1 [00:00<00:00, 681.23it/s]\n",
      "2024-11-13 13:23:32,028 - decision_learning.modeling.train - INFO - epoch: 75, train_loss: 4.30463171005249, val_metric: 0.22743310847522114\n",
      "2024-11-13 13:23:32,028 - decision_learning.modeling.train - INFO - epoch: 75, train_loss: 4.30463171005249, val_metric: 0.22743310847522114\n",
      "100%|██████████| 1/1 [00:00<00:00, 325.42it/s]\n",
      "100%|██████████| 1/1 [00:00<00:00, 702.80it/s]\n",
      "2024-11-13 13:23:32,036 - decision_learning.modeling.train - INFO - epoch: 76, train_loss: 4.296316623687744, val_metric: 0.2223063606327227\n",
      "2024-11-13 13:23:32,036 - decision_learning.modeling.train - INFO - epoch: 76, train_loss: 4.296316623687744, val_metric: 0.2223063606327227\n",
      "100%|██████████| 1/1 [00:00<00:00, 325.04it/s]\n",
      "100%|██████████| 1/1 [00:00<00:00, 687.82it/s]\n",
      "2024-11-13 13:23:32,044 - decision_learning.modeling.train - INFO - epoch: 77, train_loss: 4.288078784942627, val_metric: 0.22565221564814944\n",
      "2024-11-13 13:23:32,044 - decision_learning.modeling.train - INFO - epoch: 77, train_loss: 4.288078784942627, val_metric: 0.22565221564814944\n",
      "100%|██████████| 1/1 [00:00<00:00, 324.16it/s]\n",
      "100%|██████████| 1/1 [00:00<00:00, 690.53it/s]\n",
      "2024-11-13 13:23:32,052 - decision_learning.modeling.train - INFO - epoch: 78, train_loss: 4.279594898223877, val_metric: 0.2307680320602088\n",
      "2024-11-13 13:23:32,052 - decision_learning.modeling.train - INFO - epoch: 78, train_loss: 4.279594898223877, val_metric: 0.2307680320602088\n",
      "100%|██████████| 1/1 [00:00<00:00, 323.09it/s]\n",
      "100%|██████████| 1/1 [00:00<00:00, 696.61it/s]\n",
      "2024-11-13 13:23:32,061 - decision_learning.modeling.train - INFO - epoch: 79, train_loss: 4.271265029907227, val_metric: 0.23753056380529025\n",
      "2024-11-13 13:23:32,061 - decision_learning.modeling.train - INFO - epoch: 79, train_loss: 4.271265029907227, val_metric: 0.23753056380529025\n",
      "100%|██████████| 1/1 [00:00<00:00, 322.94it/s]\n",
      "100%|██████████| 1/1 [00:00<00:00, 693.16it/s]\n",
      "2024-11-13 13:23:32,069 - decision_learning.modeling.train - INFO - epoch: 80, train_loss: 4.294264316558838, val_metric: 0.24997504376736449\n",
      "2024-11-13 13:23:32,069 - decision_learning.modeling.train - INFO - epoch: 80, train_loss: 4.294264316558838, val_metric: 0.24997504376736449\n",
      "100%|██████████| 1/1 [00:00<00:00, 323.81it/s]\n",
      "100%|██████████| 1/1 [00:00<00:00, 698.47it/s]\n",
      "2024-11-13 13:23:32,077 - decision_learning.modeling.train - INFO - epoch: 81, train_loss: 4.256387710571289, val_metric: 0.18404293511648218\n",
      "2024-11-13 13:23:32,077 - decision_learning.modeling.train - INFO - epoch: 81, train_loss: 4.256387710571289, val_metric: 0.18404293511648218\n",
      "100%|██████████| 1/1 [00:00<00:00, 323.73it/s]\n",
      "100%|██████████| 1/1 [00:00<00:00, 695.57it/s]\n",
      "2024-11-13 13:23:32,085 - decision_learning.modeling.train - INFO - epoch: 82, train_loss: 4.248971939086914, val_metric: 0.24184408299820584\n",
      "2024-11-13 13:23:32,085 - decision_learning.modeling.train - INFO - epoch: 82, train_loss: 4.248971939086914, val_metric: 0.24184408299820584\n",
      "100%|██████████| 1/1 [00:00<00:00, 324.34it/s]\n",
      "100%|██████████| 1/1 [00:00<00:00, 698.82it/s]\n",
      "2024-11-13 13:23:32,093 - decision_learning.modeling.train - INFO - epoch: 83, train_loss: 4.241722583770752, val_metric: 0.2361084079635229\n",
      "2024-11-13 13:23:32,093 - decision_learning.modeling.train - INFO - epoch: 83, train_loss: 4.241722583770752, val_metric: 0.2361084079635229\n",
      "100%|██████████| 1/1 [00:00<00:00, 326.02it/s]\n",
      "100%|██████████| 1/1 [00:00<00:00, 702.56it/s]\n",
      "2024-11-13 13:23:32,101 - decision_learning.modeling.train - INFO - epoch: 84, train_loss: 4.2347917556762695, val_metric: 0.2363864151721162\n",
      "2024-11-13 13:23:32,101 - decision_learning.modeling.train - INFO - epoch: 84, train_loss: 4.2347917556762695, val_metric: 0.2363864151721162\n",
      "100%|██████████| 1/1 [00:00<00:00, 321.87it/s]\n",
      "100%|██████████| 1/1 [00:00<00:00, 679.79it/s]\n",
      "2024-11-13 13:23:32,109 - decision_learning.modeling.train - INFO - epoch: 85, train_loss: 4.228239059448242, val_metric: 0.20710215965202244\n",
      "2024-11-13 13:23:32,109 - decision_learning.modeling.train - INFO - epoch: 85, train_loss: 4.228239059448242, val_metric: 0.20710215965202244\n",
      "100%|██████████| 1/1 [00:00<00:00, 325.90it/s]\n",
      "100%|██████████| 1/1 [00:00<00:00, 704.57it/s]\n",
      "2024-11-13 13:23:32,117 - decision_learning.modeling.train - INFO - epoch: 86, train_loss: 4.221712112426758, val_metric: 0.20693486224957858\n",
      "2024-11-13 13:23:32,117 - decision_learning.modeling.train - INFO - epoch: 86, train_loss: 4.221712112426758, val_metric: 0.20693486224957858\n",
      "100%|██████████| 1/1 [00:00<00:00, 324.59it/s]\n",
      "100%|██████████| 1/1 [00:00<00:00, 685.68it/s]\n",
      "2024-11-13 13:23:32,126 - decision_learning.modeling.train - INFO - epoch: 87, train_loss: 4.214756011962891, val_metric: 0.2137350492837684\n",
      "2024-11-13 13:23:32,126 - decision_learning.modeling.train - INFO - epoch: 87, train_loss: 4.214756011962891, val_metric: 0.2137350492837684\n",
      "100%|██████████| 1/1 [00:00<00:00, 324.69it/s]\n",
      "100%|██████████| 1/1 [00:00<00:00, 688.95it/s]\n",
      "2024-11-13 13:23:32,134 - decision_learning.modeling.train - INFO - epoch: 88, train_loss: 4.208532810211182, val_metric: 0.1963364915634086\n",
      "2024-11-13 13:23:32,134 - decision_learning.modeling.train - INFO - epoch: 88, train_loss: 4.208532810211182, val_metric: 0.1963364915634086\n",
      "100%|██████████| 1/1 [00:00<00:00, 324.31it/s]\n",
      "100%|██████████| 1/1 [00:00<00:00, 660.10it/s]\n",
      "2024-11-13 13:23:32,147 - decision_learning.modeling.train - INFO - epoch: 89, train_loss: 4.20245361328125, val_metric: 0.23199791101806075\n",
      "2024-11-13 13:23:32,147 - decision_learning.modeling.train - INFO - epoch: 89, train_loss: 4.20245361328125, val_metric: 0.23199791101806075\n",
      "100%|██████████| 1/1 [00:00<00:00, 294.56it/s]\n",
      "100%|██████████| 1/1 [00:00<00:00, 551.01it/s]\n",
      "2024-11-13 13:23:32,157 - decision_learning.modeling.train - INFO - epoch: 90, train_loss: 4.1958818435668945, val_metric: 0.18794022265165614\n",
      "2024-11-13 13:23:32,157 - decision_learning.modeling.train - INFO - epoch: 90, train_loss: 4.1958818435668945, val_metric: 0.18794022265165614\n",
      "100%|██████████| 1/1 [00:00<00:00, 290.81it/s]\n",
      "100%|██████████| 1/1 [00:00<00:00, 558.50it/s]\n",
      "2024-11-13 13:23:32,167 - decision_learning.modeling.train - INFO - epoch: 91, train_loss: 4.1891069412231445, val_metric: 0.18295122246187195\n",
      "2024-11-13 13:23:32,167 - decision_learning.modeling.train - INFO - epoch: 91, train_loss: 4.1891069412231445, val_metric: 0.18295122246187195\n",
      "100%|██████████| 1/1 [00:00<00:00, 294.56it/s]\n",
      "100%|██████████| 1/1 [00:00<00:00, 535.74it/s]\n",
      "2024-11-13 13:23:32,178 - decision_learning.modeling.train - INFO - epoch: 92, train_loss: 4.182930946350098, val_metric: 0.2008790823699304\n",
      "2024-11-13 13:23:32,178 - decision_learning.modeling.train - INFO - epoch: 92, train_loss: 4.182930946350098, val_metric: 0.2008790823699304\n",
      "100%|██████████| 1/1 [00:00<00:00, 289.62it/s]\n",
      "100%|██████████| 1/1 [00:00<00:00, 705.64it/s]\n",
      "2024-11-13 13:23:32,189 - decision_learning.modeling.train - INFO - epoch: 93, train_loss: 4.177209854125977, val_metric: 0.20582429869205152\n",
      "2024-11-13 13:23:32,189 - decision_learning.modeling.train - INFO - epoch: 93, train_loss: 4.177209854125977, val_metric: 0.20582429869205152\n",
      "100%|██████████| 1/1 [00:00<00:00, 327.09it/s]\n",
      "100%|██████████| 1/1 [00:00<00:00, 696.50it/s]\n",
      "2024-11-13 13:23:32,198 - decision_learning.modeling.train - INFO - epoch: 94, train_loss: 4.171327590942383, val_metric: 0.20764594017046226\n",
      "2024-11-13 13:23:32,198 - decision_learning.modeling.train - INFO - epoch: 94, train_loss: 4.171327590942383, val_metric: 0.20764594017046226\n",
      "100%|██████████| 1/1 [00:00<00:00, 169.14it/s]\n",
      "100%|██████████| 1/1 [00:00<00:00, 672.38it/s]\n",
      "2024-11-13 13:23:32,209 - decision_learning.modeling.train - INFO - epoch: 95, train_loss: 4.165890693664551, val_metric: 0.2179461153892705\n",
      "2024-11-13 13:23:32,209 - decision_learning.modeling.train - INFO - epoch: 95, train_loss: 4.165890693664551, val_metric: 0.2179461153892705\n",
      "100%|██████████| 1/1 [00:00<00:00, 318.86it/s]\n",
      "100%|██████████| 1/1 [00:00<00:00, 706.23it/s]\n",
      "2024-11-13 13:23:32,217 - decision_learning.modeling.train - INFO - epoch: 96, train_loss: 4.160182476043701, val_metric: 0.21710499996288654\n",
      "2024-11-13 13:23:32,217 - decision_learning.modeling.train - INFO - epoch: 96, train_loss: 4.160182476043701, val_metric: 0.21710499996288654\n",
      "100%|██████████| 1/1 [00:00<00:00, 321.13it/s]\n",
      "100%|██████████| 1/1 [00:00<00:00, 690.76it/s]\n",
      "2024-11-13 13:23:32,225 - decision_learning.modeling.train - INFO - epoch: 97, train_loss: 4.154183864593506, val_metric: 0.21081575263909386\n",
      "2024-11-13 13:23:32,225 - decision_learning.modeling.train - INFO - epoch: 97, train_loss: 4.154183864593506, val_metric: 0.21081575263909386\n",
      "100%|██████████| 1/1 [00:00<00:00, 325.09it/s]\n",
      "100%|██████████| 1/1 [00:00<00:00, 701.62it/s]\n",
      "2024-11-13 13:23:32,233 - decision_learning.modeling.train - INFO - epoch: 98, train_loss: 4.34029483795166, val_metric: 0.24602649480093983\n",
      "2024-11-13 13:23:32,233 - decision_learning.modeling.train - INFO - epoch: 98, train_loss: 4.34029483795166, val_metric: 0.24602649480093983\n",
      "100%|██████████| 1/1 [00:00<00:00, 325.85it/s]\n",
      "100%|██████████| 1/1 [00:00<00:00, 683.22it/s]\n",
      "2024-11-13 13:23:32,242 - decision_learning.modeling.train - INFO - epoch: 99, train_loss: 4.176281929016113, val_metric: 0.20863742091129076\n",
      "2024-11-13 13:23:32,242 - decision_learning.modeling.train - INFO - epoch: 99, train_loss: 4.176281929016113, val_metric: 0.20863742091129076\n"
     ]
    }
   ],
   "source": [
    "# Deep copy the model\n",
    "print(model.linear.weight[0])\n",
    "# optimization solver\n",
    "optmodel = partial(shortest_path_solver,size=5)\n",
    "\n",
    "# loss function\n",
    "loss_fn = SPOPlus(optmodel=optmodel)\n",
    "\n",
    "metrics, trained_model = train(pred_model=pred_model,\n",
    "                optmodel=optmodel,\n",
    "                loss_fn=loss_fn,\n",
    "                train_data_dict=train_dict,\n",
    "                val_data_dict=val_dict,\n",
    "                dataloader_params={'batch_size':200, 'shuffle':True},\n",
    "                num_epochs=100,\n",
    "                lr=0.01,\n",
    "                scheduler_params=None, #{'step_size': 10, 'gamma': 0.1},\n",
    "                minimization=True)"
   ]
  },
  {
   "cell_type": "code",
   "execution_count": 212,
   "id": "f1fd3c85-7966-4b3f-93c0-7dd06b14eec7",
   "metadata": {},
   "outputs": [
    {
     "name": "stdout",
     "output_type": "stream",
     "text": [
      "0.08402777103613965\n"
     ]
    }
   ],
   "source": [
    "test_regret = calc_test_regret(pred_model=trained_model,\n",
    "                               test_data_dict=final_data_test, #final_data_te,\n",
    "                               optmodel=optmodel)\n",
    "print(test_regret)"
   ]
  },
  {
   "cell_type": "markdown",
   "id": "83e9a1dc-0a38-4b5a-bebc-92bccef2eebd",
   "metadata": {},
   "source": [
    "### Old Data"
   ]
  },
  {
   "cell_type": "code",
   "execution_count": 214,
   "id": "bb262dc2-fda0-4fa4-9492-d5c0af688fca",
   "metadata": {
    "scrolled": true
   },
   "outputs": [],
   "source": [
    "feat, cost_true, cost, eps = sp_grid_mike_neurips.genData(num_data + 200, \n",
    "                                                     num_feat, \n",
    "                                                     grid, \n",
    "                                                     ep_type, \n",
    "                                                     deg, \n",
    "                                                     e, \n",
    "                                                     seed=indices_arr[trial])\n",
    "x_train, x_val, c_train, c_val = train_test_split(feat, cost, test_size=200, random_state=42)\n",
    "x_test, c_test, c_hat_test, eps_test = sp_grid_mike_neurips.genData(10000, \n",
    "                                                          num_feat, \n",
    "                                                          grid, \n",
    "                                                          ep_type, \n",
    "                                                          deg, \n",
    "                                                          e, \n",
    "                                                          seed=indices_arr_test[trial])\n",
    "\n",
    "# train\n",
    "sol_tr, obj_tr = shortest_path_solver(costs=c_train, size=5)\n",
    "train_dict_old = {'X':x_train, #[:,:-1],\n",
    "              'true_cost':c_train,\n",
    "              'true_sol':sol_tr,\n",
    "              'true_obj':obj_tr}\n",
    "# val\n",
    "sol_v, obj_v = shortest_path_solver(costs=c_val, size=5)\n",
    "val_dict_old = {'X':x_val, #[:,:-1],\n",
    "              'true_cost':c_val,\n",
    "              'true_sol':sol_v,\n",
    "              'true_obj':obj_v}\n",
    "\n",
    "# test\n",
    "sol_te, obj_te = shortest_path_solver(costs=c_hat_test, size=5)\n",
    "final_data_te = {'X':x_test, #[:,:-1],\n",
    "              'true_cost':c_hat_test,\n",
    "              'true_sol':sol_te,\n",
    "              'true_obj':obj_te}"
   ]
  },
  {
   "cell_type": "code",
   "execution_count": 215,
   "id": "a6f88273-0aea-4dc4-8172-a63bc5745b4a",
   "metadata": {
    "scrolled": true
   },
   "outputs": [
    {
     "name": "stdout",
     "output_type": "stream",
     "text": [
      "tensor([-0.2872, -0.1867, -0.1686,  0.0504,  0.2973, -0.0260, -0.0786],\n",
      "       grad_fn=<SelectBackward0>)\n"
     ]
    },
    {
     "name": "stderr",
     "output_type": "stream",
     "text": [
      "100%|██████████| 1/1 [00:00<00:00, 218.24it/s]\n",
      "100%|██████████| 1/1 [00:00<00:00, 586.45it/s]\n",
      "2024-11-13 13:26:29,649 - decision_learning.modeling.train - INFO - epoch: 0, train_loss: 15.820372581481934, val_metric: 0.5183820143070256\n",
      "2024-11-13 13:26:29,649 - decision_learning.modeling.train - INFO - epoch: 0, train_loss: 15.820372581481934, val_metric: 0.5183820143070256\n",
      "100%|██████████| 1/1 [00:00<00:00, 324.11it/s]\n",
      "100%|██████████| 1/1 [00:00<00:00, 681.23it/s]\n",
      "2024-11-13 13:26:29,662 - decision_learning.modeling.train - INFO - epoch: 1, train_loss: 14.878893852233887, val_metric: 0.5010580228972782\n",
      "2024-11-13 13:26:29,662 - decision_learning.modeling.train - INFO - epoch: 1, train_loss: 14.878893852233887, val_metric: 0.5010580228972782\n",
      "100%|██████████| 1/1 [00:00<00:00, 332.38it/s]\n",
      "100%|██████████| 1/1 [00:00<00:00, 687.82it/s]\n",
      "2024-11-13 13:26:29,670 - decision_learning.modeling.train - INFO - epoch: 2, train_loss: 13.96707534790039, val_metric: 0.4288215955036147\n",
      "2024-11-13 13:26:29,670 - decision_learning.modeling.train - INFO - epoch: 2, train_loss: 13.96707534790039, val_metric: 0.4288215955036147\n",
      "100%|██████████| 1/1 [00:00<00:00, 339.29it/s]\n",
      "100%|██████████| 1/1 [00:00<00:00, 693.50it/s]\n",
      "2024-11-13 13:26:29,677 - decision_learning.modeling.train - INFO - epoch: 3, train_loss: 13.099983215332031, val_metric: 0.36837269236099685\n",
      "2024-11-13 13:26:29,677 - decision_learning.modeling.train - INFO - epoch: 3, train_loss: 13.099983215332031, val_metric: 0.36837269236099685\n",
      "100%|██████████| 1/1 [00:00<00:00, 329.51it/s]\n",
      "100%|██████████| 1/1 [00:00<00:00, 507.17it/s]\n",
      "2024-11-13 13:26:29,686 - decision_learning.modeling.train - INFO - epoch: 4, train_loss: 12.291147232055664, val_metric: 0.30511897023460094\n",
      "2024-11-13 13:26:29,686 - decision_learning.modeling.train - INFO - epoch: 4, train_loss: 12.291147232055664, val_metric: 0.30511897023460094\n",
      "100%|██████████| 1/1 [00:00<00:00, 326.43it/s]\n",
      "100%|██████████| 1/1 [00:00<00:00, 687.14it/s]\n",
      "2024-11-13 13:26:29,694 - decision_learning.modeling.train - INFO - epoch: 5, train_loss: 11.549887657165527, val_metric: 0.2947774416470251\n",
      "2024-11-13 13:26:29,694 - decision_learning.modeling.train - INFO - epoch: 5, train_loss: 11.549887657165527, val_metric: 0.2947774416470251\n",
      "100%|██████████| 1/1 [00:00<00:00, 329.25it/s]\n",
      "100%|██████████| 1/1 [00:00<00:00, 686.24it/s]\n",
      "2024-11-13 13:26:29,701 - decision_learning.modeling.train - INFO - epoch: 6, train_loss: 10.879311561584473, val_metric: 0.2773669756449954\n",
      "2024-11-13 13:26:29,701 - decision_learning.modeling.train - INFO - epoch: 6, train_loss: 10.879311561584473, val_metric: 0.2773669756449954\n",
      "100%|██████████| 1/1 [00:00<00:00, 339.76it/s]\n",
      "100%|██████████| 1/1 [00:00<00:00, 684.67it/s]\n",
      "2024-11-13 13:26:29,709 - decision_learning.modeling.train - INFO - epoch: 7, train_loss: 10.287454605102539, val_metric: 0.24622133010474523\n",
      "2024-11-13 13:26:29,709 - decision_learning.modeling.train - INFO - epoch: 7, train_loss: 10.287454605102539, val_metric: 0.24622133010474523\n",
      "100%|██████████| 1/1 [00:00<00:00, 332.96it/s]\n",
      "100%|██████████| 1/1 [00:00<00:00, 680.01it/s]\n",
      "2024-11-13 13:26:29,717 - decision_learning.modeling.train - INFO - epoch: 8, train_loss: 9.742238998413086, val_metric: 0.24616537048424197\n",
      "2024-11-13 13:26:29,717 - decision_learning.modeling.train - INFO - epoch: 8, train_loss: 9.742238998413086, val_metric: 0.24616537048424197\n",
      "100%|██████████| 1/1 [00:00<00:00, 327.30it/s]\n",
      "100%|██████████| 1/1 [00:00<00:00, 662.61it/s]\n",
      "2024-11-13 13:26:29,725 - decision_learning.modeling.train - INFO - epoch: 9, train_loss: 9.256970405578613, val_metric: 0.22387581168506657\n",
      "2024-11-13 13:26:29,725 - decision_learning.modeling.train - INFO - epoch: 9, train_loss: 9.256970405578613, val_metric: 0.22387581168506657\n",
      "100%|██████████| 1/1 [00:00<00:00, 327.37it/s]\n",
      "100%|██████████| 1/1 [00:00<00:00, 668.95it/s]\n",
      "2024-11-13 13:26:29,732 - decision_learning.modeling.train - INFO - epoch: 10, train_loss: 8.827548027038574, val_metric: 0.23592673689296972\n",
      "2024-11-13 13:26:29,732 - decision_learning.modeling.train - INFO - epoch: 10, train_loss: 8.827548027038574, val_metric: 0.23592673689296972\n",
      "100%|██████████| 1/1 [00:00<00:00, 343.51it/s]\n",
      "100%|██████████| 1/1 [00:00<00:00, 709.70it/s]\n",
      "2024-11-13 13:26:29,740 - decision_learning.modeling.train - INFO - epoch: 11, train_loss: 8.43786907196045, val_metric: 0.22287316693017256\n",
      "2024-11-13 13:26:29,740 - decision_learning.modeling.train - INFO - epoch: 11, train_loss: 8.43786907196045, val_metric: 0.22287316693017256\n",
      "100%|██████████| 1/1 [00:00<00:00, 334.98it/s]\n",
      "100%|██████████| 1/1 [00:00<00:00, 702.68it/s]\n",
      "2024-11-13 13:26:29,748 - decision_learning.modeling.train - INFO - epoch: 12, train_loss: 8.091235160827637, val_metric: 0.22141203007262655\n",
      "2024-11-13 13:26:29,748 - decision_learning.modeling.train - INFO - epoch: 12, train_loss: 8.091235160827637, val_metric: 0.22141203007262655\n",
      "100%|██████████| 1/1 [00:00<00:00, 331.02it/s]\n",
      "100%|██████████| 1/1 [00:00<00:00, 707.42it/s]\n",
      "2024-11-13 13:26:29,756 - decision_learning.modeling.train - INFO - epoch: 13, train_loss: 7.772471904754639, val_metric: 0.23516069946117615\n",
      "2024-11-13 13:26:29,756 - decision_learning.modeling.train - INFO - epoch: 13, train_loss: 7.772471904754639, val_metric: 0.23516069946117615\n",
      "100%|██████████| 1/1 [00:00<00:00, 342.62it/s]\n",
      "100%|██████████| 1/1 [00:00<00:00, 704.93it/s]\n",
      "2024-11-13 13:26:29,764 - decision_learning.modeling.train - INFO - epoch: 14, train_loss: 7.477380752563477, val_metric: 0.22648039942490755\n",
      "2024-11-13 13:26:29,764 - decision_learning.modeling.train - INFO - epoch: 14, train_loss: 7.477380752563477, val_metric: 0.22648039942490755\n",
      "100%|██████████| 1/1 [00:00<00:00, 345.18it/s]\n",
      "100%|██████████| 1/1 [00:00<00:00, 706.83it/s]\n",
      "2024-11-13 13:26:29,771 - decision_learning.modeling.train - INFO - epoch: 15, train_loss: 7.208316802978516, val_metric: 0.22566272842806112\n",
      "2024-11-13 13:26:29,771 - decision_learning.modeling.train - INFO - epoch: 15, train_loss: 7.208316802978516, val_metric: 0.22566272842806112\n",
      "100%|██████████| 1/1 [00:00<00:00, 336.16it/s]\n",
      "100%|██████████| 1/1 [00:00<00:00, 701.51it/s]\n",
      "2024-11-13 13:26:29,779 - decision_learning.modeling.train - INFO - epoch: 16, train_loss: 6.966177940368652, val_metric: 0.20650930398841974\n",
      "2024-11-13 13:26:29,779 - decision_learning.modeling.train - INFO - epoch: 16, train_loss: 6.966177940368652, val_metric: 0.20650930398841974\n",
      "100%|██████████| 1/1 [00:00<00:00, 336.11it/s]\n",
      "100%|██████████| 1/1 [00:00<00:00, 714.78it/s]\n",
      "2024-11-13 13:26:29,788 - decision_learning.modeling.train - INFO - epoch: 17, train_loss: 6.741915702819824, val_metric: 0.2279330702384539\n",
      "2024-11-13 13:26:29,788 - decision_learning.modeling.train - INFO - epoch: 17, train_loss: 6.741915702819824, val_metric: 0.2279330702384539\n",
      "100%|██████████| 1/1 [00:00<00:00, 333.86it/s]\n",
      "100%|██████████| 1/1 [00:00<00:00, 720.18it/s]\n",
      "2024-11-13 13:26:29,796 - decision_learning.modeling.train - INFO - epoch: 18, train_loss: 6.585887908935547, val_metric: 0.21550387102063182\n",
      "2024-11-13 13:26:29,796 - decision_learning.modeling.train - INFO - epoch: 18, train_loss: 6.585887908935547, val_metric: 0.21550387102063182\n",
      "100%|██████████| 1/1 [00:00<00:00, 336.19it/s]\n",
      "100%|██████████| 1/1 [00:00<00:00, 713.68it/s]\n",
      "2024-11-13 13:26:29,804 - decision_learning.modeling.train - INFO - epoch: 19, train_loss: 6.348936080932617, val_metric: 0.20963413478371248\n",
      "2024-11-13 13:26:29,804 - decision_learning.modeling.train - INFO - epoch: 19, train_loss: 6.348936080932617, val_metric: 0.20963413478371248\n",
      "100%|██████████| 1/1 [00:00<00:00, 338.47it/s]\n",
      "100%|██████████| 1/1 [00:00<00:00, 716.98it/s]\n",
      "2024-11-13 13:26:29,812 - decision_learning.modeling.train - INFO - epoch: 20, train_loss: 6.173026084899902, val_metric: 0.2287887919165736\n",
      "2024-11-13 13:26:29,812 - decision_learning.modeling.train - INFO - epoch: 20, train_loss: 6.173026084899902, val_metric: 0.2287887919165736\n",
      "100%|██████████| 1/1 [00:00<00:00, 337.00it/s]\n",
      "100%|██████████| 1/1 [00:00<00:00, 719.68it/s]\n",
      "2024-11-13 13:26:29,820 - decision_learning.modeling.train - INFO - epoch: 21, train_loss: 6.008536338806152, val_metric: 0.22461873030439952\n",
      "2024-11-13 13:26:29,820 - decision_learning.modeling.train - INFO - epoch: 21, train_loss: 6.008536338806152, val_metric: 0.22461873030439952\n",
      "100%|██████████| 1/1 [00:00<00:00, 337.03it/s]\n",
      "100%|██████████| 1/1 [00:00<00:00, 702.80it/s]\n",
      "2024-11-13 13:26:29,829 - decision_learning.modeling.train - INFO - epoch: 22, train_loss: 5.860577583312988, val_metric: 0.21947581789986872\n",
      "2024-11-13 13:26:29,829 - decision_learning.modeling.train - INFO - epoch: 22, train_loss: 5.860577583312988, val_metric: 0.21947581789986872\n",
      "100%|██████████| 1/1 [00:00<00:00, 336.73it/s]\n",
      "100%|██████████| 1/1 [00:00<00:00, 718.94it/s]\n",
      "2024-11-13 13:26:29,837 - decision_learning.modeling.train - INFO - epoch: 23, train_loss: 5.7283830642700195, val_metric: 0.21200141744957396\n",
      "2024-11-13 13:26:29,837 - decision_learning.modeling.train - INFO - epoch: 23, train_loss: 5.7283830642700195, val_metric: 0.21200141744957396\n",
      "100%|██████████| 1/1 [00:00<00:00, 335.95it/s]\n",
      "100%|██████████| 1/1 [00:00<00:00, 711.26it/s]\n",
      "2024-11-13 13:26:29,845 - decision_learning.modeling.train - INFO - epoch: 24, train_loss: 5.603909492492676, val_metric: 0.24010126411076996\n",
      "2024-11-13 13:26:29,845 - decision_learning.modeling.train - INFO - epoch: 24, train_loss: 5.603909492492676, val_metric: 0.24010126411076996\n",
      "100%|██████████| 1/1 [00:00<00:00, 329.25it/s]\n",
      "100%|██████████| 1/1 [00:00<00:00, 715.39it/s]\n",
      "2024-11-13 13:26:29,853 - decision_learning.modeling.train - INFO - epoch: 25, train_loss: 5.490933418273926, val_metric: 0.2110186585947341\n",
      "2024-11-13 13:26:29,853 - decision_learning.modeling.train - INFO - epoch: 25, train_loss: 5.490933418273926, val_metric: 0.2110186585947341\n",
      "100%|██████████| 1/1 [00:00<00:00, 335.41it/s]\n",
      "100%|██████████| 1/1 [00:00<00:00, 696.73it/s]\n",
      "2024-11-13 13:26:29,862 - decision_learning.modeling.train - INFO - epoch: 26, train_loss: 5.384974479675293, val_metric: 0.219506891072351\n",
      "2024-11-13 13:26:29,862 - decision_learning.modeling.train - INFO - epoch: 26, train_loss: 5.384974479675293, val_metric: 0.219506891072351\n",
      "100%|██████████| 1/1 [00:00<00:00, 333.54it/s]\n",
      "100%|██████████| 1/1 [00:00<00:00, 714.90it/s]\n",
      "2024-11-13 13:26:29,870 - decision_learning.modeling.train - INFO - epoch: 27, train_loss: 5.288912773132324, val_metric: 0.20803261044929294\n",
      "2024-11-13 13:26:29,870 - decision_learning.modeling.train - INFO - epoch: 27, train_loss: 5.288912773132324, val_metric: 0.20803261044929294\n",
      "100%|██████████| 1/1 [00:00<00:00, 334.55it/s]\n",
      "100%|██████████| 1/1 [00:00<00:00, 687.59it/s]\n",
      "2024-11-13 13:26:29,879 - decision_learning.modeling.train - INFO - epoch: 28, train_loss: 5.204312801361084, val_metric: 0.2219298542583641\n",
      "2024-11-13 13:26:29,879 - decision_learning.modeling.train - INFO - epoch: 28, train_loss: 5.204312801361084, val_metric: 0.2219298542583641\n",
      "100%|██████████| 1/1 [00:00<00:00, 330.62it/s]\n",
      "100%|██████████| 1/1 [00:00<00:00, 697.31it/s]\n",
      "2024-11-13 13:26:29,887 - decision_learning.modeling.train - INFO - epoch: 29, train_loss: 5.131407260894775, val_metric: 0.22658889968660653\n",
      "2024-11-13 13:26:29,887 - decision_learning.modeling.train - INFO - epoch: 29, train_loss: 5.131407260894775, val_metric: 0.22658889968660653\n",
      "100%|██████████| 1/1 [00:00<00:00, 331.59it/s]\n",
      "100%|██████████| 1/1 [00:00<00:00, 712.11it/s]\n",
      "2024-11-13 13:26:29,896 - decision_learning.modeling.train - INFO - epoch: 30, train_loss: 5.067838191986084, val_metric: 0.23600655959353795\n",
      "2024-11-13 13:26:29,896 - decision_learning.modeling.train - INFO - epoch: 30, train_loss: 5.067838191986084, val_metric: 0.23600655959353795\n",
      "100%|██████████| 1/1 [00:00<00:00, 325.54it/s]\n",
      "100%|██████████| 1/1 [00:00<00:00, 706.83it/s]\n",
      "2024-11-13 13:26:29,904 - decision_learning.modeling.train - INFO - epoch: 31, train_loss: 5.011064529418945, val_metric: 0.23526252457279845\n",
      "2024-11-13 13:26:29,904 - decision_learning.modeling.train - INFO - epoch: 31, train_loss: 5.011064529418945, val_metric: 0.23526252457279845\n",
      "100%|██████████| 1/1 [00:00<00:00, 331.99it/s]\n",
      "100%|██████████| 1/1 [00:00<00:00, 698.58it/s]\n",
      "2024-11-13 13:26:29,912 - decision_learning.modeling.train - INFO - epoch: 32, train_loss: 4.960977077484131, val_metric: 0.2166130390764007\n",
      "2024-11-13 13:26:29,912 - decision_learning.modeling.train - INFO - epoch: 32, train_loss: 4.960977077484131, val_metric: 0.2166130390764007\n",
      "100%|██████████| 1/1 [00:00<00:00, 328.19it/s]\n",
      "100%|██████████| 1/1 [00:00<00:00, 715.02it/s]\n",
      "2024-11-13 13:26:29,921 - decision_learning.modeling.train - INFO - epoch: 33, train_loss: 4.9161553382873535, val_metric: 0.22454816443216058\n",
      "2024-11-13 13:26:29,921 - decision_learning.modeling.train - INFO - epoch: 33, train_loss: 4.9161553382873535, val_metric: 0.22454816443216058\n",
      "100%|██████████| 1/1 [00:00<00:00, 332.59it/s]\n",
      "100%|██████████| 1/1 [00:00<00:00, 700.57it/s]\n",
      "2024-11-13 13:26:29,929 - decision_learning.modeling.train - INFO - epoch: 34, train_loss: 4.875742435455322, val_metric: 0.2044529391142821\n",
      "2024-11-13 13:26:29,929 - decision_learning.modeling.train - INFO - epoch: 34, train_loss: 4.875742435455322, val_metric: 0.2044529391142821\n",
      "100%|██████████| 1/1 [00:00<00:00, 327.40it/s]\n",
      "100%|██████████| 1/1 [00:00<00:00, 718.94it/s]\n",
      "2024-11-13 13:26:29,937 - decision_learning.modeling.train - INFO - epoch: 35, train_loss: 4.836315155029297, val_metric: 0.2188894513194416\n",
      "2024-11-13 13:26:29,937 - decision_learning.modeling.train - INFO - epoch: 35, train_loss: 4.836315155029297, val_metric: 0.2188894513194416\n",
      "100%|██████████| 1/1 [00:00<00:00, 332.75it/s]\n",
      "100%|██████████| 1/1 [00:00<00:00, 708.74it/s]\n",
      "2024-11-13 13:26:29,946 - decision_learning.modeling.train - INFO - epoch: 36, train_loss: 4.798519611358643, val_metric: 0.2246672937655844\n",
      "2024-11-13 13:26:29,946 - decision_learning.modeling.train - INFO - epoch: 36, train_loss: 4.798519611358643, val_metric: 0.2246672937655844\n",
      "100%|██████████| 1/1 [00:00<00:00, 329.56it/s]\n",
      "100%|██████████| 1/1 [00:00<00:00, 701.15it/s]\n",
      "2024-11-13 13:26:29,954 - decision_learning.modeling.train - INFO - epoch: 37, train_loss: 4.761325836181641, val_metric: 0.21370118510776978\n",
      "2024-11-13 13:26:29,954 - decision_learning.modeling.train - INFO - epoch: 37, train_loss: 4.761325836181641, val_metric: 0.21370118510776978\n",
      "100%|██████████| 1/1 [00:00<00:00, 329.77it/s]\n",
      "100%|██████████| 1/1 [00:00<00:00, 690.53it/s]\n",
      "2024-11-13 13:26:29,963 - decision_learning.modeling.train - INFO - epoch: 38, train_loss: 4.724081993103027, val_metric: 0.21512496903492168\n",
      "2024-11-13 13:26:29,963 - decision_learning.modeling.train - INFO - epoch: 38, train_loss: 4.724081993103027, val_metric: 0.21512496903492168\n",
      "100%|██████████| 1/1 [00:00<00:00, 332.43it/s]\n",
      "100%|██████████| 1/1 [00:00<00:00, 706.11it/s]\n",
      "2024-11-13 13:26:29,971 - decision_learning.modeling.train - INFO - epoch: 39, train_loss: 4.687899589538574, val_metric: 0.2198129943830091\n",
      "2024-11-13 13:26:29,971 - decision_learning.modeling.train - INFO - epoch: 39, train_loss: 4.687899589538574, val_metric: 0.2198129943830091\n",
      "100%|██████████| 1/1 [00:00<00:00, 337.38it/s]\n",
      "100%|██████████| 1/1 [00:00<00:00, 699.87it/s]\n",
      "2024-11-13 13:26:29,980 - decision_learning.modeling.train - INFO - epoch: 40, train_loss: 4.655309677124023, val_metric: 0.2342175263395435\n",
      "2024-11-13 13:26:29,980 - decision_learning.modeling.train - INFO - epoch: 40, train_loss: 4.655309677124023, val_metric: 0.2342175263395435\n",
      "100%|██████████| 1/1 [00:00<00:00, 335.38it/s]\n",
      "100%|██████████| 1/1 [00:00<00:00, 717.83it/s]\n",
      "2024-11-13 13:26:29,988 - decision_learning.modeling.train - INFO - epoch: 41, train_loss: 4.623650550842285, val_metric: 0.20955377714080362\n",
      "2024-11-13 13:26:29,988 - decision_learning.modeling.train - INFO - epoch: 41, train_loss: 4.623650550842285, val_metric: 0.20955377714080362\n",
      "100%|██████████| 1/1 [00:00<00:00, 336.46it/s]\n",
      "100%|██████████| 1/1 [00:00<00:00, 709.10it/s]\n",
      "2024-11-13 13:26:29,996 - decision_learning.modeling.train - INFO - epoch: 42, train_loss: 4.595267295837402, val_metric: 0.20403435836191422\n",
      "2024-11-13 13:26:29,996 - decision_learning.modeling.train - INFO - epoch: 42, train_loss: 4.595267295837402, val_metric: 0.20403435836191422\n",
      "100%|██████████| 1/1 [00:00<00:00, 333.97it/s]\n",
      "100%|██████████| 1/1 [00:00<00:00, 692.24it/s]\n",
      "2024-11-13 13:26:30,005 - decision_learning.modeling.train - INFO - epoch: 43, train_loss: 4.567071437835693, val_metric: 0.22477246808142634\n",
      "2024-11-13 13:26:30,005 - decision_learning.modeling.train - INFO - epoch: 43, train_loss: 4.567071437835693, val_metric: 0.22477246808142634\n",
      "100%|██████████| 1/1 [00:00<00:00, 304.58it/s]\n",
      "100%|██████████| 1/1 [00:00<00:00, 697.66it/s]\n",
      "2024-11-13 13:26:30,014 - decision_learning.modeling.train - INFO - epoch: 44, train_loss: 4.540298938751221, val_metric: 0.2215631629130381\n",
      "2024-11-13 13:26:30,014 - decision_learning.modeling.train - INFO - epoch: 44, train_loss: 4.540298938751221, val_metric: 0.2215631629130381\n",
      "100%|██████████| 1/1 [00:00<00:00, 329.82it/s]\n",
      "100%|██████████| 1/1 [00:00<00:00, 703.27it/s]\n",
      "2024-11-13 13:26:30,022 - decision_learning.modeling.train - INFO - epoch: 45, train_loss: 4.515760898590088, val_metric: 0.23009363257720278\n",
      "2024-11-13 13:26:30,022 - decision_learning.modeling.train - INFO - epoch: 45, train_loss: 4.515760898590088, val_metric: 0.23009363257720278\n",
      "100%|██████████| 1/1 [00:00<00:00, 328.68it/s]\n",
      "100%|██████████| 1/1 [00:00<00:00, 696.38it/s]\n",
      "2024-11-13 13:26:30,031 - decision_learning.modeling.train - INFO - epoch: 46, train_loss: 4.493192672729492, val_metric: 0.2233233092806381\n",
      "2024-11-13 13:26:30,031 - decision_learning.modeling.train - INFO - epoch: 46, train_loss: 4.493192672729492, val_metric: 0.2233233092806381\n",
      "100%|██████████| 1/1 [00:00<00:00, 329.51it/s]\n",
      "100%|██████████| 1/1 [00:00<00:00, 705.28it/s]\n",
      "2024-11-13 13:26:30,039 - decision_learning.modeling.train - INFO - epoch: 47, train_loss: 4.469588756561279, val_metric: 0.20435227692079164\n",
      "2024-11-13 13:26:30,039 - decision_learning.modeling.train - INFO - epoch: 47, train_loss: 4.469588756561279, val_metric: 0.20435227692079164\n",
      "100%|██████████| 1/1 [00:00<00:00, 326.46it/s]\n",
      "100%|██████████| 1/1 [00:00<00:00, 694.77it/s]\n",
      "2024-11-13 13:26:30,048 - decision_learning.modeling.train - INFO - epoch: 48, train_loss: 4.447176456451416, val_metric: 0.22218830118398014\n",
      "2024-11-13 13:26:30,048 - decision_learning.modeling.train - INFO - epoch: 48, train_loss: 4.447176456451416, val_metric: 0.22218830118398014\n",
      "100%|██████████| 1/1 [00:00<00:00, 329.38it/s]\n",
      "100%|██████████| 1/1 [00:00<00:00, 701.04it/s]\n",
      "2024-11-13 13:26:30,056 - decision_learning.modeling.train - INFO - epoch: 49, train_loss: 4.424988746643066, val_metric: 0.22614085058877828\n",
      "2024-11-13 13:26:30,056 - decision_learning.modeling.train - INFO - epoch: 49, train_loss: 4.424988746643066, val_metric: 0.22614085058877828\n",
      "100%|██████████| 1/1 [00:00<00:00, 328.81it/s]\n",
      "100%|██████████| 1/1 [00:00<00:00, 701.39it/s]\n",
      "2024-11-13 13:26:30,064 - decision_learning.modeling.train - INFO - epoch: 50, train_loss: 4.403303146362305, val_metric: 0.2133718001761126\n",
      "2024-11-13 13:26:30,064 - decision_learning.modeling.train - INFO - epoch: 50, train_loss: 4.403303146362305, val_metric: 0.2133718001761126\n",
      "100%|██████████| 1/1 [00:00<00:00, 326.79it/s]\n",
      "100%|██████████| 1/1 [00:00<00:00, 703.39it/s]\n",
      "2024-11-13 13:26:30,072 - decision_learning.modeling.train - INFO - epoch: 51, train_loss: 4.381921291351318, val_metric: 0.23358415460822815\n",
      "2024-11-13 13:26:30,072 - decision_learning.modeling.train - INFO - epoch: 51, train_loss: 4.381921291351318, val_metric: 0.23358415460822815\n",
      "100%|██████████| 1/1 [00:00<00:00, 326.96it/s]\n",
      "100%|██████████| 1/1 [00:00<00:00, 688.15it/s]\n",
      "2024-11-13 13:26:30,081 - decision_learning.modeling.train - INFO - epoch: 52, train_loss: 4.362145900726318, val_metric: 0.24075691735349103\n",
      "2024-11-13 13:26:30,081 - decision_learning.modeling.train - INFO - epoch: 52, train_loss: 4.362145900726318, val_metric: 0.24075691735349103\n",
      "100%|██████████| 1/1 [00:00<00:00, 327.48it/s]\n",
      "100%|██████████| 1/1 [00:00<00:00, 701.39it/s]\n",
      "2024-11-13 13:26:30,089 - decision_learning.modeling.train - INFO - epoch: 53, train_loss: 4.344112396240234, val_metric: 0.19088738281476916\n",
      "2024-11-13 13:26:30,089 - decision_learning.modeling.train - INFO - epoch: 53, train_loss: 4.344112396240234, val_metric: 0.19088738281476916\n",
      "100%|██████████| 1/1 [00:00<00:00, 330.42it/s]\n",
      "100%|██████████| 1/1 [00:00<00:00, 711.99it/s]\n",
      "2024-11-13 13:26:30,098 - decision_learning.modeling.train - INFO - epoch: 54, train_loss: 4.326542377471924, val_metric: 0.22824824431054022\n",
      "2024-11-13 13:26:30,098 - decision_learning.modeling.train - INFO - epoch: 54, train_loss: 4.326542377471924, val_metric: 0.22824824431054022\n",
      "100%|██████████| 1/1 [00:00<00:00, 327.58it/s]\n",
      "100%|██████████| 1/1 [00:00<00:00, 708.38it/s]\n",
      "2024-11-13 13:26:30,106 - decision_learning.modeling.train - INFO - epoch: 55, train_loss: 4.311155319213867, val_metric: 0.22997538706155915\n",
      "2024-11-13 13:26:30,106 - decision_learning.modeling.train - INFO - epoch: 55, train_loss: 4.311155319213867, val_metric: 0.22997538706155915\n",
      "100%|██████████| 1/1 [00:00<00:00, 327.99it/s]\n",
      "100%|██████████| 1/1 [00:00<00:00, 714.53it/s]\n",
      "2024-11-13 13:26:30,115 - decision_learning.modeling.train - INFO - epoch: 56, train_loss: 4.296483039855957, val_metric: 0.2150686140222536\n",
      "2024-11-13 13:26:30,115 - decision_learning.modeling.train - INFO - epoch: 56, train_loss: 4.296483039855957, val_metric: 0.2150686140222536\n",
      "100%|██████████| 1/1 [00:00<00:00, 328.22it/s]\n",
      "100%|██████████| 1/1 [00:00<00:00, 707.42it/s]\n",
      "2024-11-13 13:26:30,123 - decision_learning.modeling.train - INFO - epoch: 57, train_loss: 4.281719207763672, val_metric: 0.19067845294320607\n",
      "2024-11-13 13:26:30,123 - decision_learning.modeling.train - INFO - epoch: 57, train_loss: 4.281719207763672, val_metric: 0.19067845294320607\n",
      "100%|██████████| 1/1 [00:00<00:00, 328.63it/s]\n",
      "100%|██████████| 1/1 [00:00<00:00, 142.27it/s]\n",
      "2024-11-13 13:26:30,141 - decision_learning.modeling.train - INFO - epoch: 58, train_loss: 4.267337799072266, val_metric: 0.1841345614360884\n",
      "2024-11-13 13:26:30,141 - decision_learning.modeling.train - INFO - epoch: 58, train_loss: 4.267337799072266, val_metric: 0.1841345614360884\n",
      "100%|██████████| 1/1 [00:00<00:00, 330.68it/s]\n",
      "100%|██████████| 1/1 [00:00<00:00, 736.88it/s]\n",
      "2024-11-13 13:26:30,149 - decision_learning.modeling.train - INFO - epoch: 59, train_loss: 4.253131866455078, val_metric: 0.21358242790814816\n",
      "2024-11-13 13:26:30,149 - decision_learning.modeling.train - INFO - epoch: 59, train_loss: 4.253131866455078, val_metric: 0.21358242790814816\n",
      "100%|██████████| 1/1 [00:00<00:00, 339.89it/s]\n",
      "100%|██████████| 1/1 [00:00<00:00, 693.16it/s]\n",
      "2024-11-13 13:26:30,157 - decision_learning.modeling.train - INFO - epoch: 60, train_loss: 4.239334583282471, val_metric: 0.1996636003385504\n",
      "2024-11-13 13:26:30,157 - decision_learning.modeling.train - INFO - epoch: 60, train_loss: 4.239334583282471, val_metric: 0.1996636003385504\n",
      "100%|██████████| 1/1 [00:00<00:00, 331.99it/s]\n",
      "100%|██████████| 1/1 [00:00<00:00, 702.68it/s]\n",
      "2024-11-13 13:26:30,164 - decision_learning.modeling.train - INFO - epoch: 61, train_loss: 4.226022720336914, val_metric: 0.19730055069468877\n",
      "2024-11-13 13:26:30,164 - decision_learning.modeling.train - INFO - epoch: 61, train_loss: 4.226022720336914, val_metric: 0.19730055069468877\n",
      "100%|██████████| 1/1 [00:00<00:00, 340.50it/s]\n",
      "100%|██████████| 1/1 [00:00<00:00, 699.05it/s]\n",
      "2024-11-13 13:26:30,172 - decision_learning.modeling.train - INFO - epoch: 62, train_loss: 4.213245391845703, val_metric: 0.21220169521023627\n",
      "2024-11-13 13:26:30,172 - decision_learning.modeling.train - INFO - epoch: 62, train_loss: 4.213245391845703, val_metric: 0.21220169521023627\n",
      "100%|██████████| 1/1 [00:00<00:00, 331.25it/s]\n",
      "100%|██████████| 1/1 [00:00<00:00, 689.51it/s]\n",
      "2024-11-13 13:26:30,180 - decision_learning.modeling.train - INFO - epoch: 63, train_loss: 4.199904918670654, val_metric: 0.20419981835370982\n",
      "2024-11-13 13:26:30,180 - decision_learning.modeling.train - INFO - epoch: 63, train_loss: 4.199904918670654, val_metric: 0.20419981835370982\n",
      "100%|██████████| 1/1 [00:00<00:00, 342.48it/s]\n",
      "100%|██████████| 1/1 [00:00<00:00, 677.70it/s]\n",
      "2024-11-13 13:26:30,188 - decision_learning.modeling.train - INFO - epoch: 64, train_loss: 4.277698516845703, val_metric: 0.2063279817933061\n",
      "2024-11-13 13:26:30,188 - decision_learning.modeling.train - INFO - epoch: 64, train_loss: 4.277698516845703, val_metric: 0.2063279817933061\n",
      "100%|██████████| 1/1 [00:00<00:00, 333.44it/s]\n",
      "100%|██████████| 1/1 [00:00<00:00, 736.23it/s]\n",
      "2024-11-13 13:26:30,196 - decision_learning.modeling.train - INFO - epoch: 65, train_loss: 4.175304412841797, val_metric: 0.21530745414816713\n",
      "2024-11-13 13:26:30,196 - decision_learning.modeling.train - INFO - epoch: 65, train_loss: 4.175304412841797, val_metric: 0.21530745414816713\n",
      "100%|██████████| 1/1 [00:00<00:00, 340.89it/s]\n",
      "100%|██████████| 1/1 [00:00<00:00, 711.38it/s]\n",
      "2024-11-13 13:26:30,203 - decision_learning.modeling.train - INFO - epoch: 66, train_loss: 4.163363456726074, val_metric: 0.21722298963654116\n",
      "2024-11-13 13:26:30,203 - decision_learning.modeling.train - INFO - epoch: 66, train_loss: 4.163363456726074, val_metric: 0.21722298963654116\n",
      "100%|██████████| 1/1 [00:00<00:00, 335.54it/s]\n",
      "100%|██████████| 1/1 [00:00<00:00, 704.33it/s]\n",
      "2024-11-13 13:26:30,211 - decision_learning.modeling.train - INFO - epoch: 67, train_loss: 4.152102947235107, val_metric: 0.21645476591865975\n",
      "2024-11-13 13:26:30,211 - decision_learning.modeling.train - INFO - epoch: 67, train_loss: 4.152102947235107, val_metric: 0.21645476591865975\n",
      "100%|██████████| 1/1 [00:00<00:00, 330.47it/s]\n",
      "100%|██████████| 1/1 [00:00<00:00, 750.46it/s]\n",
      "2024-11-13 13:26:30,219 - decision_learning.modeling.train - INFO - epoch: 68, train_loss: 4.141634464263916, val_metric: 0.22186510297678427\n",
      "2024-11-13 13:26:30,219 - decision_learning.modeling.train - INFO - epoch: 68, train_loss: 4.141634464263916, val_metric: 0.22186510297678427\n",
      "100%|██████████| 1/1 [00:00<00:00, 333.78it/s]\n",
      "100%|██████████| 1/1 [00:00<00:00, 706.47it/s]\n",
      "2024-11-13 13:26:30,227 - decision_learning.modeling.train - INFO - epoch: 69, train_loss: 4.131416320800781, val_metric: 0.19591004948446958\n",
      "2024-11-13 13:26:30,227 - decision_learning.modeling.train - INFO - epoch: 69, train_loss: 4.131416320800781, val_metric: 0.19591004948446958\n",
      "100%|██████████| 1/1 [00:00<00:00, 328.94it/s]\n",
      "100%|██████████| 1/1 [00:00<00:00, 732.37it/s]\n",
      "2024-11-13 13:26:30,234 - decision_learning.modeling.train - INFO - epoch: 70, train_loss: 4.121616363525391, val_metric: 0.21169268594393792\n",
      "2024-11-13 13:26:30,234 - decision_learning.modeling.train - INFO - epoch: 70, train_loss: 4.121616363525391, val_metric: 0.21169268594393792\n",
      "100%|██████████| 1/1 [00:00<00:00, 343.29it/s]\n",
      "100%|██████████| 1/1 [00:00<00:00, 689.17it/s]\n",
      "2024-11-13 13:26:30,242 - decision_learning.modeling.train - INFO - epoch: 71, train_loss: 4.168959140777588, val_metric: 0.22064952791195372\n",
      "2024-11-13 13:26:30,242 - decision_learning.modeling.train - INFO - epoch: 71, train_loss: 4.168959140777588, val_metric: 0.22064952791195372\n",
      "100%|██████████| 1/1 [00:00<00:00, 331.75it/s]\n",
      "100%|██████████| 1/1 [00:00<00:00, 708.50it/s]\n",
      "2024-11-13 13:26:30,250 - decision_learning.modeling.train - INFO - epoch: 72, train_loss: 4.102147102355957, val_metric: 0.203772469198628\n",
      "2024-11-13 13:26:30,250 - decision_learning.modeling.train - INFO - epoch: 72, train_loss: 4.102147102355957, val_metric: 0.203772469198628\n",
      "100%|██████████| 1/1 [00:00<00:00, 334.79it/s]\n",
      "100%|██████████| 1/1 [00:00<00:00, 698.70it/s]\n",
      "2024-11-13 13:26:30,257 - decision_learning.modeling.train - INFO - epoch: 73, train_loss: 4.092949867248535, val_metric: 0.2094837462109053\n",
      "2024-11-13 13:26:30,257 - decision_learning.modeling.train - INFO - epoch: 73, train_loss: 4.092949867248535, val_metric: 0.2094837462109053\n",
      "100%|██████████| 1/1 [00:00<00:00, 332.51it/s]\n",
      "100%|██████████| 1/1 [00:00<00:00, 698.12it/s]\n",
      "2024-11-13 13:26:30,265 - decision_learning.modeling.train - INFO - epoch: 74, train_loss: 4.083996295928955, val_metric: 0.2184458213105143\n",
      "2024-11-13 13:26:30,265 - decision_learning.modeling.train - INFO - epoch: 74, train_loss: 4.083996295928955, val_metric: 0.2184458213105143\n",
      "100%|██████████| 1/1 [00:00<00:00, 336.06it/s]\n",
      "100%|██████████| 1/1 [00:00<00:00, 704.81it/s]\n",
      "2024-11-13 13:26:30,273 - decision_learning.modeling.train - INFO - epoch: 75, train_loss: 4.075228691101074, val_metric: 0.2078101674690381\n",
      "2024-11-13 13:26:30,273 - decision_learning.modeling.train - INFO - epoch: 75, train_loss: 4.075228691101074, val_metric: 0.2078101674690381\n",
      "100%|██████████| 1/1 [00:00<00:00, 332.75it/s]\n",
      "100%|██████████| 1/1 [00:00<00:00, 689.63it/s]\n",
      "2024-11-13 13:26:30,281 - decision_learning.modeling.train - INFO - epoch: 76, train_loss: 4.067045211791992, val_metric: 0.2365382225050442\n",
      "2024-11-13 13:26:30,281 - decision_learning.modeling.train - INFO - epoch: 76, train_loss: 4.067045211791992, val_metric: 0.2365382225050442\n",
      "100%|██████████| 1/1 [00:00<00:00, 336.16it/s]\n",
      "100%|██████████| 1/1 [00:00<00:00, 726.66it/s]\n",
      "2024-11-13 13:26:30,289 - decision_learning.modeling.train - INFO - epoch: 77, train_loss: 4.05917501449585, val_metric: 0.22512773957069787\n",
      "2024-11-13 13:26:30,289 - decision_learning.modeling.train - INFO - epoch: 77, train_loss: 4.05917501449585, val_metric: 0.22512773957069787\n",
      "100%|██████████| 1/1 [00:00<00:00, 332.59it/s]\n",
      "100%|██████████| 1/1 [00:00<00:00, 725.53it/s]\n",
      "2024-11-13 13:26:30,300 - decision_learning.modeling.train - INFO - epoch: 78, train_loss: 4.051389694213867, val_metric: 0.18810972959855046\n",
      "2024-11-13 13:26:30,300 - decision_learning.modeling.train - INFO - epoch: 78, train_loss: 4.051389694213867, val_metric: 0.18810972959855046\n",
      "100%|██████████| 1/1 [00:00<00:00, 331.30it/s]\n",
      "100%|██████████| 1/1 [00:00<00:00, 753.02it/s]\n",
      "2024-11-13 13:26:30,308 - decision_learning.modeling.train - INFO - epoch: 79, train_loss: 4.1428961753845215, val_metric: 0.19828826358077017\n",
      "2024-11-13 13:26:30,308 - decision_learning.modeling.train - INFO - epoch: 79, train_loss: 4.1428961753845215, val_metric: 0.19828826358077017\n",
      "100%|██████████| 1/1 [00:00<00:00, 332.75it/s]\n",
      "100%|██████████| 1/1 [00:00<00:00, 696.96it/s]\n",
      "2024-11-13 13:26:30,316 - decision_learning.modeling.train - INFO - epoch: 80, train_loss: 4.036497592926025, val_metric: 0.1918971329994486\n",
      "2024-11-13 13:26:30,316 - decision_learning.modeling.train - INFO - epoch: 80, train_loss: 4.036497592926025, val_metric: 0.1918971329994486\n",
      "100%|██████████| 1/1 [00:00<00:00, 332.80it/s]\n",
      "100%|██████████| 1/1 [00:00<00:00, 748.31it/s]\n",
      "2024-11-13 13:26:30,324 - decision_learning.modeling.train - INFO - epoch: 81, train_loss: 4.029292106628418, val_metric: 0.19483089634568304\n",
      "2024-11-13 13:26:30,324 - decision_learning.modeling.train - INFO - epoch: 81, train_loss: 4.029292106628418, val_metric: 0.19483089634568304\n",
      "100%|██████████| 1/1 [00:00<00:00, 344.42it/s]\n",
      "100%|██████████| 1/1 [00:00<00:00, 729.57it/s]\n",
      "2024-11-13 13:26:30,331 - decision_learning.modeling.train - INFO - epoch: 82, train_loss: 4.022800445556641, val_metric: 0.202445160959692\n",
      "2024-11-13 13:26:30,331 - decision_learning.modeling.train - INFO - epoch: 82, train_loss: 4.022800445556641, val_metric: 0.202445160959692\n",
      "100%|██████████| 1/1 [00:00<00:00, 334.13it/s]\n",
      "100%|██████████| 1/1 [00:00<00:00, 707.42it/s]\n",
      "2024-11-13 13:26:30,339 - decision_learning.modeling.train - INFO - epoch: 83, train_loss: 4.016511917114258, val_metric: 0.22643078933740404\n",
      "2024-11-13 13:26:30,339 - decision_learning.modeling.train - INFO - epoch: 83, train_loss: 4.016511917114258, val_metric: 0.22643078933740404\n",
      "100%|██████████| 1/1 [00:00<00:00, 333.60it/s]\n",
      "100%|██████████| 1/1 [00:00<00:00, 701.98it/s]\n",
      "2024-11-13 13:26:30,347 - decision_learning.modeling.train - INFO - epoch: 84, train_loss: 4.128274440765381, val_metric: 0.20720024016726027\n",
      "2024-11-13 13:26:30,347 - decision_learning.modeling.train - INFO - epoch: 84, train_loss: 4.128274440765381, val_metric: 0.20720024016726027\n",
      "100%|██████████| 1/1 [00:00<00:00, 338.88it/s]\n",
      "100%|██████████| 1/1 [00:00<00:00, 687.70it/s]\n",
      "2024-11-13 13:26:30,356 - decision_learning.modeling.train - INFO - epoch: 85, train_loss: 4.005496025085449, val_metric: 0.18518392061233768\n",
      "2024-11-13 13:26:30,356 - decision_learning.modeling.train - INFO - epoch: 85, train_loss: 4.005496025085449, val_metric: 0.18518392061233768\n",
      "100%|██████████| 1/1 [00:00<00:00, 331.25it/s]\n",
      "100%|██████████| 1/1 [00:00<00:00, 706.94it/s]\n",
      "2024-11-13 13:26:30,364 - decision_learning.modeling.train - INFO - epoch: 86, train_loss: 3.999720573425293, val_metric: 0.1760875749852286\n",
      "2024-11-13 13:26:30,364 - decision_learning.modeling.train - INFO - epoch: 86, train_loss: 3.999720573425293, val_metric: 0.1760875749852286\n",
      "100%|██████████| 1/1 [00:00<00:00, 337.05it/s]\n",
      "100%|██████████| 1/1 [00:00<00:00, 714.78it/s]\n",
      "2024-11-13 13:26:30,372 - decision_learning.modeling.train - INFO - epoch: 87, train_loss: 3.993868827819824, val_metric: 0.21437618930820435\n",
      "2024-11-13 13:26:30,372 - decision_learning.modeling.train - INFO - epoch: 87, train_loss: 3.993868827819824, val_metric: 0.21437618930820435\n",
      "100%|██████████| 1/1 [00:00<00:00, 331.25it/s]\n",
      "100%|██████████| 1/1 [00:00<00:00, 656.39it/s]\n",
      "2024-11-13 13:26:30,380 - decision_learning.modeling.train - INFO - epoch: 88, train_loss: 3.9874680042266846, val_metric: 0.21206384289489014\n",
      "2024-11-13 13:26:30,380 - decision_learning.modeling.train - INFO - epoch: 88, train_loss: 3.9874680042266846, val_metric: 0.21206384289489014\n",
      "100%|██████████| 1/1 [00:00<00:00, 336.76it/s]\n",
      "100%|██████████| 1/1 [00:00<00:00, 702.09it/s]\n",
      "2024-11-13 13:26:30,388 - decision_learning.modeling.train - INFO - epoch: 89, train_loss: 3.982210636138916, val_metric: 0.20090208489057784\n",
      "2024-11-13 13:26:30,388 - decision_learning.modeling.train - INFO - epoch: 89, train_loss: 3.982210636138916, val_metric: 0.20090208489057784\n",
      "100%|██████████| 1/1 [00:00<00:00, 330.21it/s]\n",
      "100%|██████████| 1/1 [00:00<00:00, 710.06it/s]\n",
      "2024-11-13 13:26:30,396 - decision_learning.modeling.train - INFO - epoch: 90, train_loss: 3.9770874977111816, val_metric: 0.2011243418039316\n",
      "2024-11-13 13:26:30,396 - decision_learning.modeling.train - INFO - epoch: 90, train_loss: 3.9770874977111816, val_metric: 0.2011243418039316\n",
      "100%|██████████| 1/1 [00:00<00:00, 336.51it/s]\n",
      "100%|██████████| 1/1 [00:00<00:00, 680.45it/s]\n",
      "2024-11-13 13:26:30,404 - decision_learning.modeling.train - INFO - epoch: 91, train_loss: 3.9713919162750244, val_metric: 0.20704629306496972\n",
      "2024-11-13 13:26:30,404 - decision_learning.modeling.train - INFO - epoch: 91, train_loss: 3.9713919162750244, val_metric: 0.20704629306496972\n",
      "100%|██████████| 1/1 [00:00<00:00, 325.97it/s]\n",
      "100%|██████████| 1/1 [00:00<00:00, 735.84it/s]\n",
      "2024-11-13 13:26:30,413 - decision_learning.modeling.train - INFO - epoch: 92, train_loss: 3.9660332202911377, val_metric: 0.18387552142222513\n",
      "2024-11-13 13:26:30,413 - decision_learning.modeling.train - INFO - epoch: 92, train_loss: 3.9660332202911377, val_metric: 0.18387552142222513\n",
      "100%|██████████| 1/1 [00:00<00:00, 333.28it/s]\n",
      "100%|██████████| 1/1 [00:00<00:00, 740.91it/s]\n",
      "2024-11-13 13:26:30,421 - decision_learning.modeling.train - INFO - epoch: 93, train_loss: 3.9615273475646973, val_metric: 0.21757870303470278\n",
      "2024-11-13 13:26:30,421 - decision_learning.modeling.train - INFO - epoch: 93, train_loss: 3.9615273475646973, val_metric: 0.21757870303470278\n",
      "100%|██████████| 1/1 [00:00<00:00, 333.54it/s]\n",
      "100%|██████████| 1/1 [00:00<00:00, 696.61it/s]\n",
      "2024-11-13 13:26:30,429 - decision_learning.modeling.train - INFO - epoch: 94, train_loss: 4.012579441070557, val_metric: 0.21634607959005972\n",
      "2024-11-13 13:26:30,429 - decision_learning.modeling.train - INFO - epoch: 94, train_loss: 4.012579441070557, val_metric: 0.21634607959005972\n",
      "100%|██████████| 1/1 [00:00<00:00, 326.51it/s]\n",
      "100%|██████████| 1/1 [00:00<00:00, 702.92it/s]\n",
      "2024-11-13 13:26:30,436 - decision_learning.modeling.train - INFO - epoch: 95, train_loss: 3.9514989852905273, val_metric: 0.20780407377802737\n",
      "2024-11-13 13:26:30,436 - decision_learning.modeling.train - INFO - epoch: 95, train_loss: 3.9514989852905273, val_metric: 0.20780407377802737\n",
      "100%|██████████| 1/1 [00:00<00:00, 341.17it/s]\n",
      "100%|██████████| 1/1 [00:00<00:00, 739.34it/s]\n",
      "2024-11-13 13:26:30,444 - decision_learning.modeling.train - INFO - epoch: 96, train_loss: 3.9461300373077393, val_metric: 0.20491538513858232\n",
      "2024-11-13 13:26:30,444 - decision_learning.modeling.train - INFO - epoch: 96, train_loss: 3.9461300373077393, val_metric: 0.20491538513858232\n",
      "100%|██████████| 1/1 [00:00<00:00, 341.64it/s]\n",
      "100%|██████████| 1/1 [00:00<00:00, 708.38it/s]\n",
      "2024-11-13 13:26:30,452 - decision_learning.modeling.train - INFO - epoch: 97, train_loss: 3.9415547847747803, val_metric: 0.2016060690108574\n",
      "2024-11-13 13:26:30,452 - decision_learning.modeling.train - INFO - epoch: 97, train_loss: 3.9415547847747803, val_metric: 0.2016060690108574\n",
      "100%|██████████| 1/1 [00:00<00:00, 332.51it/s]\n",
      "100%|██████████| 1/1 [00:00<00:00, 681.23it/s]\n",
      "2024-11-13 13:26:30,460 - decision_learning.modeling.train - INFO - epoch: 98, train_loss: 3.937685966491699, val_metric: 0.18922550302930807\n",
      "2024-11-13 13:26:30,460 - decision_learning.modeling.train - INFO - epoch: 98, train_loss: 3.937685966491699, val_metric: 0.18922550302930807\n",
      "100%|██████████| 1/1 [00:00<00:00, 337.49it/s]\n",
      "100%|██████████| 1/1 [00:00<00:00, 665.45it/s]\n",
      "2024-11-13 13:26:30,468 - decision_learning.modeling.train - INFO - epoch: 99, train_loss: 3.932981252670288, val_metric: 0.21929103020872226\n",
      "2024-11-13 13:26:30,468 - decision_learning.modeling.train - INFO - epoch: 99, train_loss: 3.932981252670288, val_metric: 0.21929103020872226\n"
     ]
    }
   ],
   "source": [
    "# Deep copy the model\n",
    "model_2 = LinearRegression(input_dim=train_dict_old['X'].shape[1],\n",
    "                 output_dim=train_dict_old['true_cost'].shape[1])\n",
    "print(model_2.linear.weight[0])\n",
    "# optimization solver\n",
    "optmodel_2 = partial(shortest_path_solver,size=5)\n",
    "\n",
    "# loss function\n",
    "loss_fn_2 = SPOPlus(optmodel=optmodel)\n",
    "\n",
    "metrics_2, trained_model_2 = train(pred_model=model_2,\n",
    "                optmodel=optmodel_2,\n",
    "                loss_fn=loss_fn_2,\n",
    "                train_data_dict=train_dict_old,\n",
    "                val_data_dict=val_dict_old,\n",
    "                dataloader_params={'batch_size':200, 'shuffle':True},\n",
    "                num_epochs=100,\n",
    "                lr=0.01,\n",
    "                scheduler_params=None, #{'step_size': 10, 'gamma': 0.1},\n",
    "                minimization=True)"
   ]
  },
  {
   "cell_type": "code",
   "execution_count": 216,
   "id": "902e305f-73f1-42d2-8eb2-e31585f45b04",
   "metadata": {},
   "outputs": [
    {
     "name": "stdout",
     "output_type": "stream",
     "text": [
      "0.07610093450950099\n"
     ]
    }
   ],
   "source": [
    "test_regret = calc_test_regret(pred_model=trained_model_2,\n",
    "                               test_data_dict=final_data_te, #final_data_te,\n",
    "                               optmodel=optmodel)\n",
    "print(test_regret)"
   ]
  },
  {
   "cell_type": "code",
   "execution_count": null,
   "id": "19f0c60a-1f96-4df1-939a-c524467d30c6",
   "metadata": {},
   "outputs": [],
   "source": []
  },
  {
   "cell_type": "code",
   "execution_count": 40,
   "id": "edab2f8c-2b22-4cc2-b59c-2d2ee17f9a81",
   "metadata": {},
   "outputs": [
    {
     "data": {
      "text/plain": [
       "torch.Size([200, 40])"
      ]
     },
     "execution_count": 40,
     "metadata": {},
     "output_type": "execute_result"
    }
   ],
   "source": [
    "c_train.shape"
   ]
  },
  {
   "cell_type": "code",
   "execution_count": 22,
   "id": "2871f165-50f5-425a-8710-a190c52081b3",
   "metadata": {},
   "outputs": [
    {
     "data": {
      "text/plain": [
       "torch.Size([400, 7])"
      ]
     },
     "execution_count": 22,
     "metadata": {},
     "output_type": "execute_result"
    }
   ],
   "source": [
    "feat.shape"
   ]
  },
  {
   "cell_type": "code",
   "execution_count": 439,
   "id": "351293d8-df21-4975-8124-c8ca6f2ddf00",
   "metadata": {},
   "outputs": [
    {
     "name": "stderr",
     "output_type": "stream",
     "text": [
      "2024-11-13 16:25:28,526 - decision_learning.data.shortest_path_grid - DEBUG - good_bad_edges: [ 1  4  9 16 24 31 36 39  0  3  8 15 23 30 35 38], remain_edges: [ 2  5  6  7 10 11 12 13 14 17 18 19 20 21 22 25 26 27 28 29 32 33 34 37]\n",
      "2024-11-13 16:25:28,526 - decision_learning.data.shortest_path_grid - DEBUG - good_bad_edges: [ 1  4  9 16 24 31 36 39  0  3  8 15 23 30 35 38], remain_edges: [ 2  5  6  7 10 11 12 13 14 17 18 19 20 21 22 25 26 27 28 29 32 33 34 37]\n",
      "2024-11-13 16:25:28,527 - decision_learning.data.shortest_path_grid - DEBUG - chg_pt: 0.0\n",
      "2024-11-13 16:25:28,527 - decision_learning.data.shortest_path_grid - DEBUG - chg_pt: 0.0\n",
      "2024-11-13 16:25:28,528 - decision_learning.data.shortest_path_grid - DEBUG - chg_pt: 0.55\n",
      "2024-11-13 16:25:28,528 - decision_learning.data.shortest_path_grid - DEBUG - chg_pt: 0.55\n",
      "2024-11-13 16:25:28,554 - decision_learning.data.shortest_path_grid - DEBUG - good_bad_edges: [ 1  4  9 16 24 31 36 39  0  3  8 15 23 30 35 38], remain_edges: [ 2  5  6  7 10 11 12 13 14 17 18 19 20 21 22 25 26 27 28 29 32 33 34 37]\n",
      "2024-11-13 16:25:28,554 - decision_learning.data.shortest_path_grid - DEBUG - good_bad_edges: [ 1  4  9 16 24 31 36 39  0  3  8 15 23 30 35 38], remain_edges: [ 2  5  6  7 10 11 12 13 14 17 18 19 20 21 22 25 26 27 28 29 32 33 34 37]\n",
      "2024-11-13 16:25:28,555 - decision_learning.data.shortest_path_grid - DEBUG - chg_pt: 0.0\n",
      "2024-11-13 16:25:28,555 - decision_learning.data.shortest_path_grid - DEBUG - chg_pt: 0.0\n",
      "2024-11-13 16:25:28,556 - decision_learning.data.shortest_path_grid - DEBUG - chg_pt: 0.55\n",
      "2024-11-13 16:25:28,556 - decision_learning.data.shortest_path_grid - DEBUG - chg_pt: 0.55\n"
     ]
    }
   ],
   "source": [
    "generated_data = genData(num_data=num_data+200,\n",
    "        num_features=num_feat, \n",
    "        grid=grid, \n",
    "        deg=deg, \n",
    "        noise_type=ep_type,\n",
    "        noise_width=e,\n",
    "        seed=indices_arr[trial],     \n",
    "        plant_edges=plant_edge,\n",
    "        planted_good_pwl_params=planted_good_pwl_params,\n",
    "        planted_bad_pwl_params=planted_bad_pwl_params)\n",
    "sol, obj = shortest_path_solver(costs=generated_data['cost'], size=5)\n",
    "final_data = {'X':generated_data['feat'],\n",
    "              'true_cost':generated_data['cost'],\n",
    "              'true_sol':sol,\n",
    "              'true_obj':obj}\n",
    "\n",
    "# 1. Data - features, costs\n",
    "# 2. Prediction model/plugin\n",
    "# 3. solver/optimization\n",
    "# 4. loss function (optional - try out everything)\n",
    "\n",
    "# def aggregateData(X, y, loss_fn, solver):\n",
    "\n",
    "#     if loss_fn...\n",
    "#         sol, obj = solver(costs=y)\n",
    "#         final_data = {'X':X,\n",
    "#                       'true_cost':y,\n",
    "#                       'true_sol':sol,\n",
    "#                       'true_obj':obj}\n",
    "\n",
    "\n",
    "# custom user - unique loss function\n",
    "# TODO: how to combine it with the pipeline?\n",
    "# 1. Single pipeline\n",
    "# 2. data first, then losses\n",
    "\n",
    "# experiment code loop - call the pipeline, custom behavior..\n",
    "# single pipeline\n",
    "\n",
    "# custom behavior - pipeline\n",
    "\n",
    "\n",
    "# test data\n",
    "generated_data_test = genData(num_data=10000,\n",
    "        num_features=num_feat, \n",
    "        grid=grid, \n",
    "        deg=deg, \n",
    "        noise_type=ep_type,\n",
    "        noise_width=e,\n",
    "        seed=indices_arr[trial],     \n",
    "        plant_edges=plant_edge,\n",
    "        planted_good_pwl_params=planted_good_pwl_params,\n",
    "        planted_bad_pwl_params=planted_bad_pwl_params)\n",
    "sol_test, obj_test = shortest_path_solver(costs=generated_data_test['cost_true'], size=5)\n",
    "final_data_test = {'X':generated_data_test['feat'],\n",
    "              'true_cost':generated_data_test['cost_true'],\n",
    "              'true_sol':sol_test,\n",
    "              'true_obj':obj_test}"
   ]
  },
  {
   "cell_type": "code",
   "execution_count": null,
   "id": "33a8e993-60c9-4a16-a4fe-897652039194",
   "metadata": {},
   "outputs": [],
   "source": []
  },
  {
   "cell_type": "markdown",
   "id": "94b010db-6e8e-4aaa-b24c-8cd671aa1959",
   "metadata": {},
   "source": [
    "Split data into train and validation set"
   ]
  },
  {
   "cell_type": "code",
   "execution_count": 440,
   "id": "49e9ab58-626b-4414-9d8c-1aed89e10125",
   "metadata": {},
   "outputs": [
    {
     "name": "stdout",
     "output_type": "stream",
     "text": [
      "X: True, True\n",
      "true_cost: True, True\n",
      "true_sol: True, True\n",
      "true_obj: True, True\n"
     ]
    }
   ],
   "source": [
    "# Splitting each input in the same way\n",
    "train_dict = {}\n",
    "val_dict = {}\n",
    "\n",
    "for key, value in final_data.items():\n",
    "    train_data, val_data = train_test_split(value, test_size=200, random_state=42)\n",
    "    train_dict[key] = train_data\n",
    "    val_dict[key] = val_data\n",
    "\n",
    "\n",
    "# double checking the splitting is done correctly\n",
    "# Splitting indices\n",
    "indices = np.arange(len(next(iter(final_data.values()))))\n",
    "train_indices, val_indices = train_test_split(indices, test_size=200, random_state=42)\n",
    "\n",
    "for key in final_data.keys():\n",
    "    train_same = (final_data[key][train_indices] == train_dict[key]).all()\n",
    "    val_same = (final_data[key][val_indices] == val_dict[key]).all()\n",
    "    print(f'{key}: {train_same}, {val_same}')"
   ]
  },
  {
   "cell_type": "markdown",
   "id": "62997e0c-3f37-4835-a7c4-87e37e77df31",
   "metadata": {},
   "source": [
    "# Training Loop"
   ]
  },
  {
   "cell_type": "markdown",
   "id": "2dcd4986-6c9c-4e3f-b0bf-9eefc2f996e5",
   "metadata": {},
   "source": [
    "Initialize Inputs to Trainining Loop"
   ]
  },
  {
   "cell_type": "code",
   "execution_count": 441,
   "id": "e274229f-11c0-4bb7-bc94-1b1b89434653",
   "metadata": {},
   "outputs": [],
   "source": [
    "# Prediction Model\n",
    "pred_model = LinearRegression(input_dim=train_dict['X'].shape[1],\n",
    "                 output_dim=train_dict['true_cost'].shape[1])\n",
    "\n",
    "# optimization solver\n",
    "optmodel = partial(shortest_path_solver,size=5)\n",
    "\n",
    "# loss function\n",
    "loss_fn = SPOPlus(optmodel=optmodel)\n",
    "\n",
    "# training, validation data\n",
    "train_data_dict = train_dict\n",
    "val_data_dict = val_dict"
   ]
  },
  {
   "cell_type": "code",
   "execution_count": 442,
   "id": "d3bb225b-680d-41b1-a2c4-f35a98a6bd7a",
   "metadata": {
    "scrolled": true
   },
   "outputs": [
    {
     "name": "stderr",
     "output_type": "stream",
     "text": [
      "100%|██████████| 1/1 [00:00<00:00, 256.11it/s]\n",
      "100%|██████████| 1/1 [00:00<00:00, 673.24it/s]\n",
      "2024-11-13 16:25:40,572 - decision_learning.modeling.train - INFO - epoch: 0, train_loss: 14.039381980895996, val_metric: 0.364844584815951\n",
      "2024-11-13 16:25:40,572 - decision_learning.modeling.train - INFO - epoch: 0, train_loss: 14.039381980895996, val_metric: 0.364844584815951\n",
      "100%|██████████| 1/1 [00:00<00:00, 328.06it/s]\n",
      "100%|██████████| 1/1 [00:00<00:00, 235.64it/s]\n",
      "2024-11-13 16:25:40,582 - decision_learning.modeling.train - INFO - epoch: 1, train_loss: 13.375387191772461, val_metric: 0.35583657445013506\n",
      "2024-11-13 16:25:40,582 - decision_learning.modeling.train - INFO - epoch: 1, train_loss: 13.375387191772461, val_metric: 0.35583657445013506\n",
      "100%|██████████| 1/1 [00:00<00:00, 330.13it/s]\n",
      "100%|██████████| 1/1 [00:00<00:00, 729.82it/s]\n",
      "2024-11-13 16:25:40,590 - decision_learning.modeling.train - INFO - epoch: 2, train_loss: 12.743906021118164, val_metric: 0.3256780603369004\n",
      "2024-11-13 16:25:40,590 - decision_learning.modeling.train - INFO - epoch: 2, train_loss: 12.743906021118164, val_metric: 0.3256780603369004\n",
      "100%|██████████| 1/1 [00:00<00:00, 331.85it/s]\n",
      "100%|██████████| 1/1 [00:00<00:00, 706.83it/s]\n",
      "2024-11-13 16:25:40,598 - decision_learning.modeling.train - INFO - epoch: 3, train_loss: 12.143230438232422, val_metric: 0.3132593506406273\n",
      "2024-11-13 16:25:40,598 - decision_learning.modeling.train - INFO - epoch: 3, train_loss: 12.143230438232422, val_metric: 0.3132593506406273\n",
      "100%|██████████| 1/1 [00:00<00:00, 333.62it/s]\n",
      "100%|██████████| 1/1 [00:00<00:00, 705.28it/s]\n",
      "2024-11-13 16:25:40,605 - decision_learning.modeling.train - INFO - epoch: 4, train_loss: 11.577140808105469, val_metric: 0.31253699241386496\n",
      "2024-11-13 16:25:40,605 - decision_learning.modeling.train - INFO - epoch: 4, train_loss: 11.577140808105469, val_metric: 0.31253699241386496\n",
      "100%|██████████| 1/1 [00:00<00:00, 336.76it/s]\n",
      "100%|██████████| 1/1 [00:00<00:00, 661.56it/s]\n",
      "2024-11-13 16:25:40,613 - decision_learning.modeling.train - INFO - epoch: 5, train_loss: 11.043719291687012, val_metric: 0.2844339593569878\n",
      "2024-11-13 16:25:40,613 - decision_learning.modeling.train - INFO - epoch: 5, train_loss: 11.043719291687012, val_metric: 0.2844339593569878\n",
      "100%|██████████| 1/1 [00:00<00:00, 335.97it/s]\n",
      "100%|██████████| 1/1 [00:00<00:00, 729.70it/s]\n",
      "2024-11-13 16:25:40,621 - decision_learning.modeling.train - INFO - epoch: 6, train_loss: 10.54361343383789, val_metric: 0.28330853370573605\n",
      "2024-11-13 16:25:40,621 - decision_learning.modeling.train - INFO - epoch: 6, train_loss: 10.54361343383789, val_metric: 0.28330853370573605\n",
      "100%|██████████| 1/1 [00:00<00:00, 344.05it/s]\n",
      "100%|██████████| 1/1 [00:00<00:00, 683.56it/s]\n",
      "2024-11-13 16:25:40,628 - decision_learning.modeling.train - INFO - epoch: 7, train_loss: 10.073062896728516, val_metric: 0.25468223400626433\n",
      "2024-11-13 16:25:40,628 - decision_learning.modeling.train - INFO - epoch: 7, train_loss: 10.073062896728516, val_metric: 0.25468223400626433\n",
      "100%|██████████| 1/1 [00:00<00:00, 335.57it/s]\n",
      "100%|██████████| 1/1 [00:00<00:00, 698.82it/s]\n",
      "2024-11-13 16:25:40,636 - decision_learning.modeling.train - INFO - epoch: 8, train_loss: 9.632915496826172, val_metric: 0.23331942792470026\n",
      "2024-11-13 16:25:40,636 - decision_learning.modeling.train - INFO - epoch: 8, train_loss: 9.632915496826172, val_metric: 0.23331942792470026\n",
      "100%|██████████| 1/1 [00:00<00:00, 337.11it/s]\n",
      "100%|██████████| 1/1 [00:00<00:00, 714.90it/s]\n",
      "2024-11-13 16:25:40,644 - decision_learning.modeling.train - INFO - epoch: 9, train_loss: 9.216638565063477, val_metric: 0.2210805053716068\n",
      "2024-11-13 16:25:40,644 - decision_learning.modeling.train - INFO - epoch: 9, train_loss: 9.216638565063477, val_metric: 0.2210805053716068\n",
      "100%|██████████| 1/1 [00:00<00:00, 335.09it/s]\n",
      "100%|██████████| 1/1 [00:00<00:00, 676.50it/s]\n",
      "2024-11-13 16:25:40,655 - decision_learning.modeling.train - INFO - epoch: 10, train_loss: 8.824809074401855, val_metric: 0.22221186190533085\n",
      "2024-11-13 16:25:40,655 - decision_learning.modeling.train - INFO - epoch: 10, train_loss: 8.824809074401855, val_metric: 0.22221186190533085\n",
      "100%|██████████| 1/1 [00:00<00:00, 337.62it/s]\n",
      "100%|██████████| 1/1 [00:00<00:00, 700.57it/s]\n",
      "2024-11-13 16:25:40,663 - decision_learning.modeling.train - INFO - epoch: 11, train_loss: 8.44163703918457, val_metric: 0.21795630255210527\n",
      "2024-11-13 16:25:40,663 - decision_learning.modeling.train - INFO - epoch: 11, train_loss: 8.44163703918457, val_metric: 0.21795630255210527\n",
      "100%|██████████| 1/1 [00:00<00:00, 336.30it/s]\n",
      "100%|██████████| 1/1 [00:00<00:00, 702.56it/s]\n",
      "2024-11-13 16:25:40,671 - decision_learning.modeling.train - INFO - epoch: 12, train_loss: 8.071209907531738, val_metric: 0.2122555848364649\n",
      "2024-11-13 16:25:40,671 - decision_learning.modeling.train - INFO - epoch: 12, train_loss: 8.071209907531738, val_metric: 0.2122555848364649\n",
      "100%|██████████| 1/1 [00:00<00:00, 335.09it/s]\n",
      "100%|██████████| 1/1 [00:00<00:00, 720.55it/s]\n",
      "2024-11-13 16:25:40,679 - decision_learning.modeling.train - INFO - epoch: 13, train_loss: 7.721306800842285, val_metric: 0.20086773228896382\n",
      "2024-11-13 16:25:40,679 - decision_learning.modeling.train - INFO - epoch: 13, train_loss: 7.721306800842285, val_metric: 0.20086773228896382\n",
      "100%|██████████| 1/1 [00:00<00:00, 335.41it/s]\n",
      "100%|██████████| 1/1 [00:00<00:00, 721.29it/s]\n",
      "2024-11-13 16:25:40,687 - decision_learning.modeling.train - INFO - epoch: 14, train_loss: 7.3988566398620605, val_metric: 0.20229263261752228\n",
      "2024-11-13 16:25:40,687 - decision_learning.modeling.train - INFO - epoch: 14, train_loss: 7.3988566398620605, val_metric: 0.20229263261752228\n",
      "100%|██████████| 1/1 [00:00<00:00, 337.41it/s]\n",
      "100%|██████████| 1/1 [00:00<00:00, 707.18it/s]\n",
      "2024-11-13 16:25:40,695 - decision_learning.modeling.train - INFO - epoch: 15, train_loss: 7.105904579162598, val_metric: 0.19817120424162102\n",
      "2024-11-13 16:25:40,695 - decision_learning.modeling.train - INFO - epoch: 15, train_loss: 7.105904579162598, val_metric: 0.19817120424162102\n",
      "100%|██████████| 1/1 [00:00<00:00, 336.70it/s]\n",
      "100%|██████████| 1/1 [00:00<00:00, 703.15it/s]\n",
      "2024-11-13 16:25:40,703 - decision_learning.modeling.train - INFO - epoch: 16, train_loss: 6.842329025268555, val_metric: 0.2132597646432929\n",
      "2024-11-13 16:25:40,703 - decision_learning.modeling.train - INFO - epoch: 16, train_loss: 6.842329025268555, val_metric: 0.2132597646432929\n",
      "100%|██████████| 1/1 [00:00<00:00, 337.76it/s]\n",
      "100%|██████████| 1/1 [00:00<00:00, 709.70it/s]\n",
      "2024-11-13 16:25:40,711 - decision_learning.modeling.train - INFO - epoch: 17, train_loss: 6.6002326011657715, val_metric: 0.2029771262299125\n",
      "2024-11-13 16:25:40,711 - decision_learning.modeling.train - INFO - epoch: 17, train_loss: 6.6002326011657715, val_metric: 0.2029771262299125\n",
      "100%|██████████| 1/1 [00:00<00:00, 336.62it/s]\n",
      "100%|██████████| 1/1 [00:00<00:00, 700.80it/s]\n",
      "2024-11-13 16:25:40,719 - decision_learning.modeling.train - INFO - epoch: 18, train_loss: 6.382343292236328, val_metric: 0.21563442021011012\n",
      "2024-11-13 16:25:40,719 - decision_learning.modeling.train - INFO - epoch: 18, train_loss: 6.382343292236328, val_metric: 0.21563442021011012\n",
      "100%|██████████| 1/1 [00:00<00:00, 336.27it/s]\n",
      "100%|██████████| 1/1 [00:00<00:00, 705.16it/s]\n",
      "2024-11-13 16:25:40,727 - decision_learning.modeling.train - INFO - epoch: 19, train_loss: 6.187046527862549, val_metric: 0.22677712961542318\n",
      "2024-11-13 16:25:40,727 - decision_learning.modeling.train - INFO - epoch: 19, train_loss: 6.187046527862549, val_metric: 0.22677712961542318\n",
      "100%|██████████| 1/1 [00:00<00:00, 329.77it/s]\n",
      "100%|██████████| 1/1 [00:00<00:00, 708.50it/s]\n",
      "2024-11-13 16:25:40,735 - decision_learning.modeling.train - INFO - epoch: 20, train_loss: 6.006036281585693, val_metric: 0.21949212201207688\n",
      "2024-11-13 16:25:40,735 - decision_learning.modeling.train - INFO - epoch: 20, train_loss: 6.006036281585693, val_metric: 0.21949212201207688\n",
      "100%|██████████| 1/1 [00:00<00:00, 336.76it/s]\n",
      "100%|██████████| 1/1 [00:00<00:00, 715.02it/s]\n",
      "2024-11-13 16:25:40,742 - decision_learning.modeling.train - INFO - epoch: 21, train_loss: 5.847681045532227, val_metric: 0.21968256148534399\n",
      "2024-11-13 16:25:40,742 - decision_learning.modeling.train - INFO - epoch: 21, train_loss: 5.847681045532227, val_metric: 0.21968256148534399\n",
      "100%|██████████| 1/1 [00:00<00:00, 336.51it/s]\n",
      "100%|██████████| 1/1 [00:00<00:00, 722.78it/s]\n",
      "2024-11-13 16:25:40,750 - decision_learning.modeling.train - INFO - epoch: 22, train_loss: 5.720599174499512, val_metric: 0.22466682859833167\n",
      "2024-11-13 16:25:40,750 - decision_learning.modeling.train - INFO - epoch: 22, train_loss: 5.720599174499512, val_metric: 0.22466682859833167\n",
      "100%|██████████| 1/1 [00:00<00:00, 336.92it/s]\n",
      "100%|██████████| 1/1 [00:00<00:00, 698.82it/s]\n",
      "2024-11-13 16:25:40,758 - decision_learning.modeling.train - INFO - epoch: 23, train_loss: 5.609623432159424, val_metric: 0.22962330196796882\n",
      "2024-11-13 16:25:40,758 - decision_learning.modeling.train - INFO - epoch: 23, train_loss: 5.609623432159424, val_metric: 0.22962330196796882\n",
      "100%|██████████| 1/1 [00:00<00:00, 336.24it/s]\n",
      "100%|██████████| 1/1 [00:00<00:00, 703.15it/s]\n",
      "2024-11-13 16:25:40,766 - decision_learning.modeling.train - INFO - epoch: 24, train_loss: 5.512843608856201, val_metric: 0.24652547971294186\n",
      "2024-11-13 16:25:40,766 - decision_learning.modeling.train - INFO - epoch: 24, train_loss: 5.512843608856201, val_metric: 0.24652547971294186\n",
      "100%|██████████| 1/1 [00:00<00:00, 326.86it/s]\n",
      "100%|██████████| 1/1 [00:00<00:00, 692.93it/s]\n",
      "2024-11-13 16:25:40,774 - decision_learning.modeling.train - INFO - epoch: 25, train_loss: 5.423888683319092, val_metric: 0.22169201424204393\n",
      "2024-11-13 16:25:40,774 - decision_learning.modeling.train - INFO - epoch: 25, train_loss: 5.423888683319092, val_metric: 0.22169201424204393\n",
      "100%|██████████| 1/1 [00:00<00:00, 330.42it/s]\n",
      "100%|██████████| 1/1 [00:00<00:00, 715.51it/s]\n",
      "2024-11-13 16:25:40,782 - decision_learning.modeling.train - INFO - epoch: 26, train_loss: 5.342341423034668, val_metric: 0.2166221796129168\n",
      "2024-11-13 16:25:40,782 - decision_learning.modeling.train - INFO - epoch: 26, train_loss: 5.342341423034668, val_metric: 0.2166221796129168\n",
      "100%|██████████| 1/1 [00:00<00:00, 335.95it/s]\n",
      "100%|██████████| 1/1 [00:00<00:00, 693.04it/s]\n",
      "2024-11-13 16:25:40,791 - decision_learning.modeling.train - INFO - epoch: 27, train_loss: 5.266598701477051, val_metric: 0.23232103945016871\n",
      "2024-11-13 16:25:40,791 - decision_learning.modeling.train - INFO - epoch: 27, train_loss: 5.266598701477051, val_metric: 0.23232103945016871\n",
      "100%|██████████| 1/1 [00:00<00:00, 337.79it/s]\n",
      "100%|██████████| 1/1 [00:00<00:00, 703.51it/s]\n",
      "2024-11-13 16:25:40,799 - decision_learning.modeling.train - INFO - epoch: 28, train_loss: 5.199921131134033, val_metric: 0.22842093765311575\n",
      "2024-11-13 16:25:40,799 - decision_learning.modeling.train - INFO - epoch: 28, train_loss: 5.199921131134033, val_metric: 0.22842093765311575\n",
      "100%|██████████| 1/1 [00:00<00:00, 333.12it/s]\n",
      "100%|██████████| 1/1 [00:00<00:00, 682.67it/s]\n",
      "2024-11-13 16:25:40,807 - decision_learning.modeling.train - INFO - epoch: 29, train_loss: 5.138516902923584, val_metric: 0.23305928313861174\n",
      "2024-11-13 16:25:40,807 - decision_learning.modeling.train - INFO - epoch: 29, train_loss: 5.138516902923584, val_metric: 0.23305928313861174\n",
      "100%|██████████| 1/1 [00:00<00:00, 332.83it/s]\n",
      "100%|██████████| 1/1 [00:00<00:00, 718.82it/s]\n",
      "2024-11-13 16:25:40,815 - decision_learning.modeling.train - INFO - epoch: 30, train_loss: 5.084575653076172, val_metric: 0.2372000392138639\n",
      "2024-11-13 16:25:40,815 - decision_learning.modeling.train - INFO - epoch: 30, train_loss: 5.084575653076172, val_metric: 0.2372000392138639\n",
      "100%|██████████| 1/1 [00:00<00:00, 329.95it/s]\n",
      "100%|██████████| 1/1 [00:00<00:00, 708.98it/s]\n",
      "2024-11-13 16:25:40,823 - decision_learning.modeling.train - INFO - epoch: 31, train_loss: 5.032994747161865, val_metric: 0.21378989250286512\n",
      "2024-11-13 16:25:40,823 - decision_learning.modeling.train - INFO - epoch: 31, train_loss: 5.032994747161865, val_metric: 0.21378989250286512\n",
      "100%|██████████| 1/1 [00:00<00:00, 333.70it/s]\n",
      "100%|██████████| 1/1 [00:00<00:00, 645.58it/s]\n",
      "2024-11-13 16:25:40,831 - decision_learning.modeling.train - INFO - epoch: 32, train_loss: 4.9889421463012695, val_metric: 0.20362815105846893\n",
      "2024-11-13 16:25:40,831 - decision_learning.modeling.train - INFO - epoch: 32, train_loss: 4.9889421463012695, val_metric: 0.20362815105846893\n",
      "100%|██████████| 1/1 [00:00<00:00, 329.15it/s]\n",
      "100%|██████████| 1/1 [00:00<00:00, 706.83it/s]\n",
      "2024-11-13 16:25:40,839 - decision_learning.modeling.train - INFO - epoch: 33, train_loss: 4.948230743408203, val_metric: 0.2277630516075816\n",
      "2024-11-13 16:25:40,839 - decision_learning.modeling.train - INFO - epoch: 33, train_loss: 4.948230743408203, val_metric: 0.2277630516075816\n",
      "100%|██████████| 1/1 [00:00<00:00, 326.89it/s]\n",
      "100%|██████████| 1/1 [00:00<00:00, 703.27it/s]\n",
      "2024-11-13 16:25:40,847 - decision_learning.modeling.train - INFO - epoch: 34, train_loss: 4.9100751876831055, val_metric: 0.25907587825846246\n",
      "2024-11-13 16:25:40,847 - decision_learning.modeling.train - INFO - epoch: 34, train_loss: 4.9100751876831055, val_metric: 0.25907587825846246\n",
      "100%|██████████| 1/1 [00:00<00:00, 335.81it/s]\n",
      "100%|██████████| 1/1 [00:00<00:00, 702.56it/s]\n",
      "2024-11-13 16:25:40,855 - decision_learning.modeling.train - INFO - epoch: 35, train_loss: 4.873836517333984, val_metric: 0.21637157075550925\n",
      "2024-11-13 16:25:40,855 - decision_learning.modeling.train - INFO - epoch: 35, train_loss: 4.873836517333984, val_metric: 0.21637157075550925\n",
      "100%|██████████| 1/1 [00:00<00:00, 336.62it/s]\n",
      "100%|██████████| 1/1 [00:00<00:00, 713.68it/s]\n",
      "2024-11-13 16:25:40,863 - decision_learning.modeling.train - INFO - epoch: 36, train_loss: 4.836226940155029, val_metric: 0.22701690007584216\n",
      "2024-11-13 16:25:40,863 - decision_learning.modeling.train - INFO - epoch: 36, train_loss: 4.836226940155029, val_metric: 0.22701690007584216\n",
      "100%|██████████| 1/1 [00:00<00:00, 337.43it/s]\n",
      "100%|██████████| 1/1 [00:00<00:00, 702.21it/s]\n",
      "2024-11-13 16:25:40,871 - decision_learning.modeling.train - INFO - epoch: 37, train_loss: 4.800046920776367, val_metric: 0.21991661038855442\n",
      "2024-11-13 16:25:40,871 - decision_learning.modeling.train - INFO - epoch: 37, train_loss: 4.800046920776367, val_metric: 0.21991661038855442\n",
      "100%|██████████| 1/1 [00:00<00:00, 336.51it/s]\n",
      "100%|██████████| 1/1 [00:00<00:00, 699.75it/s]\n",
      "2024-11-13 16:25:40,879 - decision_learning.modeling.train - INFO - epoch: 38, train_loss: 4.767673969268799, val_metric: 0.22652647424129033\n",
      "2024-11-13 16:25:40,879 - decision_learning.modeling.train - INFO - epoch: 38, train_loss: 4.767673969268799, val_metric: 0.22652647424129033\n",
      "100%|██████████| 1/1 [00:00<00:00, 336.30it/s]\n",
      "100%|██████████| 1/1 [00:00<00:00, 699.75it/s]\n",
      "2024-11-13 16:25:40,888 - decision_learning.modeling.train - INFO - epoch: 39, train_loss: 4.738330841064453, val_metric: 0.2173388162824706\n",
      "2024-11-13 16:25:40,888 - decision_learning.modeling.train - INFO - epoch: 39, train_loss: 4.738330841064453, val_metric: 0.2173388162824706\n",
      "100%|██████████| 1/1 [00:00<00:00, 336.84it/s]\n",
      "100%|██████████| 1/1 [00:00<00:00, 697.77it/s]\n",
      "2024-11-13 16:25:40,896 - decision_learning.modeling.train - INFO - epoch: 40, train_loss: 4.711245536804199, val_metric: 0.22569338295001592\n",
      "2024-11-13 16:25:40,896 - decision_learning.modeling.train - INFO - epoch: 40, train_loss: 4.711245536804199, val_metric: 0.22569338295001592\n",
      "100%|██████████| 1/1 [00:00<00:00, 335.62it/s]\n",
      "100%|██████████| 1/1 [00:00<00:00, 686.92it/s]\n",
      "2024-11-13 16:25:40,904 - decision_learning.modeling.train - INFO - epoch: 41, train_loss: 4.685232162475586, val_metric: 0.23558348997718123\n",
      "2024-11-13 16:25:40,904 - decision_learning.modeling.train - INFO - epoch: 41, train_loss: 4.685232162475586, val_metric: 0.23558348997718123\n",
      "100%|██████████| 1/1 [00:00<00:00, 335.97it/s]\n",
      "100%|██████████| 1/1 [00:00<00:00, 703.62it/s]\n",
      "2024-11-13 16:25:40,912 - decision_learning.modeling.train - INFO - epoch: 42, train_loss: 4.660769462585449, val_metric: 0.24921507676821902\n",
      "2024-11-13 16:25:40,912 - decision_learning.modeling.train - INFO - epoch: 42, train_loss: 4.660769462585449, val_metric: 0.24921507676821902\n",
      "100%|██████████| 1/1 [00:00<00:00, 332.30it/s]\n",
      "100%|██████████| 1/1 [00:00<00:00, 711.86it/s]\n",
      "2024-11-13 16:25:40,920 - decision_learning.modeling.train - INFO - epoch: 43, train_loss: 4.637847423553467, val_metric: 0.23745713715444702\n",
      "2024-11-13 16:25:40,920 - decision_learning.modeling.train - INFO - epoch: 43, train_loss: 4.637847423553467, val_metric: 0.23745713715444702\n",
      "100%|██████████| 1/1 [00:00<00:00, 332.46it/s]\n",
      "100%|██████████| 1/1 [00:00<00:00, 703.86it/s]\n",
      "2024-11-13 16:25:40,928 - decision_learning.modeling.train - INFO - epoch: 44, train_loss: 4.615344047546387, val_metric: 0.19754320519207466\n",
      "2024-11-13 16:25:40,928 - decision_learning.modeling.train - INFO - epoch: 44, train_loss: 4.615344047546387, val_metric: 0.19754320519207466\n",
      "100%|██████████| 1/1 [00:00<00:00, 333.04it/s]\n",
      "100%|██████████| 1/1 [00:00<00:00, 725.41it/s]\n",
      "2024-11-13 16:25:40,937 - decision_learning.modeling.train - INFO - epoch: 45, train_loss: 4.594345569610596, val_metric: 0.21086559531022372\n",
      "2024-11-13 16:25:40,937 - decision_learning.modeling.train - INFO - epoch: 45, train_loss: 4.594345569610596, val_metric: 0.21086559531022372\n",
      "100%|██████████| 1/1 [00:00<00:00, 332.30it/s]\n",
      "100%|██████████| 1/1 [00:00<00:00, 716.00it/s]\n",
      "2024-11-13 16:25:40,945 - decision_learning.modeling.train - INFO - epoch: 46, train_loss: 4.573335647583008, val_metric: 0.2596377537830334\n",
      "2024-11-13 16:25:40,945 - decision_learning.modeling.train - INFO - epoch: 46, train_loss: 4.573335647583008, val_metric: 0.2596377537830334\n",
      "100%|██████████| 1/1 [00:00<00:00, 328.48it/s]\n",
      "100%|██████████| 1/1 [00:00<00:00, 682.56it/s]\n",
      "2024-11-13 16:25:40,953 - decision_learning.modeling.train - INFO - epoch: 47, train_loss: 4.551714897155762, val_metric: 0.2158418848048271\n",
      "2024-11-13 16:25:40,953 - decision_learning.modeling.train - INFO - epoch: 47, train_loss: 4.551714897155762, val_metric: 0.2158418848048271\n",
      "100%|██████████| 1/1 [00:00<00:00, 329.51it/s]\n",
      "100%|██████████| 1/1 [00:00<00:00, 704.10it/s]\n",
      "2024-11-13 16:25:40,961 - decision_learning.modeling.train - INFO - epoch: 48, train_loss: 4.5312886238098145, val_metric: 0.24327182084700594\n",
      "2024-11-13 16:25:40,961 - decision_learning.modeling.train - INFO - epoch: 48, train_loss: 4.5312886238098145, val_metric: 0.24327182084700594\n",
      "100%|██████████| 1/1 [00:00<00:00, 326.76it/s]\n",
      "100%|██████████| 1/1 [00:00<00:00, 705.87it/s]\n",
      "2024-11-13 16:25:40,969 - decision_learning.modeling.train - INFO - epoch: 49, train_loss: 4.512423515319824, val_metric: 0.2111256470628617\n",
      "2024-11-13 16:25:40,969 - decision_learning.modeling.train - INFO - epoch: 49, train_loss: 4.512423515319824, val_metric: 0.2111256470628617\n",
      "100%|██████████| 1/1 [00:00<00:00, 332.75it/s]\n",
      "100%|██████████| 1/1 [00:00<00:00, 699.63it/s]\n",
      "2024-11-13 16:25:40,977 - decision_learning.modeling.train - INFO - epoch: 50, train_loss: 4.494317531585693, val_metric: 0.21213226899776652\n",
      "2024-11-13 16:25:40,977 - decision_learning.modeling.train - INFO - epoch: 50, train_loss: 4.494317531585693, val_metric: 0.21213226899776652\n",
      "100%|██████████| 1/1 [00:00<00:00, 332.09it/s]\n",
      "100%|██████████| 1/1 [00:00<00:00, 700.57it/s]\n",
      "2024-11-13 16:25:40,985 - decision_learning.modeling.train - INFO - epoch: 51, train_loss: 4.477399826049805, val_metric: 0.22741173403995826\n",
      "2024-11-13 16:25:40,985 - decision_learning.modeling.train - INFO - epoch: 51, train_loss: 4.477399826049805, val_metric: 0.22741173403995826\n",
      "100%|██████████| 1/1 [00:00<00:00, 328.17it/s]\n",
      "100%|██████████| 1/1 [00:00<00:00, 704.81it/s]\n",
      "2024-11-13 16:25:40,993 - decision_learning.modeling.train - INFO - epoch: 52, train_loss: 4.461474418640137, val_metric: 0.23002804399456803\n",
      "2024-11-13 16:25:40,993 - decision_learning.modeling.train - INFO - epoch: 52, train_loss: 4.461474418640137, val_metric: 0.23002804399456803\n",
      "100%|██████████| 1/1 [00:00<00:00, 326.68it/s]\n",
      "100%|██████████| 1/1 [00:00<00:00, 691.44it/s]\n",
      "2024-11-13 16:25:41,001 - decision_learning.modeling.train - INFO - epoch: 53, train_loss: 4.445988655090332, val_metric: 0.23330919424514024\n",
      "2024-11-13 16:25:41,001 - decision_learning.modeling.train - INFO - epoch: 53, train_loss: 4.445988655090332, val_metric: 0.23330919424514024\n",
      "100%|██████████| 1/1 [00:00<00:00, 255.47it/s]\n",
      "100%|██████████| 1/1 [00:00<00:00, 702.09it/s]\n",
      "2024-11-13 16:25:41,010 - decision_learning.modeling.train - INFO - epoch: 54, train_loss: 4.431828498840332, val_metric: 0.2075811191137945\n",
      "2024-11-13 16:25:41,010 - decision_learning.modeling.train - INFO - epoch: 54, train_loss: 4.431828498840332, val_metric: 0.2075811191137945\n",
      "100%|██████████| 1/1 [00:00<00:00, 331.62it/s]\n",
      "100%|██████████| 1/1 [00:00<00:00, 709.10it/s]\n",
      "2024-11-13 16:25:41,018 - decision_learning.modeling.train - INFO - epoch: 55, train_loss: 4.419422626495361, val_metric: 0.2123316861990113\n",
      "2024-11-13 16:25:41,018 - decision_learning.modeling.train - INFO - epoch: 55, train_loss: 4.419422626495361, val_metric: 0.2123316861990113\n",
      "100%|██████████| 1/1 [00:00<00:00, 332.54it/s]\n",
      "100%|██████████| 1/1 [00:00<00:00, 702.33it/s]\n",
      "2024-11-13 16:25:41,026 - decision_learning.modeling.train - INFO - epoch: 56, train_loss: 4.407000541687012, val_metric: 0.23597104407379213\n",
      "2024-11-13 16:25:41,026 - decision_learning.modeling.train - INFO - epoch: 56, train_loss: 4.407000541687012, val_metric: 0.23597104407379213\n",
      "100%|██████████| 1/1 [00:00<00:00, 333.04it/s]\n",
      "100%|██████████| 1/1 [00:00<00:00, 706.59it/s]\n",
      "2024-11-13 16:25:41,034 - decision_learning.modeling.train - INFO - epoch: 57, train_loss: 4.393555164337158, val_metric: 0.23182579913455115\n",
      "2024-11-13 16:25:41,034 - decision_learning.modeling.train - INFO - epoch: 57, train_loss: 4.393555164337158, val_metric: 0.23182579913455115\n",
      "100%|██████████| 1/1 [00:00<00:00, 333.12it/s]\n",
      "100%|██████████| 1/1 [00:00<00:00, 691.10it/s]\n",
      "2024-11-13 16:25:41,042 - decision_learning.modeling.train - INFO - epoch: 58, train_loss: 4.379323959350586, val_metric: 0.20534724641601562\n",
      "2024-11-13 16:25:41,042 - decision_learning.modeling.train - INFO - epoch: 58, train_loss: 4.379323959350586, val_metric: 0.20534724641601562\n",
      "100%|██████████| 1/1 [00:00<00:00, 331.83it/s]\n",
      "100%|██████████| 1/1 [00:00<00:00, 693.50it/s]\n",
      "2024-11-13 16:25:41,050 - decision_learning.modeling.train - INFO - epoch: 59, train_loss: 4.366128921508789, val_metric: 0.22857902474395558\n",
      "2024-11-13 16:25:41,050 - decision_learning.modeling.train - INFO - epoch: 59, train_loss: 4.366128921508789, val_metric: 0.22857902474395558\n",
      "100%|██████████| 1/1 [00:00<00:00, 332.51it/s]\n",
      "100%|██████████| 1/1 [00:00<00:00, 686.92it/s]\n",
      "2024-11-13 16:25:41,058 - decision_learning.modeling.train - INFO - epoch: 60, train_loss: 4.3553571701049805, val_metric: 0.23548785159002023\n",
      "2024-11-13 16:25:41,058 - decision_learning.modeling.train - INFO - epoch: 60, train_loss: 4.3553571701049805, val_metric: 0.23548785159002023\n",
      "100%|██████████| 1/1 [00:00<00:00, 331.17it/s]\n",
      "100%|██████████| 1/1 [00:00<00:00, 688.27it/s]\n",
      "2024-11-13 16:25:41,066 - decision_learning.modeling.train - INFO - epoch: 61, train_loss: 4.344374179840088, val_metric: 0.22118456328604222\n",
      "2024-11-13 16:25:41,066 - decision_learning.modeling.train - INFO - epoch: 61, train_loss: 4.344374179840088, val_metric: 0.22118456328604222\n",
      "100%|██████████| 1/1 [00:00<00:00, 332.72it/s]\n",
      "100%|██████████| 1/1 [00:00<00:00, 708.98it/s]\n",
      "2024-11-13 16:25:41,074 - decision_learning.modeling.train - INFO - epoch: 62, train_loss: 4.434319019317627, val_metric: 0.2379752171821736\n",
      "2024-11-13 16:25:41,074 - decision_learning.modeling.train - INFO - epoch: 62, train_loss: 4.434319019317627, val_metric: 0.2379752171821736\n",
      "100%|██████████| 1/1 [00:00<00:00, 333.38it/s]\n",
      "100%|██████████| 1/1 [00:00<00:00, 707.90it/s]\n",
      "2024-11-13 16:25:41,082 - decision_learning.modeling.train - INFO - epoch: 63, train_loss: 4.324768543243408, val_metric: 0.2377263061852385\n",
      "2024-11-13 16:25:41,082 - decision_learning.modeling.train - INFO - epoch: 63, train_loss: 4.324768543243408, val_metric: 0.2377263061852385\n",
      "100%|██████████| 1/1 [00:00<00:00, 333.52it/s]\n",
      "100%|██████████| 1/1 [00:00<00:00, 701.74it/s]\n",
      "2024-11-13 16:25:41,090 - decision_learning.modeling.train - INFO - epoch: 64, train_loss: 4.393858432769775, val_metric: 0.21927402834563503\n",
      "2024-11-13 16:25:41,090 - decision_learning.modeling.train - INFO - epoch: 64, train_loss: 4.393858432769775, val_metric: 0.21927402834563503\n",
      "100%|██████████| 1/1 [00:00<00:00, 332.91it/s]\n",
      "100%|██████████| 1/1 [00:00<00:00, 682.67it/s]\n",
      "2024-11-13 16:25:41,098 - decision_learning.modeling.train - INFO - epoch: 65, train_loss: 4.308438301086426, val_metric: 0.212865558654968\n",
      "2024-11-13 16:25:41,098 - decision_learning.modeling.train - INFO - epoch: 65, train_loss: 4.308438301086426, val_metric: 0.212865558654968\n",
      "100%|██████████| 1/1 [00:00<00:00, 331.46it/s]\n",
      "100%|██████████| 1/1 [00:00<00:00, 705.87it/s]\n",
      "2024-11-13 16:25:41,106 - decision_learning.modeling.train - INFO - epoch: 66, train_loss: 4.299873352050781, val_metric: 0.23200907503212623\n",
      "2024-11-13 16:25:41,106 - decision_learning.modeling.train - INFO - epoch: 66, train_loss: 4.299873352050781, val_metric: 0.23200907503212623\n",
      "100%|██████████| 1/1 [00:00<00:00, 328.24it/s]\n",
      "100%|██████████| 1/1 [00:00<00:00, 698.58it/s]\n",
      "2024-11-13 16:25:41,114 - decision_learning.modeling.train - INFO - epoch: 67, train_loss: 4.291935920715332, val_metric: 0.2091786662682032\n",
      "2024-11-13 16:25:41,114 - decision_learning.modeling.train - INFO - epoch: 67, train_loss: 4.291935920715332, val_metric: 0.2091786662682032\n",
      "100%|██████████| 1/1 [00:00<00:00, 328.04it/s]\n",
      "100%|██████████| 1/1 [00:00<00:00, 695.80it/s]\n",
      "2024-11-13 16:25:41,123 - decision_learning.modeling.train - INFO - epoch: 68, train_loss: 4.284131050109863, val_metric: 0.23384255501711892\n",
      "2024-11-13 16:25:41,123 - decision_learning.modeling.train - INFO - epoch: 68, train_loss: 4.284131050109863, val_metric: 0.23384255501711892\n",
      "100%|██████████| 1/1 [00:00<00:00, 331.43it/s]\n",
      "100%|██████████| 1/1 [00:00<00:00, 707.42it/s]\n",
      "2024-11-13 16:25:41,131 - decision_learning.modeling.train - INFO - epoch: 69, train_loss: 4.276524066925049, val_metric: 0.21028920656736763\n",
      "2024-11-13 16:25:41,131 - decision_learning.modeling.train - INFO - epoch: 69, train_loss: 4.276524066925049, val_metric: 0.21028920656736763\n",
      "100%|██████████| 1/1 [00:00<00:00, 329.07it/s]\n",
      "100%|██████████| 1/1 [00:00<00:00, 697.42it/s]\n",
      "2024-11-13 16:25:41,139 - decision_learning.modeling.train - INFO - epoch: 70, train_loss: 4.26848030090332, val_metric: 0.22123801100338075\n",
      "2024-11-13 16:25:41,139 - decision_learning.modeling.train - INFO - epoch: 70, train_loss: 4.26848030090332, val_metric: 0.22123801100338075\n",
      "100%|██████████| 1/1 [00:00<00:00, 331.88it/s]\n",
      "100%|██████████| 1/1 [00:00<00:00, 705.87it/s]\n",
      "2024-11-13 16:25:41,147 - decision_learning.modeling.train - INFO - epoch: 71, train_loss: 4.260861396789551, val_metric: 0.23665095578874298\n",
      "2024-11-13 16:25:41,147 - decision_learning.modeling.train - INFO - epoch: 71, train_loss: 4.260861396789551, val_metric: 0.23665095578874298\n",
      "100%|██████████| 1/1 [00:00<00:00, 329.66it/s]\n",
      "100%|██████████| 1/1 [00:00<00:00, 715.14it/s]\n",
      "2024-11-13 16:25:41,155 - decision_learning.modeling.train - INFO - epoch: 72, train_loss: 4.253896713256836, val_metric: 0.21434362760051334\n",
      "2024-11-13 16:25:41,155 - decision_learning.modeling.train - INFO - epoch: 72, train_loss: 4.253896713256836, val_metric: 0.21434362760051334\n",
      "100%|██████████| 1/1 [00:00<00:00, 330.81it/s]\n",
      "100%|██████████| 1/1 [00:00<00:00, 723.16it/s]\n",
      "2024-11-13 16:25:41,163 - decision_learning.modeling.train - INFO - epoch: 73, train_loss: 4.247173309326172, val_metric: 0.20333128131777747\n",
      "2024-11-13 16:25:41,163 - decision_learning.modeling.train - INFO - epoch: 73, train_loss: 4.247173309326172, val_metric: 0.20333128131777747\n",
      "100%|██████████| 1/1 [00:00<00:00, 327.99it/s]\n",
      "100%|██████████| 1/1 [00:00<00:00, 715.26it/s]\n",
      "2024-11-13 16:25:41,171 - decision_learning.modeling.train - INFO - epoch: 74, train_loss: 4.239981174468994, val_metric: 0.20880013641629525\n",
      "2024-11-13 16:25:41,171 - decision_learning.modeling.train - INFO - epoch: 74, train_loss: 4.239981174468994, val_metric: 0.20880013641629525\n",
      "100%|██████████| 1/1 [00:00<00:00, 328.99it/s]\n",
      "100%|██████████| 1/1 [00:00<00:00, 721.04it/s]\n",
      "2024-11-13 16:25:41,179 - decision_learning.modeling.train - INFO - epoch: 75, train_loss: 4.2331719398498535, val_metric: 0.23668247087011535\n",
      "2024-11-13 16:25:41,179 - decision_learning.modeling.train - INFO - epoch: 75, train_loss: 4.2331719398498535, val_metric: 0.23668247087011535\n",
      "100%|██████████| 1/1 [00:00<00:00, 328.94it/s]\n",
      "100%|██████████| 1/1 [00:00<00:00, 705.28it/s]\n",
      "2024-11-13 16:25:41,187 - decision_learning.modeling.train - INFO - epoch: 76, train_loss: 4.226578235626221, val_metric: 0.2091058210764259\n",
      "2024-11-13 16:25:41,187 - decision_learning.modeling.train - INFO - epoch: 76, train_loss: 4.226578235626221, val_metric: 0.2091058210764259\n",
      "100%|██████████| 1/1 [00:00<00:00, 329.56it/s]\n",
      "100%|██████████| 1/1 [00:00<00:00, 705.40it/s]\n",
      "2024-11-13 16:25:41,195 - decision_learning.modeling.train - INFO - epoch: 77, train_loss: 4.220539093017578, val_metric: 0.20837688073303745\n",
      "2024-11-13 16:25:41,195 - decision_learning.modeling.train - INFO - epoch: 77, train_loss: 4.220539093017578, val_metric: 0.20837688073303745\n",
      "100%|██████████| 1/1 [00:00<00:00, 330.44it/s]\n",
      "100%|██████████| 1/1 [00:00<00:00, 713.92it/s]\n",
      "2024-11-13 16:25:41,203 - decision_learning.modeling.train - INFO - epoch: 78, train_loss: 4.214312553405762, val_metric: 0.21475527736081557\n",
      "2024-11-13 16:25:41,203 - decision_learning.modeling.train - INFO - epoch: 78, train_loss: 4.214312553405762, val_metric: 0.21475527736081557\n",
      "100%|██████████| 1/1 [00:00<00:00, 330.70it/s]\n",
      "100%|██████████| 1/1 [00:00<00:00, 698.82it/s]\n",
      "2024-11-13 16:25:41,212 - decision_learning.modeling.train - INFO - epoch: 79, train_loss: 4.208916664123535, val_metric: 0.22341301678532682\n",
      "2024-11-13 16:25:41,212 - decision_learning.modeling.train - INFO - epoch: 79, train_loss: 4.208916664123535, val_metric: 0.22341301678532682\n",
      "100%|██████████| 1/1 [00:00<00:00, 331.28it/s]\n",
      "100%|██████████| 1/1 [00:00<00:00, 689.63it/s]\n",
      "2024-11-13 16:25:41,220 - decision_learning.modeling.train - INFO - epoch: 80, train_loss: 4.327268123626709, val_metric: 0.20818790653661642\n",
      "2024-11-13 16:25:41,220 - decision_learning.modeling.train - INFO - epoch: 80, train_loss: 4.327268123626709, val_metric: 0.20818790653661642\n",
      "100%|██████████| 1/1 [00:00<00:00, 331.62it/s]\n",
      "100%|██████████| 1/1 [00:00<00:00, 703.51it/s]\n",
      "2024-11-13 16:25:41,228 - decision_learning.modeling.train - INFO - epoch: 81, train_loss: 4.197140693664551, val_metric: 0.23227312722313767\n",
      "2024-11-13 16:25:41,228 - decision_learning.modeling.train - INFO - epoch: 81, train_loss: 4.197140693664551, val_metric: 0.23227312722313767\n",
      "100%|██████████| 1/1 [00:00<00:00, 330.13it/s]\n",
      "100%|██████████| 1/1 [00:00<00:00, 715.87it/s]\n",
      "2024-11-13 16:25:41,236 - decision_learning.modeling.train - INFO - epoch: 82, train_loss: 4.190884590148926, val_metric: 0.21513950551156946\n",
      "2024-11-13 16:25:41,236 - decision_learning.modeling.train - INFO - epoch: 82, train_loss: 4.190884590148926, val_metric: 0.21513950551156946\n",
      "100%|██████████| 1/1 [00:00<00:00, 329.87it/s]\n",
      "100%|██████████| 1/1 [00:00<00:00, 697.19it/s]\n",
      "2024-11-13 16:25:41,245 - decision_learning.modeling.train - INFO - epoch: 83, train_loss: 4.185031414031982, val_metric: 0.217618544609899\n",
      "2024-11-13 16:25:41,245 - decision_learning.modeling.train - INFO - epoch: 83, train_loss: 4.185031414031982, val_metric: 0.217618544609899\n",
      "100%|██████████| 1/1 [00:00<00:00, 330.05it/s]\n",
      "100%|██████████| 1/1 [00:00<00:00, 701.39it/s]\n",
      "2024-11-13 16:25:41,253 - decision_learning.modeling.train - INFO - epoch: 84, train_loss: 4.180041790008545, val_metric: 0.20158634591934171\n",
      "2024-11-13 16:25:41,253 - decision_learning.modeling.train - INFO - epoch: 84, train_loss: 4.180041790008545, val_metric: 0.20158634591934171\n",
      "100%|██████████| 1/1 [00:00<00:00, 331.28it/s]\n",
      "100%|██████████| 1/1 [00:00<00:00, 712.83it/s]\n",
      "2024-11-13 16:25:41,261 - decision_learning.modeling.train - INFO - epoch: 85, train_loss: 4.174623489379883, val_metric: 0.2345021854398508\n",
      "2024-11-13 16:25:41,261 - decision_learning.modeling.train - INFO - epoch: 85, train_loss: 4.174623489379883, val_metric: 0.2345021854398508\n",
      "100%|██████████| 1/1 [00:00<00:00, 327.86it/s]\n",
      "100%|██████████| 1/1 [00:00<00:00, 715.51it/s]\n",
      "2024-11-13 16:25:41,269 - decision_learning.modeling.train - INFO - epoch: 86, train_loss: 4.169179439544678, val_metric: 0.23086967110493\n",
      "2024-11-13 16:25:41,269 - decision_learning.modeling.train - INFO - epoch: 86, train_loss: 4.169179439544678, val_metric: 0.23086967110493\n",
      "100%|██████████| 1/1 [00:00<00:00, 330.99it/s]\n",
      "100%|██████████| 1/1 [00:00<00:00, 707.66it/s]\n",
      "2024-11-13 16:25:41,277 - decision_learning.modeling.train - INFO - epoch: 87, train_loss: 4.16406774520874, val_metric: 0.20400016856883868\n",
      "2024-11-13 16:25:41,277 - decision_learning.modeling.train - INFO - epoch: 87, train_loss: 4.16406774520874, val_metric: 0.20400016856883868\n",
      "100%|██████████| 1/1 [00:00<00:00, 330.08it/s]\n",
      "100%|██████████| 1/1 [00:00<00:00, 707.54it/s]\n",
      "2024-11-13 16:25:41,285 - decision_learning.modeling.train - INFO - epoch: 88, train_loss: 4.1590142250061035, val_metric: 0.1973659532104224\n",
      "2024-11-13 16:25:41,285 - decision_learning.modeling.train - INFO - epoch: 88, train_loss: 4.1590142250061035, val_metric: 0.1973659532104224\n",
      "100%|██████████| 1/1 [00:00<00:00, 326.74it/s]\n",
      "100%|██████████| 1/1 [00:00<00:00, 697.54it/s]\n",
      "2024-11-13 16:25:41,293 - decision_learning.modeling.train - INFO - epoch: 89, train_loss: 4.153982639312744, val_metric: 0.2029559146031881\n",
      "2024-11-13 16:25:41,293 - decision_learning.modeling.train - INFO - epoch: 89, train_loss: 4.153982639312744, val_metric: 0.2029559146031881\n",
      "100%|██████████| 1/1 [00:00<00:00, 330.47it/s]\n",
      "100%|██████████| 1/1 [00:00<00:00, 711.02it/s]\n",
      "2024-11-13 16:25:41,301 - decision_learning.modeling.train - INFO - epoch: 90, train_loss: 4.14919900894165, val_metric: 0.23165952510006327\n",
      "2024-11-13 16:25:41,301 - decision_learning.modeling.train - INFO - epoch: 90, train_loss: 4.14919900894165, val_metric: 0.23165952510006327\n",
      "100%|██████████| 1/1 [00:00<00:00, 329.74it/s]\n",
      "100%|██████████| 1/1 [00:00<00:00, 714.78it/s]\n",
      "2024-11-13 16:25:41,309 - decision_learning.modeling.train - INFO - epoch: 91, train_loss: 4.144508361816406, val_metric: 0.22321808844807087\n",
      "2024-11-13 16:25:41,309 - decision_learning.modeling.train - INFO - epoch: 91, train_loss: 4.144508361816406, val_metric: 0.22321808844807087\n",
      "100%|██████████| 1/1 [00:00<00:00, 331.23it/s]\n",
      "100%|██████████| 1/1 [00:00<00:00, 712.83it/s]\n",
      "2024-11-13 16:25:41,317 - decision_learning.modeling.train - INFO - epoch: 92, train_loss: 4.139383792877197, val_metric: 0.20036611918198385\n",
      "2024-11-13 16:25:41,317 - decision_learning.modeling.train - INFO - epoch: 92, train_loss: 4.139383792877197, val_metric: 0.20036611918198385\n",
      "100%|██████████| 1/1 [00:00<00:00, 328.84it/s]\n",
      "100%|██████████| 1/1 [00:00<00:00, 694.54it/s]\n",
      "2024-11-13 16:25:41,325 - decision_learning.modeling.train - INFO - epoch: 93, train_loss: 4.134668827056885, val_metric: 0.20755683738320208\n",
      "2024-11-13 16:25:41,325 - decision_learning.modeling.train - INFO - epoch: 93, train_loss: 4.134668827056885, val_metric: 0.20755683738320208\n",
      "100%|██████████| 1/1 [00:00<00:00, 329.30it/s]\n",
      "100%|██████████| 1/1 [00:00<00:00, 709.70it/s]\n",
      "2024-11-13 16:25:41,333 - decision_learning.modeling.train - INFO - epoch: 94, train_loss: 4.1300153732299805, val_metric: 0.23188192156359286\n",
      "2024-11-13 16:25:41,333 - decision_learning.modeling.train - INFO - epoch: 94, train_loss: 4.1300153732299805, val_metric: 0.23188192156359286\n",
      "100%|██████████| 1/1 [00:00<00:00, 330.26it/s]\n",
      "100%|██████████| 1/1 [00:00<00:00, 711.14it/s]\n",
      "2024-11-13 16:25:41,341 - decision_learning.modeling.train - INFO - epoch: 95, train_loss: 4.12538480758667, val_metric: 0.20672974674948785\n",
      "2024-11-13 16:25:41,341 - decision_learning.modeling.train - INFO - epoch: 95, train_loss: 4.12538480758667, val_metric: 0.20672974674948785\n",
      "100%|██████████| 1/1 [00:00<00:00, 328.37it/s]\n",
      "100%|██████████| 1/1 [00:00<00:00, 703.62it/s]\n",
      "2024-11-13 16:25:41,349 - decision_learning.modeling.train - INFO - epoch: 96, train_loss: 4.120779037475586, val_metric: 0.19623673644606093\n",
      "2024-11-13 16:25:41,349 - decision_learning.modeling.train - INFO - epoch: 96, train_loss: 4.120779037475586, val_metric: 0.19623673644606093\n",
      "100%|██████████| 1/1 [00:00<00:00, 328.73it/s]\n",
      "100%|██████████| 1/1 [00:00<00:00, 705.28it/s]\n",
      "2024-11-13 16:25:41,357 - decision_learning.modeling.train - INFO - epoch: 97, train_loss: 4.116006374359131, val_metric: 0.19145953853562542\n",
      "2024-11-13 16:25:41,357 - decision_learning.modeling.train - INFO - epoch: 97, train_loss: 4.116006374359131, val_metric: 0.19145953853562542\n",
      "100%|██████████| 1/1 [00:00<00:00, 330.70it/s]\n",
      "100%|██████████| 1/1 [00:00<00:00, 692.70it/s]\n",
      "2024-11-13 16:25:41,365 - decision_learning.modeling.train - INFO - epoch: 98, train_loss: 4.111291885375977, val_metric: 0.2098520191248906\n",
      "2024-11-13 16:25:41,365 - decision_learning.modeling.train - INFO - epoch: 98, train_loss: 4.111291885375977, val_metric: 0.2098520191248906\n",
      "100%|██████████| 1/1 [00:00<00:00, 330.00it/s]\n",
      "100%|██████████| 1/1 [00:00<00:00, 714.65it/s]\n",
      "2024-11-13 16:25:41,373 - decision_learning.modeling.train - INFO - epoch: 99, train_loss: 4.107180595397949, val_metric: 0.20716344543756943\n",
      "2024-11-13 16:25:41,373 - decision_learning.modeling.train - INFO - epoch: 99, train_loss: 4.107180595397949, val_metric: 0.20716344543756943\n"
     ]
    }
   ],
   "source": [
    "metrics, trained_model = train(pred_model=pred_model,\n",
    "                optmodel=optmodel,\n",
    "                loss_fn=loss_fn,\n",
    "                train_data_dict=train_data_dict,\n",
    "                val_data_dict=val_data_dict,\n",
    "                dataloader_params={'batch_size':200, 'shuffle':True},\n",
    "                num_epochs=100,\n",
    "                lr=0.01,\n",
    "                scheduler_params=None, #{'step_size': 10, 'gamma': 0.1},\n",
    "                minimization=True)"
   ]
  },
  {
   "cell_type": "code",
   "execution_count": 443,
   "id": "a87ef66d-e675-4b1a-9510-aa7a0ba395a8",
   "metadata": {},
   "outputs": [
    {
     "data": {
      "text/html": [
       "<div>\n",
       "<style scoped>\n",
       "    .dataframe tbody tr th:only-of-type {\n",
       "        vertical-align: middle;\n",
       "    }\n",
       "\n",
       "    .dataframe tbody tr th {\n",
       "        vertical-align: top;\n",
       "    }\n",
       "\n",
       "    .dataframe thead th {\n",
       "        text-align: right;\n",
       "    }\n",
       "</style>\n",
       "<table border=\"1\" class=\"dataframe\">\n",
       "  <thead>\n",
       "    <tr style=\"text-align: right;\">\n",
       "      <th></th>\n",
       "      <th>epoch</th>\n",
       "      <th>train_loss</th>\n",
       "      <th>val_metric</th>\n",
       "    </tr>\n",
       "  </thead>\n",
       "  <tbody>\n",
       "    <tr>\n",
       "      <th>0</th>\n",
       "      <td>0</td>\n",
       "      <td>14.039382</td>\n",
       "      <td>0.364845</td>\n",
       "    </tr>\n",
       "    <tr>\n",
       "      <th>1</th>\n",
       "      <td>1</td>\n",
       "      <td>13.375387</td>\n",
       "      <td>0.355837</td>\n",
       "    </tr>\n",
       "    <tr>\n",
       "      <th>2</th>\n",
       "      <td>2</td>\n",
       "      <td>12.743906</td>\n",
       "      <td>0.325678</td>\n",
       "    </tr>\n",
       "    <tr>\n",
       "      <th>3</th>\n",
       "      <td>3</td>\n",
       "      <td>12.143230</td>\n",
       "      <td>0.313259</td>\n",
       "    </tr>\n",
       "    <tr>\n",
       "      <th>4</th>\n",
       "      <td>4</td>\n",
       "      <td>11.577141</td>\n",
       "      <td>0.312537</td>\n",
       "    </tr>\n",
       "    <tr>\n",
       "      <th>...</th>\n",
       "      <td>...</td>\n",
       "      <td>...</td>\n",
       "      <td>...</td>\n",
       "    </tr>\n",
       "    <tr>\n",
       "      <th>95</th>\n",
       "      <td>95</td>\n",
       "      <td>4.125385</td>\n",
       "      <td>0.206730</td>\n",
       "    </tr>\n",
       "    <tr>\n",
       "      <th>96</th>\n",
       "      <td>96</td>\n",
       "      <td>4.120779</td>\n",
       "      <td>0.196237</td>\n",
       "    </tr>\n",
       "    <tr>\n",
       "      <th>97</th>\n",
       "      <td>97</td>\n",
       "      <td>4.116006</td>\n",
       "      <td>0.191460</td>\n",
       "    </tr>\n",
       "    <tr>\n",
       "      <th>98</th>\n",
       "      <td>98</td>\n",
       "      <td>4.111292</td>\n",
       "      <td>0.209852</td>\n",
       "    </tr>\n",
       "    <tr>\n",
       "      <th>99</th>\n",
       "      <td>99</td>\n",
       "      <td>4.107181</td>\n",
       "      <td>0.207163</td>\n",
       "    </tr>\n",
       "  </tbody>\n",
       "</table>\n",
       "<p>100 rows × 3 columns</p>\n",
       "</div>"
      ],
      "text/plain": [
       "    epoch  train_loss  val_metric\n",
       "0       0   14.039382    0.364845\n",
       "1       1   13.375387    0.355837\n",
       "2       2   12.743906    0.325678\n",
       "3       3   12.143230    0.313259\n",
       "4       4   11.577141    0.312537\n",
       "..    ...         ...         ...\n",
       "95     95    4.125385    0.206730\n",
       "96     96    4.120779    0.196237\n",
       "97     97    4.116006    0.191460\n",
       "98     98    4.111292    0.209852\n",
       "99     99    4.107181    0.207163\n",
       "\n",
       "[100 rows x 3 columns]"
      ]
     },
     "execution_count": 443,
     "metadata": {},
     "output_type": "execute_result"
    }
   ],
   "source": [
    "metrics"
   ]
  },
  {
   "cell_type": "code",
   "execution_count": 138,
   "id": "e83ee49a-b6aa-4a6c-b2c3-98ebcef73f51",
   "metadata": {},
   "outputs": [
    {
     "data": {
      "text/plain": [
       "(200, 6)"
      ]
     },
     "execution_count": 138,
     "metadata": {},
     "output_type": "execute_result"
    }
   ],
   "source": [
    "val_dict['X'].shape"
   ]
  },
  {
   "cell_type": "code",
   "execution_count": 444,
   "id": "13509dc3-d12d-40f0-bca6-10ae8c0b95ce",
   "metadata": {},
   "outputs": [
    {
     "name": "stdout",
     "output_type": "stream",
     "text": [
      "0.08272489650178559\n"
     ]
    },
    {
     "name": "stderr",
     "output_type": "stream",
     "text": [
      "/home1/yongpeng/decision-focused-learning/src/decision_learning/modeling/val_metrics.py:26: UserWarning: To copy construct from a tensor, it is recommended to use sourceTensor.clone().detach() or sourceTensor.clone().detach().requires_grad_(True), rather than torch.tensor(sourceTensor).\n",
      "  w_hat = torch.tensor(w_hat, dtype=torch.float32)\n",
      "/home1/yongpeng/decision-focused-learning/src/decision_learning/modeling/val_metrics.py:27: UserWarning: To copy construct from a tensor, it is recommended to use sourceTensor.clone().detach() or sourceTensor.clone().detach().requires_grad_(True), rather than torch.tensor(sourceTensor).\n",
      "  z_hat = torch.tensor(z_hat, dtype=torch.float32)\n",
      "/home1/yongpeng/decision-focused-learning/src/decision_learning/modeling/val_metrics.py:29: UserWarning: To copy construct from a tensor, it is recommended to use sourceTensor.clone().detach() or sourceTensor.clone().detach().requires_grad_(True), rather than torch.tensor(sourceTensor).\n",
      "  true_obj = torch.tensor(true_obj, dtype=torch.float32)\n"
     ]
    }
   ],
   "source": [
    "val_regret = calc_test_regret(pred_model=trained_model,\n",
    "                               test_data_dict=val_dict,\n",
    "                               optmodel=optmodel)\n",
    "print(val_regret)"
   ]
  },
  {
   "cell_type": "code",
   "execution_count": 445,
   "id": "f74df8dc-db4c-45fe-88ea-e691f03e4dbd",
   "metadata": {},
   "outputs": [
    {
     "name": "stdout",
     "output_type": "stream",
     "text": [
      "0.045393637861943975\n"
     ]
    }
   ],
   "source": [
    "test_regret = calc_test_regret(pred_model=trained_model,\n",
    "                               test_data_dict=final_data_test, #final_data_te,\n",
    "                               optmodel=optmodel)\n",
    "print(test_regret)"
   ]
  },
  {
   "cell_type": "markdown",
   "id": "9d7059cb-9e27-421c-a5e3-e05dd0be540c",
   "metadata": {},
   "source": [
    "## MSE"
   ]
  },
  {
   "cell_type": "code",
   "execution_count": 27,
   "id": "1951dc79-e2b4-4777-8253-78f2259f1c08",
   "metadata": {},
   "outputs": [],
   "source": [
    "# Prediction Model\n",
    "pred_model = LinearRegression(input_dim=train_dict['X'].shape[1],\n",
    "                 output_dim=train_dict['true_cost'].shape[1])\n",
    "\n",
    "# optimization solver\n",
    "optmodel = partial(shortest_path_solver,size=5)\n",
    "\n",
    "# loss function\n",
    "loss_fn = nn.MSELoss()\n",
    "\n",
    "# training, validation data\n",
    "train_data_dict = train_dict\n",
    "train_data_dict.update({'target':train_dict['true_cost']}) # extra input key needed for loss function\n",
    "\n",
    "val_data_dict = val_dict"
   ]
  },
  {
   "cell_type": "code",
   "execution_count": 29,
   "id": "969caf1e-f62a-4296-8430-49e7ea3220fe",
   "metadata": {
    "scrolled": true
   },
   "outputs": [
    {
     "name": "stderr",
     "output_type": "stream",
     "text": [
      "100%|██████████| 45/45 [00:00<00:00, 1416.57it/s]\n",
      "100%|██████████| 12/12 [00:00<00:00, 3463.98it/s]\n",
      "2024-11-06 09:09:21,646 - decision_learning.modeling.train - INFO - epoch: 0, train_loss: 1.8876804921362136, val_metric: 0.2392113968593179\n",
      "2024-11-06 09:09:21,646 - decision_learning.modeling.train - INFO - epoch: 0, train_loss: 1.8876804921362136, val_metric: 0.2392113968593179\n",
      "100%|██████████| 45/45 [00:00<00:00, 1518.26it/s]\n",
      "100%|██████████| 12/12 [00:00<00:00, 3477.38it/s]\n",
      "2024-11-06 09:09:21,683 - decision_learning.modeling.train - INFO - epoch: 1, train_loss: 0.765940973493788, val_metric: 0.2152039387182229\n",
      "2024-11-06 09:09:21,683 - decision_learning.modeling.train - INFO - epoch: 1, train_loss: 0.765940973493788, val_metric: 0.2152039387182229\n",
      "100%|██████████| 45/45 [00:00<00:00, 1524.28it/s]\n",
      "100%|██████████| 12/12 [00:00<00:00, 3445.72it/s]\n",
      "2024-11-06 09:09:21,720 - decision_learning.modeling.train - INFO - epoch: 2, train_loss: 0.6751075949933794, val_metric: 0.21910987352311345\n",
      "2024-11-06 09:09:21,720 - decision_learning.modeling.train - INFO - epoch: 2, train_loss: 0.6751075949933794, val_metric: 0.21910987352311345\n",
      "100%|██████████| 45/45 [00:00<00:00, 1494.59it/s]\n",
      "100%|██████████| 12/12 [00:00<00:00, 3507.43it/s]\n",
      "2024-11-06 09:09:21,757 - decision_learning.modeling.train - INFO - epoch: 3, train_loss: 0.6704868422614203, val_metric: 0.2289141051622008\n",
      "2024-11-06 09:09:21,757 - decision_learning.modeling.train - INFO - epoch: 3, train_loss: 0.6704868422614203, val_metric: 0.2289141051622008\n",
      "100%|██████████| 45/45 [00:00<00:00, 1532.30it/s]\n",
      "100%|██████████| 12/12 [00:00<00:00, 3371.40it/s]\n",
      "2024-11-06 09:09:21,794 - decision_learning.modeling.train - INFO - epoch: 4, train_loss: 0.6565168566173978, val_metric: 0.2224883334077824\n",
      "2024-11-06 09:09:21,794 - decision_learning.modeling.train - INFO - epoch: 4, train_loss: 0.6565168566173978, val_metric: 0.2224883334077824\n",
      "100%|██████████| 45/45 [00:00<00:00, 1526.37it/s]\n",
      "100%|██████████| 12/12 [00:00<00:00, 3522.16it/s]\n",
      "2024-11-06 09:09:21,830 - decision_learning.modeling.train - INFO - epoch: 5, train_loss: 0.6635933465427822, val_metric: 0.1965696213128193\n",
      "2024-11-06 09:09:21,830 - decision_learning.modeling.train - INFO - epoch: 5, train_loss: 0.6635933465427822, val_metric: 0.1965696213128193\n",
      "100%|██████████| 45/45 [00:00<00:00, 1506.67it/s]\n",
      "100%|██████████| 12/12 [00:00<00:00, 3529.82it/s]\n",
      "2024-11-06 09:09:21,867 - decision_learning.modeling.train - INFO - epoch: 6, train_loss: 0.6729288167423673, val_metric: 0.21683033239339636\n",
      "2024-11-06 09:09:21,867 - decision_learning.modeling.train - INFO - epoch: 6, train_loss: 0.6729288167423673, val_metric: 0.21683033239339636\n",
      "100%|██████████| 45/45 [00:00<00:00, 1517.93it/s]\n",
      "100%|██████████| 12/12 [00:00<00:00, 3525.37it/s]\n",
      "2024-11-06 09:09:21,903 - decision_learning.modeling.train - INFO - epoch: 7, train_loss: 0.6682162092791664, val_metric: 0.21716652352876964\n",
      "2024-11-06 09:09:21,903 - decision_learning.modeling.train - INFO - epoch: 7, train_loss: 0.6682162092791664, val_metric: 0.21716652352876964\n",
      "100%|██████████| 45/45 [00:00<00:00, 1520.91it/s]\n",
      "100%|██████████| 12/12 [00:00<00:00, 3530.31it/s]\n",
      "2024-11-06 09:09:21,940 - decision_learning.modeling.train - INFO - epoch: 8, train_loss: 0.680669246117274, val_metric: 0.20447207702341388\n",
      "2024-11-06 09:09:21,940 - decision_learning.modeling.train - INFO - epoch: 8, train_loss: 0.680669246117274, val_metric: 0.20447207702341388\n",
      "100%|██████████| 45/45 [00:00<00:00, 1527.36it/s]\n",
      "100%|██████████| 12/12 [00:00<00:00, 3523.88it/s]\n",
      "2024-11-06 09:09:21,976 - decision_learning.modeling.train - INFO - epoch: 9, train_loss: 0.6901909397708045, val_metric: 0.18912458169584148\n",
      "2024-11-06 09:09:21,976 - decision_learning.modeling.train - INFO - epoch: 9, train_loss: 0.6901909397708045, val_metric: 0.18912458169584148\n",
      "100%|██████████| 45/45 [00:00<00:00, 1522.67it/s]\n",
      "100%|██████████| 12/12 [00:00<00:00, 3299.35it/s]\n",
      "2024-11-06 09:09:22,013 - decision_learning.modeling.train - INFO - epoch: 10, train_loss: 0.6450990935166677, val_metric: 0.19045060559625152\n",
      "2024-11-06 09:09:22,013 - decision_learning.modeling.train - INFO - epoch: 10, train_loss: 0.6450990935166677, val_metric: 0.19045060559625152\n",
      "100%|██████████| 45/45 [00:00<00:00, 1521.84it/s]\n",
      "100%|██████████| 12/12 [00:00<00:00, 3523.64it/s]\n",
      "2024-11-06 09:09:22,050 - decision_learning.modeling.train - INFO - epoch: 11, train_loss: 0.6360294063886006, val_metric: 0.20277430672131605\n",
      "2024-11-06 09:09:22,050 - decision_learning.modeling.train - INFO - epoch: 11, train_loss: 0.6360294063886006, val_metric: 0.20277430672131605\n",
      "100%|██████████| 45/45 [00:00<00:00, 1518.27it/s]\n",
      "100%|██████████| 12/12 [00:00<00:00, 2134.42it/s]\n",
      "2024-11-06 09:09:22,089 - decision_learning.modeling.train - INFO - epoch: 12, train_loss: 0.635752425591151, val_metric: 0.20961699755183827\n",
      "2024-11-06 09:09:22,089 - decision_learning.modeling.train - INFO - epoch: 12, train_loss: 0.635752425591151, val_metric: 0.20961699755183827\n",
      "100%|██████████| 45/45 [00:00<00:00, 1457.90it/s]\n",
      "100%|██████████| 12/12 [00:00<00:00, 3491.86it/s]\n",
      "2024-11-06 09:09:22,127 - decision_learning.modeling.train - INFO - epoch: 13, train_loss: 0.635344245036443, val_metric: 0.1918144782423784\n",
      "2024-11-06 09:09:22,127 - decision_learning.modeling.train - INFO - epoch: 13, train_loss: 0.635344245036443, val_metric: 0.1918144782423784\n",
      "100%|██████████| 45/45 [00:00<00:00, 1509.20it/s]\n",
      "100%|██████████| 12/12 [00:00<00:00, 3499.14it/s]\n",
      "2024-11-06 09:09:22,163 - decision_learning.modeling.train - INFO - epoch: 14, train_loss: 0.6351566910743713, val_metric: 0.19522249993613924\n",
      "2024-11-06 09:09:22,163 - decision_learning.modeling.train - INFO - epoch: 14, train_loss: 0.6351566910743713, val_metric: 0.19522249993613924\n",
      "100%|██████████| 45/45 [00:00<00:00, 1514.98it/s]\n",
      "100%|██████████| 12/12 [00:00<00:00, 3515.52it/s]\n",
      "2024-11-06 09:09:22,200 - decision_learning.modeling.train - INFO - epoch: 15, train_loss: 0.6353484829266866, val_metric: 0.18182600798168969\n",
      "2024-11-06 09:09:22,200 - decision_learning.modeling.train - INFO - epoch: 15, train_loss: 0.6353484829266866, val_metric: 0.18182600798168969\n",
      "100%|██████████| 45/45 [00:00<00:00, 1503.54it/s]\n",
      "100%|██████████| 12/12 [00:00<00:00, 3505.97it/s]\n",
      "2024-11-06 09:09:22,237 - decision_learning.modeling.train - INFO - epoch: 16, train_loss: 0.6346809128920238, val_metric: 0.18684539535851813\n",
      "2024-11-06 09:09:22,237 - decision_learning.modeling.train - INFO - epoch: 16, train_loss: 0.6346809128920238, val_metric: 0.18684539535851813\n",
      "100%|██████████| 45/45 [00:00<00:00, 1515.43it/s]\n",
      "100%|██████████| 12/12 [00:00<00:00, 3517.48it/s]\n",
      "2024-11-06 09:09:22,274 - decision_learning.modeling.train - INFO - epoch: 17, train_loss: 0.6358992013666365, val_metric: 0.20731501580321773\n",
      "2024-11-06 09:09:22,274 - decision_learning.modeling.train - INFO - epoch: 17, train_loss: 0.6358992013666365, val_metric: 0.20731501580321773\n",
      "100%|██████████| 45/45 [00:00<00:00, 1516.10it/s]\n",
      "100%|██████████| 12/12 [00:00<00:00, 3523.14it/s]\n",
      "2024-11-06 09:09:22,310 - decision_learning.modeling.train - INFO - epoch: 18, train_loss: 0.6357964237531026, val_metric: 0.199874968622066\n",
      "2024-11-06 09:09:22,310 - decision_learning.modeling.train - INFO - epoch: 18, train_loss: 0.6357964237531026, val_metric: 0.199874968622066\n",
      "100%|██████████| 45/45 [00:00<00:00, 1500.12it/s]\n",
      "100%|██████████| 12/12 [00:00<00:00, 3511.10it/s]\n",
      "2024-11-06 09:09:22,347 - decision_learning.modeling.train - INFO - epoch: 19, train_loss: 0.6352916618188222, val_metric: 0.20071782863799995\n",
      "2024-11-06 09:09:22,347 - decision_learning.modeling.train - INFO - epoch: 19, train_loss: 0.6352916618188222, val_metric: 0.20071782863799995\n",
      "100%|██████████| 45/45 [00:00<00:00, 1522.64it/s]\n",
      "100%|██████████| 12/12 [00:00<00:00, 3518.47it/s]\n",
      "2024-11-06 09:09:22,384 - decision_learning.modeling.train - INFO - epoch: 20, train_loss: 0.6315061304304335, val_metric: 0.20973487732465515\n",
      "2024-11-06 09:09:22,384 - decision_learning.modeling.train - INFO - epoch: 20, train_loss: 0.6315061304304335, val_metric: 0.20973487732465515\n",
      "100%|██████████| 45/45 [00:00<00:00, 1519.70it/s]\n",
      "100%|██████████| 12/12 [00:00<00:00, 3498.41it/s]\n",
      "2024-11-06 09:09:22,420 - decision_learning.modeling.train - INFO - epoch: 21, train_loss: 0.6310594194465213, val_metric: 0.19699813449750397\n",
      "2024-11-06 09:09:22,420 - decision_learning.modeling.train - INFO - epoch: 21, train_loss: 0.6310594194465213, val_metric: 0.19699813449750397\n",
      "100%|██████████| 45/45 [00:00<00:00, 1520.01it/s]\n",
      "100%|██████████| 12/12 [00:00<00:00, 3520.43it/s]\n",
      "2024-11-06 09:09:22,457 - decision_learning.modeling.train - INFO - epoch: 22, train_loss: 0.6309161980946859, val_metric: 0.23655215184136788\n",
      "2024-11-06 09:09:22,457 - decision_learning.modeling.train - INFO - epoch: 22, train_loss: 0.6309161980946859, val_metric: 0.23655215184136788\n",
      "100%|██████████| 45/45 [00:00<00:00, 1520.25it/s]\n",
      "100%|██████████| 12/12 [00:00<00:00, 3511.35it/s]\n",
      "2024-11-06 09:09:22,493 - decision_learning.modeling.train - INFO - epoch: 23, train_loss: 0.6309287985165913, val_metric: 0.21951654163326986\n",
      "2024-11-06 09:09:22,493 - decision_learning.modeling.train - INFO - epoch: 23, train_loss: 0.6309287985165913, val_metric: 0.21951654163326986\n",
      "100%|██████████| 45/45 [00:00<00:00, 1522.32it/s]\n",
      "100%|██████████| 12/12 [00:00<00:00, 3531.55it/s]\n",
      "2024-11-06 09:09:22,530 - decision_learning.modeling.train - INFO - epoch: 24, train_loss: 0.6309208287133111, val_metric: 0.20553519976006976\n",
      "2024-11-06 09:09:22,530 - decision_learning.modeling.train - INFO - epoch: 24, train_loss: 0.6309208287133111, val_metric: 0.20553519976006976\n",
      "100%|██████████| 45/45 [00:00<00:00, 1522.54it/s]\n",
      "100%|██████████| 12/12 [00:00<00:00, 3527.59it/s]\n",
      "2024-11-06 09:09:22,566 - decision_learning.modeling.train - INFO - epoch: 25, train_loss: 0.6308980305989583, val_metric: 0.21309196096760186\n",
      "2024-11-06 09:09:22,566 - decision_learning.modeling.train - INFO - epoch: 25, train_loss: 0.6308980305989583, val_metric: 0.21309196096760186\n",
      "100%|██████████| 45/45 [00:00<00:00, 1516.90it/s]\n",
      "100%|██████████| 12/12 [00:00<00:00, 3526.35it/s]\n",
      "2024-11-06 09:09:22,603 - decision_learning.modeling.train - INFO - epoch: 26, train_loss: 0.6307889011171129, val_metric: 0.18893234757422425\n",
      "2024-11-06 09:09:22,603 - decision_learning.modeling.train - INFO - epoch: 26, train_loss: 0.6307889011171129, val_metric: 0.18893234757422425\n",
      "100%|██████████| 45/45 [00:00<00:00, 1519.36it/s]\n",
      "100%|██████████| 12/12 [00:00<00:00, 3519.20it/s]\n",
      "2024-11-06 09:09:22,639 - decision_learning.modeling.train - INFO - epoch: 27, train_loss: 0.6307859334680769, val_metric: 0.20143667604116827\n",
      "2024-11-06 09:09:22,639 - decision_learning.modeling.train - INFO - epoch: 27, train_loss: 0.6307859334680769, val_metric: 0.20143667604116827\n",
      "100%|██████████| 45/45 [00:00<00:00, 1519.97it/s]\n",
      "100%|██████████| 12/12 [00:00<00:00, 3533.78it/s]\n",
      "2024-11-06 09:09:22,676 - decision_learning.modeling.train - INFO - epoch: 28, train_loss: 0.6309192670716179, val_metric: 0.19545006124324646\n",
      "2024-11-06 09:09:22,676 - decision_learning.modeling.train - INFO - epoch: 28, train_loss: 0.6309192670716179, val_metric: 0.19545006124324646\n",
      "100%|██████████| 45/45 [00:00<00:00, 1499.22it/s]\n",
      "100%|██████████| 12/12 [00:00<00:00, 3504.26it/s]\n",
      "2024-11-06 09:09:22,713 - decision_learning.modeling.train - INFO - epoch: 29, train_loss: 0.6307589862081739, val_metric: 0.21018042054423888\n",
      "2024-11-06 09:09:22,713 - decision_learning.modeling.train - INFO - epoch: 29, train_loss: 0.6307589862081739, val_metric: 0.21018042054423888\n",
      "100%|██████████| 45/45 [00:00<00:00, 1515.58it/s]\n",
      "100%|██████████| 12/12 [00:00<00:00, 3518.71it/s]\n",
      "2024-11-06 09:09:22,749 - decision_learning.modeling.train - INFO - epoch: 30, train_loss: 0.6302692386839125, val_metric: 0.21628048021005594\n",
      "2024-11-06 09:09:22,749 - decision_learning.modeling.train - INFO - epoch: 30, train_loss: 0.6302692386839125, val_metric: 0.21628048021005594\n",
      "100%|██████████| 45/45 [00:00<00:00, 1519.69it/s]\n",
      "100%|██████████| 12/12 [00:00<00:00, 3535.02it/s]\n",
      "2024-11-06 09:09:22,786 - decision_learning.modeling.train - INFO - epoch: 31, train_loss: 0.6302810847759247, val_metric: 0.19494625604414945\n",
      "2024-11-06 09:09:22,786 - decision_learning.modeling.train - INFO - epoch: 31, train_loss: 0.6302810847759247, val_metric: 0.19494625604414945\n",
      "100%|██████████| 45/45 [00:00<00:00, 1507.54it/s]\n",
      "100%|██████████| 12/12 [00:00<00:00, 3517.24it/s]\n",
      "2024-11-06 09:09:22,823 - decision_learning.modeling.train - INFO - epoch: 32, train_loss: 0.6302709605958726, val_metric: 0.20193318265387997\n",
      "2024-11-06 09:09:22,823 - decision_learning.modeling.train - INFO - epoch: 32, train_loss: 0.6302709605958726, val_metric: 0.20193318265387997\n",
      "100%|██████████| 45/45 [00:00<00:00, 1519.68it/s]\n",
      "100%|██████████| 12/12 [00:00<00:00, 3520.93it/s]\n",
      "2024-11-06 09:09:22,859 - decision_learning.modeling.train - INFO - epoch: 33, train_loss: 0.6302634159723918, val_metric: 0.19665005781694073\n",
      "2024-11-06 09:09:22,859 - decision_learning.modeling.train - INFO - epoch: 33, train_loss: 0.6302634159723918, val_metric: 0.19665005781694073\n",
      "100%|██████████| 45/45 [00:00<00:00, 1519.71it/s]\n",
      "100%|██████████| 12/12 [00:00<00:00, 3537.76it/s]\n",
      "2024-11-06 09:09:22,896 - decision_learning.modeling.train - INFO - epoch: 34, train_loss: 0.6302679571840498, val_metric: 0.20495871280488573\n",
      "2024-11-06 09:09:22,896 - decision_learning.modeling.train - INFO - epoch: 34, train_loss: 0.6302679571840498, val_metric: 0.20495871280488573\n",
      "100%|██████████| 45/45 [00:00<00:00, 1510.08it/s]\n",
      "100%|██████████| 12/12 [00:00<00:00, 3526.35it/s]\n",
      "2024-11-06 09:09:22,933 - decision_learning.modeling.train - INFO - epoch: 35, train_loss: 0.6302721202373505, val_metric: 0.19232891454213039\n",
      "2024-11-06 09:09:22,933 - decision_learning.modeling.train - INFO - epoch: 35, train_loss: 0.6302721202373505, val_metric: 0.19232891454213039\n",
      "100%|██████████| 45/45 [00:00<00:00, 1518.32it/s]\n",
      "100%|██████████| 12/12 [00:00<00:00, 3516.01it/s]\n",
      "2024-11-06 09:09:22,969 - decision_learning.modeling.train - INFO - epoch: 36, train_loss: 0.6302702314323849, val_metric: 0.2098347387123333\n",
      "2024-11-06 09:09:22,969 - decision_learning.modeling.train - INFO - epoch: 36, train_loss: 0.6302702314323849, val_metric: 0.2098347387123333\n",
      "100%|██████████| 45/45 [00:00<00:00, 1508.28it/s]\n",
      "100%|██████████| 12/12 [00:00<00:00, 3536.76it/s]\n",
      "2024-11-06 09:09:23,006 - decision_learning.modeling.train - INFO - epoch: 37, train_loss: 0.630285484260983, val_metric: 0.19475409794947376\n",
      "2024-11-06 09:09:23,006 - decision_learning.modeling.train - INFO - epoch: 37, train_loss: 0.630285484260983, val_metric: 0.19475409794947376\n",
      "100%|██████████| 45/45 [00:00<00:00, 1518.05it/s]\n",
      "100%|██████████| 12/12 [00:00<00:00, 3518.96it/s]\n",
      "2024-11-06 09:09:23,042 - decision_learning.modeling.train - INFO - epoch: 38, train_loss: 0.6302651498052809, val_metric: 0.1888261379369297\n",
      "2024-11-06 09:09:23,042 - decision_learning.modeling.train - INFO - epoch: 38, train_loss: 0.6302651498052809, val_metric: 0.1888261379369297\n",
      "100%|██████████| 45/45 [00:00<00:00, 1525.24it/s]\n",
      "100%|██████████| 12/12 [00:00<00:00, 3535.27it/s]\n",
      "2024-11-06 09:09:23,079 - decision_learning.modeling.train - INFO - epoch: 39, train_loss: 0.6302663869327969, val_metric: 0.22126326061454557\n",
      "2024-11-06 09:09:23,079 - decision_learning.modeling.train - INFO - epoch: 39, train_loss: 0.6302663869327969, val_metric: 0.22126326061454557\n",
      "100%|██████████| 45/45 [00:00<00:00, 1520.61it/s]\n",
      "100%|██████████| 12/12 [00:00<00:00, 3536.02it/s]\n",
      "2024-11-06 09:09:23,115 - decision_learning.modeling.train - INFO - epoch: 40, train_loss: 0.6302127169238196, val_metric: 0.21631132180599663\n",
      "2024-11-06 09:09:23,115 - decision_learning.modeling.train - INFO - epoch: 40, train_loss: 0.6302127169238196, val_metric: 0.21631132180599663\n",
      "100%|██████████| 45/45 [00:00<00:00, 1525.23it/s]\n",
      "100%|██████████| 12/12 [00:00<00:00, 3538.50it/s]\n",
      "2024-11-06 09:09:23,152 - decision_learning.modeling.train - INFO - epoch: 41, train_loss: 0.6302096015877194, val_metric: 0.21047364378650005\n",
      "2024-11-06 09:09:23,152 - decision_learning.modeling.train - INFO - epoch: 41, train_loss: 0.6302096015877194, val_metric: 0.21047364378650005\n",
      "100%|██████████| 45/45 [00:00<00:00, 1524.84it/s]\n",
      "100%|██████████| 12/12 [00:00<00:00, 3540.99it/s]\n",
      "2024-11-06 09:09:23,188 - decision_learning.modeling.train - INFO - epoch: 42, train_loss: 0.6302102896902296, val_metric: 0.2133897838398246\n",
      "2024-11-06 09:09:23,188 - decision_learning.modeling.train - INFO - epoch: 42, train_loss: 0.6302102896902296, val_metric: 0.2133897838398246\n",
      "100%|██████████| 45/45 [00:00<00:00, 1520.72it/s]\n",
      "100%|██████████| 12/12 [00:00<00:00, 3546.73it/s]\n",
      "2024-11-06 09:09:23,224 - decision_learning.modeling.train - INFO - epoch: 43, train_loss: 0.6302101208104027, val_metric: 0.22161703931572235\n",
      "2024-11-06 09:09:23,224 - decision_learning.modeling.train - INFO - epoch: 43, train_loss: 0.6302101208104027, val_metric: 0.22161703931572235\n",
      "100%|██████████| 45/45 [00:00<00:00, 1527.70it/s]\n",
      "100%|██████████| 12/12 [00:00<00:00, 3548.98it/s]\n",
      "2024-11-06 09:09:23,261 - decision_learning.modeling.train - INFO - epoch: 44, train_loss: 0.6302096505959829, val_metric: 0.1899338251324695\n",
      "2024-11-06 09:09:23,261 - decision_learning.modeling.train - INFO - epoch: 44, train_loss: 0.6302096505959829, val_metric: 0.1899338251324695\n",
      "100%|██████████| 45/45 [00:00<00:00, 1530.62it/s]\n",
      "100%|██████████| 12/12 [00:00<00:00, 3537.51it/s]\n",
      "2024-11-06 09:09:23,297 - decision_learning.modeling.train - INFO - epoch: 45, train_loss: 0.6302101585600112, val_metric: 0.2011813142157809\n",
      "2024-11-06 09:09:23,297 - decision_learning.modeling.train - INFO - epoch: 45, train_loss: 0.6302101585600112, val_metric: 0.2011813142157809\n",
      "100%|██████████| 45/45 [00:00<00:00, 1533.37it/s]\n",
      "100%|██████████| 12/12 [00:00<00:00, 3541.74it/s]\n",
      "2024-11-06 09:09:23,333 - decision_learning.modeling.train - INFO - epoch: 46, train_loss: 0.630210264523824, val_metric: 0.21587979288596526\n",
      "2024-11-06 09:09:23,333 - decision_learning.modeling.train - INFO - epoch: 46, train_loss: 0.630210264523824, val_metric: 0.21587979288596526\n",
      "100%|██████████| 45/45 [00:00<00:00, 1525.87it/s]\n",
      "100%|██████████| 12/12 [00:00<00:00, 3540.99it/s]\n",
      "2024-11-06 09:09:23,370 - decision_learning.modeling.train - INFO - epoch: 47, train_loss: 0.6302111605803172, val_metric: 0.19024658729869967\n",
      "2024-11-06 09:09:23,370 - decision_learning.modeling.train - INFO - epoch: 47, train_loss: 0.6302111605803172, val_metric: 0.19024658729869967\n",
      "100%|██████████| 45/45 [00:00<00:00, 1522.35it/s]\n",
      "100%|██████████| 12/12 [00:00<00:00, 3527.59it/s]\n",
      "2024-11-06 09:09:23,406 - decision_learning.modeling.train - INFO - epoch: 48, train_loss: 0.6302115778128307, val_metric: 0.2048220670486719\n",
      "2024-11-06 09:09:23,406 - decision_learning.modeling.train - INFO - epoch: 48, train_loss: 0.6302115778128307, val_metric: 0.2048220670486719\n",
      "100%|██████████| 45/45 [00:00<00:00, 1513.68it/s]\n",
      "100%|██████████| 12/12 [00:00<00:00, 3554.24it/s]\n",
      "2024-11-06 09:09:23,443 - decision_learning.modeling.train - INFO - epoch: 49, train_loss: 0.6302125010225508, val_metric: 0.21263960066559576\n",
      "2024-11-06 09:09:23,443 - decision_learning.modeling.train - INFO - epoch: 49, train_loss: 0.6302125010225508, val_metric: 0.21263960066559576\n",
      "100%|██████████| 45/45 [00:00<00:00, 1530.51it/s]\n",
      "100%|██████████| 12/12 [00:00<00:00, 3538.25it/s]\n",
      "2024-11-06 09:09:23,479 - decision_learning.modeling.train - INFO - epoch: 50, train_loss: 0.6302045431401995, val_metric: 0.20836279376884478\n",
      "2024-11-06 09:09:23,479 - decision_learning.modeling.train - INFO - epoch: 50, train_loss: 0.6302045431401995, val_metric: 0.20836279376884478\n",
      "100%|██████████| 45/45 [00:00<00:00, 1531.95it/s]\n",
      "100%|██████████| 12/12 [00:00<00:00, 3539.25it/s]\n",
      "2024-11-06 09:09:23,515 - decision_learning.modeling.train - INFO - epoch: 51, train_loss: 0.6302044928073883, val_metric: 0.22381596654512115\n",
      "2024-11-06 09:09:23,515 - decision_learning.modeling.train - INFO - epoch: 51, train_loss: 0.6302044928073883, val_metric: 0.22381596654512115\n",
      "100%|██████████| 45/45 [00:00<00:00, 1514.42it/s]\n",
      "100%|██████████| 12/12 [00:00<00:00, 3548.48it/s]\n",
      "2024-11-06 09:09:23,552 - decision_learning.modeling.train - INFO - epoch: 52, train_loss: 0.6302045689688789, val_metric: 0.22111761833691929\n",
      "2024-11-06 09:09:23,552 - decision_learning.modeling.train - INFO - epoch: 52, train_loss: 0.6302045689688789, val_metric: 0.22111761833691929\n",
      "100%|██████████| 45/45 [00:00<00:00, 1532.98it/s]\n",
      "100%|██████████| 12/12 [00:00<00:00, 3535.52it/s]\n",
      "2024-11-06 09:09:23,588 - decision_learning.modeling.train - INFO - epoch: 53, train_loss: 0.6302045226097107, val_metric: 0.21365871647427215\n",
      "2024-11-06 09:09:23,588 - decision_learning.modeling.train - INFO - epoch: 53, train_loss: 0.6302045226097107, val_metric: 0.21365871647427215\n",
      "100%|██████████| 45/45 [00:00<00:00, 1529.29it/s]\n",
      "100%|██████████| 12/12 [00:00<00:00, 3523.64it/s]\n",
      "2024-11-06 09:09:23,624 - decision_learning.modeling.train - INFO - epoch: 54, train_loss: 0.6302045404911041, val_metric: 0.20079531276255927\n",
      "2024-11-06 09:09:23,624 - decision_learning.modeling.train - INFO - epoch: 54, train_loss: 0.6302045404911041, val_metric: 0.20079531276255927\n",
      "100%|██████████| 45/45 [00:00<00:00, 1519.61it/s]\n",
      "100%|██████████| 12/12 [00:00<00:00, 3328.15it/s]\n",
      "2024-11-06 09:09:23,661 - decision_learning.modeling.train - INFO - epoch: 55, train_loss: 0.6302045557234023, val_metric: 0.21213204480405073\n",
      "2024-11-06 09:09:23,661 - decision_learning.modeling.train - INFO - epoch: 55, train_loss: 0.6302045557234023, val_metric: 0.21213204480405073\n",
      "100%|██████████| 45/45 [00:00<00:00, 1530.30it/s]\n",
      "100%|██████████| 12/12 [00:00<00:00, 3499.87it/s]\n",
      "2024-11-06 09:09:23,697 - decision_learning.modeling.train - INFO - epoch: 56, train_loss: 0.630204560359319, val_metric: 0.2180606257032838\n",
      "2024-11-06 09:09:23,697 - decision_learning.modeling.train - INFO - epoch: 56, train_loss: 0.630204560359319, val_metric: 0.2180606257032838\n",
      "100%|██████████| 45/45 [00:00<00:00, 1523.80it/s]\n",
      "100%|██████████| 12/12 [00:00<00:00, 3542.99it/s]\n",
      "2024-11-06 09:09:23,734 - decision_learning.modeling.train - INFO - epoch: 57, train_loss: 0.630204435189565, val_metric: 0.2283881000961818\n",
      "2024-11-06 09:09:23,734 - decision_learning.modeling.train - INFO - epoch: 57, train_loss: 0.630204435189565, val_metric: 0.2283881000961818\n",
      "100%|██████████| 45/45 [00:00<00:00, 1517.28it/s]\n",
      "100%|██████████| 12/12 [00:00<00:00, 3546.73it/s]\n",
      "2024-11-06 09:09:23,770 - decision_learning.modeling.train - INFO - epoch: 58, train_loss: 0.6302046159903208, val_metric: 0.19888260162564547\n",
      "2024-11-06 09:09:23,770 - decision_learning.modeling.train - INFO - epoch: 58, train_loss: 0.6302046159903208, val_metric: 0.19888260162564547\n",
      "100%|██████████| 45/45 [00:00<00:00, 1384.60it/s]\n",
      "100%|██████████| 12/12 [00:00<00:00, 3489.68it/s]\n",
      "2024-11-06 09:09:23,810 - decision_learning.modeling.train - INFO - epoch: 59, train_loss: 0.6302044689655304, val_metric: 0.2054420160720879\n",
      "2024-11-06 09:09:23,810 - decision_learning.modeling.train - INFO - epoch: 59, train_loss: 0.6302044689655304, val_metric: 0.2054420160720879\n",
      "100%|██████████| 45/45 [00:00<00:00, 1521.99it/s]\n",
      "100%|██████████| 12/12 [00:00<00:00, 3520.43it/s]\n",
      "2024-11-06 09:09:23,847 - decision_learning.modeling.train - INFO - epoch: 60, train_loss: 0.6302039159668816, val_metric: 0.2079964326088475\n",
      "2024-11-06 09:09:23,847 - decision_learning.modeling.train - INFO - epoch: 60, train_loss: 0.6302039159668816, val_metric: 0.2079964326088475\n",
      "100%|██████████| 45/45 [00:00<00:00, 1506.45it/s]\n",
      "100%|██████████| 12/12 [00:00<00:00, 3534.77it/s]\n",
      "2024-11-06 09:09:23,883 - decision_learning.modeling.train - INFO - epoch: 61, train_loss: 0.6302039325237274, val_metric: 0.2064290104979748\n",
      "2024-11-06 09:09:23,883 - decision_learning.modeling.train - INFO - epoch: 61, train_loss: 0.6302039325237274, val_metric: 0.2064290104979748\n",
      "100%|██████████| 45/45 [00:00<00:00, 1524.20it/s]\n",
      "100%|██████████| 12/12 [00:00<00:00, 3529.82it/s]\n",
      "2024-11-06 09:09:23,920 - decision_learning.modeling.train - INFO - epoch: 62, train_loss: 0.6302039278878107, val_metric: 0.19695860048791689\n",
      "2024-11-06 09:09:23,920 - decision_learning.modeling.train - INFO - epoch: 62, train_loss: 0.6302039278878107, val_metric: 0.19695860048791689\n",
      "100%|██████████| 45/45 [00:00<00:00, 1521.32it/s]\n",
      "100%|██████████| 12/12 [00:00<00:00, 3516.50it/s]\n",
      "2024-11-06 09:09:23,956 - decision_learning.modeling.train - INFO - epoch: 63, train_loss: 0.6302039278878107, val_metric: 0.1974642303336102\n",
      "2024-11-06 09:09:23,956 - decision_learning.modeling.train - INFO - epoch: 63, train_loss: 0.6302039278878107, val_metric: 0.1974642303336102\n",
      "100%|██████████| 45/45 [00:00<00:00, 1509.41it/s]\n",
      "100%|██████████| 12/12 [00:00<00:00, 3513.31it/s]\n",
      "2024-11-06 09:09:23,993 - decision_learning.modeling.train - INFO - epoch: 64, train_loss: 0.6302039444446563, val_metric: 0.20984628213628645\n",
      "2024-11-06 09:09:23,993 - decision_learning.modeling.train - INFO - epoch: 64, train_loss: 0.6302039444446563, val_metric: 0.20984628213628645\n",
      "100%|██████████| 45/45 [00:00<00:00, 1522.89it/s]\n",
      "100%|██████████| 12/12 [00:00<00:00, 3528.33it/s]\n",
      "2024-11-06 09:09:24,029 - decision_learning.modeling.train - INFO - epoch: 65, train_loss: 0.6302039351728227, val_metric: 0.2196259697444218\n",
      "2024-11-06 09:09:24,029 - decision_learning.modeling.train - INFO - epoch: 65, train_loss: 0.6302039351728227, val_metric: 0.2196259697444218\n",
      "100%|██████████| 45/45 [00:00<00:00, 1525.53it/s]\n",
      "100%|██████████| 12/12 [00:00<00:00, 3247.83it/s]\n",
      "2024-11-06 09:09:24,066 - decision_learning.modeling.train - INFO - epoch: 66, train_loss: 0.6302039364973704, val_metric: 0.21412752393795906\n",
      "2024-11-06 09:09:24,066 - decision_learning.modeling.train - INFO - epoch: 66, train_loss: 0.6302039364973704, val_metric: 0.21412752393795906\n",
      "100%|██████████| 45/45 [00:00<00:00, 1526.64it/s]\n",
      "100%|██████████| 12/12 [00:00<00:00, 3524.87it/s]\n",
      "2024-11-06 09:09:24,103 - decision_learning.modeling.train - INFO - epoch: 67, train_loss: 0.6302039404710134, val_metric: 0.20629335309200061\n",
      "2024-11-06 09:09:24,103 - decision_learning.modeling.train - INFO - epoch: 67, train_loss: 0.6302039404710134, val_metric: 0.20629335309200061\n",
      "100%|██████████| 45/45 [00:00<00:00, 1524.77it/s]\n",
      "100%|██████████| 12/12 [00:00<00:00, 3535.27it/s]\n",
      "2024-11-06 09:09:24,139 - decision_learning.modeling.train - INFO - epoch: 68, train_loss: 0.6302039278878107, val_metric: 0.1886230699761468\n",
      "2024-11-06 09:09:24,139 - decision_learning.modeling.train - INFO - epoch: 68, train_loss: 0.6302039278878107, val_metric: 0.1886230699761468\n",
      "100%|██████████| 45/45 [00:00<00:00, 1517.01it/s]\n",
      "100%|██████████| 12/12 [00:00<00:00, 3518.71it/s]\n",
      "2024-11-06 09:09:24,175 - decision_learning.modeling.train - INFO - epoch: 69, train_loss: 0.6302039391464658, val_metric: 0.2054097679777292\n",
      "2024-11-06 09:09:24,175 - decision_learning.modeling.train - INFO - epoch: 69, train_loss: 0.6302039391464658, val_metric: 0.2054097679777292\n",
      "100%|██████████| 45/45 [00:00<00:00, 1524.91it/s]\n",
      "100%|██████████| 12/12 [00:00<00:00, 3522.16it/s]\n",
      "2024-11-06 09:09:24,212 - decision_learning.modeling.train - INFO - epoch: 70, train_loss: 0.6302038821909163, val_metric: 0.20268771203493202\n",
      "2024-11-06 09:09:24,212 - decision_learning.modeling.train - INFO - epoch: 70, train_loss: 0.6302038821909163, val_metric: 0.20268771203493202\n",
      "100%|██████████| 45/45 [00:00<00:00, 1522.37it/s]\n",
      "100%|██████████| 12/12 [00:00<00:00, 3529.32it/s]\n",
      "2024-11-06 09:09:24,248 - decision_learning.modeling.train - INFO - epoch: 71, train_loss: 0.630203879541821, val_metric: 0.1844498117737374\n",
      "2024-11-06 09:09:24,248 - decision_learning.modeling.train - INFO - epoch: 71, train_loss: 0.630203879541821, val_metric: 0.1844498117737374\n",
      "100%|██████████| 45/45 [00:00<00:00, 1513.50it/s]\n",
      "100%|██████████| 12/12 [00:00<00:00, 3506.94it/s]\n",
      "2024-11-06 09:09:24,285 - decision_learning.modeling.train - INFO - epoch: 72, train_loss: 0.6302038702699874, val_metric: 0.21997042247410625\n",
      "2024-11-06 09:09:24,285 - decision_learning.modeling.train - INFO - epoch: 72, train_loss: 0.6302038702699874, val_metric: 0.21997042247410625\n",
      "100%|██████████| 45/45 [00:00<00:00, 1521.02it/s]\n",
      "100%|██████████| 12/12 [00:00<00:00, 3532.79it/s]\n",
      "2024-11-06 09:09:24,322 - decision_learning.modeling.train - INFO - epoch: 73, train_loss: 0.6302038755681779, val_metric: 0.20916034172763662\n",
      "2024-11-06 09:09:24,322 - decision_learning.modeling.train - INFO - epoch: 73, train_loss: 0.6302038755681779, val_metric: 0.20916034172763662\n",
      "100%|██████████| 45/45 [00:00<00:00, 1528.30it/s]\n",
      "100%|██████████| 12/12 [00:00<00:00, 3522.41it/s]\n",
      "2024-11-06 09:09:24,358 - decision_learning.modeling.train - INFO - epoch: 74, train_loss: 0.6302038722568089, val_metric: 0.21440264009698304\n",
      "2024-11-06 09:09:24,358 - decision_learning.modeling.train - INFO - epoch: 74, train_loss: 0.6302038722568089, val_metric: 0.21440264009698304\n",
      "100%|██████████| 45/45 [00:00<00:00, 1520.62it/s]\n",
      "100%|██████████| 12/12 [00:00<00:00, 3534.53it/s]\n",
      "2024-11-06 09:09:24,394 - decision_learning.modeling.train - INFO - epoch: 75, train_loss: 0.6302038643095228, val_metric: 0.2296184947753246\n",
      "2024-11-06 09:09:24,394 - decision_learning.modeling.train - INFO - epoch: 75, train_loss: 0.6302038643095228, val_metric: 0.2296184947753246\n",
      "100%|██████████| 45/45 [00:00<00:00, 1511.64it/s]\n",
      "100%|██████████| 12/12 [00:00<00:00, 3556.00it/s]\n",
      "2024-11-06 09:09:24,431 - decision_learning.modeling.train - INFO - epoch: 76, train_loss: 0.6302038782172733, val_metric: 0.18633160528776901\n",
      "2024-11-06 09:09:24,431 - decision_learning.modeling.train - INFO - epoch: 76, train_loss: 0.6302038782172733, val_metric: 0.18633160528776901\n",
      "100%|██████████| 45/45 [00:00<00:00, 1524.12it/s]\n",
      "100%|██████████| 12/12 [00:00<00:00, 3518.71it/s]\n",
      "2024-11-06 09:09:24,467 - decision_learning.modeling.train - INFO - epoch: 77, train_loss: 0.6302038729190826, val_metric: 0.19806888527062505\n",
      "2024-11-06 09:09:24,467 - decision_learning.modeling.train - INFO - epoch: 77, train_loss: 0.6302038729190826, val_metric: 0.19806888527062505\n",
      "100%|██████████| 45/45 [00:00<00:00, 1525.09it/s]\n",
      "100%|██████████| 12/12 [00:00<00:00, 3526.11it/s]\n",
      "2024-11-06 09:09:24,504 - decision_learning.modeling.train - INFO - epoch: 78, train_loss: 0.6302038782172733, val_metric: 0.19879755282040554\n",
      "2024-11-06 09:09:24,504 - decision_learning.modeling.train - INFO - epoch: 78, train_loss: 0.6302038782172733, val_metric: 0.19879755282040554\n",
      "100%|██████████| 45/45 [00:00<00:00, 1518.78it/s]\n",
      "100%|██████████| 12/12 [00:00<00:00, 3512.33it/s]\n",
      "2024-11-06 09:09:24,540 - decision_learning.modeling.train - INFO - epoch: 79, train_loss: 0.6302038576867846, val_metric: 0.19573773451877713\n",
      "2024-11-06 09:09:24,540 - decision_learning.modeling.train - INFO - epoch: 79, train_loss: 0.6302038576867846, val_metric: 0.19573773451877713\n",
      "100%|██████████| 45/45 [00:00<00:00, 1524.18it/s]\n",
      "100%|██████████| 12/12 [00:00<00:00, 3542.99it/s]\n",
      "2024-11-06 09:09:24,577 - decision_learning.modeling.train - INFO - epoch: 80, train_loss: 0.6302038722568089, val_metric: 0.19969010911377558\n",
      "2024-11-06 09:09:24,577 - decision_learning.modeling.train - INFO - epoch: 80, train_loss: 0.6302038722568089, val_metric: 0.19969010911377558\n",
      "100%|██████████| 45/45 [00:00<00:00, 1524.34it/s]\n",
      "100%|██████████| 12/12 [00:00<00:00, 3523.14it/s]\n",
      "2024-11-06 09:09:24,613 - decision_learning.modeling.train - INFO - epoch: 81, train_loss: 0.630203867620892, val_metric: 0.19501910252527643\n",
      "2024-11-06 09:09:24,613 - decision_learning.modeling.train - INFO - epoch: 81, train_loss: 0.630203867620892, val_metric: 0.19501910252527643\n",
      "100%|██████████| 45/45 [00:00<00:00, 1507.96it/s]\n",
      "100%|██████████| 12/12 [00:00<00:00, 3521.42it/s]\n",
      "2024-11-06 09:09:24,650 - decision_learning.modeling.train - INFO - epoch: 82, train_loss: 0.6302038802040948, val_metric: 0.20420118035964388\n",
      "2024-11-06 09:09:24,650 - decision_learning.modeling.train - INFO - epoch: 82, train_loss: 0.6302038802040948, val_metric: 0.20420118035964388\n",
      "100%|██████████| 45/45 [00:00<00:00, 1528.50it/s]\n",
      "100%|██████████| 12/12 [00:00<00:00, 3521.91it/s]\n",
      "2024-11-06 09:09:24,686 - decision_learning.modeling.train - INFO - epoch: 83, train_loss: 0.6302038768927256, val_metric: 0.20778027534296734\n",
      "2024-11-06 09:09:24,686 - decision_learning.modeling.train - INFO - epoch: 83, train_loss: 0.6302038768927256, val_metric: 0.20778027534296734\n",
      "100%|██████████| 45/45 [00:00<00:00, 1519.68it/s]\n",
      "100%|██████████| 12/12 [00:00<00:00, 3544.23it/s]\n",
      "2024-11-06 09:09:24,723 - decision_learning.modeling.train - INFO - epoch: 84, train_loss: 0.6302038821909163, val_metric: 0.19813216502827824\n",
      "2024-11-06 09:09:24,723 - decision_learning.modeling.train - INFO - epoch: 84, train_loss: 0.6302038821909163, val_metric: 0.19813216502827824\n",
      "100%|██████████| 45/45 [00:00<00:00, 1520.19it/s]\n",
      "100%|██████████| 12/12 [00:00<00:00, 3552.49it/s]\n",
      "2024-11-06 09:09:24,759 - decision_learning.modeling.train - INFO - epoch: 85, train_loss: 0.6302038689454397, val_metric: 0.2106269647852192\n",
      "2024-11-06 09:09:24,759 - decision_learning.modeling.train - INFO - epoch: 85, train_loss: 0.6302038689454397, val_metric: 0.2106269647852192\n",
      "100%|██████████| 45/45 [00:00<00:00, 1528.69it/s]\n",
      "100%|██████████| 12/12 [00:00<00:00, 3556.00it/s]\n",
      "2024-11-06 09:09:24,796 - decision_learning.modeling.train - INFO - epoch: 86, train_loss: 0.630203867620892, val_metric: 0.20105997521712513\n",
      "2024-11-06 09:09:24,796 - decision_learning.modeling.train - INFO - epoch: 86, train_loss: 0.630203867620892, val_metric: 0.20105997521712513\n",
      "100%|██████████| 45/45 [00:00<00:00, 1511.03it/s]\n",
      "100%|██████████| 12/12 [00:00<00:00, 3536.26it/s]\n",
      "2024-11-06 09:09:24,832 - decision_learning.modeling.train - INFO - epoch: 87, train_loss: 0.6302038722568089, val_metric: 0.20325214871988614\n",
      "2024-11-06 09:09:24,832 - decision_learning.modeling.train - INFO - epoch: 87, train_loss: 0.6302038722568089, val_metric: 0.20325214871988614\n",
      "100%|██████████| 45/45 [00:00<00:00, 1527.63it/s]\n",
      "100%|██████████| 12/12 [00:00<00:00, 3551.49it/s]\n",
      "2024-11-06 09:09:24,869 - decision_learning.modeling.train - INFO - epoch: 88, train_loss: 0.6302038768927256, val_metric: 0.2293934296861304\n",
      "2024-11-06 09:09:24,869 - decision_learning.modeling.train - INFO - epoch: 88, train_loss: 0.6302038768927256, val_metric: 0.2293934296861304\n",
      "100%|██████████| 45/45 [00:00<00:00, 1525.72it/s]\n",
      "100%|██████████| 12/12 [00:00<00:00, 3548.98it/s]\n",
      "2024-11-06 09:09:24,905 - decision_learning.modeling.train - INFO - epoch: 89, train_loss: 0.6302038656340705, val_metric: 0.19267933538672363\n",
      "2024-11-06 09:09:24,905 - decision_learning.modeling.train - INFO - epoch: 89, train_loss: 0.6302038656340705, val_metric: 0.19267933538672363\n",
      "100%|██████████| 45/45 [00:00<00:00, 1504.82it/s]\n",
      "100%|██████████| 12/12 [00:00<00:00, 3530.31it/s]\n",
      "2024-11-06 09:09:24,942 - decision_learning.modeling.train - INFO - epoch: 90, train_loss: 0.6302038729190826, val_metric: 0.21136930451331523\n",
      "2024-11-06 09:09:24,942 - decision_learning.modeling.train - INFO - epoch: 90, train_loss: 0.6302038729190826, val_metric: 0.21136930451331523\n",
      "100%|██████████| 45/45 [00:00<00:00, 1522.95it/s]\n",
      "100%|██████████| 12/12 [00:00<00:00, 3523.64it/s]\n",
      "2024-11-06 09:09:24,978 - decision_learning.modeling.train - INFO - epoch: 91, train_loss: 0.6302038702699874, val_metric: 0.22166199658047073\n",
      "2024-11-06 09:09:24,978 - decision_learning.modeling.train - INFO - epoch: 91, train_loss: 0.6302038702699874, val_metric: 0.22166199658047073\n",
      "100%|██████████| 45/45 [00:00<00:00, 1529.71it/s]\n",
      "100%|██████████| 12/12 [00:00<00:00, 3534.77it/s]\n",
      "2024-11-06 09:09:25,014 - decision_learning.modeling.train - INFO - epoch: 92, train_loss: 0.630203867620892, val_metric: 0.19653487700054756\n",
      "2024-11-06 09:09:25,014 - decision_learning.modeling.train - INFO - epoch: 92, train_loss: 0.630203867620892, val_metric: 0.19653487700054756\n",
      "100%|██████████| 45/45 [00:00<00:00, 1510.08it/s]\n",
      "100%|██████████| 12/12 [00:00<00:00, 3515.27it/s]\n",
      "2024-11-06 09:09:25,051 - decision_learning.modeling.train - INFO - epoch: 93, train_loss: 0.6302038768927256, val_metric: 0.21295511247287732\n",
      "2024-11-06 09:09:25,051 - decision_learning.modeling.train - INFO - epoch: 93, train_loss: 0.6302038768927256, val_metric: 0.21295511247287732\n",
      "100%|██████████| 45/45 [00:00<00:00, 1529.45it/s]\n",
      "100%|██████████| 12/12 [00:00<00:00, 3533.78it/s]\n",
      "2024-11-06 09:09:25,087 - decision_learning.modeling.train - INFO - epoch: 94, train_loss: 0.6302038729190826, val_metric: 0.2052477292230498\n",
      "2024-11-06 09:09:25,087 - decision_learning.modeling.train - INFO - epoch: 94, train_loss: 0.6302038729190826, val_metric: 0.2052477292230498\n",
      "100%|██████████| 45/45 [00:00<00:00, 1529.76it/s]\n",
      "100%|██████████| 12/12 [00:00<00:00, 3513.55it/s]\n",
      "2024-11-06 09:09:25,124 - decision_learning.modeling.train - INFO - epoch: 95, train_loss: 0.630203879541821, val_metric: 0.20282923618655962\n",
      "2024-11-06 09:09:25,124 - decision_learning.modeling.train - INFO - epoch: 95, train_loss: 0.630203879541821, val_metric: 0.20282923618655962\n",
      "100%|██████████| 45/45 [00:00<00:00, 1513.28it/s]\n",
      "100%|██████████| 12/12 [00:00<00:00, 3532.54it/s]\n",
      "2024-11-06 09:09:25,160 - decision_learning.modeling.train - INFO - epoch: 96, train_loss: 0.6302038662963443, val_metric: 0.21936258707670475\n",
      "2024-11-06 09:09:25,160 - decision_learning.modeling.train - INFO - epoch: 96, train_loss: 0.6302038662963443, val_metric: 0.21936258707670475\n",
      "100%|██████████| 45/45 [00:00<00:00, 1525.98it/s]\n",
      "100%|██████████| 12/12 [00:00<00:00, 3542.24it/s]\n",
      "2024-11-06 09:09:25,197 - decision_learning.modeling.train - INFO - epoch: 97, train_loss: 0.6302038729190826, val_metric: 0.19445019292192992\n",
      "2024-11-06 09:09:25,197 - decision_learning.modeling.train - INFO - epoch: 97, train_loss: 0.6302038729190826, val_metric: 0.19445019292192992\n",
      "100%|██████████| 45/45 [00:00<00:00, 1525.47it/s]\n",
      "100%|██████████| 12/12 [00:00<00:00, 3512.57it/s]\n",
      "2024-11-06 09:09:25,233 - decision_learning.modeling.train - INFO - epoch: 98, train_loss: 0.6302038762304518, val_metric: 0.2077854071615195\n",
      "2024-11-06 09:09:25,233 - decision_learning.modeling.train - INFO - epoch: 98, train_loss: 0.6302038762304518, val_metric: 0.2077854071615195\n",
      "100%|██████████| 45/45 [00:00<00:00, 1529.14it/s]\n",
      "100%|██████████| 12/12 [00:00<00:00, 3539.00it/s]\n",
      "2024-11-06 09:09:25,270 - decision_learning.modeling.train - INFO - epoch: 99, train_loss: 0.6302038841777378, val_metric: 0.20396524341781325\n",
      "2024-11-06 09:09:25,270 - decision_learning.modeling.train - INFO - epoch: 99, train_loss: 0.6302038841777378, val_metric: 0.20396524341781325\n"
     ]
    }
   ],
   "source": [
    "metrics, trained_model = train(pred_model=pred_model,\n",
    "                optmodel=optmodel,\n",
    "                loss_fn=loss_fn,\n",
    "                train_data_dict=train_data_dict,\n",
    "                val_data_dict=val_data_dict,\n",
    "                num_epochs=100,\n",
    "                lr=0.1,\n",
    "                scheduler_params={'step_size': 10, 'gamma': 0.1},\n",
    "                minimization=True)"
   ]
  },
  {
   "cell_type": "code",
   "execution_count": 30,
   "id": "882ab81e-b685-49b1-a268-122ebac53c79",
   "metadata": {},
   "outputs": [
    {
     "name": "stdout",
     "output_type": "stream",
     "text": [
      "0.08562925913696434\n"
     ]
    }
   ],
   "source": [
    "test_regret = calc_test_regret(pred_model=pred_model,\n",
    "                               test_data_dict=final_data_test,\n",
    "                               optmodel=optmodel)\n",
    "print(test_regret)"
   ]
  },
  {
   "cell_type": "markdown",
   "id": "6f634575-13cd-4657-96b8-ee878cfb5998",
   "metadata": {},
   "source": [
    "## Cosine Loss"
   ]
  },
  {
   "cell_type": "code",
   "execution_count": 40,
   "id": "676498b9-0111-48c7-b90f-aece245b635b",
   "metadata": {},
   "outputs": [],
   "source": [
    "# Prediction Model\n",
    "pred_model = LinearRegression(input_dim=train_dict['X'].shape[1],\n",
    "                 output_dim=train_dict['true_cost'].shape[1])\n",
    "\n",
    "# optimization solver\n",
    "optmodel = partial(shortest_path_solver,size=5)\n",
    "\n",
    "# loss function\n",
    "loss_fn = nn.CosineEmbeddingLoss()\n",
    "\n",
    "# training, validation data\n",
    "train_data_dict = train_dict\n",
    "train_data_dict.update({'input2':train_dict['true_cost'], \n",
    "                       'target':torch.ones(train_dict['true_cost'].shape[0])}) # extra input key needed for loss function\n",
    "\n",
    "val_data_dict = val_dict"
   ]
  },
  {
   "cell_type": "code",
   "execution_count": 41,
   "id": "1a7238d8-86dd-462a-94c8-edc9a4d95658",
   "metadata": {
    "scrolled": true
   },
   "outputs": [
    {
     "name": "stderr",
     "output_type": "stream",
     "text": [
      "100%|██████████| 45/45 [00:00<00:00, 1094.69it/s]\n",
      "100%|██████████| 12/12 [00:00<00:00, 3458.51it/s]\n",
      "2024-11-06 09:18:08,838 - decision_learning.modeling.train - INFO - epoch: 0, train_loss: 0.07857334117094676, val_metric: 0.15394632031310854\n",
      "2024-11-06 09:18:08,838 - decision_learning.modeling.train - INFO - epoch: 0, train_loss: 0.07857334117094676, val_metric: 0.15394632031310854\n",
      "100%|██████████| 45/45 [00:00<00:00, 1154.03it/s]\n",
      "100%|██████████| 12/12 [00:00<00:00, 3487.02it/s]\n",
      "2024-11-06 09:18:08,884 - decision_learning.modeling.train - INFO - epoch: 1, train_loss: 0.023548006556100315, val_metric: 0.16055482282145492\n",
      "2024-11-06 09:18:08,884 - decision_learning.modeling.train - INFO - epoch: 1, train_loss: 0.023548006556100315, val_metric: 0.16055482282145492\n",
      "100%|██████████| 45/45 [00:00<00:00, 1152.18it/s]\n",
      "100%|██████████| 12/12 [00:00<00:00, 3498.65it/s]\n",
      "2024-11-06 09:18:08,931 - decision_learning.modeling.train - INFO - epoch: 2, train_loss: 0.022603477413455645, val_metric: 0.1482329970276144\n",
      "2024-11-06 09:18:08,931 - decision_learning.modeling.train - INFO - epoch: 2, train_loss: 0.022603477413455645, val_metric: 0.1482329970276144\n",
      "100%|██████████| 45/45 [00:00<00:00, 1157.90it/s]\n",
      "100%|██████████| 12/12 [00:00<00:00, 3526.11it/s]\n",
      "2024-11-06 09:18:08,977 - decision_learning.modeling.train - INFO - epoch: 3, train_loss: 0.022475925832986833, val_metric: 0.17099452565118398\n",
      "2024-11-06 09:18:08,977 - decision_learning.modeling.train - INFO - epoch: 3, train_loss: 0.022475925832986833, val_metric: 0.17099452565118398\n",
      "100%|██████████| 45/45 [00:00<00:00, 1153.57it/s]\n",
      "100%|██████████| 12/12 [00:00<00:00, 3512.57it/s]\n",
      "2024-11-06 09:18:09,023 - decision_learning.modeling.train - INFO - epoch: 4, train_loss: 0.022463876215948, val_metric: 0.16059308971535013\n",
      "2024-11-06 09:18:09,023 - decision_learning.modeling.train - INFO - epoch: 4, train_loss: 0.022463876215948, val_metric: 0.16059308971535013\n",
      "100%|██████████| 45/45 [00:00<00:00, 1153.96it/s]\n",
      "100%|██████████| 12/12 [00:00<00:00, 3519.94it/s]\n",
      "2024-11-06 09:18:09,069 - decision_learning.modeling.train - INFO - epoch: 5, train_loss: 0.022534545717967883, val_metric: 0.18562082941155805\n",
      "2024-11-06 09:18:09,069 - decision_learning.modeling.train - INFO - epoch: 5, train_loss: 0.022534545717967883, val_metric: 0.18562082941155805\n",
      "100%|██████████| 45/45 [00:00<00:00, 1155.43it/s]\n",
      "100%|██████████| 12/12 [00:00<00:00, 3496.47it/s]\n",
      "2024-11-06 09:18:09,115 - decision_learning.modeling.train - INFO - epoch: 6, train_loss: 0.02233506751557191, val_metric: 0.15416636762416283\n",
      "2024-11-06 09:18:09,115 - decision_learning.modeling.train - INFO - epoch: 6, train_loss: 0.02233506751557191, val_metric: 0.15416636762416283\n",
      "100%|██████████| 45/45 [00:00<00:00, 1153.73it/s]\n",
      "100%|██████████| 12/12 [00:00<00:00, 3504.26it/s]\n",
      "2024-11-06 09:18:09,160 - decision_learning.modeling.train - INFO - epoch: 7, train_loss: 0.022319891179601353, val_metric: 0.1526879350483318\n",
      "2024-11-06 09:18:09,160 - decision_learning.modeling.train - INFO - epoch: 7, train_loss: 0.022319891179601353, val_metric: 0.1526879350483318\n",
      "100%|██████████| 45/45 [00:00<00:00, 1156.04it/s]\n",
      "100%|██████████| 12/12 [00:00<00:00, 3495.74it/s]\n",
      "2024-11-06 09:18:09,206 - decision_learning.modeling.train - INFO - epoch: 8, train_loss: 0.022390728526645236, val_metric: 0.16594838946209964\n",
      "2024-11-06 09:18:09,206 - decision_learning.modeling.train - INFO - epoch: 8, train_loss: 0.022390728526645236, val_metric: 0.16594838946209964\n",
      "100%|██████████| 45/45 [00:00<00:00, 1149.13it/s]\n",
      "100%|██████████| 12/12 [00:00<00:00, 3340.30it/s]\n",
      "2024-11-06 09:18:09,253 - decision_learning.modeling.train - INFO - epoch: 9, train_loss: 0.02224708307120535, val_metric: 0.15808382051069267\n",
      "2024-11-06 09:18:09,253 - decision_learning.modeling.train - INFO - epoch: 9, train_loss: 0.02224708307120535, val_metric: 0.15808382051069267\n",
      "100%|██████████| 45/45 [00:00<00:00, 1156.60it/s]\n",
      "100%|██████████| 12/12 [00:00<00:00, 3493.80it/s]\n",
      "2024-11-06 09:18:09,298 - decision_learning.modeling.train - INFO - epoch: 10, train_loss: 0.021574849097265137, val_metric: 0.16422518814806547\n",
      "2024-11-06 09:18:09,298 - decision_learning.modeling.train - INFO - epoch: 10, train_loss: 0.021574849097265137, val_metric: 0.16422518814806547\n",
      "100%|██████████| 45/45 [00:00<00:00, 1155.33it/s]\n",
      "100%|██████████| 12/12 [00:00<00:00, 3510.61it/s]\n",
      "2024-11-06 09:18:09,344 - decision_learning.modeling.train - INFO - epoch: 11, train_loss: 0.021123282611370087, val_metric: 0.1654624252519445\n",
      "2024-11-06 09:18:09,344 - decision_learning.modeling.train - INFO - epoch: 11, train_loss: 0.021123282611370087, val_metric: 0.1654624252519445\n",
      "100%|██████████| 45/45 [00:00<00:00, 1147.27it/s]\n",
      "100%|██████████| 12/12 [00:00<00:00, 3492.34it/s]\n",
      "2024-11-06 09:18:09,391 - decision_learning.modeling.train - INFO - epoch: 12, train_loss: 0.021116803876227802, val_metric: 0.16358596629497577\n",
      "2024-11-06 09:18:09,391 - decision_learning.modeling.train - INFO - epoch: 12, train_loss: 0.021116803876227802, val_metric: 0.16358596629497577\n",
      "100%|██████████| 45/45 [00:00<00:00, 1153.41it/s]\n",
      "100%|██████████| 12/12 [00:00<00:00, 3517.73it/s]\n",
      "2024-11-06 09:18:09,436 - decision_learning.modeling.train - INFO - epoch: 13, train_loss: 0.021095768817596967, val_metric: 0.15700134891742157\n",
      "2024-11-06 09:18:09,436 - decision_learning.modeling.train - INFO - epoch: 13, train_loss: 0.021095768817596967, val_metric: 0.15700134891742157\n",
      "100%|██████████| 45/45 [00:00<00:00, 1156.59it/s]\n",
      "100%|██████████| 12/12 [00:00<00:00, 3500.60it/s]\n",
      "2024-11-06 09:18:09,482 - decision_learning.modeling.train - INFO - epoch: 14, train_loss: 0.021075868606567384, val_metric: 0.1772997060052048\n",
      "2024-11-06 09:18:09,482 - decision_learning.modeling.train - INFO - epoch: 14, train_loss: 0.021075868606567384, val_metric: 0.1772997060052048\n",
      "100%|██████████| 45/45 [00:00<00:00, 1093.24it/s]\n",
      "100%|██████████| 12/12 [00:00<00:00, 3481.23it/s]\n",
      "2024-11-06 09:18:09,531 - decision_learning.modeling.train - INFO - epoch: 15, train_loss: 0.0210821489079131, val_metric: 0.15933179008448203\n",
      "2024-11-06 09:18:09,531 - decision_learning.modeling.train - INFO - epoch: 15, train_loss: 0.0210821489079131, val_metric: 0.15933179008448203\n",
      "100%|██████████| 45/45 [00:00<00:00, 1154.58it/s]\n",
      "100%|██████████| 12/12 [00:00<00:00, 3521.17it/s]\n",
      "2024-11-06 09:18:09,577 - decision_learning.modeling.train - INFO - epoch: 16, train_loss: 0.021076916365159883, val_metric: 0.17064848902688468\n",
      "2024-11-06 09:18:09,577 - decision_learning.modeling.train - INFO - epoch: 16, train_loss: 0.021076916365159883, val_metric: 0.17064848902688468\n",
      "100%|██████████| 45/45 [00:00<00:00, 1154.82it/s]\n",
      "100%|██████████| 12/12 [00:00<00:00, 3516.01it/s]\n",
      "2024-11-06 09:18:09,622 - decision_learning.modeling.train - INFO - epoch: 17, train_loss: 0.021083334874775674, val_metric: 0.16457316345937337\n",
      "2024-11-06 09:18:09,622 - decision_learning.modeling.train - INFO - epoch: 17, train_loss: 0.021083334874775674, val_metric: 0.16457316345937337\n",
      "100%|██████████| 45/45 [00:00<00:00, 1151.71it/s]\n",
      "100%|██████████| 12/12 [00:00<00:00, 3488.47it/s]\n",
      "2024-11-06 09:18:09,669 - decision_learning.modeling.train - INFO - epoch: 18, train_loss: 0.0210695479479101, val_metric: 0.14598172524898348\n",
      "2024-11-06 09:18:09,669 - decision_learning.modeling.train - INFO - epoch: 18, train_loss: 0.0210695479479101, val_metric: 0.14598172524898348\n",
      "100%|██████████| 45/45 [00:00<00:00, 1148.84it/s]\n",
      "100%|██████████| 12/12 [00:00<00:00, 3500.11it/s]\n",
      "2024-11-06 09:18:09,715 - decision_learning.modeling.train - INFO - epoch: 19, train_loss: 0.021042654125226868, val_metric: 0.1483712900342277\n",
      "2024-11-06 09:18:09,715 - decision_learning.modeling.train - INFO - epoch: 19, train_loss: 0.021042654125226868, val_metric: 0.1483712900342277\n",
      "100%|██████████| 45/45 [00:00<00:00, 1155.67it/s]\n",
      "100%|██████████| 12/12 [00:00<00:00, 3508.65it/s]\n",
      "2024-11-06 09:18:09,761 - decision_learning.modeling.train - INFO - epoch: 20, train_loss: 0.020910268276929857, val_metric: 0.1639390354113651\n",
      "2024-11-06 09:18:09,761 - decision_learning.modeling.train - INFO - epoch: 20, train_loss: 0.020910268276929857, val_metric: 0.1639390354113651\n",
      "100%|██████████| 45/45 [00:00<00:00, 1132.43it/s]\n",
      "100%|██████████| 12/12 [00:00<00:00, 3506.45it/s]\n",
      "2024-11-06 09:18:09,807 - decision_learning.modeling.train - INFO - epoch: 21, train_loss: 0.020899030731783973, val_metric: 0.1687036691783383\n",
      "2024-11-06 09:18:09,807 - decision_learning.modeling.train - INFO - epoch: 21, train_loss: 0.020899030731783973, val_metric: 0.1687036691783383\n",
      "100%|██████████| 45/45 [00:00<00:00, 1146.23it/s]\n",
      "100%|██████████| 12/12 [00:00<00:00, 3512.33it/s]\n",
      "2024-11-06 09:18:09,853 - decision_learning.modeling.train - INFO - epoch: 22, train_loss: 0.020889157180984816, val_metric: 0.17029941132492482\n",
      "2024-11-06 09:18:09,853 - decision_learning.modeling.train - INFO - epoch: 22, train_loss: 0.020889157180984816, val_metric: 0.17029941132492482\n",
      "100%|██████████| 45/45 [00:00<00:00, 1149.38it/s]\n",
      "100%|██████████| 12/12 [00:00<00:00, 3534.28it/s]\n",
      "2024-11-06 09:18:09,900 - decision_learning.modeling.train - INFO - epoch: 23, train_loss: 0.020882947660154767, val_metric: 0.14567883391399317\n",
      "2024-11-06 09:18:09,900 - decision_learning.modeling.train - INFO - epoch: 23, train_loss: 0.020882947660154767, val_metric: 0.14567883391399317\n",
      "100%|██████████| 45/45 [00:00<00:00, 1160.35it/s]\n",
      "100%|██████████| 12/12 [00:00<00:00, 3505.72it/s]\n",
      "2024-11-06 09:18:09,945 - decision_learning.modeling.train - INFO - epoch: 24, train_loss: 0.020881824278169207, val_metric: 0.163023506310501\n",
      "2024-11-06 09:18:09,945 - decision_learning.modeling.train - INFO - epoch: 24, train_loss: 0.020881824278169207, val_metric: 0.163023506310501\n",
      "100%|██████████| 45/45 [00:00<00:00, 1148.26it/s]\n",
      "100%|██████████| 12/12 [00:00<00:00, 3476.66it/s]\n",
      "2024-11-06 09:18:09,991 - decision_learning.modeling.train - INFO - epoch: 25, train_loss: 0.020880700565046734, val_metric: 0.16177546070977014\n",
      "2024-11-06 09:18:09,991 - decision_learning.modeling.train - INFO - epoch: 25, train_loss: 0.020880700565046734, val_metric: 0.16177546070977014\n",
      "100%|██████████| 45/45 [00:00<00:00, 1152.63it/s]\n",
      "100%|██████████| 12/12 [00:00<00:00, 3507.92it/s]\n",
      "2024-11-06 09:18:10,037 - decision_learning.modeling.train - INFO - epoch: 26, train_loss: 0.0208791583776474, val_metric: 0.1511683718971419\n",
      "2024-11-06 09:18:10,037 - decision_learning.modeling.train - INFO - epoch: 26, train_loss: 0.0208791583776474, val_metric: 0.1511683718971419\n",
      "100%|██████████| 45/45 [00:00<00:00, 1160.31it/s]\n",
      "100%|██████████| 12/12 [00:00<00:00, 3523.14it/s]\n",
      "2024-11-06 09:18:10,083 - decision_learning.modeling.train - INFO - epoch: 27, train_loss: 0.020874107256531715, val_metric: 0.16256530460515525\n",
      "2024-11-06 09:18:10,083 - decision_learning.modeling.train - INFO - epoch: 27, train_loss: 0.020874107256531715, val_metric: 0.16256530460515525\n",
      "100%|██████████| 45/45 [00:00<00:00, 1145.61it/s]\n",
      "100%|██████████| 12/12 [00:00<00:00, 3507.43it/s]\n",
      "2024-11-06 09:18:10,129 - decision_learning.modeling.train - INFO - epoch: 28, train_loss: 0.020874623333414395, val_metric: 0.16365156487434512\n",
      "2024-11-06 09:18:10,129 - decision_learning.modeling.train - INFO - epoch: 28, train_loss: 0.020874623333414395, val_metric: 0.16365156487434512\n",
      "100%|██████████| 45/45 [00:00<00:00, 1159.76it/s]\n",
      "100%|██████████| 12/12 [00:00<00:00, 3510.37it/s]\n",
      "2024-11-06 09:18:10,175 - decision_learning.modeling.train - INFO - epoch: 29, train_loss: 0.020874878846936756, val_metric: 0.1591735906903491\n",
      "2024-11-06 09:18:10,175 - decision_learning.modeling.train - INFO - epoch: 29, train_loss: 0.020874878846936756, val_metric: 0.1591735906903491\n",
      "100%|██████████| 45/45 [00:00<00:00, 1147.61it/s]\n",
      "100%|██████████| 12/12 [00:00<00:00, 3514.53it/s]\n",
      "2024-11-06 09:18:10,221 - decision_learning.modeling.train - INFO - epoch: 30, train_loss: 0.020853013545274735, val_metric: 0.16235790310870607\n",
      "2024-11-06 09:18:10,221 - decision_learning.modeling.train - INFO - epoch: 30, train_loss: 0.020853013545274735, val_metric: 0.16235790310870607\n",
      "100%|██████████| 45/45 [00:00<00:00, 1158.16it/s]\n",
      "100%|██████████| 12/12 [00:00<00:00, 3510.61it/s]\n",
      "2024-11-06 09:18:10,267 - decision_learning.modeling.train - INFO - epoch: 31, train_loss: 0.02085269234246678, val_metric: 0.16162030239329772\n",
      "2024-11-06 09:18:10,267 - decision_learning.modeling.train - INFO - epoch: 31, train_loss: 0.02085269234246678, val_metric: 0.16162030239329772\n",
      "100%|██████████| 45/45 [00:00<00:00, 1158.89it/s]\n",
      "100%|██████████| 12/12 [00:00<00:00, 3526.85it/s]\n",
      "2024-11-06 09:18:10,313 - decision_learning.modeling.train - INFO - epoch: 32, train_loss: 0.02085250574681494, val_metric: 0.15580536910047063\n",
      "2024-11-06 09:18:10,313 - decision_learning.modeling.train - INFO - epoch: 32, train_loss: 0.02085250574681494, val_metric: 0.15580536910047063\n",
      "100%|██████████| 45/45 [00:00<00:00, 1138.71it/s]\n",
      "100%|██████████| 12/12 [00:00<00:00, 3399.18it/s]\n",
      "2024-11-06 09:18:10,359 - decision_learning.modeling.train - INFO - epoch: 33, train_loss: 0.02085251162449519, val_metric: 0.14795867915147629\n",
      "2024-11-06 09:18:10,359 - decision_learning.modeling.train - INFO - epoch: 33, train_loss: 0.02085251162449519, val_metric: 0.14795867915147629\n",
      "100%|██████████| 45/45 [00:00<00:00, 1145.51it/s]\n",
      "100%|██████████| 12/12 [00:00<00:00, 3513.55it/s]\n",
      "2024-11-06 09:18:10,405 - decision_learning.modeling.train - INFO - epoch: 34, train_loss: 0.02085191338426537, val_metric: 0.1553422256439265\n",
      "2024-11-06 09:18:10,405 - decision_learning.modeling.train - INFO - epoch: 34, train_loss: 0.02085191338426537, val_metric: 0.1553422256439265\n",
      "100%|██████████| 45/45 [00:00<00:00, 1157.99it/s]\n",
      "100%|██████████| 12/12 [00:00<00:00, 3494.04it/s]\n",
      "2024-11-06 09:18:10,451 - decision_learning.modeling.train - INFO - epoch: 35, train_loss: 0.020851906347605916, val_metric: 0.16807325377930724\n",
      "2024-11-06 09:18:10,451 - decision_learning.modeling.train - INFO - epoch: 35, train_loss: 0.020851906347605916, val_metric: 0.16807325377930724\n",
      "100%|██████████| 45/45 [00:00<00:00, 1152.82it/s]\n",
      "100%|██████████| 12/12 [00:00<00:00, 3497.93it/s]\n",
      "2024-11-06 09:18:10,497 - decision_learning.modeling.train - INFO - epoch: 36, train_loss: 0.02085179305738873, val_metric: 0.15142554569796868\n",
      "2024-11-06 09:18:10,497 - decision_learning.modeling.train - INFO - epoch: 36, train_loss: 0.02085179305738873, val_metric: 0.15142554569796868\n",
      "100%|██████████| 45/45 [00:00<00:00, 1159.62it/s]\n",
      "100%|██████████| 12/12 [00:00<00:00, 3525.12it/s]\n",
      "2024-11-06 09:18:10,543 - decision_learning.modeling.train - INFO - epoch: 37, train_loss: 0.020851569374402364, val_metric: 0.14381561631600473\n",
      "2024-11-06 09:18:10,543 - decision_learning.modeling.train - INFO - epoch: 37, train_loss: 0.020851569374402364, val_metric: 0.14381561631600473\n",
      "100%|██████████| 45/45 [00:00<00:00, 1159.04it/s]\n",
      "100%|██████████| 12/12 [00:00<00:00, 3456.13it/s]\n",
      "2024-11-06 09:18:10,589 - decision_learning.modeling.train - INFO - epoch: 38, train_loss: 0.02085162815120485, val_metric: 0.1509188007904665\n",
      "2024-11-06 09:18:10,589 - decision_learning.modeling.train - INFO - epoch: 38, train_loss: 0.02085162815120485, val_metric: 0.1509188007904665\n",
      "100%|██████████| 45/45 [00:00<00:00, 1155.29it/s]\n",
      "100%|██████████| 12/12 [00:00<00:00, 3534.53it/s]\n",
      "2024-11-06 09:18:10,635 - decision_learning.modeling.train - INFO - epoch: 39, train_loss: 0.020851246681478287, val_metric: 0.15461452110207186\n",
      "2024-11-06 09:18:10,635 - decision_learning.modeling.train - INFO - epoch: 39, train_loss: 0.020851246681478287, val_metric: 0.15461452110207186\n",
      "100%|██████████| 45/45 [00:00<00:00, 1157.38it/s]\n",
      "100%|██████████| 12/12 [00:00<00:00, 3519.94it/s]\n",
      "2024-11-06 09:18:10,680 - decision_learning.modeling.train - INFO - epoch: 40, train_loss: 0.020848824787471028, val_metric: 0.16066356669013326\n",
      "2024-11-06 09:18:10,680 - decision_learning.modeling.train - INFO - epoch: 40, train_loss: 0.020848824787471028, val_metric: 0.16066356669013326\n",
      "100%|██████████| 45/45 [00:00<00:00, 1136.53it/s]\n",
      "100%|██████████| 12/12 [00:00<00:00, 3531.80it/s]\n",
      "2024-11-06 09:18:10,727 - decision_learning.modeling.train - INFO - epoch: 41, train_loss: 0.020848811666170756, val_metric: 0.1423599791514709\n",
      "2024-11-06 09:18:10,727 - decision_learning.modeling.train - INFO - epoch: 41, train_loss: 0.020848811666170756, val_metric: 0.1423599791514709\n",
      "100%|██████████| 45/45 [00:00<00:00, 1158.33it/s]\n",
      "100%|██████████| 12/12 [00:00<00:00, 3510.37it/s]\n",
      "2024-11-06 09:18:10,773 - decision_learning.modeling.train - INFO - epoch: 42, train_loss: 0.020848764810297224, val_metric: 0.1639819146063788\n",
      "2024-11-06 09:18:10,773 - decision_learning.modeling.train - INFO - epoch: 42, train_loss: 0.020848764810297224, val_metric: 0.1639819146063788\n",
      "100%|██████████| 45/45 [00:00<00:00, 1157.07it/s]\n",
      "100%|██████████| 12/12 [00:00<00:00, 3508.90it/s]\n",
      "2024-11-06 09:18:10,819 - decision_learning.modeling.train - INFO - epoch: 43, train_loss: 0.02084874759117762, val_metric: 0.15730782618981995\n",
      "2024-11-06 09:18:10,819 - decision_learning.modeling.train - INFO - epoch: 43, train_loss: 0.02084874759117762, val_metric: 0.15730782618981995\n",
      "100%|██████████| 45/45 [00:00<00:00, 1151.38it/s]\n",
      "100%|██████████| 12/12 [00:00<00:00, 3514.53it/s]\n",
      "2024-11-06 09:18:10,865 - decision_learning.modeling.train - INFO - epoch: 44, train_loss: 0.020848715719249514, val_metric: 0.1474726769278504\n",
      "2024-11-06 09:18:10,865 - decision_learning.modeling.train - INFO - epoch: 44, train_loss: 0.020848715719249514, val_metric: 0.1474726769278504\n",
      "100%|██████████| 45/45 [00:00<00:00, 1156.08it/s]\n",
      "100%|██████████| 12/12 [00:00<00:00, 3509.88it/s]\n",
      "2024-11-06 09:18:10,911 - decision_learning.modeling.train - INFO - epoch: 45, train_loss: 0.020848689973354338, val_metric: 0.15520137306361556\n",
      "2024-11-06 09:18:10,911 - decision_learning.modeling.train - INFO - epoch: 45, train_loss: 0.020848689973354338, val_metric: 0.15520137306361556\n",
      "100%|██████████| 45/45 [00:00<00:00, 1149.87it/s]\n",
      "100%|██████████| 12/12 [00:00<00:00, 3498.90it/s]\n",
      "2024-11-06 09:18:10,957 - decision_learning.modeling.train - INFO - epoch: 46, train_loss: 0.020848701521754266, val_metric: 0.13953225843112668\n",
      "2024-11-06 09:18:10,957 - decision_learning.modeling.train - INFO - epoch: 46, train_loss: 0.020848701521754266, val_metric: 0.13953225843112668\n",
      "100%|██████████| 45/45 [00:00<00:00, 1146.91it/s]\n",
      "100%|██████████| 12/12 [00:00<00:00, 3524.63it/s]\n",
      "2024-11-06 09:18:11,003 - decision_learning.modeling.train - INFO - epoch: 47, train_loss: 0.02084867979089419, val_metric: 0.1538699005657304\n",
      "2024-11-06 09:18:11,003 - decision_learning.modeling.train - INFO - epoch: 47, train_loss: 0.02084867979089419, val_metric: 0.1538699005657304\n",
      "100%|██████████| 45/45 [00:00<00:00, 1159.74it/s]\n",
      "100%|██████████| 12/12 [00:00<00:00, 3520.43it/s]\n",
      "2024-11-06 09:18:11,048 - decision_learning.modeling.train - INFO - epoch: 48, train_loss: 0.020848655121193993, val_metric: 0.1549345691835304\n",
      "2024-11-06 09:18:11,048 - decision_learning.modeling.train - INFO - epoch: 48, train_loss: 0.020848655121193993, val_metric: 0.1549345691835304\n",
      "100%|██████████| 45/45 [00:00<00:00, 1151.10it/s]\n",
      "100%|██████████| 12/12 [00:00<00:00, 3401.94it/s]\n",
      "2024-11-06 09:18:11,095 - decision_learning.modeling.train - INFO - epoch: 49, train_loss: 0.020848645269870757, val_metric: 0.14545798832005297\n",
      "2024-11-06 09:18:11,095 - decision_learning.modeling.train - INFO - epoch: 49, train_loss: 0.020848645269870757, val_metric: 0.14545798832005297\n",
      "100%|██████████| 45/45 [00:00<00:00, 1150.41it/s]\n",
      "100%|██████████| 12/12 [00:00<00:00, 3521.42it/s]\n",
      "2024-11-06 09:18:11,141 - decision_learning.modeling.train - INFO - epoch: 50, train_loss: 0.020848348943723574, val_metric: 0.15993720529091202\n",
      "2024-11-06 09:18:11,141 - decision_learning.modeling.train - INFO - epoch: 50, train_loss: 0.020848348943723574, val_metric: 0.15993720529091202\n",
      "100%|██████████| 45/45 [00:00<00:00, 1149.32it/s]\n",
      "100%|██████████| 12/12 [00:00<00:00, 3525.37it/s]\n",
      "2024-11-06 09:18:11,187 - decision_learning.modeling.train - INFO - epoch: 51, train_loss: 0.020848343438572354, val_metric: 0.15234084671800824\n",
      "2024-11-06 09:18:11,187 - decision_learning.modeling.train - INFO - epoch: 51, train_loss: 0.020848343438572354, val_metric: 0.15234084671800824\n",
      "100%|██████████| 45/45 [00:00<00:00, 1160.54it/s]\n",
      "100%|██████████| 12/12 [00:00<00:00, 3518.22it/s]\n",
      "2024-11-06 09:18:11,232 - decision_learning.modeling.train - INFO - epoch: 52, train_loss: 0.020848344680335786, val_metric: 0.1438760197210373\n",
      "2024-11-06 09:18:11,232 - decision_learning.modeling.train - INFO - epoch: 52, train_loss: 0.020848344680335786, val_metric: 0.1438760197210373\n",
      "100%|██████████| 45/45 [00:00<00:00, 1155.45it/s]\n",
      "100%|██████████| 12/12 [00:00<00:00, 3514.04it/s]\n",
      "2024-11-06 09:18:11,278 - decision_learning.modeling.train - INFO - epoch: 53, train_loss: 0.020848339837458398, val_metric: 0.14722482909851595\n",
      "2024-11-06 09:18:11,278 - decision_learning.modeling.train - INFO - epoch: 53, train_loss: 0.020848339837458398, val_metric: 0.14722482909851595\n",
      "100%|██████████| 45/45 [00:00<00:00, 1159.64it/s]\n",
      "100%|██████████| 12/12 [00:00<00:00, 3515.52it/s]\n",
      "2024-11-06 09:18:11,324 - decision_learning.modeling.train - INFO - epoch: 54, train_loss: 0.02084833164181974, val_metric: 0.1589509331209695\n",
      "2024-11-06 09:18:11,324 - decision_learning.modeling.train - INFO - epoch: 54, train_loss: 0.02084833164181974, val_metric: 0.1589509331209695\n",
      "100%|██████████| 45/45 [00:00<00:00, 1154.61it/s]\n",
      "100%|██████████| 12/12 [00:00<00:00, 3527.34it/s]\n",
      "2024-11-06 09:18:11,370 - decision_learning.modeling.train - INFO - epoch: 55, train_loss: 0.02084832973778248, val_metric: 0.17380163039922106\n",
      "2024-11-06 09:18:11,370 - decision_learning.modeling.train - INFO - epoch: 55, train_loss: 0.02084832973778248, val_metric: 0.17380163039922106\n",
      "100%|██████████| 45/45 [00:00<00:00, 1134.13it/s]\n",
      "100%|██████████| 12/12 [00:00<00:00, 3504.75it/s]\n",
      "2024-11-06 09:18:11,417 - decision_learning.modeling.train - INFO - epoch: 56, train_loss: 0.020848330896761684, val_metric: 0.16285130528797262\n",
      "2024-11-06 09:18:11,417 - decision_learning.modeling.train - INFO - epoch: 56, train_loss: 0.020848330896761684, val_metric: 0.16285130528797262\n",
      "100%|██████████| 45/45 [00:00<00:00, 1150.31it/s]\n",
      "100%|██████████| 12/12 [00:00<00:00, 3525.61it/s]\n",
      "2024-11-06 09:18:11,463 - decision_learning.modeling.train - INFO - epoch: 57, train_loss: 0.020848329158292878, val_metric: 0.15957885230208751\n",
      "2024-11-06 09:18:11,463 - decision_learning.modeling.train - INFO - epoch: 57, train_loss: 0.020848329158292878, val_metric: 0.15957885230208751\n",
      "100%|██████████| 45/45 [00:00<00:00, 1158.42it/s]\n",
      "100%|██████████| 12/12 [00:00<00:00, 3531.80it/s]\n",
      "2024-11-06 09:18:11,508 - decision_learning.modeling.train - INFO - epoch: 58, train_loss: 0.020848323156436286, val_metric: 0.15916470820934892\n",
      "2024-11-06 09:18:11,508 - decision_learning.modeling.train - INFO - epoch: 58, train_loss: 0.020848323156436286, val_metric: 0.15916470820934892\n",
      "100%|██████████| 45/45 [00:00<00:00, 1145.80it/s]\n",
      "100%|██████████| 12/12 [00:00<00:00, 3515.76it/s]\n",
      "2024-11-06 09:18:11,554 - decision_learning.modeling.train - INFO - epoch: 59, train_loss: 0.020848322287201883, val_metric: 0.16239985730926468\n",
      "2024-11-06 09:18:11,554 - decision_learning.modeling.train - INFO - epoch: 59, train_loss: 0.020848322287201883, val_metric: 0.16239985730926468\n",
      "100%|██████████| 45/45 [00:00<00:00, 1149.43it/s]\n",
      "100%|██████████| 12/12 [00:00<00:00, 3534.53it/s]\n",
      "2024-11-06 09:18:11,601 - decision_learning.modeling.train - INFO - epoch: 60, train_loss: 0.020848292567663722, val_metric: 0.14989792369097835\n",
      "2024-11-06 09:18:11,601 - decision_learning.modeling.train - INFO - epoch: 60, train_loss: 0.020848292567663722, val_metric: 0.14989792369097835\n",
      "100%|██████████| 45/45 [00:00<00:00, 1157.53it/s]\n",
      "100%|██████████| 12/12 [00:00<00:00, 3514.04it/s]\n",
      "2024-11-06 09:18:11,646 - decision_learning.modeling.train - INFO - epoch: 61, train_loss: 0.0208482948028379, val_metric: 0.1465359869949317\n",
      "2024-11-06 09:18:11,646 - decision_learning.modeling.train - INFO - epoch: 61, train_loss: 0.0208482948028379, val_metric: 0.1465359869949317\n",
      "100%|██████████| 45/45 [00:00<00:00, 1146.53it/s]\n",
      "100%|██████████| 12/12 [00:00<00:00, 3502.06it/s]\n",
      "2024-11-06 09:18:11,693 - decision_learning.modeling.train - INFO - epoch: 62, train_loss: 0.02084829236070315, val_metric: 0.14469444974643156\n",
      "2024-11-06 09:18:11,693 - decision_learning.modeling.train - INFO - epoch: 62, train_loss: 0.02084829236070315, val_metric: 0.14469444974643156\n",
      "100%|██████████| 45/45 [00:00<00:00, 1142.51it/s]\n",
      "100%|██████████| 12/12 [00:00<00:00, 3511.59it/s]\n",
      "2024-11-06 09:18:11,739 - decision_learning.modeling.train - INFO - epoch: 63, train_loss: 0.020848288842373424, val_metric: 0.15983796478992288\n",
      "2024-11-06 09:18:11,739 - decision_learning.modeling.train - INFO - epoch: 63, train_loss: 0.020848288842373424, val_metric: 0.15983796478992288\n",
      "100%|██████████| 45/45 [00:00<00:00, 1152.30it/s]\n",
      "100%|██████████| 12/12 [00:00<00:00, 3526.85it/s]\n",
      "2024-11-06 09:18:11,785 - decision_learning.modeling.train - INFO - epoch: 64, train_loss: 0.020848288966549767, val_metric: 0.15038298824899224\n",
      "2024-11-06 09:18:11,785 - decision_learning.modeling.train - INFO - epoch: 64, train_loss: 0.020848288966549767, val_metric: 0.15038298824899224\n",
      "100%|██████████| 45/45 [00:00<00:00, 1158.98it/s]\n",
      "100%|██████████| 12/12 [00:00<00:00, 3497.44it/s]\n",
      "2024-11-06 09:18:11,831 - decision_learning.modeling.train - INFO - epoch: 65, train_loss: 0.020848289504647254, val_metric: 0.1531366713994591\n",
      "2024-11-06 09:18:11,831 - decision_learning.modeling.train - INFO - epoch: 65, train_loss: 0.020848289504647254, val_metric: 0.1531366713994591\n",
      "100%|██████████| 45/45 [00:00<00:00, 1157.08it/s]\n",
      "100%|██████████| 12/12 [00:00<00:00, 3522.41it/s]\n",
      "2024-11-06 09:18:11,876 - decision_learning.modeling.train - INFO - epoch: 66, train_loss: 0.02084829289880064, val_metric: 0.1231267975277644\n",
      "2024-11-06 09:18:11,876 - decision_learning.modeling.train - INFO - epoch: 66, train_loss: 0.02084829289880064, val_metric: 0.1231267975277644\n",
      "100%|██████████| 45/45 [00:00<00:00, 1153.05it/s]\n",
      "100%|██████████| 12/12 [00:00<00:00, 3532.05it/s]\n",
      "2024-11-06 09:18:11,922 - decision_learning.modeling.train - INFO - epoch: 67, train_loss: 0.020848293726642927, val_metric: 0.1492643531738745\n",
      "2024-11-06 09:18:11,922 - decision_learning.modeling.train - INFO - epoch: 67, train_loss: 0.020848293726642927, val_metric: 0.1492643531738745\n",
      "100%|██████████| 45/45 [00:00<00:00, 1153.85it/s]\n",
      "100%|██████████| 12/12 [00:00<00:00, 3506.94it/s]\n",
      "2024-11-06 09:18:11,968 - decision_learning.modeling.train - INFO - epoch: 68, train_loss: 0.0208482902083132, val_metric: 0.16051261519775795\n",
      "2024-11-06 09:18:11,968 - decision_learning.modeling.train - INFO - epoch: 68, train_loss: 0.0208482902083132, val_metric: 0.16051261519775795\n",
      "100%|██████████| 45/45 [00:00<00:00, 1146.11it/s]\n",
      "100%|██████████| 12/12 [00:00<00:00, 3533.04it/s]\n",
      "2024-11-06 09:18:12,014 - decision_learning.modeling.train - INFO - epoch: 69, train_loss: 0.020848293022976982, val_metric: 0.14640767885997052\n",
      "2024-11-06 09:18:12,014 - decision_learning.modeling.train - INFO - epoch: 69, train_loss: 0.020848293022976982, val_metric: 0.14640767885997052\n",
      "100%|██████████| 45/45 [00:00<00:00, 1155.02it/s]\n",
      "100%|██████████| 12/12 [00:00<00:00, 3473.30it/s]\n",
      "2024-11-06 09:18:12,060 - decision_learning.modeling.train - INFO - epoch: 70, train_loss: 0.02084828954603937, val_metric: 0.16117894065549726\n",
      "2024-11-06 09:18:12,060 - decision_learning.modeling.train - INFO - epoch: 70, train_loss: 0.02084828954603937, val_metric: 0.16117894065549726\n",
      "100%|██████████| 45/45 [00:00<00:00, 1158.79it/s]\n",
      "100%|██████████| 12/12 [00:00<00:00, 3505.97it/s]\n",
      "2024-11-06 09:18:12,106 - decision_learning.modeling.train - INFO - epoch: 71, train_loss: 0.020848292484879495, val_metric: 0.15138063911784796\n",
      "2024-11-06 09:18:12,106 - decision_learning.modeling.train - INFO - epoch: 71, train_loss: 0.020848292484879495, val_metric: 0.15138063911784796\n",
      "100%|██████████| 45/45 [00:00<00:00, 1155.16it/s]\n",
      "100%|██████████| 12/12 [00:00<00:00, 3472.35it/s]\n",
      "2024-11-06 09:18:12,152 - decision_learning.modeling.train - INFO - epoch: 72, train_loss: 0.020848291201723948, val_metric: 0.1464640021524752\n",
      "2024-11-06 09:18:12,152 - decision_learning.modeling.train - INFO - epoch: 72, train_loss: 0.020848291201723948, val_metric: 0.1464640021524752\n",
      "100%|██████████| 45/45 [00:00<00:00, 1157.28it/s]\n",
      "100%|██████████| 12/12 [00:00<00:00, 3520.19it/s]\n",
      "2024-11-06 09:18:12,198 - decision_learning.modeling.train - INFO - epoch: 73, train_loss: 0.020848292070958348, val_metric: 0.1648935916755395\n",
      "2024-11-06 09:18:12,198 - decision_learning.modeling.train - INFO - epoch: 73, train_loss: 0.020848292070958348, val_metric: 0.1648935916755395\n",
      "100%|██████████| 45/45 [00:00<00:00, 1152.65it/s]\n",
      "100%|██████████| 12/12 [00:00<00:00, 3520.43it/s]\n",
      "2024-11-06 09:18:12,244 - decision_learning.modeling.train - INFO - epoch: 74, train_loss: 0.02084829095337126, val_metric: 0.15354416313481525\n",
      "2024-11-06 09:18:12,244 - decision_learning.modeling.train - INFO - epoch: 74, train_loss: 0.02084829095337126, val_metric: 0.15354416313481525\n",
      "100%|██████████| 45/45 [00:00<00:00, 1154.69it/s]\n",
      "100%|██████████| 12/12 [00:00<00:00, 3500.36it/s]\n",
      "2024-11-06 09:18:12,290 - decision_learning.modeling.train - INFO - epoch: 75, train_loss: 0.020848292029566236, val_metric: 0.15791875334950967\n",
      "2024-11-06 09:18:12,290 - decision_learning.modeling.train - INFO - epoch: 75, train_loss: 0.020848292029566236, val_metric: 0.15791875334950967\n",
      "100%|██████████| 45/45 [00:00<00:00, 1155.83it/s]\n",
      "100%|██████████| 12/12 [00:00<00:00, 3527.10it/s]\n",
      "2024-11-06 09:18:12,335 - decision_learning.modeling.train - INFO - epoch: 76, train_loss: 0.02084829215374258, val_metric: 0.17913761930282612\n",
      "2024-11-06 09:18:12,335 - decision_learning.modeling.train - INFO - epoch: 76, train_loss: 0.02084829215374258, val_metric: 0.17913761930282612\n",
      "100%|██████████| 45/45 [00:00<00:00, 1156.50it/s]\n",
      "100%|██████████| 12/12 [00:00<00:00, 3495.98it/s]\n",
      "2024-11-06 09:18:12,381 - decision_learning.modeling.train - INFO - epoch: 77, train_loss: 0.020848290705018573, val_metric: 0.1419381436664825\n",
      "2024-11-06 09:18:12,381 - decision_learning.modeling.train - INFO - epoch: 77, train_loss: 0.020848290705018573, val_metric: 0.1419381436664825\n",
      "100%|██████████| 45/45 [00:00<00:00, 1158.56it/s]\n",
      "100%|██████████| 12/12 [00:00<00:00, 3522.16it/s]\n",
      "2024-11-06 09:18:12,427 - decision_learning.modeling.train - INFO - epoch: 78, train_loss: 0.020848292816016408, val_metric: 0.15545760919883037\n",
      "2024-11-06 09:18:12,427 - decision_learning.modeling.train - INFO - epoch: 78, train_loss: 0.020848292816016408, val_metric: 0.15545760919883037\n",
      "100%|██████████| 45/45 [00:00<00:00, 1156.58it/s]\n",
      "100%|██████████| 12/12 [00:00<00:00, 3517.97it/s]\n",
      "2024-11-06 09:18:12,473 - decision_learning.modeling.train - INFO - epoch: 79, train_loss: 0.020848291201723948, val_metric: 0.14506677902133766\n",
      "2024-11-06 09:18:12,473 - decision_learning.modeling.train - INFO - epoch: 79, train_loss: 0.020848291201723948, val_metric: 0.14506677902133766\n",
      "100%|██████████| 45/45 [00:00<00:00, 1155.21it/s]\n",
      "100%|██████████| 12/12 [00:00<00:00, 3520.93it/s]\n",
      "2024-11-06 09:18:12,519 - decision_learning.modeling.train - INFO - epoch: 80, train_loss: 0.020848291657037204, val_metric: 0.16186551462199303\n",
      "2024-11-06 09:18:12,519 - decision_learning.modeling.train - INFO - epoch: 80, train_loss: 0.020848291657037204, val_metric: 0.16186551462199303\n",
      "100%|██████████| 45/45 [00:00<00:00, 1155.07it/s]\n",
      "100%|██████████| 12/12 [00:00<00:00, 3517.73it/s]\n",
      "2024-11-06 09:18:12,564 - decision_learning.modeling.train - INFO - epoch: 81, train_loss: 0.020848292236526806, val_metric: 0.1740783051105461\n",
      "2024-11-06 09:18:12,564 - decision_learning.modeling.train - INFO - epoch: 81, train_loss: 0.020848292236526806, val_metric: 0.1740783051105461\n",
      "100%|██████████| 45/45 [00:00<00:00, 1154.59it/s]\n",
      "100%|██████████| 12/12 [00:00<00:00, 3510.37it/s]\n",
      "2024-11-06 09:18:12,610 - decision_learning.modeling.train - INFO - epoch: 82, train_loss: 0.020848291408684518, val_metric: 0.15960993465000967\n",
      "2024-11-06 09:18:12,610 - decision_learning.modeling.train - INFO - epoch: 82, train_loss: 0.020848291408684518, val_metric: 0.15960993465000967\n",
      "100%|██████████| 45/45 [00:00<00:00, 1155.82it/s]\n",
      "100%|██████████| 12/12 [00:00<00:00, 3523.88it/s]\n",
      "2024-11-06 09:18:12,656 - decision_learning.modeling.train - INFO - epoch: 83, train_loss: 0.020848291822605662, val_metric: 0.15570683818426895\n",
      "2024-11-06 09:18:12,656 - decision_learning.modeling.train - INFO - epoch: 83, train_loss: 0.020848291822605662, val_metric: 0.15570683818426895\n",
      "100%|██████████| 45/45 [00:00<00:00, 1155.67it/s]\n",
      "100%|██████████| 12/12 [00:00<00:00, 3508.17it/s]\n",
      "2024-11-06 09:18:12,702 - decision_learning.modeling.train - INFO - epoch: 84, train_loss: 0.020848291863997778, val_metric: 0.16507335737874848\n",
      "2024-11-06 09:18:12,702 - decision_learning.modeling.train - INFO - epoch: 84, train_loss: 0.020848291863997778, val_metric: 0.16507335737874848\n",
      "100%|██████████| 45/45 [00:00<00:00, 1155.77it/s]\n",
      "100%|██████████| 12/12 [00:00<00:00, 3531.80it/s]\n",
      "2024-11-06 09:18:12,748 - decision_learning.modeling.train - INFO - epoch: 85, train_loss: 0.020848291408684518, val_metric: 0.162747452485865\n",
      "2024-11-06 09:18:12,748 - decision_learning.modeling.train - INFO - epoch: 85, train_loss: 0.020848291408684518, val_metric: 0.162747452485865\n",
      "100%|██████████| 45/45 [00:00<00:00, 1154.78it/s]\n",
      "100%|██████████| 12/12 [00:00<00:00, 3532.05it/s]\n",
      "2024-11-06 09:18:12,794 - decision_learning.modeling.train - INFO - epoch: 86, train_loss: 0.020848291657037204, val_metric: 0.1363585390999539\n",
      "2024-11-06 09:18:12,794 - decision_learning.modeling.train - INFO - epoch: 86, train_loss: 0.020848291657037204, val_metric: 0.1363585390999539\n",
      "100%|██████████| 45/45 [00:00<00:00, 1153.70it/s]\n",
      "100%|██████████| 12/12 [00:00<00:00, 3538.50it/s]\n",
      "2024-11-06 09:18:12,840 - decision_learning.modeling.train - INFO - epoch: 87, train_loss: 0.02084829198817412, val_metric: 0.1556116524534939\n",
      "2024-11-06 09:18:12,840 - decision_learning.modeling.train - INFO - epoch: 87, train_loss: 0.02084829198817412, val_metric: 0.1556116524534939\n",
      "100%|██████████| 45/45 [00:00<00:00, 1152.53it/s]\n",
      "100%|██████████| 12/12 [00:00<00:00, 3523.88it/s]\n",
      "2024-11-06 09:18:12,886 - decision_learning.modeling.train - INFO - epoch: 88, train_loss: 0.020848291946782005, val_metric: 0.15444675498446508\n",
      "2024-11-06 09:18:12,886 - decision_learning.modeling.train - INFO - epoch: 88, train_loss: 0.020848291946782005, val_metric: 0.15444675498446508\n",
      "100%|██████████| 45/45 [00:00<00:00, 1154.02it/s]\n",
      "100%|██████████| 12/12 [00:00<00:00, 3544.23it/s]\n",
      "2024-11-06 09:18:12,931 - decision_learning.modeling.train - INFO - epoch: 89, train_loss: 0.02084829149146875, val_metric: 0.17549748735662415\n",
      "2024-11-06 09:18:12,931 - decision_learning.modeling.train - INFO - epoch: 89, train_loss: 0.02084829149146875, val_metric: 0.17549748735662415\n",
      "100%|██████████| 45/45 [00:00<00:00, 1155.16it/s]\n",
      "100%|██████████| 12/12 [00:00<00:00, 3528.33it/s]\n",
      "2024-11-06 09:18:12,977 - decision_learning.modeling.train - INFO - epoch: 90, train_loss: 0.02084829124311606, val_metric: 0.16922084244798477\n",
      "2024-11-06 09:18:12,977 - decision_learning.modeling.train - INFO - epoch: 90, train_loss: 0.02084829124311606, val_metric: 0.16922084244798477\n",
      "100%|██████████| 45/45 [00:00<00:00, 1156.32it/s]\n",
      "100%|██████████| 12/12 [00:00<00:00, 3520.19it/s]\n",
      "2024-11-06 09:18:13,023 - decision_learning.modeling.train - INFO - epoch: 91, train_loss: 0.020848291863997778, val_metric: 0.14225597429548023\n",
      "2024-11-06 09:18:13,023 - decision_learning.modeling.train - INFO - epoch: 91, train_loss: 0.020848291863997778, val_metric: 0.14225597429548023\n",
      "100%|██████████| 45/45 [00:00<00:00, 1154.24it/s]\n",
      "100%|██████████| 12/12 [00:00<00:00, 3510.12it/s]\n",
      "2024-11-06 09:18:13,069 - decision_learning.modeling.train - INFO - epoch: 92, train_loss: 0.020848291450076634, val_metric: 0.1486625872606372\n",
      "2024-11-06 09:18:13,069 - decision_learning.modeling.train - INFO - epoch: 92, train_loss: 0.020848291450076634, val_metric: 0.1486625872606372\n",
      "100%|██████████| 45/45 [00:00<00:00, 1153.92it/s]\n",
      "100%|██████████| 12/12 [00:00<00:00, 3524.38it/s]\n",
      "2024-11-06 09:18:13,115 - decision_learning.modeling.train - INFO - epoch: 93, train_loss: 0.020848291615645092, val_metric: 0.16902750593571558\n",
      "2024-11-06 09:18:13,115 - decision_learning.modeling.train - INFO - epoch: 93, train_loss: 0.020848291615645092, val_metric: 0.16902750593571558\n",
      "100%|██████████| 45/45 [00:00<00:00, 1157.83it/s]\n",
      "100%|██████████| 12/12 [00:00<00:00, 3521.17it/s]\n",
      "2024-11-06 09:18:13,161 - decision_learning.modeling.train - INFO - epoch: 94, train_loss: 0.020848292029566236, val_metric: 0.16045055187116897\n",
      "2024-11-06 09:18:13,161 - decision_learning.modeling.train - INFO - epoch: 94, train_loss: 0.020848292029566236, val_metric: 0.16045055187116897\n",
      "100%|██████████| 45/45 [00:00<00:00, 1154.42it/s]\n",
      "100%|██████████| 12/12 [00:00<00:00, 3538.00it/s]\n",
      "2024-11-06 09:18:13,206 - decision_learning.modeling.train - INFO - epoch: 95, train_loss: 0.02084829124311606, val_metric: 0.16307879056813834\n",
      "2024-11-06 09:18:13,206 - decision_learning.modeling.train - INFO - epoch: 95, train_loss: 0.02084829124311606, val_metric: 0.16307879056813834\n",
      "100%|██████████| 45/45 [00:00<00:00, 1152.79it/s]\n",
      "100%|██████████| 12/12 [00:00<00:00, 3481.71it/s]\n",
      "2024-11-06 09:18:13,252 - decision_learning.modeling.train - INFO - epoch: 96, train_loss: 0.020848291946782005, val_metric: 0.1665198079545161\n",
      "2024-11-06 09:18:13,252 - decision_learning.modeling.train - INFO - epoch: 96, train_loss: 0.020848291946782005, val_metric: 0.1665198079545161\n",
      "100%|██████████| 45/45 [00:00<00:00, 1155.17it/s]\n",
      "100%|██████████| 12/12 [00:00<00:00, 3535.27it/s]\n",
      "2024-11-06 09:18:13,298 - decision_learning.modeling.train - INFO - epoch: 97, train_loss: 0.020848291822605662, val_metric: 0.16551222289863593\n",
      "2024-11-06 09:18:13,298 - decision_learning.modeling.train - INFO - epoch: 97, train_loss: 0.020848291822605662, val_metric: 0.16551222289863593\n",
      "100%|██████████| 45/45 [00:00<00:00, 1156.04it/s]\n",
      "100%|██████████| 12/12 [00:00<00:00, 3511.35it/s]\n",
      "2024-11-06 09:18:13,344 - decision_learning.modeling.train - INFO - epoch: 98, train_loss: 0.020848291367292403, val_metric: 0.15134343660113397\n",
      "2024-11-06 09:18:13,344 - decision_learning.modeling.train - INFO - epoch: 98, train_loss: 0.020848291367292403, val_metric: 0.15134343660113397\n",
      "100%|██████████| 45/45 [00:00<00:00, 1155.83it/s]\n",
      "100%|██████████| 12/12 [00:00<00:00, 3523.64it/s]\n",
      "2024-11-06 09:18:13,390 - decision_learning.modeling.train - INFO - epoch: 99, train_loss: 0.020848291822605662, val_metric: 0.14729355745364428\n",
      "2024-11-06 09:18:13,390 - decision_learning.modeling.train - INFO - epoch: 99, train_loss: 0.020848291822605662, val_metric: 0.14729355745364428\n"
     ]
    }
   ],
   "source": [
    "metrics, trained_model = train(pred_model=pred_model,\n",
    "                optmodel=optmodel,\n",
    "                loss_fn=loss_fn,\n",
    "                train_data_dict=train_data_dict,\n",
    "                val_data_dict=val_data_dict,\n",
    "                num_epochs=100,\n",
    "                lr=0.1,\n",
    "                scheduler_params={'step_size': 10, 'gamma': 0.1},\n",
    "                minimization=True)"
   ]
  },
  {
   "cell_type": "code",
   "execution_count": 42,
   "id": "9fca796d-36e1-457c-b20b-e311c53161f6",
   "metadata": {},
   "outputs": [
    {
     "name": "stdout",
     "output_type": "stream",
     "text": [
      "0.06871183614832832\n"
     ]
    }
   ],
   "source": [
    "test_regret = calc_test_regret(pred_model=pred_model,\n",
    "                               test_data_dict=final_data_test,\n",
    "                               optmodel=optmodel)\n",
    "print(test_regret)"
   ]
  },
  {
   "cell_type": "markdown",
   "id": "842057f6-2053-4fde-bb4f-d424750735a4",
   "metadata": {},
   "source": [
    "## PG Loss"
   ]
  },
  {
   "cell_type": "code",
   "execution_count": 56,
   "id": "6499488f-28eb-4627-9ae6-2de7749c7266",
   "metadata": {},
   "outputs": [],
   "source": [
    "import decision_learning.modeling.loss\n",
    "importlib.reload(decision_learning.modeling.loss)\n",
    "from decision_learning.modeling.loss import PG_Loss"
   ]
  },
  {
   "cell_type": "code",
   "execution_count": 50,
   "id": "29fe09e4-27e8-41d1-92c9-c3cf046bafcc",
   "metadata": {},
   "outputs": [],
   "source": [
    "# optimization solver\n",
    "optmodel = partial(shortest_path_solver,size=5)\n",
    "\n",
    "# training, validation data\n",
    "train_data_dict = train_dict\n",
    "val_data_dict = val_dict"
   ]
  },
  {
   "cell_type": "markdown",
   "id": "cb217d0e-b979-47c2-b7e5-5d70b1e27f35",
   "metadata": {},
   "source": [
    "PG Loss Parameters"
   ]
  },
  {
   "cell_type": "code",
   "execution_count": 54,
   "id": "1ef112b4-fe50-4f46-8ff8-15787c61477d",
   "metadata": {},
   "outputs": [],
   "source": [
    "h_arr = [num_data**-.125, num_data**-.25, num_data**-.5, num_data**-1]\n",
    "fin_diff_sch = ['B', 'F', 'C']"
   ]
  },
  {
   "cell_type": "code",
   "execution_count": 57,
   "id": "767cbbc2-bc59-4ae3-bc5b-4cd07ac410c3",
   "metadata": {
    "scrolled": true
   },
   "outputs": [
    {
     "name": "stdout",
     "output_type": "stream",
     "text": [
      "0.3976353643835253 B\n"
     ]
    },
    {
     "name": "stderr",
     "output_type": "stream",
     "text": [
      "100%|██████████| 45/45 [00:00<00:00, 356.70it/s]\n",
      "100%|██████████| 12/12 [00:00<00:00, 3474.98it/s]\n",
      "2024-11-06 10:50:49,084 - decision_learning.modeling.train - INFO - epoch: 0, train_loss: 23.011095428466795, val_metric: 0.6255135366346355\n",
      "2024-11-06 10:50:49,084 - decision_learning.modeling.train - INFO - epoch: 0, train_loss: 23.011095428466795, val_metric: 0.6255135366346355\n",
      "100%|██████████| 45/45 [00:00<00:00, 366.57it/s]\n",
      "100%|██████████| 12/12 [00:00<00:00, 3451.16it/s]\n",
      "2024-11-06 10:50:49,215 - decision_learning.modeling.train - INFO - epoch: 1, train_loss: 23.265939500596787, val_metric: 0.6662045242176788\n",
      "2024-11-06 10:50:49,215 - decision_learning.modeling.train - INFO - epoch: 1, train_loss: 23.265939500596787, val_metric: 0.6662045242176788\n",
      "100%|██████████| 45/45 [00:00<00:00, 365.68it/s]\n",
      "100%|██████████| 12/12 [00:00<00:00, 3441.72it/s]\n",
      "2024-11-06 10:50:49,345 - decision_learning.modeling.train - INFO - epoch: 2, train_loss: 23.35850109524197, val_metric: 0.6505704453340708\n",
      "2024-11-06 10:50:49,345 - decision_learning.modeling.train - INFO - epoch: 2, train_loss: 23.35850109524197, val_metric: 0.6505704453340708\n",
      "100%|██████████| 45/45 [00:00<00:00, 363.03it/s]\n",
      "100%|██████████| 12/12 [00:00<00:00, 3474.26it/s]\n",
      "2024-11-06 10:50:49,476 - decision_learning.modeling.train - INFO - epoch: 3, train_loss: 23.510480244954426, val_metric: 0.6705138833165546\n",
      "2024-11-06 10:50:49,476 - decision_learning.modeling.train - INFO - epoch: 3, train_loss: 23.510480244954426, val_metric: 0.6705138833165546\n",
      "100%|██████████| 45/45 [00:00<00:00, 365.89it/s]\n",
      "100%|██████████| 12/12 [00:00<00:00, 3473.78it/s]\n",
      "2024-11-06 10:50:49,607 - decision_learning.modeling.train - INFO - epoch: 4, train_loss: 23.534042443169486, val_metric: 0.6759552328899406\n",
      "2024-11-06 10:50:49,607 - decision_learning.modeling.train - INFO - epoch: 4, train_loss: 23.534042443169486, val_metric: 0.6759552328899406\n",
      "100%|██████████| 45/45 [00:00<00:00, 367.00it/s]\n",
      "100%|██████████| 12/12 [00:00<00:00, 3437.72it/s]\n",
      "2024-11-06 10:50:49,737 - decision_learning.modeling.train - INFO - epoch: 5, train_loss: 23.55957450866699, val_metric: 0.6694345541701994\n",
      "2024-11-06 10:50:49,737 - decision_learning.modeling.train - INFO - epoch: 5, train_loss: 23.55957450866699, val_metric: 0.6694345541701994\n",
      "100%|██████████| 45/45 [00:00<00:00, 366.11it/s]\n",
      "100%|██████████| 12/12 [00:00<00:00, 3463.03it/s]\n",
      "2024-11-06 10:50:49,867 - decision_learning.modeling.train - INFO - epoch: 6, train_loss: 23.618284437391495, val_metric: 0.6541935852588445\n",
      "2024-11-06 10:50:49,867 - decision_learning.modeling.train - INFO - epoch: 6, train_loss: 23.618284437391495, val_metric: 0.6541935852588445\n",
      "100%|██████████| 45/45 [00:00<00:00, 366.94it/s]\n",
      "100%|██████████| 12/12 [00:00<00:00, 3476.66it/s]\n",
      "2024-11-06 10:50:49,997 - decision_learning.modeling.train - INFO - epoch: 7, train_loss: 23.564597617255316, val_metric: 0.6691215765943016\n",
      "2024-11-06 10:50:49,997 - decision_learning.modeling.train - INFO - epoch: 7, train_loss: 23.564597617255316, val_metric: 0.6691215765943016\n",
      "100%|██████████| 45/45 [00:00<00:00, 366.54it/s]\n",
      "100%|██████████| 12/12 [00:00<00:00, 3458.74it/s]\n",
      "2024-11-06 10:50:50,127 - decision_learning.modeling.train - INFO - epoch: 8, train_loss: 23.571157031589085, val_metric: 0.6687254762290156\n",
      "2024-11-06 10:50:50,127 - decision_learning.modeling.train - INFO - epoch: 8, train_loss: 23.571157031589085, val_metric: 0.6687254762290156\n",
      "100%|██████████| 45/45 [00:00<00:00, 365.86it/s]\n",
      "100%|██████████| 12/12 [00:00<00:00, 3467.56it/s]\n",
      "2024-11-06 10:50:50,257 - decision_learning.modeling.train - INFO - epoch: 9, train_loss: 23.607881757948135, val_metric: 0.6825785479807253\n",
      "2024-11-06 10:50:50,257 - decision_learning.modeling.train - INFO - epoch: 9, train_loss: 23.607881757948135, val_metric: 0.6825785479807253\n",
      "100%|██████████| 45/45 [00:00<00:00, 367.74it/s]\n",
      "100%|██████████| 12/12 [00:00<00:00, 3494.53it/s]\n",
      "2024-11-06 10:50:50,387 - decision_learning.modeling.train - INFO - epoch: 10, train_loss: 23.655056381225585, val_metric: 0.6761474289980871\n",
      "2024-11-06 10:50:50,387 - decision_learning.modeling.train - INFO - epoch: 10, train_loss: 23.655056381225585, val_metric: 0.6761474289980871\n",
      "100%|██████████| 45/45 [00:00<00:00, 367.07it/s]\n",
      "100%|██████████| 12/12 [00:00<00:00, 3478.10it/s]\n",
      "2024-11-06 10:50:50,517 - decision_learning.modeling.train - INFO - epoch: 11, train_loss: 23.685455576578775, val_metric: 0.6759489986807365\n",
      "2024-11-06 10:50:50,517 - decision_learning.modeling.train - INFO - epoch: 11, train_loss: 23.685455576578775, val_metric: 0.6759489986807365\n",
      "100%|██████████| 45/45 [00:00<00:00, 366.64it/s]\n",
      "100%|██████████| 12/12 [00:00<00:00, 3464.70it/s]\n",
      "2024-11-06 10:50:50,647 - decision_learning.modeling.train - INFO - epoch: 12, train_loss: 23.669825956556533, val_metric: 0.667824709025962\n",
      "2024-11-06 10:50:50,647 - decision_learning.modeling.train - INFO - epoch: 12, train_loss: 23.669825956556533, val_metric: 0.667824709025962\n",
      "100%|██████████| 45/45 [00:00<00:00, 366.63it/s]\n",
      "100%|██████████| 12/12 [00:00<00:00, 3339.64it/s]\n",
      "2024-11-06 10:50:50,777 - decision_learning.modeling.train - INFO - epoch: 13, train_loss: 23.70537961324056, val_metric: 0.6749989660195822\n",
      "2024-11-06 10:50:50,777 - decision_learning.modeling.train - INFO - epoch: 13, train_loss: 23.70537961324056, val_metric: 0.6749989660195822\n",
      "100%|██████████| 45/45 [00:00<00:00, 366.67it/s]\n",
      "100%|██████████| 12/12 [00:00<00:00, 3497.44it/s]\n",
      "2024-11-06 10:50:50,907 - decision_learning.modeling.train - INFO - epoch: 14, train_loss: 23.70518726772732, val_metric: 0.6675318532472515\n",
      "2024-11-06 10:50:50,907 - decision_learning.modeling.train - INFO - epoch: 14, train_loss: 23.70518726772732, val_metric: 0.6675318532472515\n",
      "100%|██████████| 45/45 [00:00<00:00, 365.67it/s]\n",
      "100%|██████████| 12/12 [00:00<00:00, 3469.47it/s]\n",
      "2024-11-06 10:50:51,037 - decision_learning.modeling.train - INFO - epoch: 15, train_loss: 23.70904015435113, val_metric: 0.6593884048032157\n",
      "2024-11-06 10:50:51,037 - decision_learning.modeling.train - INFO - epoch: 15, train_loss: 23.70904015435113, val_metric: 0.6593884048032157\n",
      "100%|██████████| 45/45 [00:00<00:00, 366.42it/s]\n",
      "100%|██████████| 12/12 [00:00<00:00, 3481.71it/s]\n",
      "2024-11-06 10:50:51,167 - decision_learning.modeling.train - INFO - epoch: 16, train_loss: 23.712203979492188, val_metric: 0.6591052297883913\n",
      "2024-11-06 10:50:51,167 - decision_learning.modeling.train - INFO - epoch: 16, train_loss: 23.712203979492188, val_metric: 0.6591052297883913\n",
      "100%|██████████| 45/45 [00:00<00:00, 365.95it/s]\n",
      "100%|██████████| 12/12 [00:00<00:00, 3488.95it/s]\n",
      "2024-11-06 10:50:51,297 - decision_learning.modeling.train - INFO - epoch: 17, train_loss: 23.703797573513455, val_metric: 0.6755235519160262\n",
      "2024-11-06 10:50:51,297 - decision_learning.modeling.train - INFO - epoch: 17, train_loss: 23.703797573513455, val_metric: 0.6755235519160262\n",
      "100%|██████████| 45/45 [00:00<00:00, 366.18it/s]\n",
      "100%|██████████| 12/12 [00:00<00:00, 3284.28it/s]\n",
      "2024-11-06 10:50:51,427 - decision_learning.modeling.train - INFO - epoch: 18, train_loss: 23.71505610148112, val_metric: 0.676738006279765\n",
      "2024-11-06 10:50:51,427 - decision_learning.modeling.train - INFO - epoch: 18, train_loss: 23.71505610148112, val_metric: 0.676738006279765\n",
      "100%|██████████| 45/45 [00:00<00:00, 366.32it/s]\n",
      "100%|██████████| 12/12 [00:00<00:00, 3326.83it/s]\n",
      "2024-11-06 10:50:51,558 - decision_learning.modeling.train - INFO - epoch: 19, train_loss: 23.715671073065863, val_metric: 0.6759777368646287\n",
      "2024-11-06 10:50:51,558 - decision_learning.modeling.train - INFO - epoch: 19, train_loss: 23.715671073065863, val_metric: 0.6759777368646287\n",
      "100%|██████████| 45/45 [00:00<00:00, 367.14it/s]\n",
      "100%|██████████| 12/12 [00:00<00:00, 3485.57it/s]\n",
      "2024-11-06 10:50:51,688 - decision_learning.modeling.train - INFO - epoch: 20, train_loss: 23.72453850640191, val_metric: 0.6807405713273194\n",
      "2024-11-06 10:50:51,688 - decision_learning.modeling.train - INFO - epoch: 20, train_loss: 23.72453850640191, val_metric: 0.6807405713273194\n",
      "100%|██████████| 45/45 [00:00<00:00, 367.22it/s]\n",
      "100%|██████████| 12/12 [00:00<00:00, 3497.93it/s]\n",
      "2024-11-06 10:50:51,817 - decision_learning.modeling.train - INFO - epoch: 21, train_loss: 23.72646704779731, val_metric: 0.6655241337757596\n",
      "2024-11-06 10:50:51,817 - decision_learning.modeling.train - INFO - epoch: 21, train_loss: 23.72646704779731, val_metric: 0.6655241337757596\n",
      "100%|██████████| 45/45 [00:00<00:00, 368.64it/s]\n",
      "100%|██████████| 12/12 [00:00<00:00, 3297.41it/s]\n",
      "2024-11-06 10:50:51,947 - decision_learning.modeling.train - INFO - epoch: 22, train_loss: 23.727572123209637, val_metric: 0.6704432289455746\n",
      "2024-11-06 10:50:51,947 - decision_learning.modeling.train - INFO - epoch: 22, train_loss: 23.727572123209637, val_metric: 0.6704432289455746\n",
      "100%|██████████| 45/45 [00:00<00:00, 369.16it/s]\n",
      "100%|██████████| 12/12 [00:00<00:00, 3512.82it/s]\n",
      "2024-11-06 10:50:52,076 - decision_learning.modeling.train - INFO - epoch: 23, train_loss: 23.728291702270507, val_metric: 0.6740552689368873\n",
      "2024-11-06 10:50:52,076 - decision_learning.modeling.train - INFO - epoch: 23, train_loss: 23.728291702270507, val_metric: 0.6740552689368873\n",
      "100%|██████████| 45/45 [00:00<00:00, 368.70it/s]\n",
      "100%|██████████| 12/12 [00:00<00:00, 3527.10it/s]\n",
      "2024-11-06 10:50:52,205 - decision_learning.modeling.train - INFO - epoch: 24, train_loss: 23.72930056254069, val_metric: 0.6660797893489688\n",
      "2024-11-06 10:50:52,205 - decision_learning.modeling.train - INFO - epoch: 24, train_loss: 23.72930056254069, val_metric: 0.6660797893489688\n",
      "100%|██████████| 45/45 [00:00<00:00, 368.57it/s]\n",
      "100%|██████████| 12/12 [00:00<00:00, 3494.28it/s]\n",
      "2024-11-06 10:50:52,334 - decision_learning.modeling.train - INFO - epoch: 25, train_loss: 23.729523128933376, val_metric: 0.6747846207291414\n",
      "2024-11-06 10:50:52,334 - decision_learning.modeling.train - INFO - epoch: 25, train_loss: 23.729523128933376, val_metric: 0.6747846207291414\n",
      "100%|██████████| 45/45 [00:00<00:00, 365.74it/s]\n",
      "100%|██████████| 12/12 [00:00<00:00, 3482.92it/s]\n",
      "2024-11-06 10:50:52,464 - decision_learning.modeling.train - INFO - epoch: 26, train_loss: 23.729529105292425, val_metric: 0.6817705336463183\n",
      "2024-11-06 10:50:52,464 - decision_learning.modeling.train - INFO - epoch: 26, train_loss: 23.729529105292425, val_metric: 0.6817705336463183\n",
      "100%|██████████| 45/45 [00:00<00:00, 367.35it/s]\n",
      "100%|██████████| 12/12 [00:00<00:00, 3489.44it/s]\n",
      "2024-11-06 10:50:52,594 - decision_learning.modeling.train - INFO - epoch: 27, train_loss: 23.72988967895508, val_metric: 0.6649579864846213\n",
      "2024-11-06 10:50:52,594 - decision_learning.modeling.train - INFO - epoch: 27, train_loss: 23.72988967895508, val_metric: 0.6649579864846213\n",
      "100%|██████████| 45/45 [00:00<00:00, 367.06it/s]\n",
      "100%|██████████| 12/12 [00:00<00:00, 3476.66it/s]\n",
      "2024-11-06 10:50:52,724 - decision_learning.modeling.train - INFO - epoch: 28, train_loss: 23.730412122938368, val_metric: 0.6737442173768412\n",
      "2024-11-06 10:50:52,724 - decision_learning.modeling.train - INFO - epoch: 28, train_loss: 23.730412122938368, val_metric: 0.6737442173768412\n",
      "100%|██████████| 45/45 [00:00<00:00, 365.46it/s]\n",
      "100%|██████████| 12/12 [00:00<00:00, 3463.50it/s]\n",
      "2024-11-06 10:50:52,854 - decision_learning.modeling.train - INFO - epoch: 29, train_loss: 23.730692630343967, val_metric: 0.6705430776620959\n",
      "2024-11-06 10:50:52,854 - decision_learning.modeling.train - INFO - epoch: 29, train_loss: 23.730692630343967, val_metric: 0.6705430776620959\n",
      "100%|██████████| 45/45 [00:00<00:00, 365.82it/s]\n",
      "100%|██████████| 12/12 [00:00<00:00, 3466.61it/s]\n",
      "2024-11-06 10:50:52,984 - decision_learning.modeling.train - INFO - epoch: 30, train_loss: 23.73167101542155, val_metric: 0.6780235204915052\n",
      "2024-11-06 10:50:52,984 - decision_learning.modeling.train - INFO - epoch: 30, train_loss: 23.73167101542155, val_metric: 0.6780235204915052\n",
      "100%|██████████| 45/45 [00:00<00:00, 366.74it/s]\n",
      "100%|██████████| 12/12 [00:00<00:00, 3492.83it/s]\n",
      "2024-11-06 10:50:53,114 - decision_learning.modeling.train - INFO - epoch: 31, train_loss: 23.731864420572915, val_metric: 0.6746155368112151\n",
      "2024-11-06 10:50:53,114 - decision_learning.modeling.train - INFO - epoch: 31, train_loss: 23.731864420572915, val_metric: 0.6746155368112151\n",
      "100%|██████████| 45/45 [00:00<00:00, 366.28it/s]\n",
      "100%|██████████| 12/12 [00:00<00:00, 3502.55it/s]\n",
      "2024-11-06 10:50:53,244 - decision_learning.modeling.train - INFO - epoch: 32, train_loss: 23.73190163506402, val_metric: 0.6839922943004851\n",
      "2024-11-06 10:50:53,244 - decision_learning.modeling.train - INFO - epoch: 32, train_loss: 23.73190163506402, val_metric: 0.6839922943004851\n",
      "100%|██████████| 45/45 [00:00<00:00, 366.54it/s]\n",
      "100%|██████████| 12/12 [00:00<00:00, 3464.70it/s]\n",
      "2024-11-06 10:50:53,374 - decision_learning.modeling.train - INFO - epoch: 33, train_loss: 23.732038497924805, val_metric: 0.6585953931186008\n",
      "2024-11-06 10:50:53,374 - decision_learning.modeling.train - INFO - epoch: 33, train_loss: 23.732038497924805, val_metric: 0.6585953931186008\n",
      "100%|██████████| 45/45 [00:00<00:00, 366.75it/s]\n",
      "100%|██████████| 12/12 [00:00<00:00, 3466.37it/s]\n",
      "2024-11-06 10:50:53,504 - decision_learning.modeling.train - INFO - epoch: 34, train_loss: 23.732139587402344, val_metric: 0.6713330482690502\n",
      "2024-11-06 10:50:53,504 - decision_learning.modeling.train - INFO - epoch: 34, train_loss: 23.732139587402344, val_metric: 0.6713330482690502\n",
      "100%|██████████| 45/45 [00:00<00:00, 364.89it/s]\n",
      "100%|██████████| 12/12 [00:00<00:00, 3489.68it/s]\n",
      "2024-11-06 10:50:53,635 - decision_learning.modeling.train - INFO - epoch: 35, train_loss: 23.73217396206326, val_metric: 0.6593273805114941\n",
      "2024-11-06 10:50:53,635 - decision_learning.modeling.train - INFO - epoch: 35, train_loss: 23.73217396206326, val_metric: 0.6593273805114941\n",
      "100%|██████████| 45/45 [00:00<00:00, 365.40it/s]\n",
      "100%|██████████| 12/12 [00:00<00:00, 3472.11it/s]\n",
      "2024-11-06 10:50:53,765 - decision_learning.modeling.train - INFO - epoch: 36, train_loss: 23.732308281792534, val_metric: 0.6610417880426265\n",
      "2024-11-06 10:50:53,765 - decision_learning.modeling.train - INFO - epoch: 36, train_loss: 23.732308281792534, val_metric: 0.6610417880426265\n",
      "100%|██████████| 45/45 [00:00<00:00, 366.79it/s]\n",
      "100%|██████████| 12/12 [00:00<00:00, 3487.50it/s]\n",
      "2024-11-06 10:50:53,895 - decision_learning.modeling.train - INFO - epoch: 37, train_loss: 23.732326041327582, val_metric: 0.6797124843395443\n",
      "2024-11-06 10:50:53,895 - decision_learning.modeling.train - INFO - epoch: 37, train_loss: 23.732326041327582, val_metric: 0.6797124843395443\n",
      "100%|██████████| 45/45 [00:00<00:00, 366.29it/s]\n",
      "100%|██████████| 12/12 [00:00<00:00, 3457.79it/s]\n",
      "2024-11-06 10:50:54,025 - decision_learning.modeling.train - INFO - epoch: 38, train_loss: 23.73245095147027, val_metric: 0.6796594175343679\n",
      "2024-11-06 10:50:54,025 - decision_learning.modeling.train - INFO - epoch: 38, train_loss: 23.73245095147027, val_metric: 0.6796594175343679\n",
      "100%|██████████| 45/45 [00:00<00:00, 364.67it/s]\n",
      "100%|██████████| 12/12 [00:00<00:00, 3187.77it/s]\n",
      "2024-11-06 10:50:54,156 - decision_learning.modeling.train - INFO - epoch: 39, train_loss: 23.732539961073133, val_metric: 0.6667968754613254\n",
      "2024-11-06 10:50:54,156 - decision_learning.modeling.train - INFO - epoch: 39, train_loss: 23.732539961073133, val_metric: 0.6667968754613254\n",
      "100%|██████████| 45/45 [00:00<00:00, 366.57it/s]\n",
      "100%|██████████| 12/12 [00:00<00:00, 3480.51it/s]\n",
      "2024-11-06 10:50:54,286 - decision_learning.modeling.train - INFO - epoch: 40, train_loss: 23.69447441101074, val_metric: 0.6640768342324783\n",
      "2024-11-06 10:50:54,286 - decision_learning.modeling.train - INFO - epoch: 40, train_loss: 23.69447441101074, val_metric: 0.6640768342324783\n",
      "100%|██████████| 45/45 [00:00<00:00, 366.99it/s]\n",
      "100%|██████████| 12/12 [00:00<00:00, 3473.78it/s]\n",
      "2024-11-06 10:50:54,416 - decision_learning.modeling.train - INFO - epoch: 41, train_loss: 23.670342678493924, val_metric: 0.6948029199067022\n",
      "2024-11-06 10:50:54,416 - decision_learning.modeling.train - INFO - epoch: 41, train_loss: 23.670342678493924, val_metric: 0.6948029199067022\n",
      "100%|██████████| 45/45 [00:00<00:00, 367.01it/s]\n",
      "100%|██████████| 12/12 [00:00<00:00, 3487.74it/s]\n",
      "2024-11-06 10:50:54,546 - decision_learning.modeling.train - INFO - epoch: 42, train_loss: 23.73268983629015, val_metric: 0.6666088354926484\n",
      "2024-11-06 10:50:54,546 - decision_learning.modeling.train - INFO - epoch: 42, train_loss: 23.73268983629015, val_metric: 0.6666088354926484\n",
      "100%|██████████| 45/45 [00:00<00:00, 366.48it/s]\n",
      "100%|██████████| 12/12 [00:00<00:00, 3480.75it/s]\n",
      "2024-11-06 10:50:54,675 - decision_learning.modeling.train - INFO - epoch: 43, train_loss: 23.670391040378146, val_metric: 0.6714204285671631\n",
      "2024-11-06 10:50:54,675 - decision_learning.modeling.train - INFO - epoch: 43, train_loss: 23.670391040378146, val_metric: 0.6714204285671631\n",
      "100%|██████████| 45/45 [00:00<00:00, 367.72it/s]\n",
      "100%|██████████| 12/12 [00:00<00:00, 3472.11it/s]\n",
      "2024-11-06 10:50:54,805 - decision_learning.modeling.train - INFO - epoch: 44, train_loss: 23.73273345099555, val_metric: 0.6780014219938385\n",
      "2024-11-06 10:50:54,805 - decision_learning.modeling.train - INFO - epoch: 44, train_loss: 23.73273345099555, val_metric: 0.6780014219938385\n",
      "100%|██████████| 45/45 [00:00<00:00, 365.81it/s]\n",
      "100%|██████████| 12/12 [00:00<00:00, 3467.56it/s]\n",
      "2024-11-06 10:50:54,935 - decision_learning.modeling.train - INFO - epoch: 45, train_loss: 23.67044359842936, val_metric: 0.6800426440042242\n",
      "2024-11-06 10:50:54,935 - decision_learning.modeling.train - INFO - epoch: 45, train_loss: 23.67044359842936, val_metric: 0.6800426440042242\n",
      "100%|██████████| 45/45 [00:00<00:00, 367.93it/s]\n",
      "100%|██████████| 12/12 [00:00<00:00, 3474.02it/s]\n",
      "2024-11-06 10:50:55,065 - decision_learning.modeling.train - INFO - epoch: 46, train_loss: 23.632291158040363, val_metric: 0.6660046240461257\n",
      "2024-11-06 10:50:55,065 - decision_learning.modeling.train - INFO - epoch: 46, train_loss: 23.632291158040363, val_metric: 0.6660046240461257\n",
      "100%|██████████| 45/45 [00:00<00:00, 368.17it/s]\n",
      "100%|██████████| 12/12 [00:00<00:00, 3465.89it/s]\n",
      "2024-11-06 10:50:55,194 - decision_learning.modeling.train - INFO - epoch: 47, train_loss: 23.707755109998914, val_metric: 0.6525998071415804\n",
      "2024-11-06 10:50:55,194 - decision_learning.modeling.train - INFO - epoch: 47, train_loss: 23.707755109998914, val_metric: 0.6525998071415804\n",
      "100%|██████████| 45/45 [00:00<00:00, 367.68it/s]\n",
      "100%|██████████| 12/12 [00:00<00:00, 3488.95it/s]\n",
      "2024-11-06 10:50:55,324 - decision_learning.modeling.train - INFO - epoch: 48, train_loss: 23.68914451599121, val_metric: 0.6795283470871983\n",
      "2024-11-06 10:50:55,324 - decision_learning.modeling.train - INFO - epoch: 48, train_loss: 23.68914451599121, val_metric: 0.6795283470871983\n",
      "100%|██████████| 45/45 [00:00<00:00, 367.64it/s]\n",
      "100%|██████████| 12/12 [00:00<00:00, 3493.07it/s]\n",
      "2024-11-06 10:50:55,453 - decision_learning.modeling.train - INFO - epoch: 49, train_loss: 23.60731510586209, val_metric: 0.6801483721375559\n",
      "2024-11-06 10:50:55,453 - decision_learning.modeling.train - INFO - epoch: 49, train_loss: 23.60731510586209, val_metric: 0.6801483721375559\n",
      "100%|██████████| 45/45 [00:00<00:00, 366.70it/s]\n",
      "100%|██████████| 12/12 [00:00<00:00, 3473.30it/s]\n",
      "2024-11-06 10:50:55,583 - decision_learning.modeling.train - INFO - epoch: 50, train_loss: 23.666608556111655, val_metric: 0.683219961943962\n",
      "2024-11-06 10:50:55,583 - decision_learning.modeling.train - INFO - epoch: 50, train_loss: 23.666608556111655, val_metric: 0.683219961943962\n",
      "100%|██████████| 45/45 [00:00<00:00, 366.46it/s]\n",
      "100%|██████████| 12/12 [00:00<00:00, 3449.97it/s]\n",
      "2024-11-06 10:50:55,714 - decision_learning.modeling.train - INFO - epoch: 51, train_loss: 23.666610463460287, val_metric: 0.6621419485709564\n",
      "2024-11-06 10:50:55,714 - decision_learning.modeling.train - INFO - epoch: 51, train_loss: 23.666610463460287, val_metric: 0.6621419485709564\n",
      "100%|██████████| 45/45 [00:00<00:00, 366.56it/s]\n",
      "100%|██████████| 12/12 [00:00<00:00, 3474.02it/s]\n",
      "2024-11-06 10:50:55,844 - decision_learning.modeling.train - INFO - epoch: 52, train_loss: 23.732839881049262, val_metric: 0.6818785932725231\n",
      "2024-11-06 10:50:55,844 - decision_learning.modeling.train - INFO - epoch: 52, train_loss: 23.732839881049262, val_metric: 0.6818785932725231\n",
      "100%|██████████| 45/45 [00:00<00:00, 366.13it/s]\n",
      "100%|██████████| 12/12 [00:00<00:00, 3526.60it/s]\n",
      "2024-11-06 10:50:55,974 - decision_learning.modeling.train - INFO - epoch: 53, train_loss: 23.628436915079753, val_metric: 0.6685963824823254\n",
      "2024-11-06 10:50:55,974 - decision_learning.modeling.train - INFO - epoch: 53, train_loss: 23.628436915079753, val_metric: 0.6685963824823254\n",
      "100%|██████████| 45/45 [00:00<00:00, 367.60it/s]\n",
      "100%|██████████| 12/12 [00:00<00:00, 3454.71it/s]\n",
      "2024-11-06 10:50:56,103 - decision_learning.modeling.train - INFO - epoch: 54, train_loss: 23.694666586981878, val_metric: 0.6670951544951972\n",
      "2024-11-06 10:50:56,103 - decision_learning.modeling.train - INFO - epoch: 54, train_loss: 23.694666586981878, val_metric: 0.6670951544951972\n",
      "100%|██████████| 45/45 [00:00<00:00, 365.45it/s]\n",
      "100%|██████████| 12/12 [00:00<00:00, 3450.45it/s]\n",
      "2024-11-06 10:50:56,234 - decision_learning.modeling.train - INFO - epoch: 55, train_loss: 23.669638442993165, val_metric: 0.6817079381311388\n",
      "2024-11-06 10:50:56,234 - decision_learning.modeling.train - INFO - epoch: 55, train_loss: 23.669638442993165, val_metric: 0.6817079381311388\n",
      "100%|██████████| 45/45 [00:00<00:00, 366.75it/s]\n",
      "100%|██████████| 12/12 [00:00<00:00, 3472.35it/s]\n",
      "2024-11-06 10:50:56,364 - decision_learning.modeling.train - INFO - epoch: 56, train_loss: 23.65347277323405, val_metric: 0.670173688095595\n",
      "2024-11-06 10:50:56,364 - decision_learning.modeling.train - INFO - epoch: 56, train_loss: 23.65347277323405, val_metric: 0.670173688095595\n",
      "100%|██████████| 45/45 [00:00<00:00, 366.17it/s]\n",
      "100%|██████████| 12/12 [00:00<00:00, 3480.75it/s]\n",
      "2024-11-06 10:50:56,494 - decision_learning.modeling.train - INFO - epoch: 57, train_loss: 23.653475104437934, val_metric: 0.685761491914135\n",
      "2024-11-06 10:50:56,494 - decision_learning.modeling.train - INFO - epoch: 57, train_loss: 23.653475104437934, val_metric: 0.685761491914135\n",
      "100%|██████████| 45/45 [00:00<00:00, 365.25it/s]\n",
      "100%|██████████| 12/12 [00:00<00:00, 3458.51it/s]\n",
      "2024-11-06 10:50:56,624 - decision_learning.modeling.train - INFO - epoch: 58, train_loss: 23.669643868340387, val_metric: 0.679178572471608\n",
      "2024-11-06 10:50:56,624 - decision_learning.modeling.train - INFO - epoch: 58, train_loss: 23.669643868340387, val_metric: 0.679178572471608\n",
      "100%|██████████| 45/45 [00:00<00:00, 363.77it/s]\n",
      "100%|██████████| 12/12 [00:00<00:00, 3434.44it/s]\n",
      "2024-11-06 10:50:56,755 - decision_learning.modeling.train - INFO - epoch: 59, train_loss: 23.669645436604817, val_metric: 0.6765473307104488\n",
      "2024-11-06 10:50:56,755 - decision_learning.modeling.train - INFO - epoch: 59, train_loss: 23.669645436604817, val_metric: 0.6765473307104488\n",
      "100%|██████████| 45/45 [00:00<00:00, 367.85it/s]\n",
      "100%|██████████| 12/12 [00:00<00:00, 3485.33it/s]\n",
      "2024-11-06 10:50:56,885 - decision_learning.modeling.train - INFO - epoch: 60, train_loss: 23.69467701382107, val_metric: 0.6819033780554565\n",
      "2024-11-06 10:50:56,885 - decision_learning.modeling.train - INFO - epoch: 60, train_loss: 23.69467701382107, val_metric: 0.6819033780554565\n",
      "100%|██████████| 45/45 [00:00<00:00, 368.36it/s]\n",
      "100%|██████████| 12/12 [00:00<00:00, 3482.44it/s]\n",
      "2024-11-06 10:50:57,014 - decision_learning.modeling.train - INFO - epoch: 61, train_loss: 23.694676674736872, val_metric: 0.676453513464621\n",
      "2024-11-06 10:50:57,014 - decision_learning.modeling.train - INFO - epoch: 61, train_loss: 23.694676674736872, val_metric: 0.676453513464621\n",
      "100%|██████████| 45/45 [00:00<00:00, 368.11it/s]\n",
      "100%|██████████| 12/12 [00:00<00:00, 3477.14it/s]\n",
      "2024-11-06 10:50:57,144 - decision_learning.modeling.train - INFO - epoch: 62, train_loss: 23.69467658996582, val_metric: 0.6804403155929681\n",
      "2024-11-06 10:50:57,144 - decision_learning.modeling.train - INFO - epoch: 62, train_loss: 23.69467658996582, val_metric: 0.6804403155929681\n",
      "100%|██████████| 45/45 [00:00<00:00, 366.68it/s]\n",
      "100%|██████████| 12/12 [00:00<00:00, 3479.31it/s]\n",
      "2024-11-06 10:50:57,273 - decision_learning.modeling.train - INFO - epoch: 63, train_loss: 23.694676886664496, val_metric: 0.6837891503127607\n",
      "2024-11-06 10:50:57,273 - decision_learning.modeling.train - INFO - epoch: 63, train_loss: 23.694676886664496, val_metric: 0.6837891503127607\n",
      "100%|██████████| 45/45 [00:00<00:00, 366.22it/s]\n",
      "100%|██████████| 12/12 [00:00<00:00, 3474.02it/s]\n",
      "2024-11-06 10:50:57,404 - decision_learning.modeling.train - INFO - epoch: 64, train_loss: 23.69467675950792, val_metric: 0.6777417646462557\n",
      "2024-11-06 10:50:57,404 - decision_learning.modeling.train - INFO - epoch: 64, train_loss: 23.69467675950792, val_metric: 0.6777417646462557\n",
      "100%|██████████| 45/45 [00:00<00:00, 365.71it/s]\n",
      "100%|██████████| 12/12 [00:00<00:00, 3457.79it/s]\n",
      "2024-11-06 10:50:57,534 - decision_learning.modeling.train - INFO - epoch: 65, train_loss: 23.694676801893447, val_metric: 0.6791345782147854\n",
      "2024-11-06 10:50:57,534 - decision_learning.modeling.train - INFO - epoch: 65, train_loss: 23.694676801893447, val_metric: 0.6791345782147854\n",
      "100%|██████████| 45/45 [00:00<00:00, 366.78it/s]\n",
      "100%|██████████| 12/12 [00:00<00:00, 3460.17it/s]\n",
      "2024-11-06 10:50:57,664 - decision_learning.modeling.train - INFO - epoch: 66, train_loss: 23.653480360243055, val_metric: 0.6662764457043507\n",
      "2024-11-06 10:50:57,664 - decision_learning.modeling.train - INFO - epoch: 66, train_loss: 23.653480360243055, val_metric: 0.6662764457043507\n",
      "100%|██████████| 45/45 [00:00<00:00, 365.02it/s]\n",
      "100%|██████████| 12/12 [00:00<00:00, 3468.04it/s]\n",
      "2024-11-06 10:50:57,795 - decision_learning.modeling.train - INFO - epoch: 67, train_loss: 23.6946773952908, val_metric: 0.6893135719909073\n",
      "2024-11-06 10:50:57,795 - decision_learning.modeling.train - INFO - epoch: 67, train_loss: 23.6946773952908, val_metric: 0.6893135719909073\n",
      "100%|██████████| 45/45 [00:00<00:00, 365.40it/s]\n",
      "100%|██████████| 12/12 [00:00<00:00, 3284.28it/s]\n",
      "2024-11-06 10:50:57,925 - decision_learning.modeling.train - INFO - epoch: 68, train_loss: 23.6946773952908, val_metric: 0.6825455522881083\n",
      "2024-11-06 10:50:57,925 - decision_learning.modeling.train - INFO - epoch: 68, train_loss: 23.6946773952908, val_metric: 0.6825455522881083\n",
      "100%|██████████| 45/45 [00:00<00:00, 367.51it/s]\n",
      "100%|██████████| 12/12 [00:00<00:00, 3516.99it/s]\n",
      "2024-11-06 10:50:58,055 - decision_learning.modeling.train - INFO - epoch: 69, train_loss: 23.694677437676322, val_metric: 0.6621244116897806\n",
      "2024-11-06 10:50:58,055 - decision_learning.modeling.train - INFO - epoch: 69, train_loss: 23.694677437676322, val_metric: 0.6621244116897806\n",
      "100%|██████████| 45/45 [00:00<00:00, 366.32it/s]\n",
      "100%|██████████| 12/12 [00:00<00:00, 3504.99it/s]\n",
      "2024-11-06 10:50:58,185 - decision_learning.modeling.train - INFO - epoch: 70, train_loss: 23.653480784098306, val_metric: 0.6728610377395912\n",
      "2024-11-06 10:50:58,185 - decision_learning.modeling.train - INFO - epoch: 70, train_loss: 23.653480784098306, val_metric: 0.6728610377395912\n",
      "100%|██████████| 45/45 [00:00<00:00, 365.38it/s]\n",
      "100%|██████████| 12/12 [00:00<00:00, 3503.53it/s]\n",
      "2024-11-06 10:50:58,315 - decision_learning.modeling.train - INFO - epoch: 71, train_loss: 23.65348048739963, val_metric: 0.6761197551913761\n",
      "2024-11-06 10:50:58,315 - decision_learning.modeling.train - INFO - epoch: 71, train_loss: 23.65348048739963, val_metric: 0.6761197551913761\n",
      "100%|██████████| 45/45 [00:00<00:00, 361.54it/s]\n",
      "100%|██████████| 12/12 [00:00<00:00, 2110.87it/s]\n",
      "2024-11-06 10:50:58,449 - decision_learning.modeling.train - INFO - epoch: 72, train_loss: 23.65348091125488, val_metric: 0.6861931222034218\n",
      "2024-11-06 10:50:58,449 - decision_learning.modeling.train - INFO - epoch: 72, train_loss: 23.65348091125488, val_metric: 0.6861931222034218\n",
      "100%|██████████| 45/45 [00:00<00:00, 367.22it/s]\n",
      "100%|██████████| 12/12 [00:00<00:00, 3362.62it/s]\n",
      "2024-11-06 10:50:58,579 - decision_learning.modeling.train - INFO - epoch: 73, train_loss: 23.653480784098306, val_metric: 0.6623043421180296\n",
      "2024-11-06 10:50:58,579 - decision_learning.modeling.train - INFO - epoch: 73, train_loss: 23.653480784098306, val_metric: 0.6623043421180296\n",
      "100%|██████████| 45/45 [00:00<00:00, 368.58it/s]\n",
      "100%|██████████| 12/12 [00:00<00:00, 3309.33it/s]\n",
      "2024-11-06 10:50:58,708 - decision_learning.modeling.train - INFO - epoch: 74, train_loss: 23.65348065694173, val_metric: 0.6885226383760271\n",
      "2024-11-06 10:50:58,708 - decision_learning.modeling.train - INFO - epoch: 74, train_loss: 23.65348065694173, val_metric: 0.6885226383760271\n",
      "100%|██████████| 45/45 [00:00<00:00, 367.89it/s]\n",
      "100%|██████████| 12/12 [00:00<00:00, 3521.67it/s]\n",
      "2024-11-06 10:50:58,838 - decision_learning.modeling.train - INFO - epoch: 75, train_loss: 23.653480572170682, val_metric: 0.671782468862651\n",
      "2024-11-06 10:50:58,838 - decision_learning.modeling.train - INFO - epoch: 75, train_loss: 23.653480572170682, val_metric: 0.671782468862651\n",
      "100%|██████████| 45/45 [00:00<00:00, 369.92it/s]\n",
      "100%|██████████| 12/12 [00:00<00:00, 3514.29it/s]\n",
      "2024-11-06 10:50:58,966 - decision_learning.modeling.train - INFO - epoch: 76, train_loss: 23.65348086886936, val_metric: 0.662428063294186\n",
      "2024-11-06 10:50:58,966 - decision_learning.modeling.train - INFO - epoch: 76, train_loss: 23.65348086886936, val_metric: 0.662428063294186\n",
      "100%|██████████| 45/45 [00:00<00:00, 368.82it/s]\n",
      "100%|██████████| 12/12 [00:00<00:00, 3561.29it/s]\n",
      "2024-11-06 10:50:59,095 - decision_learning.modeling.train - INFO - epoch: 77, train_loss: 23.65348086886936, val_metric: 0.6803080793993621\n",
      "2024-11-06 10:50:59,095 - decision_learning.modeling.train - INFO - epoch: 77, train_loss: 23.65348086886936, val_metric: 0.6803080793993621\n",
      "100%|██████████| 45/45 [00:00<00:00, 370.15it/s]\n",
      "100%|██████████| 12/12 [00:00<00:00, 3580.29it/s]\n",
      "2024-11-06 10:50:59,224 - decision_learning.modeling.train - INFO - epoch: 78, train_loss: 23.653480953640408, val_metric: 0.6747861919525994\n",
      "2024-11-06 10:50:59,224 - decision_learning.modeling.train - INFO - epoch: 78, train_loss: 23.653480953640408, val_metric: 0.6747861919525994\n",
      "100%|██████████| 45/45 [00:00<00:00, 370.33it/s]\n",
      "100%|██████████| 12/12 [00:00<00:00, 3563.81it/s]\n",
      "2024-11-06 10:50:59,352 - decision_learning.modeling.train - INFO - epoch: 79, train_loss: 23.653480826483833, val_metric: 0.6645443492381595\n",
      "2024-11-06 10:50:59,352 - decision_learning.modeling.train - INFO - epoch: 79, train_loss: 23.653480826483833, val_metric: 0.6645443492381595\n",
      "100%|██████████| 45/45 [00:00<00:00, 371.43it/s]\n",
      "100%|██████████| 12/12 [00:00<00:00, 3565.57it/s]\n",
      "2024-11-06 10:50:59,480 - decision_learning.modeling.train - INFO - epoch: 80, train_loss: 23.653480996025934, val_metric: 0.6634735351092539\n",
      "2024-11-06 10:50:59,480 - decision_learning.modeling.train - INFO - epoch: 80, train_loss: 23.653480996025934, val_metric: 0.6634735351092539\n",
      "100%|██████████| 45/45 [00:00<00:00, 370.52it/s]\n",
      "100%|██████████| 12/12 [00:00<00:00, 3576.72it/s]\n",
      "2024-11-06 10:50:59,608 - decision_learning.modeling.train - INFO - epoch: 81, train_loss: 23.653480784098306, val_metric: 0.6628545744360775\n",
      "2024-11-06 10:50:59,608 - decision_learning.modeling.train - INFO - epoch: 81, train_loss: 23.653480784098306, val_metric: 0.6628545744360775\n",
      "100%|██████████| 45/45 [00:00<00:00, 370.23it/s]\n",
      "100%|██████████| 12/12 [00:00<00:00, 3598.20it/s]\n",
      "2024-11-06 10:50:59,737 - decision_learning.modeling.train - INFO - epoch: 82, train_loss: 23.653480360243055, val_metric: 0.665177045445436\n",
      "2024-11-06 10:50:59,737 - decision_learning.modeling.train - INFO - epoch: 82, train_loss: 23.653480360243055, val_metric: 0.665177045445436\n",
      "100%|██████████| 45/45 [00:00<00:00, 372.78it/s]\n",
      "100%|██████████| 12/12 [00:00<00:00, 3558.77it/s]\n",
      "2024-11-06 10:50:59,864 - decision_learning.modeling.train - INFO - epoch: 83, train_loss: 23.653480699327257, val_metric: 0.6771458147940441\n",
      "2024-11-06 10:50:59,864 - decision_learning.modeling.train - INFO - epoch: 83, train_loss: 23.653480699327257, val_metric: 0.6771458147940441\n",
      "100%|██████████| 45/45 [00:00<00:00, 368.43it/s]\n",
      "100%|██████████| 12/12 [00:00<00:00, 3506.70it/s]\n",
      "2024-11-06 10:50:59,993 - decision_learning.modeling.train - INFO - epoch: 84, train_loss: 23.653480741712784, val_metric: 0.6729136483831185\n",
      "2024-11-06 10:50:59,993 - decision_learning.modeling.train - INFO - epoch: 84, train_loss: 23.653480741712784, val_metric: 0.6729136483831185\n",
      "100%|██████████| 45/45 [00:00<00:00, 367.25it/s]\n",
      "100%|██████████| 12/12 [00:00<00:00, 3454.23it/s]\n",
      "2024-11-06 10:51:00,123 - decision_learning.modeling.train - INFO - epoch: 85, train_loss: 23.653480784098306, val_metric: 0.6801427968285115\n",
      "2024-11-06 10:51:00,123 - decision_learning.modeling.train - INFO - epoch: 85, train_loss: 23.653480784098306, val_metric: 0.6801427968285115\n",
      "100%|██████████| 45/45 [00:00<00:00, 366.16it/s]\n",
      "100%|██████████| 12/12 [00:00<00:00, 3292.23it/s]\n",
      "2024-11-06 10:51:00,254 - decision_learning.modeling.train - INFO - epoch: 86, train_loss: 23.65348086886936, val_metric: 0.662509513490861\n",
      "2024-11-06 10:51:00,254 - decision_learning.modeling.train - INFO - epoch: 86, train_loss: 23.65348086886936, val_metric: 0.662509513490861\n",
      "100%|██████████| 45/45 [00:00<00:00, 367.50it/s]\n",
      "100%|██████████| 12/12 [00:00<00:00, 3439.13it/s]\n",
      "2024-11-06 10:51:00,383 - decision_learning.modeling.train - INFO - epoch: 87, train_loss: 23.65348086886936, val_metric: 0.6690786973992879\n",
      "2024-11-06 10:51:00,383 - decision_learning.modeling.train - INFO - epoch: 87, train_loss: 23.65348086886936, val_metric: 0.6690786973992879\n",
      "100%|██████████| 45/45 [00:00<00:00, 366.47it/s]\n",
      "100%|██████████| 12/12 [00:00<00:00, 3472.35it/s]\n",
      "2024-11-06 10:51:00,513 - decision_learning.modeling.train - INFO - epoch: 88, train_loss: 23.65348048739963, val_metric: 0.6839923449851127\n",
      "2024-11-06 10:51:00,513 - decision_learning.modeling.train - INFO - epoch: 88, train_loss: 23.65348048739963, val_metric: 0.6839923449851127\n",
      "100%|██████████| 45/45 [00:00<00:00, 366.25it/s]\n",
      "100%|██████████| 12/12 [00:00<00:00, 3473.06it/s]\n",
      "2024-11-06 10:51:00,643 - decision_learning.modeling.train - INFO - epoch: 89, train_loss: 23.65348103841146, val_metric: 0.6648508898663424\n",
      "2024-11-06 10:51:00,643 - decision_learning.modeling.train - INFO - epoch: 89, train_loss: 23.65348103841146, val_metric: 0.6648508898663424\n",
      "100%|██████████| 45/45 [00:00<00:00, 367.03it/s]\n",
      "100%|██████████| 12/12 [00:00<00:00, 3483.16it/s]\n",
      "2024-11-06 10:51:00,773 - decision_learning.modeling.train - INFO - epoch: 90, train_loss: 23.653480996025934, val_metric: 0.6576541288980343\n",
      "2024-11-06 10:51:00,773 - decision_learning.modeling.train - INFO - epoch: 90, train_loss: 23.653480996025934, val_metric: 0.6576541288980343\n",
      "100%|██████████| 45/45 [00:00<00:00, 366.84it/s]\n",
      "100%|██████████| 12/12 [00:00<00:00, 3445.01it/s]\n",
      "2024-11-06 10:51:00,903 - decision_learning.modeling.train - INFO - epoch: 91, train_loss: 23.653480784098306, val_metric: 0.6741256192001012\n",
      "2024-11-06 10:51:00,903 - decision_learning.modeling.train - INFO - epoch: 91, train_loss: 23.653480784098306, val_metric: 0.6741256192001012\n",
      "100%|██████████| 45/45 [00:00<00:00, 366.54it/s]\n",
      "100%|██████████| 12/12 [00:00<00:00, 3476.18it/s]\n",
      "2024-11-06 10:51:01,033 - decision_learning.modeling.train - INFO - epoch: 92, train_loss: 23.653480784098306, val_metric: 0.690983833211334\n",
      "2024-11-06 10:51:01,033 - decision_learning.modeling.train - INFO - epoch: 92, train_loss: 23.653480784098306, val_metric: 0.690983833211334\n",
      "100%|██████████| 45/45 [00:00<00:00, 366.52it/s]\n",
      "100%|██████████| 12/12 [00:00<00:00, 3447.61it/s]\n",
      "2024-11-06 10:51:01,163 - decision_learning.modeling.train - INFO - epoch: 93, train_loss: 23.653480996025934, val_metric: 0.6730378257209242\n",
      "2024-11-06 10:51:01,163 - decision_learning.modeling.train - INFO - epoch: 93, train_loss: 23.653480996025934, val_metric: 0.6730378257209242\n",
      "100%|██████████| 45/45 [00:00<00:00, 366.99it/s]\n",
      "100%|██████████| 12/12 [00:00<00:00, 3486.05it/s]\n",
      "2024-11-06 10:51:01,293 - decision_learning.modeling.train - INFO - epoch: 94, train_loss: 23.65348103841146, val_metric: 0.677700608728583\n",
      "2024-11-06 10:51:01,293 - decision_learning.modeling.train - INFO - epoch: 94, train_loss: 23.65348103841146, val_metric: 0.677700608728583\n",
      "100%|██████████| 45/45 [00:00<00:00, 366.15it/s]\n",
      "100%|██████████| 12/12 [00:00<00:00, 3485.33it/s]\n",
      "2024-11-06 10:51:01,423 - decision_learning.modeling.train - INFO - epoch: 95, train_loss: 23.653480699327257, val_metric: 0.6632844814480233\n",
      "2024-11-06 10:51:01,423 - decision_learning.modeling.train - INFO - epoch: 95, train_loss: 23.653480699327257, val_metric: 0.6632844814480233\n",
      "100%|██████████| 45/45 [00:00<00:00, 367.05it/s]\n",
      "100%|██████████| 12/12 [00:00<00:00, 3298.71it/s]\n",
      "2024-11-06 10:51:01,553 - decision_learning.modeling.train - INFO - epoch: 96, train_loss: 23.653480826483833, val_metric: 0.6696263954859522\n",
      "2024-11-06 10:51:01,553 - decision_learning.modeling.train - INFO - epoch: 96, train_loss: 23.653480826483833, val_metric: 0.6696263954859522\n",
      "100%|██████████| 45/45 [00:00<00:00, 367.23it/s]\n",
      "100%|██████████| 12/12 [00:00<00:00, 3509.88it/s]\n",
      "2024-11-06 10:51:01,683 - decision_learning.modeling.train - INFO - epoch: 97, train_loss: 23.653480529785156, val_metric: 0.6639137817852454\n",
      "2024-11-06 10:51:01,683 - decision_learning.modeling.train - INFO - epoch: 97, train_loss: 23.653480529785156, val_metric: 0.6639137817852454\n",
      "100%|██████████| 45/45 [00:00<00:00, 369.70it/s]\n",
      "100%|██████████| 12/12 [00:00<00:00, 3510.37it/s]\n",
      "2024-11-06 10:51:01,811 - decision_learning.modeling.train - INFO - epoch: 98, train_loss: 23.653480529785156, val_metric: 0.6615985586776446\n",
      "2024-11-06 10:51:01,811 - decision_learning.modeling.train - INFO - epoch: 98, train_loss: 23.653480529785156, val_metric: 0.6615985586776446\n",
      "100%|██████████| 45/45 [00:00<00:00, 368.18it/s]\n",
      "100%|██████████| 12/12 [00:00<00:00, 3504.01it/s]\n",
      "2024-11-06 10:51:01,941 - decision_learning.modeling.train - INFO - epoch: 99, train_loss: 23.65348086886936, val_metric: 0.6837488560337585\n",
      "2024-11-06 10:51:01,941 - decision_learning.modeling.train - INFO - epoch: 99, train_loss: 23.65348086886936, val_metric: 0.6837488560337585\n"
     ]
    },
    {
     "name": "stdout",
     "output_type": "stream",
     "text": [
      "0.3976353643835253 F\n"
     ]
    },
    {
     "name": "stderr",
     "output_type": "stream",
     "text": [
      "100%|██████████| 45/45 [00:00<00:00, 368.26it/s]\n",
      "100%|██████████| 12/12 [00:00<00:00, 3494.53it/s]\n",
      "2024-11-06 10:51:02,077 - decision_learning.modeling.train - INFO - epoch: 0, train_loss: 21.870707575480143, val_metric: 0.663972930745743\n",
      "2024-11-06 10:51:02,077 - decision_learning.modeling.train - INFO - epoch: 0, train_loss: 21.870707575480143, val_metric: 0.663972930745743\n",
      "100%|██████████| 45/45 [00:00<00:00, 368.27it/s]\n",
      "100%|██████████| 12/12 [00:00<00:00, 3478.83it/s]\n",
      "2024-11-06 10:51:02,207 - decision_learning.modeling.train - INFO - epoch: 1, train_loss: 22.582617653740776, val_metric: 0.6422090023064015\n",
      "2024-11-06 10:51:02,207 - decision_learning.modeling.train - INFO - epoch: 1, train_loss: 22.582617653740776, val_metric: 0.6422090023064015\n",
      "100%|██████████| 45/45 [00:00<00:00, 367.64it/s]\n",
      "100%|██████████| 12/12 [00:00<00:00, 3482.20it/s]\n",
      "2024-11-06 10:51:02,336 - decision_learning.modeling.train - INFO - epoch: 2, train_loss: 22.654586283365884, val_metric: 0.6620179739716615\n",
      "2024-11-06 10:51:02,336 - decision_learning.modeling.train - INFO - epoch: 2, train_loss: 22.654586283365884, val_metric: 0.6620179739716615\n",
      "100%|██████████| 45/45 [00:00<00:00, 368.22it/s]\n",
      "100%|██████████| 12/12 [00:00<00:00, 3500.60it/s]\n",
      "2024-11-06 10:51:02,466 - decision_learning.modeling.train - INFO - epoch: 3, train_loss: 22.71173201666938, val_metric: 0.659666916832294\n",
      "2024-11-06 10:51:02,466 - decision_learning.modeling.train - INFO - epoch: 3, train_loss: 22.71173201666938, val_metric: 0.659666916832294\n",
      "100%|██████████| 45/45 [00:00<00:00, 368.22it/s]\n",
      "100%|██████████| 12/12 [00:00<00:00, 3479.31it/s]\n",
      "2024-11-06 10:51:02,595 - decision_learning.modeling.train - INFO - epoch: 4, train_loss: 22.733396530151367, val_metric: 0.6696768266904894\n",
      "2024-11-06 10:51:02,595 - decision_learning.modeling.train - INFO - epoch: 4, train_loss: 22.733396530151367, val_metric: 0.6696768266904894\n",
      "100%|██████████| 45/45 [00:00<00:00, 367.92it/s]\n",
      "100%|██████████| 12/12 [00:00<00:00, 3485.57it/s]\n",
      "2024-11-06 10:51:02,724 - decision_learning.modeling.train - INFO - epoch: 5, train_loss: 22.751349131266277, val_metric: 0.6710144953841081\n",
      "2024-11-06 10:51:02,724 - decision_learning.modeling.train - INFO - epoch: 5, train_loss: 22.751349131266277, val_metric: 0.6710144953841081\n",
      "100%|██████████| 45/45 [00:00<00:00, 367.93it/s]\n",
      "100%|██████████| 12/12 [00:00<00:00, 3473.78it/s]\n",
      "2024-11-06 10:51:02,854 - decision_learning.modeling.train - INFO - epoch: 6, train_loss: 22.750573052300346, val_metric: 0.6628185376658\n",
      "2024-11-06 10:51:02,854 - decision_learning.modeling.train - INFO - epoch: 6, train_loss: 22.750573052300346, val_metric: 0.6628185376658\n",
      "100%|██████████| 45/45 [00:00<00:00, 368.10it/s]\n",
      "100%|██████████| 12/12 [00:00<00:00, 3480.03it/s]\n",
      "2024-11-06 10:51:02,983 - decision_learning.modeling.train - INFO - epoch: 7, train_loss: 22.74519593980577, val_metric: 0.6757197521097591\n",
      "2024-11-06 10:51:02,983 - decision_learning.modeling.train - INFO - epoch: 7, train_loss: 22.74519593980577, val_metric: 0.6757197521097591\n",
      "100%|██████████| 45/45 [00:00<00:00, 367.45it/s]\n",
      "100%|██████████| 12/12 [00:00<00:00, 3468.76it/s]\n",
      "2024-11-06 10:51:03,113 - decision_learning.modeling.train - INFO - epoch: 8, train_loss: 22.788177023993597, val_metric: 0.6456241325191939\n",
      "2024-11-06 10:51:03,113 - decision_learning.modeling.train - INFO - epoch: 8, train_loss: 22.788177023993597, val_metric: 0.6456241325191939\n",
      "100%|██████████| 45/45 [00:00<00:00, 365.80it/s]\n",
      "100%|██████████| 12/12 [00:00<00:00, 3483.16it/s]\n",
      "2024-11-06 10:51:03,243 - decision_learning.modeling.train - INFO - epoch: 9, train_loss: 22.827151277330188, val_metric: 0.6586225093944074\n",
      "2024-11-06 10:51:03,243 - decision_learning.modeling.train - INFO - epoch: 9, train_loss: 22.827151277330188, val_metric: 0.6586225093944074\n",
      "100%|██████████| 45/45 [00:00<00:00, 366.19it/s]\n",
      "100%|██████████| 12/12 [00:00<00:00, 3472.11it/s]\n",
      "2024-11-06 10:51:03,373 - decision_learning.modeling.train - INFO - epoch: 10, train_loss: 22.816769282023113, val_metric: 0.6495823992021597\n",
      "2024-11-06 10:51:03,373 - decision_learning.modeling.train - INFO - epoch: 10, train_loss: 22.816769282023113, val_metric: 0.6495823992021597\n",
      "100%|██████████| 45/45 [00:00<00:00, 366.50it/s]\n",
      "100%|██████████| 12/12 [00:00<00:00, 3401.71it/s]\n",
      "2024-11-06 10:51:03,503 - decision_learning.modeling.train - INFO - epoch: 11, train_loss: 22.831399959988065, val_metric: 0.6436313143282386\n",
      "2024-11-06 10:51:03,503 - decision_learning.modeling.train - INFO - epoch: 11, train_loss: 22.831399959988065, val_metric: 0.6436313143282386\n",
      "100%|██████████| 45/45 [00:00<00:00, 366.19it/s]\n",
      "100%|██████████| 12/12 [00:00<00:00, 3472.59it/s]\n",
      "2024-11-06 10:51:03,633 - decision_learning.modeling.train - INFO - epoch: 12, train_loss: 22.811430740356446, val_metric: 0.6501201124171717\n",
      "2024-11-06 10:51:03,633 - decision_learning.modeling.train - INFO - epoch: 12, train_loss: 22.811430740356446, val_metric: 0.6501201124171717\n",
      "100%|██████████| 45/45 [00:00<00:00, 365.09it/s]\n",
      "100%|██████████| 12/12 [00:00<00:00, 3471.87it/s]\n",
      "2024-11-06 10:51:03,764 - decision_learning.modeling.train - INFO - epoch: 13, train_loss: 22.849846903483073, val_metric: 0.6404221157576928\n",
      "2024-11-06 10:51:03,764 - decision_learning.modeling.train - INFO - epoch: 13, train_loss: 22.849846903483073, val_metric: 0.6404221157576928\n",
      "100%|██████████| 45/45 [00:00<00:00, 365.00it/s]\n",
      "100%|██████████| 12/12 [00:00<00:00, 3465.89it/s]\n",
      "2024-11-06 10:51:03,895 - decision_learning.modeling.train - INFO - epoch: 14, train_loss: 22.854296239217124, val_metric: 0.6440800760216797\n",
      "2024-11-06 10:51:03,895 - decision_learning.modeling.train - INFO - epoch: 14, train_loss: 22.854296239217124, val_metric: 0.6440800760216797\n",
      "100%|██████████| 45/45 [00:00<00:00, 366.02it/s]\n",
      "100%|██████████| 12/12 [00:00<00:00, 3458.98it/s]\n",
      "2024-11-06 10:51:04,025 - decision_learning.modeling.train - INFO - epoch: 15, train_loss: 22.856478669908313, val_metric: 0.6413670292714518\n",
      "2024-11-06 10:51:04,025 - decision_learning.modeling.train - INFO - epoch: 15, train_loss: 22.856478669908313, val_metric: 0.6413670292714518\n",
      "100%|██████████| 45/45 [00:00<00:00, 364.07it/s]\n",
      "100%|██████████| 12/12 [00:00<00:00, 3455.66it/s]\n",
      "2024-11-06 10:51:04,156 - decision_learning.modeling.train - INFO - epoch: 16, train_loss: 22.855153189765083, val_metric: 0.6482483798017338\n",
      "2024-11-06 10:51:04,156 - decision_learning.modeling.train - INFO - epoch: 16, train_loss: 22.855153189765083, val_metric: 0.6482483798017338\n",
      "100%|██████████| 45/45 [00:00<00:00, 364.82it/s]\n",
      "100%|██████████| 12/12 [00:00<00:00, 3473.06it/s]\n",
      "2024-11-06 10:51:04,286 - decision_learning.modeling.train - INFO - epoch: 17, train_loss: 22.858651436699763, val_metric: 0.6592581959947167\n",
      "2024-11-06 10:51:04,286 - decision_learning.modeling.train - INFO - epoch: 17, train_loss: 22.858651436699763, val_metric: 0.6592581959947167\n",
      "100%|██████████| 45/45 [00:00<00:00, 364.90it/s]\n",
      "100%|██████████| 12/12 [00:00<00:00, 3498.41it/s]\n",
      "2024-11-06 10:51:04,417 - decision_learning.modeling.train - INFO - epoch: 18, train_loss: 22.859565014309354, val_metric: 0.6596658017704851\n",
      "2024-11-06 10:51:04,417 - decision_learning.modeling.train - INFO - epoch: 18, train_loss: 22.859565014309354, val_metric: 0.6596658017704851\n",
      "100%|██████████| 45/45 [00:00<00:00, 365.94it/s]\n",
      "100%|██████████| 12/12 [00:00<00:00, 3432.33it/s]\n",
      "2024-11-06 10:51:04,547 - decision_learning.modeling.train - INFO - epoch: 19, train_loss: 22.863441933525934, val_metric: 0.6419080369872628\n",
      "2024-11-06 10:51:04,547 - decision_learning.modeling.train - INFO - epoch: 19, train_loss: 22.863441933525934, val_metric: 0.6419080369872628\n",
      "100%|██████████| 45/45 [00:00<00:00, 364.64it/s]\n",
      "100%|██████████| 12/12 [00:00<00:00, 3470.19it/s]\n",
      "2024-11-06 10:51:04,678 - decision_learning.modeling.train - INFO - epoch: 20, train_loss: 22.864620123969186, val_metric: 0.6668229273599507\n",
      "2024-11-06 10:51:04,678 - decision_learning.modeling.train - INFO - epoch: 20, train_loss: 22.864620123969186, val_metric: 0.6668229273599507\n",
      "100%|██████████| 45/45 [00:00<00:00, 365.27it/s]\n",
      "100%|██████████| 12/12 [00:00<00:00, 3468.04it/s]\n",
      "2024-11-06 10:51:04,808 - decision_learning.modeling.train - INFO - epoch: 21, train_loss: 22.866175418429904, val_metric: 0.6494363261051982\n",
      "2024-11-06 10:51:04,808 - decision_learning.modeling.train - INFO - epoch: 21, train_loss: 22.866175418429904, val_metric: 0.6494363261051982\n",
      "100%|██████████| 45/45 [00:00<00:00, 363.94it/s]\n",
      "100%|██████████| 12/12 [00:00<00:00, 3480.03it/s]\n",
      "2024-11-06 10:51:04,939 - decision_learning.modeling.train - INFO - epoch: 22, train_loss: 22.866858588324654, val_metric: 0.661490955213089\n",
      "2024-11-06 10:51:04,939 - decision_learning.modeling.train - INFO - epoch: 22, train_loss: 22.866858588324654, val_metric: 0.661490955213089\n",
      "100%|██████████| 45/45 [00:00<00:00, 365.22it/s]\n",
      "100%|██████████| 12/12 [00:00<00:00, 3425.32it/s]\n",
      "2024-11-06 10:51:05,069 - decision_learning.modeling.train - INFO - epoch: 23, train_loss: 22.867126931084528, val_metric: 0.6589030994932203\n",
      "2024-11-06 10:51:05,069 - decision_learning.modeling.train - INFO - epoch: 23, train_loss: 22.867126931084528, val_metric: 0.6589030994932203\n",
      "100%|██████████| 45/45 [00:00<00:00, 366.10it/s]\n",
      "100%|██████████| 12/12 [00:00<00:00, 3296.11it/s]\n",
      "2024-11-06 10:51:05,200 - decision_learning.modeling.train - INFO - epoch: 24, train_loss: 22.8672179751926, val_metric: 0.6541974372905479\n",
      "2024-11-06 10:51:05,200 - decision_learning.modeling.train - INFO - epoch: 24, train_loss: 22.8672179751926, val_metric: 0.6541974372905479\n",
      "100%|██████████| 45/45 [00:00<00:00, 366.02it/s]\n",
      "100%|██████████| 12/12 [00:00<00:00, 3465.89it/s]\n",
      "2024-11-06 10:51:05,330 - decision_learning.modeling.train - INFO - epoch: 25, train_loss: 22.867358356051973, val_metric: 0.6660685880462525\n",
      "2024-11-06 10:51:05,330 - decision_learning.modeling.train - INFO - epoch: 25, train_loss: 22.867358356051973, val_metric: 0.6660685880462525\n",
      "100%|██████████| 45/45 [00:00<00:00, 362.95it/s]\n",
      "100%|██████████| 12/12 [00:00<00:00, 3460.17it/s]\n",
      "2024-11-06 10:51:05,461 - decision_learning.modeling.train - INFO - epoch: 26, train_loss: 22.867359839545355, val_metric: 0.654747973716362\n",
      "2024-11-06 10:51:05,461 - decision_learning.modeling.train - INFO - epoch: 26, train_loss: 22.867359839545355, val_metric: 0.654747973716362\n",
      "100%|██████████| 45/45 [00:00<00:00, 366.24it/s]\n",
      "100%|██████████| 12/12 [00:00<00:00, 3451.87it/s]\n",
      "2024-11-06 10:51:05,591 - decision_learning.modeling.train - INFO - epoch: 27, train_loss: 22.86792411804199, val_metric: 0.6525366034108687\n",
      "2024-11-06 10:51:05,591 - decision_learning.modeling.train - INFO - epoch: 27, train_loss: 22.86792411804199, val_metric: 0.6525366034108687\n",
      "100%|██████████| 45/45 [00:00<00:00, 365.09it/s]\n",
      "100%|██████████| 12/12 [00:00<00:00, 3465.17it/s]\n",
      "2024-11-06 10:51:05,722 - decision_learning.modeling.train - INFO - epoch: 28, train_loss: 22.86775042215983, val_metric: 0.6275329135704929\n",
      "2024-11-06 10:51:05,722 - decision_learning.modeling.train - INFO - epoch: 28, train_loss: 22.86775042215983, val_metric: 0.6275329135704929\n",
      "100%|██████████| 45/45 [00:00<00:00, 365.76it/s]\n",
      "100%|██████████| 12/12 [00:00<00:00, 3461.36it/s]\n",
      "2024-11-06 10:51:05,852 - decision_learning.modeling.train - INFO - epoch: 29, train_loss: 22.86798176235623, val_metric: 0.6625964883119526\n",
      "2024-11-06 10:51:05,852 - decision_learning.modeling.train - INFO - epoch: 29, train_loss: 22.86798176235623, val_metric: 0.6625964883119526\n",
      "100%|██████████| 45/45 [00:00<00:00, 365.18it/s]\n",
      "100%|██████████| 12/12 [00:00<00:00, 3492.83it/s]\n",
      "2024-11-06 10:51:05,982 - decision_learning.modeling.train - INFO - epoch: 30, train_loss: 22.868331103854707, val_metric: 0.6640132250247452\n",
      "2024-11-06 10:51:05,982 - decision_learning.modeling.train - INFO - epoch: 30, train_loss: 22.868331103854707, val_metric: 0.6640132250247452\n",
      "100%|██████████| 45/45 [00:00<00:00, 365.53it/s]\n",
      "100%|██████████| 12/12 [00:00<00:00, 3491.37it/s]\n",
      "2024-11-06 10:51:06,113 - decision_learning.modeling.train - INFO - epoch: 31, train_loss: 22.868390570746527, val_metric: 0.6474856775244691\n",
      "2024-11-06 10:51:06,113 - decision_learning.modeling.train - INFO - epoch: 31, train_loss: 22.868390570746527, val_metric: 0.6474856775244691\n",
      "100%|██████████| 45/45 [00:00<00:00, 365.54it/s]\n",
      "100%|██████████| 12/12 [00:00<00:00, 3491.86it/s]\n",
      "2024-11-06 10:51:06,243 - decision_learning.modeling.train - INFO - epoch: 32, train_loss: 22.868449529012043, val_metric: 0.6359389590705169\n",
      "2024-11-06 10:51:06,243 - decision_learning.modeling.train - INFO - epoch: 32, train_loss: 22.868449529012043, val_metric: 0.6359389590705169\n",
      "100%|██████████| 45/45 [00:00<00:00, 366.36it/s]\n",
      "100%|██████████| 12/12 [00:00<00:00, 3493.31it/s]\n",
      "2024-11-06 10:51:06,373 - decision_learning.modeling.train - INFO - epoch: 33, train_loss: 22.868490388658312, val_metric: 0.6585420222056583\n",
      "2024-11-06 10:51:06,373 - decision_learning.modeling.train - INFO - epoch: 33, train_loss: 22.868490388658312, val_metric: 0.6585420222056583\n",
      "100%|██████████| 45/45 [00:00<00:00, 367.32it/s]\n",
      "100%|██████████| 12/12 [00:00<00:00, 3477.62it/s]\n",
      "2024-11-06 10:51:06,503 - decision_learning.modeling.train - INFO - epoch: 34, train_loss: 22.868499077690974, val_metric: 0.6527005174967722\n",
      "2024-11-06 10:51:06,503 - decision_learning.modeling.train - INFO - epoch: 34, train_loss: 22.868499077690974, val_metric: 0.6527005174967722\n",
      "100%|██████████| 45/45 [00:00<00:00, 368.11it/s]\n",
      "100%|██████████| 12/12 [00:00<00:00, 3483.16it/s]\n",
      "2024-11-06 10:51:06,632 - decision_learning.modeling.train - INFO - epoch: 35, train_loss: 22.86856638590495, val_metric: 0.659806806404679\n",
      "2024-11-06 10:51:06,632 - decision_learning.modeling.train - INFO - epoch: 35, train_loss: 22.86856638590495, val_metric: 0.659806806404679\n",
      "100%|██████████| 45/45 [00:00<00:00, 365.89it/s]\n",
      "100%|██████████| 12/12 [00:00<00:00, 3450.21it/s]\n",
      "2024-11-06 10:51:06,762 - decision_learning.modeling.train - INFO - epoch: 36, train_loss: 22.86857465108236, val_metric: 0.6476224246499382\n",
      "2024-11-06 10:51:06,762 - decision_learning.modeling.train - INFO - epoch: 36, train_loss: 22.86857465108236, val_metric: 0.6476224246499382\n",
      "100%|██████████| 45/45 [00:00<00:00, 367.57it/s]\n",
      "100%|██████████| 12/12 [00:00<00:00, 3316.97it/s]\n",
      "2024-11-06 10:51:06,892 - decision_learning.modeling.train - INFO - epoch: 37, train_loss: 22.868611102634006, val_metric: 0.6427772783519021\n",
      "2024-11-06 10:51:06,892 - decision_learning.modeling.train - INFO - epoch: 37, train_loss: 22.868611102634006, val_metric: 0.6427772783519021\n",
      "100%|██████████| 45/45 [00:00<00:00, 366.48it/s]\n",
      "100%|██████████| 12/12 [00:00<00:00, 3509.63it/s]\n",
      "2024-11-06 10:51:07,022 - decision_learning.modeling.train - INFO - epoch: 38, train_loss: 22.868645477294923, val_metric: 0.6625858445401407\n",
      "2024-11-06 10:51:07,022 - decision_learning.modeling.train - INFO - epoch: 38, train_loss: 22.868645477294923, val_metric: 0.6625858445401407\n",
      "100%|██████████| 45/45 [00:00<00:00, 369.70it/s]\n",
      "100%|██████████| 12/12 [00:00<00:00, 3553.49it/s]\n",
      "2024-11-06 10:51:07,150 - decision_learning.modeling.train - INFO - epoch: 39, train_loss: 22.8686644660102, val_metric: 0.651045157556882\n",
      "2024-11-06 10:51:07,150 - decision_learning.modeling.train - INFO - epoch: 39, train_loss: 22.8686644660102, val_metric: 0.651045157556882\n",
      "100%|██████████| 45/45 [00:00<00:00, 369.67it/s]\n",
      "100%|██████████| 12/12 [00:00<00:00, 3556.00it/s]\n",
      "2024-11-06 10:51:07,279 - decision_learning.modeling.train - INFO - epoch: 40, train_loss: 22.868695576985676, val_metric: 0.6458780118192218\n",
      "2024-11-06 10:51:07,279 - decision_learning.modeling.train - INFO - epoch: 40, train_loss: 22.868695576985676, val_metric: 0.6458780118192218\n",
      "100%|██████████| 45/45 [00:00<00:00, 367.14it/s]\n",
      "100%|██████████| 12/12 [00:00<00:00, 3540.99it/s]\n",
      "2024-11-06 10:51:07,408 - decision_learning.modeling.train - INFO - epoch: 41, train_loss: 22.868696890936956, val_metric: 0.6579658393582403\n",
      "2024-11-06 10:51:07,408 - decision_learning.modeling.train - INFO - epoch: 41, train_loss: 22.868696890936956, val_metric: 0.6579658393582403\n",
      "100%|██████████| 45/45 [00:00<00:00, 369.82it/s]\n",
      "100%|██████████| 12/12 [00:00<00:00, 3550.98it/s]\n",
      "2024-11-06 10:51:07,537 - decision_learning.modeling.train - INFO - epoch: 42, train_loss: 22.868700324164497, val_metric: 0.6550605964998659\n",
      "2024-11-06 10:51:07,537 - decision_learning.modeling.train - INFO - epoch: 42, train_loss: 22.868700324164497, val_metric: 0.6550605964998659\n",
      "100%|██████████| 45/45 [00:00<00:00, 369.19it/s]\n",
      "100%|██████████| 12/12 [00:00<00:00, 3542.99it/s]\n",
      "2024-11-06 10:51:07,666 - decision_learning.modeling.train - INFO - epoch: 43, train_loss: 22.846322377522785, val_metric: 0.6439651739707387\n",
      "2024-11-06 10:51:07,666 - decision_learning.modeling.train - INFO - epoch: 43, train_loss: 22.846322377522785, val_metric: 0.6439651739707387\n",
      "100%|██████████| 45/45 [00:00<00:00, 368.72it/s]\n",
      "100%|██████████| 12/12 [00:00<00:00, 3566.84it/s]\n",
      "2024-11-06 10:51:07,795 - decision_learning.modeling.train - INFO - epoch: 44, train_loss: 22.849913618299695, val_metric: 0.6505345606176764\n",
      "2024-11-06 10:51:07,795 - decision_learning.modeling.train - INFO - epoch: 44, train_loss: 22.849913618299695, val_metric: 0.6505345606176764\n",
      "100%|██████████| 45/45 [00:00<00:00, 370.25it/s]\n",
      "100%|██████████| 12/12 [00:00<00:00, 3552.74it/s]\n",
      "2024-11-06 10:51:07,923 - decision_learning.modeling.train - INFO - epoch: 45, train_loss: 22.800192642211915, val_metric: 0.6567598493273233\n",
      "2024-11-06 10:51:07,923 - decision_learning.modeling.train - INFO - epoch: 45, train_loss: 22.800192642211915, val_metric: 0.6567598493273233\n",
      "100%|██████████| 45/45 [00:00<00:00, 368.63it/s]\n",
      "100%|██████████| 12/12 [00:00<00:00, 3567.60it/s]\n",
      "2024-11-06 10:51:08,052 - decision_learning.modeling.train - INFO - epoch: 46, train_loss: 22.85234849717882, val_metric: 0.6395755811062523\n",
      "2024-11-06 10:51:08,052 - decision_learning.modeling.train - INFO - epoch: 46, train_loss: 22.85234849717882, val_metric: 0.6395755811062523\n",
      "100%|██████████| 45/45 [00:00<00:00, 371.28it/s]\n",
      "100%|██████████| 12/12 [00:00<00:00, 3552.24it/s]\n",
      "2024-11-06 10:51:08,180 - decision_learning.modeling.train - INFO - epoch: 47, train_loss: 22.846339670817056, val_metric: 0.661079700144128\n",
      "2024-11-06 10:51:08,180 - decision_learning.modeling.train - INFO - epoch: 47, train_loss: 22.846339670817056, val_metric: 0.661079700144128\n",
      "100%|██████████| 45/45 [00:00<00:00, 370.61it/s]\n",
      "100%|██████████| 12/12 [00:00<00:00, 3539.99it/s]\n",
      "2024-11-06 10:51:08,308 - decision_learning.modeling.train - INFO - epoch: 48, train_loss: 22.85665372212728, val_metric: 0.6335770554208268\n",
      "2024-11-06 10:51:08,308 - decision_learning.modeling.train - INFO - epoch: 48, train_loss: 22.85665372212728, val_metric: 0.6335770554208268\n",
      "100%|██████████| 45/45 [00:00<00:00, 371.88it/s]\n",
      "100%|██████████| 12/12 [00:00<00:00, 3564.56it/s]\n",
      "2024-11-06 10:51:08,436 - decision_learning.modeling.train - INFO - epoch: 49, train_loss: 22.8499272664388, val_metric: 0.6455338125126757\n",
      "2024-11-06 10:51:08,436 - decision_learning.modeling.train - INFO - epoch: 49, train_loss: 22.8499272664388, val_metric: 0.6455338125126757\n",
      "100%|██████████| 45/45 [00:00<00:00, 366.74it/s]\n",
      "100%|██████████| 12/12 [00:00<00:00, 3571.90it/s]\n",
      "2024-11-06 10:51:08,566 - decision_learning.modeling.train - INFO - epoch: 50, train_loss: 22.83429612053765, val_metric: 0.6493380486121348\n",
      "2024-11-06 10:51:08,566 - decision_learning.modeling.train - INFO - epoch: 50, train_loss: 22.83429612053765, val_metric: 0.6493380486121348\n",
      "100%|██████████| 45/45 [00:00<00:00, 371.74it/s]\n",
      "100%|██████████| 12/12 [00:00<00:00, 3506.70it/s]\n",
      "2024-11-06 10:51:08,694 - decision_learning.modeling.train - INFO - epoch: 51, train_loss: 22.83429675632053, val_metric: 0.6400605823084816\n",
      "2024-11-06 10:51:08,694 - decision_learning.modeling.train - INFO - epoch: 51, train_loss: 22.83429675632053, val_metric: 0.6400605823084816\n",
      "100%|██████████| 45/45 [00:00<00:00, 371.73it/s]\n",
      "100%|██████████| 12/12 [00:00<00:00, 3535.27it/s]\n",
      "2024-11-06 10:51:08,822 - decision_learning.modeling.train - INFO - epoch: 52, train_loss: 22.834297519259984, val_metric: 0.654476912327552\n",
      "2024-11-06 10:51:08,822 - decision_learning.modeling.train - INFO - epoch: 52, train_loss: 22.834297519259984, val_metric: 0.654476912327552\n",
      "100%|██████████| 45/45 [00:00<00:00, 371.04it/s]\n",
      "100%|██████████| 12/12 [00:00<00:00, 3549.98it/s]\n",
      "2024-11-06 10:51:08,950 - decision_learning.modeling.train - INFO - epoch: 53, train_loss: 22.815513398912216, val_metric: 0.661141129912871\n",
      "2024-11-06 10:51:08,950 - decision_learning.modeling.train - INFO - epoch: 53, train_loss: 22.815513398912216, val_metric: 0.661141129912871\n",
      "100%|██████████| 45/45 [00:00<00:00, 370.00it/s]\n",
      "100%|██████████| 12/12 [00:00<00:00, 3582.58it/s]\n",
      "2024-11-06 10:51:09,078 - decision_learning.modeling.train - INFO - epoch: 54, train_loss: 22.815514119466147, val_metric: 0.646329105005536\n",
      "2024-11-06 10:51:09,078 - decision_learning.modeling.train - INFO - epoch: 54, train_loss: 22.815514119466147, val_metric: 0.646329105005536\n",
      "100%|██████████| 45/45 [00:00<00:00, 372.83it/s]\n",
      "100%|██████████| 12/12 [00:00<00:00, 3560.28it/s]\n",
      "2024-11-06 10:51:09,206 - decision_learning.modeling.train - INFO - epoch: 55, train_loss: 22.846351877848306, val_metric: 0.6493670909037931\n",
      "2024-11-06 10:51:09,206 - decision_learning.modeling.train - INFO - epoch: 55, train_loss: 22.846351877848306, val_metric: 0.6493670909037931\n",
      "100%|██████████| 45/45 [00:00<00:00, 369.50it/s]\n",
      "100%|██████████| 12/12 [00:00<00:00, 3547.23it/s]\n",
      "2024-11-06 10:51:09,334 - decision_learning.modeling.train - INFO - epoch: 56, train_loss: 22.8155153910319, val_metric: 0.6345473112484237\n",
      "2024-11-06 10:51:09,334 - decision_learning.modeling.train - INFO - epoch: 56, train_loss: 22.8155153910319, val_metric: 0.6345473112484237\n",
      "100%|██████████| 45/45 [00:00<00:00, 367.71it/s]\n",
      "100%|██████████| 12/12 [00:00<00:00, 3500.11it/s]\n",
      "2024-11-06 10:51:09,464 - decision_learning.modeling.train - INFO - epoch: 57, train_loss: 22.815515814887153, val_metric: 0.6566993318818785\n",
      "2024-11-06 10:51:09,464 - decision_learning.modeling.train - INFO - epoch: 57, train_loss: 22.815515814887153, val_metric: 0.6566993318818785\n",
      "100%|██████████| 45/45 [00:00<00:00, 367.49it/s]\n",
      "100%|██████████| 12/12 [00:00<00:00, 3495.98it/s]\n",
      "2024-11-06 10:51:09,593 - decision_learning.modeling.train - INFO - epoch: 58, train_loss: 22.84635289510091, val_metric: 0.6630850374381192\n",
      "2024-11-06 10:51:09,593 - decision_learning.modeling.train - INFO - epoch: 58, train_loss: 22.84635289510091, val_metric: 0.6630850374381192\n",
      "100%|██████████| 45/45 [00:00<00:00, 368.77it/s]\n",
      "100%|██████████| 12/12 [00:00<00:00, 3491.13it/s]\n",
      "2024-11-06 10:51:09,723 - decision_learning.modeling.train - INFO - epoch: 59, train_loss: 22.81551767985026, val_metric: 0.6504192024050863\n",
      "2024-11-06 10:51:09,723 - decision_learning.modeling.train - INFO - epoch: 59, train_loss: 22.81551767985026, val_metric: 0.6504192024050863\n",
      "100%|██████████| 45/45 [00:00<00:00, 366.88it/s]\n",
      "100%|██████████| 12/12 [00:00<00:00, 3463.27it/s]\n",
      "2024-11-06 10:51:09,852 - decision_learning.modeling.train - INFO - epoch: 60, train_loss: 22.788178126017254, val_metric: 0.6406070132794539\n",
      "2024-11-06 10:51:09,852 - decision_learning.modeling.train - INFO - epoch: 60, train_loss: 22.788178126017254, val_metric: 0.6406070132794539\n",
      "100%|██████████| 45/45 [00:00<00:00, 368.67it/s]\n",
      "100%|██████████| 12/12 [00:00<00:00, 3474.26it/s]\n",
      "2024-11-06 10:51:09,982 - decision_learning.modeling.train - INFO - epoch: 61, train_loss: 22.80023036532932, val_metric: 0.6788615908101238\n",
      "2024-11-06 10:51:09,982 - decision_learning.modeling.train - INFO - epoch: 61, train_loss: 22.80023036532932, val_metric: 0.6788615908101238\n",
      "100%|██████████| 45/45 [00:00<00:00, 366.91it/s]\n",
      "100%|██████████| 12/12 [00:00<00:00, 3470.91it/s]\n",
      "2024-11-06 10:51:10,111 - decision_learning.modeling.train - INFO - epoch: 62, train_loss: 22.78817893134223, val_metric: 0.649396335933962\n",
      "2024-11-06 10:51:10,111 - decision_learning.modeling.train - INFO - epoch: 62, train_loss: 22.78817893134223, val_metric: 0.649396335933962\n",
      "100%|██████████| 45/45 [00:00<00:00, 365.34it/s]\n",
      "100%|██████████| 12/12 [00:00<00:00, 3479.07it/s]\n",
      "2024-11-06 10:51:10,242 - decision_learning.modeling.train - INFO - epoch: 63, train_loss: 22.788179016113283, val_metric: 0.6505923917778544\n",
      "2024-11-06 10:51:10,242 - decision_learning.modeling.train - INFO - epoch: 63, train_loss: 22.788179016113283, val_metric: 0.6505923917778544\n",
      "100%|██████████| 45/45 [00:00<00:00, 366.13it/s]\n",
      "100%|██████████| 12/12 [00:00<00:00, 3449.97it/s]\n",
      "2024-11-06 10:51:10,372 - decision_learning.modeling.train - INFO - epoch: 64, train_loss: 22.788179016113283, val_metric: 0.6506216368080233\n",
      "2024-11-06 10:51:10,372 - decision_learning.modeling.train - INFO - epoch: 64, train_loss: 22.788179016113283, val_metric: 0.6506216368080233\n",
      "100%|██████████| 45/45 [00:00<00:00, 367.16it/s]\n",
      "100%|██████████| 12/12 [00:00<00:00, 3464.70it/s]\n",
      "2024-11-06 10:51:10,502 - decision_learning.modeling.train - INFO - epoch: 65, train_loss: 22.788179058498805, val_metric: 0.6383022312051543\n",
      "2024-11-06 10:51:10,502 - decision_learning.modeling.train - INFO - epoch: 65, train_loss: 22.788179058498805, val_metric: 0.6383022312051543\n",
      "100%|██████████| 45/45 [00:00<00:00, 366.71it/s]\n",
      "100%|██████████| 12/12 [00:00<00:00, 3469.71it/s]\n",
      "2024-11-06 10:51:10,632 - decision_learning.modeling.train - INFO - epoch: 66, train_loss: 22.788179016113283, val_metric: 0.675931411114933\n",
      "2024-11-06 10:51:10,632 - decision_learning.modeling.train - INFO - epoch: 66, train_loss: 22.788179016113283, val_metric: 0.675931411114933\n",
      "100%|██████████| 45/45 [00:00<00:00, 367.57it/s]\n",
      "100%|██████████| 12/12 [00:00<00:00, 3461.60it/s]\n",
      "2024-11-06 10:51:10,761 - decision_learning.modeling.train - INFO - epoch: 67, train_loss: 22.788179439968534, val_metric: 0.6399610883843542\n",
      "2024-11-06 10:51:10,761 - decision_learning.modeling.train - INFO - epoch: 67, train_loss: 22.788179439968534, val_metric: 0.6399610883843542\n",
      "100%|██████████| 45/45 [00:00<00:00, 367.71it/s]\n",
      "100%|██████████| 12/12 [00:00<00:00, 3457.79it/s]\n",
      "2024-11-06 10:51:10,891 - decision_learning.modeling.train - INFO - epoch: 68, train_loss: 22.788179143269858, val_metric: 0.6513127217063822\n",
      "2024-11-06 10:51:10,891 - decision_learning.modeling.train - INFO - epoch: 68, train_loss: 22.788179143269858, val_metric: 0.6513127217063822\n",
      "100%|██████████| 45/45 [00:00<00:00, 367.47it/s]\n",
      "100%|██████████| 12/12 [00:00<00:00, 3311.51it/s]\n",
      "2024-11-06 10:51:11,021 - decision_learning.modeling.train - INFO - epoch: 69, train_loss: 22.78817910088433, val_metric: 0.645689617058151\n",
      "2024-11-06 10:51:11,021 - decision_learning.modeling.train - INFO - epoch: 69, train_loss: 22.78817910088433, val_metric: 0.645689617058151\n",
      "100%|██████████| 45/45 [00:00<00:00, 365.38it/s]\n",
      "100%|██████████| 12/12 [00:00<00:00, 3468.99it/s]\n",
      "2024-11-06 10:51:11,151 - decision_learning.modeling.train - INFO - epoch: 70, train_loss: 22.78817918565538, val_metric: 0.6652414656072119\n",
      "2024-11-06 10:51:11,151 - decision_learning.modeling.train - INFO - epoch: 70, train_loss: 22.78817918565538, val_metric: 0.6652414656072119\n",
      "100%|██████████| 45/45 [00:00<00:00, 367.96it/s]\n",
      "100%|██████████| 12/12 [00:00<00:00, 3445.96it/s]\n",
      "2024-11-06 10:51:11,281 - decision_learning.modeling.train - INFO - epoch: 71, train_loss: 22.788179143269858, val_metric: 0.65896067723026\n",
      "2024-11-06 10:51:11,281 - decision_learning.modeling.train - INFO - epoch: 71, train_loss: 22.788179143269858, val_metric: 0.65896067723026\n",
      "100%|██████████| 45/45 [00:00<00:00, 367.21it/s]\n",
      "100%|██████████| 12/12 [00:00<00:00, 3489.20it/s]\n",
      "2024-11-06 10:51:11,411 - decision_learning.modeling.train - INFO - epoch: 72, train_loss: 22.788179228040907, val_metric: 0.6645423218530525\n",
      "2024-11-06 10:51:11,411 - decision_learning.modeling.train - INFO - epoch: 72, train_loss: 22.788179228040907, val_metric: 0.6645423218530525\n",
      "100%|██████████| 45/45 [00:00<00:00, 365.66it/s]\n",
      "100%|██████████| 12/12 [00:00<00:00, 3473.54it/s]\n",
      "2024-11-06 10:51:11,541 - decision_learning.modeling.train - INFO - epoch: 73, train_loss: 22.78817982143826, val_metric: 0.6562307524990161\n",
      "2024-11-06 10:51:11,541 - decision_learning.modeling.train - INFO - epoch: 73, train_loss: 22.78817982143826, val_metric: 0.6562307524990161\n",
      "100%|██████████| 45/45 [00:00<00:00, 366.90it/s]\n",
      "100%|██████████| 12/12 [00:00<00:00, 3465.89it/s]\n",
      "2024-11-06 10:51:11,671 - decision_learning.modeling.train - INFO - epoch: 74, train_loss: 22.78817973666721, val_metric: 0.6646732909309666\n",
      "2024-11-06 10:51:11,671 - decision_learning.modeling.train - INFO - epoch: 74, train_loss: 22.78817973666721, val_metric: 0.6646732909309666\n",
      "100%|██████████| 45/45 [00:00<00:00, 366.06it/s]\n",
      "100%|██████████| 12/12 [00:00<00:00, 3483.88it/s]\n",
      "2024-11-06 10:51:11,801 - decision_learning.modeling.train - INFO - epoch: 75, train_loss: 22.78817935519748, val_metric: 0.6532527771999271\n",
      "2024-11-06 10:51:11,801 - decision_learning.modeling.train - INFO - epoch: 75, train_loss: 22.78817935519748, val_metric: 0.6532527771999271\n",
      "100%|██████████| 45/45 [00:00<00:00, 366.80it/s]\n",
      "100%|██████████| 12/12 [00:00<00:00, 3458.27it/s]\n",
      "2024-11-06 10:51:11,931 - decision_learning.modeling.train - INFO - epoch: 76, train_loss: 22.788179863823785, val_metric: 0.6504981690550052\n",
      "2024-11-06 10:51:11,931 - decision_learning.modeling.train - INFO - epoch: 76, train_loss: 22.788179863823785, val_metric: 0.6504981690550052\n",
      "100%|██████████| 45/45 [00:00<00:00, 367.09it/s]\n",
      "100%|██████████| 12/12 [00:00<00:00, 3488.47it/s]\n",
      "2024-11-06 10:51:12,061 - decision_learning.modeling.train - INFO - epoch: 77, train_loss: 22.78817956712511, val_metric: 0.640676248480859\n",
      "2024-11-06 10:51:12,061 - decision_learning.modeling.train - INFO - epoch: 77, train_loss: 22.78817956712511, val_metric: 0.640676248480859\n",
      "100%|██████████| 45/45 [00:00<00:00, 366.52it/s]\n",
      "100%|██████████| 12/12 [00:00<00:00, 3456.13it/s]\n",
      "2024-11-06 10:51:12,191 - decision_learning.modeling.train - INFO - epoch: 78, train_loss: 22.788179482354057, val_metric: 0.6507168225387984\n",
      "2024-11-06 10:51:12,191 - decision_learning.modeling.train - INFO - epoch: 78, train_loss: 22.788179482354057, val_metric: 0.6507168225387984\n",
      "100%|██████████| 45/45 [00:00<00:00, 366.72it/s]\n",
      "100%|██████████| 12/12 [00:00<00:00, 3461.36it/s]\n",
      "2024-11-06 10:51:12,321 - decision_learning.modeling.train - INFO - epoch: 79, train_loss: 22.78817931281196, val_metric: 0.6629201096596623\n",
      "2024-11-06 10:51:12,321 - decision_learning.modeling.train - INFO - epoch: 79, train_loss: 22.78817931281196, val_metric: 0.6629201096596623\n",
      "100%|██████████| 45/45 [00:00<00:00, 365.97it/s]\n",
      "100%|██████████| 12/12 [00:00<00:00, 3468.99it/s]\n",
      "2024-11-06 10:51:12,451 - decision_learning.modeling.train - INFO - epoch: 80, train_loss: 22.788179439968534, val_metric: 0.6498319703088351\n",
      "2024-11-06 10:51:12,451 - decision_learning.modeling.train - INFO - epoch: 80, train_loss: 22.788179439968534, val_metric: 0.6498319703088351\n",
      "100%|██████████| 45/45 [00:00<00:00, 366.03it/s]\n",
      "100%|██████████| 12/12 [00:00<00:00, 3262.99it/s]\n",
      "2024-11-06 10:51:12,582 - decision_learning.modeling.train - INFO - epoch: 81, train_loss: 22.788179397583008, val_metric: 0.6651832796546401\n",
      "2024-11-06 10:51:12,582 - decision_learning.modeling.train - INFO - epoch: 81, train_loss: 22.788179397583008, val_metric: 0.6651832796546401\n",
      "100%|██████████| 45/45 [00:00<00:00, 364.54it/s]\n",
      "100%|██████████| 12/12 [00:00<00:00, 3459.22it/s]\n",
      "2024-11-06 10:51:12,712 - decision_learning.modeling.train - INFO - epoch: 82, train_loss: 22.788179524739583, val_metric: 0.652398994646729\n",
      "2024-11-06 10:51:12,712 - decision_learning.modeling.train - INFO - epoch: 82, train_loss: 22.788179524739583, val_metric: 0.652398994646729\n",
      "100%|██████████| 45/45 [00:00<00:00, 366.08it/s]\n",
      "100%|██████████| 12/12 [00:00<00:00, 3485.81it/s]\n",
      "2024-11-06 10:51:12,842 - decision_learning.modeling.train - INFO - epoch: 83, train_loss: 22.78817982143826, val_metric: 0.6660931194060475\n",
      "2024-11-06 10:51:12,842 - decision_learning.modeling.train - INFO - epoch: 83, train_loss: 22.78817982143826, val_metric: 0.6660931194060475\n",
      "100%|██████████| 45/45 [00:00<00:00, 364.69it/s]\n",
      "100%|██████████| 12/12 [00:00<00:00, 3450.92it/s]\n",
      "2024-11-06 10:51:12,973 - decision_learning.modeling.train - INFO - epoch: 84, train_loss: 22.788179397583008, val_metric: 0.6468021446356338\n",
      "2024-11-06 10:51:12,973 - decision_learning.modeling.train - INFO - epoch: 84, train_loss: 22.788179397583008, val_metric: 0.6468021446356338\n",
      "100%|██████████| 45/45 [00:00<00:00, 365.28it/s]\n",
      "100%|██████████| 12/12 [00:00<00:00, 3447.85it/s]\n",
      "2024-11-06 10:51:13,103 - decision_learning.modeling.train - INFO - epoch: 85, train_loss: 22.788179270426433, val_metric: 0.6509679648689318\n",
      "2024-11-06 10:51:13,103 - decision_learning.modeling.train - INFO - epoch: 85, train_loss: 22.788179270426433, val_metric: 0.6509679648689318\n",
      "100%|██████████| 45/45 [00:00<00:00, 367.14it/s]\n",
      "100%|██████████| 12/12 [00:00<00:00, 3448.32it/s]\n",
      "2024-11-06 10:51:13,233 - decision_learning.modeling.train - INFO - epoch: 86, train_loss: 22.788179482354057, val_metric: 0.6555476757718299\n",
      "2024-11-06 10:51:13,233 - decision_learning.modeling.train - INFO - epoch: 86, train_loss: 22.788179482354057, val_metric: 0.6555476757718299\n",
      "100%|██████████| 45/45 [00:00<00:00, 365.62it/s]\n",
      "100%|██████████| 12/12 [00:00<00:00, 3375.92it/s]\n",
      "2024-11-06 10:51:13,364 - decision_learning.modeling.train - INFO - epoch: 87, train_loss: 22.788179439968534, val_metric: 0.6620475737942242\n",
      "2024-11-06 10:51:13,364 - decision_learning.modeling.train - INFO - epoch: 87, train_loss: 22.788179439968534, val_metric: 0.6620475737942242\n",
      "100%|██████████| 45/45 [00:00<00:00, 365.58it/s]\n",
      "100%|██████████| 12/12 [00:00<00:00, 3442.66it/s]\n",
      "2024-11-06 10:51:13,494 - decision_learning.modeling.train - INFO - epoch: 88, train_loss: 22.788179058498805, val_metric: 0.6645842380401403\n",
      "2024-11-06 10:51:13,494 - decision_learning.modeling.train - INFO - epoch: 88, train_loss: 22.788179058498805, val_metric: 0.6645842380401403\n",
      "100%|██████████| 45/45 [00:00<00:00, 366.36it/s]\n",
      "100%|██████████| 12/12 [00:00<00:00, 3352.09it/s]\n",
      "2024-11-06 10:51:13,624 - decision_learning.modeling.train - INFO - epoch: 89, train_loss: 22.788179143269858, val_metric: 0.6421267918403114\n",
      "2024-11-06 10:51:13,624 - decision_learning.modeling.train - INFO - epoch: 89, train_loss: 22.788179143269858, val_metric: 0.6421267918403114\n",
      "100%|██████████| 45/45 [00:00<00:00, 366.00it/s]\n",
      "100%|██████████| 12/12 [00:00<00:00, 3480.99it/s]\n",
      "2024-11-06 10:51:13,754 - decision_learning.modeling.train - INFO - epoch: 90, train_loss: 22.78817910088433, val_metric: 0.6319896635666498\n",
      "2024-11-06 10:51:13,754 - decision_learning.modeling.train - INFO - epoch: 90, train_loss: 22.78817910088433, val_metric: 0.6319896635666498\n",
      "100%|██████████| 45/45 [00:00<00:00, 367.30it/s]\n",
      "100%|██████████| 12/12 [00:00<00:00, 3482.20it/s]\n",
      "2024-11-06 10:51:13,884 - decision_learning.modeling.train - INFO - epoch: 91, train_loss: 22.78817956712511, val_metric: 0.6484137130572121\n",
      "2024-11-06 10:51:13,884 - decision_learning.modeling.train - INFO - epoch: 91, train_loss: 22.78817956712511, val_metric: 0.6484137130572121\n",
      "100%|██████████| 45/45 [00:00<00:00, 366.83it/s]\n",
      "100%|██████████| 12/12 [00:00<00:00, 3473.06it/s]\n",
      "2024-11-06 10:51:14,014 - decision_learning.modeling.train - INFO - epoch: 92, train_loss: 22.788179609510635, val_metric: 0.6539483730301492\n",
      "2024-11-06 10:51:14,014 - decision_learning.modeling.train - INFO - epoch: 92, train_loss: 22.788179609510635, val_metric: 0.6539483730301492\n",
      "100%|██████████| 45/45 [00:00<00:00, 364.78it/s]\n",
      "100%|██████████| 12/12 [00:00<00:00, 3479.55it/s]\n",
      "2024-11-06 10:51:14,144 - decision_learning.modeling.train - INFO - epoch: 93, train_loss: 22.78817956712511, val_metric: 0.652733665243272\n",
      "2024-11-06 10:51:14,144 - decision_learning.modeling.train - INFO - epoch: 93, train_loss: 22.78817956712511, val_metric: 0.652733665243272\n",
      "100%|██████████| 45/45 [00:00<00:00, 365.53it/s]\n",
      "100%|██████████| 12/12 [00:00<00:00, 3472.59it/s]\n",
      "2024-11-06 10:51:14,275 - decision_learning.modeling.train - INFO - epoch: 94, train_loss: 22.78817918565538, val_metric: 0.6596338197704217\n",
      "2024-11-06 10:51:14,275 - decision_learning.modeling.train - INFO - epoch: 94, train_loss: 22.78817918565538, val_metric: 0.6596338197704217\n",
      "100%|██████████| 45/45 [00:00<00:00, 367.61it/s]\n",
      "100%|██████████| 12/12 [00:00<00:00, 3456.37it/s]\n",
      "2024-11-06 10:51:14,404 - decision_learning.modeling.train - INFO - epoch: 95, train_loss: 22.788179228040907, val_metric: 0.6534909949500032\n",
      "2024-11-06 10:51:14,404 - decision_learning.modeling.train - INFO - epoch: 95, train_loss: 22.788179228040907, val_metric: 0.6534909949500032\n",
      "100%|██████████| 45/45 [00:00<00:00, 366.97it/s]\n",
      "100%|██████████| 12/12 [00:00<00:00, 3461.60it/s]\n",
      "2024-11-06 10:51:14,534 - decision_learning.modeling.train - INFO - epoch: 96, train_loss: 22.78817918565538, val_metric: 0.6366046002857826\n",
      "2024-11-06 10:51:14,534 - decision_learning.modeling.train - INFO - epoch: 96, train_loss: 22.78817918565538, val_metric: 0.6366046002857826\n",
      "100%|██████████| 45/45 [00:00<00:00, 365.99it/s]\n",
      "100%|██████████| 12/12 [00:00<00:00, 3464.22it/s]\n",
      "2024-11-06 10:51:14,664 - decision_learning.modeling.train - INFO - epoch: 97, train_loss: 22.788179651896158, val_metric: 0.6558831573224158\n",
      "2024-11-06 10:51:14,664 - decision_learning.modeling.train - INFO - epoch: 97, train_loss: 22.788179651896158, val_metric: 0.6558831573224158\n",
      "100%|██████████| 45/45 [00:00<00:00, 365.99it/s]\n",
      "100%|██████████| 12/12 [00:00<00:00, 3446.66it/s]\n",
      "2024-11-06 10:51:14,795 - decision_learning.modeling.train - INFO - epoch: 98, train_loss: 22.788179397583008, val_metric: 0.6462087290148061\n",
      "2024-11-06 10:51:14,795 - decision_learning.modeling.train - INFO - epoch: 98, train_loss: 22.788179397583008, val_metric: 0.6462087290148061\n",
      "100%|██████████| 45/45 [00:00<00:00, 364.77it/s]\n",
      "100%|██████████| 12/12 [00:00<00:00, 3458.51it/s]\n",
      "2024-11-06 10:51:14,925 - decision_learning.modeling.train - INFO - epoch: 99, train_loss: 22.788179270426433, val_metric: 0.6421700765123466\n",
      "2024-11-06 10:51:14,925 - decision_learning.modeling.train - INFO - epoch: 99, train_loss: 22.788179270426433, val_metric: 0.6421700765123466\n"
     ]
    },
    {
     "name": "stdout",
     "output_type": "stream",
     "text": [
      "0.3976353643835253 C\n"
     ]
    },
    {
     "name": "stderr",
     "output_type": "stream",
     "text": [
      "100%|██████████| 45/45 [00:00<00:00, 362.97it/s]\n",
      "100%|██████████| 12/12 [00:00<00:00, 3476.42it/s]\n",
      "2024-11-06 10:51:15,064 - decision_learning.modeling.train - INFO - epoch: 0, train_loss: 22.92938838534885, val_metric: 0.694055929864017\n",
      "2024-11-06 10:51:15,064 - decision_learning.modeling.train - INFO - epoch: 0, train_loss: 22.92938838534885, val_metric: 0.694055929864017\n",
      "100%|██████████| 45/45 [00:00<00:00, 364.49it/s]\n",
      "100%|██████████| 12/12 [00:00<00:00, 3464.46it/s]\n",
      "2024-11-06 10:51:15,194 - decision_learning.modeling.train - INFO - epoch: 1, train_loss: 23.450037892659505, val_metric: 0.6963111930570773\n",
      "2024-11-06 10:51:15,194 - decision_learning.modeling.train - INFO - epoch: 1, train_loss: 23.450037892659505, val_metric: 0.6963111930570773\n",
      "100%|██████████| 45/45 [00:00<00:00, 364.17it/s]\n",
      "100%|██████████| 12/12 [00:00<00:00, 3437.95it/s]\n",
      "2024-11-06 10:51:15,325 - decision_learning.modeling.train - INFO - epoch: 2, train_loss: 23.534807374742297, val_metric: 0.6735117269896924\n",
      "2024-11-06 10:51:15,325 - decision_learning.modeling.train - INFO - epoch: 2, train_loss: 23.534807374742297, val_metric: 0.6735117269896924\n",
      "100%|██████████| 45/45 [00:00<00:00, 365.63it/s]\n",
      "100%|██████████| 12/12 [00:00<00:00, 3457.56it/s]\n",
      "2024-11-06 10:51:15,456 - decision_learning.modeling.train - INFO - epoch: 3, train_loss: 23.517985153198243, val_metric: 0.6840731869662556\n",
      "2024-11-06 10:51:15,456 - decision_learning.modeling.train - INFO - epoch: 3, train_loss: 23.517985153198243, val_metric: 0.6840731869662556\n",
      "100%|██████████| 45/45 [00:00<00:00, 367.46it/s]\n",
      "100%|██████████| 12/12 [00:00<00:00, 3493.07it/s]\n",
      "2024-11-06 10:51:15,585 - decision_learning.modeling.train - INFO - epoch: 4, train_loss: 23.489609061347114, val_metric: 0.688737591882\n",
      "2024-11-06 10:51:15,585 - decision_learning.modeling.train - INFO - epoch: 4, train_loss: 23.489609061347114, val_metric: 0.688737591882\n",
      "100%|██████████| 45/45 [00:00<00:00, 369.39it/s]\n",
      "100%|██████████| 12/12 [00:00<00:00, 3540.24it/s]\n",
      "2024-11-06 10:51:15,714 - decision_learning.modeling.train - INFO - epoch: 5, train_loss: 23.50263498094347, val_metric: 0.6896771835098531\n",
      "2024-11-06 10:51:15,714 - decision_learning.modeling.train - INFO - epoch: 5, train_loss: 23.50263498094347, val_metric: 0.6896771835098531\n",
      "100%|██████████| 45/45 [00:00<00:00, 369.58it/s]\n",
      "100%|██████████| 12/12 [00:00<00:00, 3570.63it/s]\n",
      "2024-11-06 10:51:15,843 - decision_learning.modeling.train - INFO - epoch: 6, train_loss: 23.502228673299154, val_metric: 0.6973197157785695\n",
      "2024-11-06 10:51:15,843 - decision_learning.modeling.train - INFO - epoch: 6, train_loss: 23.502228673299154, val_metric: 0.6973197157785695\n",
      "100%|██████████| 45/45 [00:00<00:00, 368.89it/s]\n",
      "100%|██████████| 12/12 [00:00<00:00, 3588.20it/s]\n",
      "2024-11-06 10:51:15,971 - decision_learning.modeling.train - INFO - epoch: 7, train_loss: 23.540173043145074, val_metric: 0.681480921683779\n",
      "2024-11-06 10:51:15,971 - decision_learning.modeling.train - INFO - epoch: 7, train_loss: 23.540173043145074, val_metric: 0.681480921683779\n",
      "100%|██████████| 45/45 [00:00<00:00, 369.69it/s]\n",
      "100%|██████████| 12/12 [00:00<00:00, 3565.57it/s]\n",
      "2024-11-06 10:51:16,100 - decision_learning.modeling.train - INFO - epoch: 8, train_loss: 23.522206030951605, val_metric: 0.6796938830811874\n",
      "2024-11-06 10:51:16,100 - decision_learning.modeling.train - INFO - epoch: 8, train_loss: 23.522206030951605, val_metric: 0.6796938830811874\n",
      "100%|██████████| 45/45 [00:00<00:00, 369.98it/s]\n",
      "100%|██████████| 12/12 [00:00<00:00, 3564.82it/s]\n",
      "2024-11-06 10:51:16,228 - decision_learning.modeling.train - INFO - epoch: 9, train_loss: 23.54315325419108, val_metric: 0.6911547924604844\n",
      "2024-11-06 10:51:16,228 - decision_learning.modeling.train - INFO - epoch: 9, train_loss: 23.54315325419108, val_metric: 0.6911547924604844\n",
      "100%|██████████| 45/45 [00:00<00:00, 369.55it/s]\n",
      "100%|██████████| 12/12 [00:00<00:00, 3568.86it/s]\n",
      "2024-11-06 10:51:16,357 - decision_learning.modeling.train - INFO - epoch: 10, train_loss: 23.54450730217828, val_metric: 0.6677145206453949\n",
      "2024-11-06 10:51:16,357 - decision_learning.modeling.train - INFO - epoch: 10, train_loss: 23.54450730217828, val_metric: 0.6677145206453949\n",
      "100%|██████████| 45/45 [00:00<00:00, 369.18it/s]\n",
      "100%|██████████| 12/12 [00:00<00:00, 3574.94it/s]\n",
      "2024-11-06 10:51:16,486 - decision_learning.modeling.train - INFO - epoch: 11, train_loss: 23.56749153137207, val_metric: 0.6700211273662909\n",
      "2024-11-06 10:51:16,486 - decision_learning.modeling.train - INFO - epoch: 11, train_loss: 23.56749153137207, val_metric: 0.6700211273662909\n",
      "100%|██████████| 45/45 [00:00<00:00, 369.52it/s]\n",
      "100%|██████████| 12/12 [00:00<00:00, 3564.82it/s]\n",
      "2024-11-06 10:51:16,614 - decision_learning.modeling.train - INFO - epoch: 12, train_loss: 23.58181601630317, val_metric: 0.6827329840412533\n",
      "2024-11-06 10:51:16,614 - decision_learning.modeling.train - INFO - epoch: 12, train_loss: 23.58181601630317, val_metric: 0.6827329840412533\n",
      "100%|██████████| 45/45 [00:00<00:00, 368.49it/s]\n",
      "100%|██████████| 12/12 [00:00<00:00, 3574.69it/s]\n",
      "2024-11-06 10:51:16,743 - decision_learning.modeling.train - INFO - epoch: 13, train_loss: 23.605245039198135, val_metric: 0.6827634961871141\n",
      "2024-11-06 10:51:16,743 - decision_learning.modeling.train - INFO - epoch: 13, train_loss: 23.605245039198135, val_metric: 0.6827634961871141\n",
      "100%|██████████| 45/45 [00:00<00:00, 368.74it/s]\n",
      "100%|██████████| 12/12 [00:00<00:00, 3570.89it/s]\n",
      "2024-11-06 10:51:16,872 - decision_learning.modeling.train - INFO - epoch: 14, train_loss: 23.591726218329537, val_metric: 0.6898091662803207\n",
      "2024-11-06 10:51:16,872 - decision_learning.modeling.train - INFO - epoch: 14, train_loss: 23.591726218329537, val_metric: 0.6898091662803207\n",
      "100%|██████████| 45/45 [00:00<00:00, 371.85it/s]\n",
      "100%|██████████| 12/12 [00:00<00:00, 3589.22it/s]\n",
      "2024-11-06 10:51:17,000 - decision_learning.modeling.train - INFO - epoch: 15, train_loss: 23.601001315646702, val_metric: 0.6878532971829411\n",
      "2024-11-06 10:51:17,000 - decision_learning.modeling.train - INFO - epoch: 15, train_loss: 23.601001315646702, val_metric: 0.6878532971829411\n",
      "100%|██████████| 45/45 [00:00<00:00, 370.35it/s]\n",
      "100%|██████████| 12/12 [00:00<00:00, 3580.79it/s]\n",
      "2024-11-06 10:51:17,128 - decision_learning.modeling.train - INFO - epoch: 16, train_loss: 23.60267588297526, val_metric: 0.6964496127752599\n",
      "2024-11-06 10:51:17,128 - decision_learning.modeling.train - INFO - epoch: 16, train_loss: 23.60267588297526, val_metric: 0.6964496127752599\n",
      "100%|██████████| 45/45 [00:00<00:00, 370.55it/s]\n",
      "100%|██████████| 12/12 [00:00<00:00, 3577.74it/s]\n",
      "2024-11-06 10:51:17,257 - decision_learning.modeling.train - INFO - epoch: 17, train_loss: 23.589822260538735, val_metric: 0.6883776803408744\n",
      "2024-11-06 10:51:17,257 - decision_learning.modeling.train - INFO - epoch: 17, train_loss: 23.589822260538735, val_metric: 0.6883776803408744\n",
      "100%|██████████| 45/45 [00:00<00:00, 372.13it/s]\n",
      "100%|██████████| 12/12 [00:00<00:00, 3597.94it/s]\n",
      "2024-11-06 10:51:17,384 - decision_learning.modeling.train - INFO - epoch: 18, train_loss: 23.603723992241754, val_metric: 0.6866748795894798\n",
      "2024-11-06 10:51:17,384 - decision_learning.modeling.train - INFO - epoch: 18, train_loss: 23.603723992241754, val_metric: 0.6866748795894798\n",
      "100%|██████████| 45/45 [00:00<00:00, 370.32it/s]\n",
      "100%|██████████| 12/12 [00:00<00:00, 3598.97it/s]\n",
      "2024-11-06 10:51:17,513 - decision_learning.modeling.train - INFO - epoch: 19, train_loss: 23.612261539035373, val_metric: 0.6873470591217157\n",
      "2024-11-06 10:51:17,513 - decision_learning.modeling.train - INFO - epoch: 19, train_loss: 23.612261539035373, val_metric: 0.6873470591217157\n",
      "100%|██████████| 45/45 [00:00<00:00, 369.16it/s]\n",
      "100%|██████████| 12/12 [00:00<00:00, 3591.78it/s]\n",
      "2024-11-06 10:51:17,641 - decision_learning.modeling.train - INFO - epoch: 20, train_loss: 23.61983176337348, val_metric: 0.6691658749588902\n",
      "2024-11-06 10:51:17,641 - decision_learning.modeling.train - INFO - epoch: 20, train_loss: 23.61983176337348, val_metric: 0.6691658749588902\n",
      "100%|██████████| 45/45 [00:00<00:00, 370.16it/s]\n",
      "100%|██████████| 12/12 [00:00<00:00, 3585.13it/s]\n",
      "2024-11-06 10:51:17,770 - decision_learning.modeling.train - INFO - epoch: 21, train_loss: 23.621416515774197, val_metric: 0.6977977225021795\n",
      "2024-11-06 10:51:17,770 - decision_learning.modeling.train - INFO - epoch: 21, train_loss: 23.621416515774197, val_metric: 0.6977977225021795\n",
      "100%|██████████| 45/45 [00:00<00:00, 367.62it/s]\n",
      "100%|██████████| 12/12 [00:00<00:00, 3515.27it/s]\n",
      "2024-11-06 10:51:17,899 - decision_learning.modeling.train - INFO - epoch: 22, train_loss: 23.621903525458443, val_metric: 0.6815370802512438\n",
      "2024-11-06 10:51:17,899 - decision_learning.modeling.train - INFO - epoch: 22, train_loss: 23.621903525458443, val_metric: 0.6815370802512438\n",
      "100%|██████████| 45/45 [00:00<00:00, 367.81it/s]\n",
      "100%|██████████| 12/12 [00:00<00:00, 3517.73it/s]\n",
      "2024-11-06 10:51:18,029 - decision_learning.modeling.train - INFO - epoch: 23, train_loss: 23.622509808010527, val_metric: 0.6849038066446058\n",
      "2024-11-06 10:51:18,029 - decision_learning.modeling.train - INFO - epoch: 23, train_loss: 23.622509808010527, val_metric: 0.6849038066446058\n",
      "100%|██████████| 45/45 [00:00<00:00, 367.25it/s]\n",
      "100%|██████████| 12/12 [00:00<00:00, 3509.39it/s]\n",
      "2024-11-06 10:51:18,158 - decision_learning.modeling.train - INFO - epoch: 24, train_loss: 23.623010465833875, val_metric: 0.691298990226222\n",
      "2024-11-06 10:51:18,158 - decision_learning.modeling.train - INFO - epoch: 24, train_loss: 23.623010465833875, val_metric: 0.691298990226222\n",
      "100%|██████████| 45/45 [00:00<00:00, 367.27it/s]\n",
      "100%|██████████| 12/12 [00:00<00:00, 3453.05it/s]\n",
      "2024-11-06 10:51:18,288 - decision_learning.modeling.train - INFO - epoch: 25, train_loss: 23.623296059502497, val_metric: 0.6915723324232773\n",
      "2024-11-06 10:51:18,288 - decision_learning.modeling.train - INFO - epoch: 25, train_loss: 23.623296059502497, val_metric: 0.6915723324232773\n",
      "100%|██████████| 45/45 [00:00<00:00, 367.45it/s]\n",
      "100%|██████████| 12/12 [00:00<00:00, 3498.65it/s]\n",
      "2024-11-06 10:51:18,417 - decision_learning.modeling.train - INFO - epoch: 26, train_loss: 23.62338947719998, val_metric: 0.6812824913664285\n",
      "2024-11-06 10:51:18,417 - decision_learning.modeling.train - INFO - epoch: 26, train_loss: 23.62338947719998, val_metric: 0.6812824913664285\n",
      "100%|██████████| 45/45 [00:00<00:00, 362.28it/s]\n",
      "100%|██████████| 12/12 [00:00<00:00, 3490.65it/s]\n",
      "2024-11-06 10:51:18,549 - decision_learning.modeling.train - INFO - epoch: 27, train_loss: 23.62373118930393, val_metric: 0.6719188105110988\n",
      "2024-11-06 10:51:18,549 - decision_learning.modeling.train - INFO - epoch: 27, train_loss: 23.62373118930393, val_metric: 0.6719188105110988\n",
      "100%|██████████| 45/45 [00:00<00:00, 367.51it/s]\n",
      "100%|██████████| 12/12 [00:00<00:00, 3506.45it/s]\n",
      "2024-11-06 10:51:18,678 - decision_learning.modeling.train - INFO - epoch: 28, train_loss: 23.624133639865452, val_metric: 0.6831530582354299\n",
      "2024-11-06 10:51:18,678 - decision_learning.modeling.train - INFO - epoch: 28, train_loss: 23.624133639865452, val_metric: 0.6831530582354299\n",
      "100%|██████████| 45/45 [00:00<00:00, 367.57it/s]\n",
      "100%|██████████| 12/12 [00:00<00:00, 3504.01it/s]\n",
      "2024-11-06 10:51:18,808 - decision_learning.modeling.train - INFO - epoch: 29, train_loss: 23.624421734280055, val_metric: 0.6699809851411717\n",
      "2024-11-06 10:51:18,808 - decision_learning.modeling.train - INFO - epoch: 29, train_loss: 23.624421734280055, val_metric: 0.6699809851411717\n",
      "100%|██████████| 45/45 [00:00<00:00, 367.23it/s]\n",
      "100%|██████████| 12/12 [00:00<00:00, 3491.13it/s]\n",
      "2024-11-06 10:51:18,937 - decision_learning.modeling.train - INFO - epoch: 30, train_loss: 23.62540414598253, val_metric: 0.6799021969009347\n",
      "2024-11-06 10:51:18,937 - decision_learning.modeling.train - INFO - epoch: 30, train_loss: 23.62540414598253, val_metric: 0.6799021969009347\n",
      "100%|██████████| 45/45 [00:00<00:00, 366.92it/s]\n",
      "100%|██████████| 12/12 [00:00<00:00, 3520.19it/s]\n",
      "2024-11-06 10:51:19,067 - decision_learning.modeling.train - INFO - epoch: 31, train_loss: 23.6254576365153, val_metric: 0.6774894565696857\n",
      "2024-11-06 10:51:19,067 - decision_learning.modeling.train - INFO - epoch: 31, train_loss: 23.6254576365153, val_metric: 0.6774894565696857\n",
      "100%|██████████| 45/45 [00:00<00:00, 365.57it/s]\n",
      "100%|██████████| 12/12 [00:00<00:00, 3456.61it/s]\n",
      "2024-11-06 10:51:19,198 - decision_learning.modeling.train - INFO - epoch: 32, train_loss: 23.625490951538087, val_metric: 0.6752099661245963\n",
      "2024-11-06 10:51:19,198 - decision_learning.modeling.train - INFO - epoch: 32, train_loss: 23.625490951538087, val_metric: 0.6752099661245963\n",
      "100%|██████████| 45/45 [00:00<00:00, 366.43it/s]\n",
      "100%|██████████| 12/12 [00:00<00:00, 3145.53it/s]\n",
      "2024-11-06 10:51:19,328 - decision_learning.modeling.train - INFO - epoch: 33, train_loss: 23.62552655537923, val_metric: 0.6844906255597931\n",
      "2024-11-06 10:51:19,328 - decision_learning.modeling.train - INFO - epoch: 33, train_loss: 23.62552655537923, val_metric: 0.6844906255597931\n",
      "100%|██████████| 45/45 [00:00<00:00, 367.68it/s]\n",
      "100%|██████████| 12/12 [00:00<00:00, 3484.85it/s]\n",
      "2024-11-06 10:51:19,457 - decision_learning.modeling.train - INFO - epoch: 34, train_loss: 23.625509050157333, val_metric: 0.6965109918593752\n",
      "2024-11-06 10:51:19,457 - decision_learning.modeling.train - INFO - epoch: 34, train_loss: 23.625509050157333, val_metric: 0.6965109918593752\n",
      "100%|██████████| 45/45 [00:00<00:00, 367.40it/s]\n",
      "100%|██████████| 12/12 [00:00<00:00, 3503.77it/s]\n",
      "2024-11-06 10:51:19,587 - decision_learning.modeling.train - INFO - epoch: 35, train_loss: 23.625537236531574, val_metric: 0.6865381831486382\n",
      "2024-11-06 10:51:19,587 - decision_learning.modeling.train - INFO - epoch: 35, train_loss: 23.625537236531574, val_metric: 0.6865381831486382\n",
      "100%|██████████| 45/45 [00:00<00:00, 367.68it/s]\n",
      "100%|██████████| 12/12 [00:00<00:00, 3486.78it/s]\n",
      "2024-11-06 10:51:19,717 - decision_learning.modeling.train - INFO - epoch: 36, train_loss: 23.625573603312173, val_metric: 0.6830951257059965\n",
      "2024-11-06 10:51:19,717 - decision_learning.modeling.train - INFO - epoch: 36, train_loss: 23.625573603312173, val_metric: 0.6830951257059965\n",
      "100%|██████████| 45/45 [00:00<00:00, 367.69it/s]\n",
      "100%|██████████| 12/12 [00:00<00:00, 3488.95it/s]\n",
      "2024-11-06 10:51:19,846 - decision_learning.modeling.train - INFO - epoch: 37, train_loss: 23.625583691067167, val_metric: 0.6824271529978577\n",
      "2024-11-06 10:51:19,846 - decision_learning.modeling.train - INFO - epoch: 37, train_loss: 23.625583691067167, val_metric: 0.6824271529978577\n",
      "100%|██████████| 45/45 [00:00<00:00, 365.89it/s]\n",
      "100%|██████████| 12/12 [00:00<00:00, 3479.79it/s]\n",
      "2024-11-06 10:51:19,976 - decision_learning.modeling.train - INFO - epoch: 38, train_loss: 23.6256037818061, val_metric: 0.6878183754744724\n",
      "2024-11-06 10:51:19,976 - decision_learning.modeling.train - INFO - epoch: 38, train_loss: 23.6256037818061, val_metric: 0.6878183754744724\n",
      "100%|██████████| 45/45 [00:00<00:00, 366.86it/s]\n",
      "100%|██████████| 12/12 [00:00<00:00, 3495.50it/s]\n",
      "2024-11-06 10:51:20,106 - decision_learning.modeling.train - INFO - epoch: 39, train_loss: 23.625618574354384, val_metric: 0.6858255065988895\n",
      "2024-11-06 10:51:20,106 - decision_learning.modeling.train - INFO - epoch: 39, train_loss: 23.625618574354384, val_metric: 0.6858255065988895\n",
      "100%|██████████| 45/45 [00:00<00:00, 367.69it/s]\n",
      "100%|██████████| 12/12 [00:00<00:00, 3495.74it/s]\n",
      "2024-11-06 10:51:20,235 - decision_learning.modeling.train - INFO - epoch: 40, train_loss: 23.62570020887587, val_metric: 0.6899508298146745\n",
      "2024-11-06 10:51:20,235 - decision_learning.modeling.train - INFO - epoch: 40, train_loss: 23.62570020887587, val_metric: 0.6899508298146745\n",
      "100%|██████████| 45/45 [00:00<00:00, 366.75it/s]\n",
      "100%|██████████| 12/12 [00:00<00:00, 3472.59it/s]\n",
      "2024-11-06 10:51:20,365 - decision_learning.modeling.train - INFO - epoch: 41, train_loss: 23.625703387790256, val_metric: 0.693461449866008\n",
      "2024-11-06 10:51:20,365 - decision_learning.modeling.train - INFO - epoch: 41, train_loss: 23.625703387790256, val_metric: 0.693461449866008\n",
      "100%|██████████| 45/45 [00:00<00:00, 367.07it/s]\n",
      "100%|██████████| 12/12 [00:00<00:00, 3483.64it/s]\n",
      "2024-11-06 10:51:20,495 - decision_learning.modeling.train - INFO - epoch: 42, train_loss: 23.625702709621855, val_metric: 0.6818035293389353\n",
      "2024-11-06 10:51:20,495 - decision_learning.modeling.train - INFO - epoch: 42, train_loss: 23.625702709621855, val_metric: 0.6818035293389353\n",
      "100%|██████████| 45/45 [00:00<00:00, 367.46it/s]\n",
      "100%|██████████| 12/12 [00:00<00:00, 3514.78it/s]\n",
      "2024-11-06 10:51:20,625 - decision_learning.modeling.train - INFO - epoch: 43, train_loss: 23.610945002237955, val_metric: 0.6882704316687125\n",
      "2024-11-06 10:51:20,625 - decision_learning.modeling.train - INFO - epoch: 43, train_loss: 23.610945002237955, val_metric: 0.6882704316687125\n",
      "100%|██████████| 45/45 [00:00<00:00, 367.98it/s]\n",
      "100%|██████████| 12/12 [00:00<00:00, 3488.47it/s]\n",
      "2024-11-06 10:51:20,754 - decision_learning.modeling.train - INFO - epoch: 44, train_loss: 23.6257140689426, val_metric: 0.672222816907898\n",
      "2024-11-06 10:51:20,754 - decision_learning.modeling.train - INFO - epoch: 44, train_loss: 23.6257140689426, val_metric: 0.672222816907898\n",
      "100%|██████████| 45/45 [00:00<00:00, 367.08it/s]\n",
      "100%|██████████| 12/12 [00:00<00:00, 3517.73it/s]\n",
      "2024-11-06 10:51:20,884 - decision_learning.modeling.train - INFO - epoch: 45, train_loss: 23.625711907280817, val_metric: 0.6702791628057881\n",
      "2024-11-06 10:51:20,884 - decision_learning.modeling.train - INFO - epoch: 45, train_loss: 23.625711907280817, val_metric: 0.6702791628057881\n",
      "100%|██████████| 45/45 [00:00<00:00, 367.86it/s]\n",
      "100%|██████████| 12/12 [00:00<00:00, 3514.78it/s]\n",
      "2024-11-06 10:51:21,013 - decision_learning.modeling.train - INFO - epoch: 46, train_loss: 23.610948901706273, val_metric: 0.6930478633041739\n",
      "2024-11-06 10:51:21,013 - decision_learning.modeling.train - INFO - epoch: 46, train_loss: 23.610948901706273, val_metric: 0.6930478633041739\n",
      "100%|██████████| 45/45 [00:00<00:00, 367.00it/s]\n",
      "100%|██████████| 12/12 [00:00<00:00, 3508.17it/s]\n",
      "2024-11-06 10:51:21,143 - decision_learning.modeling.train - INFO - epoch: 47, train_loss: 23.625716569688585, val_metric: 0.6936525815969733\n",
      "2024-11-06 10:51:21,143 - decision_learning.modeling.train - INFO - epoch: 47, train_loss: 23.625716569688585, val_metric: 0.6936525815969733\n",
      "100%|██████████| 45/45 [00:00<00:00, 367.16it/s]\n",
      "100%|██████████| 12/12 [00:00<00:00, 3477.86it/s]\n",
      "2024-11-06 10:51:21,272 - decision_learning.modeling.train - INFO - epoch: 48, train_loss: 23.625716315375435, val_metric: 0.6782914394333992\n",
      "2024-11-06 10:51:21,272 - decision_learning.modeling.train - INFO - epoch: 48, train_loss: 23.625716315375435, val_metric: 0.6782914394333992\n",
      "100%|██████████| 45/45 [00:00<00:00, 368.13it/s]\n",
      "100%|██████████| 12/12 [00:00<00:00, 3500.36it/s]\n",
      "2024-11-06 10:51:21,402 - decision_learning.modeling.train - INFO - epoch: 49, train_loss: 23.61085383097331, val_metric: 0.6819448380808953\n",
      "2024-11-06 10:51:21,402 - decision_learning.modeling.train - INFO - epoch: 49, train_loss: 23.61085383097331, val_metric: 0.6819448380808953\n",
      "100%|██████████| 45/45 [00:00<00:00, 366.94it/s]\n",
      "100%|██████████| 12/12 [00:00<00:00, 3500.36it/s]\n",
      "2024-11-06 10:51:21,532 - decision_learning.modeling.train - INFO - epoch: 50, train_loss: 23.61096390618218, val_metric: 0.6821128069370127\n",
      "2024-11-06 10:51:21,532 - decision_learning.modeling.train - INFO - epoch: 50, train_loss: 23.61096390618218, val_metric: 0.6821128069370127\n",
      "100%|██████████| 45/45 [00:00<00:00, 368.68it/s]\n",
      "100%|██████████| 12/12 [00:00<00:00, 3509.39it/s]\n",
      "2024-11-06 10:51:21,661 - decision_learning.modeling.train - INFO - epoch: 51, train_loss: 23.610963990953234, val_metric: 0.704544860138376\n",
      "2024-11-06 10:51:21,661 - decision_learning.modeling.train - INFO - epoch: 51, train_loss: 23.610963990953234, val_metric: 0.704544860138376\n",
      "100%|██████████| 45/45 [00:00<00:00, 367.47it/s]\n",
      "100%|██████████| 12/12 [00:00<00:00, 3502.31it/s]\n",
      "2024-11-06 10:51:21,790 - decision_learning.modeling.train - INFO - epoch: 52, train_loss: 23.610964202880858, val_metric: 0.6858567790141654\n",
      "2024-11-06 10:51:21,790 - decision_learning.modeling.train - INFO - epoch: 52, train_loss: 23.610964202880858, val_metric: 0.6858567790141654\n",
      "100%|██████████| 45/45 [00:00<00:00, 365.18it/s]\n",
      "100%|██████████| 12/12 [00:00<00:00, 3481.95it/s]\n",
      "2024-11-06 10:51:21,921 - decision_learning.modeling.train - INFO - epoch: 53, train_loss: 23.61096445719401, val_metric: 0.6815481295000771\n",
      "2024-11-06 10:51:21,921 - decision_learning.modeling.train - INFO - epoch: 53, train_loss: 23.61096445719401, val_metric: 0.6815481295000771\n",
      "100%|██████████| 45/45 [00:00<00:00, 366.61it/s]\n",
      "100%|██████████| 12/12 [00:00<00:00, 3487.74it/s]\n",
      "2024-11-06 10:51:22,050 - decision_learning.modeling.train - INFO - epoch: 54, train_loss: 23.58593758477105, val_metric: 0.6964014116943402\n",
      "2024-11-06 10:51:22,050 - decision_learning.modeling.train - INFO - epoch: 54, train_loss: 23.58593758477105, val_metric: 0.6964014116943402\n",
      "100%|██████████| 45/45 [00:00<00:00, 364.89it/s]\n",
      "100%|██████████| 12/12 [00:00<00:00, 3474.26it/s]\n",
      "2024-11-06 10:51:22,181 - decision_learning.modeling.train - INFO - epoch: 55, train_loss: 23.585937796698676, val_metric: 0.6858953500158267\n",
      "2024-11-06 10:51:22,181 - decision_learning.modeling.train - INFO - epoch: 55, train_loss: 23.585937796698676, val_metric: 0.6858953500158267\n",
      "100%|██████████| 45/45 [00:00<00:00, 365.22it/s]\n",
      "100%|██████████| 12/12 [00:00<00:00, 3458.74it/s]\n",
      "2024-11-06 10:51:22,311 - decision_learning.modeling.train - INFO - epoch: 56, train_loss: 23.610965220133462, val_metric: 0.6892348587641268\n",
      "2024-11-06 10:51:22,311 - decision_learning.modeling.train - INFO - epoch: 56, train_loss: 23.610965220133462, val_metric: 0.6892348587641268\n",
      "100%|██████████| 45/45 [00:00<00:00, 365.88it/s]\n",
      "100%|██████████| 12/12 [00:00<00:00, 3473.06it/s]\n",
      "2024-11-06 10:51:22,442 - decision_learning.modeling.train - INFO - epoch: 57, train_loss: 23.610965728759766, val_metric: 0.6757875174569615\n",
      "2024-11-06 10:51:22,442 - decision_learning.modeling.train - INFO - epoch: 57, train_loss: 23.610965728759766, val_metric: 0.6757875174569615\n",
      "100%|██████████| 45/45 [00:00<00:00, 365.59it/s]\n",
      "100%|██████████| 12/12 [00:00<00:00, 3475.70it/s]\n",
      "2024-11-06 10:51:22,572 - decision_learning.modeling.train - INFO - epoch: 58, train_loss: 23.61096568637424, val_metric: 0.6726840470197474\n",
      "2024-11-06 10:51:22,572 - decision_learning.modeling.train - INFO - epoch: 58, train_loss: 23.61096568637424, val_metric: 0.6726840470197474\n",
      "100%|██████████| 45/45 [00:00<00:00, 364.48it/s]\n",
      "100%|██████████| 12/12 [00:00<00:00, 3489.92it/s]\n",
      "2024-11-06 10:51:22,703 - decision_learning.modeling.train - INFO - epoch: 59, train_loss: 23.585938347710503, val_metric: 0.6696263954859522\n",
      "2024-11-06 10:51:22,703 - decision_learning.modeling.train - INFO - epoch: 59, train_loss: 23.585938347710503, val_metric: 0.6696263954859522\n",
      "100%|██████████| 45/45 [00:00<00:00, 366.34it/s]\n",
      "100%|██████████| 12/12 [00:00<00:00, 3480.51it/s]\n",
      "2024-11-06 10:51:22,833 - decision_learning.modeling.train - INFO - epoch: 60, train_loss: 23.58593944973416, val_metric: 0.6872389488108832\n",
      "2024-11-06 10:51:22,833 - decision_learning.modeling.train - INFO - epoch: 60, train_loss: 23.58593944973416, val_metric: 0.6872389488108832\n",
      "100%|██████████| 45/45 [00:00<00:00, 367.25it/s]\n",
      "100%|██████████| 12/12 [00:00<00:00, 3484.36it/s]\n",
      "2024-11-06 10:51:22,962 - decision_learning.modeling.train - INFO - epoch: 61, train_loss: 23.585939322577584, val_metric: 0.6854870853398984\n",
      "2024-11-06 10:51:22,962 - decision_learning.modeling.train - INFO - epoch: 61, train_loss: 23.585939322577584, val_metric: 0.6854870853398984\n",
      "100%|██████████| 45/45 [00:00<00:00, 366.47it/s]\n",
      "100%|██████████| 12/12 [00:00<00:00, 3497.20it/s]\n",
      "2024-11-06 10:51:23,092 - decision_learning.modeling.train - INFO - epoch: 62, train_loss: 23.585939788818358, val_metric: 0.6758011009371786\n",
      "2024-11-06 10:51:23,092 - decision_learning.modeling.train - INFO - epoch: 62, train_loss: 23.585939788818358, val_metric: 0.6758011009371786\n",
      "100%|██████████| 45/45 [00:00<00:00, 366.09it/s]\n",
      "100%|██████████| 12/12 [00:00<00:00, 3478.59it/s]\n",
      "2024-11-06 10:51:23,222 - decision_learning.modeling.train - INFO - epoch: 63, train_loss: 23.58593944973416, val_metric: 0.6919435973210022\n",
      "2024-11-06 10:51:23,222 - decision_learning.modeling.train - INFO - epoch: 63, train_loss: 23.58593944973416, val_metric: 0.6919435973210022\n",
      "100%|██████████| 45/45 [00:00<00:00, 365.80it/s]\n",
      "100%|██████████| 12/12 [00:00<00:00, 3493.31it/s]\n",
      "2024-11-06 10:51:23,353 - decision_learning.modeling.train - INFO - epoch: 64, train_loss: 23.585939661661783, val_metric: 0.6834076471202453\n",
      "2024-11-06 10:51:23,353 - decision_learning.modeling.train - INFO - epoch: 64, train_loss: 23.585939661661783, val_metric: 0.6834076471202453\n",
      "100%|██████████| 45/45 [00:00<00:00, 365.99it/s]\n",
      "100%|██████████| 12/12 [00:00<00:00, 3474.02it/s]\n",
      "2024-11-06 10:51:23,483 - decision_learning.modeling.train - INFO - epoch: 65, train_loss: 23.585939322577584, val_metric: 0.6694565512986107\n",
      "2024-11-06 10:51:23,483 - decision_learning.modeling.train - INFO - epoch: 65, train_loss: 23.585939322577584, val_metric: 0.6694565512986107\n",
      "100%|██████████| 45/45 [00:00<00:00, 364.07it/s]\n",
      "100%|██████████| 12/12 [00:00<00:00, 3488.23it/s]\n",
      "2024-11-06 10:51:23,613 - decision_learning.modeling.train - INFO - epoch: 66, train_loss: 23.585939831203884, val_metric: 0.6807288631783263\n",
      "2024-11-06 10:51:23,613 - decision_learning.modeling.train - INFO - epoch: 66, train_loss: 23.585939831203884, val_metric: 0.6807288631783263\n",
      "100%|██████████| 45/45 [00:00<00:00, 366.38it/s]\n",
      "100%|██████████| 12/12 [00:00<00:00, 3515.52it/s]\n",
      "2024-11-06 10:51:23,743 - decision_learning.modeling.train - INFO - epoch: 67, train_loss: 23.58593987358941, val_metric: 0.7085891893191353\n",
      "2024-11-06 10:51:23,743 - decision_learning.modeling.train - INFO - epoch: 67, train_loss: 23.58593987358941, val_metric: 0.7085891893191353\n",
      "100%|██████████| 45/45 [00:00<00:00, 367.61it/s]\n",
      "100%|██████████| 12/12 [00:00<00:00, 3307.16it/s]\n",
      "2024-11-06 10:51:23,873 - decision_learning.modeling.train - INFO - epoch: 68, train_loss: 23.585939788818358, val_metric: 0.6731454291854798\n",
      "2024-11-06 10:51:23,873 - decision_learning.modeling.train - INFO - epoch: 68, train_loss: 23.585939788818358, val_metric: 0.6731454291854798\n",
      "100%|██████████| 45/45 [00:00<00:00, 366.99it/s]\n",
      "100%|██████████| 12/12 [00:00<00:00, 3500.60it/s]\n",
      "2024-11-06 10:51:24,003 - decision_learning.modeling.train - INFO - epoch: 69, train_loss: 23.58593987358941, val_metric: 0.6915785159478537\n",
      "2024-11-06 10:51:24,003 - decision_learning.modeling.train - INFO - epoch: 69, train_loss: 23.58593987358941, val_metric: 0.6915785159478537\n",
      "100%|██████████| 45/45 [00:00<00:00, 367.11it/s]\n",
      "100%|██████████| 12/12 [00:00<00:00, 3408.39it/s]\n",
      "2024-11-06 10:51:24,133 - decision_learning.modeling.train - INFO - epoch: 70, train_loss: 23.58593961927626, val_metric: 0.694073416060565\n",
      "2024-11-06 10:51:24,133 - decision_learning.modeling.train - INFO - epoch: 70, train_loss: 23.58593961927626, val_metric: 0.694073416060565\n",
      "100%|██████████| 45/45 [00:00<00:00, 369.13it/s]\n",
      "100%|██████████| 12/12 [00:00<00:00, 3477.14it/s]\n",
      "2024-11-06 10:51:24,262 - decision_learning.modeling.train - INFO - epoch: 71, train_loss: 23.585939407348633, val_metric: 0.6888192955018133\n",
      "2024-11-06 10:51:24,262 - decision_learning.modeling.train - INFO - epoch: 71, train_loss: 23.585939407348633, val_metric: 0.6888192955018133\n",
      "100%|██████████| 45/45 [00:00<00:00, 366.73it/s]\n",
      "100%|██████████| 12/12 [00:00<00:00, 3496.22it/s]\n",
      "2024-11-06 10:51:24,392 - decision_learning.modeling.train - INFO - epoch: 72, train_loss: 23.58593970404731, val_metric: 0.691844052712247\n",
      "2024-11-06 10:51:24,392 - decision_learning.modeling.train - INFO - epoch: 72, train_loss: 23.58593970404731, val_metric: 0.691844052712247\n",
      "100%|██████████| 45/45 [00:00<00:00, 364.94it/s]\n",
      "100%|██████████| 12/12 [00:00<00:00, 3415.09it/s]\n",
      "2024-11-06 10:51:24,522 - decision_learning.modeling.train - INFO - epoch: 73, train_loss: 23.585939364963107, val_metric: 0.6879839114684615\n",
      "2024-11-06 10:51:24,522 - decision_learning.modeling.train - INFO - epoch: 73, train_loss: 23.585939364963107, val_metric: 0.6879839114684615\n",
      "100%|██████████| 45/45 [00:00<00:00, 366.88it/s]\n",
      "100%|██████████| 12/12 [00:00<00:00, 2995.75it/s]\n",
      "2024-11-06 10:51:24,653 - decision_learning.modeling.train - INFO - epoch: 74, train_loss: 23.58593961927626, val_metric: 0.6950898455839747\n",
      "2024-11-06 10:51:24,653 - decision_learning.modeling.train - INFO - epoch: 74, train_loss: 23.58593961927626, val_metric: 0.6950898455839747\n",
      "100%|██████████| 45/45 [00:00<00:00, 366.15it/s]\n",
      "100%|██████████| 12/12 [00:00<00:00, 3479.79it/s]\n",
      "2024-11-06 10:51:24,783 - decision_learning.modeling.train - INFO - epoch: 75, train_loss: 23.58593949211968, val_metric: 0.6994183634721118\n",
      "2024-11-06 10:51:24,783 - decision_learning.modeling.train - INFO - epoch: 75, train_loss: 23.58593949211968, val_metric: 0.6994183634721118\n",
      "100%|██████████| 45/45 [00:00<00:00, 364.41it/s]\n",
      "100%|██████████| 12/12 [00:00<00:00, 3475.70it/s]\n",
      "2024-11-06 10:51:24,913 - decision_learning.modeling.train - INFO - epoch: 76, train_loss: 23.585939534505208, val_metric: 0.6772053185469354\n",
      "2024-11-06 10:51:24,913 - decision_learning.modeling.train - INFO - epoch: 76, train_loss: 23.585939534505208, val_metric: 0.6772053185469354\n",
      "100%|██████████| 45/45 [00:00<00:00, 366.95it/s]\n",
      "100%|██████████| 12/12 [00:00<00:00, 3252.45it/s]\n",
      "2024-11-06 10:51:25,043 - decision_learning.modeling.train - INFO - epoch: 77, train_loss: 23.58593970404731, val_metric: 0.6826204641678131\n",
      "2024-11-06 10:51:25,043 - decision_learning.modeling.train - INFO - epoch: 77, train_loss: 23.58593970404731, val_metric: 0.6826204641678131\n",
      "100%|██████████| 45/45 [00:00<00:00, 366.01it/s]\n",
      "100%|██████████| 12/12 [00:00<00:00, 3473.54it/s]\n",
      "2024-11-06 10:51:25,174 - decision_learning.modeling.train - INFO - epoch: 78, train_loss: 23.58593944973416, val_metric: 0.6818117909332464\n",
      "2024-11-06 10:51:25,174 - decision_learning.modeling.train - INFO - epoch: 78, train_loss: 23.58593944973416, val_metric: 0.6818117909332464\n",
      "100%|██████████| 45/45 [00:00<00:00, 367.51it/s]\n",
      "100%|██████████| 12/12 [00:00<00:00, 3511.35it/s]\n",
      "2024-11-06 10:51:25,303 - decision_learning.modeling.train - INFO - epoch: 79, train_loss: 23.585939831203884, val_metric: 0.6778185518571844\n",
      "2024-11-06 10:51:25,303 - decision_learning.modeling.train - INFO - epoch: 79, train_loss: 23.585939831203884, val_metric: 0.6778185518571844\n",
      "100%|██████████| 45/45 [00:00<00:00, 367.20it/s]\n",
      "100%|██████████| 12/12 [00:00<00:00, 3493.56it/s]\n",
      "2024-11-06 10:51:25,433 - decision_learning.modeling.train - INFO - epoch: 80, train_loss: 23.58593961927626, val_metric: 0.6812153849193858\n",
      "2024-11-06 10:51:25,433 - decision_learning.modeling.train - INFO - epoch: 80, train_loss: 23.58593961927626, val_metric: 0.6812153849193858\n",
      "100%|██████████| 45/45 [00:00<00:00, 366.06it/s]\n",
      "100%|██████████| 12/12 [00:00<00:00, 3471.63it/s]\n",
      "2024-11-06 10:51:25,563 - decision_learning.modeling.train - INFO - epoch: 81, train_loss: 23.585939534505208, val_metric: 0.6806140624966407\n",
      "2024-11-06 10:51:25,563 - decision_learning.modeling.train - INFO - epoch: 81, train_loss: 23.585939534505208, val_metric: 0.6806140624966407\n",
      "100%|██████████| 45/45 [00:00<00:00, 364.26it/s]\n",
      "100%|██████████| 12/12 [00:00<00:00, 3462.31it/s]\n",
      "2024-11-06 10:51:25,694 - decision_learning.modeling.train - INFO - epoch: 82, train_loss: 23.58593923780653, val_metric: 0.6906062327351498\n",
      "2024-11-06 10:51:25,694 - decision_learning.modeling.train - INFO - epoch: 82, train_loss: 23.58593923780653, val_metric: 0.6906062327351498\n",
      "100%|██████████| 45/45 [00:00<00:00, 366.54it/s]\n",
      "100%|██████████| 12/12 [00:00<00:00, 3494.28it/s]\n",
      "2024-11-06 10:51:25,824 - decision_learning.modeling.train - INFO - epoch: 83, train_loss: 23.585939661661783, val_metric: 0.6836490580018649\n",
      "2024-11-06 10:51:25,824 - decision_learning.modeling.train - INFO - epoch: 83, train_loss: 23.585939661661783, val_metric: 0.6836490580018649\n",
      "100%|██████████| 45/45 [00:00<00:00, 366.03it/s]\n",
      "100%|██████████| 12/12 [00:00<00:00, 3469.71it/s]\n",
      "2024-11-06 10:51:25,954 - decision_learning.modeling.train - INFO - epoch: 84, train_loss: 23.585939661661783, val_metric: 0.6739098040554579\n",
      "2024-11-06 10:51:25,954 - decision_learning.modeling.train - INFO - epoch: 84, train_loss: 23.585939661661783, val_metric: 0.6739098040554579\n",
      "100%|██████████| 45/45 [00:00<00:00, 365.08it/s]\n",
      "100%|██████████| 12/12 [00:00<00:00, 3483.40it/s]\n",
      "2024-11-06 10:51:26,084 - decision_learning.modeling.train - INFO - epoch: 85, train_loss: 23.58593944973416, val_metric: 0.6871054455015854\n",
      "2024-11-06 10:51:26,084 - decision_learning.modeling.train - INFO - epoch: 85, train_loss: 23.58593944973416, val_metric: 0.6871054455015854\n",
      "100%|██████████| 45/45 [00:00<00:00, 365.78it/s]\n",
      "100%|██████████| 12/12 [00:00<00:00, 3465.17it/s]\n",
      "2024-11-06 10:51:26,214 - decision_learning.modeling.train - INFO - epoch: 86, train_loss: 23.585939280192058, val_metric: 0.6912621931865294\n",
      "2024-11-06 10:51:26,214 - decision_learning.modeling.train - INFO - epoch: 86, train_loss: 23.585939280192058, val_metric: 0.6912621931865294\n",
      "100%|██████████| 45/45 [00:00<00:00, 365.50it/s]\n",
      "100%|██████████| 12/12 [00:00<00:00, 3503.28it/s]\n",
      "2024-11-06 10:51:26,345 - decision_learning.modeling.train - INFO - epoch: 87, train_loss: 23.585939576890734, val_metric: 0.6617699740884441\n",
      "2024-11-06 10:51:26,345 - decision_learning.modeling.train - INFO - epoch: 87, train_loss: 23.585939576890734, val_metric: 0.6617699740884441\n",
      "100%|██████████| 45/45 [00:00<00:00, 366.41it/s]\n",
      "100%|██████████| 12/12 [00:00<00:00, 3516.74it/s]\n",
      "2024-11-06 10:51:26,474 - decision_learning.modeling.train - INFO - epoch: 88, train_loss: 23.58593944973416, val_metric: 0.6885844229371638\n",
      "2024-11-06 10:51:26,474 - decision_learning.modeling.train - INFO - epoch: 88, train_loss: 23.58593944973416, val_metric: 0.6885844229371638\n",
      "100%|██████████| 45/45 [00:00<00:00, 367.84it/s]\n",
      "100%|██████████| 12/12 [00:00<00:00, 3508.90it/s]\n",
      "2024-11-06 10:51:26,604 - decision_learning.modeling.train - INFO - epoch: 89, train_loss: 23.58593944973416, val_metric: 0.6774578800466438\n",
      "2024-11-06 10:51:26,604 - decision_learning.modeling.train - INFO - epoch: 89, train_loss: 23.58593944973416, val_metric: 0.6774578800466438\n",
      "100%|██████████| 45/45 [00:00<00:00, 363.94it/s]\n",
      "100%|██████████| 12/12 [00:00<00:00, 3499.38it/s]\n",
      "2024-11-06 10:51:26,735 - decision_learning.modeling.train - INFO - epoch: 90, train_loss: 23.585939195421005, val_metric: 0.6846301603397845\n",
      "2024-11-06 10:51:26,735 - decision_learning.modeling.train - INFO - epoch: 90, train_loss: 23.585939195421005, val_metric: 0.6846301603397845\n",
      "100%|██████████| 45/45 [00:00<00:00, 367.51it/s]\n",
      "100%|██████████| 12/12 [00:00<00:00, 3493.31it/s]\n",
      "2024-11-06 10:51:26,864 - decision_learning.modeling.train - INFO - epoch: 91, train_loss: 23.585939661661783, val_metric: 0.670668116638572\n",
      "2024-11-06 10:51:26,864 - decision_learning.modeling.train - INFO - epoch: 91, train_loss: 23.585939661661783, val_metric: 0.670668116638572\n",
      "100%|██████████| 45/45 [00:00<00:00, 368.10it/s]\n",
      "100%|██████████| 12/12 [00:00<00:00, 3493.80it/s]\n",
      "2024-11-06 10:51:26,993 - decision_learning.modeling.train - INFO - epoch: 92, train_loss: 23.58593949211968, val_metric: 0.6881315051042532\n",
      "2024-11-06 10:51:26,993 - decision_learning.modeling.train - INFO - epoch: 92, train_loss: 23.58593949211968, val_metric: 0.6881315051042532\n",
      "100%|██████████| 45/45 [00:00<00:00, 367.39it/s]\n",
      "100%|██████████| 12/12 [00:00<00:00, 3480.03it/s]\n",
      "2024-11-06 10:51:27,123 - decision_learning.modeling.train - INFO - epoch: 93, train_loss: 23.58593944973416, val_metric: 0.6878040317248403\n",
      "2024-11-06 10:51:27,123 - decision_learning.modeling.train - INFO - epoch: 93, train_loss: 23.58593944973416, val_metric: 0.6878040317248403\n",
      "100%|██████████| 45/45 [00:00<00:00, 368.02it/s]\n",
      "100%|██████████| 12/12 [00:00<00:00, 3509.88it/s]\n",
      "2024-11-06 10:51:27,252 - decision_learning.modeling.train - INFO - epoch: 94, train_loss: 23.585939661661783, val_metric: 0.680904282674712\n",
      "2024-11-06 10:51:27,252 - decision_learning.modeling.train - INFO - epoch: 94, train_loss: 23.585939661661783, val_metric: 0.680904282674712\n",
      "100%|██████████| 45/45 [00:00<00:00, 367.66it/s]\n",
      "100%|██████████| 12/12 [00:00<00:00, 3525.86it/s]\n",
      "2024-11-06 10:51:27,382 - decision_learning.modeling.train - INFO - epoch: 95, train_loss: 23.58593944973416, val_metric: 0.6720354865240085\n",
      "2024-11-06 10:51:27,382 - decision_learning.modeling.train - INFO - epoch: 95, train_loss: 23.58593944973416, val_metric: 0.6720354865240085\n",
      "100%|██████████| 45/45 [00:00<00:00, 367.55it/s]\n",
      "100%|██████████| 12/12 [00:00<00:00, 3473.78it/s]\n",
      "2024-11-06 10:51:27,511 - decision_learning.modeling.train - INFO - epoch: 96, train_loss: 23.585939576890734, val_metric: 0.6705733363848182\n",
      "2024-11-06 10:51:27,511 - decision_learning.modeling.train - INFO - epoch: 96, train_loss: 23.585939576890734, val_metric: 0.6705733363848182\n",
      "100%|██████████| 45/45 [00:00<00:00, 368.48it/s]\n",
      "100%|██████████| 12/12 [00:00<00:00, 3515.27it/s]\n",
      "2024-11-06 10:51:27,641 - decision_learning.modeling.train - INFO - epoch: 97, train_loss: 23.58593961927626, val_metric: 0.6892543216611543\n",
      "2024-11-06 10:51:27,641 - decision_learning.modeling.train - INFO - epoch: 97, train_loss: 23.58593961927626, val_metric: 0.6892543216611543\n",
      "100%|██████████| 45/45 [00:00<00:00, 367.81it/s]\n",
      "100%|██████████| 12/12 [00:00<00:00, 3494.53it/s]\n",
      "2024-11-06 10:51:27,770 - decision_learning.modeling.train - INFO - epoch: 98, train_loss: 23.58593923780653, val_metric: 0.6896743451707033\n",
      "2024-11-06 10:51:27,770 - decision_learning.modeling.train - INFO - epoch: 98, train_loss: 23.58593923780653, val_metric: 0.6896743451707033\n",
      "100%|██████████| 45/45 [00:00<00:00, 366.98it/s]\n",
      "100%|██████████| 12/12 [00:00<00:00, 3507.68it/s]\n",
      "2024-11-06 10:51:27,900 - decision_learning.modeling.train - INFO - epoch: 99, train_loss: 23.58593961927626, val_metric: 0.6758614156441128\n",
      "2024-11-06 10:51:27,900 - decision_learning.modeling.train - INFO - epoch: 99, train_loss: 23.58593961927626, val_metric: 0.6758614156441128\n"
     ]
    },
    {
     "name": "stdout",
     "output_type": "stream",
     "text": [
      "0.15811388300841897 B\n"
     ]
    },
    {
     "name": "stderr",
     "output_type": "stream",
     "text": [
      "100%|██████████| 45/45 [00:00<00:00, 366.46it/s]\n",
      "100%|██████████| 12/12 [00:00<00:00, 3485.09it/s]\n",
      "2024-11-06 10:51:28,037 - decision_learning.modeling.train - INFO - epoch: 0, train_loss: 22.604107962714302, val_metric: 0.6668400587641051\n",
      "2024-11-06 10:51:28,037 - decision_learning.modeling.train - INFO - epoch: 0, train_loss: 22.604107962714302, val_metric: 0.6668400587641051\n",
      "100%|██████████| 45/45 [00:00<00:00, 366.99it/s]\n",
      "100%|██████████| 12/12 [00:00<00:00, 3487.74it/s]\n",
      "2024-11-06 10:51:28,167 - decision_learning.modeling.train - INFO - epoch: 1, train_loss: 23.038161595662434, val_metric: 0.6615401699865622\n",
      "2024-11-06 10:51:28,167 - decision_learning.modeling.train - INFO - epoch: 1, train_loss: 23.038161595662434, val_metric: 0.6615401699865622\n",
      "100%|██████████| 45/45 [00:00<00:00, 368.17it/s]\n",
      "100%|██████████| 12/12 [00:00<00:00, 3463.03it/s]\n",
      "2024-11-06 10:51:28,296 - decision_learning.modeling.train - INFO - epoch: 2, train_loss: 23.27036450703939, val_metric: 0.6751100667234474\n",
      "2024-11-06 10:51:28,296 - decision_learning.modeling.train - INFO - epoch: 2, train_loss: 23.27036450703939, val_metric: 0.6751100667234474\n",
      "100%|██████████| 45/45 [00:00<00:00, 367.35it/s]\n",
      "100%|██████████| 12/12 [00:00<00:00, 3491.62it/s]\n",
      "2024-11-06 10:51:28,426 - decision_learning.modeling.train - INFO - epoch: 3, train_loss: 23.282843102349176, val_metric: 0.6573179884472887\n",
      "2024-11-06 10:51:28,426 - decision_learning.modeling.train - INFO - epoch: 3, train_loss: 23.282843102349176, val_metric: 0.6573179884472887\n",
      "100%|██████████| 45/45 [00:00<00:00, 364.84it/s]\n",
      "100%|██████████| 12/12 [00:00<00:00, 3496.47it/s]\n",
      "2024-11-06 10:51:28,556 - decision_learning.modeling.train - INFO - epoch: 4, train_loss: 23.304195870293512, val_metric: 0.676808964758511\n",
      "2024-11-06 10:51:28,556 - decision_learning.modeling.train - INFO - epoch: 4, train_loss: 23.304195870293512, val_metric: 0.676808964758511\n",
      "100%|██████████| 45/45 [00:00<00:00, 360.27it/s]\n",
      "100%|██████████| 12/12 [00:00<00:00, 3450.45it/s]\n",
      "2024-11-06 10:51:28,688 - decision_learning.modeling.train - INFO - epoch: 5, train_loss: 23.33514077928331, val_metric: 0.6655439514651807\n",
      "2024-11-06 10:51:28,688 - decision_learning.modeling.train - INFO - epoch: 5, train_loss: 23.33514077928331, val_metric: 0.6655439514651807\n",
      "100%|██████████| 45/45 [00:00<00:00, 365.15it/s]\n",
      "100%|██████████| 12/12 [00:00<00:00, 3464.70it/s]\n",
      "2024-11-06 10:51:28,819 - decision_learning.modeling.train - INFO - epoch: 6, train_loss: 23.27951185438368, val_metric: 0.689596696321104\n",
      "2024-11-06 10:51:28,819 - decision_learning.modeling.train - INFO - epoch: 6, train_loss: 23.27951185438368, val_metric: 0.689596696321104\n",
      "100%|██████████| 45/45 [00:00<00:00, 365.94it/s]\n",
      "100%|██████████| 12/12 [00:00<00:00, 3466.61it/s]\n",
      "2024-11-06 10:51:28,949 - decision_learning.modeling.train - INFO - epoch: 7, train_loss: 23.299107191297743, val_metric: 0.6824160023797691\n",
      "2024-11-06 10:51:28,949 - decision_learning.modeling.train - INFO - epoch: 7, train_loss: 23.299107191297743, val_metric: 0.6824160023797691\n",
      "100%|██████████| 45/45 [00:00<00:00, 365.76it/s]\n",
      "100%|██████████| 12/12 [00:00<00:00, 3436.08it/s]\n",
      "2024-11-06 10:51:29,079 - decision_learning.modeling.train - INFO - epoch: 8, train_loss: 23.299012417263455, val_metric: 0.6728913978315689\n",
      "2024-11-06 10:51:29,079 - decision_learning.modeling.train - INFO - epoch: 8, train_loss: 23.299012417263455, val_metric: 0.6728913978315689\n",
      "100%|██████████| 45/45 [00:00<00:00, 365.99it/s]\n",
      "100%|██████████| 12/12 [00:00<00:00, 3445.96it/s]\n",
      "2024-11-06 10:51:29,209 - decision_learning.modeling.train - INFO - epoch: 9, train_loss: 23.28567360772027, val_metric: 0.6950145789118762\n",
      "2024-11-06 10:51:29,209 - decision_learning.modeling.train - INFO - epoch: 9, train_loss: 23.28567360772027, val_metric: 0.6950145789118762\n",
      "100%|██████████| 45/45 [00:00<00:00, 365.65it/s]\n",
      "100%|██████████| 12/12 [00:00<00:00, 3449.03it/s]\n",
      "2024-11-06 10:51:29,340 - decision_learning.modeling.train - INFO - epoch: 10, train_loss: 23.25911415947808, val_metric: 0.6873979464879021\n",
      "2024-11-06 10:51:29,340 - decision_learning.modeling.train - INFO - epoch: 10, train_loss: 23.25911415947808, val_metric: 0.6873979464879021\n",
      "100%|██████████| 45/45 [00:00<00:00, 366.15it/s]\n",
      "100%|██████████| 12/12 [00:00<00:00, 3445.25it/s]\n",
      "2024-11-06 10:51:29,470 - decision_learning.modeling.train - INFO - epoch: 11, train_loss: 23.26947915818956, val_metric: 0.6794612406401557\n",
      "2024-11-06 10:51:29,470 - decision_learning.modeling.train - INFO - epoch: 11, train_loss: 23.26947915818956, val_metric: 0.6794612406401557\n",
      "100%|██████████| 45/45 [00:00<00:00, 365.90it/s]\n",
      "100%|██████████| 12/12 [00:00<00:00, 3485.81it/s]\n",
      "2024-11-06 10:51:29,600 - decision_learning.modeling.train - INFO - epoch: 12, train_loss: 23.275318484836156, val_metric: 0.6812902967990906\n",
      "2024-11-06 10:51:29,600 - decision_learning.modeling.train - INFO - epoch: 12, train_loss: 23.275318484836156, val_metric: 0.6812902967990906\n",
      "100%|██████████| 45/45 [00:00<00:00, 366.89it/s]\n",
      "100%|██████████| 12/12 [00:00<00:00, 3465.41it/s]\n",
      "2024-11-06 10:51:29,730 - decision_learning.modeling.train - INFO - epoch: 13, train_loss: 23.28534041510688, val_metric: 0.6946676426354357\n",
      "2024-11-06 10:51:29,730 - decision_learning.modeling.train - INFO - epoch: 13, train_loss: 23.28534041510688, val_metric: 0.6946676426354357\n",
      "100%|██████████| 45/45 [00:00<00:00, 366.77it/s]\n",
      "100%|██████████| 12/12 [00:00<00:00, 3458.51it/s]\n",
      "2024-11-06 10:51:29,860 - decision_learning.modeling.train - INFO - epoch: 14, train_loss: 23.300236807929146, val_metric: 0.6716884995629402\n",
      "2024-11-06 10:51:29,860 - decision_learning.modeling.train - INFO - epoch: 14, train_loss: 23.300236807929146, val_metric: 0.6716884995629402\n",
      "100%|██████████| 45/45 [00:00<00:00, 365.67it/s]\n",
      "100%|██████████| 12/12 [00:00<00:00, 3454.95it/s]\n",
      "2024-11-06 10:51:29,991 - decision_learning.modeling.train - INFO - epoch: 15, train_loss: 23.296160846286348, val_metric: 0.6939383922124369\n",
      "2024-11-06 10:51:29,991 - decision_learning.modeling.train - INFO - epoch: 15, train_loss: 23.296160846286348, val_metric: 0.6939383922124369\n",
      "100%|██████████| 45/45 [00:00<00:00, 365.26it/s]\n",
      "100%|██████████| 12/12 [00:00<00:00, 3479.31it/s]\n",
      "2024-11-06 10:51:30,121 - decision_learning.modeling.train - INFO - epoch: 16, train_loss: 23.30288234286838, val_metric: 0.6837062302618832\n",
      "2024-11-06 10:51:30,121 - decision_learning.modeling.train - INFO - epoch: 16, train_loss: 23.30288234286838, val_metric: 0.6837062302618832\n",
      "100%|██████████| 45/45 [00:00<00:00, 365.53it/s]\n",
      "100%|██████████| 12/12 [00:00<00:00, 3271.90it/s]\n",
      "2024-11-06 10:51:30,252 - decision_learning.modeling.train - INFO - epoch: 17, train_loss: 23.3302796681722, val_metric: 0.6822454992922679\n",
      "2024-11-06 10:51:30,252 - decision_learning.modeling.train - INFO - epoch: 17, train_loss: 23.3302796681722, val_metric: 0.6822454992922679\n",
      "100%|██████████| 45/45 [00:00<00:00, 365.98it/s]\n",
      "100%|██████████| 12/12 [00:00<00:00, 3465.65it/s]\n",
      "2024-11-06 10:51:30,382 - decision_learning.modeling.train - INFO - epoch: 18, train_loss: 23.33919546339247, val_metric: 0.6868056966135109\n",
      "2024-11-06 10:51:30,382 - decision_learning.modeling.train - INFO - epoch: 18, train_loss: 23.33919546339247, val_metric: 0.6868056966135109\n",
      "100%|██████████| 45/45 [00:00<00:00, 365.92it/s]\n",
      "100%|██████████| 12/12 [00:00<00:00, 3458.98it/s]\n",
      "2024-11-06 10:51:30,512 - decision_learning.modeling.train - INFO - epoch: 19, train_loss: 23.34959182739258, val_metric: 0.6884408333869584\n",
      "2024-11-06 10:51:30,512 - decision_learning.modeling.train - INFO - epoch: 19, train_loss: 23.34959182739258, val_metric: 0.6884408333869584\n",
      "100%|██████████| 45/45 [00:00<00:00, 366.28it/s]\n",
      "100%|██████████| 12/12 [00:00<00:00, 3459.46it/s]\n",
      "2024-11-06 10:51:30,642 - decision_learning.modeling.train - INFO - epoch: 20, train_loss: 23.356843439737954, val_metric: 0.6865159325970887\n",
      "2024-11-06 10:51:30,642 - decision_learning.modeling.train - INFO - epoch: 20, train_loss: 23.356843439737954, val_metric: 0.6865159325970887\n",
      "100%|██████████| 45/45 [00:00<00:00, 365.27it/s]\n",
      "100%|██████████| 12/12 [00:00<00:00, 3479.55it/s]\n",
      "2024-11-06 10:51:30,772 - decision_learning.modeling.train - INFO - epoch: 21, train_loss: 23.360324520534938, val_metric: 0.6826626337780394\n",
      "2024-11-06 10:51:30,772 - decision_learning.modeling.train - INFO - epoch: 21, train_loss: 23.360324520534938, val_metric: 0.6826626337780394\n",
      "100%|██████████| 45/45 [00:00<00:00, 363.87it/s]\n",
      "100%|██████████| 12/12 [00:00<00:00, 3470.67it/s]\n",
      "2024-11-06 10:51:30,903 - decision_learning.modeling.train - INFO - epoch: 22, train_loss: 23.362061987982855, val_metric: 0.6859768002125016\n",
      "2024-11-06 10:51:30,903 - decision_learning.modeling.train - INFO - epoch: 22, train_loss: 23.362061987982855, val_metric: 0.6859768002125016\n",
      "100%|██████████| 45/45 [00:00<00:00, 364.38it/s]\n",
      "100%|██████████| 12/12 [00:00<00:00, 3470.19it/s]\n",
      "2024-11-06 10:51:31,034 - decision_learning.modeling.train - INFO - epoch: 23, train_loss: 23.363253529866537, val_metric: 0.6915597626356137\n",
      "2024-11-06 10:51:31,034 - decision_learning.modeling.train - INFO - epoch: 23, train_loss: 23.363253529866537, val_metric: 0.6915597626356137\n",
      "100%|██████████| 45/45 [00:00<00:00, 365.77it/s]\n",
      "100%|██████████| 12/12 [00:00<00:00, 3458.03it/s]\n",
      "2024-11-06 10:51:31,164 - decision_learning.modeling.train - INFO - epoch: 24, train_loss: 23.36298039754232, val_metric: 0.6876018000604139\n",
      "2024-11-06 10:51:31,164 - decision_learning.modeling.train - INFO - epoch: 24, train_loss: 23.36298039754232, val_metric: 0.6876018000604139\n",
      "100%|██████████| 45/45 [00:00<00:00, 364.84it/s]\n",
      "100%|██████████| 12/12 [00:00<00:00, 3488.47it/s]\n",
      "2024-11-06 10:51:31,295 - decision_learning.modeling.train - INFO - epoch: 25, train_loss: 23.36345320807563, val_metric: 0.6813023597404774\n",
      "2024-11-06 10:51:31,295 - decision_learning.modeling.train - INFO - epoch: 25, train_loss: 23.36345320807563, val_metric: 0.6813023597404774\n",
      "100%|██████████| 45/45 [00:00<00:00, 367.09it/s]\n",
      "100%|██████████| 12/12 [00:00<00:00, 3392.53it/s]\n",
      "2024-11-06 10:51:31,425 - decision_learning.modeling.train - INFO - epoch: 26, train_loss: 23.363935470581055, val_metric: 0.6996011322395106\n",
      "2024-11-06 10:51:31,425 - decision_learning.modeling.train - INFO - epoch: 26, train_loss: 23.363935470581055, val_metric: 0.6996011322395106\n",
      "100%|██████████| 45/45 [00:00<00:00, 367.84it/s]\n",
      "100%|██████████| 12/12 [00:00<00:00, 3481.47it/s]\n",
      "2024-11-06 10:51:31,554 - decision_learning.modeling.train - INFO - epoch: 27, train_loss: 23.364057201809352, val_metric: 0.690813786285482\n",
      "2024-11-06 10:51:31,554 - decision_learning.modeling.train - INFO - epoch: 27, train_loss: 23.364057201809352, val_metric: 0.690813786285482\n",
      "100%|██████████| 45/45 [00:00<00:00, 368.23it/s]\n",
      "100%|██████████| 12/12 [00:00<00:00, 3478.83it/s]\n",
      "2024-11-06 10:51:31,684 - decision_learning.modeling.train - INFO - epoch: 28, train_loss: 23.364247300889758, val_metric: 0.6861767510686825\n",
      "2024-11-06 10:51:31,684 - decision_learning.modeling.train - INFO - epoch: 28, train_loss: 23.364247300889758, val_metric: 0.6861767510686825\n",
      "100%|██████████| 45/45 [00:00<00:00, 367.43it/s]\n",
      "100%|██████████| 12/12 [00:00<00:00, 3458.98it/s]\n",
      "2024-11-06 10:51:31,813 - decision_learning.modeling.train - INFO - epoch: 29, train_loss: 23.363776524861652, val_metric: 0.6913184531232495\n",
      "2024-11-06 10:51:31,813 - decision_learning.modeling.train - INFO - epoch: 29, train_loss: 23.363776524861652, val_metric: 0.6913184531232495\n",
      "100%|██████████| 45/45 [00:00<00:00, 368.59it/s]\n",
      "100%|██████████| 12/12 [00:00<00:00, 3509.88it/s]\n",
      "2024-11-06 10:51:31,942 - decision_learning.modeling.train - INFO - epoch: 30, train_loss: 23.364108106825086, val_metric: 0.6913846979316216\n",
      "2024-11-06 10:51:31,942 - decision_learning.modeling.train - INFO - epoch: 30, train_loss: 23.364108106825086, val_metric: 0.6913846979316216\n",
      "100%|██████████| 45/45 [00:00<00:00, 368.98it/s]\n",
      "100%|██████████| 12/12 [00:00<00:00, 3512.08it/s]\n",
      "2024-11-06 10:51:32,072 - decision_learning.modeling.train - INFO - epoch: 31, train_loss: 23.364236450195314, val_metric: 0.6818205593738343\n",
      "2024-11-06 10:51:32,072 - decision_learning.modeling.train - INFO - epoch: 31, train_loss: 23.364236450195314, val_metric: 0.6818205593738343\n",
      "100%|██████████| 45/45 [00:00<00:00, 367.57it/s]\n",
      "100%|██████████| 12/12 [00:00<00:00, 3483.16it/s]\n",
      "2024-11-06 10:51:32,201 - decision_learning.modeling.train - INFO - epoch: 32, train_loss: 23.364366743299698, val_metric: 0.6688060141023924\n",
      "2024-11-06 10:51:32,201 - decision_learning.modeling.train - INFO - epoch: 32, train_loss: 23.364366743299698, val_metric: 0.6688060141023924\n",
      "100%|██████████| 45/45 [00:00<00:00, 366.89it/s]\n",
      "100%|██████████| 12/12 [00:00<00:00, 3490.16it/s]\n",
      "2024-11-06 10:51:32,331 - decision_learning.modeling.train - INFO - epoch: 33, train_loss: 23.364447148640952, val_metric: 0.696113979170791\n",
      "2024-11-06 10:51:32,331 - decision_learning.modeling.train - INFO - epoch: 33, train_loss: 23.364447148640952, val_metric: 0.696113979170791\n",
      "100%|██████████| 45/45 [00:00<00:00, 368.21it/s]\n",
      "100%|██████████| 12/12 [00:00<00:00, 3536.26it/s]\n",
      "2024-11-06 10:51:32,460 - decision_learning.modeling.train - INFO - epoch: 34, train_loss: 23.364560148451062, val_metric: 0.6836271622427089\n",
      "2024-11-06 10:51:32,460 - decision_learning.modeling.train - INFO - epoch: 34, train_loss: 23.364560148451062, val_metric: 0.6836271622427089\n",
      "100%|██████████| 45/45 [00:00<00:00, 366.98it/s]\n",
      "100%|██████████| 12/12 [00:00<00:00, 3558.52it/s]\n",
      "2024-11-06 10:51:32,589 - decision_learning.modeling.train - INFO - epoch: 35, train_loss: 23.36468217637804, val_metric: 0.6785651871074759\n",
      "2024-11-06 10:51:32,589 - decision_learning.modeling.train - INFO - epoch: 35, train_loss: 23.36468217637804, val_metric: 0.6785651871074759\n",
      "100%|██████████| 45/45 [00:00<00:00, 369.84it/s]\n",
      "100%|██████████| 12/12 [00:00<00:00, 3550.23it/s]\n",
      "2024-11-06 10:51:32,718 - decision_learning.modeling.train - INFO - epoch: 36, train_loss: 23.270002534654406, val_metric: 0.6951502109755365\n",
      "2024-11-06 10:51:32,718 - decision_learning.modeling.train - INFO - epoch: 36, train_loss: 23.270002534654406, val_metric: 0.6951502109755365\n",
      "100%|██████████| 45/45 [00:00<00:00, 370.74it/s]\n",
      "100%|██████████| 12/12 [00:00<00:00, 3567.85it/s]\n",
      "2024-11-06 10:51:32,846 - decision_learning.modeling.train - INFO - epoch: 37, train_loss: 23.36471684773763, val_metric: 0.67713958058484\n",
      "2024-11-06 10:51:32,846 - decision_learning.modeling.train - INFO - epoch: 37, train_loss: 23.36471684773763, val_metric: 0.67713958058484\n",
      "100%|██████████| 45/45 [00:00<00:00, 369.57it/s]\n",
      "100%|██████████| 12/12 [00:00<00:00, 3565.57it/s]\n",
      "2024-11-06 10:51:32,975 - decision_learning.modeling.train - INFO - epoch: 38, train_loss: 23.36470612419976, val_metric: 0.6908337053441586\n",
      "2024-11-06 10:51:32,975 - decision_learning.modeling.train - INFO - epoch: 38, train_loss: 23.36470612419976, val_metric: 0.6908337053441586\n",
      "100%|██████████| 45/45 [00:00<00:00, 370.80it/s]\n",
      "100%|██████████| 12/12 [00:00<00:00, 3579.01it/s]\n",
      "2024-11-06 10:51:33,103 - decision_learning.modeling.train - INFO - epoch: 39, train_loss: 23.364685991075305, val_metric: 0.678016982174535\n",
      "2024-11-06 10:51:33,103 - decision_learning.modeling.train - INFO - epoch: 39, train_loss: 23.364685991075305, val_metric: 0.678016982174535\n",
      "100%|██████████| 45/45 [00:00<00:00, 368.91it/s]\n",
      "100%|██████████| 12/12 [00:00<00:00, 3568.10it/s]\n",
      "2024-11-06 10:51:33,232 - decision_learning.modeling.train - INFO - epoch: 40, train_loss: 23.36471388075087, val_metric: 0.6888122503385664\n",
      "2024-11-06 10:51:33,232 - decision_learning.modeling.train - INFO - epoch: 40, train_loss: 23.36471388075087, val_metric: 0.6888122503385664\n",
      "100%|██████████| 45/45 [00:00<00:00, 371.06it/s]\n",
      "100%|██████████| 12/12 [00:00<00:00, 3543.73it/s]\n",
      "2024-11-06 10:51:33,360 - decision_learning.modeling.train - INFO - epoch: 41, train_loss: 23.364716254340276, val_metric: 0.6905547371534312\n",
      "2024-11-06 10:51:33,360 - decision_learning.modeling.train - INFO - epoch: 41, train_loss: 23.364716254340276, val_metric: 0.6905547371534312\n",
      "100%|██████████| 45/45 [00:00<00:00, 369.52it/s]\n",
      "100%|██████████| 12/12 [00:00<00:00, 3489.44it/s]\n",
      "2024-11-06 10:51:33,489 - decision_learning.modeling.train - INFO - epoch: 42, train_loss: 23.36471633911133, val_metric: 0.6881750431994268\n",
      "2024-11-06 10:51:33,489 - decision_learning.modeling.train - INFO - epoch: 42, train_loss: 23.36471633911133, val_metric: 0.6881750431994268\n",
      "100%|██████████| 45/45 [00:00<00:00, 368.11it/s]\n",
      "100%|██████████| 12/12 [00:00<00:00, 3092.57it/s]\n",
      "2024-11-06 10:51:33,619 - decision_learning.modeling.train - INFO - epoch: 43, train_loss: 23.364716042412653, val_metric: 0.6794044738571587\n",
      "2024-11-06 10:51:33,619 - decision_learning.modeling.train - INFO - epoch: 43, train_loss: 23.364716042412653, val_metric: 0.6794044738571587\n",
      "100%|██████████| 45/45 [00:00<00:00, 369.77it/s]\n",
      "100%|██████████| 12/12 [00:00<00:00, 3498.65it/s]\n",
      "2024-11-06 10:51:33,748 - decision_learning.modeling.train - INFO - epoch: 44, train_loss: 23.364715915256077, val_metric: 0.6884338895929668\n",
      "2024-11-06 10:51:33,748 - decision_learning.modeling.train - INFO - epoch: 44, train_loss: 23.364715915256077, val_metric: 0.6884338895929668\n",
      "100%|██████████| 45/45 [00:00<00:00, 368.67it/s]\n",
      "100%|██████████| 12/12 [00:00<00:00, 3489.68it/s]\n",
      "2024-11-06 10:51:33,877 - decision_learning.modeling.train - INFO - epoch: 45, train_loss: 23.364716169569228, val_metric: 0.6801846623309716\n",
      "2024-11-06 10:51:33,877 - decision_learning.modeling.train - INFO - epoch: 45, train_loss: 23.364716169569228, val_metric: 0.6801846623309716\n",
      "100%|██████████| 45/45 [00:00<00:00, 367.09it/s]\n",
      "100%|██████████| 12/12 [00:00<00:00, 3484.85it/s]\n",
      "2024-11-06 10:51:34,007 - decision_learning.modeling.train - INFO - epoch: 46, train_loss: 23.364716423882378, val_metric: 0.6755235519160262\n",
      "2024-11-06 10:51:34,007 - decision_learning.modeling.train - INFO - epoch: 46, train_loss: 23.364716423882378, val_metric: 0.6755235519160262\n",
      "100%|██████████| 45/45 [00:00<00:00, 366.42it/s]\n",
      "100%|██████████| 12/12 [00:00<00:00, 3483.16it/s]\n",
      "2024-11-06 10:51:34,137 - decision_learning.modeling.train - INFO - epoch: 47, train_loss: 23.364716000027126, val_metric: 0.6777126716699697\n",
      "2024-11-06 10:51:34,137 - decision_learning.modeling.train - INFO - epoch: 47, train_loss: 23.364716000027126, val_metric: 0.6777126716699697\n",
      "100%|██████████| 45/45 [00:00<00:00, 365.61it/s]\n",
      "100%|██████████| 12/12 [00:00<00:00, 3502.06it/s]\n",
      "2024-11-06 10:51:34,267 - decision_learning.modeling.train - INFO - epoch: 48, train_loss: 23.364716042412653, val_metric: 0.6996681373172979\n",
      "2024-11-06 10:51:34,267 - decision_learning.modeling.train - INFO - epoch: 48, train_loss: 23.364716042412653, val_metric: 0.6996681373172979\n",
      "100%|██████████| 45/45 [00:00<00:00, 367.35it/s]\n",
      "100%|██████████| 12/12 [00:00<00:00, 3495.74it/s]\n",
      "2024-11-06 10:51:34,397 - decision_learning.modeling.train - INFO - epoch: 49, train_loss: 23.3647159576416, val_metric: 0.6972687777277554\n",
      "2024-11-06 10:51:34,397 - decision_learning.modeling.train - INFO - epoch: 49, train_loss: 23.3647159576416, val_metric: 0.6972687777277554\n",
      "100%|██████████| 45/45 [00:00<00:00, 365.51it/s]\n",
      "100%|██████████| 12/12 [00:00<00:00, 3491.37it/s]\n",
      "2024-11-06 10:51:34,527 - decision_learning.modeling.train - INFO - epoch: 50, train_loss: 23.364716042412653, val_metric: 0.6899346107338182\n",
      "2024-11-06 10:51:34,527 - decision_learning.modeling.train - INFO - epoch: 50, train_loss: 23.364716042412653, val_metric: 0.6899346107338182\n",
      "100%|██████████| 45/45 [00:00<00:00, 366.66it/s]\n",
      "100%|██████████| 12/12 [00:00<00:00, 3490.16it/s]\n",
      "2024-11-06 10:51:34,657 - decision_learning.modeling.train - INFO - epoch: 51, train_loss: 23.364716423882378, val_metric: 0.6845023843934139\n",
      "2024-11-06 10:51:34,657 - decision_learning.modeling.train - INFO - epoch: 51, train_loss: 23.364716423882378, val_metric: 0.6845023843934139\n",
      "100%|██████████| 45/45 [00:00<00:00, 367.12it/s]\n",
      "100%|██████████| 12/12 [00:00<00:00, 3481.47it/s]\n",
      "2024-11-06 10:51:34,787 - decision_learning.modeling.train - INFO - epoch: 52, train_loss: 23.364716211954754, val_metric: 0.6843201731569195\n",
      "2024-11-06 10:51:34,787 - decision_learning.modeling.train - INFO - epoch: 52, train_loss: 23.364716211954754, val_metric: 0.6843201731569195\n",
      "100%|██████████| 45/45 [00:00<00:00, 366.94it/s]\n",
      "100%|██████████| 12/12 [00:00<00:00, 3487.50it/s]\n",
      "2024-11-06 10:51:34,916 - decision_learning.modeling.train - INFO - epoch: 53, train_loss: 23.364716423882378, val_metric: 0.6726097940402024\n",
      "2024-11-06 10:51:34,916 - decision_learning.modeling.train - INFO - epoch: 53, train_loss: 23.364716423882378, val_metric: 0.6726097940402024\n",
      "100%|██████████| 45/45 [00:00<00:00, 366.05it/s]\n",
      "100%|██████████| 12/12 [00:00<00:00, 3481.47it/s]\n",
      "2024-11-06 10:51:35,047 - decision_learning.modeling.train - INFO - epoch: 54, train_loss: 23.364716211954754, val_metric: 0.6772069404550211\n",
      "2024-11-06 10:51:35,047 - decision_learning.modeling.train - INFO - epoch: 54, train_loss: 23.364716211954754, val_metric: 0.6772069404550211\n",
      "100%|██████████| 45/45 [00:00<00:00, 366.21it/s]\n",
      "100%|██████████| 12/12 [00:00<00:00, 3484.85it/s]\n",
      "2024-11-06 10:51:35,177 - decision_learning.modeling.train - INFO - epoch: 55, train_loss: 23.3647161271837, val_metric: 0.6707782036498836\n",
      "2024-11-06 10:51:35,177 - decision_learning.modeling.train - INFO - epoch: 55, train_loss: 23.3647161271837, val_metric: 0.6707782036498836\n",
      "100%|██████████| 45/45 [00:00<00:00, 367.19it/s]\n",
      "100%|██████████| 12/12 [00:00<00:00, 3461.60it/s]\n",
      "2024-11-06 10:51:35,306 - decision_learning.modeling.train - INFO - epoch: 56, train_loss: 23.36471570332845, val_metric: 0.6899334956720095\n",
      "2024-11-06 10:51:35,306 - decision_learning.modeling.train - INFO - epoch: 56, train_loss: 23.36471570332845, val_metric: 0.6899334956720095\n",
      "100%|██████████| 45/45 [00:00<00:00, 365.31it/s]\n",
      "100%|██████████| 12/12 [00:00<00:00, 3478.34it/s]\n",
      "2024-11-06 10:51:35,437 - decision_learning.modeling.train - INFO - epoch: 57, train_loss: 23.364716211954754, val_metric: 0.6916019322458399\n",
      "2024-11-06 10:51:35,437 - decision_learning.modeling.train - INFO - epoch: 57, train_loss: 23.364716211954754, val_metric: 0.6916019322458399\n",
      "100%|██████████| 45/45 [00:00<00:00, 366.68it/s]\n",
      "100%|██████████| 12/12 [00:00<00:00, 3480.51it/s]\n",
      "2024-11-06 10:51:35,567 - decision_learning.modeling.train - INFO - epoch: 58, train_loss: 23.364716466267904, val_metric: 0.6958025728183511\n",
      "2024-11-06 10:51:35,567 - decision_learning.modeling.train - INFO - epoch: 58, train_loss: 23.364716466267904, val_metric: 0.6958025728183511\n",
      "100%|██████████| 45/45 [00:00<00:00, 366.92it/s]\n",
      "100%|██████████| 12/12 [00:00<00:00, 3471.63it/s]\n",
      "2024-11-06 10:51:35,697 - decision_learning.modeling.train - INFO - epoch: 59, train_loss: 23.364715830485025, val_metric: 0.6823119975237785\n",
      "2024-11-06 10:51:35,697 - decision_learning.modeling.train - INFO - epoch: 59, train_loss: 23.364715830485025, val_metric: 0.6823119975237785\n",
      "100%|██████████| 45/45 [00:00<00:00, 367.19it/s]\n",
      "100%|██████████| 12/12 [00:00<00:00, 3459.70it/s]\n",
      "2024-11-06 10:51:35,826 - decision_learning.modeling.train - INFO - epoch: 60, train_loss: 23.364716000027126, val_metric: 0.6823115413621293\n",
      "2024-11-06 10:51:35,826 - decision_learning.modeling.train - INFO - epoch: 60, train_loss: 23.364716000027126, val_metric: 0.6823115413621293\n",
      "100%|██████████| 45/45 [00:00<00:00, 366.04it/s]\n",
      "100%|██████████| 12/12 [00:00<00:00, 3468.28it/s]\n",
      "2024-11-06 10:51:35,956 - decision_learning.modeling.train - INFO - epoch: 61, train_loss: 23.36471633911133, val_metric: 0.6797923633127614\n",
      "2024-11-06 10:51:35,956 - decision_learning.modeling.train - INFO - epoch: 61, train_loss: 23.36471633911133, val_metric: 0.6797923633127614\n",
      "100%|██████████| 45/45 [00:00<00:00, 366.78it/s]\n",
      "100%|██████████| 12/12 [00:00<00:00, 3461.60it/s]\n",
      "2024-11-06 10:51:36,086 - decision_learning.modeling.train - INFO - epoch: 62, train_loss: 23.36471633911133, val_metric: 0.6767985237252099\n",
      "2024-11-06 10:51:36,086 - decision_learning.modeling.train - INFO - epoch: 62, train_loss: 23.36471633911133, val_metric: 0.6767985237252099\n",
      "100%|██████████| 45/45 [00:00<00:00, 366.82it/s]\n",
      "100%|██████████| 12/12 [00:00<00:00, 3470.19it/s]\n",
      "2024-11-06 10:51:36,216 - decision_learning.modeling.train - INFO - epoch: 63, train_loss: 23.364716423882378, val_metric: 0.670355797962834\n",
      "2024-11-06 10:51:36,216 - decision_learning.modeling.train - INFO - epoch: 63, train_loss: 23.364716423882378, val_metric: 0.670355797962834\n",
      "100%|██████████| 45/45 [00:00<00:00, 367.35it/s]\n",
      "100%|██████████| 12/12 [00:00<00:00, 3485.81it/s]\n",
      "2024-11-06 10:51:36,346 - decision_learning.modeling.train - INFO - epoch: 64, train_loss: 23.364716381496855, val_metric: 0.6700238643361854\n",
      "2024-11-06 10:51:36,346 - decision_learning.modeling.train - INFO - epoch: 64, train_loss: 23.364716381496855, val_metric: 0.6700238643361854\n",
      "100%|██████████| 45/45 [00:00<00:00, 369.00it/s]\n",
      "100%|██████████| 12/12 [00:00<00:00, 3498.41it/s]\n",
      "2024-11-06 10:51:36,475 - decision_learning.modeling.train - INFO - epoch: 65, train_loss: 23.364716000027126, val_metric: 0.6932660099416903\n",
      "2024-11-06 10:51:36,475 - decision_learning.modeling.train - INFO - epoch: 65, train_loss: 23.364716000027126, val_metric: 0.6932660099416903\n",
      "100%|██████████| 45/45 [00:00<00:00, 367.76it/s]\n",
      "100%|██████████| 12/12 [00:00<00:00, 3503.28it/s]\n",
      "2024-11-06 10:51:36,604 - decision_learning.modeling.train - INFO - epoch: 66, train_loss: 23.364716296725803, val_metric: 0.6847615855793477\n",
      "2024-11-06 10:51:36,604 - decision_learning.modeling.train - INFO - epoch: 66, train_loss: 23.364716296725803, val_metric: 0.6847615855793477\n",
      "100%|██████████| 45/45 [00:00<00:00, 369.29it/s]\n",
      "100%|██████████| 12/12 [00:00<00:00, 3475.94it/s]\n",
      "2024-11-06 10:51:36,733 - decision_learning.modeling.train - INFO - epoch: 67, train_loss: 23.36471659342448, val_metric: 0.6876685010304353\n",
      "2024-11-06 10:51:36,733 - decision_learning.modeling.train - INFO - epoch: 67, train_loss: 23.36471659342448, val_metric: 0.6876685010304353\n",
      "100%|██████████| 45/45 [00:00<00:00, 368.69it/s]\n",
      "100%|██████████| 12/12 [00:00<00:00, 3522.41it/s]\n",
      "2024-11-06 10:51:36,862 - decision_learning.modeling.train - INFO - epoch: 68, train_loss: 23.3647159576416, val_metric: 0.6904375542942448\n",
      "2024-11-06 10:51:36,862 - decision_learning.modeling.train - INFO - epoch: 68, train_loss: 23.3647159576416, val_metric: 0.6904375542942448\n",
      "100%|██████████| 45/45 [00:00<00:00, 369.01it/s]\n",
      "100%|██████████| 12/12 [00:00<00:00, 3508.17it/s]\n",
      "2024-11-06 10:51:36,991 - decision_learning.modeling.train - INFO - epoch: 69, train_loss: 23.3647159576416, val_metric: 0.6865834445211527\n",
      "2024-11-06 10:51:36,991 - decision_learning.modeling.train - INFO - epoch: 69, train_loss: 23.3647159576416, val_metric: 0.6865834445211527\n",
      "100%|██████████| 45/45 [00:00<00:00, 368.69it/s]\n",
      "100%|██████████| 12/12 [00:00<00:00, 3495.50it/s]\n",
      "2024-11-06 10:51:37,121 - decision_learning.modeling.train - INFO - epoch: 70, train_loss: 23.3647159576416, val_metric: 0.6910558560672614\n",
      "2024-11-06 10:51:37,121 - decision_learning.modeling.train - INFO - epoch: 70, train_loss: 23.3647159576416, val_metric: 0.6910558560672614\n",
      "100%|██████████| 45/45 [00:00<00:00, 369.54it/s]\n",
      "100%|██████████| 12/12 [00:00<00:00, 3492.10it/s]\n",
      "2024-11-06 10:51:37,250 - decision_learning.modeling.train - INFO - epoch: 71, train_loss: 23.364716551038953, val_metric: 0.6751342939754764\n",
      "2024-11-06 10:51:37,250 - decision_learning.modeling.train - INFO - epoch: 71, train_loss: 23.364716551038953, val_metric: 0.6751342939754764\n",
      "100%|██████████| 45/45 [00:00<00:00, 369.16it/s]\n",
      "100%|██████████| 12/12 [00:00<00:00, 3477.14it/s]\n",
      "2024-11-06 10:51:37,379 - decision_learning.modeling.train - INFO - epoch: 72, train_loss: 23.364716000027126, val_metric: 0.689391778371411\n",
      "2024-11-06 10:51:37,379 - decision_learning.modeling.train - INFO - epoch: 72, train_loss: 23.364716000027126, val_metric: 0.689391778371411\n",
      "100%|██████████| 45/45 [00:00<00:00, 368.98it/s]\n",
      "100%|██████████| 12/12 [00:00<00:00, 3494.77it/s]\n",
      "2024-11-06 10:51:37,508 - decision_learning.modeling.train - INFO - epoch: 73, train_loss: 23.364716042412653, val_metric: 0.6901935584966137\n",
      "2024-11-06 10:51:37,508 - decision_learning.modeling.train - INFO - epoch: 73, train_loss: 23.364716042412653, val_metric: 0.6901935584966137\n",
      "100%|██████████| 45/45 [00:00<00:00, 369.13it/s]\n",
      "100%|██████████| 12/12 [00:00<00:00, 3511.35it/s]\n",
      "2024-11-06 10:51:37,637 - decision_learning.modeling.train - INFO - epoch: 74, train_loss: 23.364716381496855, val_metric: 0.6756332841349443\n",
      "2024-11-06 10:51:37,637 - decision_learning.modeling.train - INFO - epoch: 74, train_loss: 23.364716381496855, val_metric: 0.6756332841349443\n",
      "100%|██████████| 45/45 [00:00<00:00, 368.92it/s]\n",
      "100%|██████████| 12/12 [00:00<00:00, 3498.90it/s]\n",
      "2024-11-06 10:51:37,766 - decision_learning.modeling.train - INFO - epoch: 75, train_loss: 23.364716423882378, val_metric: 0.6918782141513005\n",
      "2024-11-06 10:51:37,766 - decision_learning.modeling.train - INFO - epoch: 75, train_loss: 23.364716423882378, val_metric: 0.6918782141513005\n",
      "100%|██████████| 45/45 [00:00<00:00, 368.02it/s]\n",
      "100%|██████████| 12/12 [00:00<00:00, 3480.27it/s]\n",
      "2024-11-06 10:51:37,895 - decision_learning.modeling.train - INFO - epoch: 76, train_loss: 23.364716423882378, val_metric: 0.674732466247263\n",
      "2024-11-06 10:51:37,895 - decision_learning.modeling.train - INFO - epoch: 76, train_loss: 23.364716423882378, val_metric: 0.674732466247263\n",
      "100%|██████████| 45/45 [00:00<00:00, 368.05it/s]\n",
      "100%|██████████| 12/12 [00:00<00:00, 3502.55it/s]\n",
      "2024-11-06 10:51:38,025 - decision_learning.modeling.train - INFO - epoch: 77, train_loss: 23.3647159576416, val_metric: 0.6900665935042859\n",
      "2024-11-06 10:51:38,025 - decision_learning.modeling.train - INFO - epoch: 77, train_loss: 23.3647159576416, val_metric: 0.6900665935042859\n",
      "100%|██████████| 45/45 [00:00<00:00, 369.25it/s]\n",
      "100%|██████████| 12/12 [00:00<00:00, 3517.48it/s]\n",
      "2024-11-06 10:51:38,154 - decision_learning.modeling.train - INFO - epoch: 78, train_loss: 23.364716211954754, val_metric: 0.6851994500778386\n",
      "2024-11-06 10:51:38,154 - decision_learning.modeling.train - INFO - epoch: 78, train_loss: 23.364716211954754, val_metric: 0.6851994500778386\n",
      "100%|██████████| 45/45 [00:00<00:00, 367.45it/s]\n",
      "100%|██████████| 12/12 [00:00<00:00, 3490.16it/s]\n",
      "2024-11-06 10:51:38,283 - decision_learning.modeling.train - INFO - epoch: 79, train_loss: 23.364716211954754, val_metric: 0.679916844758333\n",
      "2024-11-06 10:51:38,283 - decision_learning.modeling.train - INFO - epoch: 79, train_loss: 23.364716211954754, val_metric: 0.679916844758333\n",
      "100%|██████████| 45/45 [00:00<00:00, 369.50it/s]\n",
      "100%|██████████| 12/12 [00:00<00:00, 3484.36it/s]\n",
      "2024-11-06 10:51:38,412 - decision_learning.modeling.train - INFO - epoch: 80, train_loss: 23.364716254340276, val_metric: 0.6867633749494017\n",
      "2024-11-06 10:51:38,412 - decision_learning.modeling.train - INFO - epoch: 80, train_loss: 23.364716254340276, val_metric: 0.6867633749494017\n",
      "100%|██████████| 45/45 [00:00<00:00, 368.25it/s]\n",
      "100%|██████████| 12/12 [00:00<00:00, 3483.40it/s]\n",
      "2024-11-06 10:51:38,542 - decision_learning.modeling.train - INFO - epoch: 81, train_loss: 23.36471608479818, val_metric: 0.6880024113575631\n",
      "2024-11-06 10:51:38,542 - decision_learning.modeling.train - INFO - epoch: 81, train_loss: 23.36471608479818, val_metric: 0.6880024113575631\n",
      "100%|██████████| 45/45 [00:00<00:00, 366.88it/s]\n",
      "100%|██████████| 12/12 [00:00<00:00, 3483.16it/s]\n",
      "2024-11-06 10:51:38,671 - decision_learning.modeling.train - INFO - epoch: 82, train_loss: 23.36471608479818, val_metric: 0.6914955452123485\n",
      "2024-11-06 10:51:38,671 - decision_learning.modeling.train - INFO - epoch: 82, train_loss: 23.36471608479818, val_metric: 0.6914955452123485\n",
      "100%|██████████| 45/45 [00:00<00:00, 361.25it/s]\n",
      "100%|██████████| 12/12 [00:00<00:00, 3508.41it/s]\n",
      "2024-11-06 10:51:38,803 - decision_learning.modeling.train - INFO - epoch: 83, train_loss: 23.36471650865343, val_metric: 0.6813476717976196\n",
      "2024-11-06 10:51:38,803 - decision_learning.modeling.train - INFO - epoch: 83, train_loss: 23.36471650865343, val_metric: 0.6813476717976196\n",
      "100%|██████████| 45/45 [00:00<00:00, 368.24it/s]\n",
      "100%|██████████| 12/12 [00:00<00:00, 3501.82it/s]\n",
      "2024-11-06 10:51:38,932 - decision_learning.modeling.train - INFO - epoch: 84, train_loss: 23.36471633911133, val_metric: 0.6794562735466434\n",
      "2024-11-06 10:51:38,932 - decision_learning.modeling.train - INFO - epoch: 84, train_loss: 23.36471633911133, val_metric: 0.6794562735466434\n",
      "100%|██████████| 45/45 [00:00<00:00, 367.87it/s]\n",
      "100%|██████████| 12/12 [00:00<00:00, 3475.22it/s]\n",
      "2024-11-06 10:51:39,062 - decision_learning.modeling.train - INFO - epoch: 85, train_loss: 23.36471608479818, val_metric: 0.681255375090622\n",
      "2024-11-06 10:51:39,062 - decision_learning.modeling.train - INFO - epoch: 85, train_loss: 23.36471608479818, val_metric: 0.681255375090622\n",
      "100%|██████████| 45/45 [00:00<00:00, 370.03it/s]\n",
      "100%|██████████| 12/12 [00:00<00:00, 3514.53it/s]\n",
      "2024-11-06 10:51:39,191 - decision_learning.modeling.train - INFO - epoch: 86, train_loss: 23.36471633911133, val_metric: 0.6867256149017832\n",
      "2024-11-06 10:51:39,191 - decision_learning.modeling.train - INFO - epoch: 86, train_loss: 23.36471633911133, val_metric: 0.6867256149017832\n",
      "100%|██████████| 45/45 [00:00<00:00, 369.09it/s]\n",
      "100%|██████████| 12/12 [00:00<00:00, 3572.66it/s]\n",
      "2024-11-06 10:51:39,319 - decision_learning.modeling.train - INFO - epoch: 87, train_loss: 23.364716296725803, val_metric: 0.689728628406944\n",
      "2024-11-06 10:51:39,319 - decision_learning.modeling.train - INFO - epoch: 87, train_loss: 23.364716296725803, val_metric: 0.689728628406944\n",
      "100%|██████████| 45/45 [00:00<00:00, 370.06it/s]\n",
      "100%|██████████| 12/12 [00:00<00:00, 3567.34it/s]\n",
      "2024-11-06 10:51:39,448 - decision_learning.modeling.train - INFO - epoch: 88, train_loss: 23.364716254340276, val_metric: 0.692077911584343\n",
      "2024-11-06 10:51:39,448 - decision_learning.modeling.train - INFO - epoch: 88, train_loss: 23.364716254340276, val_metric: 0.692077911584343\n",
      "100%|██████████| 45/45 [00:00<00:00, 369.82it/s]\n",
      "100%|██████████| 12/12 [00:00<00:00, 3567.34it/s]\n",
      "2024-11-06 10:51:39,576 - decision_learning.modeling.train - INFO - epoch: 89, train_loss: 23.364716169569228, val_metric: 0.6978392332122461\n",
      "2024-11-06 10:51:39,576 - decision_learning.modeling.train - INFO - epoch: 89, train_loss: 23.364716169569228, val_metric: 0.6978392332122461\n",
      "100%|██████████| 45/45 [00:00<00:00, 370.29it/s]\n",
      "100%|██████████| 12/12 [00:00<00:00, 3576.21it/s]\n",
      "2024-11-06 10:51:39,705 - decision_learning.modeling.train - INFO - epoch: 90, train_loss: 23.364716254340276, val_metric: 0.6941113281620666\n",
      "2024-11-06 10:51:39,705 - decision_learning.modeling.train - INFO - epoch: 90, train_loss: 23.364716254340276, val_metric: 0.6941113281620666\n",
      "100%|██████████| 45/45 [00:00<00:00, 370.64it/s]\n",
      "100%|██████████| 12/12 [00:00<00:00, 3564.06it/s]\n",
      "2024-11-06 10:51:39,833 - decision_learning.modeling.train - INFO - epoch: 91, train_loss: 23.364716296725803, val_metric: 0.6821808257073536\n",
      "2024-11-06 10:51:39,833 - decision_learning.modeling.train - INFO - epoch: 91, train_loss: 23.364716296725803, val_metric: 0.6821808257073536\n",
      "100%|██████████| 45/45 [00:00<00:00, 371.47it/s]\n",
      "100%|██████████| 12/12 [00:00<00:00, 3575.96it/s]\n",
      "2024-11-06 10:51:39,961 - decision_learning.modeling.train - INFO - epoch: 92, train_loss: 23.3647159576416, val_metric: 0.6903937627759329\n",
      "2024-11-06 10:51:39,961 - decision_learning.modeling.train - INFO - epoch: 92, train_loss: 23.3647159576416, val_metric: 0.6903937627759329\n",
      "100%|██████████| 45/45 [00:00<00:00, 372.11it/s]\n",
      "100%|██████████| 12/12 [00:00<00:00, 3562.04it/s]\n",
      "2024-11-06 10:51:40,089 - decision_learning.modeling.train - INFO - epoch: 93, train_loss: 23.36471608479818, val_metric: 0.6888085503607461\n",
      "2024-11-06 10:51:40,089 - decision_learning.modeling.train - INFO - epoch: 93, train_loss: 23.36471608479818, val_metric: 0.6888085503607461\n",
      "100%|██████████| 45/45 [00:00<00:00, 371.02it/s]\n",
      "100%|██████████| 12/12 [00:00<00:00, 3583.34it/s]\n",
      "2024-11-06 10:51:40,217 - decision_learning.modeling.train - INFO - epoch: 94, train_loss: 23.364716000027126, val_metric: 0.6885516806676854\n",
      "2024-11-06 10:51:40,217 - decision_learning.modeling.train - INFO - epoch: 94, train_loss: 23.364716000027126, val_metric: 0.6885516806676854\n",
      "100%|██████████| 45/45 [00:00<00:00, 369.29it/s]\n",
      "100%|██████████| 12/12 [00:00<00:00, 3527.10it/s]\n",
      "2024-11-06 10:51:40,346 - decision_learning.modeling.train - INFO - epoch: 95, train_loss: 23.364716211954754, val_metric: 0.6926278904792526\n",
      "2024-11-06 10:51:40,346 - decision_learning.modeling.train - INFO - epoch: 95, train_loss: 23.364716211954754, val_metric: 0.6926278904792526\n",
      "100%|██████████| 45/45 [00:00<00:00, 367.42it/s]\n",
      "100%|██████████| 12/12 [00:00<00:00, 3505.48it/s]\n",
      "2024-11-06 10:51:40,475 - decision_learning.modeling.train - INFO - epoch: 96, train_loss: 23.364716169569228, val_metric: 0.6903921408678473\n",
      "2024-11-06 10:51:40,475 - decision_learning.modeling.train - INFO - epoch: 96, train_loss: 23.364716169569228, val_metric: 0.6903921408678473\n",
      "100%|██████████| 45/45 [00:00<00:00, 366.85it/s]\n",
      "100%|██████████| 12/12 [00:00<00:00, 3493.31it/s]\n",
      "2024-11-06 10:51:40,605 - decision_learning.modeling.train - INFO - epoch: 97, train_loss: 23.364715915256077, val_metric: 0.6861560717405908\n",
      "2024-11-06 10:51:40,605 - decision_learning.modeling.train - INFO - epoch: 97, train_loss: 23.364715915256077, val_metric: 0.6861560717405908\n",
      "100%|██████████| 45/45 [00:00<00:00, 366.99it/s]\n",
      "100%|██████████| 12/12 [00:00<00:00, 3511.59it/s]\n",
      "2024-11-06 10:51:40,735 - decision_learning.modeling.train - INFO - epoch: 98, train_loss: 23.36471608479818, val_metric: 0.6866033635798293\n",
      "2024-11-06 10:51:40,735 - decision_learning.modeling.train - INFO - epoch: 98, train_loss: 23.36471608479818, val_metric: 0.6866033635798293\n",
      "100%|██████████| 45/45 [00:00<00:00, 368.03it/s]\n",
      "100%|██████████| 12/12 [00:00<00:00, 3495.25it/s]\n",
      "2024-11-06 10:51:40,864 - decision_learning.modeling.train - INFO - epoch: 99, train_loss: 23.364716254340276, val_metric: 0.6929161339568446\n",
      "2024-11-06 10:51:40,864 - decision_learning.modeling.train - INFO - epoch: 99, train_loss: 23.364716254340276, val_metric: 0.6929161339568446\n"
     ]
    },
    {
     "name": "stdout",
     "output_type": "stream",
     "text": [
      "0.15811388300841897 F\n"
     ]
    },
    {
     "name": "stderr",
     "output_type": "stream",
     "text": [
      "100%|██████████| 45/45 [00:00<00:00, 367.19it/s]\n",
      "100%|██████████| 12/12 [00:00<00:00, 3485.33it/s]\n",
      "2024-11-06 10:51:41,001 - decision_learning.modeling.train - INFO - epoch: 0, train_loss: 22.34955622355143, val_metric: 0.6982016283001277\n",
      "2024-11-06 10:51:41,001 - decision_learning.modeling.train - INFO - epoch: 0, train_loss: 22.34955622355143, val_metric: 0.6982016283001277\n",
      "100%|██████████| 45/45 [00:00<00:00, 367.23it/s]\n",
      "100%|██████████| 12/12 [00:00<00:00, 3504.01it/s]\n",
      "2024-11-06 10:51:41,131 - decision_learning.modeling.train - INFO - epoch: 1, train_loss: 22.70132369995117, val_metric: 0.6831144365491411\n",
      "2024-11-06 10:51:41,131 - decision_learning.modeling.train - INFO - epoch: 1, train_loss: 22.70132369995117, val_metric: 0.6831144365491411\n",
      "100%|██████████| 45/45 [00:00<00:00, 368.04it/s]\n",
      "100%|██████████| 12/12 [00:00<00:00, 3470.91it/s]\n",
      "2024-11-06 10:51:41,260 - decision_learning.modeling.train - INFO - epoch: 2, train_loss: 22.741004308064777, val_metric: 0.6836601579353259\n",
      "2024-11-06 10:51:41,260 - decision_learning.modeling.train - INFO - epoch: 2, train_loss: 22.741004308064777, val_metric: 0.6836601579353259\n",
      "100%|██████████| 45/45 [00:00<00:00, 367.58it/s]\n",
      "100%|██████████| 12/12 [00:00<00:00, 3489.44it/s]\n",
      "2024-11-06 10:51:41,390 - decision_learning.modeling.train - INFO - epoch: 3, train_loss: 22.839397557576497, val_metric: 0.6728745198505529\n",
      "2024-11-06 10:51:41,390 - decision_learning.modeling.train - INFO - epoch: 3, train_loss: 22.839397557576497, val_metric: 0.6728745198505529\n",
      "100%|██████████| 45/45 [00:00<00:00, 367.59it/s]\n",
      "100%|██████████| 12/12 [00:00<00:00, 3507.19it/s]\n",
      "2024-11-06 10:51:41,519 - decision_learning.modeling.train - INFO - epoch: 4, train_loss: 22.861907958984375, val_metric: 0.6691696763059659\n",
      "2024-11-06 10:51:41,519 - decision_learning.modeling.train - INFO - epoch: 4, train_loss: 22.861907958984375, val_metric: 0.6691696763059659\n",
      "100%|██████████| 45/45 [00:00<00:00, 366.45it/s]\n",
      "100%|██████████| 12/12 [00:00<00:00, 3488.23it/s]\n",
      "2024-11-06 10:51:41,649 - decision_learning.modeling.train - INFO - epoch: 5, train_loss: 23.032217703925237, val_metric: 0.6760234037141645\n",
      "2024-11-06 10:51:41,649 - decision_learning.modeling.train - INFO - epoch: 5, train_loss: 23.032217703925237, val_metric: 0.6760234037141645\n",
      "100%|██████████| 45/45 [00:00<00:00, 368.76it/s]\n",
      "100%|██████████| 12/12 [00:00<00:00, 3506.94it/s]\n",
      "2024-11-06 10:51:41,778 - decision_learning.modeling.train - INFO - epoch: 6, train_loss: 23.169815317789713, val_metric: 0.6797557183269518\n",
      "2024-11-06 10:51:41,778 - decision_learning.modeling.train - INFO - epoch: 6, train_loss: 23.169815317789713, val_metric: 0.6797557183269518\n",
      "100%|██████████| 45/45 [00:00<00:00, 368.26it/s]\n",
      "100%|██████████| 12/12 [00:00<00:00, 3502.79it/s]\n",
      "2024-11-06 10:51:41,908 - decision_learning.modeling.train - INFO - epoch: 7, train_loss: 23.046936755710178, val_metric: 0.6580136856467662\n",
      "2024-11-06 10:51:41,908 - decision_learning.modeling.train - INFO - epoch: 7, train_loss: 23.046936755710178, val_metric: 0.6580136856467662\n",
      "100%|██████████| 45/45 [00:00<00:00, 367.10it/s]\n",
      "100%|██████████| 12/12 [00:00<00:00, 3487.74it/s]\n",
      "2024-11-06 10:51:42,038 - decision_learning.modeling.train - INFO - epoch: 8, train_loss: 22.980703353881836, val_metric: 0.6724123774154054\n",
      "2024-11-06 10:51:42,038 - decision_learning.modeling.train - INFO - epoch: 8, train_loss: 22.980703353881836, val_metric: 0.6724123774154054\n",
      "100%|██████████| 45/45 [00:00<00:00, 365.60it/s]\n",
      "100%|██████████| 12/12 [00:00<00:00, 3486.05it/s]\n",
      "2024-11-06 10:51:42,168 - decision_learning.modeling.train - INFO - epoch: 9, train_loss: 23.028489515516494, val_metric: 0.6724199801095567\n",
      "2024-11-06 10:51:42,168 - decision_learning.modeling.train - INFO - epoch: 9, train_loss: 23.028489515516494, val_metric: 0.6724199801095567\n",
      "100%|██████████| 45/45 [00:00<00:00, 367.29it/s]\n",
      "100%|██████████| 12/12 [00:00<00:00, 3487.50it/s]\n",
      "2024-11-06 10:51:42,297 - decision_learning.modeling.train - INFO - epoch: 10, train_loss: 23.13294245402018, val_metric: 0.6641947773610798\n",
      "2024-11-06 10:51:42,297 - decision_learning.modeling.train - INFO - epoch: 10, train_loss: 23.13294245402018, val_metric: 0.6641947773610798\n",
      "100%|██████████| 45/45 [00:00<00:00, 366.51it/s]\n",
      "100%|██████████| 12/12 [00:00<00:00, 3257.71it/s]\n",
      "2024-11-06 10:51:42,428 - decision_learning.modeling.train - INFO - epoch: 11, train_loss: 23.12708002726237, val_metric: 0.6547124944769889\n",
      "2024-11-06 10:51:42,428 - decision_learning.modeling.train - INFO - epoch: 11, train_loss: 23.12708002726237, val_metric: 0.6547124944769889\n",
      "100%|██████████| 45/45 [00:00<00:00, 365.48it/s]\n",
      "100%|██████████| 12/12 [00:00<00:00, 3456.13it/s]\n",
      "2024-11-06 10:51:42,558 - decision_learning.modeling.train - INFO - epoch: 12, train_loss: 23.136851459079317, val_metric: 0.6626227429490886\n",
      "2024-11-06 10:51:42,558 - decision_learning.modeling.train - INFO - epoch: 12, train_loss: 23.136851459079317, val_metric: 0.6626227429490886\n",
      "100%|██████████| 45/45 [00:00<00:00, 367.25it/s]\n",
      "100%|██████████| 12/12 [00:00<00:00, 3485.33it/s]\n",
      "2024-11-06 10:51:42,688 - decision_learning.modeling.train - INFO - epoch: 13, train_loss: 23.130821906195745, val_metric: 0.6769942170726659\n",
      "2024-11-06 10:51:42,688 - decision_learning.modeling.train - INFO - epoch: 13, train_loss: 23.130821906195745, val_metric: 0.6769942170726659\n",
      "100%|██████████| 45/45 [00:00<00:00, 368.38it/s]\n",
      "100%|██████████| 12/12 [00:00<00:00, 3474.98it/s]\n",
      "2024-11-06 10:51:42,817 - decision_learning.modeling.train - INFO - epoch: 14, train_loss: 23.14324671427409, val_metric: 0.6582909812447802\n",
      "2024-11-06 10:51:42,817 - decision_learning.modeling.train - INFO - epoch: 14, train_loss: 23.14324671427409, val_metric: 0.6582909812447802\n",
      "100%|██████████| 45/45 [00:00<00:00, 366.65it/s]\n",
      "100%|██████████| 12/12 [00:00<00:00, 3477.14it/s]\n",
      "2024-11-06 10:51:42,947 - decision_learning.modeling.train - INFO - epoch: 15, train_loss: 23.208855862087674, val_metric: 0.6719453692560009\n",
      "2024-11-06 10:51:42,947 - decision_learning.modeling.train - INFO - epoch: 15, train_loss: 23.208855862087674, val_metric: 0.6719453692560009\n",
      "100%|██████████| 45/45 [00:00<00:00, 365.73it/s]\n",
      "100%|██████████| 12/12 [00:00<00:00, 3463.98it/s]\n",
      "2024-11-06 10:51:43,077 - decision_learning.modeling.train - INFO - epoch: 16, train_loss: 23.146727922227647, val_metric: 0.6658673700743798\n",
      "2024-11-06 10:51:43,077 - decision_learning.modeling.train - INFO - epoch: 16, train_loss: 23.146727922227647, val_metric: 0.6658673700743798\n",
      "100%|██████████| 45/45 [00:00<00:00, 366.02it/s]\n",
      "100%|██████████| 12/12 [00:00<00:00, 3284.50it/s]\n",
      "2024-11-06 10:51:43,208 - decision_learning.modeling.train - INFO - epoch: 17, train_loss: 23.148634423149957, val_metric: 0.6748474696674593\n",
      "2024-11-06 10:51:43,208 - decision_learning.modeling.train - INFO - epoch: 17, train_loss: 23.148634423149957, val_metric: 0.6748474696674593\n",
      "100%|██████████| 45/45 [00:00<00:00, 366.81it/s]\n",
      "100%|██████████| 12/12 [00:00<00:00, 3325.07it/s]\n",
      "2024-11-06 10:51:43,338 - decision_learning.modeling.train - INFO - epoch: 18, train_loss: 23.150990041097007, val_metric: 0.6681426030107444\n",
      "2024-11-06 10:51:43,338 - decision_learning.modeling.train - INFO - epoch: 18, train_loss: 23.150990041097007, val_metric: 0.6681426030107444\n",
      "100%|██████████| 45/45 [00:00<00:00, 366.56it/s]\n",
      "100%|██████████| 12/12 [00:00<00:00, 3477.14it/s]\n",
      "2024-11-06 10:51:43,468 - decision_learning.modeling.train - INFO - epoch: 19, train_loss: 23.148637051052518, val_metric: 0.6709367958498811\n",
      "2024-11-06 10:51:43,468 - decision_learning.modeling.train - INFO - epoch: 19, train_loss: 23.148637051052518, val_metric: 0.6709367958498811\n",
      "100%|██████████| 45/45 [00:00<00:00, 366.83it/s]\n",
      "100%|██████████| 12/12 [00:00<00:00, 3487.02it/s]\n",
      "2024-11-06 10:51:43,598 - decision_learning.modeling.train - INFO - epoch: 20, train_loss: 23.151413218180338, val_metric: 0.6622068248943813\n",
      "2024-11-06 10:51:43,598 - decision_learning.modeling.train - INFO - epoch: 20, train_loss: 23.151413218180338, val_metric: 0.6622068248943813\n",
      "100%|██████████| 45/45 [00:00<00:00, 367.02it/s]\n",
      "100%|██████████| 12/12 [00:00<00:00, 3488.71it/s]\n",
      "2024-11-06 10:51:43,728 - decision_learning.modeling.train - INFO - epoch: 21, train_loss: 23.15250913831923, val_metric: 0.678258950587059\n",
      "2024-11-06 10:51:43,728 - decision_learning.modeling.train - INFO - epoch: 21, train_loss: 23.15250913831923, val_metric: 0.678258950587059\n",
      "100%|██████████| 45/45 [00:00<00:00, 365.96it/s]\n",
      "100%|██████████| 12/12 [00:00<00:00, 3284.50it/s]\n",
      "2024-11-06 10:51:43,858 - decision_learning.modeling.train - INFO - epoch: 22, train_loss: 23.153106265597874, val_metric: 0.6674840069587257\n",
      "2024-11-06 10:51:43,858 - decision_learning.modeling.train - INFO - epoch: 22, train_loss: 23.153106265597874, val_metric: 0.6674840069587257\n",
      "100%|██████████| 45/45 [00:00<00:00, 366.78it/s]\n",
      "100%|██████████| 12/12 [00:00<00:00, 3487.50it/s]\n",
      "2024-11-06 10:51:43,988 - decision_learning.modeling.train - INFO - epoch: 23, train_loss: 23.15315734015571, val_metric: 0.6775337549342744\n",
      "2024-11-06 10:51:43,988 - decision_learning.modeling.train - INFO - epoch: 23, train_loss: 23.15315734015571, val_metric: 0.6775337549342744\n",
      "100%|██████████| 45/45 [00:00<00:00, 366.66it/s]\n",
      "100%|██████████| 12/12 [00:00<00:00, 3500.11it/s]\n",
      "2024-11-06 10:51:44,118 - decision_learning.modeling.train - INFO - epoch: 24, train_loss: 23.15315738254123, val_metric: 0.6799092420641816\n",
      "2024-11-06 10:51:44,118 - decision_learning.modeling.train - INFO - epoch: 24, train_loss: 23.15315738254123, val_metric: 0.6799092420641816\n",
      "100%|██████████| 45/45 [00:00<00:00, 367.15it/s]\n",
      "100%|██████████| 12/12 [00:00<00:00, 3474.74it/s]\n",
      "2024-11-06 10:51:44,248 - decision_learning.modeling.train - INFO - epoch: 25, train_loss: 23.153157467312283, val_metric: 0.6746444777336179\n",
      "2024-11-06 10:51:44,248 - decision_learning.modeling.train - INFO - epoch: 25, train_loss: 23.153157467312283, val_metric: 0.6746444777336179\n",
      "100%|██████████| 45/45 [00:00<00:00, 365.19it/s]\n",
      "100%|██████████| 12/12 [00:00<00:00, 3467.08it/s]\n",
      "2024-11-06 10:51:44,378 - decision_learning.modeling.train - INFO - epoch: 26, train_loss: 23.153157170613607, val_metric: 0.6701027803014765\n",
      "2024-11-06 10:51:44,378 - decision_learning.modeling.train - INFO - epoch: 26, train_loss: 23.153157170613607, val_metric: 0.6701027803014765\n",
      "100%|██████████| 45/45 [00:00<00:00, 367.22it/s]\n",
      "100%|██████████| 12/12 [00:00<00:00, 3461.84it/s]\n",
      "2024-11-06 10:51:44,508 - decision_learning.modeling.train - INFO - epoch: 27, train_loss: 23.15315793355306, val_metric: 0.6780256492458675\n",
      "2024-11-06 10:51:44,508 - decision_learning.modeling.train - INFO - epoch: 27, train_loss: 23.15315793355306, val_metric: 0.6780256492458675\n",
      "100%|██████████| 45/45 [00:00<00:00, 366.13it/s]\n",
      "100%|██████████| 12/12 [00:00<00:00, 3283.00it/s]\n",
      "2024-11-06 10:51:44,638 - decision_learning.modeling.train - INFO - epoch: 28, train_loss: 23.153157424926757, val_metric: 0.6477154309417232\n",
      "2024-11-06 10:51:44,638 - decision_learning.modeling.train - INFO - epoch: 28, train_loss: 23.153157424926757, val_metric: 0.6477154309417232\n",
      "100%|██████████| 45/45 [00:00<00:00, 366.28it/s]\n",
      "100%|██████████| 12/12 [00:00<00:00, 3486.05it/s]\n",
      "2024-11-06 10:51:44,768 - decision_learning.modeling.train - INFO - epoch: 29, train_loss: 23.15315738254123, val_metric: 0.6687342953542311\n",
      "2024-11-06 10:51:44,768 - decision_learning.modeling.train - INFO - epoch: 29, train_loss: 23.15315738254123, val_metric: 0.6687342953542311\n",
      "100%|██████████| 45/45 [00:00<00:00, 365.24it/s]\n",
      "100%|██████████| 12/12 [00:00<00:00, 3476.90it/s]\n",
      "2024-11-06 10:51:44,899 - decision_learning.modeling.train - INFO - epoch: 30, train_loss: 23.153157255384656, val_metric: 0.6800315440707632\n",
      "2024-11-06 10:51:44,899 - decision_learning.modeling.train - INFO - epoch: 30, train_loss: 23.153157255384656, val_metric: 0.6800315440707632\n",
      "100%|██████████| 45/45 [00:00<00:00, 365.62it/s]\n",
      "100%|██████████| 12/12 [00:00<00:00, 3470.43it/s]\n",
      "2024-11-06 10:51:45,029 - decision_learning.modeling.train - INFO - epoch: 31, train_loss: 23.15315784878201, val_metric: 0.6650914391092916\n",
      "2024-11-06 10:51:45,029 - decision_learning.modeling.train - INFO - epoch: 31, train_loss: 23.15315784878201, val_metric: 0.6650914391092916\n",
      "100%|██████████| 45/45 [00:00<00:00, 365.77it/s]\n",
      "100%|██████████| 12/12 [00:00<00:00, 3474.98it/s]\n",
      "2024-11-06 10:51:45,159 - decision_learning.modeling.train - INFO - epoch: 32, train_loss: 23.15315750969781, val_metric: 0.674373568398691\n",
      "2024-11-06 10:51:45,159 - decision_learning.modeling.train - INFO - epoch: 32, train_loss: 23.15315750969781, val_metric: 0.674373568398691\n",
      "100%|██████████| 45/45 [00:00<00:00, 366.16it/s]\n",
      "100%|██████████| 12/12 [00:00<00:00, 3469.71it/s]\n",
      "2024-11-06 10:51:45,289 - decision_learning.modeling.train - INFO - epoch: 33, train_loss: 23.15315738254123, val_metric: 0.6470823799420531\n",
      "2024-11-06 10:51:45,289 - decision_learning.modeling.train - INFO - epoch: 33, train_loss: 23.15315738254123, val_metric: 0.6470823799420531\n",
      "100%|██████████| 45/45 [00:00<00:00, 365.36it/s]\n",
      "100%|██████████| 12/12 [00:00<00:00, 3461.84it/s]\n",
      "2024-11-06 10:51:45,420 - decision_learning.modeling.train - INFO - epoch: 34, train_loss: 23.153157806396486, val_metric: 0.6600515117870975\n",
      "2024-11-06 10:51:45,420 - decision_learning.modeling.train - INFO - epoch: 34, train_loss: 23.153157806396486, val_metric: 0.6600515117870975\n",
      "100%|██████████| 45/45 [00:00<00:00, 365.80it/s]\n",
      "100%|██████████| 12/12 [00:00<00:00, 3472.59it/s]\n",
      "2024-11-06 10:51:45,550 - decision_learning.modeling.train - INFO - epoch: 35, train_loss: 23.15315734015571, val_metric: 0.6733775140956071\n",
      "2024-11-06 10:51:45,550 - decision_learning.modeling.train - INFO - epoch: 35, train_loss: 23.15315734015571, val_metric: 0.6733775140956071\n",
      "100%|██████████| 45/45 [00:00<00:00, 365.15it/s]\n",
      "100%|██████████| 12/12 [00:00<00:00, 3468.52it/s]\n",
      "2024-11-06 10:51:45,680 - decision_learning.modeling.train - INFO - epoch: 36, train_loss: 23.153157721625433, val_metric: 0.653356275209641\n",
      "2024-11-06 10:51:45,680 - decision_learning.modeling.train - INFO - epoch: 36, train_loss: 23.153157721625433, val_metric: 0.653356275209641\n",
      "100%|██████████| 45/45 [00:00<00:00, 366.09it/s]\n",
      "100%|██████████| 12/12 [00:00<00:00, 3476.18it/s]\n",
      "2024-11-06 10:51:45,810 - decision_learning.modeling.train - INFO - epoch: 37, train_loss: 23.153157636854385, val_metric: 0.6648572761294296\n",
      "2024-11-06 10:51:45,810 - decision_learning.modeling.train - INFO - epoch: 37, train_loss: 23.153157636854385, val_metric: 0.6648572761294296\n",
      "100%|██████████| 45/45 [00:00<00:00, 365.37it/s]\n",
      "100%|██████████| 12/12 [00:00<00:00, 3464.22it/s]\n",
      "2024-11-06 10:51:45,941 - decision_learning.modeling.train - INFO - epoch: 38, train_loss: 23.15315738254123, val_metric: 0.6657115148442768\n",
      "2024-11-06 10:51:45,941 - decision_learning.modeling.train - INFO - epoch: 38, train_loss: 23.15315738254123, val_metric: 0.6657115148442768\n",
      "100%|██████████| 45/45 [00:00<00:00, 365.55it/s]\n",
      "100%|██████████| 12/12 [00:00<00:00, 3470.91it/s]\n",
      "2024-11-06 10:51:46,071 - decision_learning.modeling.train - INFO - epoch: 39, train_loss: 23.153157467312283, val_metric: 0.6662262679229518\n",
      "2024-11-06 10:51:46,071 - decision_learning.modeling.train - INFO - epoch: 39, train_loss: 23.153157467312283, val_metric: 0.6662262679229518\n",
      "100%|██████████| 45/45 [00:00<00:00, 366.39it/s]\n",
      "100%|██████████| 12/12 [00:00<00:00, 3484.36it/s]\n",
      "2024-11-06 10:51:46,201 - decision_learning.modeling.train - INFO - epoch: 40, train_loss: 23.153157467312283, val_metric: 0.6704620836270699\n",
      "2024-11-06 10:51:46,201 - decision_learning.modeling.train - INFO - epoch: 40, train_loss: 23.153157467312283, val_metric: 0.6704620836270699\n",
      "100%|██████████| 45/45 [00:00<00:00, 367.42it/s]\n",
      "100%|██████████| 12/12 [00:00<00:00, 3518.71it/s]\n",
      "2024-11-06 10:51:46,331 - decision_learning.modeling.train - INFO - epoch: 41, train_loss: 23.15315759446886, val_metric: 0.6708274691079845\n",
      "2024-11-06 10:51:46,331 - decision_learning.modeling.train - INFO - epoch: 41, train_loss: 23.15315759446886, val_metric: 0.6708274691079845\n",
      "100%|██████████| 45/45 [00:00<00:00, 368.48it/s]\n",
      "100%|██████████| 12/12 [00:00<00:00, 3504.50it/s]\n",
      "2024-11-06 10:51:46,460 - decision_learning.modeling.train - INFO - epoch: 42, train_loss: 23.15315750969781, val_metric: 0.6815656663812529\n",
      "2024-11-06 10:51:46,460 - decision_learning.modeling.train - INFO - epoch: 42, train_loss: 23.15315750969781, val_metric: 0.6815656663812529\n",
      "100%|██████████| 45/45 [00:00<00:00, 368.18it/s]\n",
      "100%|██████████| 12/12 [00:00<00:00, 3495.50it/s]\n",
      "2024-11-06 10:51:46,589 - decision_learning.modeling.train - INFO - epoch: 43, train_loss: 23.153157297770182, val_metric: 0.6756719565058609\n",
      "2024-11-06 10:51:46,589 - decision_learning.modeling.train - INFO - epoch: 43, train_loss: 23.153157297770182, val_metric: 0.6756719565058609\n",
      "100%|██████████| 45/45 [00:00<00:00, 368.12it/s]\n",
      "100%|██████████| 12/12 [00:00<00:00, 3516.74it/s]\n",
      "2024-11-06 10:51:46,718 - decision_learning.modeling.train - INFO - epoch: 44, train_loss: 23.15315776401096, val_metric: 0.6730545516480572\n",
      "2024-11-06 10:51:46,718 - decision_learning.modeling.train - INFO - epoch: 44, train_loss: 23.15315776401096, val_metric: 0.6730545516480572\n",
      "100%|██████████| 45/45 [00:00<00:00, 367.99it/s]\n",
      "100%|██████████| 12/12 [00:00<00:00, 3469.47it/s]\n",
      "2024-11-06 10:51:46,848 - decision_learning.modeling.train - INFO - epoch: 45, train_loss: 23.15315738254123, val_metric: 0.6677065631588499\n",
      "2024-11-06 10:51:46,848 - decision_learning.modeling.train - INFO - epoch: 45, train_loss: 23.15315738254123, val_metric: 0.6677065631588499\n",
      "100%|██████████| 45/45 [00:00<00:00, 367.35it/s]\n",
      "100%|██████████| 12/12 [00:00<00:00, 3473.78it/s]\n",
      "2024-11-06 10:51:46,978 - decision_learning.modeling.train - INFO - epoch: 46, train_loss: 23.15315776401096, val_metric: 0.6769476378998319\n",
      "2024-11-06 10:51:46,978 - decision_learning.modeling.train - INFO - epoch: 46, train_loss: 23.15315776401096, val_metric: 0.6769476378998319\n",
      "100%|██████████| 45/45 [00:00<00:00, 368.40it/s]\n",
      "100%|██████████| 12/12 [00:00<00:00, 3495.50it/s]\n",
      "2024-11-06 10:51:47,107 - decision_learning.modeling.train - INFO - epoch: 47, train_loss: 23.153157424926757, val_metric: 0.6573501731858629\n",
      "2024-11-06 10:51:47,107 - decision_learning.modeling.train - INFO - epoch: 47, train_loss: 23.153157424926757, val_metric: 0.6573501731858629\n",
      "100%|██████████| 45/45 [00:00<00:00, 367.01it/s]\n",
      "100%|██████████| 12/12 [00:00<00:00, 3296.76it/s]\n",
      "2024-11-06 10:51:47,237 - decision_learning.modeling.train - INFO - epoch: 48, train_loss: 23.15315750969781, val_metric: 0.6663454274826175\n",
      "2024-11-06 10:51:47,237 - decision_learning.modeling.train - INFO - epoch: 48, train_loss: 23.15315750969781, val_metric: 0.6663454274826175\n",
      "100%|██████████| 45/45 [00:00<00:00, 367.83it/s]\n",
      "100%|██████████| 12/12 [00:00<00:00, 3476.90it/s]\n",
      "2024-11-06 10:51:47,366 - decision_learning.modeling.train - INFO - epoch: 49, train_loss: 23.15315750969781, val_metric: 0.6670794929452454\n",
      "2024-11-06 10:51:47,366 - decision_learning.modeling.train - INFO - epoch: 49, train_loss: 23.15315750969781, val_metric: 0.6670794929452454\n",
      "100%|██████████| 45/45 [00:00<00:00, 368.67it/s]\n",
      "100%|██████████| 12/12 [00:00<00:00, 3480.75it/s]\n",
      "2024-11-06 10:51:47,495 - decision_learning.modeling.train - INFO - epoch: 50, train_loss: 23.15315801832411, val_metric: 0.6596666127245279\n",
      "2024-11-06 10:51:47,495 - decision_learning.modeling.train - INFO - epoch: 50, train_loss: 23.15315801832411, val_metric: 0.6596666127245279\n",
      "100%|██████████| 45/45 [00:00<00:00, 367.67it/s]\n",
      "100%|██████████| 12/12 [00:00<00:00, 3504.99it/s]\n",
      "2024-11-06 10:51:47,625 - decision_learning.modeling.train - INFO - epoch: 51, train_loss: 23.15315734015571, val_metric: 0.661533783723475\n",
      "2024-11-06 10:51:47,625 - decision_learning.modeling.train - INFO - epoch: 51, train_loss: 23.15315734015571, val_metric: 0.661533783723475\n",
      "100%|██████████| 45/45 [00:00<00:00, 368.87it/s]\n",
      "100%|██████████| 12/12 [00:00<00:00, 3440.77it/s]\n",
      "2024-11-06 10:51:47,754 - decision_learning.modeling.train - INFO - epoch: 52, train_loss: 23.15315734015571, val_metric: 0.674949751246109\n",
      "2024-11-06 10:51:47,754 - decision_learning.modeling.train - INFO - epoch: 52, train_loss: 23.15315734015571, val_metric: 0.674949751246109\n",
      "100%|██████████| 45/45 [00:00<00:00, 368.10it/s]\n",
      "100%|██████████| 12/12 [00:00<00:00, 3485.57it/s]\n",
      "2024-11-06 10:51:47,884 - decision_learning.modeling.train - INFO - epoch: 53, train_loss: 23.153157467312283, val_metric: 0.6573920893729507\n",
      "2024-11-06 10:51:47,884 - decision_learning.modeling.train - INFO - epoch: 53, train_loss: 23.153157467312283, val_metric: 0.6573920893729507\n",
      "100%|██████████| 45/45 [00:00<00:00, 368.02it/s]\n",
      "100%|██████████| 12/12 [00:00<00:00, 3469.23it/s]\n",
      "2024-11-06 10:51:48,013 - decision_learning.modeling.train - INFO - epoch: 54, train_loss: 23.15315776401096, val_metric: 0.6516783606104352\n",
      "2024-11-06 10:51:48,013 - decision_learning.modeling.train - INFO - epoch: 54, train_loss: 23.15315776401096, val_metric: 0.6516783606104352\n",
      "100%|██████████| 45/45 [00:00<00:00, 367.69it/s]\n",
      "100%|██████████| 12/12 [00:00<00:00, 3476.90it/s]\n",
      "2024-11-06 10:51:48,143 - decision_learning.modeling.train - INFO - epoch: 55, train_loss: 23.15315793355306, val_metric: 0.6640592973513025\n",
      "2024-11-06 10:51:48,143 - decision_learning.modeling.train - INFO - epoch: 55, train_loss: 23.15315793355306, val_metric: 0.6640592973513025\n",
      "100%|██████████| 45/45 [00:00<00:00, 368.66it/s]\n",
      "100%|██████████| 12/12 [00:00<00:00, 3499.38it/s]\n",
      "2024-11-06 10:51:48,272 - decision_learning.modeling.train - INFO - epoch: 56, train_loss: 23.15315734015571, val_metric: 0.6701029830399873\n",
      "2024-11-06 10:51:48,272 - decision_learning.modeling.train - INFO - epoch: 56, train_loss: 23.15315734015571, val_metric: 0.6701029830399873\n",
      "100%|██████████| 45/45 [00:00<00:00, 368.61it/s]\n",
      "100%|██████████| 12/12 [00:00<00:00, 3514.04it/s]\n",
      "2024-11-06 10:51:48,401 - decision_learning.modeling.train - INFO - epoch: 57, train_loss: 23.15315759446886, val_metric: 0.6730743693374783\n",
      "2024-11-06 10:51:48,401 - decision_learning.modeling.train - INFO - epoch: 57, train_loss: 23.15315759446886, val_metric: 0.6730743693374783\n",
      "100%|██████████| 45/45 [00:00<00:00, 337.87it/s]\n",
      "100%|██████████| 12/12 [00:00<00:00, 3560.53it/s]\n",
      "2024-11-06 10:51:48,541 - decision_learning.modeling.train - INFO - epoch: 58, train_loss: 23.15315750969781, val_metric: 0.6586929610268766\n",
      "2024-11-06 10:51:48,541 - decision_learning.modeling.train - INFO - epoch: 58, train_loss: 23.15315750969781, val_metric: 0.6586929610268766\n",
      "100%|██████████| 45/45 [00:00<00:00, 369.64it/s]\n",
      "100%|██████████| 12/12 [00:00<00:00, 3540.49it/s]\n",
      "2024-11-06 10:51:48,670 - decision_learning.modeling.train - INFO - epoch: 59, train_loss: 23.153157721625433, val_metric: 0.6645638628198147\n",
      "2024-11-06 10:51:48,670 - decision_learning.modeling.train - INFO - epoch: 59, train_loss: 23.153157721625433, val_metric: 0.6645638628198147\n",
      "100%|██████████| 45/45 [00:00<00:00, 367.61it/s]\n",
      "100%|██████████| 12/12 [00:00<00:00, 3444.07it/s]\n",
      "2024-11-06 10:51:48,799 - decision_learning.modeling.train - INFO - epoch: 60, train_loss: 23.153157552083332, val_metric: 0.6615293741608672\n",
      "2024-11-06 10:51:48,799 - decision_learning.modeling.train - INFO - epoch: 60, train_loss: 23.153157552083332, val_metric: 0.6615293741608672\n",
      "100%|██████████| 45/45 [00:00<00:00, 361.49it/s]\n",
      "100%|██████████| 12/12 [00:00<00:00, 3493.80it/s]\n",
      "2024-11-06 10:51:48,931 - decision_learning.modeling.train - INFO - epoch: 61, train_loss: 23.153157297770182, val_metric: 0.6562422579094985\n",
      "2024-11-06 10:51:48,931 - decision_learning.modeling.train - INFO - epoch: 61, train_loss: 23.153157297770182, val_metric: 0.6562422579094985\n",
      "100%|██████████| 45/45 [00:00<00:00, 367.87it/s]\n",
      "100%|██████████| 12/12 [00:00<00:00, 3446.90it/s]\n",
      "2024-11-06 10:51:49,060 - decision_learning.modeling.train - INFO - epoch: 62, train_loss: 23.153157297770182, val_metric: 0.6752781369488202\n",
      "2024-11-06 10:51:49,060 - decision_learning.modeling.train - INFO - epoch: 62, train_loss: 23.153157297770182, val_metric: 0.6752781369488202\n",
      "100%|██████████| 45/45 [00:00<00:00, 366.12it/s]\n",
      "100%|██████████| 12/12 [00:00<00:00, 3470.43it/s]\n",
      "2024-11-06 10:51:49,191 - decision_learning.modeling.train - INFO - epoch: 63, train_loss: 23.153157552083332, val_metric: 0.6653603210591115\n",
      "2024-11-06 10:51:49,191 - decision_learning.modeling.train - INFO - epoch: 63, train_loss: 23.153157552083332, val_metric: 0.6653603210591115\n",
      "100%|██████████| 45/45 [00:00<00:00, 366.17it/s]\n",
      "100%|██████████| 12/12 [00:00<00:00, 3458.51it/s]\n",
      "2024-11-06 10:51:49,321 - decision_learning.modeling.train - INFO - epoch: 64, train_loss: 23.15315734015571, val_metric: 0.6661159781731293\n",
      "2024-11-06 10:51:49,321 - decision_learning.modeling.train - INFO - epoch: 64, train_loss: 23.15315734015571, val_metric: 0.6661159781731293\n",
      "100%|██████████| 45/45 [00:00<00:00, 365.40it/s]\n",
      "100%|██████████| 12/12 [00:00<00:00, 3469.23it/s]\n",
      "2024-11-06 10:51:49,451 - decision_learning.modeling.train - INFO - epoch: 65, train_loss: 23.153157552083332, val_metric: 0.6749748908214361\n",
      "2024-11-06 10:51:49,451 - decision_learning.modeling.train - INFO - epoch: 65, train_loss: 23.153157552083332, val_metric: 0.6749748908214361\n",
      "100%|██████████| 45/45 [00:00<00:00, 364.36it/s]\n",
      "100%|██████████| 12/12 [00:00<00:00, 3462.55it/s]\n",
      "2024-11-06 10:51:49,582 - decision_learning.modeling.train - INFO - epoch: 66, train_loss: 23.15315738254123, val_metric: 0.6479542569073314\n",
      "2024-11-06 10:51:49,582 - decision_learning.modeling.train - INFO - epoch: 66, train_loss: 23.15315738254123, val_metric: 0.6479542569073314\n",
      "100%|██████████| 45/45 [00:00<00:00, 366.08it/s]\n",
      "100%|██████████| 12/12 [00:00<00:00, 3473.54it/s]\n",
      "2024-11-06 10:51:49,712 - decision_learning.modeling.train - INFO - epoch: 67, train_loss: 23.153157679239907, val_metric: 0.6892081986499694\n",
      "2024-11-06 10:51:49,712 - decision_learning.modeling.train - INFO - epoch: 67, train_loss: 23.153157679239907, val_metric: 0.6892081986499694\n",
      "100%|██████████| 45/45 [00:00<00:00, 365.83it/s]\n",
      "100%|██████████| 12/12 [00:00<00:00, 3439.83it/s]\n",
      "2024-11-06 10:51:49,842 - decision_learning.modeling.train - INFO - epoch: 68, train_loss: 23.153157636854385, val_metric: 0.6692517854028006\n",
      "2024-11-06 10:51:49,842 - decision_learning.modeling.train - INFO - epoch: 68, train_loss: 23.153157636854385, val_metric: 0.6692517854028006\n",
      "100%|██████████| 45/45 [00:00<00:00, 365.81it/s]\n",
      "100%|██████████| 12/12 [00:00<00:00, 3476.42it/s]\n",
      "2024-11-06 10:51:49,972 - decision_learning.modeling.train - INFO - epoch: 69, train_loss: 23.153157806396486, val_metric: 0.6705386174148603\n",
      "2024-11-06 10:51:49,972 - decision_learning.modeling.train - INFO - epoch: 69, train_loss: 23.153157806396486, val_metric: 0.6705386174148603\n",
      "100%|██████████| 45/45 [00:00<00:00, 364.36it/s]\n",
      "100%|██████████| 12/12 [00:00<00:00, 3406.08it/s]\n",
      "2024-11-06 10:51:50,103 - decision_learning.modeling.train - INFO - epoch: 70, train_loss: 23.153157467312283, val_metric: 0.6711798286395864\n",
      "2024-11-06 10:51:50,103 - decision_learning.modeling.train - INFO - epoch: 70, train_loss: 23.153157467312283, val_metric: 0.6711798286395864\n",
      "100%|██████████| 45/45 [00:00<00:00, 364.90it/s]\n",
      "100%|██████████| 12/12 [00:00<00:00, 3482.20it/s]\n",
      "2024-11-06 10:51:50,234 - decision_learning.modeling.train - INFO - epoch: 71, train_loss: 23.153157679239907, val_metric: 0.6636666435406985\n",
      "2024-11-06 10:51:50,234 - decision_learning.modeling.train - INFO - epoch: 71, train_loss: 23.153157679239907, val_metric: 0.6636666435406985\n",
      "100%|██████████| 45/45 [00:00<00:00, 366.19it/s]\n",
      "100%|██████████| 12/12 [00:00<00:00, 3440.07it/s]\n",
      "2024-11-06 10:51:50,364 - decision_learning.modeling.train - INFO - epoch: 72, train_loss: 23.153157636854385, val_metric: 0.6667377265008279\n",
      "2024-11-06 10:51:50,364 - decision_learning.modeling.train - INFO - epoch: 72, train_loss: 23.153157636854385, val_metric: 0.6667377265008279\n",
      "100%|██████████| 45/45 [00:00<00:00, 362.97it/s]\n",
      "100%|██████████| 12/12 [00:00<00:00, 3460.41it/s]\n",
      "2024-11-06 10:51:50,495 - decision_learning.modeling.train - INFO - epoch: 73, train_loss: 23.153157679239907, val_metric: 0.659270968520891\n",
      "2024-11-06 10:51:50,495 - decision_learning.modeling.train - INFO - epoch: 73, train_loss: 23.153157679239907, val_metric: 0.659270968520891\n",
      "100%|██████████| 45/45 [00:00<00:00, 365.55it/s]\n",
      "100%|██████████| 12/12 [00:00<00:00, 3262.78it/s]\n",
      "2024-11-06 10:51:50,626 - decision_learning.modeling.train - INFO - epoch: 74, train_loss: 23.15315776401096, val_metric: 0.6613284602967605\n",
      "2024-11-06 10:51:50,626 - decision_learning.modeling.train - INFO - epoch: 74, train_loss: 23.15315776401096, val_metric: 0.6613284602967605\n",
      "100%|██████████| 45/45 [00:00<00:00, 365.22it/s]\n",
      "100%|██████████| 12/12 [00:00<00:00, 3420.43it/s]\n",
      "2024-11-06 10:51:50,756 - decision_learning.modeling.train - INFO - epoch: 75, train_loss: 23.153157679239907, val_metric: 0.6638842326473104\n",
      "2024-11-06 10:51:50,756 - decision_learning.modeling.train - INFO - epoch: 75, train_loss: 23.153157679239907, val_metric: 0.6638842326473104\n",
      "100%|██████████| 45/45 [00:00<00:00, 364.47it/s]\n",
      "100%|██████████| 12/12 [00:00<00:00, 3451.39it/s]\n",
      "2024-11-06 10:51:50,887 - decision_learning.modeling.train - INFO - epoch: 76, train_loss: 23.15315750969781, val_metric: 0.6628261910445791\n",
      "2024-11-06 10:51:50,887 - decision_learning.modeling.train - INFO - epoch: 76, train_loss: 23.15315750969781, val_metric: 0.6628261910445791\n",
      "100%|██████████| 45/45 [00:00<00:00, 365.50it/s]\n",
      "100%|██████████| 12/12 [00:00<00:00, 3493.56it/s]\n",
      "2024-11-06 10:51:51,018 - decision_learning.modeling.train - INFO - epoch: 77, train_loss: 23.15315750969781, val_metric: 0.6452243321760875\n",
      "2024-11-06 10:51:51,018 - decision_learning.modeling.train - INFO - epoch: 77, train_loss: 23.15315750969781, val_metric: 0.6452243321760875\n",
      "100%|██████████| 45/45 [00:00<00:00, 364.47it/s]\n",
      "100%|██████████| 12/12 [00:00<00:00, 3466.61it/s]\n",
      "2024-11-06 10:51:51,148 - decision_learning.modeling.train - INFO - epoch: 78, train_loss: 23.15315750969781, val_metric: 0.6712612788362613\n",
      "2024-11-06 10:51:51,148 - decision_learning.modeling.train - INFO - epoch: 78, train_loss: 23.15315750969781, val_metric: 0.6712612788362613\n",
      "100%|██████████| 45/45 [00:00<00:00, 365.27it/s]\n",
      "100%|██████████| 12/12 [00:00<00:00, 3479.31it/s]\n",
      "2024-11-06 10:51:51,279 - decision_learning.modeling.train - INFO - epoch: 79, train_loss: 23.153157636854385, val_metric: 0.6455384754984219\n",
      "2024-11-06 10:51:51,279 - decision_learning.modeling.train - INFO - epoch: 79, train_loss: 23.153157636854385, val_metric: 0.6455384754984219\n",
      "100%|██████████| 45/45 [00:00<00:00, 366.52it/s]\n",
      "100%|██████████| 12/12 [00:00<00:00, 3463.98it/s]\n",
      "2024-11-06 10:51:51,409 - decision_learning.modeling.train - INFO - epoch: 80, train_loss: 23.153157636854385, val_metric: 0.6569732316098382\n",
      "2024-11-06 10:51:51,409 - decision_learning.modeling.train - INFO - epoch: 80, train_loss: 23.153157636854385, val_metric: 0.6569732316098382\n",
      "100%|██████████| 45/45 [00:00<00:00, 365.96it/s]\n",
      "100%|██████████| 12/12 [00:00<00:00, 3478.10it/s]\n",
      "2024-11-06 10:51:51,539 - decision_learning.modeling.train - INFO - epoch: 81, train_loss: 23.15315776401096, val_metric: 0.6807660150104126\n",
      "2024-11-06 10:51:51,539 - decision_learning.modeling.train - INFO - epoch: 81, train_loss: 23.15315776401096, val_metric: 0.6807660150104126\n",
      "100%|██████████| 45/45 [00:00<00:00, 365.17it/s]\n",
      "100%|██████████| 12/12 [00:00<00:00, 3446.66it/s]\n",
      "2024-11-06 10:51:51,669 - decision_learning.modeling.train - INFO - epoch: 82, train_loss: 23.15315750969781, val_metric: 0.6651233197400996\n",
      "2024-11-06 10:51:51,669 - decision_learning.modeling.train - INFO - epoch: 82, train_loss: 23.15315750969781, val_metric: 0.6651233197400996\n",
      "100%|██████████| 45/45 [00:00<00:00, 363.45it/s]\n",
      "100%|██████████| 12/12 [00:00<00:00, 3283.86it/s]\n",
      "2024-11-06 10:51:51,801 - decision_learning.modeling.train - INFO - epoch: 83, train_loss: 23.153157679239907, val_metric: 0.6644586922173875\n",
      "2024-11-06 10:51:51,801 - decision_learning.modeling.train - INFO - epoch: 83, train_loss: 23.153157679239907, val_metric: 0.6644586922173875\n",
      "100%|██████████| 45/45 [00:00<00:00, 365.84it/s]\n",
      "100%|██████████| 12/12 [00:00<00:00, 3458.51it/s]\n",
      "2024-11-06 10:51:51,931 - decision_learning.modeling.train - INFO - epoch: 84, train_loss: 23.153157467312283, val_metric: 0.6709278246707825\n",
      "2024-11-06 10:51:51,931 - decision_learning.modeling.train - INFO - epoch: 84, train_loss: 23.153157467312283, val_metric: 0.6709278246707825\n",
      "100%|██████████| 45/45 [00:00<00:00, 365.49it/s]\n",
      "100%|██████████| 12/12 [00:00<00:00, 3483.64it/s]\n",
      "2024-11-06 10:51:52,061 - decision_learning.modeling.train - INFO - epoch: 85, train_loss: 23.153157297770182, val_metric: 0.6616096079264779\n",
      "2024-11-06 10:51:52,061 - decision_learning.modeling.train - INFO - epoch: 85, train_loss: 23.153157297770182, val_metric: 0.6616096079264779\n",
      "100%|██████████| 45/45 [00:00<00:00, 364.92it/s]\n",
      "100%|██████████| 12/12 [00:00<00:00, 3445.49it/s]\n",
      "2024-11-06 10:51:52,192 - decision_learning.modeling.train - INFO - epoch: 86, train_loss: 23.153157679239907, val_metric: 0.6823923833432722\n",
      "2024-11-06 10:51:52,192 - decision_learning.modeling.train - INFO - epoch: 86, train_loss: 23.153157679239907, val_metric: 0.6823923833432722\n",
      "100%|██████████| 45/45 [00:00<00:00, 365.15it/s]\n",
      "100%|██████████| 12/12 [00:00<00:00, 3461.60it/s]\n",
      "2024-11-06 10:51:52,322 - decision_learning.modeling.train - INFO - epoch: 87, train_loss: 23.153157806396486, val_metric: 0.654384210143533\n",
      "2024-11-06 10:51:52,322 - decision_learning.modeling.train - INFO - epoch: 87, train_loss: 23.153157806396486, val_metric: 0.654384210143533\n",
      "100%|██████████| 45/45 [00:00<00:00, 367.42it/s]\n",
      "100%|██████████| 12/12 [00:00<00:00, 3455.42it/s]\n",
      "2024-11-06 10:51:52,452 - decision_learning.modeling.train - INFO - epoch: 88, train_loss: 23.153157721625433, val_metric: 0.662820108889258\n",
      "2024-11-06 10:51:52,452 - decision_learning.modeling.train - INFO - epoch: 88, train_loss: 23.153157721625433, val_metric: 0.662820108889258\n",
      "100%|██████████| 45/45 [00:00<00:00, 366.14it/s]\n",
      "100%|██████████| 12/12 [00:00<00:00, 3443.13it/s]\n",
      "2024-11-06 10:51:52,583 - decision_learning.modeling.train - INFO - epoch: 89, train_loss: 23.153157467312283, val_metric: 0.6861818702160777\n",
      "2024-11-06 10:51:52,583 - decision_learning.modeling.train - INFO - epoch: 89, train_loss: 23.153157467312283, val_metric: 0.6861818702160777\n",
      "100%|██████████| 45/45 [00:00<00:00, 364.27it/s]\n",
      "100%|██████████| 12/12 [00:00<00:00, 3270.41it/s]\n",
      "2024-11-06 10:51:52,714 - decision_learning.modeling.train - INFO - epoch: 90, train_loss: 23.15315759446886, val_metric: 0.6628795619575216\n",
      "2024-11-06 10:51:52,714 - decision_learning.modeling.train - INFO - epoch: 90, train_loss: 23.15315759446886, val_metric: 0.6628795619575216\n",
      "100%|██████████| 45/45 [00:00<00:00, 364.01it/s]\n",
      "100%|██████████| 12/12 [00:00<00:00, 3465.17it/s]\n",
      "2024-11-06 10:51:52,845 - decision_learning.modeling.train - INFO - epoch: 91, train_loss: 23.15315750969781, val_metric: 0.6715655893408266\n",
      "2024-11-06 10:51:52,845 - decision_learning.modeling.train - INFO - epoch: 91, train_loss: 23.15315750969781, val_metric: 0.6715655893408266\n",
      "100%|██████████| 45/45 [00:00<00:00, 361.81it/s]\n",
      "100%|██████████| 12/12 [00:00<00:00, 3444.54it/s]\n",
      "2024-11-06 10:51:52,976 - decision_learning.modeling.train - INFO - epoch: 92, train_loss: 23.153157424926757, val_metric: 0.6661815640813418\n",
      "2024-11-06 10:51:52,976 - decision_learning.modeling.train - INFO - epoch: 92, train_loss: 23.153157424926757, val_metric: 0.6661815640813418\n",
      "100%|██████████| 45/45 [00:00<00:00, 365.50it/s]\n",
      "100%|██████████| 12/12 [00:00<00:00, 3463.27it/s]\n",
      "2024-11-06 10:51:53,107 - decision_learning.modeling.train - INFO - epoch: 93, train_loss: 23.15315750969781, val_metric: 0.6611739735516048\n",
      "2024-11-06 10:51:53,107 - decision_learning.modeling.train - INFO - epoch: 93, train_loss: 23.15315750969781, val_metric: 0.6611739735516048\n",
      "100%|██████████| 45/45 [00:00<00:00, 365.28it/s]\n",
      "100%|██████████| 12/12 [00:00<00:00, 3460.65it/s]\n",
      "2024-11-06 10:51:53,237 - decision_learning.modeling.train - INFO - epoch: 94, train_loss: 23.15315750969781, val_metric: 0.6812300834614118\n",
      "2024-11-06 10:51:53,237 - decision_learning.modeling.train - INFO - epoch: 94, train_loss: 23.15315750969781, val_metric: 0.6812300834614118\n",
      "100%|██████████| 45/45 [00:00<00:00, 363.74it/s]\n",
      "100%|██████████| 12/12 [00:00<00:00, 3322.22it/s]\n",
      "2024-11-06 10:51:53,368 - decision_learning.modeling.train - INFO - epoch: 95, train_loss: 23.153157170613607, val_metric: 0.6600768541009354\n",
      "2024-11-06 10:51:53,368 - decision_learning.modeling.train - INFO - epoch: 95, train_loss: 23.153157170613607, val_metric: 0.6600768541009354\n",
      "100%|██████████| 45/45 [00:00<00:00, 364.90it/s]\n",
      "100%|██████████| 12/12 [00:00<00:00, 3489.92it/s]\n",
      "2024-11-06 10:51:53,499 - decision_learning.modeling.train - INFO - epoch: 96, train_loss: 23.153157424926757, val_metric: 0.6481733665527737\n",
      "2024-11-06 10:51:53,499 - decision_learning.modeling.train - INFO - epoch: 96, train_loss: 23.153157424926757, val_metric: 0.6481733665527737\n",
      "100%|██████████| 45/45 [00:00<00:00, 364.17it/s]\n",
      "100%|██████████| 12/12 [00:00<00:00, 3458.27it/s]\n",
      "2024-11-06 10:51:53,630 - decision_learning.modeling.train - INFO - epoch: 97, train_loss: 23.153157679239907, val_metric: 0.6808293707950073\n",
      "2024-11-06 10:51:53,630 - decision_learning.modeling.train - INFO - epoch: 97, train_loss: 23.153157679239907, val_metric: 0.6808293707950073\n",
      "100%|██████████| 45/45 [00:00<00:00, 365.82it/s]\n",
      "100%|██████████| 12/12 [00:00<00:00, 3471.63it/s]\n",
      "2024-11-06 10:51:53,760 - decision_learning.modeling.train - INFO - epoch: 98, train_loss: 23.153157255384656, val_metric: 0.6745232401042175\n",
      "2024-11-06 10:51:53,760 - decision_learning.modeling.train - INFO - epoch: 98, train_loss: 23.153157255384656, val_metric: 0.6745232401042175\n",
      "100%|██████████| 45/45 [00:00<00:00, 366.51it/s]\n",
      "100%|██████████| 12/12 [00:00<00:00, 3287.29it/s]\n",
      "2024-11-06 10:51:53,890 - decision_learning.modeling.train - INFO - epoch: 99, train_loss: 23.15315734015571, val_metric: 0.6628092623789354\n",
      "2024-11-06 10:51:53,890 - decision_learning.modeling.train - INFO - epoch: 99, train_loss: 23.15315734015571, val_metric: 0.6628092623789354\n"
     ]
    },
    {
     "name": "stdout",
     "output_type": "stream",
     "text": [
      "0.15811388300841897 C\n"
     ]
    },
    {
     "name": "stderr",
     "output_type": "stream",
     "text": [
      "100%|██████████| 45/45 [00:00<00:00, 361.17it/s]\n",
      "100%|██████████| 12/12 [00:00<00:00, 3432.33it/s]\n",
      "2024-11-06 10:51:54,029 - decision_learning.modeling.train - INFO - epoch: 0, train_loss: 22.759136793348524, val_metric: 0.687248528205514\n",
      "2024-11-06 10:51:54,029 - decision_learning.modeling.train - INFO - epoch: 0, train_loss: 22.759136793348524, val_metric: 0.687248528205514\n",
      "100%|██████████| 45/45 [00:00<00:00, 364.84it/s]\n",
      "100%|██████████| 12/12 [00:00<00:00, 3470.43it/s]\n",
      "2024-11-06 10:51:54,160 - decision_learning.modeling.train - INFO - epoch: 1, train_loss: 23.062710316975913, val_metric: 0.6881737253991072\n",
      "2024-11-06 10:51:54,160 - decision_learning.modeling.train - INFO - epoch: 1, train_loss: 23.062710316975913, val_metric: 0.6881737253991072\n",
      "100%|██████████| 45/45 [00:00<00:00, 365.79it/s]\n",
      "100%|██████████| 12/12 [00:00<00:00, 3441.48it/s]\n",
      "2024-11-06 10:51:54,290 - decision_learning.modeling.train - INFO - epoch: 2, train_loss: 23.14165564643012, val_metric: 0.6957650155092434\n",
      "2024-11-06 10:51:54,290 - decision_learning.modeling.train - INFO - epoch: 2, train_loss: 23.14165564643012, val_metric: 0.6957650155092434\n",
      "100%|██████████| 45/45 [00:00<00:00, 365.56it/s]\n",
      "100%|██████████| 12/12 [00:00<00:00, 3473.54it/s]\n",
      "2024-11-06 10:51:54,420 - decision_learning.modeling.train - INFO - epoch: 3, train_loss: 23.19127002292209, val_metric: 0.6743543082401742\n",
      "2024-11-06 10:51:54,420 - decision_learning.modeling.train - INFO - epoch: 3, train_loss: 23.19127002292209, val_metric: 0.6743543082401742\n",
      "100%|██████████| 45/45 [00:00<00:00, 366.21it/s]\n",
      "100%|██████████| 12/12 [00:00<00:00, 3461.60it/s]\n",
      "2024-11-06 10:51:54,551 - decision_learning.modeling.train - INFO - epoch: 4, train_loss: 23.218771998087565, val_metric: 0.6981452163095245\n",
      "2024-11-06 10:51:54,551 - decision_learning.modeling.train - INFO - epoch: 4, train_loss: 23.218771998087565, val_metric: 0.6981452163095245\n",
      "100%|██████████| 45/45 [00:00<00:00, 366.90it/s]\n",
      "100%|██████████| 12/12 [00:00<00:00, 3485.33it/s]\n",
      "2024-11-06 10:51:54,681 - decision_learning.modeling.train - INFO - epoch: 5, train_loss: 23.217686462402344, val_metric: 0.6949654148230306\n",
      "2024-11-06 10:51:54,681 - decision_learning.modeling.train - INFO - epoch: 5, train_loss: 23.217686462402344, val_metric: 0.6949654148230306\n",
      "100%|██████████| 45/45 [00:00<00:00, 366.57it/s]\n",
      "100%|██████████| 12/12 [00:00<00:00, 3467.80it/s]\n",
      "2024-11-06 10:51:54,811 - decision_learning.modeling.train - INFO - epoch: 6, train_loss: 23.19852697584364, val_metric: 0.6719462815792991\n",
      "2024-11-06 10:51:54,811 - decision_learning.modeling.train - INFO - epoch: 6, train_loss: 23.19852697584364, val_metric: 0.6719462815792991\n",
      "100%|██████████| 45/45 [00:00<00:00, 365.75it/s]\n",
      "100%|██████████| 12/12 [00:00<00:00, 3470.67it/s]\n",
      "2024-11-06 10:51:54,941 - decision_learning.modeling.train - INFO - epoch: 7, train_loss: 23.212713750203452, val_metric: 0.6798735094016702\n",
      "2024-11-06 10:51:54,941 - decision_learning.modeling.train - INFO - epoch: 7, train_loss: 23.212713750203452, val_metric: 0.6798735094016702\n",
      "100%|██████████| 45/45 [00:00<00:00, 366.00it/s]\n",
      "100%|██████████| 12/12 [00:00<00:00, 3448.55it/s]\n",
      "2024-11-06 10:51:55,071 - decision_learning.modeling.train - INFO - epoch: 8, train_loss: 23.22245373196072, val_metric: 0.6911292980927635\n",
      "2024-11-06 10:51:55,071 - decision_learning.modeling.train - INFO - epoch: 8, train_loss: 23.22245373196072, val_metric: 0.6911292980927635\n",
      "100%|██████████| 45/45 [00:00<00:00, 366.69it/s]\n",
      "100%|██████████| 12/12 [00:00<00:00, 3481.23it/s]\n",
      "2024-11-06 10:51:55,201 - decision_learning.modeling.train - INFO - epoch: 9, train_loss: 23.20802362230089, val_metric: 0.6904767841960658\n",
      "2024-11-06 10:51:55,201 - decision_learning.modeling.train - INFO - epoch: 9, train_loss: 23.20802362230089, val_metric: 0.6904767841960658\n",
      "100%|██████████| 45/45 [00:00<00:00, 366.62it/s]\n",
      "100%|██████████| 12/12 [00:00<00:00, 3464.46it/s]\n",
      "2024-11-06 10:51:55,331 - decision_learning.modeling.train - INFO - epoch: 10, train_loss: 23.176022381252714, val_metric: 0.70081360990277\n",
      "2024-11-06 10:51:55,331 - decision_learning.modeling.train - INFO - epoch: 10, train_loss: 23.176022381252714, val_metric: 0.70081360990277\n",
      "100%|██████████| 45/45 [00:00<00:00, 366.54it/s]\n",
      "100%|██████████| 12/12 [00:00<00:00, 3479.07it/s]\n",
      "2024-11-06 10:51:55,461 - decision_learning.modeling.train - INFO - epoch: 11, train_loss: 23.187620968288847, val_metric: 0.6948154896943658\n",
      "2024-11-06 10:51:55,461 - decision_learning.modeling.train - INFO - epoch: 11, train_loss: 23.187620968288847, val_metric: 0.6948154896943658\n",
      "100%|██████████| 45/45 [00:00<00:00, 367.84it/s]\n",
      "100%|██████████| 12/12 [00:00<00:00, 3470.19it/s]\n",
      "2024-11-06 10:51:55,590 - decision_learning.modeling.train - INFO - epoch: 12, train_loss: 23.20202128092448, val_metric: 0.6907633043963168\n",
      "2024-11-06 10:51:55,590 - decision_learning.modeling.train - INFO - epoch: 12, train_loss: 23.20202128092448, val_metric: 0.6907633043963168\n",
      "100%|██████████| 45/45 [00:00<00:00, 368.10it/s]\n",
      "100%|██████████| 12/12 [00:00<00:00, 3494.53it/s]\n",
      "2024-11-06 10:51:55,720 - decision_learning.modeling.train - INFO - epoch: 13, train_loss: 23.214070892333986, val_metric: 0.679844619163895\n",
      "2024-11-06 10:51:55,720 - decision_learning.modeling.train - INFO - epoch: 13, train_loss: 23.214070892333986, val_metric: 0.679844619163895\n",
      "100%|██████████| 45/45 [00:00<00:00, 367.32it/s]\n",
      "100%|██████████| 12/12 [00:00<00:00, 3500.60it/s]\n",
      "2024-11-06 10:51:55,849 - decision_learning.modeling.train - INFO - epoch: 14, train_loss: 23.217373826768664, val_metric: 0.693055972844602\n",
      "2024-11-06 10:51:55,849 - decision_learning.modeling.train - INFO - epoch: 14, train_loss: 23.217373826768664, val_metric: 0.693055972844602\n",
      "100%|██████████| 45/45 [00:00<00:00, 367.50it/s]\n",
      "100%|██████████| 12/12 [00:00<00:00, 3500.11it/s]\n",
      "2024-11-06 10:51:55,979 - decision_learning.modeling.train - INFO - epoch: 15, train_loss: 23.220686637030706, val_metric: 0.6875540044565157\n",
      "2024-11-06 10:51:55,979 - decision_learning.modeling.train - INFO - epoch: 15, train_loss: 23.220686637030706, val_metric: 0.6875540044565157\n",
      "100%|██████████| 45/45 [00:00<00:00, 367.66it/s]\n",
      "100%|██████████| 12/12 [00:00<00:00, 3472.59it/s]\n",
      "2024-11-06 10:51:56,109 - decision_learning.modeling.train - INFO - epoch: 16, train_loss: 23.220408248901368, val_metric: 0.6924539915216971\n",
      "2024-11-06 10:51:56,109 - decision_learning.modeling.train - INFO - epoch: 16, train_loss: 23.220408248901368, val_metric: 0.6924539915216971\n",
      "100%|██████████| 45/45 [00:00<00:00, 366.64it/s]\n",
      "100%|██████████| 12/12 [00:00<00:00, 3474.02it/s]\n",
      "2024-11-06 10:51:56,239 - decision_learning.modeling.train - INFO - epoch: 17, train_loss: 23.224271053738065, val_metric: 0.6929220640582826\n",
      "2024-11-06 10:51:56,239 - decision_learning.modeling.train - INFO - epoch: 17, train_loss: 23.224271053738065, val_metric: 0.6929220640582826\n",
      "100%|██████████| 45/45 [00:00<00:00, 366.71it/s]\n",
      "100%|██████████| 12/12 [00:00<00:00, 3480.51it/s]\n",
      "2024-11-06 10:51:56,369 - decision_learning.modeling.train - INFO - epoch: 18, train_loss: 23.22893418206109, val_metric: 0.6869236904267401\n",
      "2024-11-06 10:51:56,369 - decision_learning.modeling.train - INFO - epoch: 18, train_loss: 23.22893418206109, val_metric: 0.6869236904267401\n",
      "100%|██████████| 45/45 [00:00<00:00, 366.75it/s]\n",
      "100%|██████████| 12/12 [00:00<00:00, 3488.95it/s]\n",
      "2024-11-06 10:51:56,498 - decision_learning.modeling.train - INFO - epoch: 19, train_loss: 23.22692807515462, val_metric: 0.6907303087037\n",
      "2024-11-06 10:51:56,498 - decision_learning.modeling.train - INFO - epoch: 19, train_loss: 23.22692807515462, val_metric: 0.6907303087037\n",
      "100%|██████████| 45/45 [00:00<00:00, 366.03it/s]\n",
      "100%|██████████| 12/12 [00:00<00:00, 3478.83it/s]\n",
      "2024-11-06 10:51:56,629 - decision_learning.modeling.train - INFO - epoch: 20, train_loss: 23.2306266784668, val_metric: 0.6934191282018988\n",
      "2024-11-06 10:51:56,629 - decision_learning.modeling.train - INFO - epoch: 20, train_loss: 23.2306266784668, val_metric: 0.6934191282018988\n",
      "100%|██████████| 45/45 [00:00<00:00, 362.87it/s]\n",
      "100%|██████████| 12/12 [00:00<00:00, 3471.15it/s]\n",
      "2024-11-06 10:51:56,760 - decision_learning.modeling.train - INFO - epoch: 21, train_loss: 23.231672880384657, val_metric: 0.6992602274337635\n",
      "2024-11-06 10:51:56,760 - decision_learning.modeling.train - INFO - epoch: 21, train_loss: 23.231672880384657, val_metric: 0.6992602274337635\n",
      "100%|██████████| 45/45 [00:00<00:00, 366.60it/s]\n",
      "100%|██████████| 12/12 [00:00<00:00, 3480.99it/s]\n",
      "2024-11-06 10:51:56,890 - decision_learning.modeling.train - INFO - epoch: 22, train_loss: 23.231943893432618, val_metric: 0.6962748014944061\n",
      "2024-11-06 10:51:56,890 - decision_learning.modeling.train - INFO - epoch: 22, train_loss: 23.231943893432618, val_metric: 0.6962748014944061\n",
      "100%|██████████| 45/45 [00:00<00:00, 366.68it/s]\n",
      "100%|██████████| 12/12 [00:00<00:00, 3467.08it/s]\n",
      "2024-11-06 10:51:57,020 - decision_learning.modeling.train - INFO - epoch: 23, train_loss: 23.232632276746962, val_metric: 0.6869392506074365\n",
      "2024-11-06 10:51:57,020 - decision_learning.modeling.train - INFO - epoch: 23, train_loss: 23.232632276746962, val_metric: 0.6869392506074365\n",
      "100%|██████████| 45/45 [00:00<00:00, 367.59it/s]\n",
      "100%|██████████| 12/12 [00:00<00:00, 3462.08it/s]\n",
      "2024-11-06 10:51:57,149 - decision_learning.modeling.train - INFO - epoch: 24, train_loss: 23.232927152845594, val_metric: 0.6909634579910084\n",
      "2024-11-06 10:51:57,149 - decision_learning.modeling.train - INFO - epoch: 24, train_loss: 23.232927152845594, val_metric: 0.6909634579910084\n",
      "100%|██████████| 45/45 [00:00<00:00, 367.61it/s]\n",
      "100%|██████████| 12/12 [00:00<00:00, 3470.91it/s]\n",
      "2024-11-06 10:51:57,279 - decision_learning.modeling.train - INFO - epoch: 25, train_loss: 23.23265308803982, val_metric: 0.695058370430188\n",
      "2024-11-06 10:51:57,279 - decision_learning.modeling.train - INFO - epoch: 25, train_loss: 23.23265308803982, val_metric: 0.695058370430188\n",
      "100%|██████████| 45/45 [00:00<00:00, 366.71it/s]\n",
      "100%|██████████| 12/12 [00:00<00:00, 3456.37it/s]\n",
      "2024-11-06 10:51:57,409 - decision_learning.modeling.train - INFO - epoch: 26, train_loss: 23.232948218451607, val_metric: 0.6854792292226087\n",
      "2024-11-06 10:51:57,409 - decision_learning.modeling.train - INFO - epoch: 26, train_loss: 23.232948218451607, val_metric: 0.6854792292226087\n",
      "100%|██████████| 45/45 [00:00<00:00, 366.82it/s]\n",
      "100%|██████████| 12/12 [00:00<00:00, 3462.79it/s]\n",
      "2024-11-06 10:51:57,539 - decision_learning.modeling.train - INFO - epoch: 27, train_loss: 23.23312038845486, val_metric: 0.6918256541924007\n",
      "2024-11-06 10:51:57,539 - decision_learning.modeling.train - INFO - epoch: 27, train_loss: 23.23312038845486, val_metric: 0.6918256541924007\n",
      "100%|██████████| 45/45 [00:00<00:00, 365.34it/s]\n",
      "100%|██████████| 12/12 [00:00<00:00, 3457.32it/s]\n",
      "2024-11-06 10:51:57,669 - decision_learning.modeling.train - INFO - epoch: 28, train_loss: 23.233111529880098, val_metric: 0.6782778559531821\n",
      "2024-11-06 10:51:57,669 - decision_learning.modeling.train - INFO - epoch: 28, train_loss: 23.233111529880098, val_metric: 0.6782778559531821\n",
      "100%|██████████| 45/45 [00:00<00:00, 364.89it/s]\n",
      "100%|██████████| 12/12 [00:00<00:00, 3479.07it/s]\n",
      "2024-11-06 10:51:57,800 - decision_learning.modeling.train - INFO - epoch: 29, train_loss: 23.23322359720866, val_metric: 0.7002641378541371\n",
      "2024-11-06 10:51:57,800 - decision_learning.modeling.train - INFO - epoch: 29, train_loss: 23.23322359720866, val_metric: 0.7002641378541371\n",
      "100%|██████████| 45/45 [00:00<00:00, 365.81it/s]\n",
      "100%|██████████| 12/12 [00:00<00:00, 3476.90it/s]\n",
      "2024-11-06 10:51:57,930 - decision_learning.modeling.train - INFO - epoch: 30, train_loss: 23.233579847547745, val_metric: 0.6909894085203784\n",
      "2024-11-06 10:51:57,930 - decision_learning.modeling.train - INFO - epoch: 30, train_loss: 23.233579847547745, val_metric: 0.6909894085203784\n",
      "100%|██████████| 45/45 [00:00<00:00, 365.02it/s]\n",
      "100%|██████████| 12/12 [00:00<00:00, 3490.16it/s]\n",
      "2024-11-06 10:51:58,060 - decision_learning.modeling.train - INFO - epoch: 31, train_loss: 23.23359866672092, val_metric: 0.6766121563492461\n",
      "2024-11-06 10:51:58,060 - decision_learning.modeling.train - INFO - epoch: 31, train_loss: 23.23359866672092, val_metric: 0.6766121563492461\n",
      "100%|██████████| 45/45 [00:00<00:00, 365.52it/s]\n",
      "100%|██████████| 12/12 [00:00<00:00, 3468.04it/s]\n",
      "2024-11-06 10:51:58,191 - decision_learning.modeling.train - INFO - epoch: 32, train_loss: 23.233644655015734, val_metric: 0.6876461491096303\n",
      "2024-11-06 10:51:58,191 - decision_learning.modeling.train - INFO - epoch: 32, train_loss: 23.233644655015734, val_metric: 0.6876461491096303\n",
      "100%|██████████| 45/45 [00:00<00:00, 360.23it/s]\n",
      "100%|██████████| 12/12 [00:00<00:00, 3454.95it/s]\n",
      "2024-11-06 10:51:58,323 - decision_learning.modeling.train - INFO - epoch: 33, train_loss: 23.233658091227213, val_metric: 0.6849517543023871\n",
      "2024-11-06 10:51:58,323 - decision_learning.modeling.train - INFO - epoch: 33, train_loss: 23.233658091227213, val_metric: 0.6849517543023871\n",
      "100%|██████████| 45/45 [00:00<00:00, 366.80it/s]\n",
      "100%|██████████| 12/12 [00:00<00:00, 3472.35it/s]\n",
      "2024-11-06 10:51:58,453 - decision_learning.modeling.train - INFO - epoch: 34, train_loss: 23.23366618686252, val_metric: 0.6861224678324417\n",
      "2024-11-06 10:51:58,453 - decision_learning.modeling.train - INFO - epoch: 34, train_loss: 23.23366618686252, val_metric: 0.6861224678324417\n",
      "100%|██████████| 45/45 [00:00<00:00, 365.17it/s]\n",
      "100%|██████████| 12/12 [00:00<00:00, 3458.03it/s]\n",
      "2024-11-06 10:51:58,584 - decision_learning.modeling.train - INFO - epoch: 35, train_loss: 23.23366945054796, val_metric: 0.6888762650233209\n",
      "2024-11-06 10:51:58,584 - decision_learning.modeling.train - INFO - epoch: 35, train_loss: 23.23366945054796, val_metric: 0.6888762650233209\n",
      "100%|██████████| 45/45 [00:00<00:00, 361.28it/s]\n",
      "100%|██████████| 12/12 [00:00<00:00, 3440.54it/s]\n",
      "2024-11-06 10:51:58,715 - decision_learning.modeling.train - INFO - epoch: 36, train_loss: 23.211894734700522, val_metric: 0.6834696851045203\n",
      "2024-11-06 10:51:58,715 - decision_learning.modeling.train - INFO - epoch: 36, train_loss: 23.211894734700522, val_metric: 0.6834696851045203\n",
      "100%|██████████| 45/45 [00:00<00:00, 364.43it/s]\n",
      "100%|██████████| 12/12 [00:00<00:00, 3432.80it/s]\n",
      "2024-11-06 10:51:58,846 - decision_learning.modeling.train - INFO - epoch: 37, train_loss: 23.233680470784506, val_metric: 0.6907482510618972\n",
      "2024-11-06 10:51:58,846 - decision_learning.modeling.train - INFO - epoch: 37, train_loss: 23.233680470784506, val_metric: 0.6907482510618972\n",
      "100%|██████████| 45/45 [00:00<00:00, 361.20it/s]\n",
      "100%|██████████| 12/12 [00:00<00:00, 3439.83it/s]\n",
      "2024-11-06 10:51:58,978 - decision_learning.modeling.train - INFO - epoch: 38, train_loss: 23.21280814276801, val_metric: 0.687958974631645\n",
      "2024-11-06 10:51:58,978 - decision_learning.modeling.train - INFO - epoch: 38, train_loss: 23.21280814276801, val_metric: 0.687958974631645\n",
      "100%|██████████| 45/45 [00:00<00:00, 365.19it/s]\n",
      "100%|██████████| 12/12 [00:00<00:00, 3466.84it/s]\n",
      "2024-11-06 10:51:59,108 - decision_learning.modeling.train - INFO - epoch: 39, train_loss: 23.233705393473308, val_metric: 0.6912439467205661\n",
      "2024-11-06 10:51:59,108 - decision_learning.modeling.train - INFO - epoch: 39, train_loss: 23.233705393473308, val_metric: 0.6912439467205661\n",
      "100%|██████████| 45/45 [00:00<00:00, 366.14it/s]\n",
      "100%|██████████| 12/12 [00:00<00:00, 3464.70it/s]\n",
      "2024-11-06 10:51:59,239 - decision_learning.modeling.train - INFO - epoch: 40, train_loss: 23.23372565375434, val_metric: 0.6872082339265118\n",
      "2024-11-06 10:51:59,239 - decision_learning.modeling.train - INFO - epoch: 40, train_loss: 23.23372565375434, val_metric: 0.6872082339265118\n",
      "100%|██████████| 45/45 [00:00<00:00, 364.91it/s]\n",
      "100%|██████████| 12/12 [00:00<00:00, 3256.66it/s]\n",
      "2024-11-06 10:51:59,369 - decision_learning.modeling.train - INFO - epoch: 41, train_loss: 23.212471771240235, val_metric: 0.6906680679809142\n",
      "2024-11-06 10:51:59,369 - decision_learning.modeling.train - INFO - epoch: 41, train_loss: 23.212471771240235, val_metric: 0.6906680679809142\n",
      "100%|██████████| 45/45 [00:00<00:00, 363.65it/s]\n",
      "100%|██████████| 12/12 [00:00<00:00, 3456.84it/s]\n",
      "2024-11-06 10:51:59,500 - decision_learning.modeling.train - INFO - epoch: 42, train_loss: 23.212475713094076, val_metric: 0.6811044869540313\n",
      "2024-11-06 10:51:59,500 - decision_learning.modeling.train - INFO - epoch: 42, train_loss: 23.212475713094076, val_metric: 0.6811044869540313\n",
      "100%|██████████| 45/45 [00:00<00:00, 364.42it/s]\n",
      "100%|██████████| 12/12 [00:00<00:00, 3442.66it/s]\n",
      "2024-11-06 10:51:59,631 - decision_learning.modeling.train - INFO - epoch: 43, train_loss: 23.233731418185762, val_metric: 0.6659452216624897\n",
      "2024-11-06 10:51:59,631 - decision_learning.modeling.train - INFO - epoch: 43, train_loss: 23.233731418185762, val_metric: 0.6659452216624897\n",
      "100%|██████████| 45/45 [00:00<00:00, 365.39it/s]\n",
      "100%|██████████| 12/12 [00:00<00:00, 3432.56it/s]\n",
      "2024-11-06 10:51:59,762 - decision_learning.modeling.train - INFO - epoch: 44, train_loss: 23.23373252020942, val_metric: 0.6909769401019702\n",
      "2024-11-06 10:51:59,762 - decision_learning.modeling.train - INFO - epoch: 44, train_loss: 23.23373252020942, val_metric: 0.6909769401019702\n",
      "100%|██████████| 45/45 [00:00<00:00, 365.53it/s]\n",
      "100%|██████████| 12/12 [00:00<00:00, 3448.08it/s]\n",
      "2024-11-06 10:51:59,892 - decision_learning.modeling.train - INFO - epoch: 45, train_loss: 23.233734554714626, val_metric: 0.6812911077531334\n",
      "2024-11-06 10:51:59,892 - decision_learning.modeling.train - INFO - epoch: 45, train_loss: 23.233734554714626, val_metric: 0.6812911077531334\n",
      "100%|██████████| 45/45 [00:00<00:00, 365.71it/s]\n",
      "100%|██████████| 12/12 [00:00<00:00, 3442.89it/s]\n",
      "2024-11-06 10:52:00,022 - decision_learning.modeling.train - INFO - epoch: 46, train_loss: 23.209450488620334, val_metric: 0.6937842095750473\n",
      "2024-11-06 10:52:00,022 - decision_learning.modeling.train - INFO - epoch: 46, train_loss: 23.209450488620334, val_metric: 0.6937842095750473\n",
      "100%|██████████| 45/45 [00:00<00:00, 364.96it/s]\n",
      "100%|██████████| 12/12 [00:00<00:00, 3278.72it/s]\n",
      "2024-11-06 10:52:00,153 - decision_learning.modeling.train - INFO - epoch: 47, train_loss: 23.20945756700304, val_metric: 0.6847085694587989\n",
      "2024-11-06 10:52:00,153 - decision_learning.modeling.train - INFO - epoch: 47, train_loss: 23.20945756700304, val_metric: 0.6847085694587989\n",
      "100%|██████████| 45/45 [00:00<00:00, 365.44it/s]\n",
      "100%|██████████| 12/12 [00:00<00:00, 3469.95it/s]\n",
      "2024-11-06 10:52:00,283 - decision_learning.modeling.train - INFO - epoch: 48, train_loss: 23.233738962809245, val_metric: 0.6882001320901263\n",
      "2024-11-06 10:52:00,283 - decision_learning.modeling.train - INFO - epoch: 48, train_loss: 23.233738962809245, val_metric: 0.6882001320901263\n",
      "100%|██████████| 45/45 [00:00<00:00, 365.97it/s]\n",
      "100%|██████████| 12/12 [00:00<00:00, 3468.76it/s]\n",
      "2024-11-06 10:52:00,414 - decision_learning.modeling.train - INFO - epoch: 49, train_loss: 23.233738327026366, val_metric: 0.6855595643574748\n",
      "2024-11-06 10:52:00,414 - decision_learning.modeling.train - INFO - epoch: 49, train_loss: 23.233738327026366, val_metric: 0.6855595643574748\n",
      "100%|██████████| 45/45 [00:00<00:00, 365.96it/s]\n",
      "100%|██████████| 12/12 [00:00<00:00, 3448.08it/s]\n",
      "2024-11-06 10:52:00,544 - decision_learning.modeling.train - INFO - epoch: 50, train_loss: 23.23374226888021, val_metric: 0.6946179210156858\n",
      "2024-11-06 10:52:00,544 - decision_learning.modeling.train - INFO - epoch: 50, train_loss: 23.23374226888021, val_metric: 0.6946179210156858\n",
      "100%|██████████| 45/45 [00:00<00:00, 365.15it/s]\n",
      "100%|██████████| 12/12 [00:00<00:00, 3460.41it/s]\n",
      "2024-11-06 10:52:00,674 - decision_learning.modeling.train - INFO - epoch: 51, train_loss: 23.233742480807834, val_metric: 0.6884901495296869\n",
      "2024-11-06 10:52:00,674 - decision_learning.modeling.train - INFO - epoch: 51, train_loss: 23.233742480807834, val_metric: 0.6884901495296869\n",
      "100%|██████████| 45/45 [00:00<00:00, 363.66it/s]\n",
      "100%|██████████| 12/12 [00:00<00:00, 3456.37it/s]\n",
      "2024-11-06 10:52:00,805 - decision_learning.modeling.train - INFO - epoch: 52, train_loss: 23.23374269273546, val_metric: 0.6839925477236235\n",
      "2024-11-06 10:52:00,805 - decision_learning.modeling.train - INFO - epoch: 52, train_loss: 23.23374269273546, val_metric: 0.6839925477236235\n",
      "100%|██████████| 45/45 [00:00<00:00, 365.17it/s]\n",
      "100%|██████████| 12/12 [00:00<00:00, 3443.83it/s]\n",
      "2024-11-06 10:52:00,936 - decision_learning.modeling.train - INFO - epoch: 53, train_loss: 23.209467442830405, val_metric: 0.6863653992528916\n",
      "2024-11-06 10:52:00,936 - decision_learning.modeling.train - INFO - epoch: 53, train_loss: 23.209467442830405, val_metric: 0.6863653992528916\n",
      "100%|██████████| 45/45 [00:00<00:00, 365.27it/s]\n",
      "100%|██████████| 12/12 [00:00<00:00, 3437.48it/s]\n",
      "2024-11-06 10:52:01,066 - decision_learning.modeling.train - INFO - epoch: 54, train_loss: 23.20946765475803, val_metric: 0.6858186641741533\n",
      "2024-11-06 10:52:01,066 - decision_learning.modeling.train - INFO - epoch: 54, train_loss: 23.20946765475803, val_metric: 0.6858186641741533\n",
      "100%|██████████| 45/45 [00:00<00:00, 365.61it/s]\n",
      "100%|██████████| 12/12 [00:00<00:00, 3464.22it/s]\n",
      "2024-11-06 10:52:01,197 - decision_learning.modeling.train - INFO - epoch: 55, train_loss: 23.233743625217013, val_metric: 0.6786953959159749\n",
      "2024-11-06 10:52:01,197 - decision_learning.modeling.train - INFO - epoch: 55, train_loss: 23.233743625217013, val_metric: 0.6786953959159749\n",
      "100%|██████████| 45/45 [00:00<00:00, 365.41it/s]\n",
      "100%|██████████| 12/12 [00:00<00:00, 3475.94it/s]\n",
      "2024-11-06 10:52:01,327 - decision_learning.modeling.train - INFO - epoch: 56, train_loss: 23.209468841552734, val_metric: 0.6872739718886072\n",
      "2024-11-06 10:52:01,327 - decision_learning.modeling.train - INFO - epoch: 56, train_loss: 23.209468841552734, val_metric: 0.6872739718886072\n",
      "100%|██████████| 45/45 [00:00<00:00, 365.29it/s]\n",
      "100%|██████████| 12/12 [00:00<00:00, 3458.98it/s]\n",
      "2024-11-06 10:52:01,457 - decision_learning.modeling.train - INFO - epoch: 57, train_loss: 23.20946939256456, val_metric: 0.6866522742455364\n",
      "2024-11-06 10:52:01,457 - decision_learning.modeling.train - INFO - epoch: 57, train_loss: 23.20946939256456, val_metric: 0.6866522742455364\n",
      "100%|██████████| 45/45 [00:00<00:00, 365.85it/s]\n",
      "100%|██████████| 12/12 [00:00<00:00, 3474.74it/s]\n",
      "2024-11-06 10:52:01,588 - decision_learning.modeling.train - INFO - epoch: 58, train_loss: 23.209469943576387, val_metric: 0.6935186221260262\n",
      "2024-11-06 10:52:01,588 - decision_learning.modeling.train - INFO - epoch: 58, train_loss: 23.209469943576387, val_metric: 0.6935186221260262\n",
      "100%|██████████| 45/45 [00:00<00:00, 365.94it/s]\n",
      "100%|██████████| 12/12 [00:00<00:00, 3444.54it/s]\n",
      "2024-11-06 10:52:01,718 - decision_learning.modeling.train - INFO - epoch: 59, train_loss: 23.209470155504015, val_metric: 0.6974863161497398\n",
      "2024-11-06 10:52:01,718 - decision_learning.modeling.train - INFO - epoch: 59, train_loss: 23.209470155504015, val_metric: 0.6974863161497398\n",
      "100%|██████████| 45/45 [00:00<00:00, 365.56it/s]\n",
      "100%|██████████| 12/12 [00:00<00:00, 3437.95it/s]\n",
      "2024-11-06 10:52:01,848 - decision_learning.modeling.train - INFO - epoch: 60, train_loss: 23.209471003214517, val_metric: 0.6909845934807493\n",
      "2024-11-06 10:52:01,848 - decision_learning.modeling.train - INFO - epoch: 60, train_loss: 23.209471003214517, val_metric: 0.6909845934807493\n",
      "100%|██████████| 45/45 [00:00<00:00, 366.25it/s]\n",
      "100%|██████████| 12/12 [00:00<00:00, 3454.71it/s]\n",
      "2024-11-06 10:52:01,978 - decision_learning.modeling.train - INFO - epoch: 61, train_loss: 23.209470876057942, val_metric: 0.6849627528665928\n",
      "2024-11-06 10:52:01,978 - decision_learning.modeling.train - INFO - epoch: 61, train_loss: 23.209470876057942, val_metric: 0.6849627528665928\n",
      "100%|██████████| 45/45 [00:00<00:00, 365.29it/s]\n",
      "100%|██████████| 12/12 [00:00<00:00, 3455.18it/s]\n",
      "2024-11-06 10:52:02,109 - decision_learning.modeling.train - INFO - epoch: 62, train_loss: 23.209471215142145, val_metric: 0.6840109969280974\n",
      "2024-11-06 10:52:02,109 - decision_learning.modeling.train - INFO - epoch: 62, train_loss: 23.209471215142145, val_metric: 0.6840109969280974\n",
      "100%|██████████| 45/45 [00:00<00:00, 366.13it/s]\n",
      "100%|██████████| 12/12 [00:00<00:00, 3488.71it/s]\n",
      "2024-11-06 10:52:02,239 - decision_learning.modeling.train - INFO - epoch: 63, train_loss: 23.209471003214517, val_metric: 0.6894268014491349\n",
      "2024-11-06 10:52:02,239 - decision_learning.modeling.train - INFO - epoch: 63, train_loss: 23.209471003214517, val_metric: 0.6894268014491349\n",
      "100%|██████████| 45/45 [00:00<00:00, 365.47it/s]\n",
      "100%|██████████| 12/12 [00:00<00:00, 3428.12it/s]\n",
      "2024-11-06 10:52:02,369 - decision_learning.modeling.train - INFO - epoch: 64, train_loss: 23.20947108798557, val_metric: 0.6906044080885534\n",
      "2024-11-06 10:52:02,369 - decision_learning.modeling.train - INFO - epoch: 64, train_loss: 23.20947108798557, val_metric: 0.6906044080885534\n",
      "100%|██████████| 45/45 [00:00<00:00, 365.64it/s]\n",
      "100%|██████████| 12/12 [00:00<00:00, 3466.61it/s]\n",
      "2024-11-06 10:52:02,499 - decision_learning.modeling.train - INFO - epoch: 65, train_loss: 23.209471003214517, val_metric: 0.686910563108172\n",
      "2024-11-06 10:52:02,499 - decision_learning.modeling.train - INFO - epoch: 65, train_loss: 23.209471003214517, val_metric: 0.686910563108172\n",
      "100%|██████████| 45/45 [00:00<00:00, 367.11it/s]\n",
      "100%|██████████| 12/12 [00:00<00:00, 3457.56it/s]\n",
      "2024-11-06 10:52:02,629 - decision_learning.modeling.train - INFO - epoch: 66, train_loss: 23.20947134229872, val_metric: 0.6832842300518548\n",
      "2024-11-06 10:52:02,629 - decision_learning.modeling.train - INFO - epoch: 66, train_loss: 23.20947134229872, val_metric: 0.6832842300518548\n",
      "100%|██████████| 45/45 [00:00<00:00, 368.18it/s]\n",
      "100%|██████████| 12/12 [00:00<00:00, 3492.59it/s]\n",
      "2024-11-06 10:52:02,758 - decision_learning.modeling.train - INFO - epoch: 67, train_loss: 23.209471384684246, val_metric: 0.6818609043374643\n",
      "2024-11-06 10:52:02,758 - decision_learning.modeling.train - INFO - epoch: 67, train_loss: 23.209471384684246, val_metric: 0.6818609043374643\n",
      "100%|██████████| 45/45 [00:00<00:00, 367.57it/s]\n",
      "100%|██████████| 12/12 [00:00<00:00, 3505.72it/s]\n",
      "2024-11-06 10:52:02,888 - decision_learning.modeling.train - INFO - epoch: 68, train_loss: 23.209471554226347, val_metric: 0.6981235232888793\n",
      "2024-11-06 10:52:02,888 - decision_learning.modeling.train - INFO - epoch: 68, train_loss: 23.209471554226347, val_metric: 0.6981235232888793\n",
      "100%|██████████| 45/45 [00:00<00:00, 367.57it/s]\n",
      "100%|██████████| 12/12 [00:00<00:00, 3508.90it/s]\n",
      "2024-11-06 10:52:03,017 - decision_learning.modeling.train - INFO - epoch: 69, train_loss: 23.209471299913194, val_metric: 0.6895398788534794\n",
      "2024-11-06 10:52:03,017 - decision_learning.modeling.train - INFO - epoch: 69, train_loss: 23.209471299913194, val_metric: 0.6895398788534794\n",
      "100%|██████████| 45/45 [00:00<00:00, 367.26it/s]\n",
      "100%|██████████| 12/12 [00:00<00:00, 3476.18it/s]\n",
      "2024-11-06 10:52:03,147 - decision_learning.modeling.train - INFO - epoch: 70, train_loss: 23.209471384684246, val_metric: 0.6929508022421748\n",
      "2024-11-06 10:52:03,147 - decision_learning.modeling.train - INFO - epoch: 70, train_loss: 23.209471384684246, val_metric: 0.6929508022421748\n",
      "100%|██████████| 45/45 [00:00<00:00, 367.52it/s]\n",
      "100%|██████████| 12/12 [00:00<00:00, 3556.25it/s]\n",
      "2024-11-06 10:52:03,276 - decision_learning.modeling.train - INFO - epoch: 71, train_loss: 23.20947151184082, val_metric: 0.6883314052758065\n",
      "2024-11-06 10:52:03,276 - decision_learning.modeling.train - INFO - epoch: 71, train_loss: 23.20947151184082, val_metric: 0.6883314052758065\n",
      "100%|██████████| 45/45 [00:00<00:00, 369.31it/s]\n",
      "100%|██████████| 12/12 [00:00<00:00, 3582.32it/s]\n",
      "2024-11-06 10:52:03,405 - decision_learning.modeling.train - INFO - epoch: 72, train_loss: 23.209471384684246, val_metric: 0.6946702275514471\n",
      "2024-11-06 10:52:03,405 - decision_learning.modeling.train - INFO - epoch: 72, train_loss: 23.209471384684246, val_metric: 0.6946702275514471\n",
      "100%|██████████| 45/45 [00:00<00:00, 367.87it/s]\n",
      "100%|██████████| 12/12 [00:00<00:00, 3581.56it/s]\n",
      "2024-11-06 10:52:03,534 - decision_learning.modeling.train - INFO - epoch: 73, train_loss: 23.20947134229872, val_metric: 0.691975984798087\n",
      "2024-11-06 10:52:03,534 - decision_learning.modeling.train - INFO - epoch: 73, train_loss: 23.20947134229872, val_metric: 0.691975984798087\n",
      "100%|██████████| 45/45 [00:00<00:00, 368.08it/s]\n",
      "100%|██████████| 12/12 [00:00<00:00, 3482.92it/s]\n",
      "2024-11-06 10:52:03,664 - decision_learning.modeling.train - INFO - epoch: 74, train_loss: 23.209471681382922, val_metric: 0.681638196083457\n",
      "2024-11-06 10:52:03,664 - decision_learning.modeling.train - INFO - epoch: 74, train_loss: 23.209471681382922, val_metric: 0.681638196083457\n",
      "100%|██████████| 45/45 [00:00<00:00, 366.94it/s]\n",
      "100%|██████████| 12/12 [00:00<00:00, 3501.82it/s]\n",
      "2024-11-06 10:52:03,793 - decision_learning.modeling.train - INFO - epoch: 75, train_loss: 23.209471215142145, val_metric: 0.6799414268027557\n",
      "2024-11-06 10:52:03,793 - decision_learning.modeling.train - INFO - epoch: 75, train_loss: 23.209471215142145, val_metric: 0.6799414268027557\n",
      "100%|██████████| 45/45 [00:00<00:00, 366.74it/s]\n",
      "100%|██████████| 12/12 [00:00<00:00, 3495.01it/s]\n",
      "2024-11-06 10:52:03,923 - decision_learning.modeling.train - INFO - epoch: 76, train_loss: 23.20947134229872, val_metric: 0.679991249791761\n",
      "2024-11-06 10:52:03,923 - decision_learning.modeling.train - INFO - epoch: 76, train_loss: 23.20947134229872, val_metric: 0.679991249791761\n",
      "100%|██████████| 45/45 [00:00<00:00, 367.29it/s]\n",
      "100%|██████████| 12/12 [00:00<00:00, 3508.41it/s]\n",
      "2024-11-06 10:52:04,053 - decision_learning.modeling.train - INFO - epoch: 77, train_loss: 23.209471130371092, val_metric: 0.6908565641112403\n",
      "2024-11-06 10:52:04,053 - decision_learning.modeling.train - INFO - epoch: 77, train_loss: 23.209471130371092, val_metric: 0.6908565641112403\n",
      "100%|██████████| 45/45 [00:00<00:00, 368.40it/s]\n",
      "100%|██████████| 12/12 [00:00<00:00, 3489.44it/s]\n",
      "2024-11-06 10:52:04,182 - decision_learning.modeling.train - INFO - epoch: 78, train_loss: 23.20947125752767, val_metric: 0.6905737438888095\n",
      "2024-11-06 10:52:04,182 - decision_learning.modeling.train - INFO - epoch: 78, train_loss: 23.20947125752767, val_metric: 0.6905737438888095\n",
      "100%|██████████| 45/45 [00:00<00:00, 367.24it/s]\n",
      "100%|██████████| 12/12 [00:00<00:00, 3473.54it/s]\n",
      "2024-11-06 10:52:04,312 - decision_learning.modeling.train - INFO - epoch: 79, train_loss: 23.20947108798557, val_metric: 0.6803894282267817\n",
      "2024-11-06 10:52:04,312 - decision_learning.modeling.train - INFO - epoch: 79, train_loss: 23.20947108798557, val_metric: 0.6803894282267817\n",
      "100%|██████████| 45/45 [00:00<00:00, 368.18it/s]\n",
      "100%|██████████| 12/12 [00:00<00:00, 3491.86it/s]\n",
      "2024-11-06 10:52:04,441 - decision_learning.modeling.train - INFO - epoch: 80, train_loss: 23.209470876057942, val_metric: 0.6870064077391069\n",
      "2024-11-06 10:52:04,441 - decision_learning.modeling.train - INFO - epoch: 80, train_loss: 23.209470876057942, val_metric: 0.6870064077391069\n",
      "100%|██████████| 45/45 [00:00<00:00, 367.82it/s]\n",
      "100%|██████████| 12/12 [00:00<00:00, 3477.86it/s]\n",
      "2024-11-06 10:52:04,570 - decision_learning.modeling.train - INFO - epoch: 81, train_loss: 23.209471299913194, val_metric: 0.6907486565389186\n",
      "2024-11-06 10:52:04,570 - decision_learning.modeling.train - INFO - epoch: 81, train_loss: 23.209471299913194, val_metric: 0.6907486565389186\n",
      "100%|██████████| 45/45 [00:00<00:00, 367.40it/s]\n",
      "100%|██████████| 12/12 [00:00<00:00, 3491.13it/s]\n",
      "2024-11-06 10:52:04,700 - decision_learning.modeling.train - INFO - epoch: 82, train_loss: 23.209471215142145, val_metric: 0.6851135396339282\n",
      "2024-11-06 10:52:04,700 - decision_learning.modeling.train - INFO - epoch: 82, train_loss: 23.209471215142145, val_metric: 0.6851135396339282\n",
      "100%|██████████| 45/45 [00:00<00:00, 368.25it/s]\n",
      "100%|██████████| 12/12 [00:00<00:00, 3457.32it/s]\n",
      "2024-11-06 10:52:04,829 - decision_learning.modeling.train - INFO - epoch: 83, train_loss: 23.209471045600043, val_metric: 0.6727662068012098\n",
      "2024-11-06 10:52:04,829 - decision_learning.modeling.train - INFO - epoch: 83, train_loss: 23.209471045600043, val_metric: 0.6727662068012098\n",
      "100%|██████████| 45/45 [00:00<00:00, 367.60it/s]\n",
      "100%|██████████| 12/12 [00:00<00:00, 3489.92it/s]\n",
      "2024-11-06 10:52:04,959 - decision_learning.modeling.train - INFO - epoch: 84, train_loss: 23.209471045600043, val_metric: 0.686760181817858\n",
      "2024-11-06 10:52:04,959 - decision_learning.modeling.train - INFO - epoch: 84, train_loss: 23.209471045600043, val_metric: 0.686760181817858\n",
      "100%|██████████| 45/45 [00:00<00:00, 367.66it/s]\n",
      "100%|██████████| 12/12 [00:00<00:00, 3491.37it/s]\n",
      "2024-11-06 10:52:05,088 - decision_learning.modeling.train - INFO - epoch: 85, train_loss: 23.20947134229872, val_metric: 0.6900028829272975\n",
      "2024-11-06 10:52:05,088 - decision_learning.modeling.train - INFO - epoch: 85, train_loss: 23.20947134229872, val_metric: 0.6900028829272975\n",
      "100%|██████████| 45/45 [00:00<00:00, 368.27it/s]\n",
      "100%|██████████| 12/12 [00:00<00:00, 3497.93it/s]\n",
      "2024-11-06 10:52:05,217 - decision_learning.modeling.train - INFO - epoch: 86, train_loss: 23.209471003214517, val_metric: 0.687852993075175\n",
      "2024-11-06 10:52:05,217 - decision_learning.modeling.train - INFO - epoch: 86, train_loss: 23.209471003214517, val_metric: 0.687852993075175\n",
      "100%|██████████| 45/45 [00:00<00:00, 368.17it/s]\n",
      "100%|██████████| 12/12 [00:00<00:00, 3510.86it/s]\n",
      "2024-11-06 10:52:05,347 - decision_learning.modeling.train - INFO - epoch: 87, train_loss: 23.209471045600043, val_metric: 0.6683803139145437\n",
      "2024-11-06 10:52:05,347 - decision_learning.modeling.train - INFO - epoch: 87, train_loss: 23.209471045600043, val_metric: 0.6683803139145437\n",
      "100%|██████████| 45/45 [00:00<00:00, 368.34it/s]\n",
      "100%|██████████| 12/12 [00:00<00:00, 3502.31it/s]\n",
      "2024-11-06 10:52:05,476 - decision_learning.modeling.train - INFO - epoch: 88, train_loss: 23.209471215142145, val_metric: 0.6839619342085073\n",
      "2024-11-06 10:52:05,476 - decision_learning.modeling.train - INFO - epoch: 88, train_loss: 23.209471215142145, val_metric: 0.6839619342085073\n",
      "100%|██████████| 45/45 [00:00<00:00, 367.23it/s]\n",
      "100%|██████████| 12/12 [00:00<00:00, 3528.33it/s]\n",
      "2024-11-06 10:52:05,605 - decision_learning.modeling.train - INFO - epoch: 89, train_loss: 23.209471299913194, val_metric: 0.6870573964745487\n",
      "2024-11-06 10:52:05,605 - decision_learning.modeling.train - INFO - epoch: 89, train_loss: 23.209471299913194, val_metric: 0.6870573964745487\n",
      "100%|██████████| 45/45 [00:00<00:00, 367.85it/s]\n",
      "100%|██████████| 12/12 [00:00<00:00, 3505.97it/s]\n",
      "2024-11-06 10:52:05,735 - decision_learning.modeling.train - INFO - epoch: 90, train_loss: 23.20947091844347, val_metric: 0.6832694808252011\n",
      "2024-11-06 10:52:05,735 - decision_learning.modeling.train - INFO - epoch: 90, train_loss: 23.20947091844347, val_metric: 0.6832694808252011\n",
      "100%|██████████| 45/45 [00:00<00:00, 368.19it/s]\n",
      "100%|██████████| 12/12 [00:00<00:00, 3501.09it/s]\n",
      "2024-11-06 10:52:05,864 - decision_learning.modeling.train - INFO - epoch: 91, train_loss: 23.209471130371092, val_metric: 0.6920419254986931\n",
      "2024-11-06 10:52:05,864 - decision_learning.modeling.train - INFO - epoch: 91, train_loss: 23.209471130371092, val_metric: 0.6920419254986931\n",
      "100%|██████████| 45/45 [00:00<00:00, 367.76it/s]\n",
      "100%|██████████| 12/12 [00:00<00:00, 3490.65it/s]\n",
      "2024-11-06 10:52:05,994 - decision_learning.modeling.train - INFO - epoch: 92, train_loss: 23.20947125752767, val_metric: 0.7029509806518566\n",
      "2024-11-06 10:52:05,994 - decision_learning.modeling.train - INFO - epoch: 92, train_loss: 23.20947125752767, val_metric: 0.7029509806518566\n",
      "100%|██████████| 45/45 [00:00<00:00, 367.66it/s]\n",
      "100%|██████████| 12/12 [00:00<00:00, 3478.34it/s]\n",
      "2024-11-06 10:52:06,123 - decision_learning.modeling.train - INFO - epoch: 93, train_loss: 23.209471299913194, val_metric: 0.6896628904448485\n",
      "2024-11-06 10:52:06,123 - decision_learning.modeling.train - INFO - epoch: 93, train_loss: 23.209471299913194, val_metric: 0.6896628904448485\n",
      "100%|██████████| 45/45 [00:00<00:00, 366.16it/s]\n",
      "100%|██████████| 12/12 [00:00<00:00, 3497.44it/s]\n",
      "2024-11-06 10:52:06,253 - decision_learning.modeling.train - INFO - epoch: 94, train_loss: 23.209470876057942, val_metric: 0.6911986853480516\n",
      "2024-11-06 10:52:06,253 - decision_learning.modeling.train - INFO - epoch: 94, train_loss: 23.209470876057942, val_metric: 0.6911986853480516\n",
      "100%|██████████| 45/45 [00:00<00:00, 366.81it/s]\n",
      "100%|██████████| 12/12 [00:00<00:00, 3479.79it/s]\n",
      "2024-11-06 10:52:06,383 - decision_learning.modeling.train - INFO - epoch: 95, train_loss: 23.209471299913194, val_metric: 0.6969387701169586\n",
      "2024-11-06 10:52:06,383 - decision_learning.modeling.train - INFO - epoch: 95, train_loss: 23.209471299913194, val_metric: 0.6969387701169586\n",
      "100%|██████████| 45/45 [00:00<00:00, 366.72it/s]\n",
      "100%|██████████| 12/12 [00:00<00:00, 3494.53it/s]\n",
      "2024-11-06 10:52:06,513 - decision_learning.modeling.train - INFO - epoch: 96, train_loss: 23.209471045600043, val_metric: 0.6999820272164939\n",
      "2024-11-06 10:52:06,513 - decision_learning.modeling.train - INFO - epoch: 96, train_loss: 23.209471045600043, val_metric: 0.6999820272164939\n",
      "100%|██████████| 45/45 [00:00<00:00, 366.65it/s]\n",
      "100%|██████████| 12/12 [00:00<00:00, 3503.28it/s]\n",
      "2024-11-06 10:52:06,643 - decision_learning.modeling.train - INFO - epoch: 97, train_loss: 23.20947108798557, val_metric: 0.6852522634598767\n",
      "2024-11-06 10:52:06,643 - decision_learning.modeling.train - INFO - epoch: 97, train_loss: 23.20947108798557, val_metric: 0.6852522634598767\n",
      "100%|██████████| 45/45 [00:00<00:00, 367.07it/s]\n",
      "100%|██████████| 12/12 [00:00<00:00, 3489.92it/s]\n",
      "2024-11-06 10:52:06,772 - decision_learning.modeling.train - INFO - epoch: 98, train_loss: 23.209471003214517, val_metric: 0.6865328612627323\n",
      "2024-11-06 10:52:06,772 - decision_learning.modeling.train - INFO - epoch: 98, train_loss: 23.209471003214517, val_metric: 0.6865328612627323\n",
      "100%|██████████| 45/45 [00:00<00:00, 368.02it/s]\n",
      "100%|██████████| 12/12 [00:00<00:00, 3478.34it/s]\n",
      "2024-11-06 10:52:06,902 - decision_learning.modeling.train - INFO - epoch: 99, train_loss: 23.209471384684246, val_metric: 0.6941609484125612\n",
      "2024-11-06 10:52:06,902 - decision_learning.modeling.train - INFO - epoch: 99, train_loss: 23.209471384684246, val_metric: 0.6941609484125612\n"
     ]
    },
    {
     "name": "stdout",
     "output_type": "stream",
     "text": [
      "0.025 B\n"
     ]
    },
    {
     "name": "stderr",
     "output_type": "stream",
     "text": [
      "100%|██████████| 45/45 [00:00<00:00, 367.16it/s]\n",
      "100%|██████████| 12/12 [00:00<00:00, 3462.08it/s]\n",
      "2024-11-06 10:52:07,039 - decision_learning.modeling.train - INFO - epoch: 0, train_loss: 21.21046863132053, val_metric: 0.6104436283416863\n",
      "2024-11-06 10:52:07,039 - decision_learning.modeling.train - INFO - epoch: 0, train_loss: 21.21046863132053, val_metric: 0.6104436283416863\n",
      "100%|██████████| 45/45 [00:00<00:00, 366.66it/s]\n",
      "100%|██████████| 12/12 [00:00<00:00, 3476.18it/s]\n",
      "2024-11-06 10:52:07,169 - decision_learning.modeling.train - INFO - epoch: 1, train_loss: 21.984708404541017, val_metric: 0.6468948975042804\n",
      "2024-11-06 10:52:07,169 - decision_learning.modeling.train - INFO - epoch: 1, train_loss: 21.984708404541017, val_metric: 0.6468948975042804\n",
      "100%|██████████| 45/45 [00:00<00:00, 367.80it/s]\n",
      "100%|██████████| 12/12 [00:00<00:00, 3457.08it/s]\n",
      "2024-11-06 10:52:07,299 - decision_learning.modeling.train - INFO - epoch: 2, train_loss: 22.399849616156683, val_metric: 0.6539994631348464\n",
      "2024-11-06 10:52:07,299 - decision_learning.modeling.train - INFO - epoch: 2, train_loss: 22.399849616156683, val_metric: 0.6539994631348464\n",
      "100%|██████████| 45/45 [00:00<00:00, 366.40it/s]\n",
      "100%|██████████| 12/12 [00:00<00:00, 3497.44it/s]\n",
      "2024-11-06 10:52:07,429 - decision_learning.modeling.train - INFO - epoch: 3, train_loss: 22.58023533291287, val_metric: 0.6520452159455523\n",
      "2024-11-06 10:52:07,429 - decision_learning.modeling.train - INFO - epoch: 3, train_loss: 22.58023533291287, val_metric: 0.6520452159455523\n",
      "100%|██████████| 45/45 [00:00<00:00, 366.93it/s]\n",
      "100%|██████████| 12/12 [00:00<00:00, 3493.07it/s]\n",
      "2024-11-06 10:52:07,558 - decision_learning.modeling.train - INFO - epoch: 4, train_loss: 22.53486302693685, val_metric: 0.6598039173809015\n",
      "2024-11-06 10:52:07,558 - decision_learning.modeling.train - INFO - epoch: 4, train_loss: 22.53486302693685, val_metric: 0.6598039173809015\n",
      "100%|██████████| 45/45 [00:00<00:00, 368.05it/s]\n",
      "100%|██████████| 12/12 [00:00<00:00, 3480.03it/s]\n",
      "2024-11-06 10:52:07,688 - decision_learning.modeling.train - INFO - epoch: 5, train_loss: 22.62013274298774, val_metric: 0.6464357961467935\n",
      "2024-11-06 10:52:07,688 - decision_learning.modeling.train - INFO - epoch: 5, train_loss: 22.62013274298774, val_metric: 0.6464357961467935\n",
      "100%|██████████| 45/45 [00:00<00:00, 365.62it/s]\n",
      "100%|██████████| 12/12 [00:00<00:00, 3468.99it/s]\n",
      "2024-11-06 10:52:07,818 - decision_learning.modeling.train - INFO - epoch: 6, train_loss: 22.774475309583877, val_metric: 0.6717970660354217\n",
      "2024-11-06 10:52:07,818 - decision_learning.modeling.train - INFO - epoch: 6, train_loss: 22.774475309583877, val_metric: 0.6717970660354217\n",
      "100%|██████████| 45/45 [00:00<00:00, 367.85it/s]\n",
      "100%|██████████| 12/12 [00:00<00:00, 3473.54it/s]\n",
      "2024-11-06 10:52:07,948 - decision_learning.modeling.train - INFO - epoch: 7, train_loss: 22.811494233873155, val_metric: 0.6486484335679785\n",
      "2024-11-06 10:52:07,948 - decision_learning.modeling.train - INFO - epoch: 7, train_loss: 22.811494233873155, val_metric: 0.6486484335679785\n",
      "100%|██████████| 45/45 [00:00<00:00, 366.95it/s]\n",
      "100%|██████████| 12/12 [00:00<00:00, 3460.41it/s]\n",
      "2024-11-06 10:52:08,077 - decision_learning.modeling.train - INFO - epoch: 8, train_loss: 22.94316168891059, val_metric: 0.6785452173641717\n",
      "2024-11-06 10:52:08,077 - decision_learning.modeling.train - INFO - epoch: 8, train_loss: 22.94316168891059, val_metric: 0.6785452173641717\n",
      "100%|██████████| 45/45 [00:00<00:00, 366.95it/s]\n",
      "100%|██████████| 12/12 [00:00<00:00, 3485.09it/s]\n",
      "2024-11-06 10:52:08,207 - decision_learning.modeling.train - INFO - epoch: 9, train_loss: 22.94378242492676, val_metric: 0.6731221649413767\n",
      "2024-11-06 10:52:08,207 - decision_learning.modeling.train - INFO - epoch: 9, train_loss: 22.94378242492676, val_metric: 0.6731221649413767\n",
      "100%|██████████| 45/45 [00:00<00:00, 368.19it/s]\n",
      "100%|██████████| 12/12 [00:00<00:00, 3497.68it/s]\n",
      "2024-11-06 10:52:08,337 - decision_learning.modeling.train - INFO - epoch: 10, train_loss: 22.962913597954643, val_metric: 0.6723665585119865\n",
      "2024-11-06 10:52:08,337 - decision_learning.modeling.train - INFO - epoch: 10, train_loss: 22.962913597954643, val_metric: 0.6723665585119865\n",
      "100%|██████████| 45/45 [00:00<00:00, 366.53it/s]\n",
      "100%|██████████| 12/12 [00:00<00:00, 2886.98it/s]\n",
      "2024-11-06 10:52:08,467 - decision_learning.modeling.train - INFO - epoch: 11, train_loss: 22.974854236178928, val_metric: 0.6931188724675476\n",
      "2024-11-06 10:52:08,467 - decision_learning.modeling.train - INFO - epoch: 11, train_loss: 22.974854236178928, val_metric: 0.6931188724675476\n",
      "100%|██████████| 45/45 [00:00<00:00, 363.97it/s]\n",
      "100%|██████████| 12/12 [00:00<00:00, 3492.10it/s]\n",
      "2024-11-06 10:52:08,598 - decision_learning.modeling.train - INFO - epoch: 12, train_loss: 22.96979700724284, val_metric: 0.6748486860985236\n",
      "2024-11-06 10:52:08,598 - decision_learning.modeling.train - INFO - epoch: 12, train_loss: 22.96979700724284, val_metric: 0.6748486860985236\n",
      "100%|██████████| 45/45 [00:00<00:00, 366.24it/s]\n",
      "100%|██████████| 12/12 [00:00<00:00, 3472.82it/s]\n",
      "2024-11-06 10:52:08,728 - decision_learning.modeling.train - INFO - epoch: 13, train_loss: 22.958878877427843, val_metric: 0.684947091316641\n",
      "2024-11-06 10:52:08,728 - decision_learning.modeling.train - INFO - epoch: 13, train_loss: 22.958878877427843, val_metric: 0.684947091316641\n",
      "100%|██████████| 45/45 [00:00<00:00, 365.17it/s]\n",
      "100%|██████████| 12/12 [00:00<00:00, 3464.22it/s]\n",
      "2024-11-06 10:52:08,859 - decision_learning.modeling.train - INFO - epoch: 14, train_loss: 22.971468353271483, val_metric: 0.6796530819559083\n",
      "2024-11-06 10:52:08,859 - decision_learning.modeling.train - INFO - epoch: 14, train_loss: 22.971468353271483, val_metric: 0.6796530819559083\n",
      "100%|██████████| 45/45 [00:00<00:00, 363.85it/s]\n",
      "100%|██████████| 12/12 [00:00<00:00, 3412.32it/s]\n",
      "2024-11-06 10:52:08,990 - decision_learning.modeling.train - INFO - epoch: 15, train_loss: 22.999687915378146, val_metric: 0.662619549817545\n",
      "2024-11-06 10:52:08,990 - decision_learning.modeling.train - INFO - epoch: 15, train_loss: 22.999687915378146, val_metric: 0.662619549817545\n",
      "100%|██████████| 45/45 [00:00<00:00, 365.58it/s]\n",
      "100%|██████████| 12/12 [00:00<00:00, 3430.22it/s]\n",
      "2024-11-06 10:52:09,120 - decision_learning.modeling.train - INFO - epoch: 16, train_loss: 23.010223176744248, val_metric: 0.6639453076236598\n",
      "2024-11-06 10:52:09,120 - decision_learning.modeling.train - INFO - epoch: 16, train_loss: 23.010223176744248, val_metric: 0.6639453076236598\n",
      "100%|██████████| 45/45 [00:00<00:00, 364.66it/s]\n",
      "100%|██████████| 12/12 [00:00<00:00, 3453.29it/s]\n",
      "2024-11-06 10:52:09,251 - decision_learning.modeling.train - INFO - epoch: 17, train_loss: 23.661318842569987, val_metric: 0.6787317367940184\n",
      "2024-11-06 10:52:09,251 - decision_learning.modeling.train - INFO - epoch: 17, train_loss: 23.661318842569987, val_metric: 0.6787317367940184\n",
      "100%|██████████| 45/45 [00:00<00:00, 365.72it/s]\n",
      "100%|██████████| 12/12 [00:00<00:00, 3449.50it/s]\n",
      "2024-11-06 10:52:09,381 - decision_learning.modeling.train - INFO - epoch: 18, train_loss: 23.03597577412923, val_metric: 0.6763944658733787\n",
      "2024-11-06 10:52:09,381 - decision_learning.modeling.train - INFO - epoch: 18, train_loss: 23.03597577412923, val_metric: 0.6763944658733787\n",
      "100%|██████████| 45/45 [00:00<00:00, 366.04it/s]\n",
      "100%|██████████| 12/12 [00:00<00:00, 3482.44it/s]\n",
      "2024-11-06 10:52:09,511 - decision_learning.modeling.train - INFO - epoch: 19, train_loss: 23.030117670694988, val_metric: 0.6824902046746865\n",
      "2024-11-06 10:52:09,511 - decision_learning.modeling.train - INFO - epoch: 19, train_loss: 23.030117670694988, val_metric: 0.6824902046746865\n",
      "100%|██████████| 45/45 [00:00<00:00, 364.08it/s]\n",
      "100%|██████████| 12/12 [00:00<00:00, 3464.70it/s]\n",
      "2024-11-06 10:52:09,642 - decision_learning.modeling.train - INFO - epoch: 20, train_loss: 23.028017849392363, val_metric: 0.675797603697869\n",
      "2024-11-06 10:52:09,642 - decision_learning.modeling.train - INFO - epoch: 20, train_loss: 23.028017849392363, val_metric: 0.675797603697869\n",
      "100%|██████████| 45/45 [00:00<00:00, 365.56it/s]\n",
      "100%|██████████| 12/12 [00:00<00:00, 3458.27it/s]\n",
      "2024-11-06 10:52:09,773 - decision_learning.modeling.train - INFO - epoch: 21, train_loss: 23.030078421698676, val_metric: 0.6719355364382319\n",
      "2024-11-06 10:52:09,773 - decision_learning.modeling.train - INFO - epoch: 21, train_loss: 23.030078421698676, val_metric: 0.6719355364382319\n",
      "100%|██████████| 45/45 [00:00<00:00, 364.58it/s]\n",
      "100%|██████████| 12/12 [00:00<00:00, 3454.00it/s]\n",
      "2024-11-06 10:52:09,903 - decision_learning.modeling.train - INFO - epoch: 22, train_loss: 23.03007630242242, val_metric: 0.6778745583707662\n",
      "2024-11-06 10:52:09,903 - decision_learning.modeling.train - INFO - epoch: 22, train_loss: 23.03007630242242, val_metric: 0.6778745583707662\n",
      "100%|██████████| 45/45 [00:00<00:00, 363.59it/s]\n",
      "100%|██████████| 12/12 [00:00<00:00, 3435.37it/s]\n",
      "2024-11-06 10:52:10,034 - decision_learning.modeling.train - INFO - epoch: 23, train_loss: 23.030070283677844, val_metric: 0.6866514632914936\n",
      "2024-11-06 10:52:10,034 - decision_learning.modeling.train - INFO - epoch: 23, train_loss: 23.030070283677844, val_metric: 0.6866514632914936\n",
      "100%|██████████| 45/45 [00:00<00:00, 364.74it/s]\n",
      "100%|██████████| 12/12 [00:00<00:00, 3465.41it/s]\n",
      "2024-11-06 10:52:10,165 - decision_learning.modeling.train - INFO - epoch: 24, train_loss: 23.030072487725153, val_metric: 0.6820269978623577\n",
      "2024-11-06 10:52:10,165 - decision_learning.modeling.train - INFO - epoch: 24, train_loss: 23.030072487725153, val_metric: 0.6820269978623577\n",
      "100%|██████████| 45/45 [00:00<00:00, 363.42it/s]\n",
      "100%|██████████| 12/12 [00:00<00:00, 3443.60it/s]\n",
      "2024-11-06 10:52:10,296 - decision_learning.modeling.train - INFO - epoch: 25, train_loss: 23.030072826809352, val_metric: 0.6797237363268883\n",
      "2024-11-06 10:52:10,296 - decision_learning.modeling.train - INFO - epoch: 25, train_loss: 23.030072826809352, val_metric: 0.6797237363268883\n",
      "100%|██████████| 45/45 [00:00<00:00, 365.88it/s]\n",
      "100%|██████████| 12/12 [00:00<00:00, 3454.23it/s]\n",
      "2024-11-06 10:52:10,426 - decision_learning.modeling.train - INFO - epoch: 26, train_loss: 23.030071936713323, val_metric: 0.684228028503805\n",
      "2024-11-06 10:52:10,426 - decision_learning.modeling.train - INFO - epoch: 26, train_loss: 23.030071936713323, val_metric: 0.684228028503805\n",
      "100%|██████████| 45/45 [00:00<00:00, 363.84it/s]\n",
      "100%|██████████| 12/12 [00:00<00:00, 3415.09it/s]\n",
      "2024-11-06 10:52:10,557 - decision_learning.modeling.train - INFO - epoch: 27, train_loss: 23.030070537990994, val_metric: 0.6668954570621548\n",
      "2024-11-06 10:52:10,557 - decision_learning.modeling.train - INFO - epoch: 27, train_loss: 23.030070537990994, val_metric: 0.6668954570621548\n",
      "100%|██████████| 45/45 [00:00<00:00, 364.75it/s]\n",
      "100%|██████████| 12/12 [00:00<00:00, 3447.85it/s]\n",
      "2024-11-06 10:52:10,688 - decision_learning.modeling.train - INFO - epoch: 28, train_loss: 23.030070961846246, val_metric: 0.6765826072113111\n",
      "2024-11-06 10:52:10,688 - decision_learning.modeling.train - INFO - epoch: 28, train_loss: 23.030070961846246, val_metric: 0.6765826072113111\n",
      "100%|██████████| 45/45 [00:00<00:00, 364.29it/s]\n",
      "100%|██████████| 12/12 [00:00<00:00, 3447.37it/s]\n",
      "2024-11-06 10:52:10,819 - decision_learning.modeling.train - INFO - epoch: 29, train_loss: 23.030072021484376, val_metric: 0.6805558258594412\n",
      "2024-11-06 10:52:10,819 - decision_learning.modeling.train - INFO - epoch: 29, train_loss: 23.030072021484376, val_metric: 0.6805558258594412\n",
      "100%|██████████| 45/45 [00:00<00:00, 364.48it/s]\n",
      "100%|██████████| 12/12 [00:00<00:00, 3441.01it/s]\n",
      "2024-11-06 10:52:10,949 - decision_learning.modeling.train - INFO - epoch: 30, train_loss: 23.030070749918618, val_metric: 0.6778253942819207\n",
      "2024-11-06 10:52:10,949 - decision_learning.modeling.train - INFO - epoch: 30, train_loss: 23.030070749918618, val_metric: 0.6778253942819207\n",
      "100%|██████████| 45/45 [00:00<00:00, 364.58it/s]\n",
      "100%|██████████| 12/12 [00:00<00:00, 3434.67it/s]\n",
      "2024-11-06 10:52:11,080 - decision_learning.modeling.train - INFO - epoch: 31, train_loss: 23.030073844061956, val_metric: 0.6587466867322129\n",
      "2024-11-06 10:52:11,080 - decision_learning.modeling.train - INFO - epoch: 31, train_loss: 23.030073844061956, val_metric: 0.6587466867322129\n",
      "100%|██████████| 45/45 [00:00<00:00, 365.70it/s]\n",
      "100%|██████████| 12/12 [00:00<00:00, 3448.55it/s]\n",
      "2024-11-06 10:52:11,210 - decision_learning.modeling.train - INFO - epoch: 32, train_loss: 23.03007134331597, val_metric: 0.6801511091074504\n",
      "2024-11-06 10:52:11,210 - decision_learning.modeling.train - INFO - epoch: 32, train_loss: 23.03007134331597, val_metric: 0.6801511091074504\n",
      "100%|██████████| 45/45 [00:00<00:00, 365.12it/s]\n",
      "100%|██████████| 12/12 [00:00<00:00, 3488.23it/s]\n",
      "2024-11-06 10:52:11,341 - decision_learning.modeling.train - INFO - epoch: 33, train_loss: 23.03006935119629, val_metric: 0.6816342426824983\n",
      "2024-11-06 10:52:11,341 - decision_learning.modeling.train - INFO - epoch: 33, train_loss: 23.03006935119629, val_metric: 0.6816342426824983\n",
      "100%|██████████| 45/45 [00:00<00:00, 365.45it/s]\n",
      "100%|██████████| 12/12 [00:00<00:00, 3432.80it/s]\n",
      "2024-11-06 10:52:11,472 - decision_learning.modeling.train - INFO - epoch: 34, train_loss: 23.030071046617294, val_metric: 0.6784777054401075\n",
      "2024-11-06 10:52:11,472 - decision_learning.modeling.train - INFO - epoch: 34, train_loss: 23.030071046617294, val_metric: 0.6784777054401075\n",
      "100%|██████████| 45/45 [00:00<00:00, 363.99it/s]\n",
      "100%|██████████| 12/12 [00:00<00:00, 3458.74it/s]\n",
      "2024-11-06 10:52:11,602 - decision_learning.modeling.train - INFO - epoch: 35, train_loss: 23.03007108900282, val_metric: 0.689660153474954\n",
      "2024-11-06 10:52:11,602 - decision_learning.modeling.train - INFO - epoch: 35, train_loss: 23.03007108900282, val_metric: 0.689660153474954\n",
      "100%|██████████| 45/45 [00:00<00:00, 365.82it/s]\n",
      "100%|██████████| 12/12 [00:00<00:00, 3475.46it/s]\n",
      "2024-11-06 10:52:11,733 - decision_learning.modeling.train - INFO - epoch: 36, train_loss: 23.030073801676433, val_metric: 0.6798884613668346\n",
      "2024-11-06 10:52:11,733 - decision_learning.modeling.train - INFO - epoch: 36, train_loss: 23.030073801676433, val_metric: 0.6798884613668346\n",
      "100%|██████████| 45/45 [00:00<00:00, 365.39it/s]\n",
      "100%|██████████| 12/12 [00:00<00:00, 3476.90it/s]\n",
      "2024-11-06 10:52:11,863 - decision_learning.modeling.train - INFO - epoch: 37, train_loss: 23.030071640014647, val_metric: 0.6683297306561233\n",
      "2024-11-06 10:52:11,863 - decision_learning.modeling.train - INFO - epoch: 37, train_loss: 23.030071640014647, val_metric: 0.6683297306561233\n",
      "100%|██████████| 45/45 [00:00<00:00, 365.92it/s]\n",
      "100%|██████████| 12/12 [00:00<00:00, 3435.61it/s]\n",
      "2024-11-06 10:52:11,993 - decision_learning.modeling.train - INFO - epoch: 38, train_loss: 23.03007041083442, val_metric: 0.67909914966004\n",
      "2024-11-06 10:52:11,993 - decision_learning.modeling.train - INFO - epoch: 38, train_loss: 23.03007041083442, val_metric: 0.67909914966004\n",
      "100%|██████████| 45/45 [00:00<00:00, 366.15it/s]\n",
      "100%|██████████| 12/12 [00:00<00:00, 3458.74it/s]\n",
      "2024-11-06 10:52:12,124 - decision_learning.modeling.train - INFO - epoch: 39, train_loss: 23.030071428087023, val_metric: 0.6863336706759666\n",
      "2024-11-06 10:52:12,124 - decision_learning.modeling.train - INFO - epoch: 39, train_loss: 23.030071428087023, val_metric: 0.6863336706759666\n",
      "100%|██████████| 45/45 [00:00<00:00, 365.91it/s]\n",
      "100%|██████████| 12/12 [00:00<00:00, 3503.04it/s]\n",
      "2024-11-06 10:52:12,254 - decision_learning.modeling.train - INFO - epoch: 40, train_loss: 23.03007134331597, val_metric: 0.6758135186709592\n",
      "2024-11-06 10:52:12,254 - decision_learning.modeling.train - INFO - epoch: 40, train_loss: 23.03007134331597, val_metric: 0.6758135186709592\n",
      "100%|██████████| 45/45 [00:00<00:00, 366.70it/s]\n",
      "100%|██████████| 12/12 [00:00<00:00, 3490.41it/s]\n",
      "2024-11-06 10:52:12,383 - decision_learning.modeling.train - INFO - epoch: 41, train_loss: 23.03007354736328, val_metric: 0.6711392302528181\n",
      "2024-11-06 10:52:12,383 - decision_learning.modeling.train - INFO - epoch: 41, train_loss: 23.03007354736328, val_metric: 0.6711392302528181\n",
      "100%|██████████| 45/45 [00:00<00:00, 367.75it/s]\n",
      "100%|██████████| 12/12 [00:00<00:00, 3501.58it/s]\n",
      "2024-11-06 10:52:12,513 - decision_learning.modeling.train - INFO - epoch: 42, train_loss: 23.030070283677844, val_metric: 0.6788775057832139\n",
      "2024-11-06 10:52:12,513 - decision_learning.modeling.train - INFO - epoch: 42, train_loss: 23.030070283677844, val_metric: 0.6788775057832139\n",
      "100%|██████████| 45/45 [00:00<00:00, 367.24it/s]\n",
      "100%|██████████| 12/12 [00:00<00:00, 3521.17it/s]\n",
      "2024-11-06 10:52:12,643 - decision_learning.modeling.train - INFO - epoch: 43, train_loss: 23.030072572496202, val_metric: 0.6745259263894843\n",
      "2024-11-06 10:52:12,643 - decision_learning.modeling.train - INFO - epoch: 43, train_loss: 23.030072572496202, val_metric: 0.6745259263894843\n",
      "100%|██████████| 45/45 [00:00<00:00, 367.70it/s]\n",
      "100%|██████████| 12/12 [00:00<00:00, 3500.60it/s]\n",
      "2024-11-06 10:52:12,772 - decision_learning.modeling.train - INFO - epoch: 44, train_loss: 23.03007083468967, val_metric: 0.6929286530598805\n",
      "2024-11-06 10:52:12,772 - decision_learning.modeling.train - INFO - epoch: 44, train_loss: 23.03007083468967, val_metric: 0.6929286530598805\n",
      "100%|██████████| 45/45 [00:00<00:00, 367.73it/s]\n",
      "100%|██████████| 12/12 [00:00<00:00, 3511.59it/s]\n",
      "2024-11-06 10:52:12,901 - decision_learning.modeling.train - INFO - epoch: 45, train_loss: 23.0300718943278, val_metric: 0.6676097555199891\n",
      "2024-11-06 10:52:12,901 - decision_learning.modeling.train - INFO - epoch: 45, train_loss: 23.0300718943278, val_metric: 0.6676097555199891\n",
      "100%|██████████| 45/45 [00:00<00:00, 366.82it/s]\n",
      "100%|██████████| 12/12 [00:00<00:00, 3460.88it/s]\n",
      "2024-11-06 10:52:13,031 - decision_learning.modeling.train - INFO - epoch: 46, train_loss: 23.030071512858072, val_metric: 0.6805526327278977\n",
      "2024-11-06 10:52:13,031 - decision_learning.modeling.train - INFO - epoch: 46, train_loss: 23.030071512858072, val_metric: 0.6805526327278977\n",
      "100%|██████████| 45/45 [00:00<00:00, 367.72it/s]\n",
      "100%|██████████| 12/12 [00:00<00:00, 3499.87it/s]\n",
      "2024-11-06 10:52:13,161 - decision_learning.modeling.train - INFO - epoch: 47, train_loss: 23.030071428087023, val_metric: 0.6689015546255611\n",
      "2024-11-06 10:52:13,161 - decision_learning.modeling.train - INFO - epoch: 47, train_loss: 23.030071428087023, val_metric: 0.6689015546255611\n",
      "100%|██████████| 45/45 [00:00<00:00, 367.31it/s]\n",
      "100%|██████████| 12/12 [00:00<00:00, 3514.78it/s]\n",
      "2024-11-06 10:52:13,290 - decision_learning.modeling.train - INFO - epoch: 48, train_loss: 23.030071555243598, val_metric: 0.6776075010675425\n",
      "2024-11-06 10:52:13,290 - decision_learning.modeling.train - INFO - epoch: 48, train_loss: 23.030071555243598, val_metric: 0.6776075010675425\n",
      "100%|██████████| 45/45 [00:00<00:00, 369.53it/s]\n",
      "100%|██████████| 12/12 [00:00<00:00, 3518.22it/s]\n",
      "2024-11-06 10:52:13,419 - decision_learning.modeling.train - INFO - epoch: 49, train_loss: 23.030071216159396, val_metric: 0.681903935586361\n",
      "2024-11-06 10:52:13,419 - decision_learning.modeling.train - INFO - epoch: 49, train_loss: 23.030071216159396, val_metric: 0.681903935586361\n",
      "100%|██████████| 45/45 [00:00<00:00, 367.15it/s]\n",
      "100%|██████████| 12/12 [00:00<00:00, 3534.03it/s]\n",
      "2024-11-06 10:52:13,549 - decision_learning.modeling.train - INFO - epoch: 50, train_loss: 23.030070792304144, val_metric: 0.67431776462362\n",
      "2024-11-06 10:52:13,549 - decision_learning.modeling.train - INFO - epoch: 50, train_loss: 23.030070792304144, val_metric: 0.67431776462362\n",
      "100%|██████████| 45/45 [00:00<00:00, 369.08it/s]\n",
      "100%|██████████| 12/12 [00:00<00:00, 3523.39it/s]\n",
      "2024-11-06 10:52:13,678 - decision_learning.modeling.train - INFO - epoch: 51, train_loss: 23.03007108900282, val_metric: 0.699987957317932\n",
      "2024-11-06 10:52:13,678 - decision_learning.modeling.train - INFO - epoch: 51, train_loss: 23.03007108900282, val_metric: 0.699987957317932\n",
      "100%|██████████| 45/45 [00:00<00:00, 368.80it/s]\n",
      "100%|██████████| 12/12 [00:00<00:00, 3504.50it/s]\n",
      "2024-11-06 10:52:13,807 - decision_learning.modeling.train - INFO - epoch: 52, train_loss: 23.030071851942274, val_metric: 0.6841356811121798\n",
      "2024-11-06 10:52:13,807 - decision_learning.modeling.train - INFO - epoch: 52, train_loss: 23.030071851942274, val_metric: 0.6841356811121798\n",
      "100%|██████████| 45/45 [00:00<00:00, 368.25it/s]\n",
      "100%|██████████| 12/12 [00:00<00:00, 3513.31it/s]\n",
      "2024-11-06 10:52:13,936 - decision_learning.modeling.train - INFO - epoch: 53, train_loss: 23.03007320827908, val_metric: 0.6862841011100997\n",
      "2024-11-06 10:52:13,936 - decision_learning.modeling.train - INFO - epoch: 53, train_loss: 23.03007320827908, val_metric: 0.6862841011100997\n",
      "100%|██████████| 45/45 [00:00<00:00, 367.59it/s]\n",
      "100%|██████████| 12/12 [00:00<00:00, 3490.89it/s]\n",
      "2024-11-06 10:52:14,065 - decision_learning.modeling.train - INFO - epoch: 54, train_loss: 23.030071597629124, val_metric: 0.6704334468124332\n",
      "2024-11-06 10:52:14,065 - decision_learning.modeling.train - INFO - epoch: 54, train_loss: 23.030071597629124, val_metric: 0.6704334468124332\n",
      "100%|██████████| 45/45 [00:00<00:00, 369.15it/s]\n",
      "100%|██████████| 12/12 [00:00<00:00, 3521.67it/s]\n",
      "2024-11-06 10:52:14,194 - decision_learning.modeling.train - INFO - epoch: 55, train_loss: 23.030070707533095, val_metric: 0.6826299421931885\n",
      "2024-11-06 10:52:14,194 - decision_learning.modeling.train - INFO - epoch: 55, train_loss: 23.030070707533095, val_metric: 0.6826299421931885\n",
      "100%|██████████| 45/45 [00:00<00:00, 368.79it/s]\n",
      "100%|██████████| 12/12 [00:00<00:00, 3523.88it/s]\n",
      "2024-11-06 10:52:14,323 - decision_learning.modeling.train - INFO - epoch: 56, train_loss: 23.030071767171226, val_metric: 0.6747273470998678\n",
      "2024-11-06 10:52:14,323 - decision_learning.modeling.train - INFO - epoch: 56, train_loss: 23.030071767171226, val_metric: 0.6747273470998678\n",
      "100%|██████████| 45/45 [00:00<00:00, 368.74it/s]\n",
      "100%|██████████| 12/12 [00:00<00:00, 3480.27it/s]\n",
      "2024-11-06 10:52:14,452 - decision_learning.modeling.train - INFO - epoch: 57, train_loss: 23.030071173773873, val_metric: 0.6834927972947406\n",
      "2024-11-06 10:52:14,452 - decision_learning.modeling.train - INFO - epoch: 57, train_loss: 23.030071173773873, val_metric: 0.6834927972947406\n",
      "100%|██████████| 45/45 [00:00<00:00, 366.17it/s]\n",
      "100%|██████████| 12/12 [00:00<00:00, 3474.98it/s]\n",
      "2024-11-06 10:52:14,583 - decision_learning.modeling.train - INFO - epoch: 58, train_loss: 23.030072742038303, val_metric: 0.6628802208576815\n",
      "2024-11-06 10:52:14,583 - decision_learning.modeling.train - INFO - epoch: 58, train_loss: 23.030072742038303, val_metric: 0.6628802208576815\n",
      "100%|██████████| 45/45 [00:00<00:00, 365.12it/s]\n",
      "100%|██████████| 12/12 [00:00<00:00, 3457.79it/s]\n",
      "2024-11-06 10:52:14,713 - decision_learning.modeling.train - INFO - epoch: 59, train_loss: 23.030070749918618, val_metric: 0.6780071493567659\n",
      "2024-11-06 10:52:14,713 - decision_learning.modeling.train - INFO - epoch: 59, train_loss: 23.030070749918618, val_metric: 0.6780071493567659\n",
      "100%|██████████| 45/45 [00:00<00:00, 366.58it/s]\n",
      "100%|██████████| 12/12 [00:00<00:00, 3469.47it/s]\n",
      "2024-11-06 10:52:14,843 - decision_learning.modeling.train - INFO - epoch: 60, train_loss: 23.03007066514757, val_metric: 0.6792266214986445\n",
      "2024-11-06 10:52:14,843 - decision_learning.modeling.train - INFO - epoch: 60, train_loss: 23.03007066514757, val_metric: 0.6792266214986445\n",
      "100%|██████████| 45/45 [00:00<00:00, 367.45it/s]\n",
      "100%|██████████| 12/12 [00:00<00:00, 3496.47it/s]\n",
      "2024-11-06 10:52:14,973 - decision_learning.modeling.train - INFO - epoch: 61, train_loss: 23.030071046617294, val_metric: 0.6783807457473638\n",
      "2024-11-06 10:52:14,973 - decision_learning.modeling.train - INFO - epoch: 61, train_loss: 23.030071046617294, val_metric: 0.6783807457473638\n",
      "100%|██████████| 45/45 [00:00<00:00, 366.16it/s]\n",
      "100%|██████████| 12/12 [00:00<00:00, 3482.44it/s]\n",
      "2024-11-06 10:52:15,103 - decision_learning.modeling.train - INFO - epoch: 62, train_loss: 23.030072360568575, val_metric: 0.6858536365672495\n",
      "2024-11-06 10:52:15,103 - decision_learning.modeling.train - INFO - epoch: 62, train_loss: 23.030072360568575, val_metric: 0.6858536365672495\n",
      "100%|██████████| 45/45 [00:00<00:00, 368.69it/s]\n",
      "100%|██████████| 12/12 [00:00<00:00, 3492.59it/s]\n",
      "2024-11-06 10:52:15,232 - decision_learning.modeling.train - INFO - epoch: 63, train_loss: 23.03007002936469, val_metric: 0.6867690009430737\n",
      "2024-11-06 10:52:15,232 - decision_learning.modeling.train - INFO - epoch: 63, train_loss: 23.03007002936469, val_metric: 0.6867690009430737\n",
      "100%|██████████| 45/45 [00:00<00:00, 366.81it/s]\n",
      "100%|██████████| 12/12 [00:00<00:00, 3484.12it/s]\n",
      "2024-11-06 10:52:15,362 - decision_learning.modeling.train - INFO - epoch: 64, train_loss: 23.030070537990994, val_metric: 0.6779462264342996\n",
      "2024-11-06 10:52:15,362 - decision_learning.modeling.train - INFO - epoch: 64, train_loss: 23.030070537990994, val_metric: 0.6779462264342996\n",
      "100%|██████████| 45/45 [00:00<00:00, 367.26it/s]\n",
      "100%|██████████| 12/12 [00:00<00:00, 3472.11it/s]\n",
      "2024-11-06 10:52:15,491 - decision_learning.modeling.train - INFO - epoch: 65, train_loss: 23.030070537990994, val_metric: 0.6746435654103198\n",
      "2024-11-06 10:52:15,491 - decision_learning.modeling.train - INFO - epoch: 65, train_loss: 23.030070537990994, val_metric: 0.6746435654103198\n",
      "100%|██████████| 45/45 [00:00<00:00, 367.73it/s]\n",
      "100%|██████████| 12/12 [00:00<00:00, 3493.80it/s]\n",
      "2024-11-06 10:52:15,621 - decision_learning.modeling.train - INFO - epoch: 66, train_loss: 23.030071258544922, val_metric: 0.6767481938899278\n",
      "2024-11-06 10:52:15,621 - decision_learning.modeling.train - INFO - epoch: 66, train_loss: 23.030071258544922, val_metric: 0.6767481938899278\n",
      "100%|██████████| 45/45 [00:00<00:00, 367.38it/s]\n",
      "100%|██████████| 12/12 [00:00<00:00, 3495.25it/s]\n",
      "2024-11-06 10:52:15,751 - decision_learning.modeling.train - INFO - epoch: 67, train_loss: 23.030072233412, val_metric: 0.6825303975844332\n",
      "2024-11-06 10:52:15,751 - decision_learning.modeling.train - INFO - epoch: 67, train_loss: 23.030072233412, val_metric: 0.6825303975844332\n",
      "100%|██████████| 45/45 [00:00<00:00, 368.07it/s]\n",
      "100%|██████████| 12/12 [00:00<00:00, 3476.66it/s]\n",
      "2024-11-06 10:52:15,880 - decision_learning.modeling.train - INFO - epoch: 68, train_loss: 23.030072742038303, val_metric: 0.6899459134057899\n",
      "2024-11-06 10:52:15,880 - decision_learning.modeling.train - INFO - epoch: 68, train_loss: 23.030072742038303, val_metric: 0.6899459134057899\n",
      "100%|██████████| 45/45 [00:00<00:00, 366.74it/s]\n",
      "100%|██████████| 12/12 [00:00<00:00, 3481.23it/s]\n",
      "2024-11-06 10:52:16,010 - decision_learning.modeling.train - INFO - epoch: 69, train_loss: 23.0300724029541, val_metric: 0.6932938864869119\n",
      "2024-11-06 10:52:16,010 - decision_learning.modeling.train - INFO - epoch: 69, train_loss: 23.0300724029541, val_metric: 0.6932938864869119\n",
      "100%|██████████| 45/45 [00:00<00:00, 367.01it/s]\n",
      "100%|██████████| 12/12 [00:00<00:00, 3472.35it/s]\n",
      "2024-11-06 10:52:16,140 - decision_learning.modeling.train - INFO - epoch: 70, train_loss: 23.030069732666014, val_metric: 0.6881435680456401\n",
      "2024-11-06 10:52:16,140 - decision_learning.modeling.train - INFO - epoch: 70, train_loss: 23.030069732666014, val_metric: 0.6881435680456401\n",
      "100%|██████████| 45/45 [00:00<00:00, 366.61it/s]\n",
      "100%|██████████| 12/12 [00:00<00:00, 3484.61it/s]\n",
      "2024-11-06 10:52:16,269 - decision_learning.modeling.train - INFO - epoch: 71, train_loss: 23.030074267917207, val_metric: 0.6863834936649719\n",
      "2024-11-06 10:52:16,269 - decision_learning.modeling.train - INFO - epoch: 71, train_loss: 23.030074267917207, val_metric: 0.6863834936649719\n",
      "100%|██████████| 45/45 [00:00<00:00, 367.06it/s]\n",
      "100%|██████████| 12/12 [00:00<00:00, 3464.22it/s]\n",
      "2024-11-06 10:52:16,399 - decision_learning.modeling.train - INFO - epoch: 72, train_loss: 23.030072911580405, val_metric: 0.668166272731869\n",
      "2024-11-06 10:52:16,399 - decision_learning.modeling.train - INFO - epoch: 72, train_loss: 23.030072911580405, val_metric: 0.668166272731869\n",
      "100%|██████████| 45/45 [00:00<00:00, 366.63it/s]\n",
      "100%|██████████| 12/12 [00:00<00:00, 3323.98it/s]\n",
      "2024-11-06 10:52:16,529 - decision_learning.modeling.train - INFO - epoch: 73, train_loss: 23.03007019890679, val_metric: 0.676050519989971\n",
      "2024-11-06 10:52:16,529 - decision_learning.modeling.train - INFO - epoch: 73, train_loss: 23.03007019890679, val_metric: 0.676050519989971\n",
      "100%|██████████| 45/45 [00:00<00:00, 366.72it/s]\n",
      "100%|██████████| 12/12 [00:00<00:00, 3467.56it/s]\n",
      "2024-11-06 10:52:16,659 - decision_learning.modeling.train - INFO - epoch: 74, train_loss: 23.03007214864095, val_metric: 0.6819037835324779\n",
      "2024-11-06 10:52:16,659 - decision_learning.modeling.train - INFO - epoch: 74, train_loss: 23.03007214864095, val_metric: 0.6819037835324779\n",
      "100%|██████████| 45/45 [00:00<00:00, 366.00it/s]\n",
      "100%|██████████| 12/12 [00:00<00:00, 3495.25it/s]\n",
      "2024-11-06 10:52:16,789 - decision_learning.modeling.train - INFO - epoch: 75, train_loss: 23.030069986979168, val_metric: 0.6827783974676508\n",
      "2024-11-06 10:52:16,789 - decision_learning.modeling.train - INFO - epoch: 75, train_loss: 23.030069986979168, val_metric: 0.6827783974676508\n",
      "100%|██████████| 45/45 [00:00<00:00, 367.09it/s]\n",
      "100%|██████████| 12/12 [00:00<00:00, 3471.63it/s]\n",
      "2024-11-06 10:52:16,919 - decision_learning.modeling.train - INFO - epoch: 76, train_loss: 23.030072360568575, val_metric: 0.6824645582530825\n",
      "2024-11-06 10:52:16,919 - decision_learning.modeling.train - INFO - epoch: 76, train_loss: 23.030072360568575, val_metric: 0.6824645582530825\n",
      "100%|██████████| 45/45 [00:00<00:00, 367.57it/s]\n",
      "100%|██████████| 12/12 [00:00<00:00, 3485.81it/s]\n",
      "2024-11-06 10:52:17,049 - decision_learning.modeling.train - INFO - epoch: 77, train_loss: 23.03006952073839, val_metric: 0.6897234585749211\n",
      "2024-11-06 10:52:17,049 - decision_learning.modeling.train - INFO - epoch: 77, train_loss: 23.03006952073839, val_metric: 0.6897234585749211\n",
      "100%|██████████| 45/45 [00:00<00:00, 367.97it/s]\n",
      "100%|██████████| 12/12 [00:00<00:00, 3476.18it/s]\n",
      "2024-11-06 10:52:17,178 - decision_learning.modeling.train - INFO - epoch: 78, train_loss: 23.030071682400173, val_metric: 0.6828361272585735\n",
      "2024-11-06 10:52:17,178 - decision_learning.modeling.train - INFO - epoch: 78, train_loss: 23.030071682400173, val_metric: 0.6828361272585735\n",
      "100%|██████████| 45/45 [00:00<00:00, 366.45it/s]\n",
      "100%|██████████| 12/12 [00:00<00:00, 3452.58it/s]\n",
      "2024-11-06 10:52:17,308 - decision_learning.modeling.train - INFO - epoch: 79, train_loss: 23.030074395073786, val_metric: 0.6799586595761655\n",
      "2024-11-06 10:52:17,308 - decision_learning.modeling.train - INFO - epoch: 79, train_loss: 23.030074395073786, val_metric: 0.6799586595761655\n",
      "100%|██████████| 45/45 [00:00<00:00, 365.61it/s]\n",
      "100%|██████████| 12/12 [00:00<00:00, 3486.30it/s]\n",
      "2024-11-06 10:52:17,438 - decision_learning.modeling.train - INFO - epoch: 80, train_loss: 23.030069647894965, val_metric: 0.692260781720997\n",
      "2024-11-06 10:52:17,438 - decision_learning.modeling.train - INFO - epoch: 80, train_loss: 23.030069647894965, val_metric: 0.692260781720997\n",
      "100%|██████████| 45/45 [00:00<00:00, 368.34it/s]\n",
      "100%|██████████| 12/12 [00:00<00:00, 3468.04it/s]\n",
      "2024-11-06 10:52:17,568 - decision_learning.modeling.train - INFO - epoch: 81, train_loss: 23.03007214864095, val_metric: 0.6794048286495525\n",
      "2024-11-06 10:52:17,568 - decision_learning.modeling.train - INFO - epoch: 81, train_loss: 23.03007214864095, val_metric: 0.6794048286495525\n",
      "100%|██████████| 45/45 [00:00<00:00, 368.79it/s]\n",
      "100%|██████████| 12/12 [00:00<00:00, 3490.89it/s]\n",
      "2024-11-06 10:52:17,697 - decision_learning.modeling.train - INFO - epoch: 82, train_loss: 23.0300718943278, val_metric: 0.6852642757166358\n",
      "2024-11-06 10:52:17,697 - decision_learning.modeling.train - INFO - epoch: 82, train_loss: 23.0300718943278, val_metric: 0.6852642757166358\n",
      "100%|██████████| 45/45 [00:00<00:00, 368.56it/s]\n",
      "100%|██████████| 12/12 [00:00<00:00, 3487.99it/s]\n",
      "2024-11-06 10:52:17,826 - decision_learning.modeling.train - INFO - epoch: 83, train_loss: 23.03007312350803, val_metric: 0.670592444489452\n",
      "2024-11-06 10:52:17,826 - decision_learning.modeling.train - INFO - epoch: 83, train_loss: 23.03007312350803, val_metric: 0.670592444489452\n",
      "100%|██████████| 45/45 [00:00<00:00, 368.71it/s]\n",
      "100%|██████████| 12/12 [00:00<00:00, 3489.20it/s]\n",
      "2024-11-06 10:52:17,955 - decision_learning.modeling.train - INFO - epoch: 84, train_loss: 23.030070241292318, val_metric: 0.666696266475389\n",
      "2024-11-06 10:52:17,955 - decision_learning.modeling.train - INFO - epoch: 84, train_loss: 23.030070241292318, val_metric: 0.666696266475389\n",
      "100%|██████████| 45/45 [00:00<00:00, 365.08it/s]\n",
      "100%|██████████| 12/12 [00:00<00:00, 3448.79it/s]\n",
      "2024-11-06 10:52:18,086 - decision_learning.modeling.train - INFO - epoch: 85, train_loss: 23.030072826809352, val_metric: 0.6895220378645376\n",
      "2024-11-06 10:52:18,086 - decision_learning.modeling.train - INFO - epoch: 85, train_loss: 23.030072826809352, val_metric: 0.6895220378645376\n",
      "100%|██████████| 45/45 [00:00<00:00, 364.92it/s]\n",
      "100%|██████████| 12/12 [00:00<00:00, 3437.25it/s]\n",
      "2024-11-06 10:52:18,216 - decision_learning.modeling.train - INFO - epoch: 86, train_loss: 23.03006977505154, val_metric: 0.6659590078812175\n",
      "2024-11-06 10:52:18,216 - decision_learning.modeling.train - INFO - epoch: 86, train_loss: 23.03006977505154, val_metric: 0.6659590078812175\n",
      "100%|██████████| 45/45 [00:00<00:00, 364.69it/s]\n",
      "100%|██████████| 12/12 [00:00<00:00, 3423.22it/s]\n",
      "2024-11-06 10:52:18,347 - decision_learning.modeling.train - INFO - epoch: 87, train_loss: 23.030070707533095, val_metric: 0.6725477053712996\n",
      "2024-11-06 10:52:18,347 - decision_learning.modeling.train - INFO - epoch: 87, train_loss: 23.030070707533095, val_metric: 0.6725477053712996\n",
      "100%|██████████| 45/45 [00:00<00:00, 365.26it/s]\n",
      "100%|██████████| 12/12 [00:00<00:00, 3429.99it/s]\n",
      "2024-11-06 10:52:18,478 - decision_learning.modeling.train - INFO - epoch: 88, train_loss: 23.03007303873698, val_metric: 0.6621872606280985\n",
      "2024-11-06 10:52:18,478 - decision_learning.modeling.train - INFO - epoch: 88, train_loss: 23.03007303873698, val_metric: 0.6621872606280985\n",
      "100%|██████████| 45/45 [00:00<00:00, 364.25it/s]\n",
      "100%|██████████| 12/12 [00:00<00:00, 3431.63it/s]\n",
      "2024-11-06 10:52:18,609 - decision_learning.modeling.train - INFO - epoch: 89, train_loss: 23.030072953965927, val_metric: 0.6849560624957396\n",
      "2024-11-06 10:52:18,609 - decision_learning.modeling.train - INFO - epoch: 89, train_loss: 23.030072953965927, val_metric: 0.6849560624957396\n",
      "100%|██████████| 45/45 [00:00<00:00, 361.88it/s]\n",
      "100%|██████████| 12/12 [00:00<00:00, 3428.82it/s]\n",
      "2024-11-06 10:52:18,740 - decision_learning.modeling.train - INFO - epoch: 90, train_loss: 23.03007197909885, val_metric: 0.674896278963911\n",
      "2024-11-06 10:52:18,740 - decision_learning.modeling.train - INFO - epoch: 90, train_loss: 23.03007197909885, val_metric: 0.674896278963911\n",
      "100%|██████████| 45/45 [00:00<00:00, 363.01it/s]\n",
      "100%|██████████| 12/12 [00:00<00:00, 3421.59it/s]\n",
      "2024-11-06 10:52:18,872 - decision_learning.modeling.train - INFO - epoch: 91, train_loss: 23.030072911580405, val_metric: 0.6890264942597518\n",
      "2024-11-06 10:52:18,872 - decision_learning.modeling.train - INFO - epoch: 91, train_loss: 23.030072911580405, val_metric: 0.6890264942597518\n",
      "100%|██████████| 45/45 [00:00<00:00, 364.80it/s]\n",
      "100%|██████████| 12/12 [00:00<00:00, 3257.92it/s]\n",
      "2024-11-06 10:52:19,003 - decision_learning.modeling.train - INFO - epoch: 92, train_loss: 23.03007180955675, val_metric: 0.672771173894722\n",
      "2024-11-06 10:52:19,003 - decision_learning.modeling.train - INFO - epoch: 92, train_loss: 23.03007180955675, val_metric: 0.672771173894722\n",
      "100%|██████████| 45/45 [00:00<00:00, 353.50it/s]\n",
      "100%|██████████| 12/12 [00:00<00:00, 3063.03it/s]\n",
      "2024-11-06 10:52:19,139 - decision_learning.modeling.train - INFO - epoch: 93, train_loss: 23.030072996351453, val_metric: 0.6561935499823022\n",
      "2024-11-06 10:52:19,139 - decision_learning.modeling.train - INFO - epoch: 93, train_loss: 23.030072996351453, val_metric: 0.6561935499823022\n",
      "100%|██████████| 45/45 [00:00<00:00, 366.61it/s]\n",
      "100%|██████████| 12/12 [00:00<00:00, 3480.03it/s]\n",
      "2024-11-06 10:52:19,272 - decision_learning.modeling.train - INFO - epoch: 94, train_loss: 23.030070707533095, val_metric: 0.6687092571481593\n",
      "2024-11-06 10:52:19,272 - decision_learning.modeling.train - INFO - epoch: 94, train_loss: 23.030070707533095, val_metric: 0.6687092571481593\n",
      "100%|██████████| 45/45 [00:00<00:00, 364.78it/s]\n",
      "100%|██████████| 12/12 [00:00<00:00, 3473.54it/s]\n",
      "2024-11-06 10:52:19,405 - decision_learning.modeling.train - INFO - epoch: 95, train_loss: 23.030072953965927, val_metric: 0.6639805841245221\n",
      "2024-11-06 10:52:19,405 - decision_learning.modeling.train - INFO - epoch: 95, train_loss: 23.030072953965927, val_metric: 0.6639805841245221\n",
      "100%|██████████| 45/45 [00:00<00:00, 365.18it/s]\n",
      "100%|██████████| 12/12 [00:00<00:00, 3470.43it/s]\n",
      "2024-11-06 10:52:19,538 - decision_learning.modeling.train - INFO - epoch: 96, train_loss: 23.030072445339627, val_metric: 0.6775142413526192\n",
      "2024-11-06 10:52:19,538 - decision_learning.modeling.train - INFO - epoch: 96, train_loss: 23.030072445339627, val_metric: 0.6775142413526192\n",
      "100%|██████████| 45/45 [00:00<00:00, 364.10it/s]\n",
      "100%|██████████| 12/12 [00:00<00:00, 3116.32it/s]\n",
      "2024-11-06 10:52:19,671 - decision_learning.modeling.train - INFO - epoch: 97, train_loss: 23.030072911580405, val_metric: 0.6839865669375578\n",
      "2024-11-06 10:52:19,671 - decision_learning.modeling.train - INFO - epoch: 97, train_loss: 23.030072911580405, val_metric: 0.6839865669375578\n",
      "100%|██████████| 45/45 [00:00<00:00, 365.13it/s]\n",
      "100%|██████████| 12/12 [00:00<00:00, 3471.39it/s]\n",
      "2024-11-06 10:52:19,804 - decision_learning.modeling.train - INFO - epoch: 98, train_loss: 23.030071428087023, val_metric: 0.6785171887650671\n",
      "2024-11-06 10:52:19,804 - decision_learning.modeling.train - INFO - epoch: 98, train_loss: 23.030071428087023, val_metric: 0.6785171887650671\n",
      "100%|██████████| 45/45 [00:00<00:00, 365.94it/s]\n",
      "100%|██████████| 12/12 [00:00<00:00, 3472.35it/s]\n",
      "2024-11-06 10:52:19,937 - decision_learning.modeling.train - INFO - epoch: 99, train_loss: 23.030071428087023, val_metric: 0.6783647294050184\n",
      "2024-11-06 10:52:19,937 - decision_learning.modeling.train - INFO - epoch: 99, train_loss: 23.030071428087023, val_metric: 0.6783647294050184\n"
     ]
    },
    {
     "name": "stdout",
     "output_type": "stream",
     "text": [
      "0.025 F\n"
     ]
    },
    {
     "name": "stderr",
     "output_type": "stream",
     "text": [
      "100%|██████████| 45/45 [00:00<00:00, 364.84it/s]\n",
      "100%|██████████| 12/12 [00:00<00:00, 3165.31it/s]\n",
      "2024-11-06 10:52:20,077 - decision_learning.modeling.train - INFO - epoch: 0, train_loss: 21.84036776224772, val_metric: 0.6452746113267419\n",
      "2024-11-06 10:52:20,077 - decision_learning.modeling.train - INFO - epoch: 0, train_loss: 21.84036776224772, val_metric: 0.6452746113267419\n",
      "100%|██████████| 45/45 [00:00<00:00, 366.67it/s]\n",
      "100%|██████████| 12/12 [00:00<00:00, 3480.03it/s]\n",
      "2024-11-06 10:52:20,209 - decision_learning.modeling.train - INFO - epoch: 1, train_loss: 22.268305842081705, val_metric: 0.6749856359625034\n",
      "2024-11-06 10:52:20,209 - decision_learning.modeling.train - INFO - epoch: 1, train_loss: 22.268305842081705, val_metric: 0.6749856359625034\n",
      "100%|██████████| 45/45 [00:00<00:00, 365.84it/s]\n",
      "100%|██████████| 12/12 [00:00<00:00, 3491.13it/s]\n",
      "2024-11-06 10:52:20,342 - decision_learning.modeling.train - INFO - epoch: 2, train_loss: 22.50905621846517, val_metric: 0.675860908797836\n",
      "2024-11-06 10:52:20,342 - decision_learning.modeling.train - INFO - epoch: 2, train_loss: 22.50905621846517, val_metric: 0.675860908797836\n",
      "100%|██████████| 45/45 [00:00<00:00, 365.61it/s]\n",
      "100%|██████████| 12/12 [00:00<00:00, 3487.74it/s]\n",
      "2024-11-06 10:52:20,475 - decision_learning.modeling.train - INFO - epoch: 3, train_loss: 22.76033672756619, val_metric: 0.676745659658544\n",
      "2024-11-06 10:52:20,475 - decision_learning.modeling.train - INFO - epoch: 3, train_loss: 22.76033672756619, val_metric: 0.676745659658544\n",
      "100%|██████████| 45/45 [00:00<00:00, 366.40it/s]\n",
      "100%|██████████| 12/12 [00:00<00:00, 3491.62it/s]\n",
      "2024-11-06 10:52:20,608 - decision_learning.modeling.train - INFO - epoch: 4, train_loss: 22.702426444159613, val_metric: 0.6795814138923748\n",
      "2024-11-06 10:52:20,608 - decision_learning.modeling.train - INFO - epoch: 4, train_loss: 22.702426444159613, val_metric: 0.6795814138923748\n",
      "100%|██████████| 45/45 [00:00<00:00, 366.22it/s]\n",
      "100%|██████████| 12/12 [00:00<00:00, 3468.52it/s]\n",
      "2024-11-06 10:52:20,741 - decision_learning.modeling.train - INFO - epoch: 5, train_loss: 22.673817189534507, val_metric: 0.6841449563990445\n",
      "2024-11-06 10:52:20,741 - decision_learning.modeling.train - INFO - epoch: 5, train_loss: 22.673817189534507, val_metric: 0.6841449563990445\n",
      "100%|██████████| 45/45 [00:00<00:00, 366.69it/s]\n",
      "100%|██████████| 12/12 [00:00<00:00, 3160.74it/s]\n",
      "2024-11-06 10:52:20,873 - decision_learning.modeling.train - INFO - epoch: 6, train_loss: 22.636541069878472, val_metric: 0.6744054997141268\n",
      "2024-11-06 10:52:20,873 - decision_learning.modeling.train - INFO - epoch: 6, train_loss: 22.636541069878472, val_metric: 0.6744054997141268\n",
      "100%|██████████| 45/45 [00:00<00:00, 366.37it/s]\n",
      "100%|██████████| 12/12 [00:00<00:00, 3120.57it/s]\n",
      "2024-11-06 10:52:21,005 - decision_learning.modeling.train - INFO - epoch: 7, train_loss: 22.8132322523329, val_metric: 0.6884026678623186\n",
      "2024-11-06 10:52:21,005 - decision_learning.modeling.train - INFO - epoch: 7, train_loss: 22.8132322523329, val_metric: 0.6884026678623186\n",
      "100%|██████████| 45/45 [00:00<00:00, 366.77it/s]\n",
      "100%|██████████| 12/12 [00:00<00:00, 3117.67it/s]\n",
      "2024-11-06 10:52:21,137 - decision_learning.modeling.train - INFO - epoch: 8, train_loss: 22.921364635891386, val_metric: 0.6908954392206675\n",
      "2024-11-06 10:52:21,137 - decision_learning.modeling.train - INFO - epoch: 8, train_loss: 22.921364635891386, val_metric: 0.6908954392206675\n",
      "100%|██████████| 45/45 [00:00<00:00, 366.88it/s]\n",
      "100%|██████████| 12/12 [00:00<00:00, 3492.10it/s]\n",
      "2024-11-06 10:52:21,270 - decision_learning.modeling.train - INFO - epoch: 9, train_loss: 22.93892478942871, val_metric: 0.6832320248853487\n",
      "2024-11-06 10:52:21,270 - decision_learning.modeling.train - INFO - epoch: 9, train_loss: 22.93892478942871, val_metric: 0.6832320248853487\n",
      "100%|██████████| 45/45 [00:00<00:00, 366.13it/s]\n",
      "100%|██████████| 12/12 [00:00<00:00, 3487.50it/s]\n",
      "2024-11-06 10:52:21,403 - decision_learning.modeling.train - INFO - epoch: 10, train_loss: 22.93193579779731, val_metric: 0.6897138791802904\n",
      "2024-11-06 10:52:21,403 - decision_learning.modeling.train - INFO - epoch: 10, train_loss: 22.93193579779731, val_metric: 0.6897138791802904\n",
      "100%|██████████| 45/45 [00:00<00:00, 365.32it/s]\n",
      "100%|██████████| 12/12 [00:00<00:00, 3124.05it/s]\n",
      "2024-11-06 10:52:21,535 - decision_learning.modeling.train - INFO - epoch: 11, train_loss: 22.931936815049912, val_metric: 0.6967444452544497\n",
      "2024-11-06 10:52:21,535 - decision_learning.modeling.train - INFO - epoch: 11, train_loss: 22.931936815049912, val_metric: 0.6967444452544497\n",
      "100%|██████████| 45/45 [00:00<00:00, 365.19it/s]\n",
      "100%|██████████| 12/12 [00:00<00:00, 3498.17it/s]\n",
      "2024-11-06 10:52:21,668 - decision_learning.modeling.train - INFO - epoch: 12, train_loss: 22.93193507724338, val_metric: 0.6835498681855035\n",
      "2024-11-06 10:52:21,668 - decision_learning.modeling.train - INFO - epoch: 12, train_loss: 22.93193507724338, val_metric: 0.6835498681855035\n",
      "100%|██████████| 45/45 [00:00<00:00, 365.10it/s]\n",
      "100%|██████████| 12/12 [00:00<00:00, 3495.50it/s]\n",
      "2024-11-06 10:52:21,800 - decision_learning.modeling.train - INFO - epoch: 13, train_loss: 22.931935670640733, val_metric: 0.6742429034285429\n",
      "2024-11-06 10:52:21,800 - decision_learning.modeling.train - INFO - epoch: 13, train_loss: 22.931935670640733, val_metric: 0.6742429034285429\n",
      "100%|██████████| 45/45 [00:00<00:00, 365.80it/s]\n",
      "100%|██████████| 12/12 [00:00<00:00, 3113.43it/s]\n",
      "2024-11-06 10:52:21,933 - decision_learning.modeling.train - INFO - epoch: 14, train_loss: 22.93193533155653, val_metric: 0.6764736352618083\n",
      "2024-11-06 10:52:21,933 - decision_learning.modeling.train - INFO - epoch: 14, train_loss: 22.93193533155653, val_metric: 0.6764736352618083\n",
      "100%|██████████| 45/45 [00:00<00:00, 366.41it/s]\n",
      "100%|██████████| 12/12 [00:00<00:00, 3131.05it/s]\n",
      "2024-11-06 10:52:22,066 - decision_learning.modeling.train - INFO - epoch: 15, train_loss: 22.931935458713106, val_metric: 0.6759626328455813\n",
      "2024-11-06 10:52:22,066 - decision_learning.modeling.train - INFO - epoch: 15, train_loss: 22.931935458713106, val_metric: 0.6759626328455813\n",
      "100%|██████████| 45/45 [00:00<00:00, 367.11it/s]\n",
      "100%|██████████| 12/12 [00:00<00:00, 3510.12it/s]\n",
      "2024-11-06 10:52:22,198 - decision_learning.modeling.train - INFO - epoch: 16, train_loss: 22.931935755411782, val_metric: 0.691500157513467\n",
      "2024-11-06 10:52:22,198 - decision_learning.modeling.train - INFO - epoch: 16, train_loss: 22.931935755411782, val_metric: 0.691500157513467\n",
      "100%|██████████| 45/45 [00:00<00:00, 365.62it/s]\n",
      "100%|██████████| 12/12 [00:00<00:00, 3487.50it/s]\n",
      "2024-11-06 10:52:22,330 - decision_learning.modeling.train - INFO - epoch: 17, train_loss: 22.931935119628907, val_metric: 0.693228858109604\n",
      "2024-11-06 10:52:22,330 - decision_learning.modeling.train - INFO - epoch: 17, train_loss: 22.931935119628907, val_metric: 0.693228858109604\n",
      "100%|██████████| 45/45 [00:00<00:00, 365.73it/s]\n",
      "100%|██████████| 12/12 [00:00<00:00, 3487.02it/s]\n",
      "2024-11-06 10:52:22,463 - decision_learning.modeling.train - INFO - epoch: 18, train_loss: 22.931936009724936, val_metric: 0.6858814117432158\n",
      "2024-11-06 10:52:22,463 - decision_learning.modeling.train - INFO - epoch: 18, train_loss: 22.931936009724936, val_metric: 0.6858814117432158\n",
      "100%|██████████| 45/45 [00:00<00:00, 366.36it/s]\n",
      "100%|██████████| 12/12 [00:00<00:00, 3103.83it/s]\n",
      "2024-11-06 10:52:22,596 - decision_learning.modeling.train - INFO - epoch: 19, train_loss: 22.931935416327583, val_metric: 0.6767001448628912\n",
      "2024-11-06 10:52:22,596 - decision_learning.modeling.train - INFO - epoch: 19, train_loss: 22.931935416327583, val_metric: 0.6767001448628912\n",
      "100%|██████████| 45/45 [00:00<00:00, 366.29it/s]\n",
      "100%|██████████| 12/12 [00:00<00:00, 3152.62it/s]\n",
      "2024-11-06 10:52:22,728 - decision_learning.modeling.train - INFO - epoch: 20, train_loss: 22.931936518351236, val_metric: 0.696690618179858\n",
      "2024-11-06 10:52:22,728 - decision_learning.modeling.train - INFO - epoch: 20, train_loss: 22.931936518351236, val_metric: 0.696690618179858\n",
      "100%|██████████| 45/45 [00:00<00:00, 365.75it/s]\n",
      "100%|██████████| 12/12 [00:00<00:00, 3111.12it/s]\n",
      "2024-11-06 10:52:22,861 - decision_learning.modeling.train - INFO - epoch: 21, train_loss: 22.93193613688151, val_metric: 0.6817688610536051\n",
      "2024-11-06 10:52:22,861 - decision_learning.modeling.train - INFO - epoch: 21, train_loss: 22.93193613688151, val_metric: 0.6817688610536051\n",
      "100%|██████████| 45/45 [00:00<00:00, 367.36it/s]\n",
      "100%|██████████| 12/12 [00:00<00:00, 3498.41it/s]\n",
      "2024-11-06 10:52:22,993 - decision_learning.modeling.train - INFO - epoch: 22, train_loss: 22.931935458713106, val_metric: 0.6793468961201191\n",
      "2024-11-06 10:52:22,993 - decision_learning.modeling.train - INFO - epoch: 22, train_loss: 22.931935458713106, val_metric: 0.6793468961201191\n",
      "100%|██████████| 45/45 [00:00<00:00, 364.13it/s]\n",
      "100%|██████████| 12/12 [00:00<00:00, 3490.41it/s]\n",
      "2024-11-06 10:52:23,127 - decision_learning.modeling.train - INFO - epoch: 23, train_loss: 22.931938129001193, val_metric: 0.682192635225602\n",
      "2024-11-06 10:52:23,127 - decision_learning.modeling.train - INFO - epoch: 23, train_loss: 22.931938129001193, val_metric: 0.682192635225602\n",
      "100%|██████████| 45/45 [00:00<00:00, 365.13it/s]\n",
      "100%|██████████| 12/12 [00:00<00:00, 3108.23it/s]\n",
      "2024-11-06 10:52:23,260 - decision_learning.modeling.train - INFO - epoch: 24, train_loss: 22.931936094495985, val_metric: 0.6700556942823658\n",
      "2024-11-06 10:52:23,260 - decision_learning.modeling.train - INFO - epoch: 24, train_loss: 22.931936094495985, val_metric: 0.6700556942823658\n",
      "100%|██████████| 45/45 [00:00<00:00, 365.18it/s]\n",
      "100%|██████████| 12/12 [00:00<00:00, 3488.95it/s]\n",
      "2024-11-06 10:52:23,392 - decision_learning.modeling.train - INFO - epoch: 25, train_loss: 22.931936433580187, val_metric: 0.6902786579864814\n",
      "2024-11-06 10:52:23,392 - decision_learning.modeling.train - INFO - epoch: 25, train_loss: 22.931936433580187, val_metric: 0.6902786579864814\n",
      "100%|██████████| 45/45 [00:00<00:00, 363.96it/s]\n",
      "100%|██████████| 12/12 [00:00<00:00, 3093.33it/s]\n",
      "2024-11-06 10:52:23,525 - decision_learning.modeling.train - INFO - epoch: 26, train_loss: 22.931937069363066, val_metric: 0.6805559779133242\n",
      "2024-11-06 10:52:23,525 - decision_learning.modeling.train - INFO - epoch: 26, train_loss: 22.931937069363066, val_metric: 0.6805559779133242\n",
      "100%|██████████| 45/45 [00:00<00:00, 366.08it/s]\n",
      "100%|██████████| 12/12 [00:00<00:00, 3100.00it/s]\n",
      "2024-11-06 10:52:23,658 - decision_learning.modeling.train - INFO - epoch: 27, train_loss: 22.931936475965713, val_metric: 0.6835705981982229\n",
      "2024-11-06 10:52:23,658 - decision_learning.modeling.train - INFO - epoch: 27, train_loss: 22.931936475965713, val_metric: 0.6835705981982229\n",
      "100%|██████████| 45/45 [00:00<00:00, 364.12it/s]\n",
      "100%|██████████| 12/12 [00:00<00:00, 3464.22it/s]\n",
      "2024-11-06 10:52:23,792 - decision_learning.modeling.train - INFO - epoch: 28, train_loss: 22.931935924953883, val_metric: 0.6862452766853001\n",
      "2024-11-06 10:52:23,792 - decision_learning.modeling.train - INFO - epoch: 28, train_loss: 22.931935924953883, val_metric: 0.6862452766853001\n",
      "100%|██████████| 45/45 [00:00<00:00, 365.31it/s]\n",
      "100%|██████████| 12/12 [00:00<00:00, 3468.76it/s]\n",
      "2024-11-06 10:52:23,925 - decision_learning.modeling.train - INFO - epoch: 29, train_loss: 22.93193834092882, val_metric: 0.6903921408678473\n",
      "2024-11-06 10:52:23,925 - decision_learning.modeling.train - INFO - epoch: 29, train_loss: 22.93193834092882, val_metric: 0.6903921408678473\n",
      "100%|██████████| 45/45 [00:00<00:00, 365.21it/s]\n",
      "100%|██████████| 12/12 [00:00<00:00, 3109.96it/s]\n",
      "2024-11-06 10:52:24,058 - decision_learning.modeling.train - INFO - epoch: 30, train_loss: 22.931937238905164, val_metric: 0.6658339182201137\n",
      "2024-11-06 10:52:24,058 - decision_learning.modeling.train - INFO - epoch: 30, train_loss: 22.931937238905164, val_metric: 0.6658339182201137\n",
      "100%|██████████| 45/45 [00:00<00:00, 367.44it/s]\n",
      "100%|██████████| 12/12 [00:00<00:00, 3113.62it/s]\n",
      "2024-11-06 10:52:24,190 - decision_learning.modeling.train - INFO - epoch: 31, train_loss: 22.93193728129069, val_metric: 0.6975709087933306\n",
      "2024-11-06 10:52:24,190 - decision_learning.modeling.train - INFO - epoch: 31, train_loss: 22.93193728129069, val_metric: 0.6975709087933306\n",
      "100%|██████████| 45/45 [00:00<00:00, 367.64it/s]\n",
      "100%|██████████| 12/12 [00:00<00:00, 3187.77it/s]\n",
      "2024-11-06 10:52:24,323 - decision_learning.modeling.train - INFO - epoch: 32, train_loss: 22.931936475965713, val_metric: 0.6645478971620968\n",
      "2024-11-06 10:52:24,323 - decision_learning.modeling.train - INFO - epoch: 32, train_loss: 22.931936475965713, val_metric: 0.6645478971620968\n",
      "100%|██████████| 45/45 [00:00<00:00, 365.23it/s]\n",
      "100%|██████████| 12/12 [00:00<00:00, 3105.93it/s]\n",
      "2024-11-06 10:52:24,455 - decision_learning.modeling.train - INFO - epoch: 33, train_loss: 22.93193677266439, val_metric: 0.6800059990184146\n",
      "2024-11-06 10:52:24,455 - decision_learning.modeling.train - INFO - epoch: 33, train_loss: 22.93193677266439, val_metric: 0.6800059990184146\n",
      "100%|██████████| 45/45 [00:00<00:00, 367.10it/s]\n",
      "100%|██████████| 12/12 [00:00<00:00, 3124.25it/s]\n",
      "2024-11-06 10:52:24,588 - decision_learning.modeling.train - INFO - epoch: 34, train_loss: 22.931936518351236, val_metric: 0.6805480204267792\n",
      "2024-11-06 10:52:24,588 - decision_learning.modeling.train - INFO - epoch: 34, train_loss: 22.931936518351236, val_metric: 0.6805480204267792\n",
      "100%|██████████| 45/45 [00:00<00:00, 366.17it/s]\n",
      "100%|██████████| 12/12 [00:00<00:00, 3516.99it/s]\n",
      "2024-11-06 10:52:24,720 - decision_learning.modeling.train - INFO - epoch: 35, train_loss: 22.931937238905164, val_metric: 0.6783182516014397\n",
      "2024-11-06 10:52:24,720 - decision_learning.modeling.train - INFO - epoch: 35, train_loss: 22.931937238905164, val_metric: 0.6783182516014397\n",
      "100%|██████████| 45/45 [00:00<00:00, 366.23it/s]\n",
      "100%|██████████| 12/12 [00:00<00:00, 3500.11it/s]\n",
      "2024-11-06 10:52:24,852 - decision_learning.modeling.train - INFO - epoch: 36, train_loss: 22.931934187147352, val_metric: 0.6837627943063693\n",
      "2024-11-06 10:52:24,852 - decision_learning.modeling.train - INFO - epoch: 36, train_loss: 22.931934187147352, val_metric: 0.6837627943063693\n",
      "100%|██████████| 45/45 [00:00<00:00, 366.03it/s]\n",
      "100%|██████████| 12/12 [00:00<00:00, 3511.35it/s]\n",
      "2024-11-06 10:52:24,985 - decision_learning.modeling.train - INFO - epoch: 37, train_loss: 22.931934950086806, val_metric: 0.6915626516593912\n",
      "2024-11-06 10:52:24,985 - decision_learning.modeling.train - INFO - epoch: 37, train_loss: 22.931934950086806, val_metric: 0.6915626516593912\n",
      "100%|██████████| 45/45 [00:00<00:00, 366.51it/s]\n",
      "100%|██████████| 12/12 [00:00<00:00, 3510.12it/s]\n",
      "2024-11-06 10:52:25,117 - decision_learning.modeling.train - INFO - epoch: 38, train_loss: 22.931936815049912, val_metric: 0.6854158227533863\n",
      "2024-11-06 10:52:25,117 - decision_learning.modeling.train - INFO - epoch: 38, train_loss: 22.931936815049912, val_metric: 0.6854158227533863\n",
      "100%|██████████| 45/45 [00:00<00:00, 366.45it/s]\n",
      "100%|██████████| 12/12 [00:00<00:00, 3138.67it/s]\n",
      "2024-11-06 10:52:25,250 - decision_learning.modeling.train - INFO - epoch: 39, train_loss: 22.931936009724936, val_metric: 0.6967580287346669\n",
      "2024-11-06 10:52:25,250 - decision_learning.modeling.train - INFO - epoch: 39, train_loss: 22.931936009724936, val_metric: 0.6967580287346669\n",
      "100%|██████████| 45/45 [00:00<00:00, 365.98it/s]\n",
      "100%|██████████| 12/12 [00:00<00:00, 3160.15it/s]\n",
      "2024-11-06 10:52:25,382 - decision_learning.modeling.train - INFO - epoch: 40, train_loss: 22.931936264038086, val_metric: 0.6832947217697837\n",
      "2024-11-06 10:52:25,382 - decision_learning.modeling.train - INFO - epoch: 40, train_loss: 22.931936264038086, val_metric: 0.6832947217697837\n",
      "100%|██████████| 45/45 [00:00<00:00, 365.99it/s]\n",
      "100%|██████████| 12/12 [00:00<00:00, 3511.35it/s]\n",
      "2024-11-06 10:52:25,514 - decision_learning.modeling.train - INFO - epoch: 41, train_loss: 22.931937493218317, val_metric: 0.690203999529915\n",
      "2024-11-06 10:52:25,514 - decision_learning.modeling.train - INFO - epoch: 41, train_loss: 22.931937493218317, val_metric: 0.690203999529915\n",
      "100%|██████████| 45/45 [00:00<00:00, 365.68it/s]\n",
      "100%|██████████| 12/12 [00:00<00:00, 3508.41it/s]\n",
      "2024-11-06 10:52:25,647 - decision_learning.modeling.train - INFO - epoch: 42, train_loss: 22.93193685743544, val_metric: 0.6921611357429865\n",
      "2024-11-06 10:52:25,647 - decision_learning.modeling.train - INFO - epoch: 42, train_loss: 22.93193685743544, val_metric: 0.6921611357429865\n",
      "100%|██████████| 45/45 [00:00<00:00, 365.65it/s]\n",
      "100%|██████████| 12/12 [00:00<00:00, 3177.30it/s]\n",
      "2024-11-06 10:52:25,779 - decision_learning.modeling.train - INFO - epoch: 43, train_loss: 22.93193507724338, val_metric: 0.6765264486438464\n",
      "2024-11-06 10:52:25,779 - decision_learning.modeling.train - INFO - epoch: 43, train_loss: 22.93193507724338, val_metric: 0.6765264486438464\n",
      "100%|██████████| 45/45 [00:00<00:00, 366.27it/s]\n",
      "100%|██████████| 12/12 [00:00<00:00, 3111.89it/s]\n",
      "2024-11-06 10:52:25,912 - decision_learning.modeling.train - INFO - epoch: 44, train_loss: 22.93193677266439, val_metric: 0.6829105829766291\n",
      "2024-11-06 10:52:25,912 - decision_learning.modeling.train - INFO - epoch: 44, train_loss: 22.93193677266439, val_metric: 0.6829105829766291\n",
      "100%|██████████| 45/45 [00:00<00:00, 365.82it/s]\n",
      "100%|██████████| 12/12 [00:00<00:00, 3506.70it/s]\n",
      "2024-11-06 10:52:26,044 - decision_learning.modeling.train - INFO - epoch: 45, train_loss: 22.931936306423612, val_metric: 0.6802410236369472\n",
      "2024-11-06 10:52:26,044 - decision_learning.modeling.train - INFO - epoch: 45, train_loss: 22.931936306423612, val_metric: 0.6802410236369472\n",
      "100%|██████████| 45/45 [00:00<00:00, 365.58it/s]\n",
      "100%|██████████| 12/12 [00:00<00:00, 3508.65it/s]\n",
      "2024-11-06 10:52:26,177 - decision_learning.modeling.train - INFO - epoch: 46, train_loss: 22.931936475965713, val_metric: 0.6898414523881502\n",
      "2024-11-06 10:52:26,177 - decision_learning.modeling.train - INFO - epoch: 46, train_loss: 22.931936475965713, val_metric: 0.6898414523881502\n",
      "100%|██████████| 45/45 [00:00<00:00, 366.01it/s]\n",
      "100%|██████████| 12/12 [00:00<00:00, 3110.35it/s]\n",
      "2024-11-06 10:52:26,310 - decision_learning.modeling.train - INFO - epoch: 47, train_loss: 22.931935416327583, val_metric: 0.6698604064119311\n",
      "2024-11-06 10:52:26,310 - decision_learning.modeling.train - INFO - epoch: 47, train_loss: 22.931935416327583, val_metric: 0.6698604064119311\n",
      "100%|██████████| 45/45 [00:00<00:00, 365.85it/s]\n",
      "100%|██████████| 12/12 [00:00<00:00, 3478.34it/s]\n",
      "2024-11-06 10:52:26,442 - decision_learning.modeling.train - INFO - epoch: 48, train_loss: 22.931936094495985, val_metric: 0.6797776140861077\n",
      "2024-11-06 10:52:26,442 - decision_learning.modeling.train - INFO - epoch: 48, train_loss: 22.931936094495985, val_metric: 0.6797776140861077\n",
      "100%|██████████| 45/45 [00:00<00:00, 366.11it/s]\n",
      "100%|██████████| 12/12 [00:00<00:00, 3501.33it/s]\n",
      "2024-11-06 10:52:26,575 - decision_learning.modeling.train - INFO - epoch: 49, train_loss: 22.931934780544704, val_metric: 0.6882319113516789\n",
      "2024-11-06 10:52:26,575 - decision_learning.modeling.train - INFO - epoch: 49, train_loss: 22.931934780544704, val_metric: 0.6882319113516789\n",
      "100%|██████████| 45/45 [00:00<00:00, 360.93it/s]\n",
      "100%|██████████| 12/12 [00:00<00:00, 3488.23it/s]\n",
      "2024-11-06 10:52:26,709 - decision_learning.modeling.train - INFO - epoch: 50, train_loss: 22.931938044230144, val_metric: 0.685467622442871\n",
      "2024-11-06 10:52:26,709 - decision_learning.modeling.train - INFO - epoch: 50, train_loss: 22.931938044230144, val_metric: 0.685467622442871\n",
      "100%|██████████| 45/45 [00:00<00:00, 363.93it/s]\n",
      "100%|██████████| 12/12 [00:00<00:00, 3469.71it/s]\n",
      "2024-11-06 10:52:26,842 - decision_learning.modeling.train - INFO - epoch: 51, train_loss: 22.931935501098632, val_metric: 0.6710328939039544\n",
      "2024-11-06 10:52:26,842 - decision_learning.modeling.train - INFO - epoch: 51, train_loss: 22.931935501098632, val_metric: 0.6710328939039544\n",
      "100%|██████████| 45/45 [00:00<00:00, 365.69it/s]\n",
      "100%|██████████| 12/12 [00:00<00:00, 3482.68it/s]\n",
      "2024-11-06 10:52:26,975 - decision_learning.modeling.train - INFO - epoch: 52, train_loss: 22.931935501098632, val_metric: 0.6832808341818005\n",
      "2024-11-06 10:52:26,975 - decision_learning.modeling.train - INFO - epoch: 52, train_loss: 22.931935501098632, val_metric: 0.6832808341818005\n",
      "100%|██████████| 45/45 [00:00<00:00, 364.77it/s]\n",
      "100%|██████████| 12/12 [00:00<00:00, 3090.30it/s]\n",
      "2024-11-06 10:52:27,107 - decision_learning.modeling.train - INFO - epoch: 53, train_loss: 22.931935416327583, val_metric: 0.6930405647177885\n",
      "2024-11-06 10:52:27,107 - decision_learning.modeling.train - INFO - epoch: 53, train_loss: 22.931935416327583, val_metric: 0.6930405647177885\n",
      "100%|██████████| 45/45 [00:00<00:00, 366.09it/s]\n",
      "100%|██████████| 12/12 [00:00<00:00, 3110.54it/s]\n",
      "2024-11-06 10:52:27,240 - decision_learning.modeling.train - INFO - epoch: 54, train_loss: 22.93193736606174, val_metric: 0.6912535261151967\n",
      "2024-11-06 10:52:27,240 - decision_learning.modeling.train - INFO - epoch: 54, train_loss: 22.93193736606174, val_metric: 0.6912535261151967\n",
      "100%|██████████| 45/45 [00:00<00:00, 365.02it/s]\n",
      "100%|██████████| 12/12 [00:00<00:00, 3108.62it/s]\n",
      "2024-11-06 10:52:27,373 - decision_learning.modeling.train - INFO - epoch: 55, train_loss: 22.931934483846028, val_metric: 0.694413256489131\n",
      "2024-11-06 10:52:27,373 - decision_learning.modeling.train - INFO - epoch: 55, train_loss: 22.931934483846028, val_metric: 0.694413256489131\n",
      "100%|██████████| 45/45 [00:00<00:00, 365.42it/s]\n",
      "100%|██████████| 12/12 [00:00<00:00, 3107.47it/s]\n",
      "2024-11-06 10:52:27,505 - decision_learning.modeling.train - INFO - epoch: 56, train_loss: 22.931936730278863, val_metric: 0.6951530999993141\n",
      "2024-11-06 10:52:27,505 - decision_learning.modeling.train - INFO - epoch: 56, train_loss: 22.931936730278863, val_metric: 0.6951530999993141\n",
      "100%|██████████| 45/45 [00:00<00:00, 364.65it/s]\n",
      "100%|██████████| 12/12 [00:00<00:00, 3126.97it/s]\n",
      "2024-11-06 10:52:27,638 - decision_learning.modeling.train - INFO - epoch: 57, train_loss: 22.93193677266439, val_metric: 0.6930978383470622\n",
      "2024-11-06 10:52:27,638 - decision_learning.modeling.train - INFO - epoch: 57, train_loss: 22.93193677266439, val_metric: 0.6930978383470622\n",
      "100%|██████████| 45/45 [00:00<00:00, 364.72it/s]\n",
      "100%|██████████| 12/12 [00:00<00:00, 3139.64it/s]\n",
      "2024-11-06 10:52:27,771 - decision_learning.modeling.train - INFO - epoch: 58, train_loss: 22.93193685743544, val_metric: 0.6917674175552012\n",
      "2024-11-06 10:52:27,771 - decision_learning.modeling.train - INFO - epoch: 58, train_loss: 22.93193685743544, val_metric: 0.6917674175552012\n",
      "100%|██████████| 45/45 [00:00<00:00, 368.81it/s]\n",
      "100%|██████████| 12/12 [00:00<00:00, 3132.03it/s]\n",
      "2024-11-06 10:52:27,903 - decision_learning.modeling.train - INFO - epoch: 59, train_loss: 22.93193605211046, val_metric: 0.67410362207169\n",
      "2024-11-06 10:52:27,903 - decision_learning.modeling.train - INFO - epoch: 59, train_loss: 22.93193605211046, val_metric: 0.67410362207169\n",
      "100%|██████████| 45/45 [00:00<00:00, 367.74it/s]\n",
      "100%|██████████| 12/12 [00:00<00:00, 3140.82it/s]\n",
      "2024-11-06 10:52:28,035 - decision_learning.modeling.train - INFO - epoch: 60, train_loss: 22.931936518351236, val_metric: 0.6720675698933272\n",
      "2024-11-06 10:52:28,035 - decision_learning.modeling.train - INFO - epoch: 60, train_loss: 22.931936518351236, val_metric: 0.6720675698933272\n",
      "100%|██████████| 45/45 [00:00<00:00, 367.02it/s]\n",
      "100%|██████████| 12/12 [00:00<00:00, 3176.10it/s]\n",
      "2024-11-06 10:52:28,167 - decision_learning.modeling.train - INFO - epoch: 61, train_loss: 22.931935204399956, val_metric: 0.6854331568960514\n",
      "2024-11-06 10:52:28,167 - decision_learning.modeling.train - INFO - epoch: 61, train_loss: 22.931935204399956, val_metric: 0.6854331568960514\n",
      "100%|██████████| 45/45 [00:00<00:00, 366.30it/s]\n",
      "100%|██████████| 12/12 [00:00<00:00, 3121.73it/s]\n",
      "2024-11-06 10:52:28,300 - decision_learning.modeling.train - INFO - epoch: 62, train_loss: 22.931934950086806, val_metric: 0.671348709819002\n",
      "2024-11-06 10:52:28,300 - decision_learning.modeling.train - INFO - epoch: 62, train_loss: 22.931934950086806, val_metric: 0.671348709819002\n",
      "100%|██████████| 45/45 [00:00<00:00, 365.29it/s]\n",
      "100%|██████████| 12/12 [00:00<00:00, 3112.08it/s]\n",
      "2024-11-06 10:52:28,432 - decision_learning.modeling.train - INFO - epoch: 63, train_loss: 22.931935034857855, val_metric: 0.6787636681094542\n",
      "2024-11-06 10:52:28,432 - decision_learning.modeling.train - INFO - epoch: 63, train_loss: 22.931935034857855, val_metric: 0.6787636681094542\n",
      "100%|██████████| 45/45 [00:00<00:00, 367.28it/s]\n",
      "100%|██████████| 12/12 [00:00<00:00, 3488.71it/s]\n",
      "2024-11-06 10:52:28,565 - decision_learning.modeling.train - INFO - epoch: 64, train_loss: 22.931935373942057, val_metric: 0.6838763785569907\n",
      "2024-11-06 10:52:28,565 - decision_learning.modeling.train - INFO - epoch: 64, train_loss: 22.931935373942057, val_metric: 0.6838763785569907\n",
      "100%|██████████| 45/45 [00:00<00:00, 365.30it/s]\n",
      "100%|██████████| 12/12 [00:00<00:00, 2953.22it/s]\n",
      "2024-11-06 10:52:28,698 - decision_learning.modeling.train - INFO - epoch: 65, train_loss: 22.93193473815918, val_metric: 0.6821295328641458\n",
      "2024-11-06 10:52:28,698 - decision_learning.modeling.train - INFO - epoch: 65, train_loss: 22.93193473815918, val_metric: 0.6821295328641458\n",
      "100%|██████████| 45/45 [00:00<00:00, 367.08it/s]\n",
      "100%|██████████| 12/12 [00:00<00:00, 3154.60it/s]\n",
      "2024-11-06 10:52:28,830 - decision_learning.modeling.train - INFO - epoch: 66, train_loss: 22.931935119628907, val_metric: 0.6867693050508397\n",
      "2024-11-06 10:52:28,830 - decision_learning.modeling.train - INFO - epoch: 66, train_loss: 22.931935119628907, val_metric: 0.6867693050508397\n",
      "100%|██████████| 45/45 [00:00<00:00, 360.51it/s]\n",
      "100%|██████████| 12/12 [00:00<00:00, 3578.25it/s]\n",
      "2024-11-06 10:52:28,964 - decision_learning.modeling.train - INFO - epoch: 67, train_loss: 22.93193456861708, val_metric: 0.6857584001518467\n",
      "2024-11-06 10:52:28,964 - decision_learning.modeling.train - INFO - epoch: 67, train_loss: 22.93193456861708, val_metric: 0.6857584001518467\n",
      "100%|██████████| 45/45 [00:00<00:00, 362.53it/s]\n",
      "100%|██████████| 12/12 [00:00<00:00, 3504.50it/s]\n",
      "2024-11-06 10:52:29,098 - decision_learning.modeling.train - INFO - epoch: 68, train_loss: 22.93193622165256, val_metric: 0.6802103087525756\n",
      "2024-11-06 10:52:29,098 - decision_learning.modeling.train - INFO - epoch: 68, train_loss: 22.93193622165256, val_metric: 0.6802103087525756\n",
      "100%|██████████| 45/45 [00:00<00:00, 362.52it/s]\n",
      "100%|██████████| 12/12 [00:00<00:00, 3041.19it/s]\n",
      "2024-11-06 10:52:29,234 - decision_learning.modeling.train - INFO - epoch: 69, train_loss: 22.93193596733941, val_metric: 0.6826186902058444\n",
      "2024-11-06 10:52:29,234 - decision_learning.modeling.train - INFO - epoch: 69, train_loss: 22.93193596733941, val_metric: 0.6826186902058444\n",
      "100%|██████████| 45/45 [00:00<00:00, 366.70it/s]\n",
      "100%|██████████| 12/12 [00:00<00:00, 3552.74it/s]\n",
      "2024-11-06 10:52:29,367 - decision_learning.modeling.train - INFO - epoch: 70, train_loss: 22.931936009724936, val_metric: 0.6803383381220846\n",
      "2024-11-06 10:52:29,367 - decision_learning.modeling.train - INFO - epoch: 70, train_loss: 22.931936009724936, val_metric: 0.6803383381220846\n",
      "100%|██████████| 45/45 [00:00<00:00, 366.42it/s]\n",
      "100%|██████████| 12/12 [00:00<00:00, 3537.51it/s]\n",
      "2024-11-06 10:52:29,500 - decision_learning.modeling.train - INFO - epoch: 71, train_loss: 22.931936815049912, val_metric: 0.6847514486538125\n",
      "2024-11-06 10:52:29,500 - decision_learning.modeling.train - INFO - epoch: 71, train_loss: 22.931936815049912, val_metric: 0.6847514486538125\n",
      "100%|██████████| 45/45 [00:00<00:00, 366.20it/s]\n",
      "100%|██████████| 12/12 [00:00<00:00, 3476.18it/s]\n",
      "2024-11-06 10:52:29,633 - decision_learning.modeling.train - INFO - epoch: 72, train_loss: 22.93193677266439, val_metric: 0.6758666361607634\n",
      "2024-11-06 10:52:29,633 - decision_learning.modeling.train - INFO - epoch: 72, train_loss: 22.93193677266439, val_metric: 0.6758666361607634\n",
      "100%|██████████| 45/45 [00:00<00:00, 365.99it/s]\n",
      "100%|██████████| 12/12 [00:00<00:00, 3534.53it/s]\n",
      "2024-11-06 10:52:29,766 - decision_learning.modeling.train - INFO - epoch: 73, train_loss: 22.93193719651964, val_metric: 0.6884278074376458\n",
      "2024-11-06 10:52:29,766 - decision_learning.modeling.train - INFO - epoch: 73, train_loss: 22.93193719651964, val_metric: 0.6884278074376458\n",
      "100%|██████████| 45/45 [00:00<00:00, 366.57it/s]\n",
      "100%|██████████| 12/12 [00:00<00:00, 3423.22it/s]\n",
      "2024-11-06 10:52:29,898 - decision_learning.modeling.train - INFO - epoch: 74, train_loss: 22.931935670640733, val_metric: 0.6901721188991069\n",
      "2024-11-06 10:52:29,898 - decision_learning.modeling.train - INFO - epoch: 74, train_loss: 22.931935670640733, val_metric: 0.6901721188991069\n",
      "100%|██████████| 45/45 [00:00<00:00, 365.91it/s]\n",
      "100%|██████████| 12/12 [00:00<00:00, 3550.73it/s]\n",
      "2024-11-06 10:52:30,031 - decision_learning.modeling.train - INFO - epoch: 75, train_loss: 22.931937620374892, val_metric: 0.6735267803241122\n",
      "2024-11-06 10:52:30,031 - decision_learning.modeling.train - INFO - epoch: 75, train_loss: 22.931937620374892, val_metric: 0.6735267803241122\n",
      "100%|██████████| 45/45 [00:00<00:00, 366.40it/s]\n",
      "100%|██████████| 12/12 [00:00<00:00, 3539.00it/s]\n",
      "2024-11-06 10:52:30,164 - decision_learning.modeling.train - INFO - epoch: 76, train_loss: 22.93193770514594, val_metric: 0.6742908004016965\n",
      "2024-11-06 10:52:30,164 - decision_learning.modeling.train - INFO - epoch: 76, train_loss: 22.93193770514594, val_metric: 0.6742908004016965\n",
      "100%|██████████| 45/45 [00:00<00:00, 367.24it/s]\n",
      "100%|██████████| 12/12 [00:00<00:00, 3558.01it/s]\n",
      "2024-11-06 10:52:30,297 - decision_learning.modeling.train - INFO - epoch: 77, train_loss: 22.93193571302626, val_metric: 0.6841907753024633\n",
      "2024-11-06 10:52:30,297 - decision_learning.modeling.train - INFO - epoch: 77, train_loss: 22.93193571302626, val_metric: 0.6841907753024633\n",
      "100%|██████████| 45/45 [00:00<00:00, 367.02it/s]\n",
      "100%|██████████| 12/12 [00:00<00:00, 3534.77it/s]\n",
      "2024-11-06 10:52:30,429 - decision_learning.modeling.train - INFO - epoch: 78, train_loss: 22.931936984592014, val_metric: 0.6784647301754226\n",
      "2024-11-06 10:52:30,429 - decision_learning.modeling.train - INFO - epoch: 78, train_loss: 22.931936984592014, val_metric: 0.6784647301754226\n",
      "100%|██████████| 45/45 [00:00<00:00, 366.66it/s]\n",
      "100%|██████████| 12/12 [00:00<00:00, 3543.98it/s]\n",
      "2024-11-06 10:52:30,562 - decision_learning.modeling.train - INFO - epoch: 79, train_loss: 22.931935034857855, val_metric: 0.6967995394447333\n",
      "2024-11-06 10:52:30,562 - decision_learning.modeling.train - INFO - epoch: 79, train_loss: 22.931935034857855, val_metric: 0.6967995394447333\n",
      "100%|██████████| 45/45 [00:00<00:00, 366.95it/s]\n",
      "100%|██████████| 12/12 [00:00<00:00, 3530.06it/s]\n",
      "2024-11-06 10:52:30,694 - decision_learning.modeling.train - INFO - epoch: 80, train_loss: 22.931933975219728, val_metric: 0.6868720934757662\n",
      "2024-11-06 10:52:30,694 - decision_learning.modeling.train - INFO - epoch: 80, train_loss: 22.931933975219728, val_metric: 0.6868720934757662\n",
      "100%|██████████| 45/45 [00:00<00:00, 366.67it/s]\n",
      "100%|██████████| 12/12 [00:00<00:00, 3536.51it/s]\n",
      "2024-11-06 10:52:30,827 - decision_learning.modeling.train - INFO - epoch: 81, train_loss: 22.931936009724936, val_metric: 0.6901210287944097\n",
      "2024-11-06 10:52:30,827 - decision_learning.modeling.train - INFO - epoch: 81, train_loss: 22.931936009724936, val_metric: 0.6901210287944097\n",
      "100%|██████████| 45/45 [00:00<00:00, 366.69it/s]\n",
      "100%|██████████| 12/12 [00:00<00:00, 3551.74it/s]\n",
      "2024-11-06 10:52:30,960 - decision_learning.modeling.train - INFO - epoch: 82, train_loss: 22.93193702697754, val_metric: 0.6886390609657983\n",
      "2024-11-06 10:52:30,960 - decision_learning.modeling.train - INFO - epoch: 82, train_loss: 22.93193702697754, val_metric: 0.6886390609657983\n",
      "100%|██████████| 45/45 [00:00<00:00, 366.78it/s]\n",
      "100%|██████████| 12/12 [00:00<00:00, 3544.48it/s]\n",
      "2024-11-06 10:52:31,092 - decision_learning.modeling.train - INFO - epoch: 83, train_loss: 22.931934695773656, val_metric: 0.6892783968593003\n",
      "2024-11-06 10:52:31,092 - decision_learning.modeling.train - INFO - epoch: 83, train_loss: 22.931934695773656, val_metric: 0.6892783968593003\n",
      "100%|██████████| 45/45 [00:00<00:00, 366.16it/s]\n",
      "100%|██████████| 12/12 [00:00<00:00, 3541.99it/s]\n",
      "2024-11-06 10:52:31,225 - decision_learning.modeling.train - INFO - epoch: 84, train_loss: 22.931935840182835, val_metric: 0.6884917207531449\n",
      "2024-11-06 10:52:31,225 - decision_learning.modeling.train - INFO - epoch: 84, train_loss: 22.931935840182835, val_metric: 0.6884917207531449\n",
      "100%|██████████| 45/45 [00:00<00:00, 366.96it/s]\n",
      "100%|██████████| 12/12 [00:00<00:00, 3532.29it/s]\n",
      "2024-11-06 10:52:31,358 - decision_learning.modeling.train - INFO - epoch: 85, train_loss: 22.931936815049912, val_metric: 0.6917755270956294\n",
      "2024-11-06 10:52:31,358 - decision_learning.modeling.train - INFO - epoch: 85, train_loss: 22.931936815049912, val_metric: 0.6917755270956294\n",
      "100%|██████████| 45/45 [00:00<00:00, 367.78it/s]\n",
      "100%|██████████| 12/12 [00:00<00:00, 3548.98it/s]\n",
      "2024-11-06 10:52:31,490 - decision_learning.modeling.train - INFO - epoch: 86, train_loss: 22.93193579779731, val_metric: 0.6798293124063369\n",
      "2024-11-06 10:52:31,490 - decision_learning.modeling.train - INFO - epoch: 86, train_loss: 22.93193579779731, val_metric: 0.6798293124063369\n",
      "100%|██████████| 45/45 [00:00<00:00, 367.50it/s]\n",
      "100%|██████████| 12/12 [00:00<00:00, 3527.10it/s]\n",
      "2024-11-06 10:52:31,623 - decision_learning.modeling.train - INFO - epoch: 87, train_loss: 22.931936009724936, val_metric: 0.7042213401599218\n",
      "2024-11-06 10:52:31,623 - decision_learning.modeling.train - INFO - epoch: 87, train_loss: 22.931936009724936, val_metric: 0.7042213401599218\n",
      "100%|██████████| 45/45 [00:00<00:00, 367.53it/s]\n",
      "100%|██████████| 12/12 [00:00<00:00, 3556.76it/s]\n",
      "2024-11-06 10:52:31,755 - decision_learning.modeling.train - INFO - epoch: 88, train_loss: 22.931935755411782, val_metric: 0.6828648654424656\n",
      "2024-11-06 10:52:31,755 - decision_learning.modeling.train - INFO - epoch: 88, train_loss: 22.931935755411782, val_metric: 0.6828648654424656\n",
      "100%|██████████| 45/45 [00:00<00:00, 367.86it/s]\n",
      "100%|██████████| 12/12 [00:00<00:00, 3549.23it/s]\n",
      "2024-11-06 10:52:31,887 - decision_learning.modeling.train - INFO - epoch: 89, train_loss: 22.93193719651964, val_metric: 0.6869240959037615\n",
      "2024-11-06 10:52:31,887 - decision_learning.modeling.train - INFO - epoch: 89, train_loss: 22.93193719651964, val_metric: 0.6869240959037615\n",
      "100%|██████████| 45/45 [00:00<00:00, 368.52it/s]\n",
      "100%|██████████| 12/12 [00:00<00:00, 3562.80it/s]\n",
      "2024-11-06 10:52:32,019 - decision_learning.modeling.train - INFO - epoch: 90, train_loss: 22.931935162014433, val_metric: 0.6834027813959884\n",
      "2024-11-06 10:52:32,019 - decision_learning.modeling.train - INFO - epoch: 90, train_loss: 22.931935162014433, val_metric: 0.6834027813959884\n",
      "100%|██████████| 45/45 [00:00<00:00, 367.65it/s]\n",
      "100%|██████████| 12/12 [00:00<00:00, 3545.48it/s]\n",
      "2024-11-06 10:52:32,152 - decision_learning.modeling.train - INFO - epoch: 91, train_loss: 22.93193605211046, val_metric: 0.6793278893847408\n",
      "2024-11-06 10:52:32,152 - decision_learning.modeling.train - INFO - epoch: 91, train_loss: 22.93193605211046, val_metric: 0.6793278893847408\n",
      "100%|██████████| 45/45 [00:00<00:00, 368.18it/s]\n",
      "100%|██████████| 12/12 [00:00<00:00, 3565.57it/s]\n",
      "2024-11-06 10:52:32,284 - decision_learning.modeling.train - INFO - epoch: 92, train_loss: 22.931935585869685, val_metric: 0.6843066403613302\n",
      "2024-11-06 10:52:32,284 - decision_learning.modeling.train - INFO - epoch: 92, train_loss: 22.931935585869685, val_metric: 0.6843066403613302\n",
      "100%|██████████| 45/45 [00:00<00:00, 367.83it/s]\n",
      "100%|██████████| 12/12 [00:00<00:00, 3387.74it/s]\n",
      "2024-11-06 10:52:32,416 - decision_learning.modeling.train - INFO - epoch: 93, train_loss: 22.931935458713106, val_metric: 0.6915092807464487\n",
      "2024-11-06 10:52:32,416 - decision_learning.modeling.train - INFO - epoch: 93, train_loss: 22.931935458713106, val_metric: 0.6915092807464487\n",
      "100%|██████████| 45/45 [00:00<00:00, 368.06it/s]\n",
      "100%|██████████| 12/12 [00:00<00:00, 3550.48it/s]\n",
      "2024-11-06 10:52:32,549 - decision_learning.modeling.train - INFO - epoch: 94, train_loss: 22.93193490770128, val_metric: 0.6816404262070747\n",
      "2024-11-06 10:52:32,549 - decision_learning.modeling.train - INFO - epoch: 94, train_loss: 22.93193490770128, val_metric: 0.6816404262070747\n",
      "100%|██████████| 45/45 [00:00<00:00, 368.62it/s]\n",
      "100%|██████████| 12/12 [00:00<00:00, 3535.52it/s]\n",
      "2024-11-06 10:52:32,681 - decision_learning.modeling.train - INFO - epoch: 95, train_loss: 22.931934611002603, val_metric: 0.685796971153508\n",
      "2024-11-06 10:52:32,681 - decision_learning.modeling.train - INFO - epoch: 95, train_loss: 22.931934611002603, val_metric: 0.685796971153508\n",
      "100%|██████████| 45/45 [00:00<00:00, 367.71it/s]\n",
      "100%|██████████| 12/12 [00:00<00:00, 3535.02it/s]\n",
      "2024-11-06 10:52:32,813 - decision_learning.modeling.train - INFO - epoch: 96, train_loss: 22.931933424207898, val_metric: 0.6943384459786817\n",
      "2024-11-06 10:52:32,813 - decision_learning.modeling.train - INFO - epoch: 96, train_loss: 22.931933424207898, val_metric: 0.6943384459786817\n",
      "100%|██████████| 45/45 [00:00<00:00, 367.55it/s]\n",
      "100%|██████████| 12/12 [00:00<00:00, 3560.78it/s]\n",
      "2024-11-06 10:52:32,945 - decision_learning.modeling.train - INFO - epoch: 97, train_loss: 22.93193664550781, val_metric: 0.6722588029935478\n",
      "2024-11-06 10:52:32,945 - decision_learning.modeling.train - INFO - epoch: 97, train_loss: 22.93193664550781, val_metric: 0.6722588029935478\n",
      "100%|██████████| 45/45 [00:00<00:00, 366.27it/s]\n",
      "100%|██████████| 12/12 [00:00<00:00, 3548.48it/s]\n",
      "2024-11-06 10:52:33,078 - decision_learning.modeling.train - INFO - epoch: 98, train_loss: 22.931934950086806, val_metric: 0.683790670851591\n",
      "2024-11-06 10:52:33,078 - decision_learning.modeling.train - INFO - epoch: 98, train_loss: 22.931934950086806, val_metric: 0.683790670851591\n",
      "100%|██████████| 45/45 [00:00<00:00, 367.55it/s]\n",
      "100%|██████████| 12/12 [00:00<00:00, 3535.52it/s]\n",
      "2024-11-06 10:52:33,210 - decision_learning.modeling.train - INFO - epoch: 99, train_loss: 22.93193605211046, val_metric: 0.6846151070053648\n",
      "2024-11-06 10:52:33,210 - decision_learning.modeling.train - INFO - epoch: 99, train_loss: 22.93193605211046, val_metric: 0.6846151070053648\n"
     ]
    },
    {
     "name": "stdout",
     "output_type": "stream",
     "text": [
      "0.025 C\n"
     ]
    },
    {
     "name": "stderr",
     "output_type": "stream",
     "text": [
      "100%|██████████| 45/45 [00:00<00:00, 366.23it/s]\n",
      "100%|██████████| 12/12 [00:00<00:00, 3529.57it/s]\n",
      "2024-11-06 10:52:33,350 - decision_learning.modeling.train - INFO - epoch: 0, train_loss: 21.91272850036621, val_metric: 0.6914831781631956\n",
      "2024-11-06 10:52:33,350 - decision_learning.modeling.train - INFO - epoch: 0, train_loss: 21.91272850036621, val_metric: 0.6914831781631956\n",
      "100%|██████████| 45/45 [00:00<00:00, 367.64it/s]\n",
      "100%|██████████| 12/12 [00:00<00:00, 3558.01it/s]\n",
      "2024-11-06 10:52:33,483 - decision_learning.modeling.train - INFO - epoch: 1, train_loss: 22.339214706420897, val_metric: 0.6962246237130072\n",
      "2024-11-06 10:52:33,483 - decision_learning.modeling.train - INFO - epoch: 1, train_loss: 22.339214706420897, val_metric: 0.6962246237130072\n",
      "100%|██████████| 45/45 [00:00<00:00, 367.51it/s]\n",
      "100%|██████████| 12/12 [00:00<00:00, 3537.26it/s]\n",
      "2024-11-06 10:52:33,615 - decision_learning.modeling.train - INFO - epoch: 2, train_loss: 22.33821593390571, val_metric: 0.6996225718370175\n",
      "2024-11-06 10:52:33,615 - decision_learning.modeling.train - INFO - epoch: 2, train_loss: 22.33821593390571, val_metric: 0.6996225718370175\n",
      "100%|██████████| 45/45 [00:00<00:00, 367.40it/s]\n",
      "100%|██████████| 12/12 [00:00<00:00, 3430.92it/s]\n",
      "2024-11-06 10:52:33,748 - decision_learning.modeling.train - INFO - epoch: 3, train_loss: 22.43118235270182, val_metric: 0.6965570641859324\n",
      "2024-11-06 10:52:33,748 - decision_learning.modeling.train - INFO - epoch: 3, train_loss: 22.43118235270182, val_metric: 0.6965570641859324\n",
      "100%|██████████| 45/45 [00:00<00:00, 368.50it/s]\n",
      "100%|██████████| 12/12 [00:00<00:00, 3549.98it/s]\n",
      "2024-11-06 10:52:33,880 - decision_learning.modeling.train - INFO - epoch: 4, train_loss: 22.456967459784615, val_metric: 0.6962754097099383\n",
      "2024-11-06 10:52:33,880 - decision_learning.modeling.train - INFO - epoch: 4, train_loss: 22.456967459784615, val_metric: 0.6962754097099383\n",
      "100%|██████████| 45/45 [00:00<00:00, 367.69it/s]\n",
      "100%|██████████| 12/12 [00:00<00:00, 3538.75it/s]\n",
      "2024-11-06 10:52:34,012 - decision_learning.modeling.train - INFO - epoch: 5, train_loss: 22.46595196194119, val_metric: 0.6971004033946165\n",
      "2024-11-06 10:52:34,012 - decision_learning.modeling.train - INFO - epoch: 5, train_loss: 22.46595196194119, val_metric: 0.6971004033946165\n",
      "100%|██████████| 45/45 [00:00<00:00, 367.51it/s]\n",
      "100%|██████████| 12/12 [00:00<00:00, 3530.56it/s]\n",
      "2024-11-06 10:52:34,144 - decision_learning.modeling.train - INFO - epoch: 6, train_loss: 22.561228052775064, val_metric: 0.6902611717899332\n",
      "2024-11-06 10:52:34,144 - decision_learning.modeling.train - INFO - epoch: 6, train_loss: 22.561228052775064, val_metric: 0.6902611717899332\n",
      "100%|██████████| 45/45 [00:00<00:00, 367.24it/s]\n",
      "100%|██████████| 12/12 [00:00<00:00, 3526.35it/s]\n",
      "2024-11-06 10:52:34,277 - decision_learning.modeling.train - INFO - epoch: 7, train_loss: 22.70373797946506, val_metric: 0.6794016355180089\n",
      "2024-11-06 10:52:34,277 - decision_learning.modeling.train - INFO - epoch: 7, train_loss: 22.70373797946506, val_metric: 0.6794016355180089\n",
      "100%|██████████| 45/45 [00:00<00:00, 367.51it/s]\n",
      "100%|██████████| 12/12 [00:00<00:00, 3386.60it/s]\n",
      "2024-11-06 10:52:34,409 - decision_learning.modeling.train - INFO - epoch: 8, train_loss: 22.77889544169108, val_metric: 0.6884733222332986\n",
      "2024-11-06 10:52:34,409 - decision_learning.modeling.train - INFO - epoch: 8, train_loss: 22.77889544169108, val_metric: 0.6884733222332986\n",
      "100%|██████████| 45/45 [00:00<00:00, 367.55it/s]\n",
      "100%|██████████| 12/12 [00:00<00:00, 3544.98it/s]\n",
      "2024-11-06 10:52:34,542 - decision_learning.modeling.train - INFO - epoch: 9, train_loss: 22.73408029344347, val_metric: 0.6831049585237656\n",
      "2024-11-06 10:52:34,542 - decision_learning.modeling.train - INFO - epoch: 9, train_loss: 22.73408029344347, val_metric: 0.6831049585237656\n",
      "100%|██████████| 45/45 [00:00<00:00, 368.14it/s]\n",
      "100%|██████████| 12/12 [00:00<00:00, 3547.23it/s]\n",
      "2024-11-06 10:52:34,674 - decision_learning.modeling.train - INFO - epoch: 10, train_loss: 22.7082820892334, val_metric: 0.6950247158374113\n",
      "2024-11-06 10:52:34,674 - decision_learning.modeling.train - INFO - epoch: 10, train_loss: 22.7082820892334, val_metric: 0.6950247158374113\n",
      "100%|██████████| 45/45 [00:00<00:00, 367.16it/s]\n",
      "100%|██████████| 12/12 [00:00<00:00, 3546.23it/s]\n",
      "2024-11-06 10:52:34,806 - decision_learning.modeling.train - INFO - epoch: 11, train_loss: 22.73079588148329, val_metric: 0.6885161507436846\n",
      "2024-11-06 10:52:34,806 - decision_learning.modeling.train - INFO - epoch: 11, train_loss: 22.73079588148329, val_metric: 0.6885161507436846\n",
      "100%|██████████| 45/45 [00:00<00:00, 367.66it/s]\n",
      "100%|██████████| 12/12 [00:00<00:00, 3539.25it/s]\n",
      "2024-11-06 10:52:34,939 - decision_learning.modeling.train - INFO - epoch: 12, train_loss: 22.777927441067167, val_metric: 0.692641423274842\n",
      "2024-11-06 10:52:34,939 - decision_learning.modeling.train - INFO - epoch: 12, train_loss: 22.777927441067167, val_metric: 0.692641423274842\n",
      "100%|██████████| 45/45 [00:00<00:00, 367.64it/s]\n",
      "100%|██████████| 12/12 [00:00<00:00, 3555.00it/s]\n",
      "2024-11-06 10:52:35,071 - decision_learning.modeling.train - INFO - epoch: 13, train_loss: 22.82671110365126, val_metric: 0.6819527448828127\n",
      "2024-11-06 10:52:35,071 - decision_learning.modeling.train - INFO - epoch: 13, train_loss: 22.82671110365126, val_metric: 0.6819527448828127\n",
      "100%|██████████| 45/45 [00:00<00:00, 368.19it/s]\n",
      "100%|██████████| 12/12 [00:00<00:00, 3287.93it/s]\n",
      "2024-11-06 10:52:35,204 - decision_learning.modeling.train - INFO - epoch: 14, train_loss: 22.845250617133246, val_metric: 0.6874777747764914\n",
      "2024-11-06 10:52:35,204 - decision_learning.modeling.train - INFO - epoch: 14, train_loss: 22.845250617133246, val_metric: 0.6874777747764914\n",
      "100%|██████████| 45/45 [00:00<00:00, 367.44it/s]\n",
      "100%|██████████| 12/12 [00:00<00:00, 3563.30it/s]\n",
      "2024-11-06 10:52:35,336 - decision_learning.modeling.train - INFO - epoch: 15, train_loss: 22.85178451538086, val_metric: 0.6861005213886581\n",
      "2024-11-06 10:52:35,336 - decision_learning.modeling.train - INFO - epoch: 15, train_loss: 22.85178451538086, val_metric: 0.6861005213886581\n",
      "100%|██████████| 45/45 [00:00<00:00, 366.63it/s]\n",
      "100%|██████████| 12/12 [00:00<00:00, 3552.74it/s]\n",
      "2024-11-06 10:52:35,469 - decision_learning.modeling.train - INFO - epoch: 16, train_loss: 22.861054272121855, val_metric: 0.6933561778943255\n",
      "2024-11-06 10:52:35,469 - decision_learning.modeling.train - INFO - epoch: 16, train_loss: 22.861054272121855, val_metric: 0.6933561778943255\n",
      "100%|██████████| 45/45 [00:00<00:00, 367.51it/s]\n",
      "100%|██████████| 12/12 [00:00<00:00, 3547.73it/s]\n",
      "2024-11-06 10:52:35,601 - decision_learning.modeling.train - INFO - epoch: 17, train_loss: 22.864398405287, val_metric: 0.6950348527629465\n",
      "2024-11-06 10:52:35,601 - decision_learning.modeling.train - INFO - epoch: 17, train_loss: 22.864398405287, val_metric: 0.6950348527629465\n",
      "100%|██████████| 45/45 [00:00<00:00, 367.25it/s]\n",
      "100%|██████████| 12/12 [00:00<00:00, 3542.24it/s]\n",
      "2024-11-06 10:52:35,734 - decision_learning.modeling.train - INFO - epoch: 18, train_loss: 22.862170622083877, val_metric: 0.6820502621064609\n",
      "2024-11-06 10:52:35,734 - decision_learning.modeling.train - INFO - epoch: 18, train_loss: 22.862170622083877, val_metric: 0.6820502621064609\n",
      "100%|██████████| 45/45 [00:00<00:00, 367.02it/s]\n",
      "100%|██████████| 12/12 [00:00<00:00, 3537.01it/s]\n",
      "2024-11-06 10:52:35,866 - decision_learning.modeling.train - INFO - epoch: 19, train_loss: 22.863006803724502, val_metric: 0.692552319699388\n",
      "2024-11-06 10:52:35,866 - decision_learning.modeling.train - INFO - epoch: 19, train_loss: 22.863006803724502, val_metric: 0.692552319699388\n",
      "100%|██████████| 45/45 [00:00<00:00, 365.56it/s]\n",
      "100%|██████████| 12/12 [00:00<00:00, 3522.65it/s]\n",
      "2024-11-06 10:52:35,999 - decision_learning.modeling.train - INFO - epoch: 20, train_loss: 22.863008541531034, val_metric: 0.6788305211333585\n",
      "2024-11-06 10:52:35,999 - decision_learning.modeling.train - INFO - epoch: 20, train_loss: 22.863008541531034, val_metric: 0.6788305211333585\n",
      "100%|██████████| 45/45 [00:00<00:00, 365.74it/s]\n",
      "100%|██████████| 12/12 [00:00<00:00, 3536.51it/s]\n",
      "2024-11-06 10:52:36,132 - decision_learning.modeling.train - INFO - epoch: 21, train_loss: 22.863009685940213, val_metric: 0.6825917766685486\n",
      "2024-11-06 10:52:36,132 - decision_learning.modeling.train - INFO - epoch: 21, train_loss: 22.863009685940213, val_metric: 0.6825917766685486\n",
      "100%|██████████| 45/45 [00:00<00:00, 365.35it/s]\n",
      "100%|██████████| 12/12 [00:00<00:00, 3530.56it/s]\n",
      "2024-11-06 10:52:36,265 - decision_learning.modeling.train - INFO - epoch: 22, train_loss: 22.863009389241537, val_metric: 0.7008949587301896\n",
      "2024-11-06 10:52:36,265 - decision_learning.modeling.train - INFO - epoch: 22, train_loss: 22.863009389241537, val_metric: 0.7008949587301896\n",
      "100%|██████████| 45/45 [00:00<00:00, 366.19it/s]\n",
      "100%|██████████| 12/12 [00:00<00:00, 3396.43it/s]\n",
      "2024-11-06 10:52:36,398 - decision_learning.modeling.train - INFO - epoch: 23, train_loss: 22.86300951639811, val_metric: 0.6956445381492581\n",
      "2024-11-06 10:52:36,398 - decision_learning.modeling.train - INFO - epoch: 23, train_loss: 22.86300951639811, val_metric: 0.6956445381492581\n",
      "100%|██████████| 45/45 [00:00<00:00, 366.02it/s]\n",
      "100%|██████████| 12/12 [00:00<00:00, 3518.47it/s]\n",
      "2024-11-06 10:52:36,531 - decision_learning.modeling.train - INFO - epoch: 24, train_loss: 22.863009134928387, val_metric: 0.6963763228036407\n",
      "2024-11-06 10:52:36,531 - decision_learning.modeling.train - INFO - epoch: 24, train_loss: 22.863009134928387, val_metric: 0.6963763228036407\n",
      "100%|██████████| 45/45 [00:00<00:00, 365.83it/s]\n",
      "100%|██████████| 12/12 [00:00<00:00, 3550.73it/s]\n",
      "2024-11-06 10:52:36,664 - decision_learning.modeling.train - INFO - epoch: 25, train_loss: 22.863009685940213, val_metric: 0.6957784976202052\n",
      "2024-11-06 10:52:36,664 - decision_learning.modeling.train - INFO - epoch: 25, train_loss: 22.863009685940213, val_metric: 0.6957784976202052\n",
      "100%|██████████| 45/45 [00:00<00:00, 366.70it/s]\n",
      "100%|██████████| 12/12 [00:00<00:00, 3531.55it/s]\n",
      "2024-11-06 10:52:36,797 - decision_learning.modeling.train - INFO - epoch: 26, train_loss: 22.86300900777181, val_metric: 0.6816880190724622\n",
      "2024-11-06 10:52:36,797 - decision_learning.modeling.train - INFO - epoch: 26, train_loss: 22.86300900777181, val_metric: 0.6816880190724622\n",
      "100%|██████████| 45/45 [00:00<00:00, 366.07it/s]\n",
      "100%|██████████| 12/12 [00:00<00:00, 3442.66it/s]\n",
      "2024-11-06 10:52:36,930 - decision_learning.modeling.train - INFO - epoch: 27, train_loss: 22.863009304470488, val_metric: 0.6894539177249415\n",
      "2024-11-06 10:52:36,930 - decision_learning.modeling.train - INFO - epoch: 27, train_loss: 22.863009304470488, val_metric: 0.6894539177249415\n",
      "100%|██████████| 45/45 [00:00<00:00, 365.83it/s]\n",
      "100%|██████████| 12/12 [00:00<00:00, 3527.34it/s]\n",
      "2024-11-06 10:52:37,063 - decision_learning.modeling.train - INFO - epoch: 28, train_loss: 22.863009431627063, val_metric: 0.6845632059466248\n",
      "2024-11-06 10:52:37,063 - decision_learning.modeling.train - INFO - epoch: 28, train_loss: 22.863009431627063, val_metric: 0.6845632059466248\n",
      "100%|██████████| 45/45 [00:00<00:00, 366.29it/s]\n",
      "100%|██████████| 12/12 [00:00<00:00, 3564.31it/s]\n",
      "2024-11-06 10:52:37,196 - decision_learning.modeling.train - INFO - epoch: 29, train_loss: 22.86300960116916, val_metric: 0.6875882672648246\n",
      "2024-11-06 10:52:37,196 - decision_learning.modeling.train - INFO - epoch: 29, train_loss: 22.86300960116916, val_metric: 0.6875882672648246\n",
      "100%|██████████| 45/45 [00:00<00:00, 366.89it/s]\n",
      "100%|██████████| 12/12 [00:00<00:00, 3545.48it/s]\n",
      "2024-11-06 10:52:37,328 - decision_learning.modeling.train - INFO - epoch: 30, train_loss: 22.86300926208496, val_metric: 0.6888314091278278\n",
      "2024-11-06 10:52:37,328 - decision_learning.modeling.train - INFO - epoch: 30, train_loss: 22.86300926208496, val_metric: 0.6888314091278278\n",
      "100%|██████████| 45/45 [00:00<00:00, 366.85it/s]\n",
      "100%|██████████| 12/12 [00:00<00:00, 3562.29it/s]\n",
      "2024-11-06 10:52:37,461 - decision_learning.modeling.train - INFO - epoch: 31, train_loss: 22.863010025024415, val_metric: 0.6916051760620112\n",
      "2024-11-06 10:52:37,461 - decision_learning.modeling.train - INFO - epoch: 31, train_loss: 22.863010025024415, val_metric: 0.6916051760620112\n",
      "100%|██████████| 45/45 [00:00<00:00, 366.93it/s]\n",
      "100%|██████████| 12/12 [00:00<00:00, 3535.52it/s]\n",
      "2024-11-06 10:52:37,593 - decision_learning.modeling.train - INFO - epoch: 32, train_loss: 22.86300934685601, val_metric: 0.6820607031397621\n",
      "2024-11-06 10:52:37,593 - decision_learning.modeling.train - INFO - epoch: 32, train_loss: 22.86300934685601, val_metric: 0.6820607031397621\n",
      "100%|██████████| 45/45 [00:00<00:00, 366.32it/s]\n",
      "100%|██████████| 12/12 [00:00<00:00, 3534.53it/s]\n",
      "2024-11-06 10:52:37,726 - decision_learning.modeling.train - INFO - epoch: 33, train_loss: 22.863009855482314, val_metric: 0.6953802178159291\n",
      "2024-11-06 10:52:37,726 - decision_learning.modeling.train - INFO - epoch: 33, train_loss: 22.863009855482314, val_metric: 0.6953802178159291\n",
      "100%|██████████| 45/45 [00:00<00:00, 365.95it/s]\n",
      "100%|██████████| 12/12 [00:00<00:00, 3530.06it/s]\n",
      "2024-11-06 10:52:37,859 - decision_learning.modeling.train - INFO - epoch: 34, train_loss: 22.86300934685601, val_metric: 0.6889932451439965\n",
      "2024-11-06 10:52:37,859 - decision_learning.modeling.train - INFO - epoch: 34, train_loss: 22.86300934685601, val_metric: 0.6889932451439965\n",
      "100%|██████████| 45/45 [00:00<00:00, 366.28it/s]\n",
      "100%|██████████| 12/12 [00:00<00:00, 3530.81it/s]\n",
      "2024-11-06 10:52:37,992 - decision_learning.modeling.train - INFO - epoch: 35, train_loss: 22.863009431627063, val_metric: 0.6967894025191981\n",
      "2024-11-06 10:52:37,992 - decision_learning.modeling.train - INFO - epoch: 35, train_loss: 22.863009431627063, val_metric: 0.6967894025191981\n",
      "100%|██████████| 45/45 [00:00<00:00, 366.62it/s]\n",
      "100%|██████████| 12/12 [00:00<00:00, 3531.80it/s]\n",
      "2024-11-06 10:52:38,125 - decision_learning.modeling.train - INFO - epoch: 36, train_loss: 22.863009643554687, val_metric: 0.6893332883110731\n",
      "2024-11-06 10:52:38,125 - decision_learning.modeling.train - INFO - epoch: 36, train_loss: 22.863009643554687, val_metric: 0.6893332883110731\n",
      "100%|██████████| 45/45 [00:00<00:00, 363.78it/s]\n",
      "100%|██████████| 12/12 [00:00<00:00, 3536.02it/s]\n",
      "2024-11-06 10:52:38,258 - decision_learning.modeling.train - INFO - epoch: 37, train_loss: 22.863009304470488, val_metric: 0.6890038889158084\n",
      "2024-11-06 10:52:38,258 - decision_learning.modeling.train - INFO - epoch: 37, train_loss: 22.863009304470488, val_metric: 0.6890038889158084\n",
      "100%|██████████| 45/45 [00:00<00:00, 364.98it/s]\n",
      "100%|██████████| 12/12 [00:00<00:00, 3523.64it/s]\n",
      "2024-11-06 10:52:38,392 - decision_learning.modeling.train - INFO - epoch: 38, train_loss: 22.863009643554687, val_metric: 0.6842356818825841\n",
      "2024-11-06 10:52:38,392 - decision_learning.modeling.train - INFO - epoch: 38, train_loss: 22.863009643554687, val_metric: 0.6842356818825841\n",
      "100%|██████████| 45/45 [00:00<00:00, 366.35it/s]\n",
      "100%|██████████| 12/12 [00:00<00:00, 3537.76it/s]\n",
      "2024-11-06 10:52:38,524 - decision_learning.modeling.train - INFO - epoch: 39, train_loss: 22.863008753458658, val_metric: 0.695578901556418\n",
      "2024-11-06 10:52:38,524 - decision_learning.modeling.train - INFO - epoch: 39, train_loss: 22.863008753458658, val_metric: 0.695578901556418\n",
      "100%|██████████| 45/45 [00:00<00:00, 366.53it/s]\n",
      "100%|██████████| 12/12 [00:00<00:00, 3517.97it/s]\n",
      "2024-11-06 10:52:38,657 - decision_learning.modeling.train - INFO - epoch: 40, train_loss: 22.863009855482314, val_metric: 0.6948339388988398\n",
      "2024-11-06 10:52:38,657 - decision_learning.modeling.train - INFO - epoch: 40, train_loss: 22.863009855482314, val_metric: 0.6948339388988398\n",
      "100%|██████████| 45/45 [00:00<00:00, 364.89it/s]\n",
      "100%|██████████| 12/12 [00:00<00:00, 3534.03it/s]\n",
      "2024-11-06 10:52:38,791 - decision_learning.modeling.train - INFO - epoch: 41, train_loss: 22.863009304470488, val_metric: 0.690118950724675\n",
      "2024-11-06 10:52:38,791 - decision_learning.modeling.train - INFO - epoch: 41, train_loss: 22.863009304470488, val_metric: 0.690118950724675\n",
      "100%|██████████| 45/45 [00:00<00:00, 365.60it/s]\n",
      "100%|██████████| 12/12 [00:00<00:00, 3525.86it/s]\n",
      "2024-11-06 10:52:38,924 - decision_learning.modeling.train - INFO - epoch: 42, train_loss: 22.863008965386285, val_metric: 0.6874517735624938\n",
      "2024-11-06 10:52:38,924 - decision_learning.modeling.train - INFO - epoch: 42, train_loss: 22.863008965386285, val_metric: 0.6874517735624938\n",
      "100%|██████████| 45/45 [00:00<00:00, 358.78it/s]\n",
      "100%|██████████| 12/12 [00:00<00:00, 3538.75it/s]\n",
      "2024-11-06 10:52:39,059 - decision_learning.modeling.train - INFO - epoch: 43, train_loss: 22.863010448879667, val_metric: 0.6908927529354008\n",
      "2024-11-06 10:52:39,059 - decision_learning.modeling.train - INFO - epoch: 43, train_loss: 22.863010448879667, val_metric: 0.6908927529354008\n",
      "100%|██████████| 45/45 [00:00<00:00, 363.26it/s]\n",
      "100%|██████████| 12/12 [00:00<00:00, 3533.29it/s]\n",
      "2024-11-06 10:52:39,193 - decision_learning.modeling.train - INFO - epoch: 44, train_loss: 22.86300972832574, val_metric: 0.702542158445024\n",
      "2024-11-06 10:52:39,193 - decision_learning.modeling.train - INFO - epoch: 44, train_loss: 22.86300972832574, val_metric: 0.702542158445024\n",
      "100%|██████████| 45/45 [00:00<00:00, 362.80it/s]\n",
      "100%|██████████| 12/12 [00:00<00:00, 2677.79it/s]\n",
      "2024-11-06 10:52:39,329 - decision_learning.modeling.train - INFO - epoch: 45, train_loss: 22.86300845675998, val_metric: 0.6928430974083638\n",
      "2024-11-06 10:52:39,329 - decision_learning.modeling.train - INFO - epoch: 45, train_loss: 22.86300845675998, val_metric: 0.6928430974083638\n",
      "100%|██████████| 45/45 [00:00<00:00, 367.36it/s]\n",
      "100%|██████████| 12/12 [00:00<00:00, 3551.99it/s]\n",
      "2024-11-06 10:52:39,462 - decision_learning.modeling.train - INFO - epoch: 46, train_loss: 22.86300934685601, val_metric: 0.6966014132351487\n",
      "2024-11-06 10:52:39,462 - decision_learning.modeling.train - INFO - epoch: 46, train_loss: 22.86300934685601, val_metric: 0.6966014132351487\n",
      "100%|██████████| 45/45 [00:00<00:00, 362.19it/s]\n",
      "100%|██████████| 12/12 [00:00<00:00, 3549.48it/s]\n",
      "2024-11-06 10:52:39,596 - decision_learning.modeling.train - INFO - epoch: 47, train_loss: 22.863009474012586, val_metric: 0.6870025557074035\n",
      "2024-11-06 10:52:39,596 - decision_learning.modeling.train - INFO - epoch: 47, train_loss: 22.863009474012586, val_metric: 0.6870025557074035\n",
      "100%|██████████| 45/45 [00:00<00:00, 367.80it/s]\n",
      "100%|██████████| 12/12 [00:00<00:00, 3559.02it/s]\n",
      "2024-11-06 10:52:39,728 - decision_learning.modeling.train - INFO - epoch: 48, train_loss: 22.863010194566513, val_metric: 0.6992298673417857\n",
      "2024-11-06 10:52:39,728 - decision_learning.modeling.train - INFO - epoch: 48, train_loss: 22.863010194566513, val_metric: 0.6992298673417857\n",
      "100%|██████████| 45/45 [00:00<00:00, 367.75it/s]\n",
      "100%|██████████| 12/12 [00:00<00:00, 3553.49it/s]\n",
      "2024-11-06 10:52:39,860 - decision_learning.modeling.train - INFO - epoch: 49, train_loss: 22.863009474012586, val_metric: 0.6913041093736172\n",
      "2024-11-06 10:52:39,860 - decision_learning.modeling.train - INFO - epoch: 49, train_loss: 22.863009474012586, val_metric: 0.6913041093736172\n",
      "100%|██████████| 45/45 [00:00<00:00, 367.48it/s]\n",
      "100%|██████████| 12/12 [00:00<00:00, 3456.61it/s]\n",
      "2024-11-06 10:52:39,993 - decision_learning.modeling.train - INFO - epoch: 50, train_loss: 22.86300960116916, val_metric: 0.6908670558291692\n",
      "2024-11-06 10:52:39,993 - decision_learning.modeling.train - INFO - epoch: 50, train_loss: 22.86300960116916, val_metric: 0.6908670558291692\n",
      "100%|██████████| 45/45 [00:00<00:00, 367.71it/s]\n",
      "100%|██████████| 12/12 [00:00<00:00, 3551.74it/s]\n",
      "2024-11-06 10:52:40,125 - decision_learning.modeling.train - INFO - epoch: 51, train_loss: 22.863008880615233, val_metric: 0.6906315750489876\n",
      "2024-11-06 10:52:40,125 - decision_learning.modeling.train - INFO - epoch: 51, train_loss: 22.863008880615233, val_metric: 0.6906315750489876\n",
      "100%|██████████| 45/45 [00:00<00:00, 367.12it/s]\n",
      "100%|██████████| 12/12 [00:00<00:00, 3538.00it/s]\n",
      "2024-11-06 10:52:40,258 - decision_learning.modeling.train - INFO - epoch: 52, train_loss: 22.863008965386285, val_metric: 0.6868772126231614\n",
      "2024-11-06 10:52:40,258 - decision_learning.modeling.train - INFO - epoch: 52, train_loss: 22.863008965386285, val_metric: 0.6868772126231614\n",
      "100%|██████████| 45/45 [00:00<00:00, 367.51it/s]\n",
      "100%|██████████| 12/12 [00:00<00:00, 3531.80it/s]\n",
      "2024-11-06 10:52:40,390 - decision_learning.modeling.train - INFO - epoch: 53, train_loss: 22.86300960116916, val_metric: 0.6881860417636324\n",
      "2024-11-06 10:52:40,390 - decision_learning.modeling.train - INFO - epoch: 53, train_loss: 22.86300960116916, val_metric: 0.6881860417636324\n",
      "100%|██████████| 45/45 [00:00<00:00, 366.94it/s]\n",
      "100%|██████████| 12/12 [00:00<00:00, 3533.04it/s]\n",
      "2024-11-06 10:52:40,523 - decision_learning.modeling.train - INFO - epoch: 54, train_loss: 22.863009389241537, val_metric: 0.6873445755749595\n",
      "2024-11-06 10:52:40,523 - decision_learning.modeling.train - INFO - epoch: 54, train_loss: 22.863009389241537, val_metric: 0.6873445755749595\n",
      "100%|██████████| 45/45 [00:00<00:00, 366.69it/s]\n",
      "100%|██████████| 12/12 [00:00<00:00, 3551.99it/s]\n",
      "2024-11-06 10:52:40,656 - decision_learning.modeling.train - INFO - epoch: 55, train_loss: 22.863009219699435, val_metric: 0.6908492655248549\n",
      "2024-11-06 10:52:40,656 - decision_learning.modeling.train - INFO - epoch: 55, train_loss: 22.863009219699435, val_metric: 0.6908492655248549\n",
      "100%|██████████| 45/45 [00:00<00:00, 366.91it/s]\n",
      "100%|██████████| 12/12 [00:00<00:00, 3555.75it/s]\n",
      "2024-11-06 10:52:40,788 - decision_learning.modeling.train - INFO - epoch: 56, train_loss: 22.863009134928387, val_metric: 0.6885259328768261\n",
      "2024-11-06 10:52:40,788 - decision_learning.modeling.train - INFO - epoch: 56, train_loss: 22.863009134928387, val_metric: 0.6885259328768261\n",
      "100%|██████████| 45/45 [00:00<00:00, 366.43it/s]\n",
      "100%|██████████| 12/12 [00:00<00:00, 3551.49it/s]\n",
      "2024-11-06 10:52:40,921 - decision_learning.modeling.train - INFO - epoch: 57, train_loss: 22.86300972832574, val_metric: 0.6908942227896033\n",
      "2024-11-06 10:52:40,921 - decision_learning.modeling.train - INFO - epoch: 57, train_loss: 22.86300972832574, val_metric: 0.6908942227896033\n",
      "100%|██████████| 45/45 [00:00<00:00, 368.40it/s]\n",
      "100%|██████████| 12/12 [00:00<00:00, 3410.47it/s]\n",
      "2024-11-06 10:52:41,053 - decision_learning.modeling.train - INFO - epoch: 58, train_loss: 22.86300951639811, val_metric: 0.6815014996426154\n",
      "2024-11-06 10:52:41,053 - decision_learning.modeling.train - INFO - epoch: 58, train_loss: 22.86300951639811, val_metric: 0.6815014996426154\n",
      "100%|██████████| 45/45 [00:00<00:00, 365.60it/s]\n",
      "100%|██████████| 12/12 [00:00<00:00, 3552.24it/s]\n",
      "2024-11-06 10:52:41,186 - decision_learning.modeling.train - INFO - epoch: 59, train_loss: 22.86300917731391, val_metric: 0.6884939508767626\n",
      "2024-11-06 10:52:41,186 - decision_learning.modeling.train - INFO - epoch: 59, train_loss: 22.86300917731391, val_metric: 0.6884939508767626\n",
      "100%|██████████| 45/45 [00:00<00:00, 365.79it/s]\n",
      "100%|██████████| 12/12 [00:00<00:00, 3523.39it/s]\n",
      "2024-11-06 10:52:41,319 - decision_learning.modeling.train - INFO - epoch: 60, train_loss: 22.863009558783638, val_metric: 0.6907409017908842\n",
      "2024-11-06 10:52:41,319 - decision_learning.modeling.train - INFO - epoch: 60, train_loss: 22.863009558783638, val_metric: 0.6907409017908842\n",
      "100%|██████████| 45/45 [00:00<00:00, 366.70it/s]\n",
      "100%|██████████| 12/12 [00:00<00:00, 3528.33it/s]\n",
      "2024-11-06 10:52:41,452 - decision_learning.modeling.train - INFO - epoch: 61, train_loss: 22.863009474012586, val_metric: 0.6930924657765285\n",
      "2024-11-06 10:52:41,452 - decision_learning.modeling.train - INFO - epoch: 61, train_loss: 22.863009474012586, val_metric: 0.6930924657765285\n",
      "100%|██████████| 45/45 [00:00<00:00, 366.02it/s]\n",
      "100%|██████████| 12/12 [00:00<00:00, 3542.99it/s]\n",
      "2024-11-06 10:52:41,585 - decision_learning.modeling.train - INFO - epoch: 62, train_loss: 22.863008965386285, val_metric: 0.6925467950749713\n",
      "2024-11-06 10:52:41,585 - decision_learning.modeling.train - INFO - epoch: 62, train_loss: 22.863008965386285, val_metric: 0.6925467950749713\n",
      "100%|██████████| 45/45 [00:00<00:00, 366.94it/s]\n",
      "100%|██████████| 12/12 [00:00<00:00, 3520.19it/s]\n",
      "2024-11-06 10:52:41,718 - decision_learning.modeling.train - INFO - epoch: 63, train_loss: 22.86300972832574, val_metric: 0.6881627268349015\n",
      "2024-11-06 10:52:41,718 - decision_learning.modeling.train - INFO - epoch: 63, train_loss: 22.86300972832574, val_metric: 0.6881627268349015\n",
      "100%|██████████| 45/45 [00:00<00:00, 367.29it/s]\n",
      "100%|██████████| 12/12 [00:00<00:00, 3537.51it/s]\n",
      "2024-11-06 10:52:41,850 - decision_learning.modeling.train - INFO - epoch: 64, train_loss: 22.863009643554687, val_metric: 0.688644433536332\n",
      "2024-11-06 10:52:41,850 - decision_learning.modeling.train - INFO - epoch: 64, train_loss: 22.863009643554687, val_metric: 0.688644433536332\n",
      "100%|██████████| 45/45 [00:00<00:00, 366.64it/s]\n",
      "100%|██████████| 12/12 [00:00<00:00, 3560.03it/s]\n",
      "2024-11-06 10:52:41,983 - decision_learning.modeling.train - INFO - epoch: 65, train_loss: 22.863009558783638, val_metric: 0.6893062227198943\n",
      "2024-11-06 10:52:41,983 - decision_learning.modeling.train - INFO - epoch: 65, train_loss: 22.863009558783638, val_metric: 0.6893062227198943\n",
      "100%|██████████| 45/45 [00:00<00:00, 367.04it/s]\n",
      "100%|██████████| 12/12 [00:00<00:00, 3540.24it/s]\n",
      "2024-11-06 10:52:42,116 - decision_learning.modeling.train - INFO - epoch: 66, train_loss: 22.86300951639811, val_metric: 0.6935618561134337\n",
      "2024-11-06 10:52:42,116 - decision_learning.modeling.train - INFO - epoch: 66, train_loss: 22.86300951639811, val_metric: 0.6935618561134337\n",
      "100%|██████████| 45/45 [00:00<00:00, 366.78it/s]\n",
      "100%|██████████| 12/12 [00:00<00:00, 3541.49it/s]\n",
      "2024-11-06 10:52:42,248 - decision_learning.modeling.train - INFO - epoch: 67, train_loss: 22.863009474012586, val_metric: 0.6851759830952246\n",
      "2024-11-06 10:52:42,248 - decision_learning.modeling.train - INFO - epoch: 67, train_loss: 22.863009474012586, val_metric: 0.6851759830952246\n",
      "100%|██████████| 45/45 [00:00<00:00, 366.94it/s]\n",
      "100%|██████████| 12/12 [00:00<00:00, 3546.73it/s]\n",
      "2024-11-06 10:52:42,381 - decision_learning.modeling.train - INFO - epoch: 68, train_loss: 22.863009897867837, val_metric: 0.6866869932154943\n",
      "2024-11-06 10:52:42,381 - decision_learning.modeling.train - INFO - epoch: 68, train_loss: 22.863009897867837, val_metric: 0.6866869932154943\n",
      "100%|██████████| 45/45 [00:00<00:00, 367.31it/s]\n",
      "100%|██████████| 12/12 [00:00<00:00, 3536.26it/s]\n",
      "2024-11-06 10:52:42,513 - decision_learning.modeling.train - INFO - epoch: 69, train_loss: 22.86300883822971, val_metric: 0.6822574101797717\n",
      "2024-11-06 10:52:42,513 - decision_learning.modeling.train - INFO - epoch: 69, train_loss: 22.86300883822971, val_metric: 0.6822574101797717\n",
      "100%|██████████| 45/45 [00:00<00:00, 367.10it/s]\n",
      "100%|██████████| 12/12 [00:00<00:00, 3562.80it/s]\n",
      "2024-11-06 10:52:42,646 - decision_learning.modeling.train - INFO - epoch: 70, train_loss: 22.863009558783638, val_metric: 0.6953740342913526\n",
      "2024-11-06 10:52:42,646 - decision_learning.modeling.train - INFO - epoch: 70, train_loss: 22.863009558783638, val_metric: 0.6953740342913526\n",
      "100%|██████████| 45/45 [00:00<00:00, 366.83it/s]\n",
      "100%|██████████| 12/12 [00:00<00:00, 3525.86it/s]\n",
      "2024-11-06 10:52:42,778 - decision_learning.modeling.train - INFO - epoch: 71, train_loss: 22.863009474012586, val_metric: 0.6874372777589784\n",
      "2024-11-06 10:52:42,778 - decision_learning.modeling.train - INFO - epoch: 71, train_loss: 22.863009474012586, val_metric: 0.6874372777589784\n",
      "100%|██████████| 45/45 [00:00<00:00, 367.68it/s]\n",
      "100%|██████████| 12/12 [00:00<00:00, 3545.48it/s]\n",
      "2024-11-06 10:52:42,911 - decision_learning.modeling.train - INFO - epoch: 72, train_loss: 22.863008753458658, val_metric: 0.6855658492513066\n",
      "2024-11-06 10:52:42,911 - decision_learning.modeling.train - INFO - epoch: 72, train_loss: 22.863008753458658, val_metric: 0.6855658492513066\n",
      "100%|██████████| 45/45 [00:00<00:00, 367.40it/s]\n",
      "100%|██████████| 12/12 [00:00<00:00, 3552.49it/s]\n",
      "2024-11-06 10:52:43,043 - decision_learning.modeling.train - INFO - epoch: 73, train_loss: 22.86300917731391, val_metric: 0.6868223718560162\n",
      "2024-11-06 10:52:43,043 - decision_learning.modeling.train - INFO - epoch: 73, train_loss: 22.86300917731391, val_metric: 0.6868223718560162\n",
      "100%|██████████| 45/45 [00:00<00:00, 366.16it/s]\n",
      "100%|██████████| 12/12 [00:00<00:00, 3553.74it/s]\n",
      "2024-11-06 10:52:43,176 - decision_learning.modeling.train - INFO - epoch: 74, train_loss: 22.863009770711262, val_metric: 0.6948969905756684\n",
      "2024-11-06 10:52:43,176 - decision_learning.modeling.train - INFO - epoch: 74, train_loss: 22.863009770711262, val_metric: 0.6948969905756684\n",
      "100%|██████████| 45/45 [00:00<00:00, 368.13it/s]\n",
      "100%|██████████| 12/12 [00:00<00:00, 3536.26it/s]\n",
      "2024-11-06 10:52:43,308 - decision_learning.modeling.train - INFO - epoch: 75, train_loss: 22.86300951639811, val_metric: 0.6931060999413733\n",
      "2024-11-06 10:52:43,308 - decision_learning.modeling.train - INFO - epoch: 75, train_loss: 22.86300951639811, val_metric: 0.6931060999413733\n",
      "100%|██████████| 45/45 [00:00<00:00, 367.38it/s]\n",
      "100%|██████████| 12/12 [00:00<00:00, 3548.73it/s]\n",
      "2024-11-06 10:52:43,440 - decision_learning.modeling.train - INFO - epoch: 76, train_loss: 22.863009134928387, val_metric: 0.6847328980800832\n",
      "2024-11-06 10:52:43,440 - decision_learning.modeling.train - INFO - epoch: 76, train_loss: 22.863009134928387, val_metric: 0.6847328980800832\n",
      "100%|██████████| 45/45 [00:00<00:00, 367.90it/s]\n",
      "100%|██████████| 12/12 [00:00<00:00, 3543.98it/s]\n",
      "2024-11-06 10:52:43,573 - decision_learning.modeling.train - INFO - epoch: 77, train_loss: 22.863010025024415, val_metric: 0.6826660296480936\n",
      "2024-11-06 10:52:43,573 - decision_learning.modeling.train - INFO - epoch: 77, train_loss: 22.863010025024415, val_metric: 0.6826660296480936\n",
      "100%|██████████| 45/45 [00:00<00:00, 367.34it/s]\n",
      "100%|██████████| 12/12 [00:00<00:00, 3551.74it/s]\n",
      "2024-11-06 10:52:43,705 - decision_learning.modeling.train - INFO - epoch: 78, train_loss: 22.863009050157334, val_metric: 0.6993477597857595\n",
      "2024-11-06 10:52:43,705 - decision_learning.modeling.train - INFO - epoch: 78, train_loss: 22.863009050157334, val_metric: 0.6993477597857595\n",
      "100%|██████████| 45/45 [00:00<00:00, 366.64it/s]\n",
      "100%|██████████| 12/12 [00:00<00:00, 3546.73it/s]\n",
      "2024-11-06 10:52:43,838 - decision_learning.modeling.train - INFO - epoch: 79, train_loss: 22.863010109795464, val_metric: 0.6843237717654845\n",
      "2024-11-06 10:52:43,838 - decision_learning.modeling.train - INFO - epoch: 79, train_loss: 22.863010109795464, val_metric: 0.6843237717654845\n",
      "100%|██████████| 45/45 [00:00<00:00, 366.86it/s]\n",
      "100%|██████████| 12/12 [00:00<00:00, 3559.02it/s]\n",
      "2024-11-06 10:52:43,970 - decision_learning.modeling.train - INFO - epoch: 80, train_loss: 22.863009431627063, val_metric: 0.6997044781953414\n",
      "2024-11-06 10:52:43,970 - decision_learning.modeling.train - INFO - epoch: 80, train_loss: 22.863009431627063, val_metric: 0.6997044781953414\n",
      "100%|██████████| 45/45 [00:00<00:00, 366.99it/s]\n",
      "100%|██████████| 12/12 [00:00<00:00, 3551.23it/s]\n",
      "2024-11-06 10:52:44,103 - decision_learning.modeling.train - INFO - epoch: 81, train_loss: 22.863008753458658, val_metric: 0.6904099311721615\n",
      "2024-11-06 10:52:44,103 - decision_learning.modeling.train - INFO - epoch: 81, train_loss: 22.863008753458658, val_metric: 0.6904099311721615\n",
      "100%|██████████| 45/45 [00:00<00:00, 367.16it/s]\n",
      "100%|██████████| 12/12 [00:00<00:00, 3545.23it/s]\n",
      "2024-11-06 10:52:44,235 - decision_learning.modeling.train - INFO - epoch: 82, train_loss: 22.86300883822971, val_metric: 0.6960507247554516\n",
      "2024-11-06 10:52:44,235 - decision_learning.modeling.train - INFO - epoch: 82, train_loss: 22.86300883822971, val_metric: 0.6960507247554516\n",
      "100%|██████████| 45/45 [00:00<00:00, 367.70it/s]\n",
      "100%|██████████| 12/12 [00:00<00:00, 3542.74it/s]\n",
      "2024-11-06 10:52:44,368 - decision_learning.modeling.train - INFO - epoch: 83, train_loss: 22.863009304470488, val_metric: 0.6821458026296296\n",
      "2024-11-06 10:52:44,368 - decision_learning.modeling.train - INFO - epoch: 83, train_loss: 22.863009304470488, val_metric: 0.6821458026296296\n",
      "100%|██████████| 45/45 [00:00<00:00, 367.33it/s]\n",
      "100%|██████████| 12/12 [00:00<00:00, 3533.53it/s]\n",
      "2024-11-06 10:52:44,500 - decision_learning.modeling.train - INFO - epoch: 84, train_loss: 22.863009474012586, val_metric: 0.6879003832020518\n",
      "2024-11-06 10:52:44,500 - decision_learning.modeling.train - INFO - epoch: 84, train_loss: 22.863009474012586, val_metric: 0.6879003832020518\n",
      "100%|██████████| 45/45 [00:00<00:00, 367.86it/s]\n",
      "100%|██████████| 12/12 [00:00<00:00, 3530.56it/s]\n",
      "2024-11-06 10:52:44,632 - decision_learning.modeling.train - INFO - epoch: 85, train_loss: 22.86300926208496, val_metric: 0.6938566379079959\n",
      "2024-11-06 10:52:44,632 - decision_learning.modeling.train - INFO - epoch: 85, train_loss: 22.86300926208496, val_metric: 0.6938566379079959\n",
      "100%|██████████| 45/45 [00:00<00:00, 366.57it/s]\n",
      "100%|██████████| 12/12 [00:00<00:00, 3551.74it/s]\n",
      "2024-11-06 10:52:44,765 - decision_learning.modeling.train - INFO - epoch: 86, train_loss: 22.863009813096788, val_metric: 0.6866404647272879\n",
      "2024-11-06 10:52:44,765 - decision_learning.modeling.train - INFO - epoch: 86, train_loss: 22.863009813096788, val_metric: 0.6866404647272879\n",
      "100%|██████████| 45/45 [00:00<00:00, 367.84it/s]\n",
      "100%|██████████| 12/12 [00:00<00:00, 3436.31it/s]\n",
      "2024-11-06 10:52:44,897 - decision_learning.modeling.train - INFO - epoch: 87, train_loss: 22.86300900777181, val_metric: 0.6836946741667731\n",
      "2024-11-06 10:52:44,897 - decision_learning.modeling.train - INFO - epoch: 87, train_loss: 22.86300900777181, val_metric: 0.6836946741667731\n",
      "100%|██████████| 45/45 [00:00<00:00, 367.39it/s]\n",
      "100%|██████████| 12/12 [00:00<00:00, 3554.75it/s]\n",
      "2024-11-06 10:52:45,030 - decision_learning.modeling.train - INFO - epoch: 88, train_loss: 22.863009770711262, val_metric: 0.6939886206784636\n",
      "2024-11-06 10:52:45,030 - decision_learning.modeling.train - INFO - epoch: 88, train_loss: 22.863009770711262, val_metric: 0.6939886206784636\n",
      "100%|██████████| 45/45 [00:00<00:00, 367.98it/s]\n",
      "100%|██████████| 12/12 [00:00<00:00, 3561.54it/s]\n",
      "2024-11-06 10:52:45,162 - decision_learning.modeling.train - INFO - epoch: 89, train_loss: 22.86300926208496, val_metric: 0.6972615805106255\n",
      "2024-11-06 10:52:45,162 - decision_learning.modeling.train - INFO - epoch: 89, train_loss: 22.86300926208496, val_metric: 0.6972615805106255\n",
      "100%|██████████| 45/45 [00:00<00:00, 367.44it/s]\n",
      "100%|██████████| 12/12 [00:00<00:00, 3554.75it/s]\n",
      "2024-11-06 10:52:45,294 - decision_learning.modeling.train - INFO - epoch: 90, train_loss: 22.86300951639811, val_metric: 0.6958761162131086\n",
      "2024-11-06 10:52:45,294 - decision_learning.modeling.train - INFO - epoch: 90, train_loss: 22.86300951639811, val_metric: 0.6958761162131086\n",
      "100%|██████████| 45/45 [00:00<00:00, 366.73it/s]\n",
      "100%|██████████| 12/12 [00:00<00:00, 3560.03it/s]\n",
      "2024-11-06 10:52:45,427 - decision_learning.modeling.train - INFO - epoch: 91, train_loss: 22.863009134928387, val_metric: 0.6856939799900709\n",
      "2024-11-06 10:52:45,427 - decision_learning.modeling.train - INFO - epoch: 91, train_loss: 22.863009134928387, val_metric: 0.6856939799900709\n",
      "100%|██████████| 45/45 [00:00<00:00, 367.80it/s]\n",
      "100%|██████████| 12/12 [00:00<00:00, 3551.49it/s]\n",
      "2024-11-06 10:52:45,559 - decision_learning.modeling.train - INFO - epoch: 92, train_loss: 22.86300883822971, val_metric: 0.6893060199813835\n",
      "2024-11-06 10:52:45,559 - decision_learning.modeling.train - INFO - epoch: 92, train_loss: 22.86300883822971, val_metric: 0.6893060199813835\n",
      "100%|██████████| 45/45 [00:00<00:00, 366.82it/s]\n",
      "100%|██████████| 12/12 [00:00<00:00, 3560.53it/s]\n",
      "2024-11-06 10:52:45,692 - decision_learning.modeling.train - INFO - epoch: 93, train_loss: 22.86300883822971, val_metric: 0.682279863469832\n",
      "2024-11-06 10:52:45,692 - decision_learning.modeling.train - INFO - epoch: 93, train_loss: 22.86300883822971, val_metric: 0.682279863469832\n",
      "100%|██████████| 45/45 [00:00<00:00, 368.22it/s]\n",
      "100%|██████████| 12/12 [00:00<00:00, 3568.86it/s]\n",
      "2024-11-06 10:52:45,824 - decision_learning.modeling.train - INFO - epoch: 94, train_loss: 22.86301040649414, val_metric: 0.6919845505001642\n",
      "2024-11-06 10:52:45,824 - decision_learning.modeling.train - INFO - epoch: 94, train_loss: 22.86301040649414, val_metric: 0.6919845505001642\n",
      "100%|██████████| 45/45 [00:00<00:00, 368.33it/s]\n",
      "100%|██████████| 12/12 [00:00<00:00, 3552.99it/s]\n",
      "2024-11-06 10:52:45,956 - decision_learning.modeling.train - INFO - epoch: 95, train_loss: 22.863009134928387, val_metric: 0.6948613085977847\n",
      "2024-11-06 10:52:45,956 - decision_learning.modeling.train - INFO - epoch: 95, train_loss: 22.863009134928387, val_metric: 0.6948613085977847\n",
      "100%|██████████| 45/45 [00:00<00:00, 368.04it/s]\n",
      "100%|██████████| 12/12 [00:00<00:00, 3555.25it/s]\n",
      "2024-11-06 10:52:46,088 - decision_learning.modeling.train - INFO - epoch: 96, train_loss: 22.863009474012586, val_metric: 0.6946747384833103\n",
      "2024-11-06 10:52:46,088 - decision_learning.modeling.train - INFO - epoch: 96, train_loss: 22.863009474012586, val_metric: 0.6946747384833103\n",
      "100%|██████████| 45/45 [00:00<00:00, 367.45it/s]\n",
      "100%|██████████| 12/12 [00:00<00:00, 3551.23it/s]\n",
      "2024-11-06 10:52:46,221 - decision_learning.modeling.train - INFO - epoch: 97, train_loss: 22.86300926208496, val_metric: 0.6926178549229728\n",
      "2024-11-06 10:52:46,221 - decision_learning.modeling.train - INFO - epoch: 97, train_loss: 22.86300926208496, val_metric: 0.6926178549229728\n",
      "100%|██████████| 45/45 [00:00<00:00, 367.86it/s]\n",
      "100%|██████████| 12/12 [00:00<00:00, 3548.73it/s]\n",
      "2024-11-06 10:52:46,353 - decision_learning.modeling.train - INFO - epoch: 98, train_loss: 22.863009897867837, val_metric: 0.6895069338454902\n",
      "2024-11-06 10:52:46,353 - decision_learning.modeling.train - INFO - epoch: 98, train_loss: 22.863009897867837, val_metric: 0.6895069338454902\n",
      "100%|██████████| 45/45 [00:00<00:00, 367.97it/s]\n",
      "100%|██████████| 12/12 [00:00<00:00, 3565.32it/s]\n",
      "2024-11-06 10:52:46,485 - decision_learning.modeling.train - INFO - epoch: 99, train_loss: 22.863009855482314, val_metric: 0.6870594238596557\n",
      "2024-11-06 10:52:46,485 - decision_learning.modeling.train - INFO - epoch: 99, train_loss: 22.863009855482314, val_metric: 0.6870594238596557\n"
     ]
    },
    {
     "name": "stdout",
     "output_type": "stream",
     "text": [
      "0.000625 B\n"
     ]
    },
    {
     "name": "stderr",
     "output_type": "stream",
     "text": [
      "100%|██████████| 45/45 [00:00<00:00, 367.01it/s]\n",
      "100%|██████████| 12/12 [00:00<00:00, 3537.51it/s]\n",
      "2024-11-06 10:52:46,625 - decision_learning.modeling.train - INFO - epoch: 0, train_loss: 19.098456202612983, val_metric: 0.48393195932385197\n",
      "2024-11-06 10:52:46,625 - decision_learning.modeling.train - INFO - epoch: 0, train_loss: 19.098456202612983, val_metric: 0.48393195932385197\n",
      "100%|██████████| 45/45 [00:00<00:00, 368.39it/s]\n",
      "100%|██████████| 12/12 [00:00<00:00, 3549.23it/s]\n",
      "2024-11-06 10:52:46,757 - decision_learning.modeling.train - INFO - epoch: 1, train_loss: 19.973195393880207, val_metric: 0.5096618078249383\n",
      "2024-11-06 10:52:46,757 - decision_learning.modeling.train - INFO - epoch: 1, train_loss: 19.973195393880207, val_metric: 0.5096618078249383\n",
      "100%|██████████| 45/45 [00:00<00:00, 367.09it/s]\n",
      "100%|██████████| 12/12 [00:00<00:00, 3534.77it/s]\n",
      "2024-11-06 10:52:46,890 - decision_learning.modeling.train - INFO - epoch: 2, train_loss: 20.22644725375705, val_metric: 0.5080517599421902\n",
      "2024-11-06 10:52:46,890 - decision_learning.modeling.train - INFO - epoch: 2, train_loss: 20.22644725375705, val_metric: 0.5080517599421902\n",
      "100%|██████████| 45/45 [00:00<00:00, 367.99it/s]\n",
      "100%|██████████| 12/12 [00:00<00:00, 3567.60it/s]\n",
      "2024-11-06 10:52:47,022 - decision_learning.modeling.train - INFO - epoch: 3, train_loss: 20.829357528686522, val_metric: 0.6538936336322594\n",
      "2024-11-06 10:52:47,022 - decision_learning.modeling.train - INFO - epoch: 3, train_loss: 20.829357528686522, val_metric: 0.6538936336322594\n",
      "100%|██████████| 45/45 [00:00<00:00, 368.36it/s]\n",
      "100%|██████████| 12/12 [00:00<00:00, 3557.51it/s]\n",
      "2024-11-06 10:52:47,154 - decision_learning.modeling.train - INFO - epoch: 4, train_loss: 21.603002802530924, val_metric: 0.6527901279185029\n",
      "2024-11-06 10:52:47,154 - decision_learning.modeling.train - INFO - epoch: 4, train_loss: 21.603002802530924, val_metric: 0.6527901279185029\n",
      "100%|██████████| 45/45 [00:00<00:00, 368.02it/s]\n",
      "100%|██████████| 12/12 [00:00<00:00, 3559.52it/s]\n",
      "2024-11-06 10:52:47,286 - decision_learning.modeling.train - INFO - epoch: 5, train_loss: 30.004686313205294, val_metric: 0.6170864570141261\n",
      "2024-11-06 10:52:47,286 - decision_learning.modeling.train - INFO - epoch: 5, train_loss: 30.004686313205294, val_metric: 0.6170864570141261\n",
      "100%|██████████| 45/45 [00:00<00:00, 367.16it/s]\n",
      "100%|██████████| 12/12 [00:00<00:00, 3560.03it/s]\n",
      "2024-11-06 10:52:47,419 - decision_learning.modeling.train - INFO - epoch: 6, train_loss: 21.08078316582574, val_metric: 0.605911459619548\n",
      "2024-11-06 10:52:47,419 - decision_learning.modeling.train - INFO - epoch: 6, train_loss: 21.08078316582574, val_metric: 0.605911459619548\n",
      "100%|██████████| 45/45 [00:00<00:00, 367.12it/s]\n",
      "100%|██████████| 12/12 [00:00<00:00, 3550.98it/s]\n",
      "2024-11-06 10:52:47,551 - decision_learning.modeling.train - INFO - epoch: 7, train_loss: 21.06655010647244, val_metric: 0.6120271681641599\n",
      "2024-11-06 10:52:47,551 - decision_learning.modeling.train - INFO - epoch: 7, train_loss: 21.06655010647244, val_metric: 0.6120271681641599\n",
      "100%|██████████| 45/45 [00:00<00:00, 368.30it/s]\n",
      "100%|██████████| 12/12 [00:00<00:00, 3544.98it/s]\n",
      "2024-11-06 10:52:47,683 - decision_learning.modeling.train - INFO - epoch: 8, train_loss: 21.066470675998264, val_metric: 0.6166996826203324\n",
      "2024-11-06 10:52:47,683 - decision_learning.modeling.train - INFO - epoch: 8, train_loss: 21.066470675998264, val_metric: 0.6166996826203324\n",
      "100%|██████████| 45/45 [00:00<00:00, 366.57it/s]\n",
      "100%|██████████| 12/12 [00:00<00:00, 3552.74it/s]\n",
      "2024-11-06 10:52:47,816 - decision_learning.modeling.train - INFO - epoch: 9, train_loss: 21.066528023613824, val_metric: 0.6141375240066953\n",
      "2024-11-06 10:52:47,816 - decision_learning.modeling.train - INFO - epoch: 9, train_loss: 21.066528023613824, val_metric: 0.6141375240066953\n",
      "100%|██████████| 45/45 [00:00<00:00, 367.49it/s]\n",
      "100%|██████████| 12/12 [00:00<00:00, 3537.01it/s]\n",
      "2024-11-06 10:52:47,948 - decision_learning.modeling.train - INFO - epoch: 10, train_loss: 21.066519334581162, val_metric: 0.6182728827787601\n",
      "2024-11-06 10:52:47,948 - decision_learning.modeling.train - INFO - epoch: 10, train_loss: 21.066519334581162, val_metric: 0.6182728827787601\n",
      "100%|██████████| 45/45 [00:00<00:00, 367.46it/s]\n",
      "100%|██████████| 12/12 [00:00<00:00, 3550.98it/s]\n",
      "2024-11-06 10:52:48,081 - decision_learning.modeling.train - INFO - epoch: 11, train_loss: 21.066564390394422, val_metric: 0.6126933162257023\n",
      "2024-11-06 10:52:48,081 - decision_learning.modeling.train - INFO - epoch: 11, train_loss: 21.066564390394422, val_metric: 0.6126933162257023\n",
      "100%|██████████| 45/45 [00:00<00:00, 367.21it/s]\n",
      "100%|██████████| 12/12 [00:00<00:00, 3546.48it/s]\n",
      "2024-11-06 10:52:48,213 - decision_learning.modeling.train - INFO - epoch: 12, train_loss: 21.06653315226237, val_metric: 0.6232251256950752\n",
      "2024-11-06 10:52:48,213 - decision_learning.modeling.train - INFO - epoch: 12, train_loss: 21.06653315226237, val_metric: 0.6232251256950752\n",
      "100%|██████████| 45/45 [00:00<00:00, 367.20it/s]\n",
      "100%|██████████| 12/12 [00:00<00:00, 3548.98it/s]\n",
      "2024-11-06 10:52:48,346 - decision_learning.modeling.train - INFO - epoch: 13, train_loss: 21.066525226169162, val_metric: 0.6109975606375546\n",
      "2024-11-06 10:52:48,346 - decision_learning.modeling.train - INFO - epoch: 13, train_loss: 21.066525226169162, val_metric: 0.6109975606375546\n",
      "100%|██████████| 45/45 [00:00<00:00, 366.68it/s]\n",
      "100%|██████████| 12/12 [00:00<00:00, 3530.06it/s]\n",
      "2024-11-06 10:52:48,478 - decision_learning.modeling.train - INFO - epoch: 14, train_loss: 21.066486655341254, val_metric: 0.6070279912826172\n",
      "2024-11-06 10:52:48,478 - decision_learning.modeling.train - INFO - epoch: 14, train_loss: 21.066486655341254, val_metric: 0.6070279912826172\n",
      "100%|██████████| 45/45 [00:00<00:00, 355.01it/s]\n",
      "100%|██████████| 12/12 [00:00<00:00, 3545.73it/s]\n",
      "2024-11-06 10:52:48,615 - decision_learning.modeling.train - INFO - epoch: 15, train_loss: 21.06650725470649, val_metric: 0.6053136344361124\n",
      "2024-11-06 10:52:48,615 - decision_learning.modeling.train - INFO - epoch: 15, train_loss: 21.06650725470649, val_metric: 0.6053136344361124\n",
      "100%|██████████| 45/45 [00:00<00:00, 362.66it/s]\n",
      "100%|██████████| 12/12 [00:00<00:00, 3549.48it/s]\n",
      "2024-11-06 10:52:48,750 - decision_learning.modeling.train - INFO - epoch: 16, train_loss: 21.06654641893175, val_metric: 0.6264352365889191\n",
      "2024-11-06 10:52:48,750 - decision_learning.modeling.train - INFO - epoch: 16, train_loss: 21.06654641893175, val_metric: 0.6264352365889191\n",
      "100%|██████████| 45/45 [00:00<00:00, 367.53it/s]\n",
      "100%|██████████| 12/12 [00:00<00:00, 3549.23it/s]\n",
      "2024-11-06 10:52:48,882 - decision_learning.modeling.train - INFO - epoch: 17, train_loss: 21.0665347205268, val_metric: 0.6073582016319247\n",
      "2024-11-06 10:52:48,882 - decision_learning.modeling.train - INFO - epoch: 17, train_loss: 21.0665347205268, val_metric: 0.6073582016319247\n",
      "100%|██████████| 45/45 [00:00<00:00, 321.88it/s]\n",
      "100%|██████████| 12/12 [00:00<00:00, 3359.92it/s]\n",
      "2024-11-06 10:52:49,033 - decision_learning.modeling.train - INFO - epoch: 18, train_loss: 21.066524251302084, val_metric: 0.6037360247150769\n",
      "2024-11-06 10:52:49,033 - decision_learning.modeling.train - INFO - epoch: 18, train_loss: 21.066524251302084, val_metric: 0.6037360247150769\n",
      "100%|██████████| 45/45 [00:00<00:00, 351.22it/s]\n",
      "100%|██████████| 12/12 [00:00<00:00, 3542.74it/s]\n",
      "2024-11-06 10:52:49,170 - decision_learning.modeling.train - INFO - epoch: 19, train_loss: 21.066523615519205, val_metric: 0.6115244780268718\n",
      "2024-11-06 10:52:49,170 - decision_learning.modeling.train - INFO - epoch: 19, train_loss: 21.066523615519205, val_metric: 0.6115244780268718\n",
      "100%|██████████| 45/45 [00:00<00:00, 368.15it/s]\n",
      "100%|██████████| 12/12 [00:00<00:00, 3560.28it/s]\n",
      "2024-11-06 10:52:49,302 - decision_learning.modeling.train - INFO - epoch: 20, train_loss: 21.066500896877713, val_metric: 0.6033504667523474\n",
      "2024-11-06 10:52:49,302 - decision_learning.modeling.train - INFO - epoch: 20, train_loss: 21.066500896877713, val_metric: 0.6033504667523474\n",
      "100%|██████████| 45/45 [00:00<00:00, 357.18it/s]\n",
      "100%|██████████| 12/12 [00:00<00:00, 3566.84it/s]\n",
      "2024-11-06 10:52:49,438 - decision_learning.modeling.train - INFO - epoch: 21, train_loss: 21.066598892211914, val_metric: 0.6175498665649656\n",
      "2024-11-06 10:52:49,438 - decision_learning.modeling.train - INFO - epoch: 21, train_loss: 21.066598892211914, val_metric: 0.6175498665649656\n",
      "100%|██████████| 45/45 [00:00<00:00, 368.12it/s]\n",
      "100%|██████████| 12/12 [00:00<00:00, 3538.00it/s]\n",
      "2024-11-06 10:52:49,571 - decision_learning.modeling.train - INFO - epoch: 22, train_loss: 21.06647491455078, val_metric: 0.6210908973929045\n",
      "2024-11-06 10:52:49,571 - decision_learning.modeling.train - INFO - epoch: 22, train_loss: 21.06647491455078, val_metric: 0.6210908973929045\n",
      "100%|██████████| 45/45 [00:00<00:00, 365.15it/s]\n",
      "100%|██████████| 12/12 [00:00<00:00, 3560.28it/s]\n",
      "2024-11-06 10:52:49,704 - decision_learning.modeling.train - INFO - epoch: 23, train_loss: 21.066492886013457, val_metric: 0.6129254518204573\n",
      "2024-11-06 10:52:49,704 - decision_learning.modeling.train - INFO - epoch: 23, train_loss: 21.066492886013457, val_metric: 0.6129254518204573\n",
      "100%|██████████| 45/45 [00:00<00:00, 364.98it/s]\n",
      "100%|██████████| 12/12 [00:00<00:00, 3531.30it/s]\n",
      "2024-11-06 10:52:49,837 - decision_learning.modeling.train - INFO - epoch: 24, train_loss: 21.066501405504013, val_metric: 0.6218991651504497\n",
      "2024-11-06 10:52:49,837 - decision_learning.modeling.train - INFO - epoch: 24, train_loss: 21.066501405504013, val_metric: 0.6218991651504497\n",
      "100%|██████████| 45/45 [00:00<00:00, 365.06it/s]\n",
      "100%|██████████| 12/12 [00:00<00:00, 3532.79it/s]\n",
      "2024-11-06 10:52:49,970 - decision_learning.modeling.train - INFO - epoch: 25, train_loss: 21.06648767259386, val_metric: 0.612862501512884\n",
      "2024-11-06 10:52:49,970 - decision_learning.modeling.train - INFO - epoch: 25, train_loss: 21.06648767259386, val_metric: 0.612862501512884\n",
      "100%|██████████| 45/45 [00:00<00:00, 366.90it/s]\n",
      "100%|██████████| 12/12 [00:00<00:00, 3547.98it/s]\n",
      "2024-11-06 10:52:50,103 - decision_learning.modeling.train - INFO - epoch: 26, train_loss: 21.066575622558595, val_metric: 0.6142597753286493\n",
      "2024-11-06 10:52:50,103 - decision_learning.modeling.train - INFO - epoch: 26, train_loss: 21.066575622558595, val_metric: 0.6142597753286493\n",
      "100%|██████████| 45/45 [00:00<00:00, 368.77it/s]\n",
      "100%|██████████| 12/12 [00:00<00:00, 3533.29it/s]\n",
      "2024-11-06 10:52:50,235 - decision_learning.modeling.train - INFO - epoch: 27, train_loss: 21.066547478569877, val_metric: 0.6138970761330015\n",
      "2024-11-06 10:52:50,235 - decision_learning.modeling.train - INFO - epoch: 27, train_loss: 21.066547478569877, val_metric: 0.6138970761330015\n",
      "100%|██████████| 45/45 [00:00<00:00, 367.19it/s]\n",
      "100%|██████████| 12/12 [00:00<00:00, 3530.06it/s]\n",
      "2024-11-06 10:52:50,367 - decision_learning.modeling.train - INFO - epoch: 28, train_loss: 21.06653052435981, val_metric: 0.6155826441109864\n",
      "2024-11-06 10:52:50,367 - decision_learning.modeling.train - INFO - epoch: 28, train_loss: 21.06653052435981, val_metric: 0.6155826441109864\n",
      "100%|██████████| 45/45 [00:00<00:00, 367.03it/s]\n",
      "100%|██████████| 12/12 [00:00<00:00, 3546.48it/s]\n",
      "2024-11-06 10:52:50,500 - decision_learning.modeling.train - INFO - epoch: 29, train_loss: 21.0665591345893, val_metric: 0.6213451314853261\n",
      "2024-11-06 10:52:50,500 - decision_learning.modeling.train - INFO - epoch: 29, train_loss: 21.0665591345893, val_metric: 0.6213451314853261\n",
      "100%|██████████| 45/45 [00:00<00:00, 366.91it/s]\n",
      "100%|██████████| 12/12 [00:00<00:00, 3532.54it/s]\n",
      "2024-11-06 10:52:50,633 - decision_learning.modeling.train - INFO - epoch: 30, train_loss: 21.06650619506836, val_metric: 0.6093053529733442\n",
      "2024-11-06 10:52:50,633 - decision_learning.modeling.train - INFO - epoch: 30, train_loss: 21.06650619506836, val_metric: 0.6093053529733442\n",
      "100%|██████████| 45/45 [00:00<00:00, 366.47it/s]\n",
      "100%|██████████| 12/12 [00:00<00:00, 3544.23it/s]\n",
      "2024-11-06 10:52:50,765 - decision_learning.modeling.train - INFO - epoch: 31, train_loss: 21.066536882188586, val_metric: 0.6253649799909179\n",
      "2024-11-06 10:52:50,765 - decision_learning.modeling.train - INFO - epoch: 31, train_loss: 21.066536882188586, val_metric: 0.6253649799909179\n",
      "100%|██████████| 45/45 [00:00<00:00, 367.43it/s]\n",
      "100%|██████████| 12/12 [00:00<00:00, 3416.95it/s]\n",
      "2024-11-06 10:52:50,898 - decision_learning.modeling.train - INFO - epoch: 32, train_loss: 21.066526285807292, val_metric: 0.6226263375037138\n",
      "2024-11-06 10:52:50,898 - decision_learning.modeling.train - INFO - epoch: 32, train_loss: 21.066526285807292, val_metric: 0.6226263375037138\n",
      "100%|██████████| 45/45 [00:00<00:00, 366.75it/s]\n",
      "100%|██████████| 12/12 [00:00<00:00, 3535.52it/s]\n",
      "2024-11-06 10:52:51,030 - decision_learning.modeling.train - INFO - epoch: 33, train_loss: 21.066499286227756, val_metric: 0.6029451924694521\n",
      "2024-11-06 10:52:51,030 - decision_learning.modeling.train - INFO - epoch: 33, train_loss: 21.066499286227756, val_metric: 0.6029451924694521\n",
      "100%|██████████| 45/45 [00:00<00:00, 366.55it/s]\n",
      "100%|██████████| 12/12 [00:00<00:00, 3556.00it/s]\n",
      "2024-11-06 10:52:51,163 - decision_learning.modeling.train - INFO - epoch: 34, train_loss: 21.066540018717447, val_metric: 0.6012110179335262\n",
      "2024-11-06 10:52:51,163 - decision_learning.modeling.train - INFO - epoch: 34, train_loss: 21.066540018717447, val_metric: 0.6012110179335262\n",
      "100%|██████████| 45/45 [00:00<00:00, 367.09it/s]\n",
      "100%|██████████| 12/12 [00:00<00:00, 3536.76it/s]\n",
      "2024-11-06 10:52:51,296 - decision_learning.modeling.train - INFO - epoch: 35, train_loss: 21.066486019558376, val_metric: 0.6128052278836105\n",
      "2024-11-06 10:52:51,296 - decision_learning.modeling.train - INFO - epoch: 35, train_loss: 21.066486019558376, val_metric: 0.6128052278836105\n",
      "100%|██████████| 45/45 [00:00<00:00, 367.23it/s]\n",
      "100%|██████████| 12/12 [00:00<00:00, 3563.30it/s]\n",
      "2024-11-06 10:52:51,428 - decision_learning.modeling.train - INFO - epoch: 36, train_loss: 21.06652365790473, val_metric: 0.6108115480539846\n",
      "2024-11-06 10:52:51,428 - decision_learning.modeling.train - INFO - epoch: 36, train_loss: 21.06652365790473, val_metric: 0.6108115480539846\n",
      "100%|██████████| 45/45 [00:00<00:00, 366.47it/s]\n",
      "100%|██████████| 12/12 [00:00<00:00, 3537.01it/s]\n",
      "2024-11-06 10:52:51,561 - decision_learning.modeling.train - INFO - epoch: 37, train_loss: 21.066505177815756, val_metric: 0.610126342572436\n",
      "2024-11-06 10:52:51,561 - decision_learning.modeling.train - INFO - epoch: 37, train_loss: 21.066505177815756, val_metric: 0.610126342572436\n",
      "100%|██████████| 45/45 [00:00<00:00, 366.65it/s]\n",
      "100%|██████████| 12/12 [00:00<00:00, 3561.03it/s]\n",
      "2024-11-06 10:52:51,694 - decision_learning.modeling.train - INFO - epoch: 38, train_loss: 21.066515731811524, val_metric: 0.6215082853018143\n",
      "2024-11-06 10:52:51,694 - decision_learning.modeling.train - INFO - epoch: 38, train_loss: 21.066515731811524, val_metric: 0.6215082853018143\n",
      "100%|██████████| 45/45 [00:00<00:00, 366.40it/s]\n",
      "100%|██████████| 12/12 [00:00<00:00, 3545.98it/s]\n",
      "2024-11-06 10:52:51,827 - decision_learning.modeling.train - INFO - epoch: 39, train_loss: 21.066494539048936, val_metric: 0.611808159887973\n",
      "2024-11-06 10:52:51,827 - decision_learning.modeling.train - INFO - epoch: 39, train_loss: 21.066494539048936, val_metric: 0.611808159887973\n",
      "100%|██████████| 45/45 [00:00<00:00, 368.36it/s]\n",
      "100%|██████████| 12/12 [00:00<00:00, 3544.48it/s]\n",
      "2024-11-06 10:52:51,959 - decision_learning.modeling.train - INFO - epoch: 40, train_loss: 21.066529973347983, val_metric: 0.6056095819771111\n",
      "2024-11-06 10:52:51,959 - decision_learning.modeling.train - INFO - epoch: 40, train_loss: 21.066529973347983, val_metric: 0.6056095819771111\n",
      "100%|██████████| 45/45 [00:00<00:00, 367.43it/s]\n",
      "100%|██████████| 12/12 [00:00<00:00, 3557.51it/s]\n",
      "2024-11-06 10:52:52,091 - decision_learning.modeling.train - INFO - epoch: 41, train_loss: 21.06657443576389, val_metric: 0.6066767468128241\n",
      "2024-11-06 10:52:52,091 - decision_learning.modeling.train - INFO - epoch: 41, train_loss: 21.06657443576389, val_metric: 0.6066767468128241\n",
      "100%|██████████| 45/45 [00:00<00:00, 366.95it/s]\n",
      "100%|██████████| 12/12 [00:00<00:00, 3512.33it/s]\n",
      "2024-11-06 10:52:52,224 - decision_learning.modeling.train - INFO - epoch: 42, train_loss: 21.06648809644911, val_metric: 0.6085596300463508\n",
      "2024-11-06 10:52:52,224 - decision_learning.modeling.train - INFO - epoch: 42, train_loss: 21.06648809644911, val_metric: 0.6085596300463508\n",
      "100%|██████████| 45/45 [00:00<00:00, 367.34it/s]\n",
      "100%|██████████| 12/12 [00:00<00:00, 3529.82it/s]\n",
      "2024-11-06 10:52:52,356 - decision_learning.modeling.train - INFO - epoch: 43, train_loss: 21.066553327772354, val_metric: 0.6283018500569618\n",
      "2024-11-06 10:52:52,356 - decision_learning.modeling.train - INFO - epoch: 43, train_loss: 21.066553327772354, val_metric: 0.6283018500569618\n",
      "100%|██████████| 45/45 [00:00<00:00, 366.73it/s]\n",
      "100%|██████████| 12/12 [00:00<00:00, 3574.18it/s]\n",
      "2024-11-06 10:52:52,489 - decision_learning.modeling.train - INFO - epoch: 44, train_loss: 21.066572909884982, val_metric: 0.611341709259473\n",
      "2024-11-06 10:52:52,489 - decision_learning.modeling.train - INFO - epoch: 44, train_loss: 21.066572909884982, val_metric: 0.611341709259473\n",
      "100%|██████████| 45/45 [00:00<00:00, 367.23it/s]\n",
      "100%|██████████| 12/12 [00:00<00:00, 3551.99it/s]\n",
      "2024-11-06 10:52:52,621 - decision_learning.modeling.train - INFO - epoch: 45, train_loss: 21.066524251302084, val_metric: 0.6157482814742308\n",
      "2024-11-06 10:52:52,621 - decision_learning.modeling.train - INFO - epoch: 45, train_loss: 21.066524251302084, val_metric: 0.6157482814742308\n",
      "100%|██████████| 45/45 [00:00<00:00, 366.52it/s]\n",
      "100%|██████████| 12/12 [00:00<00:00, 3547.73it/s]\n",
      "2024-11-06 10:52:52,754 - decision_learning.modeling.train - INFO - epoch: 46, train_loss: 21.066499286227756, val_metric: 0.6220874078576375\n",
      "2024-11-06 10:52:52,754 - decision_learning.modeling.train - INFO - epoch: 46, train_loss: 21.066499286227756, val_metric: 0.6220874078576375\n",
      "100%|██████████| 45/45 [00:00<00:00, 367.13it/s]\n",
      "100%|██████████| 12/12 [00:00<00:00, 3530.06it/s]\n",
      "2024-11-06 10:52:52,886 - decision_learning.modeling.train - INFO - epoch: 47, train_loss: 21.066509289211698, val_metric: 0.6181292932285548\n",
      "2024-11-06 10:52:52,886 - decision_learning.modeling.train - INFO - epoch: 47, train_loss: 21.066509289211698, val_metric: 0.6181292932285548\n",
      "100%|██████████| 45/45 [00:00<00:00, 366.26it/s]\n",
      "100%|██████████| 12/12 [00:00<00:00, 3536.76it/s]\n",
      "2024-11-06 10:52:53,019 - decision_learning.modeling.train - INFO - epoch: 48, train_loss: 21.066534805297852, val_metric: 0.6191651856489918\n",
      "2024-11-06 10:52:53,019 - decision_learning.modeling.train - INFO - epoch: 48, train_loss: 21.066534805297852, val_metric: 0.6191651856489918\n",
      "100%|██████████| 45/45 [00:00<00:00, 368.35it/s]\n",
      "100%|██████████| 12/12 [00:00<00:00, 3552.99it/s]\n",
      "2024-11-06 10:52:53,151 - decision_learning.modeling.train - INFO - epoch: 49, train_loss: 21.06651937696669, val_metric: 0.6223814800674122\n",
      "2024-11-06 10:52:53,151 - decision_learning.modeling.train - INFO - epoch: 49, train_loss: 21.06651937696669, val_metric: 0.6223814800674122\n",
      "100%|██████████| 45/45 [00:00<00:00, 366.48it/s]\n",
      "100%|██████████| 12/12 [00:00<00:00, 3552.24it/s]\n",
      "2024-11-06 10:52:53,284 - decision_learning.modeling.train - INFO - epoch: 50, train_loss: 21.066565577189127, val_metric: 0.6209610940614269\n",
      "2024-11-06 10:52:53,284 - decision_learning.modeling.train - INFO - epoch: 50, train_loss: 21.066565577189127, val_metric: 0.6209610940614269\n",
      "100%|██████████| 45/45 [00:00<00:00, 367.42it/s]\n",
      "100%|██████████| 12/12 [00:00<00:00, 3362.17it/s]\n",
      "2024-11-06 10:52:53,416 - decision_learning.modeling.train - INFO - epoch: 51, train_loss: 21.066552225748698, val_metric: 0.6098948658778409\n",
      "2024-11-06 10:52:53,416 - decision_learning.modeling.train - INFO - epoch: 51, train_loss: 21.066552225748698, val_metric: 0.6098948658778409\n",
      "100%|██████████| 45/45 [00:00<00:00, 367.20it/s]\n",
      "100%|██████████| 12/12 [00:00<00:00, 3526.35it/s]\n",
      "2024-11-06 10:52:53,549 - decision_learning.modeling.train - INFO - epoch: 52, train_loss: 21.066534254286026, val_metric: 0.6309490574758388\n",
      "2024-11-06 10:52:53,549 - decision_learning.modeling.train - INFO - epoch: 52, train_loss: 21.066534254286026, val_metric: 0.6309490574758388\n",
      "100%|██████████| 45/45 [00:00<00:00, 367.62it/s]\n",
      "100%|██████████| 12/12 [00:00<00:00, 3556.00it/s]\n",
      "2024-11-06 10:52:53,681 - decision_learning.modeling.train - INFO - epoch: 53, train_loss: 21.06652480231391, val_metric: 0.6130408100330473\n",
      "2024-11-06 10:52:53,681 - decision_learning.modeling.train - INFO - epoch: 53, train_loss: 21.06652480231391, val_metric: 0.6130408100330473\n",
      "100%|██████████| 45/45 [00:00<00:00, 367.94it/s]\n",
      "100%|██████████| 12/12 [00:00<00:00, 3538.25it/s]\n",
      "2024-11-06 10:52:53,814 - decision_learning.modeling.train - INFO - epoch: 54, train_loss: 21.066487121582032, val_metric: 0.6060562656008176\n",
      "2024-11-06 10:52:53,814 - decision_learning.modeling.train - INFO - epoch: 54, train_loss: 21.066487121582032, val_metric: 0.6060562656008176\n",
      "100%|██████████| 45/45 [00:00<00:00, 368.15it/s]\n",
      "100%|██████████| 12/12 [00:00<00:00, 3511.59it/s]\n",
      "2024-11-06 10:52:53,946 - decision_learning.modeling.train - INFO - epoch: 55, train_loss: 21.0665401034885, val_metric: 0.6149593752444577\n",
      "2024-11-06 10:52:53,946 - decision_learning.modeling.train - INFO - epoch: 55, train_loss: 21.0665401034885, val_metric: 0.6149593752444577\n",
      "100%|██████████| 45/45 [00:00<00:00, 368.40it/s]\n",
      "100%|██████████| 12/12 [00:00<00:00, 3547.23it/s]\n",
      "2024-11-06 10:52:54,078 - decision_learning.modeling.train - INFO - epoch: 56, train_loss: 21.066503524780273, val_metric: 0.626402747742579\n",
      "2024-11-06 10:52:54,078 - decision_learning.modeling.train - INFO - epoch: 56, train_loss: 21.066503524780273, val_metric: 0.626402747742579\n",
      "100%|██████████| 45/45 [00:00<00:00, 368.74it/s]\n",
      "100%|██████████| 12/12 [00:00<00:00, 3544.48it/s]\n",
      "2024-11-06 10:52:54,210 - decision_learning.modeling.train - INFO - epoch: 57, train_loss: 21.066555489434137, val_metric: 0.6197250987309258\n",
      "2024-11-06 10:52:54,210 - decision_learning.modeling.train - INFO - epoch: 57, train_loss: 21.066555489434137, val_metric: 0.6197250987309258\n",
      "100%|██████████| 45/45 [00:00<00:00, 369.29it/s]\n",
      "100%|██████████| 12/12 [00:00<00:00, 3536.26it/s]\n",
      "2024-11-06 10:52:54,342 - decision_learning.modeling.train - INFO - epoch: 58, train_loss: 21.066495090060762, val_metric: 0.6324491704011581\n",
      "2024-11-06 10:52:54,342 - decision_learning.modeling.train - INFO - epoch: 58, train_loss: 21.066495090060762, val_metric: 0.6324491704011581\n",
      "100%|██████████| 45/45 [00:00<00:00, 368.96it/s]\n",
      "100%|██████████| 12/12 [00:00<00:00, 3549.48it/s]\n",
      "2024-11-06 10:52:54,474 - decision_learning.modeling.train - INFO - epoch: 59, train_loss: 21.06653158399794, val_metric: 0.6144679370945135\n",
      "2024-11-06 10:52:54,474 - decision_learning.modeling.train - INFO - epoch: 59, train_loss: 21.06653158399794, val_metric: 0.6144679370945135\n",
      "100%|██████████| 45/45 [00:00<00:00, 368.83it/s]\n",
      "100%|██████████| 12/12 [00:00<00:00, 3555.00it/s]\n",
      "2024-11-06 10:52:54,606 - decision_learning.modeling.train - INFO - epoch: 60, train_loss: 21.06653005811903, val_metric: 0.6190509931828384\n",
      "2024-11-06 10:52:54,606 - decision_learning.modeling.train - INFO - epoch: 60, train_loss: 21.06653005811903, val_metric: 0.6190509931828384\n",
      "100%|██████████| 45/45 [00:00<00:00, 369.04it/s]\n",
      "100%|██████████| 12/12 [00:00<00:00, 3529.07it/s]\n",
      "2024-11-06 10:52:54,738 - decision_learning.modeling.train - INFO - epoch: 61, train_loss: 21.066539086235895, val_metric: 0.6128066470531853\n",
      "2024-11-06 10:52:54,738 - decision_learning.modeling.train - INFO - epoch: 61, train_loss: 21.066539086235895, val_metric: 0.6128066470531853\n",
      "100%|██████████| 45/45 [00:00<00:00, 368.70it/s]\n",
      "100%|██████████| 12/12 [00:00<00:00, 3554.24it/s]\n",
      "2024-11-06 10:52:54,870 - decision_learning.modeling.train - INFO - epoch: 62, train_loss: 21.06653264363607, val_metric: 0.6121314264432889\n",
      "2024-11-06 10:52:54,870 - decision_learning.modeling.train - INFO - epoch: 62, train_loss: 21.06653264363607, val_metric: 0.6121314264432889\n",
      "100%|██████████| 45/45 [00:00<00:00, 367.99it/s]\n",
      "100%|██████████| 12/12 [00:00<00:00, 3555.50it/s]\n",
      "2024-11-06 10:52:55,002 - decision_learning.modeling.train - INFO - epoch: 63, train_loss: 21.06653052435981, val_metric: 0.6136418790326541\n",
      "2024-11-06 10:52:55,002 - decision_learning.modeling.train - INFO - epoch: 63, train_loss: 21.06653052435981, val_metric: 0.6136418790326541\n",
      "100%|██████████| 45/45 [00:00<00:00, 367.92it/s]\n",
      "100%|██████████| 12/12 [00:00<00:00, 3559.02it/s]\n",
      "2024-11-06 10:52:55,134 - decision_learning.modeling.train - INFO - epoch: 64, train_loss: 21.066505686442056, val_metric: 0.6156301862917463\n",
      "2024-11-06 10:52:55,134 - decision_learning.modeling.train - INFO - epoch: 64, train_loss: 21.066505686442056, val_metric: 0.6156301862917463\n",
      "100%|██████████| 45/45 [00:00<00:00, 368.34it/s]\n",
      "100%|██████████| 12/12 [00:00<00:00, 3527.10it/s]\n",
      "2024-11-06 10:52:55,266 - decision_learning.modeling.train - INFO - epoch: 65, train_loss: 21.06654586791992, val_metric: 0.6147375793137486\n",
      "2024-11-06 10:52:55,266 - decision_learning.modeling.train - INFO - epoch: 65, train_loss: 21.06654586791992, val_metric: 0.6147375793137486\n",
      "100%|██████████| 45/45 [00:00<00:00, 369.13it/s]\n",
      "100%|██████████| 12/12 [00:00<00:00, 3555.25it/s]\n",
      "2024-11-06 10:52:55,398 - decision_learning.modeling.train - INFO - epoch: 66, train_loss: 21.066494962904187, val_metric: 0.6186054753055685\n",
      "2024-11-06 10:52:55,398 - decision_learning.modeling.train - INFO - epoch: 66, train_loss: 21.066494962904187, val_metric: 0.6186054753055685\n",
      "100%|██████████| 45/45 [00:00<00:00, 368.96it/s]\n",
      "100%|██████████| 12/12 [00:00<00:00, 3547.98it/s]\n",
      "2024-11-06 10:52:55,530 - decision_learning.modeling.train - INFO - epoch: 67, train_loss: 21.0665040757921, val_metric: 0.6100711470128972\n",
      "2024-11-06 10:52:55,530 - decision_learning.modeling.train - INFO - epoch: 67, train_loss: 21.0665040757921, val_metric: 0.6100711470128972\n",
      "100%|██████████| 45/45 [00:00<00:00, 369.97it/s]\n",
      "100%|██████████| 12/12 [00:00<00:00, 3576.98it/s]\n",
      "2024-11-06 10:52:55,662 - decision_learning.modeling.train - INFO - epoch: 68, train_loss: 21.066524759928384, val_metric: 0.6115698407686416\n",
      "2024-11-06 10:52:55,662 - decision_learning.modeling.train - INFO - epoch: 68, train_loss: 21.066524759928384, val_metric: 0.6115698407686416\n",
      "100%|██████████| 45/45 [00:00<00:00, 371.36it/s]\n",
      "100%|██████████| 12/12 [00:00<00:00, 3593.32it/s]\n",
      "2024-11-06 10:52:55,793 - decision_learning.modeling.train - INFO - epoch: 69, train_loss: 21.066524208916558, val_metric: 0.6082574989807756\n",
      "2024-11-06 10:52:55,793 - decision_learning.modeling.train - INFO - epoch: 69, train_loss: 21.066524208916558, val_metric: 0.6082574989807756\n",
      "100%|██████████| 45/45 [00:00<00:00, 370.94it/s]\n",
      "100%|██████████| 12/12 [00:00<00:00, 3590.76it/s]\n",
      "2024-11-06 10:52:55,924 - decision_learning.modeling.train - INFO - epoch: 70, train_loss: 21.066522555881075, val_metric: 0.6031504652115389\n",
      "2024-11-06 10:52:55,924 - decision_learning.modeling.train - INFO - epoch: 70, train_loss: 21.066522555881075, val_metric: 0.6031504652115389\n",
      "100%|██████████| 45/45 [00:00<00:00, 371.50it/s]\n",
      "100%|██████████| 12/12 [00:00<00:00, 3573.68it/s]\n",
      "2024-11-06 10:52:56,055 - decision_learning.modeling.train - INFO - epoch: 71, train_loss: 21.066495598687066, val_metric: 0.6136219599739775\n",
      "2024-11-06 10:52:56,055 - decision_learning.modeling.train - INFO - epoch: 71, train_loss: 21.066495598687066, val_metric: 0.6136219599739775\n",
      "100%|██████████| 45/45 [00:00<00:00, 370.57it/s]\n",
      "100%|██████████| 12/12 [00:00<00:00, 3592.30it/s]\n",
      "2024-11-06 10:52:56,186 - decision_learning.modeling.train - INFO - epoch: 72, train_loss: 21.066555404663085, val_metric: 0.6147228807717227\n",
      "2024-11-06 10:52:56,186 - decision_learning.modeling.train - INFO - epoch: 72, train_loss: 21.066555404663085, val_metric: 0.6147228807717227\n",
      "100%|██████████| 45/45 [00:00<00:00, 370.34it/s]\n",
      "100%|██████████| 12/12 [00:00<00:00, 3572.91it/s]\n",
      "2024-11-06 10:52:56,318 - decision_learning.modeling.train - INFO - epoch: 73, train_loss: 21.066496573554144, val_metric: 0.6191487131449972\n",
      "2024-11-06 10:52:56,318 - decision_learning.modeling.train - INFO - epoch: 73, train_loss: 21.066496573554144, val_metric: 0.6191487131449972\n",
      "100%|██████████| 45/45 [00:00<00:00, 370.29it/s]\n",
      "100%|██████████| 12/12 [00:00<00:00, 3586.41it/s]\n",
      "2024-11-06 10:52:56,449 - decision_learning.modeling.train - INFO - epoch: 74, train_loss: 21.066552776760524, val_metric: 0.6161804692944219\n",
      "2024-11-06 10:52:56,449 - decision_learning.modeling.train - INFO - epoch: 74, train_loss: 21.066552776760524, val_metric: 0.6161804692944219\n",
      "100%|██████████| 45/45 [00:00<00:00, 370.41it/s]\n",
      "100%|██████████| 12/12 [00:00<00:00, 3590.76it/s]\n",
      "2024-11-06 10:52:56,580 - decision_learning.modeling.train - INFO - epoch: 75, train_loss: 21.066564475165475, val_metric: 0.6182065366011326\n",
      "2024-11-06 10:52:56,580 - decision_learning.modeling.train - INFO - epoch: 75, train_loss: 21.066564475165475, val_metric: 0.6182065366011326\n",
      "100%|██████████| 45/45 [00:00<00:00, 365.57it/s]\n",
      "100%|██████████| 12/12 [00:00<00:00, 3548.23it/s]\n",
      "2024-11-06 10:52:56,713 - decision_learning.modeling.train - INFO - epoch: 76, train_loss: 21.066514672173394, val_metric: 0.6174885888501055\n",
      "2024-11-06 10:52:56,713 - decision_learning.modeling.train - INFO - epoch: 76, train_loss: 21.066514672173394, val_metric: 0.6174885888501055\n",
      "100%|██████████| 45/45 [00:00<00:00, 367.23it/s]\n",
      "100%|██████████| 12/12 [00:00<00:00, 3549.98it/s]\n",
      "2024-11-06 10:52:56,846 - decision_learning.modeling.train - INFO - epoch: 77, train_loss: 21.066525226169162, val_metric: 0.6157510184441253\n",
      "2024-11-06 10:52:56,846 - decision_learning.modeling.train - INFO - epoch: 77, train_loss: 21.066525226169162, val_metric: 0.6157510184441253\n",
      "100%|██████████| 45/45 [00:00<00:00, 366.36it/s]\n",
      "100%|██████████| 12/12 [00:00<00:00, 3537.26it/s]\n",
      "2024-11-06 10:52:56,979 - decision_learning.modeling.train - INFO - epoch: 78, train_loss: 21.06654641893175, val_metric: 0.6036854414566565\n",
      "2024-11-06 10:52:56,979 - decision_learning.modeling.train - INFO - epoch: 78, train_loss: 21.06654641893175, val_metric: 0.6036854414566565\n",
      "100%|██████████| 45/45 [00:00<00:00, 366.47it/s]\n",
      "100%|██████████| 12/12 [00:00<00:00, 3523.64it/s]\n",
      "2024-11-06 10:52:57,111 - decision_learning.modeling.train - INFO - epoch: 79, train_loss: 21.06650670369466, val_metric: 0.6108195055405297\n",
      "2024-11-06 10:52:57,111 - decision_learning.modeling.train - INFO - epoch: 79, train_loss: 21.06650670369466, val_metric: 0.6108195055405297\n",
      "100%|██████████| 45/45 [00:00<00:00, 366.90it/s]\n",
      "100%|██████████| 12/12 [00:00<00:00, 3547.48it/s]\n",
      "2024-11-06 10:52:57,244 - decision_learning.modeling.train - INFO - epoch: 80, train_loss: 21.066533194647896, val_metric: 0.6255305159849068\n",
      "2024-11-06 10:52:57,244 - decision_learning.modeling.train - INFO - epoch: 80, train_loss: 21.066533194647896, val_metric: 0.6255305159849068\n",
      "100%|██████████| 45/45 [00:00<00:00, 367.06it/s]\n",
      "100%|██████████| 12/12 [00:00<00:00, 3536.26it/s]\n",
      "2024-11-06 10:52:57,377 - decision_learning.modeling.train - INFO - epoch: 81, train_loss: 21.066577190823025, val_metric: 0.6030688122763532\n",
      "2024-11-06 10:52:57,377 - decision_learning.modeling.train - INFO - epoch: 81, train_loss: 21.066577190823025, val_metric: 0.6030688122763532\n",
      "100%|██████████| 45/45 [00:00<00:00, 367.27it/s]\n",
      "100%|██████████| 12/12 [00:00<00:00, 3525.12it/s]\n",
      "2024-11-06 10:52:57,509 - decision_learning.modeling.train - INFO - epoch: 82, train_loss: 21.06647432115343, val_metric: 0.612776844492112\n",
      "2024-11-06 10:52:57,509 - decision_learning.modeling.train - INFO - epoch: 82, train_loss: 21.06647432115343, val_metric: 0.612776844492112\n",
      "100%|██████████| 45/45 [00:00<00:00, 369.37it/s]\n",
      "100%|██████████| 12/12 [00:00<00:00, 3565.83it/s]\n",
      "2024-11-06 10:52:57,641 - decision_learning.modeling.train - INFO - epoch: 83, train_loss: 21.066532219780814, val_metric: 0.612436243794131\n",
      "2024-11-06 10:52:57,641 - decision_learning.modeling.train - INFO - epoch: 83, train_loss: 21.066532219780814, val_metric: 0.612436243794131\n",
      "100%|██████████| 45/45 [00:00<00:00, 369.81it/s]\n",
      "100%|██████████| 12/12 [00:00<00:00, 3556.00it/s]\n",
      "2024-11-06 10:52:57,773 - decision_learning.modeling.train - INFO - epoch: 84, train_loss: 21.066542222764756, val_metric: 0.6100959317958307\n",
      "2024-11-06 10:52:57,773 - decision_learning.modeling.train - INFO - epoch: 84, train_loss: 21.066542222764756, val_metric: 0.6100959317958307\n",
      "100%|██████████| 45/45 [00:00<00:00, 368.59it/s]\n",
      "100%|██████████| 12/12 [00:00<00:00, 3565.07it/s]\n",
      "2024-11-06 10:52:57,905 - decision_learning.modeling.train - INFO - epoch: 85, train_loss: 21.066488138834636, val_metric: 0.6195990460618963\n",
      "2024-11-06 10:52:57,905 - decision_learning.modeling.train - INFO - epoch: 85, train_loss: 21.066488138834636, val_metric: 0.6195990460618963\n",
      "100%|██████████| 45/45 [00:00<00:00, 367.92it/s]\n",
      "100%|██████████| 12/12 [00:00<00:00, 3539.25it/s]\n",
      "2024-11-06 10:52:58,037 - decision_learning.modeling.train - INFO - epoch: 86, train_loss: 21.06656659444173, val_metric: 0.6048360838741514\n",
      "2024-11-06 10:52:58,037 - decision_learning.modeling.train - INFO - epoch: 86, train_loss: 21.06656659444173, val_metric: 0.6048360838741514\n",
      "100%|██████████| 45/45 [00:00<00:00, 367.50it/s]\n",
      "100%|██████████| 12/12 [00:00<00:00, 3562.80it/s]\n",
      "2024-11-06 10:52:58,169 - decision_learning.modeling.train - INFO - epoch: 87, train_loss: 21.06648924085829, val_metric: 0.6072725446111527\n",
      "2024-11-06 10:52:58,169 - decision_learning.modeling.train - INFO - epoch: 87, train_loss: 21.06648924085829, val_metric: 0.6072725446111527\n",
      "100%|██████████| 45/45 [00:00<00:00, 367.97it/s]\n",
      "100%|██████████| 12/12 [00:00<00:00, 3547.98it/s]\n",
      "2024-11-06 10:52:58,301 - decision_learning.modeling.train - INFO - epoch: 88, train_loss: 21.066555489434137, val_metric: 0.6047970060262134\n",
      "2024-11-06 10:52:58,301 - decision_learning.modeling.train - INFO - epoch: 88, train_loss: 21.066555489434137, val_metric: 0.6047970060262134\n",
      "100%|██████████| 45/45 [00:00<00:00, 367.63it/s]\n",
      "100%|██████████| 12/12 [00:00<00:00, 3552.49it/s]\n",
      "2024-11-06 10:52:58,434 - decision_learning.modeling.train - INFO - epoch: 89, train_loss: 21.066457917955187, val_metric: 0.6244683689273337\n",
      "2024-11-06 10:52:58,434 - decision_learning.modeling.train - INFO - epoch: 89, train_loss: 21.066457917955187, val_metric: 0.6244683689273337\n",
      "100%|██████████| 45/45 [00:00<00:00, 366.60it/s]\n",
      "100%|██████████| 12/12 [00:00<00:00, 3542.74it/s]\n",
      "2024-11-06 10:52:58,567 - decision_learning.modeling.train - INFO - epoch: 90, train_loss: 21.06646639506022, val_metric: 0.6083793955103358\n",
      "2024-11-06 10:52:58,567 - decision_learning.modeling.train - INFO - epoch: 90, train_loss: 21.06646639506022, val_metric: 0.6083793955103358\n",
      "100%|██████████| 45/45 [00:00<00:00, 368.00it/s]\n",
      "100%|██████████| 12/12 [00:00<00:00, 3563.81it/s]\n",
      "2024-11-06 10:52:58,699 - decision_learning.modeling.train - INFO - epoch: 91, train_loss: 21.066510984632703, val_metric: 0.6187164746401784\n",
      "2024-11-06 10:52:58,699 - decision_learning.modeling.train - INFO - epoch: 91, train_loss: 21.066510984632703, val_metric: 0.6187164746401784\n",
      "100%|██████████| 45/45 [00:00<00:00, 372.15it/s]\n",
      "100%|██████████| 12/12 [00:00<00:00, 3587.43it/s]\n",
      "2024-11-06 10:52:58,830 - decision_learning.modeling.train - INFO - epoch: 92, train_loss: 21.066499286227756, val_metric: 0.6147781270158892\n",
      "2024-11-06 10:52:58,830 - decision_learning.modeling.train - INFO - epoch: 92, train_loss: 21.066499286227756, val_metric: 0.6147781270158892\n",
      "100%|██████████| 45/45 [00:00<00:00, 369.31it/s]\n",
      "100%|██████████| 12/12 [00:00<00:00, 3527.84it/s]\n",
      "2024-11-06 10:52:58,961 - decision_learning.modeling.train - INFO - epoch: 93, train_loss: 21.066534762912326, val_metric: 0.6067125808445909\n",
      "2024-11-06 10:52:58,961 - decision_learning.modeling.train - INFO - epoch: 93, train_loss: 21.066534762912326, val_metric: 0.6067125808445909\n",
      "100%|██████████| 45/45 [00:00<00:00, 365.28it/s]\n",
      "100%|██████████| 12/12 [00:00<00:00, 3514.53it/s]\n",
      "2024-11-06 10:52:59,095 - decision_learning.modeling.train - INFO - epoch: 94, train_loss: 21.066533194647896, val_metric: 0.5978746009475142\n",
      "2024-11-06 10:52:59,095 - decision_learning.modeling.train - INFO - epoch: 94, train_loss: 21.066533194647896, val_metric: 0.5978746009475142\n",
      "100%|██████████| 45/45 [00:00<00:00, 361.13it/s]\n",
      "100%|██████████| 12/12 [00:00<00:00, 3549.23it/s]\n",
      "2024-11-06 10:52:59,229 - decision_learning.modeling.train - INFO - epoch: 95, train_loss: 21.06651628282335, val_metric: 0.6107084048366644\n",
      "2024-11-06 10:52:59,229 - decision_learning.modeling.train - INFO - epoch: 95, train_loss: 21.06651628282335, val_metric: 0.6107084048366644\n",
      "100%|██████████| 45/45 [00:00<00:00, 366.68it/s]\n",
      "100%|██████████| 12/12 [00:00<00:00, 3527.34it/s]\n",
      "2024-11-06 10:52:59,362 - decision_learning.modeling.train - INFO - epoch: 96, train_loss: 21.066533745659722, val_metric: 0.6250625448175766\n",
      "2024-11-06 10:52:59,362 - decision_learning.modeling.train - INFO - epoch: 96, train_loss: 21.066533745659722, val_metric: 0.6250625448175766\n",
      "100%|██████████| 45/45 [00:00<00:00, 356.89it/s]\n",
      "100%|██████████| 12/12 [00:00<00:00, 3522.41it/s]\n",
      "2024-11-06 10:52:59,498 - decision_learning.modeling.train - INFO - epoch: 97, train_loss: 21.066505644056534, val_metric: 0.5981240200003066\n",
      "2024-11-06 10:52:59,498 - decision_learning.modeling.train - INFO - epoch: 97, train_loss: 21.066505644056534, val_metric: 0.5981240200003066\n",
      "100%|██████████| 45/45 [00:00<00:00, 365.95it/s]\n",
      "100%|██████████| 12/12 [00:00<00:00, 3542.74it/s]\n",
      "2024-11-06 10:52:59,631 - decision_learning.modeling.train - INFO - epoch: 98, train_loss: 21.0665040757921, val_metric: 0.6213127946928689\n",
      "2024-11-06 10:52:59,631 - decision_learning.modeling.train - INFO - epoch: 98, train_loss: 21.0665040757921, val_metric: 0.6213127946928689\n",
      "100%|██████████| 45/45 [00:00<00:00, 366.97it/s]\n",
      "100%|██████████| 12/12 [00:00<00:00, 3541.49it/s]\n",
      "2024-11-06 10:52:59,763 - decision_learning.modeling.train - INFO - epoch: 99, train_loss: 21.06653798421224, val_metric: 0.6157358130558226\n",
      "2024-11-06 10:52:59,763 - decision_learning.modeling.train - INFO - epoch: 99, train_loss: 21.06653798421224, val_metric: 0.6157358130558226\n"
     ]
    },
    {
     "name": "stdout",
     "output_type": "stream",
     "text": [
      "0.000625 F\n"
     ]
    },
    {
     "name": "stderr",
     "output_type": "stream",
     "text": [
      "100%|██████████| 45/45 [00:00<00:00, 365.88it/s]\n",
      "100%|██████████| 12/12 [00:00<00:00, 3539.25it/s]\n",
      "2024-11-06 10:52:59,903 - decision_learning.modeling.train - INFO - epoch: 0, train_loss: 21.449234347873265, val_metric: 0.3697886319169076\n",
      "2024-11-06 10:52:59,903 - decision_learning.modeling.train - INFO - epoch: 0, train_loss: 21.449234347873265, val_metric: 0.3697886319169076\n",
      "100%|██████████| 45/45 [00:00<00:00, 366.88it/s]\n",
      "100%|██████████| 12/12 [00:00<00:00, 3539.00it/s]\n",
      "2024-11-06 10:53:00,036 - decision_learning.modeling.train - INFO - epoch: 1, train_loss: 18.69632191128201, val_metric: 0.3699657493483205\n",
      "2024-11-06 10:53:00,036 - decision_learning.modeling.train - INFO - epoch: 1, train_loss: 18.69632191128201, val_metric: 0.3699657493483205\n",
      "100%|██████████| 45/45 [00:00<00:00, 368.12it/s]\n",
      "100%|██████████| 12/12 [00:00<00:00, 3537.26it/s]\n",
      "2024-11-06 10:53:00,168 - decision_learning.modeling.train - INFO - epoch: 2, train_loss: 18.69419576856825, val_metric: 0.3757900466261107\n",
      "2024-11-06 10:53:00,168 - decision_learning.modeling.train - INFO - epoch: 2, train_loss: 18.69419576856825, val_metric: 0.3757900466261107\n",
      "100%|██████████| 45/45 [00:00<00:00, 367.64it/s]\n",
      "100%|██████████| 12/12 [00:00<00:00, 3546.98it/s]\n",
      "2024-11-06 10:53:00,300 - decision_learning.modeling.train - INFO - epoch: 3, train_loss: 18.694108072916666, val_metric: 0.3767876468103387\n",
      "2024-11-06 10:53:00,300 - decision_learning.modeling.train - INFO - epoch: 3, train_loss: 18.694108072916666, val_metric: 0.3767876468103387\n",
      "100%|██████████| 45/45 [00:00<00:00, 366.82it/s]\n",
      "100%|██████████| 12/12 [00:00<00:00, 3525.61it/s]\n",
      "2024-11-06 10:53:00,433 - decision_learning.modeling.train - INFO - epoch: 4, train_loss: 18.694155120849608, val_metric: 0.3820466330933474\n",
      "2024-11-06 10:53:00,433 - decision_learning.modeling.train - INFO - epoch: 4, train_loss: 18.694155120849608, val_metric: 0.3820466330933474\n",
      "100%|██████████| 45/45 [00:00<00:00, 365.47it/s]\n",
      "100%|██████████| 12/12 [00:00<00:00, 3532.05it/s]\n",
      "2024-11-06 10:53:00,566 - decision_learning.modeling.train - INFO - epoch: 5, train_loss: 18.694131554497613, val_metric: 0.38493005621950727\n",
      "2024-11-06 10:53:00,566 - decision_learning.modeling.train - INFO - epoch: 5, train_loss: 18.694131554497613, val_metric: 0.38493005621950727\n",
      "100%|██████████| 45/45 [00:00<00:00, 367.08it/s]\n",
      "100%|██████████| 12/12 [00:00<00:00, 3479.79it/s]\n",
      "2024-11-06 10:53:00,697 - decision_learning.modeling.train - INFO - epoch: 6, train_loss: 18.694158003065322, val_metric: 0.3763811054117515\n",
      "2024-11-06 10:53:00,697 - decision_learning.modeling.train - INFO - epoch: 6, train_loss: 18.694158003065322, val_metric: 0.3763811054117515\n",
      "100%|██████████| 45/45 [00:00<00:00, 367.16it/s]\n",
      "100%|██████████| 12/12 [00:00<00:00, 3540.99it/s]\n",
      "2024-11-06 10:53:00,827 - decision_learning.modeling.train - INFO - epoch: 7, train_loss: 18.6941530863444, val_metric: 0.37670791989100477\n",
      "2024-11-06 10:53:00,827 - decision_learning.modeling.train - INFO - epoch: 7, train_loss: 18.6941530863444, val_metric: 0.37670791989100477\n",
      "100%|██████████| 45/45 [00:00<00:00, 367.34it/s]\n",
      "100%|██████████| 12/12 [00:00<00:00, 3559.27it/s]\n",
      "2024-11-06 10:53:00,956 - decision_learning.modeling.train - INFO - epoch: 8, train_loss: 18.694146219889323, val_metric: 0.38638992555045204\n",
      "2024-11-06 10:53:00,956 - decision_learning.modeling.train - INFO - epoch: 8, train_loss: 18.694146219889323, val_metric: 0.38638992555045204\n",
      "100%|██████████| 45/45 [00:00<00:00, 367.61it/s]\n",
      "100%|██████████| 12/12 [00:00<00:00, 3540.24it/s]\n",
      "2024-11-06 10:53:01,085 - decision_learning.modeling.train - INFO - epoch: 9, train_loss: 18.69414176940918, val_metric: 0.36787967144244177\n",
      "2024-11-06 10:53:01,085 - decision_learning.modeling.train - INFO - epoch: 9, train_loss: 18.69414176940918, val_metric: 0.36787967144244177\n",
      "100%|██████████| 45/45 [00:00<00:00, 368.26it/s]\n",
      "100%|██████████| 12/12 [00:00<00:00, 3505.48it/s]\n",
      "2024-11-06 10:53:01,214 - decision_learning.modeling.train - INFO - epoch: 10, train_loss: 18.69415202670627, val_metric: 0.37770387282483336\n",
      "2024-11-06 10:53:01,214 - decision_learning.modeling.train - INFO - epoch: 10, train_loss: 18.69415202670627, val_metric: 0.37770387282483336\n",
      "100%|██████████| 45/45 [00:00<00:00, 368.37it/s]\n",
      "100%|██████████| 12/12 [00:00<00:00, 3540.99it/s]\n",
      "2024-11-06 10:53:01,343 - decision_learning.modeling.train - INFO - epoch: 11, train_loss: 18.694148212009004, val_metric: 0.36684897419634144\n",
      "2024-11-06 10:53:01,343 - decision_learning.modeling.train - INFO - epoch: 11, train_loss: 18.694148212009004, val_metric: 0.36684897419634144\n",
      "100%|██████████| 45/45 [00:00<00:00, 368.23it/s]\n",
      "100%|██████████| 12/12 [00:00<00:00, 3526.60it/s]\n",
      "2024-11-06 10:53:01,473 - decision_learning.modeling.train - INFO - epoch: 12, train_loss: 18.694128121270072, val_metric: 0.3745776449897928\n",
      "2024-11-06 10:53:01,473 - decision_learning.modeling.train - INFO - epoch: 12, train_loss: 18.694128121270072, val_metric: 0.3745776449897928\n",
      "100%|██████████| 45/45 [00:00<00:00, 367.81it/s]\n",
      "100%|██████████| 12/12 [00:00<00:00, 3531.30it/s]\n",
      "2024-11-06 10:53:01,602 - decision_learning.modeling.train - INFO - epoch: 13, train_loss: 18.69413990444607, val_metric: 0.3788918444706115\n",
      "2024-11-06 10:53:01,602 - decision_learning.modeling.train - INFO - epoch: 13, train_loss: 18.69413990444607, val_metric: 0.3788918444706115\n",
      "100%|██████████| 45/45 [00:00<00:00, 368.15it/s]\n",
      "100%|██████████| 12/12 [00:00<00:00, 3522.90it/s]\n",
      "2024-11-06 10:53:01,731 - decision_learning.modeling.train - INFO - epoch: 14, train_loss: 18.694143507215713, val_metric: 0.3623433388767914\n",
      "2024-11-06 10:53:01,731 - decision_learning.modeling.train - INFO - epoch: 14, train_loss: 18.694143507215713, val_metric: 0.3623433388767914\n",
      "100%|██████████| 45/45 [00:00<00:00, 367.71it/s]\n",
      "100%|██████████| 12/12 [00:00<00:00, 3383.87it/s]\n",
      "2024-11-06 10:53:01,860 - decision_learning.modeling.train - INFO - epoch: 15, train_loss: 18.694157791137695, val_metric: 0.37136317521796874\n",
      "2024-11-06 10:53:01,860 - decision_learning.modeling.train - INFO - epoch: 15, train_loss: 18.694157791137695, val_metric: 0.37136317521796874\n",
      "100%|██████████| 45/45 [00:00<00:00, 367.65it/s]\n",
      "100%|██████████| 12/12 [00:00<00:00, 3505.48it/s]\n",
      "2024-11-06 10:53:01,990 - decision_learning.modeling.train - INFO - epoch: 16, train_loss: 18.694131003485786, val_metric: 0.38553406492751924\n",
      "2024-11-06 10:53:01,990 - decision_learning.modeling.train - INFO - epoch: 16, train_loss: 18.694131003485786, val_metric: 0.38553406492751924\n",
      "100%|██████████| 45/45 [00:00<00:00, 367.53it/s]\n",
      "100%|██████████| 12/12 [00:00<00:00, 3484.12it/s]\n",
      "2024-11-06 10:53:02,119 - decision_learning.modeling.train - INFO - epoch: 17, train_loss: 18.694159825642902, val_metric: 0.381535073146216\n",
      "2024-11-06 10:53:02,119 - decision_learning.modeling.train - INFO - epoch: 17, train_loss: 18.694159825642902, val_metric: 0.381535073146216\n",
      "100%|██████████| 45/45 [00:00<00:00, 367.89it/s]\n",
      "100%|██████████| 12/12 [00:00<00:00, 3461.12it/s]\n",
      "2024-11-06 10:53:02,248 - decision_learning.modeling.train - INFO - epoch: 18, train_loss: 18.69412621392144, val_metric: 0.37282537604178656\n",
      "2024-11-06 10:53:02,248 - decision_learning.modeling.train - INFO - epoch: 18, train_loss: 18.69412621392144, val_metric: 0.37282537604178656\n",
      "100%|██████████| 45/45 [00:00<00:00, 369.83it/s]\n",
      "100%|██████████| 12/12 [00:00<00:00, 3475.70it/s]\n",
      "2024-11-06 10:53:02,377 - decision_learning.modeling.train - INFO - epoch: 19, train_loss: 18.694138717651366, val_metric: 0.37815195027580084\n",
      "2024-11-06 10:53:02,377 - decision_learning.modeling.train - INFO - epoch: 19, train_loss: 18.694138717651366, val_metric: 0.37815195027580084\n",
      "100%|██████████| 45/45 [00:00<00:00, 371.35it/s]\n",
      "100%|██████████| 12/12 [00:00<00:00, 3478.83it/s]\n",
      "2024-11-06 10:53:02,505 - decision_learning.modeling.train - INFO - epoch: 20, train_loss: 18.694147491455077, val_metric: 0.37469662715326163\n",
      "2024-11-06 10:53:02,505 - decision_learning.modeling.train - INFO - epoch: 20, train_loss: 18.694147491455077, val_metric: 0.37469662715326163\n",
      "100%|██████████| 45/45 [00:00<00:00, 371.59it/s]\n",
      "100%|██████████| 12/12 [00:00<00:00, 3508.41it/s]\n",
      "2024-11-06 10:53:02,633 - decision_learning.modeling.train - INFO - epoch: 21, train_loss: 18.694144905938042, val_metric: 0.38140952732346317\n",
      "2024-11-06 10:53:02,633 - decision_learning.modeling.train - INFO - epoch: 21, train_loss: 18.694144905938042, val_metric: 0.38140952732346317\n",
      "100%|██████████| 45/45 [00:00<00:00, 372.09it/s]\n",
      "100%|██████████| 12/12 [00:00<00:00, 3520.93it/s]\n",
      "2024-11-06 10:53:02,761 - decision_learning.modeling.train - INFO - epoch: 22, train_loss: 18.6941401163737, val_metric: 0.3723830766383741\n",
      "2024-11-06 10:53:02,761 - decision_learning.modeling.train - INFO - epoch: 22, train_loss: 18.6941401163737, val_metric: 0.3723830766383741\n",
      "100%|██████████| 45/45 [00:00<00:00, 372.78it/s]\n",
      "100%|██████████| 12/12 [00:00<00:00, 3545.73it/s]\n",
      "2024-11-06 10:53:02,888 - decision_learning.modeling.train - INFO - epoch: 23, train_loss: 18.694160334269206, val_metric: 0.3666427384463288\n",
      "2024-11-06 10:53:02,888 - decision_learning.modeling.train - INFO - epoch: 23, train_loss: 18.694160334269206, val_metric: 0.3666427384463288\n",
      "100%|██████████| 45/45 [00:00<00:00, 374.19it/s]\n",
      "100%|██████████| 12/12 [00:00<00:00, 3532.54it/s]\n",
      "2024-11-06 10:53:03,015 - decision_learning.modeling.train - INFO - epoch: 24, train_loss: 18.694158850775825, val_metric: 0.374333294399768\n",
      "2024-11-06 10:53:03,015 - decision_learning.modeling.train - INFO - epoch: 24, train_loss: 18.694158850775825, val_metric: 0.374333294399768\n",
      "100%|██████████| 45/45 [00:00<00:00, 373.64it/s]\n",
      "100%|██████████| 12/12 [00:00<00:00, 3538.00it/s]\n",
      "2024-11-06 10:53:03,143 - decision_learning.modeling.train - INFO - epoch: 25, train_loss: 18.694154273139105, val_metric: 0.377858993127835\n",
      "2024-11-06 10:53:03,143 - decision_learning.modeling.train - INFO - epoch: 25, train_loss: 18.694154273139105, val_metric: 0.377858993127835\n",
      "100%|██████████| 45/45 [00:00<00:00, 373.26it/s]\n",
      "100%|██████████| 12/12 [00:00<00:00, 3532.05it/s]\n",
      "2024-11-06 10:53:03,270 - decision_learning.modeling.train - INFO - epoch: 26, train_loss: 18.694133037990994, val_metric: 0.37145757533701484\n",
      "2024-11-06 10:53:03,270 - decision_learning.modeling.train - INFO - epoch: 26, train_loss: 18.694133037990994, val_metric: 0.37145757533701484\n",
      "100%|██████████| 45/45 [00:00<00:00, 373.66it/s]\n",
      "100%|██████████| 12/12 [00:00<00:00, 3560.03it/s]\n",
      "2024-11-06 10:53:03,397 - decision_learning.modeling.train - INFO - epoch: 27, train_loss: 18.694115108913845, val_metric: 0.38287061308547216\n",
      "2024-11-06 10:53:03,397 - decision_learning.modeling.train - INFO - epoch: 27, train_loss: 18.694115108913845, val_metric: 0.38287061308547216\n",
      "100%|██████████| 45/45 [00:00<00:00, 373.58it/s]\n",
      "100%|██████████| 12/12 [00:00<00:00, 3568.10it/s]\n",
      "2024-11-06 10:53:03,525 - decision_learning.modeling.train - INFO - epoch: 28, train_loss: 18.69412324693468, val_metric: 0.37028615222217276\n",
      "2024-11-06 10:53:03,525 - decision_learning.modeling.train - INFO - epoch: 28, train_loss: 18.69412324693468, val_metric: 0.37028615222217276\n",
      "100%|██████████| 45/45 [00:00<00:00, 373.91it/s]\n",
      "100%|██████████| 12/12 [00:00<00:00, 3401.25it/s]\n",
      "2024-11-06 10:53:03,652 - decision_learning.modeling.train - INFO - epoch: 29, train_loss: 18.69413341946072, val_metric: 0.3794639978901293\n",
      "2024-11-06 10:53:03,652 - decision_learning.modeling.train - INFO - epoch: 29, train_loss: 18.69413341946072, val_metric: 0.3794639978901293\n",
      "100%|██████████| 45/45 [00:00<00:00, 373.81it/s]\n",
      "100%|██████████| 12/12 [00:00<00:00, 3561.03it/s]\n",
      "2024-11-06 10:53:03,779 - decision_learning.modeling.train - INFO - epoch: 30, train_loss: 18.69414363437229, val_metric: 0.3853496742520348\n",
      "2024-11-06 10:53:03,779 - decision_learning.modeling.train - INFO - epoch: 30, train_loss: 18.69414363437229, val_metric: 0.3853496742520348\n",
      "100%|██████████| 45/45 [00:00<00:00, 373.57it/s]\n",
      "100%|██████████| 12/12 [00:00<00:00, 3562.80it/s]\n",
      "2024-11-06 10:53:03,906 - decision_learning.modeling.train - INFO - epoch: 31, train_loss: 18.694162156846787, val_metric: 0.38011055634307506\n",
      "2024-11-06 10:53:03,906 - decision_learning.modeling.train - INFO - epoch: 31, train_loss: 18.694162156846787, val_metric: 0.38011055634307506\n",
      "100%|██████████| 45/45 [00:00<00:00, 374.19it/s]\n",
      "100%|██████████| 12/12 [00:00<00:00, 3239.26it/s]\n",
      "2024-11-06 10:53:04,034 - decision_learning.modeling.train - INFO - epoch: 32, train_loss: 18.694141260782878, val_metric: 0.37613335895167244\n",
      "2024-11-06 10:53:04,034 - decision_learning.modeling.train - INFO - epoch: 32, train_loss: 18.694141260782878, val_metric: 0.37613335895167244\n",
      "100%|██████████| 45/45 [00:00<00:00, 373.48it/s]\n",
      "100%|██████████| 12/12 [00:00<00:00, 3567.34it/s]\n",
      "2024-11-06 10:53:04,161 - decision_learning.modeling.train - INFO - epoch: 33, train_loss: 18.694155756632487, val_metric: 0.37718405128339083\n",
      "2024-11-06 10:53:04,161 - decision_learning.modeling.train - INFO - epoch: 33, train_loss: 18.694155756632487, val_metric: 0.37718405128339083\n",
      "100%|██████████| 45/45 [00:00<00:00, 374.25it/s]\n",
      "100%|██████████| 12/12 [00:00<00:00, 3577.49it/s]\n",
      "2024-11-06 10:53:04,288 - decision_learning.modeling.train - INFO - epoch: 34, train_loss: 18.694155248006187, val_metric: 0.37948746487274315\n",
      "2024-11-06 10:53:04,288 - decision_learning.modeling.train - INFO - epoch: 34, train_loss: 18.694155248006187, val_metric: 0.37948746487274315\n",
      "100%|██████████| 45/45 [00:00<00:00, 374.10it/s]\n",
      "100%|██████████| 12/12 [00:00<00:00, 3578.50it/s]\n",
      "2024-11-06 10:53:04,415 - decision_learning.modeling.train - INFO - epoch: 35, train_loss: 18.694138929578994, val_metric: 0.3717263812598932\n",
      "2024-11-06 10:53:04,415 - decision_learning.modeling.train - INFO - epoch: 35, train_loss: 18.694138929578994, val_metric: 0.3717263812598932\n",
      "100%|██████████| 45/45 [00:00<00:00, 374.44it/s]\n",
      "100%|██████████| 12/12 [00:00<00:00, 3567.09it/s]\n",
      "2024-11-06 10:53:04,542 - decision_learning.modeling.train - INFO - epoch: 36, train_loss: 18.694155968560114, val_metric: 0.3728461820814475\n",
      "2024-11-06 10:53:04,542 - decision_learning.modeling.train - INFO - epoch: 36, train_loss: 18.694155968560114, val_metric: 0.3728461820814475\n",
      "100%|██████████| 45/45 [00:00<00:00, 373.20it/s]\n",
      "100%|██████████| 12/12 [00:00<00:00, 3553.74it/s]\n",
      "2024-11-06 10:53:04,670 - decision_learning.modeling.train - INFO - epoch: 37, train_loss: 18.694154357910158, val_metric: 0.37716653974452885\n",
      "2024-11-06 10:53:04,670 - decision_learning.modeling.train - INFO - epoch: 37, train_loss: 18.694154357910158, val_metric: 0.37716653974452885\n",
      "100%|██████████| 45/45 [00:00<00:00, 372.45it/s]\n",
      "100%|██████████| 12/12 [00:00<00:00, 3565.07it/s]\n",
      "2024-11-06 10:53:04,797 - decision_learning.modeling.train - INFO - epoch: 38, train_loss: 18.69415028889974, val_metric: 0.37364033417018505\n",
      "2024-11-06 10:53:04,797 - decision_learning.modeling.train - INFO - epoch: 38, train_loss: 18.69415028889974, val_metric: 0.37364033417018505\n",
      "100%|██████████| 45/45 [00:00<00:00, 373.36it/s]\n",
      "100%|██████████| 12/12 [00:00<00:00, 3537.26it/s]\n",
      "2024-11-06 10:53:04,925 - decision_learning.modeling.train - INFO - epoch: 39, train_loss: 18.694140328301323, val_metric: 0.3723805170646765\n",
      "2024-11-06 10:53:04,925 - decision_learning.modeling.train - INFO - epoch: 39, train_loss: 18.694140328301323, val_metric: 0.3723805170646765\n",
      "100%|██████████| 45/45 [00:00<00:00, 373.74it/s]\n",
      "100%|██████████| 12/12 [00:00<00:00, 3537.76it/s]\n",
      "2024-11-06 10:53:05,052 - decision_learning.modeling.train - INFO - epoch: 40, train_loss: 18.694135030110676, val_metric: 0.36445612758145524\n",
      "2024-11-06 10:53:05,052 - decision_learning.modeling.train - INFO - epoch: 40, train_loss: 18.694135030110676, val_metric: 0.36445612758145524\n",
      "100%|██████████| 45/45 [00:00<00:00, 373.29it/s]\n",
      "100%|██████████| 12/12 [00:00<00:00, 3552.74it/s]\n",
      "2024-11-06 10:53:05,179 - decision_learning.modeling.train - INFO - epoch: 41, train_loss: 18.69414889017741, val_metric: 0.38090290912753016\n",
      "2024-11-06 10:53:05,179 - decision_learning.modeling.train - INFO - epoch: 41, train_loss: 18.69414889017741, val_metric: 0.38090290912753016\n",
      "100%|██████████| 45/45 [00:00<00:00, 373.35it/s]\n",
      "100%|██████████| 12/12 [00:00<00:00, 3567.09it/s]\n",
      "2024-11-06 10:53:05,307 - decision_learning.modeling.train - INFO - epoch: 42, train_loss: 18.694143719143337, val_metric: 0.38671691742590214\n",
      "2024-11-06 10:53:05,307 - decision_learning.modeling.train - INFO - epoch: 42, train_loss: 18.694143719143337, val_metric: 0.38671691742590214\n",
      "100%|██████████| 45/45 [00:00<00:00, 372.61it/s]\n",
      "100%|██████████| 12/12 [00:00<00:00, 3525.37it/s]\n",
      "2024-11-06 10:53:05,434 - decision_learning.modeling.train - INFO - epoch: 43, train_loss: 18.694148466322158, val_metric: 0.3714276460643723\n",
      "2024-11-06 10:53:05,434 - decision_learning.modeling.train - INFO - epoch: 43, train_loss: 18.694148466322158, val_metric: 0.3714276460643723\n",
      "100%|██████████| 45/45 [00:00<00:00, 373.59it/s]\n",
      "100%|██████████| 12/12 [00:00<00:00, 3562.29it/s]\n",
      "2024-11-06 10:53:05,561 - decision_learning.modeling.train - INFO - epoch: 44, train_loss: 18.694149907430013, val_metric: 0.369207380606722\n",
      "2024-11-06 10:53:05,561 - decision_learning.modeling.train - INFO - epoch: 44, train_loss: 18.694149907430013, val_metric: 0.369207380606722\n",
      "100%|██████████| 45/45 [00:00<00:00, 373.81it/s]\n",
      "100%|██████████| 12/12 [00:00<00:00, 3570.38it/s]\n",
      "2024-11-06 10:53:05,689 - decision_learning.modeling.train - INFO - epoch: 45, train_loss: 18.69414520263672, val_metric: 0.36438387664470345\n",
      "2024-11-06 10:53:05,689 - decision_learning.modeling.train - INFO - epoch: 45, train_loss: 18.69414520263672, val_metric: 0.36438387664470345\n",
      "100%|██████████| 45/45 [00:00<00:00, 373.33it/s]\n",
      "100%|██████████| 12/12 [00:00<00:00, 3397.80it/s]\n",
      "2024-11-06 10:53:05,816 - decision_learning.modeling.train - INFO - epoch: 46, train_loss: 18.69414579603407, val_metric: 0.3716590720743398\n",
      "2024-11-06 10:53:05,816 - decision_learning.modeling.train - INFO - epoch: 46, train_loss: 18.69414579603407, val_metric: 0.3716590720743398\n",
      "100%|██████████| 45/45 [00:00<00:00, 373.55it/s]\n",
      "100%|██████████| 12/12 [00:00<00:00, 3544.23it/s]\n",
      "2024-11-06 10:53:05,943 - decision_learning.modeling.train - INFO - epoch: 47, train_loss: 18.6941530863444, val_metric: 0.3800365314443546\n",
      "2024-11-06 10:53:05,943 - decision_learning.modeling.train - INFO - epoch: 47, train_loss: 18.6941530863444, val_metric: 0.3800365314443546\n",
      "100%|██████████| 45/45 [00:00<00:00, 371.84it/s]\n",
      "100%|██████████| 12/12 [00:00<00:00, 3539.25it/s]\n",
      "2024-11-06 10:53:06,071 - decision_learning.modeling.train - INFO - epoch: 48, train_loss: 18.694134140014647, val_metric: 0.38071248698135235\n",
      "2024-11-06 10:53:06,071 - decision_learning.modeling.train - INFO - epoch: 48, train_loss: 18.694134140014647, val_metric: 0.38071248698135235\n",
      "100%|██████████| 45/45 [00:00<00:00, 371.23it/s]\n",
      "100%|██████████| 12/12 [00:00<00:00, 3538.50it/s]\n",
      "2024-11-06 10:53:06,199 - decision_learning.modeling.train - INFO - epoch: 49, train_loss: 18.69413121541341, val_metric: 0.3777434068344204\n",
      "2024-11-06 10:53:06,199 - decision_learning.modeling.train - INFO - epoch: 49, train_loss: 18.69413121541341, val_metric: 0.3777434068344204\n",
      "100%|██████████| 45/45 [00:00<00:00, 370.59it/s]\n",
      "100%|██████████| 12/12 [00:00<00:00, 3568.86it/s]\n",
      "2024-11-06 10:53:06,327 - decision_learning.modeling.train - INFO - epoch: 50, train_loss: 18.694142278035482, val_metric: 0.3774701406643066\n",
      "2024-11-06 10:53:06,327 - decision_learning.modeling.train - INFO - epoch: 50, train_loss: 18.694142278035482, val_metric: 0.3774701406643066\n",
      "100%|██████████| 45/45 [00:00<00:00, 369.95it/s]\n",
      "100%|██████████| 12/12 [00:00<00:00, 3581.30it/s]\n",
      "2024-11-06 10:53:06,456 - decision_learning.modeling.train - INFO - epoch: 51, train_loss: 18.694113710191516, val_metric: 0.3806038698242432\n",
      "2024-11-06 10:53:06,456 - decision_learning.modeling.train - INFO - epoch: 51, train_loss: 18.694113710191516, val_metric: 0.3806038698242432\n",
      "100%|██████████| 45/45 [00:00<00:00, 372.76it/s]\n",
      "100%|██████████| 12/12 [00:00<00:00, 3555.00it/s]\n",
      "2024-11-06 10:53:06,584 - decision_learning.modeling.train - INFO - epoch: 52, train_loss: 18.694145414564346, val_metric: 0.37494880851826234\n",
      "2024-11-06 10:53:06,584 - decision_learning.modeling.train - INFO - epoch: 52, train_loss: 18.694145414564346, val_metric: 0.37494880851826234\n",
      "100%|██████████| 45/45 [00:00<00:00, 371.61it/s]\n",
      "100%|██████████| 12/12 [00:00<00:00, 3547.23it/s]\n",
      "2024-11-06 10:53:06,711 - decision_learning.modeling.train - INFO - epoch: 53, train_loss: 18.694152281019424, val_metric: 0.37735891324887216\n",
      "2024-11-06 10:53:06,711 - decision_learning.modeling.train - INFO - epoch: 53, train_loss: 18.694152281019424, val_metric: 0.37735891324887216\n",
      "100%|██████████| 45/45 [00:00<00:00, 373.01it/s]\n",
      "100%|██████████| 12/12 [00:00<00:00, 3565.07it/s]\n",
      "2024-11-06 10:53:06,839 - decision_learning.modeling.train - INFO - epoch: 54, train_loss: 18.69413833618164, val_metric: 0.3715769629775051\n",
      "2024-11-06 10:53:06,839 - decision_learning.modeling.train - INFO - epoch: 54, train_loss: 18.69413833618164, val_metric: 0.3715769629775051\n",
      "100%|██████████| 45/45 [00:00<00:00, 371.56it/s]\n",
      "100%|██████████| 12/12 [00:00<00:00, 3539.99it/s]\n",
      "2024-11-06 10:53:06,967 - decision_learning.modeling.train - INFO - epoch: 55, train_loss: 18.694149737887912, val_metric: 0.38866594409854566\n",
      "2024-11-06 10:53:06,967 - decision_learning.modeling.train - INFO - epoch: 55, train_loss: 18.694149737887912, val_metric: 0.38866594409854566\n",
      "100%|██████████| 45/45 [00:00<00:00, 371.76it/s]\n",
      "100%|██████████| 12/12 [00:00<00:00, 3410.00it/s]\n",
      "2024-11-06 10:53:07,095 - decision_learning.modeling.train - INFO - epoch: 56, train_loss: 18.694148423936632, val_metric: 0.3720873318358861\n",
      "2024-11-06 10:53:07,095 - decision_learning.modeling.train - INFO - epoch: 56, train_loss: 18.694148423936632, val_metric: 0.3720873318358861\n",
      "100%|██████████| 45/45 [00:00<00:00, 373.78it/s]\n",
      "100%|██████████| 12/12 [00:00<00:00, 3558.01it/s]\n",
      "2024-11-06 10:53:07,222 - decision_learning.modeling.train - INFO - epoch: 57, train_loss: 18.694149017333984, val_metric: 0.38043699068762077\n",
      "2024-11-06 10:53:07,222 - decision_learning.modeling.train - INFO - epoch: 57, train_loss: 18.694149017333984, val_metric: 0.38043699068762077\n",
      "100%|██████████| 45/45 [00:00<00:00, 372.08it/s]\n",
      "100%|██████████| 12/12 [00:00<00:00, 3358.80it/s]\n",
      "2024-11-06 10:53:07,350 - decision_learning.modeling.train - INFO - epoch: 58, train_loss: 18.694151306152342, val_metric: 0.3796537357938335\n",
      "2024-11-06 10:53:07,350 - decision_learning.modeling.train - INFO - epoch: 58, train_loss: 18.694151306152342, val_metric: 0.3796537357938335\n",
      "100%|██████████| 45/45 [00:00<00:00, 372.09it/s]\n",
      "100%|██████████| 12/12 [00:00<00:00, 3565.57it/s]\n",
      "2024-11-06 10:53:07,478 - decision_learning.modeling.train - INFO - epoch: 59, train_loss: 18.694148339165583, val_metric: 0.36904321309768023\n",
      "2024-11-06 10:53:07,478 - decision_learning.modeling.train - INFO - epoch: 59, train_loss: 18.694148339165583, val_metric: 0.36904321309768023\n",
      "100%|██████████| 45/45 [00:00<00:00, 373.86it/s]\n",
      "100%|██████████| 12/12 [00:00<00:00, 3474.98it/s]\n",
      "2024-11-06 10:53:07,605 - decision_learning.modeling.train - INFO - epoch: 60, train_loss: 18.694149441189236, val_metric: 0.37882790581279857\n",
      "2024-11-06 10:53:07,605 - decision_learning.modeling.train - INFO - epoch: 60, train_loss: 18.694149441189236, val_metric: 0.37882790581279857\n",
      "100%|██████████| 45/45 [00:00<00:00, 372.20it/s]\n",
      "100%|██████████| 12/12 [00:00<00:00, 3552.99it/s]\n",
      "2024-11-06 10:53:07,733 - decision_learning.modeling.train - INFO - epoch: 61, train_loss: 18.69412638346354, val_metric: 0.3744448512652823\n",
      "2024-11-06 10:53:07,733 - decision_learning.modeling.train - INFO - epoch: 61, train_loss: 18.69412638346354, val_metric: 0.3744448512652823\n",
      "100%|██████████| 45/45 [00:00<00:00, 372.53it/s]\n",
      "100%|██████████| 12/12 [00:00<00:00, 3548.23it/s]\n",
      "2024-11-06 10:53:07,860 - decision_learning.modeling.train - INFO - epoch: 62, train_loss: 18.69415520562066, val_metric: 0.37789687988702264\n",
      "2024-11-06 10:53:07,860 - decision_learning.modeling.train - INFO - epoch: 62, train_loss: 18.69415520562066, val_metric: 0.37789687988702264\n",
      "100%|██████████| 45/45 [00:00<00:00, 371.62it/s]\n",
      "100%|██████████| 12/12 [00:00<00:00, 3569.37it/s]\n",
      "2024-11-06 10:53:07,988 - decision_learning.modeling.train - INFO - epoch: 63, train_loss: 18.694131342569985, val_metric: 0.3752845941766142\n",
      "2024-11-06 10:53:07,988 - decision_learning.modeling.train - INFO - epoch: 63, train_loss: 18.694131342569985, val_metric: 0.3752845941766142\n",
      "100%|██████████| 45/45 [00:00<00:00, 371.01it/s]\n",
      "100%|██████████| 12/12 [00:00<00:00, 3550.48it/s]\n",
      "2024-11-06 10:53:08,117 - decision_learning.modeling.train - INFO - epoch: 64, train_loss: 18.69413948059082, val_metric: 0.37710660517230227\n",
      "2024-11-06 10:53:08,117 - decision_learning.modeling.train - INFO - epoch: 64, train_loss: 18.69413948059082, val_metric: 0.37710660517230227\n",
      "100%|██████████| 45/45 [00:00<00:00, 371.35it/s]\n",
      "100%|██████████| 12/12 [00:00<00:00, 3527.84it/s]\n",
      "2024-11-06 10:53:08,245 - decision_learning.modeling.train - INFO - epoch: 65, train_loss: 18.694141345553927, val_metric: 0.375627424998213\n",
      "2024-11-06 10:53:08,245 - decision_learning.modeling.train - INFO - epoch: 65, train_loss: 18.694141345553927, val_metric: 0.375627424998213\n",
      "100%|██████████| 45/45 [00:00<00:00, 371.69it/s]\n",
      "100%|██████████| 12/12 [00:00<00:00, 3567.09it/s]\n",
      "2024-11-06 10:53:08,372 - decision_learning.modeling.train - INFO - epoch: 66, train_loss: 18.694155120849608, val_metric: 0.3731477302738044\n",
      "2024-11-06 10:53:08,372 - decision_learning.modeling.train - INFO - epoch: 66, train_loss: 18.694155120849608, val_metric: 0.3731477302738044\n",
      "100%|██████████| 45/45 [00:00<00:00, 370.73it/s]\n",
      "100%|██████████| 12/12 [00:00<00:00, 3576.47it/s]\n",
      "2024-11-06 10:53:08,501 - decision_learning.modeling.train - INFO - epoch: 67, train_loss: 18.69415660434299, val_metric: 0.36757085000601336\n",
      "2024-11-06 10:53:08,501 - decision_learning.modeling.train - INFO - epoch: 67, train_loss: 18.69415660434299, val_metric: 0.36757085000601336\n",
      "100%|██████████| 45/45 [00:00<00:00, 371.40it/s]\n",
      "100%|██████████| 12/12 [00:00<00:00, 3566.84it/s]\n",
      "2024-11-06 10:53:08,629 - decision_learning.modeling.train - INFO - epoch: 68, train_loss: 18.694166522555882, val_metric: 0.3770695547094713\n",
      "2024-11-06 10:53:08,629 - decision_learning.modeling.train - INFO - epoch: 68, train_loss: 18.694166522555882, val_metric: 0.3770695547094713\n",
      "100%|██████████| 45/45 [00:00<00:00, 372.47it/s]\n",
      "100%|██████████| 12/12 [00:00<00:00, 3192.21it/s]\n",
      "2024-11-06 10:53:08,757 - decision_learning.modeling.train - INFO - epoch: 69, train_loss: 18.694160503811307, val_metric: 0.3735178801097204\n",
      "2024-11-06 10:53:08,757 - decision_learning.modeling.train - INFO - epoch: 69, train_loss: 18.694160503811307, val_metric: 0.3735178801097204\n",
      "100%|██████████| 45/45 [00:00<00:00, 373.01it/s]\n",
      "100%|██████████| 12/12 [00:00<00:00, 3547.98it/s]\n",
      "2024-11-06 10:53:08,884 - decision_learning.modeling.train - INFO - epoch: 70, train_loss: 18.694155968560114, val_metric: 0.3712276191812499\n",
      "2024-11-06 10:53:08,884 - decision_learning.modeling.train - INFO - epoch: 70, train_loss: 18.694155968560114, val_metric: 0.3712276191812499\n",
      "100%|██████████| 45/45 [00:00<00:00, 371.01it/s]\n",
      "100%|██████████| 12/12 [00:00<00:00, 3526.35it/s]\n",
      "2024-11-06 10:53:09,012 - decision_learning.modeling.train - INFO - epoch: 71, train_loss: 18.694144524468317, val_metric: 0.37859435104846867\n",
      "2024-11-06 10:53:09,012 - decision_learning.modeling.train - INFO - epoch: 71, train_loss: 18.694144524468317, val_metric: 0.37859435104846867\n",
      "100%|██████████| 45/45 [00:00<00:00, 369.46it/s]\n",
      "100%|██████████| 12/12 [00:00<00:00, 3493.31it/s]\n",
      "2024-11-06 10:53:09,141 - decision_learning.modeling.train - INFO - epoch: 72, train_loss: 18.694144778781467, val_metric: 0.36922907362736723\n",
      "2024-11-06 10:53:09,141 - decision_learning.modeling.train - INFO - epoch: 72, train_loss: 18.694144778781467, val_metric: 0.36922907362736723\n",
      "100%|██████████| 45/45 [00:00<00:00, 367.09it/s]\n",
      "100%|██████████| 12/12 [00:00<00:00, 3311.73it/s]\n",
      "2024-11-06 10:53:09,271 - decision_learning.modeling.train - INFO - epoch: 73, train_loss: 18.69414808485243, val_metric: 0.37974932700162994\n",
      "2024-11-06 10:53:09,271 - decision_learning.modeling.train - INFO - epoch: 73, train_loss: 18.69414808485243, val_metric: 0.37974932700162994\n",
      "100%|██████████| 45/45 [00:00<00:00, 369.20it/s]\n",
      "100%|██████████| 12/12 [00:00<00:00, 3533.78it/s]\n",
      "2024-11-06 10:53:09,399 - decision_learning.modeling.train - INFO - epoch: 74, train_loss: 18.694126680162217, val_metric: 0.3753703018820139\n",
      "2024-11-06 10:53:09,399 - decision_learning.modeling.train - INFO - epoch: 74, train_loss: 18.694126680162217, val_metric: 0.3753703018820139\n",
      "100%|██████████| 45/45 [00:00<00:00, 366.65it/s]\n",
      "100%|██████████| 12/12 [00:00<00:00, 3351.64it/s]\n",
      "2024-11-06 10:53:09,529 - decision_learning.modeling.train - INFO - epoch: 75, train_loss: 18.69413515726725, val_metric: 0.38079614195933115\n",
      "2024-11-06 10:53:09,529 - decision_learning.modeling.train - INFO - epoch: 75, train_loss: 18.69413515726725, val_metric: 0.38079614195933115\n",
      "100%|██████████| 45/45 [00:00<00:00, 363.97it/s]\n",
      "100%|██████████| 12/12 [00:00<00:00, 3491.86it/s]\n",
      "2024-11-06 10:53:09,660 - decision_learning.modeling.train - INFO - epoch: 76, train_loss: 18.694152874416776, val_metric: 0.38003762116384965\n",
      "2024-11-06 10:53:09,660 - decision_learning.modeling.train - INFO - epoch: 76, train_loss: 18.694152874416776, val_metric: 0.38003762116384965\n",
      "100%|██████████| 45/45 [00:00<00:00, 368.23it/s]\n",
      "100%|██████████| 12/12 [00:00<00:00, 3530.56it/s]\n",
      "2024-11-06 10:53:09,789 - decision_learning.modeling.train - INFO - epoch: 77, train_loss: 18.694145753648545, val_metric: 0.3833398006838666\n",
      "2024-11-06 10:53:09,789 - decision_learning.modeling.train - INFO - epoch: 77, train_loss: 18.694145753648545, val_metric: 0.3833398006838666\n",
      "100%|██████████| 45/45 [00:00<00:00, 368.62it/s]\n",
      "100%|██████████| 12/12 [00:00<00:00, 3527.59it/s]\n",
      "2024-11-06 10:53:09,918 - decision_learning.modeling.train - INFO - epoch: 78, train_loss: 18.694152111477322, val_metric: 0.3783362395820299\n",
      "2024-11-06 10:53:09,918 - decision_learning.modeling.train - INFO - epoch: 78, train_loss: 18.694152111477322, val_metric: 0.3783362395820299\n",
      "100%|██████████| 45/45 [00:00<00:00, 367.47it/s]\n",
      "100%|██████████| 12/12 [00:00<00:00, 3323.76it/s]\n",
      "2024-11-06 10:53:10,047 - decision_learning.modeling.train - INFO - epoch: 79, train_loss: 18.69414070977105, val_metric: 0.37060222156035877\n",
      "2024-11-06 10:53:10,047 - decision_learning.modeling.train - INFO - epoch: 79, train_loss: 18.69414070977105, val_metric: 0.37060222156035877\n",
      "100%|██████████| 45/45 [00:00<00:00, 368.01it/s]\n",
      "100%|██████████| 12/12 [00:00<00:00, 3545.98it/s]\n",
      "2024-11-06 10:53:10,177 - decision_learning.modeling.train - INFO - epoch: 80, train_loss: 18.694141133626303, val_metric: 0.372888148953163\n",
      "2024-11-06 10:53:10,177 - decision_learning.modeling.train - INFO - epoch: 80, train_loss: 18.694141133626303, val_metric: 0.372888148953163\n",
      "100%|██████████| 45/45 [00:00<00:00, 368.96it/s]\n",
      "100%|██████████| 12/12 [00:00<00:00, 3523.64it/s]\n",
      "2024-11-06 10:53:10,305 - decision_learning.modeling.train - INFO - epoch: 81, train_loss: 18.694159062703452, val_metric: 0.3723481042452778\n",
      "2024-11-06 10:53:10,305 - decision_learning.modeling.train - INFO - epoch: 81, train_loss: 18.694159062703452, val_metric: 0.3723481042452778\n",
      "100%|██████████| 45/45 [00:00<00:00, 370.13it/s]\n",
      "100%|██████████| 12/12 [00:00<00:00, 3550.73it/s]\n",
      "2024-11-06 10:53:10,434 - decision_learning.modeling.train - INFO - epoch: 82, train_loss: 18.694152620103623, val_metric: 0.37606184294202194\n",
      "2024-11-06 10:53:10,434 - decision_learning.modeling.train - INFO - epoch: 82, train_loss: 18.694152620103623, val_metric: 0.37606184294202194\n",
      "100%|██████████| 45/45 [00:00<00:00, 371.81it/s]\n",
      "100%|██████████| 12/12 [00:00<00:00, 3547.23it/s]\n",
      "2024-11-06 10:53:10,562 - decision_learning.modeling.train - INFO - epoch: 83, train_loss: 18.69414143032498, val_metric: 0.37596298257574035\n",
      "2024-11-06 10:53:10,562 - decision_learning.modeling.train - INFO - epoch: 83, train_loss: 18.69414143032498, val_metric: 0.37596298257574035\n",
      "100%|██████████| 45/45 [00:00<00:00, 372.12it/s]\n",
      "100%|██████████| 12/12 [00:00<00:00, 3541.99it/s]\n",
      "2024-11-06 10:53:10,689 - decision_learning.modeling.train - INFO - epoch: 84, train_loss: 18.694154993693033, val_metric: 0.3744372485711309\n",
      "2024-11-06 10:53:10,689 - decision_learning.modeling.train - INFO - epoch: 84, train_loss: 18.694154993693033, val_metric: 0.3744372485711309\n",
      "100%|██████████| 45/45 [00:00<00:00, 371.80it/s]\n",
      "100%|██████████| 12/12 [00:00<00:00, 3549.73it/s]\n",
      "2024-11-06 10:53:10,817 - decision_learning.modeling.train - INFO - epoch: 85, train_loss: 18.69415062798394, val_metric: 0.3751035993711841\n",
      "2024-11-06 10:53:10,817 - decision_learning.modeling.train - INFO - epoch: 85, train_loss: 18.69415062798394, val_metric: 0.3751035993711841\n",
      "100%|██████████| 45/45 [00:00<00:00, 371.63it/s]\n",
      "100%|██████████| 12/12 [00:00<00:00, 3531.30it/s]\n",
      "2024-11-06 10:53:10,945 - decision_learning.modeling.train - INFO - epoch: 86, train_loss: 18.694151475694444, val_metric: 0.37964514474944244\n",
      "2024-11-06 10:53:10,945 - decision_learning.modeling.train - INFO - epoch: 86, train_loss: 18.694151475694444, val_metric: 0.37964514474944244\n",
      "100%|██████████| 45/45 [00:00<00:00, 371.20it/s]\n",
      "100%|██████████| 12/12 [00:00<00:00, 3548.23it/s]\n",
      "2024-11-06 10:53:11,073 - decision_learning.modeling.train - INFO - epoch: 87, train_loss: 18.69415283203125, val_metric: 0.3760460293381871\n",
      "2024-11-06 10:53:11,073 - decision_learning.modeling.train - INFO - epoch: 87, train_loss: 18.69415283203125, val_metric: 0.3760460293381871\n",
      "100%|██████████| 45/45 [00:00<00:00, 372.01it/s]\n",
      "100%|██████████| 12/12 [00:00<00:00, 3360.60it/s]\n",
      "2024-11-06 10:53:11,201 - decision_learning.modeling.train - INFO - epoch: 88, train_loss: 18.694145923190646, val_metric: 0.387327819243278\n",
      "2024-11-06 10:53:11,201 - decision_learning.modeling.train - INFO - epoch: 88, train_loss: 18.694145923190646, val_metric: 0.387327819243278\n",
      "100%|██████████| 45/45 [00:00<00:00, 372.65it/s]\n",
      "100%|██████████| 12/12 [00:00<00:00, 3523.14it/s]\n",
      "2024-11-06 10:53:11,329 - decision_learning.modeling.train - INFO - epoch: 89, train_loss: 18.694159317016602, val_metric: 0.3723366241771093\n",
      "2024-11-06 10:53:11,329 - decision_learning.modeling.train - INFO - epoch: 89, train_loss: 18.694159317016602, val_metric: 0.3723366241771093\n",
      "100%|██████████| 45/45 [00:00<00:00, 371.77it/s]\n",
      "100%|██████████| 12/12 [00:00<00:00, 3564.06it/s]\n",
      "2024-11-06 10:53:11,457 - decision_learning.modeling.train - INFO - epoch: 90, train_loss: 18.694156180487738, val_metric: 0.3716496954182198\n",
      "2024-11-06 10:53:11,457 - decision_learning.modeling.train - INFO - epoch: 90, train_loss: 18.694156180487738, val_metric: 0.3716496954182198\n",
      "100%|██████████| 45/45 [00:00<00:00, 372.13it/s]\n",
      "100%|██████████| 12/12 [00:00<00:00, 3567.34it/s]\n",
      "2024-11-06 10:53:11,584 - decision_learning.modeling.train - INFO - epoch: 91, train_loss: 18.694150585598415, val_metric: 0.3786599369566811\n",
      "2024-11-06 10:53:11,584 - decision_learning.modeling.train - INFO - epoch: 91, train_loss: 18.694150585598415, val_metric: 0.3786599369566811\n",
      "100%|██████████| 45/45 [00:00<00:00, 370.80it/s]\n",
      "100%|██████████| 12/12 [00:00<00:00, 3516.74it/s]\n",
      "2024-11-06 10:53:11,713 - decision_learning.modeling.train - INFO - epoch: 92, train_loss: 18.6941650390625, val_metric: 0.3789355853042957\n",
      "2024-11-06 10:53:11,713 - decision_learning.modeling.train - INFO - epoch: 92, train_loss: 18.6941650390625, val_metric: 0.3789355853042957\n",
      "100%|██████████| 45/45 [00:00<00:00, 370.65it/s]\n",
      "100%|██████████| 12/12 [00:00<00:00, 3535.02it/s]\n",
      "2024-11-06 10:53:11,841 - decision_learning.modeling.train - INFO - epoch: 93, train_loss: 18.69413965013292, val_metric: 0.38205677001888255\n",
      "2024-11-06 10:53:11,841 - decision_learning.modeling.train - INFO - epoch: 93, train_loss: 18.69413965013292, val_metric: 0.38205677001888255\n",
      "100%|██████████| 45/45 [00:00<00:00, 371.27it/s]\n",
      "100%|██████████| 12/12 [00:00<00:00, 3555.00it/s]\n",
      "2024-11-06 10:53:11,969 - decision_learning.modeling.train - INFO - epoch: 94, train_loss: 18.694148974948458, val_metric: 0.3739687958998378\n",
      "2024-11-06 10:53:11,969 - decision_learning.modeling.train - INFO - epoch: 94, train_loss: 18.694148974948458, val_metric: 0.3739687958998378\n",
      "100%|██████████| 45/45 [00:00<00:00, 372.77it/s]\n",
      "100%|██████████| 12/12 [00:00<00:00, 3551.99it/s]\n",
      "2024-11-06 10:53:12,097 - decision_learning.modeling.train - INFO - epoch: 95, train_loss: 18.6941471947564, val_metric: 0.3782087677434254\n",
      "2024-11-06 10:53:12,097 - decision_learning.modeling.train - INFO - epoch: 95, train_loss: 18.6941471947564, val_metric: 0.3782087677434254\n",
      "100%|██████████| 45/45 [00:00<00:00, 373.32it/s]\n",
      "100%|██████████| 12/12 [00:00<00:00, 3571.39it/s]\n",
      "2024-11-06 10:53:12,224 - decision_learning.modeling.train - INFO - epoch: 96, train_loss: 18.694150331285265, val_metric: 0.38714233884829863\n",
      "2024-11-06 10:53:12,224 - decision_learning.modeling.train - INFO - epoch: 96, train_loss: 18.694150331285265, val_metric: 0.38714233884829863\n",
      "100%|██████████| 45/45 [00:00<00:00, 373.75it/s]\n",
      "100%|██████████| 12/12 [00:00<00:00, 3563.81it/s]\n",
      "2024-11-06 10:53:12,351 - decision_learning.modeling.train - INFO - epoch: 97, train_loss: 18.694155926174588, val_metric: 0.37296607656821446\n",
      "2024-11-06 10:53:12,351 - decision_learning.modeling.train - INFO - epoch: 97, train_loss: 18.694155926174588, val_metric: 0.37296607656821446\n",
      "100%|██████████| 45/45 [00:00<00:00, 374.01it/s]\n",
      "100%|██████████| 12/12 [00:00<00:00, 3570.38it/s]\n",
      "2024-11-06 10:53:12,478 - decision_learning.modeling.train - INFO - epoch: 98, train_loss: 18.694135030110676, val_metric: 0.38169708655858153\n",
      "2024-11-06 10:53:12,478 - decision_learning.modeling.train - INFO - epoch: 98, train_loss: 18.694135030110676, val_metric: 0.38169708655858153\n",
      "100%|██████████| 45/45 [00:00<00:00, 373.96it/s]\n",
      "100%|██████████| 12/12 [00:00<00:00, 3570.38it/s]\n",
      "2024-11-06 10:53:12,605 - decision_learning.modeling.train - INFO - epoch: 99, train_loss: 18.69414605034722, val_metric: 0.3827559137730419\n",
      "2024-11-06 10:53:12,605 - decision_learning.modeling.train - INFO - epoch: 99, train_loss: 18.69414605034722, val_metric: 0.3827559137730419\n"
     ]
    },
    {
     "name": "stdout",
     "output_type": "stream",
     "text": [
      "0.000625 C\n"
     ]
    },
    {
     "name": "stderr",
     "output_type": "stream",
     "text": [
      "100%|██████████| 45/45 [00:00<00:00, 370.33it/s]\n",
      "100%|██████████| 12/12 [00:00<00:00, 3523.39it/s]\n",
      "2024-11-06 10:53:12,740 - decision_learning.modeling.train - INFO - epoch: 0, train_loss: 21.136268191867405, val_metric: 0.5513897522055999\n",
      "2024-11-06 10:53:12,740 - decision_learning.modeling.train - INFO - epoch: 0, train_loss: 21.136268191867405, val_metric: 0.5513897522055999\n",
      "100%|██████████| 45/45 [00:00<00:00, 368.57it/s]\n",
      "100%|██████████| 12/12 [00:00<00:00, 3541.49it/s]\n",
      "2024-11-06 10:53:12,869 - decision_learning.modeling.train - INFO - epoch: 1, train_loss: 20.29042994181315, val_metric: 0.5520808371039588\n",
      "2024-11-06 10:53:12,869 - decision_learning.modeling.train - INFO - epoch: 1, train_loss: 20.29042994181315, val_metric: 0.5520808371039588\n",
      "100%|██████████| 45/45 [00:00<00:00, 369.13it/s]\n",
      "100%|██████████| 12/12 [00:00<00:00, 3535.77it/s]\n",
      "2024-11-06 10:53:12,998 - decision_learning.modeling.train - INFO - epoch: 2, train_loss: 20.282528347439236, val_metric: 0.5514522970361518\n",
      "2024-11-06 10:53:12,998 - decision_learning.modeling.train - INFO - epoch: 2, train_loss: 20.282528347439236, val_metric: 0.5514522970361518\n",
      "100%|██████████| 45/45 [00:00<00:00, 368.21it/s]\n",
      "100%|██████████| 12/12 [00:00<00:00, 3538.00it/s]\n",
      "2024-11-06 10:53:13,127 - decision_learning.modeling.train - INFO - epoch: 3, train_loss: 20.2828611585829, val_metric: 0.5583156545236088\n",
      "2024-11-06 10:53:13,127 - decision_learning.modeling.train - INFO - epoch: 3, train_loss: 20.2828611585829, val_metric: 0.5583156545236088\n",
      "100%|██████████| 45/45 [00:00<00:00, 368.60it/s]\n",
      "100%|██████████| 12/12 [00:00<00:00, 3536.51it/s]\n",
      "2024-11-06 10:53:13,256 - decision_learning.modeling.train - INFO - epoch: 4, train_loss: 20.282898245917426, val_metric: 0.5586145924576404\n",
      "2024-11-06 10:53:13,256 - decision_learning.modeling.train - INFO - epoch: 4, train_loss: 20.282898245917426, val_metric: 0.5586145924576404\n",
      "100%|██████████| 45/45 [00:00<00:00, 368.94it/s]\n",
      "100%|██████████| 12/12 [00:00<00:00, 3556.76it/s]\n",
      "2024-11-06 10:53:13,385 - decision_learning.modeling.train - INFO - epoch: 5, train_loss: 20.282888836330837, val_metric: 0.5548408685040421\n",
      "2024-11-06 10:53:13,385 - decision_learning.modeling.train - INFO - epoch: 5, train_loss: 20.282888836330837, val_metric: 0.5548408685040421\n",
      "100%|██████████| 45/45 [00:00<00:00, 369.10it/s]\n",
      "100%|██████████| 12/12 [00:00<00:00, 3540.99it/s]\n",
      "2024-11-06 10:53:13,514 - decision_learning.modeling.train - INFO - epoch: 6, train_loss: 20.28288311428494, val_metric: 0.5510718582208176\n",
      "2024-11-06 10:53:13,514 - decision_learning.modeling.train - INFO - epoch: 6, train_loss: 20.28288311428494, val_metric: 0.5510718582208176\n",
      "100%|██████████| 45/45 [00:00<00:00, 369.08it/s]\n",
      "100%|██████████| 12/12 [00:00<00:00, 3531.30it/s]\n",
      "2024-11-06 10:53:13,642 - decision_learning.modeling.train - INFO - epoch: 7, train_loss: 20.282891676161025, val_metric: 0.5429847710827571\n",
      "2024-11-06 10:53:13,642 - decision_learning.modeling.train - INFO - epoch: 7, train_loss: 20.282891676161025, val_metric: 0.5429847710827571\n",
      "100%|██████████| 45/45 [00:00<00:00, 370.70it/s]\n",
      "100%|██████████| 12/12 [00:00<00:00, 3524.38it/s]\n",
      "2024-11-06 10:53:13,771 - decision_learning.modeling.train - INFO - epoch: 8, train_loss: 20.2828918033176, val_metric: 0.5423618570086222\n",
      "2024-11-06 10:53:13,771 - decision_learning.modeling.train - INFO - epoch: 8, train_loss: 20.2828918033176, val_metric: 0.5423618570086222\n",
      "100%|██████████| 45/45 [00:00<00:00, 371.91it/s]\n",
      "100%|██████████| 12/12 [00:00<00:00, 3555.75it/s]\n",
      "2024-11-06 10:53:13,899 - decision_learning.modeling.train - INFO - epoch: 9, train_loss: 20.28289311726888, val_metric: 0.5577587825193353\n",
      "2024-11-06 10:53:13,899 - decision_learning.modeling.train - INFO - epoch: 9, train_loss: 20.28289311726888, val_metric: 0.5577587825193353\n",
      "100%|██████████| 45/45 [00:00<00:00, 373.35it/s]\n",
      "100%|██████████| 12/12 [00:00<00:00, 3557.51it/s]\n",
      "2024-11-06 10:53:14,026 - decision_learning.modeling.train - INFO - epoch: 10, train_loss: 20.282897567749025, val_metric: 0.5487113737407023\n",
      "2024-11-06 10:53:14,026 - decision_learning.modeling.train - INFO - epoch: 10, train_loss: 20.282897567749025, val_metric: 0.5487113737407023\n",
      "100%|██████████| 45/45 [00:00<00:00, 372.26it/s]\n",
      "100%|██████████| 12/12 [00:00<00:00, 3575.20it/s]\n",
      "2024-11-06 10:53:14,154 - decision_learning.modeling.train - INFO - epoch: 11, train_loss: 20.282885106404624, val_metric: 0.5606319926930184\n",
      "2024-11-06 10:53:14,154 - decision_learning.modeling.train - INFO - epoch: 11, train_loss: 20.282885106404624, val_metric: 0.5606319926930184\n",
      "100%|██████████| 45/45 [00:00<00:00, 373.72it/s]\n",
      "100%|██████████| 12/12 [00:00<00:00, 3356.11it/s]\n",
      "2024-11-06 10:53:14,281 - decision_learning.modeling.train - INFO - epoch: 12, train_loss: 20.28289303249783, val_metric: 0.550429177141889\n",
      "2024-11-06 10:53:14,281 - decision_learning.modeling.train - INFO - epoch: 12, train_loss: 20.28289303249783, val_metric: 0.550429177141889\n",
      "100%|██████████| 45/45 [00:00<00:00, 372.28it/s]\n",
      "100%|██████████| 12/12 [00:00<00:00, 3569.11it/s]\n",
      "2024-11-06 10:53:14,409 - decision_learning.modeling.train - INFO - epoch: 13, train_loss: 20.282898669772678, val_metric: 0.5515543758762907\n",
      "2024-11-06 10:53:14,409 - decision_learning.modeling.train - INFO - epoch: 13, train_loss: 20.282898669772678, val_metric: 0.5515543758762907\n",
      "100%|██████████| 45/45 [00:00<00:00, 371.74it/s]\n",
      "100%|██████████| 12/12 [00:00<00:00, 3553.24it/s]\n",
      "2024-11-06 10:53:14,537 - decision_learning.modeling.train - INFO - epoch: 14, train_loss: 20.282891591389973, val_metric: 0.5556409253519039\n",
      "2024-11-06 10:53:14,537 - decision_learning.modeling.train - INFO - epoch: 14, train_loss: 20.282891591389973, val_metric: 0.5556409253519039\n",
      "100%|██████████| 45/45 [00:00<00:00, 370.98it/s]\n",
      "100%|██████████| 12/12 [00:00<00:00, 3508.17it/s]\n",
      "2024-11-06 10:53:14,665 - decision_learning.modeling.train - INFO - epoch: 15, train_loss: 20.282878070407442, val_metric: 0.5455043039245189\n",
      "2024-11-06 10:53:14,665 - decision_learning.modeling.train - INFO - epoch: 15, train_loss: 20.282878070407442, val_metric: 0.5455043039245189\n",
      "100%|██████████| 45/45 [00:00<00:00, 368.07it/s]\n",
      "100%|██████████| 12/12 [00:00<00:00, 3514.53it/s]\n",
      "2024-11-06 10:53:14,794 - decision_learning.modeling.train - INFO - epoch: 16, train_loss: 20.282893074883354, val_metric: 0.5568861959692695\n",
      "2024-11-06 10:53:14,794 - decision_learning.modeling.train - INFO - epoch: 16, train_loss: 20.282893074883354, val_metric: 0.5568861959692695\n",
      "100%|██████████| 45/45 [00:00<00:00, 367.53it/s]\n",
      "100%|██████████| 12/12 [00:00<00:00, 3543.23it/s]\n",
      "2024-11-06 10:53:14,923 - decision_learning.modeling.train - INFO - epoch: 17, train_loss: 20.282898373074, val_metric: 0.5557369727213495\n",
      "2024-11-06 10:53:14,923 - decision_learning.modeling.train - INFO - epoch: 17, train_loss: 20.282898373074, val_metric: 0.5557369727213495\n",
      "100%|██████████| 45/45 [00:00<00:00, 367.45it/s]\n",
      "100%|██████████| 12/12 [00:00<00:00, 3549.98it/s]\n",
      "2024-11-06 10:53:15,053 - decision_learning.modeling.train - INFO - epoch: 18, train_loss: 20.282890828450522, val_metric: 0.5553748817412338\n",
      "2024-11-06 10:53:15,053 - decision_learning.modeling.train - INFO - epoch: 18, train_loss: 20.282890828450522, val_metric: 0.5553748817412338\n",
      "100%|██████████| 45/45 [00:00<00:00, 367.50it/s]\n",
      "100%|██████████| 12/12 [00:00<00:00, 3543.73it/s]\n",
      "2024-11-06 10:53:15,182 - decision_learning.modeling.train - INFO - epoch: 19, train_loss: 20.28289540608724, val_metric: 0.5499731168620625\n",
      "2024-11-06 10:53:15,182 - decision_learning.modeling.train - INFO - epoch: 19, train_loss: 20.28289540608724, val_metric: 0.5499731168620625\n",
      "100%|██████████| 45/45 [00:00<00:00, 367.55it/s]\n",
      "100%|██████████| 12/12 [00:00<00:00, 3565.32it/s]\n",
      "2024-11-06 10:53:15,311 - decision_learning.modeling.train - INFO - epoch: 20, train_loss: 20.28290629916721, val_metric: 0.5522850961534921\n",
      "2024-11-06 10:53:15,311 - decision_learning.modeling.train - INFO - epoch: 20, train_loss: 20.28290629916721, val_metric: 0.5522850961534921\n",
      "100%|██████████| 45/45 [00:00<00:00, 367.24it/s]\n",
      "100%|██████████| 12/12 [00:00<00:00, 3544.23it/s]\n",
      "2024-11-06 10:53:15,441 - decision_learning.modeling.train - INFO - epoch: 21, train_loss: 20.282890277438693, val_metric: 0.5552379318772539\n",
      "2024-11-06 10:53:15,441 - decision_learning.modeling.train - INFO - epoch: 21, train_loss: 20.282890277438693, val_metric: 0.5552379318772539\n",
      "100%|██████████| 45/45 [00:00<00:00, 366.81it/s]\n",
      "100%|██████████| 12/12 [00:00<00:00, 3549.23it/s]\n",
      "2024-11-06 10:53:15,570 - decision_learning.modeling.train - INFO - epoch: 22, train_loss: 20.282900110880533, val_metric: 0.5579104309253411\n",
      "2024-11-06 10:53:15,570 - decision_learning.modeling.train - INFO - epoch: 22, train_loss: 20.282900110880533, val_metric: 0.5579104309253411\n",
      "100%|██████████| 45/45 [00:00<00:00, 367.60it/s]\n",
      "100%|██████████| 12/12 [00:00<00:00, 3553.99it/s]\n",
      "2024-11-06 10:53:15,700 - decision_learning.modeling.train - INFO - epoch: 23, train_loss: 20.282891082763673, val_metric: 0.5514790585195646\n",
      "2024-11-06 10:53:15,700 - decision_learning.modeling.train - INFO - epoch: 23, train_loss: 20.282891082763673, val_metric: 0.5514790585195646\n",
      "100%|██████████| 45/45 [00:00<00:00, 367.21it/s]\n",
      "100%|██████████| 12/12 [00:00<00:00, 3557.01it/s]\n",
      "2024-11-06 10:53:15,829 - decision_learning.modeling.train - INFO - epoch: 24, train_loss: 20.28288353814019, val_metric: 0.5455848417978957\n",
      "2024-11-06 10:53:15,829 - decision_learning.modeling.train - INFO - epoch: 24, train_loss: 20.28288353814019, val_metric: 0.5455848417978957\n",
      "100%|██████████| 45/45 [00:00<00:00, 367.45it/s]\n",
      "100%|██████████| 12/12 [00:00<00:00, 3547.73it/s]\n",
      "2024-11-06 10:53:15,958 - decision_learning.modeling.train - INFO - epoch: 25, train_loss: 20.282883410983615, val_metric: 0.5488523783748963\n",
      "2024-11-06 10:53:15,958 - decision_learning.modeling.train - INFO - epoch: 25, train_loss: 20.282883410983615, val_metric: 0.5488523783748963\n",
      "100%|██████████| 45/45 [00:00<00:00, 368.16it/s]\n",
      "100%|██████████| 12/12 [00:00<00:00, 3538.50it/s]\n",
      "2024-11-06 10:53:16,088 - decision_learning.modeling.train - INFO - epoch: 26, train_loss: 20.28289595709907, val_metric: 0.5476012790253479\n",
      "2024-11-06 10:53:16,088 - decision_learning.modeling.train - INFO - epoch: 26, train_loss: 20.28289595709907, val_metric: 0.5476012790253479\n",
      "100%|██████████| 45/45 [00:00<00:00, 367.96it/s]\n",
      "100%|██████████| 12/12 [00:00<00:00, 3566.84it/s]\n",
      "2024-11-06 10:53:16,217 - decision_learning.modeling.train - INFO - epoch: 27, train_loss: 20.28289286295573, val_metric: 0.5440026197757416\n",
      "2024-11-06 10:53:16,217 - decision_learning.modeling.train - INFO - epoch: 27, train_loss: 20.28289286295573, val_metric: 0.5440026197757416\n",
      "100%|██████████| 45/45 [00:00<00:00, 367.64it/s]\n",
      "100%|██████████| 12/12 [00:00<00:00, 3532.54it/s]\n",
      "2024-11-06 10:53:16,346 - decision_learning.modeling.train - INFO - epoch: 28, train_loss: 20.282892100016277, val_metric: 0.5479797918248305\n",
      "2024-11-06 10:53:16,346 - decision_learning.modeling.train - INFO - epoch: 28, train_loss: 20.282892100016277, val_metric: 0.5479797918248305\n",
      "100%|██████████| 45/45 [00:00<00:00, 368.10it/s]\n",
      "100%|██████████| 12/12 [00:00<00:00, 3544.73it/s]\n",
      "2024-11-06 10:53:16,475 - decision_learning.modeling.train - INFO - epoch: 29, train_loss: 20.28289638095432, val_metric: 0.5578928433595377\n",
      "2024-11-06 10:53:16,475 - decision_learning.modeling.train - INFO - epoch: 29, train_loss: 20.28289638095432, val_metric: 0.5578928433595377\n",
      "100%|██████████| 45/45 [00:00<00:00, 367.09it/s]\n",
      "100%|██████████| 12/12 [00:00<00:00, 3552.99it/s]\n",
      "2024-11-06 10:53:16,605 - decision_learning.modeling.train - INFO - epoch: 30, train_loss: 20.282897567749025, val_metric: 0.5570736784070421\n",
      "2024-11-06 10:53:16,605 - decision_learning.modeling.train - INFO - epoch: 30, train_loss: 20.282897567749025, val_metric: 0.5570736784070421\n",
      "100%|██████████| 45/45 [00:00<00:00, 367.44it/s]\n",
      "100%|██████████| 12/12 [00:00<00:00, 3561.03it/s]\n",
      "2024-11-06 10:53:16,734 - decision_learning.modeling.train - INFO - epoch: 31, train_loss: 20.282899814181857, val_metric: 0.5585734365399677\n",
      "2024-11-06 10:53:16,734 - decision_learning.modeling.train - INFO - epoch: 31, train_loss: 20.282899814181857, val_metric: 0.5585734365399677\n",
      "100%|██████████| 45/45 [00:00<00:00, 367.03it/s]\n",
      "100%|██████████| 12/12 [00:00<00:00, 3544.98it/s]\n",
      "2024-11-06 10:53:16,863 - decision_learning.modeling.train - INFO - epoch: 32, train_loss: 20.28290172153049, val_metric: 0.5362674866922617\n",
      "2024-11-06 10:53:16,863 - decision_learning.modeling.train - INFO - epoch: 32, train_loss: 20.28290172153049, val_metric: 0.5362674866922617\n",
      "100%|██████████| 45/45 [00:00<00:00, 367.92it/s]\n",
      "100%|██████████| 12/12 [00:00<00:00, 3533.53it/s]\n",
      "2024-11-06 10:53:16,993 - decision_learning.modeling.train - INFO - epoch: 33, train_loss: 20.282891676161025, val_metric: 0.5504191922702368\n",
      "2024-11-06 10:53:16,993 - decision_learning.modeling.train - INFO - epoch: 33, train_loss: 20.282891676161025, val_metric: 0.5504191922702368\n",
      "100%|██████████| 45/45 [00:00<00:00, 367.20it/s]\n",
      "100%|██████████| 12/12 [00:00<00:00, 3549.23it/s]\n",
      "2024-11-06 10:53:17,122 - decision_learning.modeling.train - INFO - epoch: 34, train_loss: 20.282887522379557, val_metric: 0.5462987854633364\n",
      "2024-11-06 10:53:17,122 - decision_learning.modeling.train - INFO - epoch: 34, train_loss: 20.282887522379557, val_metric: 0.5462987854633364\n",
      "100%|██████████| 45/45 [00:00<00:00, 369.58it/s]\n",
      "100%|██████████| 12/12 [00:00<00:00, 3529.07it/s]\n",
      "2024-11-06 10:53:17,251 - decision_learning.modeling.train - INFO - epoch: 35, train_loss: 20.28289574517144, val_metric: 0.5537578900644942\n",
      "2024-11-06 10:53:17,251 - decision_learning.modeling.train - INFO - epoch: 35, train_loss: 20.28289574517144, val_metric: 0.5537578900644942\n",
      "100%|██████████| 45/45 [00:00<00:00, 370.14it/s]\n",
      "100%|██████████| 12/12 [00:00<00:00, 3504.26it/s]\n",
      "2024-11-06 10:53:17,379 - decision_learning.modeling.train - INFO - epoch: 36, train_loss: 20.282897398206924, val_metric: 0.56137644850432\n",
      "2024-11-06 10:53:17,379 - decision_learning.modeling.train - INFO - epoch: 36, train_loss: 20.282897398206924, val_metric: 0.56137644850432\n",
      "100%|██████████| 45/45 [00:00<00:00, 368.90it/s]\n",
      "100%|██████████| 12/12 [00:00<00:00, 3521.42it/s]\n",
      "2024-11-06 10:53:17,508 - decision_learning.modeling.train - INFO - epoch: 37, train_loss: 20.28288968404134, val_metric: 0.5583473324159062\n",
      "2024-11-06 10:53:17,508 - decision_learning.modeling.train - INFO - epoch: 37, train_loss: 20.28288968404134, val_metric: 0.5583473324159062\n",
      "100%|██████████| 45/45 [00:00<00:00, 369.43it/s]\n",
      "100%|██████████| 12/12 [00:00<00:00, 3548.73it/s]\n",
      "2024-11-06 10:53:17,637 - decision_learning.modeling.train - INFO - epoch: 38, train_loss: 20.282888158162436, val_metric: 0.5460312213138361\n",
      "2024-11-06 10:53:17,637 - decision_learning.modeling.train - INFO - epoch: 38, train_loss: 20.282888158162436, val_metric: 0.5460312213138361\n",
      "100%|██████████| 45/45 [00:00<00:00, 368.73it/s]\n",
      "100%|██████████| 12/12 [00:00<00:00, 3509.63it/s]\n",
      "2024-11-06 10:53:17,766 - decision_learning.modeling.train - INFO - epoch: 39, train_loss: 20.282893795437282, val_metric: 0.5531288431504104\n",
      "2024-11-06 10:53:17,766 - decision_learning.modeling.train - INFO - epoch: 39, train_loss: 20.282893795437282, val_metric: 0.5531288431504104\n",
      "100%|██████████| 45/45 [00:00<00:00, 368.06it/s]\n",
      "100%|██████████| 12/12 [00:00<00:00, 3563.55it/s]\n",
      "2024-11-06 10:53:17,895 - decision_learning.modeling.train - INFO - epoch: 40, train_loss: 20.282895109388562, val_metric: 0.5577372922372008\n",
      "2024-11-06 10:53:17,895 - decision_learning.modeling.train - INFO - epoch: 40, train_loss: 20.282895109388562, val_metric: 0.5577372922372008\n",
      "100%|██████████| 45/45 [00:00<00:00, 370.95it/s]\n",
      "100%|██████████| 12/12 [00:00<00:00, 3552.49it/s]\n",
      "2024-11-06 10:53:18,023 - decision_learning.modeling.train - INFO - epoch: 41, train_loss: 20.282900619506837, val_metric: 0.549882847540172\n",
      "2024-11-06 10:53:18,023 - decision_learning.modeling.train - INFO - epoch: 41, train_loss: 20.282900619506837, val_metric: 0.549882847540172\n",
      "100%|██████████| 45/45 [00:00<00:00, 370.27it/s]\n",
      "100%|██████████| 12/12 [00:00<00:00, 3545.73it/s]\n",
      "2024-11-06 10:53:18,151 - decision_learning.modeling.train - INFO - epoch: 42, train_loss: 20.282890870836045, val_metric: 0.5539322451836988\n",
      "2024-11-06 10:53:18,151 - decision_learning.modeling.train - INFO - epoch: 42, train_loss: 20.282890870836045, val_metric: 0.5539322451836988\n",
      "100%|██████████| 45/45 [00:00<00:00, 371.28it/s]\n",
      "100%|██████████| 12/12 [00:00<00:00, 3564.06it/s]\n",
      "2024-11-06 10:53:18,279 - decision_learning.modeling.train - INFO - epoch: 43, train_loss: 20.28290269639757, val_metric: 0.554537318268892\n",
      "2024-11-06 10:53:18,279 - decision_learning.modeling.train - INFO - epoch: 43, train_loss: 20.28290269639757, val_metric: 0.554537318268892\n",
      "100%|██████████| 45/45 [00:00<00:00, 370.32it/s]\n",
      "100%|██████████| 12/12 [00:00<00:00, 3578.50it/s]\n",
      "2024-11-06 10:53:18,407 - decision_learning.modeling.train - INFO - epoch: 44, train_loss: 20.282902908325195, val_metric: 0.5572761128099791\n",
      "2024-11-06 10:53:18,407 - decision_learning.modeling.train - INFO - epoch: 44, train_loss: 20.282902908325195, val_metric: 0.5572761128099791\n",
      "100%|██████████| 45/45 [00:00<00:00, 372.24it/s]\n",
      "100%|██████████| 12/12 [00:00<00:00, 3559.02it/s]\n",
      "2024-11-06 10:53:18,535 - decision_learning.modeling.train - INFO - epoch: 45, train_loss: 20.2828911251492, val_metric: 0.5481151704653524\n",
      "2024-11-06 10:53:18,535 - decision_learning.modeling.train - INFO - epoch: 45, train_loss: 20.2828911251492, val_metric: 0.5481151704653524\n",
      "100%|██████████| 45/45 [00:00<00:00, 370.05it/s]\n",
      "100%|██████████| 12/12 [00:00<00:00, 3554.75it/s]\n",
      "2024-11-06 10:53:18,664 - decision_learning.modeling.train - INFO - epoch: 46, train_loss: 20.28289031982422, val_metric: 0.5380266487496318\n",
      "2024-11-06 10:53:18,664 - decision_learning.modeling.train - INFO - epoch: 46, train_loss: 20.28289031982422, val_metric: 0.5380266487496318\n",
      "100%|██████████| 45/45 [00:00<00:00, 371.51it/s]\n",
      "100%|██████████| 12/12 [00:00<00:00, 3553.49it/s]\n",
      "2024-11-06 10:53:18,791 - decision_learning.modeling.train - INFO - epoch: 47, train_loss: 20.282897186279296, val_metric: 0.5563339362661145\n",
      "2024-11-06 10:53:18,791 - decision_learning.modeling.train - INFO - epoch: 47, train_loss: 20.282897186279296, val_metric: 0.5563339362661145\n",
      "100%|██████████| 45/45 [00:00<00:00, 371.44it/s]\n",
      "100%|██████████| 12/12 [00:00<00:00, 3540.24it/s]\n",
      "2024-11-06 10:53:18,919 - decision_learning.modeling.train - INFO - epoch: 48, train_loss: 20.282883877224393, val_metric: 0.5528181970673858\n",
      "2024-11-06 10:53:18,919 - decision_learning.modeling.train - INFO - epoch: 48, train_loss: 20.282883877224393, val_metric: 0.5528181970673858\n",
      "100%|██████████| 45/45 [00:00<00:00, 371.09it/s]\n",
      "100%|██████████| 12/12 [00:00<00:00, 3551.74it/s]\n",
      "2024-11-06 10:53:19,048 - decision_learning.modeling.train - INFO - epoch: 49, train_loss: 20.282897101508247, val_metric: 0.5515792620284795\n",
      "2024-11-06 10:53:19,048 - decision_learning.modeling.train - INFO - epoch: 49, train_loss: 20.282897101508247, val_metric: 0.5515792620284795\n",
      "100%|██████████| 45/45 [00:00<00:00, 367.36it/s]\n",
      "100%|██████████| 12/12 [00:00<00:00, 3523.88it/s]\n",
      "2024-11-06 10:53:19,177 - decision_learning.modeling.train - INFO - epoch: 50, train_loss: 20.282893074883354, val_metric: 0.5525035468987747\n",
      "2024-11-06 10:53:19,177 - decision_learning.modeling.train - INFO - epoch: 50, train_loss: 20.282893074883354, val_metric: 0.5525035468987747\n",
      "100%|██████████| 45/45 [00:00<00:00, 366.84it/s]\n",
      "100%|██████████| 12/12 [00:00<00:00, 3331.46it/s]\n",
      "2024-11-06 10:53:19,307 - decision_learning.modeling.train - INFO - epoch: 51, train_loss: 20.282886674669054, val_metric: 0.551637346611796\n",
      "2024-11-06 10:53:19,307 - decision_learning.modeling.train - INFO - epoch: 51, train_loss: 20.282886674669054, val_metric: 0.551637346611796\n",
      "100%|██████████| 45/45 [00:00<00:00, 367.71it/s]\n",
      "100%|██████████| 12/12 [00:00<00:00, 3510.86it/s]\n",
      "2024-11-06 10:53:19,436 - decision_learning.modeling.train - INFO - epoch: 52, train_loss: 20.282908376057943, val_metric: 0.5564676423139231\n",
      "2024-11-06 10:53:19,436 - decision_learning.modeling.train - INFO - epoch: 52, train_loss: 20.282908376057943, val_metric: 0.5564676423139231\n",
      "100%|██████████| 45/45 [00:00<00:00, 367.62it/s]\n",
      "100%|██████████| 12/12 [00:00<00:00, 3524.38it/s]\n",
      "2024-11-06 10:53:19,565 - decision_learning.modeling.train - INFO - epoch: 53, train_loss: 20.282900110880533, val_metric: 0.5508286226926016\n",
      "2024-11-06 10:53:19,565 - decision_learning.modeling.train - INFO - epoch: 53, train_loss: 20.282900110880533, val_metric: 0.5508286226926016\n",
      "100%|██████████| 45/45 [00:00<00:00, 361.89it/s]\n",
      "100%|██████████| 12/12 [00:00<00:00, 3503.77it/s]\n",
      "2024-11-06 10:53:19,697 - decision_learning.modeling.train - INFO - epoch: 54, train_loss: 20.28289320203993, val_metric: 0.5596888531412281\n",
      "2024-11-06 10:53:19,697 - decision_learning.modeling.train - INFO - epoch: 54, train_loss: 20.28289320203993, val_metric: 0.5596888531412281\n",
      "100%|██████████| 45/45 [00:00<00:00, 368.79it/s]\n",
      "100%|██████████| 12/12 [00:00<00:00, 3535.77it/s]\n",
      "2024-11-06 10:53:19,826 - decision_learning.modeling.train - INFO - epoch: 55, train_loss: 20.282901043362088, val_metric: 0.5519300503366235\n",
      "2024-11-06 10:53:19,826 - decision_learning.modeling.train - INFO - epoch: 55, train_loss: 20.282901043362088, val_metric: 0.5519300503366235\n",
      "100%|██████████| 45/45 [00:00<00:00, 367.49it/s]\n",
      "100%|██████████| 12/12 [00:00<00:00, 3543.98it/s]\n",
      "2024-11-06 10:53:19,955 - decision_learning.modeling.train - INFO - epoch: 56, train_loss: 20.28289091322157, val_metric: 0.5473330052910602\n",
      "2024-11-06 10:53:19,955 - decision_learning.modeling.train - INFO - epoch: 56, train_loss: 20.28289091322157, val_metric: 0.5473330052910602\n",
      "100%|██████████| 45/45 [00:00<00:00, 368.80it/s]\n",
      "100%|██████████| 12/12 [00:00<00:00, 3525.12it/s]\n",
      "2024-11-06 10:53:20,084 - decision_learning.modeling.train - INFO - epoch: 57, train_loss: 20.28288345336914, val_metric: 0.5457450559059788\n",
      "2024-11-06 10:53:20,084 - decision_learning.modeling.train - INFO - epoch: 57, train_loss: 20.28288345336914, val_metric: 0.5457450559059788\n",
      "100%|██████████| 45/45 [00:00<00:00, 368.10it/s]\n",
      "100%|██████████| 12/12 [00:00<00:00, 3489.92it/s]\n",
      "2024-11-06 10:53:20,213 - decision_learning.modeling.train - INFO - epoch: 58, train_loss: 20.28289968702528, val_metric: 0.5554915577541434\n",
      "2024-11-06 10:53:20,213 - decision_learning.modeling.train - INFO - epoch: 58, train_loss: 20.28289968702528, val_metric: 0.5554915577541434\n",
      "100%|██████████| 45/45 [00:00<00:00, 367.50it/s]\n",
      "100%|██████████| 12/12 [00:00<00:00, 3556.50it/s]\n",
      "2024-11-06 10:53:20,342 - decision_learning.modeling.train - INFO - epoch: 59, train_loss: 20.282904603746204, val_metric: 0.5493436137863297\n",
      "2024-11-06 10:53:20,342 - decision_learning.modeling.train - INFO - epoch: 59, train_loss: 20.282904603746204, val_metric: 0.5493436137863297\n",
      "100%|██████████| 45/45 [00:00<00:00, 367.65it/s]\n",
      "100%|██████████| 12/12 [00:00<00:00, 3377.28it/s]\n",
      "2024-11-06 10:53:20,472 - decision_learning.modeling.train - INFO - epoch: 60, train_loss: 20.28288959927029, val_metric: 0.5489831953989274\n",
      "2024-11-06 10:53:20,472 - decision_learning.modeling.train - INFO - epoch: 60, train_loss: 20.28288959927029, val_metric: 0.5489831953989274\n",
      "100%|██████████| 45/45 [00:00<00:00, 367.63it/s]\n",
      "100%|██████████| 12/12 [00:00<00:00, 3534.53it/s]\n",
      "2024-11-06 10:53:20,601 - decision_learning.modeling.train - INFO - epoch: 61, train_loss: 20.282891209920248, val_metric: 0.5553441161722347\n",
      "2024-11-06 10:53:20,601 - decision_learning.modeling.train - INFO - epoch: 61, train_loss: 20.282891209920248, val_metric: 0.5553441161722347\n",
      "100%|██████████| 45/45 [00:00<00:00, 366.87it/s]\n",
      "100%|██████████| 12/12 [00:00<00:00, 3523.14it/s]\n",
      "2024-11-06 10:53:20,731 - decision_learning.modeling.train - INFO - epoch: 62, train_loss: 20.282878324720595, val_metric: 0.5587754654658833\n",
      "2024-11-06 10:53:20,731 - decision_learning.modeling.train - INFO - epoch: 62, train_loss: 20.282878324720595, val_metric: 0.5587754654658833\n",
      "100%|██████████| 45/45 [00:00<00:00, 363.15it/s]\n",
      "100%|██████████| 12/12 [00:00<00:00, 3547.73it/s]\n",
      "2024-11-06 10:53:20,862 - decision_learning.modeling.train - INFO - epoch: 63, train_loss: 20.28288654751248, val_metric: 0.5530936680188034\n",
      "2024-11-06 10:53:20,862 - decision_learning.modeling.train - INFO - epoch: 63, train_loss: 20.28288654751248, val_metric: 0.5530936680188034\n",
      "100%|██████████| 45/45 [00:00<00:00, 367.00it/s]\n",
      "100%|██████████| 12/12 [00:00<00:00, 3551.49it/s]\n",
      "2024-11-06 10:53:20,991 - decision_learning.modeling.train - INFO - epoch: 64, train_loss: 20.282885784573025, val_metric: 0.5571555847653661\n",
      "2024-11-06 10:53:20,991 - decision_learning.modeling.train - INFO - epoch: 64, train_loss: 20.282885784573025, val_metric: 0.5571555847653661\n",
      "100%|██████████| 45/45 [00:00<00:00, 367.59it/s]\n",
      "100%|██████████| 12/12 [00:00<00:00, 3546.73it/s]\n",
      "2024-11-06 10:53:21,120 - decision_learning.modeling.train - INFO - epoch: 65, train_loss: 20.28289909362793, val_metric: 0.5488636303622403\n",
      "2024-11-06 10:53:21,120 - decision_learning.modeling.train - INFO - epoch: 65, train_loss: 20.28289909362793, val_metric: 0.5488636303622403\n",
      "100%|██████████| 45/45 [00:00<00:00, 367.82it/s]\n",
      "100%|██████████| 12/12 [00:00<00:00, 3568.10it/s]\n",
      "2024-11-06 10:53:21,249 - decision_learning.modeling.train - INFO - epoch: 66, train_loss: 20.282896084255643, val_metric: 0.5477039153963913\n",
      "2024-11-06 10:53:21,249 - decision_learning.modeling.train - INFO - epoch: 66, train_loss: 20.282896084255643, val_metric: 0.5477039153963913\n",
      "100%|██████████| 45/45 [00:00<00:00, 368.05it/s]\n",
      "100%|██████████| 12/12 [00:00<00:00, 3556.76it/s]\n",
      "2024-11-06 10:53:21,379 - decision_learning.modeling.train - INFO - epoch: 67, train_loss: 20.282898373074, val_metric: 0.5555997187496035\n",
      "2024-11-06 10:53:21,379 - decision_learning.modeling.train - INFO - epoch: 67, train_loss: 20.282898373074, val_metric: 0.5555997187496035\n",
      "100%|██████████| 45/45 [00:00<00:00, 367.80it/s]\n",
      "100%|██████████| 12/12 [00:00<00:00, 3548.73it/s]\n",
      "2024-11-06 10:53:21,508 - decision_learning.modeling.train - INFO - epoch: 68, train_loss: 20.282889217800566, val_metric: 0.5498781845544258\n",
      "2024-11-06 10:53:21,508 - decision_learning.modeling.train - INFO - epoch: 68, train_loss: 20.282889217800566, val_metric: 0.5498781845544258\n",
      "100%|██████████| 45/45 [00:00<00:00, 368.64it/s]\n",
      "100%|██████████| 12/12 [00:00<00:00, 3543.48it/s]\n",
      "2024-11-06 10:53:21,637 - decision_learning.modeling.train - INFO - epoch: 69, train_loss: 20.282889048258465, val_metric: 0.5522718674656688\n",
      "2024-11-06 10:53:21,637 - decision_learning.modeling.train - INFO - epoch: 69, train_loss: 20.282889048258465, val_metric: 0.5522718674656688\n",
      "100%|██████████| 45/45 [00:00<00:00, 369.98it/s]\n",
      "100%|██████████| 12/12 [00:00<00:00, 3558.52it/s]\n",
      "2024-11-06 10:53:21,765 - decision_learning.modeling.train - INFO - epoch: 70, train_loss: 20.282890828450522, val_metric: 0.5570906070726858\n",
      "2024-11-06 10:53:21,765 - decision_learning.modeling.train - INFO - epoch: 70, train_loss: 20.282890828450522, val_metric: 0.5570906070726858\n",
      "100%|██████████| 45/45 [00:00<00:00, 368.18it/s]\n",
      "100%|██████████| 12/12 [00:00<00:00, 3565.32it/s]\n",
      "2024-11-06 10:53:21,894 - decision_learning.modeling.train - INFO - epoch: 71, train_loss: 20.28290447658963, val_metric: 0.5521461695890328\n",
      "2024-11-06 10:53:21,894 - decision_learning.modeling.train - INFO - epoch: 71, train_loss: 20.28290447658963, val_metric: 0.5521461695890328\n",
      "100%|██████████| 45/45 [00:00<00:00, 368.81it/s]\n",
      "100%|██████████| 12/12 [00:00<00:00, 3545.48it/s]\n",
      "2024-11-06 10:53:22,023 - decision_learning.modeling.train - INFO - epoch: 72, train_loss: 20.282887776692707, val_metric: 0.5459858078874386\n",
      "2024-11-06 10:53:22,023 - decision_learning.modeling.train - INFO - epoch: 72, train_loss: 20.282887776692707, val_metric: 0.5459858078874386\n",
      "100%|██████████| 45/45 [00:00<00:00, 368.54it/s]\n",
      "100%|██████████| 12/12 [00:00<00:00, 3549.98it/s]\n",
      "2024-11-06 10:53:22,152 - decision_learning.modeling.train - INFO - epoch: 73, train_loss: 20.282887988620335, val_metric: 0.5529083143353932\n",
      "2024-11-06 10:53:22,152 - decision_learning.modeling.train - INFO - epoch: 73, train_loss: 20.282887988620335, val_metric: 0.5529083143353932\n",
      "100%|██████████| 45/45 [00:00<00:00, 367.66it/s]\n",
      "100%|██████████| 12/12 [00:00<00:00, 3572.15it/s]\n",
      "2024-11-06 10:53:22,282 - decision_learning.modeling.train - INFO - epoch: 74, train_loss: 20.282896126641166, val_metric: 0.547276289192691\n",
      "2024-11-06 10:53:22,282 - decision_learning.modeling.train - INFO - epoch: 74, train_loss: 20.282896126641166, val_metric: 0.547276289192691\n",
      "100%|██████████| 45/45 [00:00<00:00, 368.94it/s]\n",
      "100%|██████████| 12/12 [00:00<00:00, 3415.33it/s]\n",
      "2024-11-06 10:53:22,411 - decision_learning.modeling.train - INFO - epoch: 75, train_loss: 20.282890955607098, val_metric: 0.5478921074189514\n",
      "2024-11-06 10:53:22,411 - decision_learning.modeling.train - INFO - epoch: 75, train_loss: 20.282890955607098, val_metric: 0.5478921074189514\n",
      "100%|██████████| 45/45 [00:00<00:00, 368.82it/s]\n",
      "100%|██████████| 12/12 [00:00<00:00, 3561.03it/s]\n",
      "2024-11-06 10:53:22,539 - decision_learning.modeling.train - INFO - epoch: 76, train_loss: 20.28289917839898, val_metric: 0.553399955223848\n",
      "2024-11-06 10:53:22,539 - decision_learning.modeling.train - INFO - epoch: 76, train_loss: 20.28289917839898, val_metric: 0.553399955223848\n",
      "100%|██████████| 45/45 [00:00<00:00, 368.64it/s]\n",
      "100%|██████████| 12/12 [00:00<00:00, 3561.29it/s]\n",
      "2024-11-06 10:53:22,668 - decision_learning.modeling.train - INFO - epoch: 77, train_loss: 20.28289137946235, val_metric: 0.5476531293994602\n",
      "2024-11-06 10:53:22,668 - decision_learning.modeling.train - INFO - epoch: 77, train_loss: 20.28289137946235, val_metric: 0.5476531293994602\n",
      "100%|██████████| 45/45 [00:00<00:00, 371.11it/s]\n",
      "100%|██████████| 12/12 [00:00<00:00, 3554.49it/s]\n",
      "2024-11-06 10:53:22,796 - decision_learning.modeling.train - INFO - epoch: 78, train_loss: 20.282881588406035, val_metric: 0.5493989613997516\n",
      "2024-11-06 10:53:22,796 - decision_learning.modeling.train - INFO - epoch: 78, train_loss: 20.282881588406035, val_metric: 0.5493989613997516\n",
      "100%|██████████| 45/45 [00:00<00:00, 370.08it/s]\n",
      "100%|██████████| 12/12 [00:00<00:00, 3537.76it/s]\n",
      "2024-11-06 10:53:22,925 - decision_learning.modeling.train - INFO - epoch: 79, train_loss: 20.282896592881944, val_metric: 0.5530049192357432\n",
      "2024-11-06 10:53:22,925 - decision_learning.modeling.train - INFO - epoch: 79, train_loss: 20.282896592881944, val_metric: 0.5530049192357432\n",
      "100%|██████████| 45/45 [00:00<00:00, 371.13it/s]\n",
      "100%|██████████| 12/12 [00:00<00:00, 3543.48it/s]\n",
      "2024-11-06 10:53:23,053 - decision_learning.modeling.train - INFO - epoch: 80, train_loss: 20.28289777967665, val_metric: 0.5509072345501267\n",
      "2024-11-06 10:53:23,053 - decision_learning.modeling.train - INFO - epoch: 80, train_loss: 20.28289777967665, val_metric: 0.5509072345501267\n",
      "100%|██████████| 45/45 [00:00<00:00, 372.66it/s]\n",
      "100%|██████████| 12/12 [00:00<00:00, 3572.41it/s]\n",
      "2024-11-06 10:53:23,181 - decision_learning.modeling.train - INFO - epoch: 81, train_loss: 20.28289328681098, val_metric: 0.5573050030477542\n",
      "2024-11-06 10:53:23,181 - decision_learning.modeling.train - INFO - epoch: 81, train_loss: 20.28289328681098, val_metric: 0.5573050030477542\n",
      "100%|██████████| 45/45 [00:00<00:00, 372.35it/s]\n",
      "100%|██████████| 12/12 [00:00<00:00, 3572.91it/s]\n",
      "2024-11-06 10:53:23,308 - decision_learning.modeling.train - INFO - epoch: 82, train_loss: 20.282895702785915, val_metric: 0.5562010411723486\n",
      "2024-11-06 10:53:23,308 - decision_learning.modeling.train - INFO - epoch: 82, train_loss: 20.282895702785915, val_metric: 0.5562010411723486\n",
      "100%|██████████| 45/45 [00:00<00:00, 372.17it/s]\n",
      "100%|██████████| 12/12 [00:00<00:00, 3588.45it/s]\n",
      "2024-11-06 10:53:23,436 - decision_learning.modeling.train - INFO - epoch: 83, train_loss: 20.282896338568793, val_metric: 0.5490892783246527\n",
      "2024-11-06 10:53:23,436 - decision_learning.modeling.train - INFO - epoch: 83, train_loss: 20.282896338568793, val_metric: 0.5490892783246527\n",
      "100%|██████████| 45/45 [00:00<00:00, 372.17it/s]\n",
      "100%|██████████| 12/12 [00:00<00:00, 3561.03it/s]\n",
      "2024-11-06 10:53:23,564 - decision_learning.modeling.train - INFO - epoch: 84, train_loss: 20.282886377970378, val_metric: 0.5494801074886605\n",
      "2024-11-06 10:53:23,564 - decision_learning.modeling.train - INFO - epoch: 84, train_loss: 20.282886377970378, val_metric: 0.5494801074886605\n",
      "100%|██████████| 45/45 [00:00<00:00, 372.17it/s]\n",
      "100%|██████████| 12/12 [00:00<00:00, 3572.15it/s]\n",
      "2024-11-06 10:53:23,692 - decision_learning.modeling.train - INFO - epoch: 85, train_loss: 20.282901975843643, val_metric: 0.5549611431255166\n",
      "2024-11-06 10:53:23,692 - decision_learning.modeling.train - INFO - epoch: 85, train_loss: 20.282901975843643, val_metric: 0.5549611431255166\n",
      "100%|██████████| 45/45 [00:00<00:00, 372.68it/s]\n",
      "100%|██████████| 12/12 [00:00<00:00, 3603.61it/s]\n",
      "2024-11-06 10:53:23,819 - decision_learning.modeling.train - INFO - epoch: 86, train_loss: 20.282895533243813, val_metric: 0.5576981130200074\n",
      "2024-11-06 10:53:23,819 - decision_learning.modeling.train - INFO - epoch: 86, train_loss: 20.282895533243813, val_metric: 0.5576981130200074\n",
      "100%|██████████| 45/45 [00:00<00:00, 372.42it/s]\n",
      "100%|██████████| 12/12 [00:00<00:00, 3551.99it/s]\n",
      "2024-11-06 10:53:23,947 - decision_learning.modeling.train - INFO - epoch: 87, train_loss: 20.282886420355904, val_metric: 0.5496624707790378\n",
      "2024-11-06 10:53:23,947 - decision_learning.modeling.train - INFO - epoch: 87, train_loss: 20.282886420355904, val_metric: 0.5496624707790378\n",
      "100%|██████████| 45/45 [00:00<00:00, 372.40it/s]\n",
      "100%|██████████| 12/12 [00:00<00:00, 3573.17it/s]\n",
      "2024-11-06 10:53:24,075 - decision_learning.modeling.train - INFO - epoch: 88, train_loss: 20.282886377970378, val_metric: 0.5463038539261039\n",
      "2024-11-06 10:53:24,075 - decision_learning.modeling.train - INFO - epoch: 88, train_loss: 20.282886377970378, val_metric: 0.5463038539261039\n",
      "100%|██████████| 45/45 [00:00<00:00, 372.00it/s]\n",
      "100%|██████████| 12/12 [00:00<00:00, 3583.85it/s]\n",
      "2024-11-06 10:53:24,202 - decision_learning.modeling.train - INFO - epoch: 89, train_loss: 20.282886632283528, val_metric: 0.5617969788601457\n",
      "2024-11-06 10:53:24,202 - decision_learning.modeling.train - INFO - epoch: 89, train_loss: 20.282886632283528, val_metric: 0.5617969788601457\n",
      "100%|██████████| 45/45 [00:00<00:00, 372.30it/s]\n",
      "100%|██████████| 12/12 [00:00<00:00, 3565.07it/s]\n",
      "2024-11-06 10:53:24,330 - decision_learning.modeling.train - INFO - epoch: 90, train_loss: 20.28289638095432, val_metric: 0.5562141178062889\n",
      "2024-11-06 10:53:24,330 - decision_learning.modeling.train - INFO - epoch: 90, train_loss: 20.28289638095432, val_metric: 0.5562141178062889\n",
      "100%|██████████| 45/45 [00:00<00:00, 373.03it/s]\n",
      "100%|██████████| 12/12 [00:00<00:00, 3596.66it/s]\n",
      "2024-11-06 10:53:24,457 - decision_learning.modeling.train - INFO - epoch: 91, train_loss: 20.282889726426866, val_metric: 0.55063566631504\n",
      "2024-11-06 10:53:24,457 - decision_learning.modeling.train - INFO - epoch: 91, train_loss: 20.282889726426866, val_metric: 0.55063566631504\n",
      "100%|██████████| 45/45 [00:00<00:00, 374.08it/s]\n",
      "100%|██████████| 12/12 [00:00<00:00, 3572.91it/s]\n",
      "2024-11-06 10:53:24,584 - decision_learning.modeling.train - INFO - epoch: 92, train_loss: 20.28289362589518, val_metric: 0.5485893251572591\n",
      "2024-11-06 10:53:24,584 - decision_learning.modeling.train - INFO - epoch: 92, train_loss: 20.28289362589518, val_metric: 0.5485893251572591\n",
      "100%|██████████| 45/45 [00:00<00:00, 373.08it/s]\n",
      "100%|██████████| 12/12 [00:00<00:00, 3581.56it/s]\n",
      "2024-11-06 10:53:24,712 - decision_learning.modeling.train - INFO - epoch: 93, train_loss: 20.282886293199326, val_metric: 0.5480412722782012\n",
      "2024-11-06 10:53:24,712 - decision_learning.modeling.train - INFO - epoch: 93, train_loss: 20.282886293199326, val_metric: 0.5480412722782012\n",
      "100%|██████████| 45/45 [00:00<00:00, 370.84it/s]\n",
      "100%|██████████| 12/12 [00:00<00:00, 3550.48it/s]\n",
      "2024-11-06 10:53:24,840 - decision_learning.modeling.train - INFO - epoch: 94, train_loss: 20.282891082763673, val_metric: 0.5580237617528241\n",
      "2024-11-06 10:53:24,840 - decision_learning.modeling.train - INFO - epoch: 94, train_loss: 20.282891082763673, val_metric: 0.5580237617528241\n",
      "100%|██████████| 45/45 [00:00<00:00, 368.43it/s]\n",
      "100%|██████████| 12/12 [00:00<00:00, 3550.23it/s]\n",
      "2024-11-06 10:53:24,969 - decision_learning.modeling.train - INFO - epoch: 95, train_loss: 20.282895702785915, val_metric: 0.5539511505498219\n",
      "2024-11-06 10:53:24,969 - decision_learning.modeling.train - INFO - epoch: 95, train_loss: 20.282895702785915, val_metric: 0.5539511505498219\n",
      "100%|██████████| 45/45 [00:00<00:00, 368.58it/s]\n",
      "100%|██████████| 12/12 [00:00<00:00, 3564.06it/s]\n",
      "2024-11-06 10:53:25,098 - decision_learning.modeling.train - INFO - epoch: 96, train_loss: 20.28289320203993, val_metric: 0.5548038180412111\n",
      "2024-11-06 10:53:25,098 - decision_learning.modeling.train - INFO - epoch: 96, train_loss: 20.28289320203993, val_metric: 0.5548038180412111\n",
      "100%|██████████| 45/45 [00:00<00:00, 369.52it/s]\n",
      "100%|██████████| 12/12 [00:00<00:00, 3577.23it/s]\n",
      "2024-11-06 10:53:25,227 - decision_learning.modeling.train - INFO - epoch: 97, train_loss: 20.282896508110895, val_metric: 0.5582129167833101\n",
      "2024-11-06 10:53:25,227 - decision_learning.modeling.train - INFO - epoch: 97, train_loss: 20.282896508110895, val_metric: 0.5582129167833101\n",
      "100%|██████████| 45/45 [00:00<00:00, 369.23it/s]\n",
      "100%|██████████| 12/12 [00:00<00:00, 3576.47it/s]\n",
      "2024-11-06 10:53:25,355 - decision_learning.modeling.train - INFO - epoch: 98, train_loss: 20.282905451456706, val_metric: 0.5521476394432355\n",
      "2024-11-06 10:53:25,355 - decision_learning.modeling.train - INFO - epoch: 98, train_loss: 20.282905451456706, val_metric: 0.5521476394432355\n",
      "100%|██████████| 45/45 [00:00<00:00, 369.55it/s]\n",
      "100%|██████████| 12/12 [00:00<00:00, 3569.62it/s]\n",
      "2024-11-06 10:53:25,484 - decision_learning.modeling.train - INFO - epoch: 99, train_loss: 20.282900238037108, val_metric: 0.5605087783631387\n",
      "2024-11-06 10:53:25,484 - decision_learning.modeling.train - INFO - epoch: 99, train_loss: 20.282900238037108, val_metric: 0.5605087783631387\n"
     ]
    },
    {
     "ename": "NameError",
     "evalue": "name 'pd' is not defined",
     "output_type": "error",
     "traceback": [
      "\u001b[0;31m---------------------------------------------------------------------------\u001b[0m",
      "\u001b[0;31mNameError\u001b[0m                                 Traceback (most recent call last)",
      "Cell \u001b[0;32mIn[57], line 36\u001b[0m\n\u001b[1;32m     33\u001b[0m         PG_results\u001b[38;5;241m.\u001b[39mappend(cur_res)\n\u001b[1;32m     35\u001b[0m \u001b[38;5;66;03m# convert to pandas dataframe\u001b[39;00m\n\u001b[0;32m---> 36\u001b[0m PG_results \u001b[38;5;241m=\u001b[39m pd\u001b[38;5;241m.\u001b[39mDataFrame(PG_results)\n",
      "\u001b[0;31mNameError\u001b[0m: name 'pd' is not defined"
     ]
    }
   ],
   "source": [
    "# loop over PG loss params\n",
    "PG_results = []\n",
    "for h in h_arr:\n",
    "    for f in fin_diff_sch:\n",
    "        \n",
    "        print(h, f)\n",
    "        \n",
    "        # --- Need to instantiate new loss function and prediction model for each possible setting of PG loss ---   \n",
    "        # loss function\n",
    "        loss_fn = PG_Loss(optmodel=optmodel,\n",
    "                         h=h,\n",
    "                         finite_diff_type=f)\n",
    "        # Prediction Model\n",
    "        pred_model = LinearRegression(input_dim=train_dict['X'].shape[1],\n",
    "                         output_dim=train_dict['true_cost'].shape[1])\n",
    "        # ----------------------------------------------------------------------------------------------------------------\n",
    "        \n",
    "        metrics, trained_model = train(pred_model=pred_model,\n",
    "                        optmodel=optmodel,\n",
    "                        loss_fn=loss_fn,\n",
    "                        train_data_dict=train_data_dict,\n",
    "                        val_data_dict=val_data_dict,\n",
    "                        num_epochs=100,\n",
    "                        lr=0.1,\n",
    "                        scheduler_params={'step_size': 10, 'gamma': 0.1},\n",
    "                        minimization=True)\n",
    "        test_regret = calc_test_regret(pred_model=pred_model,\n",
    "                               test_data_dict=final_data_test,\n",
    "                               optmodel=optmodel)\n",
    "\n",
    "        # add current setting results to overall results\n",
    "        cur_res = {'h':h, 'finite_diff_sch': f, 'test_regret': test_regret}\n",
    "        PG_results.append(cur_res)\n",
    "\n",
    "# convert to pandas dataframe\n",
    "PG_results = pd.DataFrame(PG_results)\n"
   ]
  },
  {
   "cell_type": "code",
   "execution_count": 61,
   "id": "0259f425-2473-4bcc-bfe8-743addf70c0f",
   "metadata": {},
   "outputs": [
    {
     "data": {
      "text/html": [
       "<div>\n",
       "<style scoped>\n",
       "    .dataframe tbody tr th:only-of-type {\n",
       "        vertical-align: middle;\n",
       "    }\n",
       "\n",
       "    .dataframe tbody tr th {\n",
       "        vertical-align: top;\n",
       "    }\n",
       "\n",
       "    .dataframe thead th {\n",
       "        text-align: right;\n",
       "    }\n",
       "</style>\n",
       "<table border=\"1\" class=\"dataframe\">\n",
       "  <thead>\n",
       "    <tr style=\"text-align: right;\">\n",
       "      <th></th>\n",
       "      <th>h</th>\n",
       "      <th>finite_diff_sch</th>\n",
       "      <th>test_regret</th>\n",
       "    </tr>\n",
       "  </thead>\n",
       "  <tbody>\n",
       "    <tr>\n",
       "      <th>0</th>\n",
       "      <td>0.397635</td>\n",
       "      <td>B</td>\n",
       "      <td>0.766241</td>\n",
       "    </tr>\n",
       "    <tr>\n",
       "      <th>1</th>\n",
       "      <td>0.397635</td>\n",
       "      <td>F</td>\n",
       "      <td>0.703595</td>\n",
       "    </tr>\n",
       "    <tr>\n",
       "      <th>2</th>\n",
       "      <td>0.397635</td>\n",
       "      <td>C</td>\n",
       "      <td>0.760432</td>\n",
       "    </tr>\n",
       "    <tr>\n",
       "      <th>3</th>\n",
       "      <td>0.158114</td>\n",
       "      <td>B</td>\n",
       "      <td>0.742369</td>\n",
       "    </tr>\n",
       "    <tr>\n",
       "      <th>4</th>\n",
       "      <td>0.158114</td>\n",
       "      <td>F</td>\n",
       "      <td>0.732630</td>\n",
       "    </tr>\n",
       "    <tr>\n",
       "      <th>5</th>\n",
       "      <td>0.158114</td>\n",
       "      <td>C</td>\n",
       "      <td>0.732590</td>\n",
       "    </tr>\n",
       "    <tr>\n",
       "      <th>6</th>\n",
       "      <td>0.025000</td>\n",
       "      <td>B</td>\n",
       "      <td>0.715896</td>\n",
       "    </tr>\n",
       "    <tr>\n",
       "      <th>7</th>\n",
       "      <td>0.025000</td>\n",
       "      <td>F</td>\n",
       "      <td>0.711148</td>\n",
       "    </tr>\n",
       "    <tr>\n",
       "      <th>8</th>\n",
       "      <td>0.025000</td>\n",
       "      <td>C</td>\n",
       "      <td>0.703984</td>\n",
       "    </tr>\n",
       "    <tr>\n",
       "      <th>9</th>\n",
       "      <td>0.000625</td>\n",
       "      <td>B</td>\n",
       "      <td>0.572492</td>\n",
       "    </tr>\n",
       "    <tr>\n",
       "      <th>10</th>\n",
       "      <td>0.000625</td>\n",
       "      <td>F</td>\n",
       "      <td>0.379600</td>\n",
       "    </tr>\n",
       "    <tr>\n",
       "      <th>11</th>\n",
       "      <td>0.000625</td>\n",
       "      <td>C</td>\n",
       "      <td>0.508987</td>\n",
       "    </tr>\n",
       "  </tbody>\n",
       "</table>\n",
       "</div>"
      ],
      "text/plain": [
       "           h finite_diff_sch  test_regret\n",
       "0   0.397635               B     0.766241\n",
       "1   0.397635               F     0.703595\n",
       "2   0.397635               C     0.760432\n",
       "3   0.158114               B     0.742369\n",
       "4   0.158114               F     0.732630\n",
       "5   0.158114               C     0.732590\n",
       "6   0.025000               B     0.715896\n",
       "7   0.025000               F     0.711148\n",
       "8   0.025000               C     0.703984\n",
       "9   0.000625               B     0.572492\n",
       "10  0.000625               F     0.379600\n",
       "11  0.000625               C     0.508987"
      ]
     },
     "execution_count": 61,
     "metadata": {},
     "output_type": "execute_result"
    }
   ],
   "source": [
    "PG_results"
   ]
  }
 ],
 "metadata": {
  "kernelspec": {
   "display_name": "Python (pyepo_dsl)",
   "language": "python",
   "name": "pyepo_dsl"
  },
  "language_info": {
   "codemirror_mode": {
    "name": "ipython",
    "version": 3
   },
   "file_extension": ".py",
   "mimetype": "text/x-python",
   "name": "python",
   "nbconvert_exporter": "python",
   "pygments_lexer": "ipython3",
   "version": "3.11.7"
  }
 },
 "nbformat": 4,
 "nbformat_minor": 5
}
